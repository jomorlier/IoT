{
 "cells": [
  {
   "cell_type": "markdown",
   "metadata": {},
   "source": [
    "<font size='6'><b>Arduino by Jeremy Blum</b></font><br><br>\n",
    "\n",
    "<font size='5'><b>Wireless Communication with XBee</b></font>\n",
    "\n",
    "https://github.com/sciguy14/Arduino-Tutorial-Series/tree/master/09%20Wireless%20Communication\n",
    "\n",
    "http://www.exploringarduino.com/content/ch11/\n",
    "\n",
    "<table style=\"border-style: hidden; border-collapse: collapse;\" width = \"80%\"> \n",
    "    <tr style=\"border-style: hidden; border-collapse: collapse;\">\n",
    "        <td width = 60% style=\"border-style: hidden; border-collapse: collapse;\">\n",
    "\n",
    "        </td>\n",
    "        <td width = 20%>\n",
    "        by Seungchul Lee<br>http://isystems.unist.ac.kr/<br>UNIST\n",
    "        </td>\n",
    "    </tr>\n",
    "</table>\n",
    "\n",
    "Table of Contents\n",
    "<div id=\"toc\"></div>"
   ]
  },
  {
   "cell_type": "code",
   "execution_count": 1,
   "metadata": {
    "collapsed": false
   },
   "outputs": [
    {
     "data": {
      "text/html": [
       "<iframe src=\"https://www.youtube.com/embed/vKVNmA8C6m8\" \n",
       "width=\"560\" height=\"315\" frameborder=\"0\" allowfullscreen></iframe>"
      ],
      "text/plain": [
       "<IPython.core.display.HTML object>"
      ]
     },
     "metadata": {},
     "output_type": "display_data"
    }
   ],
   "source": [
    "%%html\n",
    "<iframe src=\"https://www.youtube.com/embed/vKVNmA8C6m8\" \n",
    "width=\"560\" height=\"315\" frameborder=\"0\" allowfullscreen></iframe>"
   ]
  },
  {
   "cell_type": "markdown",
   "metadata": {
    "collapsed": true
   },
   "source": [
    "__pot_arduino.ino__\n",
    "\n",
    "```c\n",
    "//Program by Jeremy Blum\n",
    "//www.jeremyblum.com\n",
    "//Send data from a POT over serial to the computer\n",
    "\n",
    "//Define Pins\n",
    "int potPin = 0;\n",
    "\n",
    "void setup() {\n",
    "  //Create Serial Object (9600 Baud)\n",
    "  Serial.begin(9600);\n",
    "}\n",
    "\n",
    "void loop() {\n",
    "  int val = map(analogRead(potPin), 0, 1023, 0, 9);\n",
    "  Serial.println(val);\n",
    "  delay(50);\n",
    "}\n",
    "```"
   ]
  },
  {
   "cell_type": "markdown",
   "metadata": {
    "collapsed": true
   },
   "source": [
    "__motor_arduino.ino__\n",
    "\n",
    "```c\n",
    "//Program by Jeremy Blum\n",
    "//www.jeremyblum.com\n",
    "//Controls a Servo Motor using the info from an IR Distance Sensor\n",
    "\n",
    "//Include Servo Library\n",
    "#include <Servo.h>\n",
    "\n",
    "//Define Pins\n",
    "int servoPin = 9;\n",
    "\n",
    "//Create Servo Object\n",
    "Servo jeremysServo;\n",
    "\n",
    "void setup() {\n",
    "  //Start Serial\n",
    "  Serial.begin(9600);\n",
    "\n",
    "  //Attaches the Servo to our object\n",
    "  jeremysServo.attach(servoPin);\n",
    "\n",
    "  delay(500);\n",
    "}\n",
    "\n",
    "void loop() {\n",
    "  while ( Serial.available() == 0);\n",
    "  int data = Serial.read() - '0';\n",
    "\n",
    "  int pos = map(data, 0, 9, 0, 180);\n",
    "  pos = constrain(pos, 0, 180);\n",
    "\n",
    "  //Turn the servo\n",
    "  Serial.println(pos);\n",
    "  jeremysServo.write(pos);\n",
    "  Serial.flush();\n",
    "}\n",
    "```"
   ]
  },
  {
   "cell_type": "code",
   "execution_count": 1,
   "metadata": {
    "collapsed": false
   },
   "outputs": [
    {
     "data": {
      "application/javascript": [
       "$.getScript('https://kmahelona.github.io/ipython_notebook_goodies/ipython_notebook_toc.js')"
      ],
      "text/plain": [
       "<IPython.core.display.Javascript object>"
      ]
     },
     "metadata": {},
     "output_type": "display_data"
    }
   ],
   "source": [
    "%%javascript\n",
    "$.getScript('https://kmahelona.github.io/ipython_notebook_goodies/ipython_notebook_toc.js')"
   ]
  }
 ],
 "metadata": {
  "kernelspec": {
   "display_name": "Python 2",
   "language": "python",
   "name": "python2"
  },
  "language_info": {
   "codemirror_mode": {
    "name": "ipython",
    "version": 2
   },
   "file_extension": ".py",
   "mimetype": "text/x-python",
   "name": "python",
   "nbconvert_exporter": "python",
   "pygments_lexer": "ipython2",
   "version": "2.7.11"
  }
 },
 "nbformat": 4,
 "nbformat_minor": 0
}

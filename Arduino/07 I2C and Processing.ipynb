{
 "cells": [
  {
   "cell_type": "markdown",
   "metadata": {},
   "source": [
    "<font size='6'><b>Arduino By Jeremy Blum</b></font><br><br>\n",
    "\n",
    "<font size='5'><b>I2C</b></font>\n",
    "\n",
    "https://github.com/sciguy14/Arduino-Tutorial-Series/tree/master/07%20I2C%20and%20Processing\n",
    "\n",
    "http://www.exploringarduino.com/content/ch8/\n",
    "\n",
    "<table style=\"border-style: hidden; border-collapse: collapse;\" width = \"80%\"> \n",
    "    <tr style=\"border-style: hidden; border-collapse: collapse;\">\n",
    "        <td width = 60% style=\"border-style: hidden; border-collapse: collapse;\">\n",
    "\n",
    "        </td>\n",
    "        <td width = 20%>\n",
    "        by Seungchul Lee<br>http://isystems.unist.ac.kr/<br>UNIST\n",
    "        </td>\n",
    "    </tr>\n",
    "</table>\n",
    "\n",
    "Table of Contents\n",
    "<div id=\"toc\"></div>"
   ]
  },
  {
   "cell_type": "code",
   "execution_count": 2,
   "metadata": {
    "collapsed": false
   },
   "outputs": [
    {
     "data": {
      "text/html": [
       "<iframe src=\"https://www.youtube.com/embed/GJX0BRUagCg\" \n",
       "width=\"560\" height=\"315\" frameborder=\"0\" allowfullscreen></iframe>"
      ],
      "text/plain": [
       "<IPython.core.display.HTML object>"
      ]
     },
     "metadata": {},
     "output_type": "display_data"
    }
   ],
   "source": [
    "%%html\n",
    "<iframe src=\"https://www.youtube.com/embed/GJX0BRUagCg\" \n",
    "width=\"560\" height=\"315\" frameborder=\"0\" allowfullscreen></iframe>"
   ]
  },
  {
   "cell_type": "markdown",
   "metadata": {
    "collapsed": true
   },
   "source": [
    "__read_temp.ino__\n",
    "\n",
    "```c\n",
    "//Program by Jeremy Blum\n",
    "//www.jeremyblum.com\n",
    "//Reads Temp in Celcius and Shows it on Computer\n",
    "\n",
    "//Include Wire I2C Library\n",
    "#include  <Wire.h>\n",
    "int temp_address = 72;\n",
    "\n",
    "void setup() {\n",
    "  //Create Serial Object (9600 Baud)\n",
    "  Serial.begin(9600);\n",
    "\n",
    "  //Create a Wire Object\n",
    "  Wire.begin();\n",
    "}\n",
    "\n",
    "void loop() {\n",
    "  //Send Request\n",
    "  Wire.beginTransmission(temp_address); //Start talking\n",
    "  Wire.send(0);                         //Ask for Register zero\n",
    "  Wire.endTransmission();               //Complete Transmission\n",
    "  Wire.requestFrom(temp_address, 1);    //Request 1 Byte\n",
    "  while (Wire.available() == 0);        //wait for response\n",
    "  int c = Wire.receive();               // Get the temp\n",
    "\n",
    "  //do some math...\n",
    "  int f = round(c * 9.0 / 5.0 + 32.0);\n",
    "\n",
    "  Serial.print(c);\n",
    "  Serial.print(\"C,\");\n",
    "  Serial.print(f);\n",
    "  Serial.print(\"F.\");\n",
    "\n",
    "  delay(500);\n",
    "}\n",
    "```"
   ]
  },
  {
   "cell_type": "markdown",
   "metadata": {
    "collapsed": true
   },
   "source": [
    "__display_temp.pde__\n",
    "\n",
    "font download: \n",
    "\n",
    "https://github.com/sciguy14/Arduino-Tutorial-Series/tree/master/07%20I2C%20and%20Processing/programs/arduino%20%2B%20processing/display_temp/data\n",
    "\n",
    "\n",
    "```java\n",
    "//Program by Jeremy Blum\n",
    "//www.jeremyblum.com\n",
    "//Give you the temperature\n",
    "\n",
    "import processing.serial.*;\n",
    "Serial port;\n",
    "String temp_c = \"\";\n",
    "String temp_f = \"\";\n",
    "String data = \"\";\n",
    "int index = 0;\n",
    "PFont font;\n",
    "\n",
    "void setup() {\n",
    "  size(400, 400);\n",
    "  port = new Serial(this, \"COM3\", 9600);\n",
    "  port.bufferUntil('.'); \n",
    "  font = loadFont(\"AgencyFB-Bold-200.vlw\");\n",
    "  textFont(font, 200);\n",
    "}\n",
    "\n",
    "void draw() {\n",
    "  background(0, 0, 0);\n",
    "  fill(46, 209, 2);\n",
    "  text(temp_c, 70, 175);\n",
    "  fill(0, 102, 153);\n",
    "  text(temp_f, 70, 370);\n",
    "}\n",
    "\n",
    "void serialEvent (Serial port) {\n",
    "  data = port.readStringUntil('.');\n",
    "  data = data.substring(0, data.length() - 1);\n",
    "\n",
    "  // look for the comma between Celcius and Farenheit\n",
    "  index = data.indexOf(\",\");\n",
    "  // fetch the C Temp\n",
    "  temp_c = data.substring(0, index);\n",
    "  // fetch the F Temp\n",
    "  temp_f = data.substring(index+1, data.length());\n",
    "}\n",
    "```"
   ]
  },
  {
   "cell_type": "code",
   "execution_count": 1,
   "metadata": {
    "collapsed": false
   },
   "outputs": [
    {
     "data": {
      "application/javascript": [
       "$.getScript('https://kmahelona.github.io/ipython_notebook_goodies/ipython_notebook_toc.js')"
      ],
      "text/plain": [
       "<IPython.core.display.Javascript object>"
      ]
     },
     "metadata": {},
     "output_type": "display_data"
    }
   ],
   "source": [
    "%%javascript\n",
    "$.getScript('https://kmahelona.github.io/ipython_notebook_goodies/ipython_notebook_toc.js')"
   ]
  }
 ],
 "metadata": {
  "kernelspec": {
   "display_name": "Python 2",
   "language": "python",
   "name": "python2"
  },
  "language_info": {
   "codemirror_mode": {
    "name": "ipython",
    "version": 2
   },
   "file_extension": ".py",
   "mimetype": "text/x-python",
   "name": "python",
   "nbconvert_exporter": "python",
   "pygments_lexer": "ipython2",
   "version": "2.7.11"
  }
 },
 "nbformat": 4,
 "nbformat_minor": 0
}

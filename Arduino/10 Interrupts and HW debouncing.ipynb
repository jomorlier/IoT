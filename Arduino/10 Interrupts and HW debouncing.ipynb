{
 "cells": [
  {
   "cell_type": "markdown",
   "metadata": {},
   "source": [
    "<font size='6'><b>Arduino by Jeremy Blum</b></font><br><br>\n",
    "\n",
    "<font size='5'><b>Interrupts and Hardware Debouncing </b></font>\n",
    "\n",
    "https://github.com/sciguy14/Arduino-Tutorial-Series/tree/master/10%20Interrupts%20and%20HW%20debouncing\n",
    "\n",
    "http://www.exploringarduino.com/content/ch12/\n",
    "\n",
    "<table style=\"border-style: hidden; border-collapse: collapse;\" width = \"80%\"> \n",
    "    <tr style=\"border-style: hidden; border-collapse: collapse;\">\n",
    "        <td width = 60% style=\"border-style: hidden; border-collapse: collapse;\">\n",
    "\n",
    "        </td>\n",
    "        <td width = 20%>\n",
    "        by Seungchul Lee<br>http://isystems.unist.ac.kr/<br>UNIST\n",
    "        </td>\n",
    "    </tr>\n",
    "</table>\n",
    "\n",
    "Table of Contents\n",
    "<div id=\"toc\"></div>"
   ]
  },
  {
   "cell_type": "code",
   "execution_count": 2,
   "metadata": {
    "collapsed": false
   },
   "outputs": [
    {
     "data": {
      "text/html": [
       "<iframe src=\"https://www.youtube.com/embed/CRJUdf5TTQQ\" \n",
       "width=\"560\" height=\"315\" frameborder=\"0\" allowfullscreen></iframe>"
      ],
      "text/plain": [
       "<IPython.core.display.HTML object>"
      ]
     },
     "metadata": {},
     "output_type": "display_data"
    }
   ],
   "source": [
    "%%html\n",
    "<iframe src=\"https://www.youtube.com/embed/CRJUdf5TTQQ\" \n",
    "width=\"560\" height=\"315\" frameborder=\"0\" allowfullscreen></iframe>"
   ]
  },
  {
   "cell_type": "markdown",
   "metadata": {
    "collapsed": true
   },
   "source": [
    "__hardware_debounced.ino__\n",
    "\n",
    "```c\n",
    "//Program by Jeremy Blum\n",
    "//www.jeremyblum.com\n",
    "//Debounced Switch Input via hardware\n",
    "\n",
    "int switchPin = 2;\n",
    "int ledPin = 13;\n",
    "boolean lastButton = LOW;\n",
    "boolean ledOn = false;\n",
    "\n",
    "void setup() {\n",
    "  pinMode(switchPin, INPUT);\n",
    "  pinMode(ledPin, OUTPUT);\n",
    "  Serial.begin(9600);\n",
    "}\n",
    "\n",
    "void loop() {\n",
    "  Serial.println(digitalRead(switchPin));\n",
    "  if (digitalRead(switchPin) == HIGH && lastButton == LOW) {\n",
    "    ledOn = !ledOn;\n",
    "    lastButton = HIGH;\n",
    "  }\n",
    "  else {\n",
    "    //lastButton = LOW;\n",
    "    lastButton = digitalRead(switchPin);\n",
    "  }\n",
    "  digitalWrite(ledPin, ledOn);\n",
    "}\n",
    "```"
   ]
  },
  {
   "cell_type": "markdown",
   "metadata": {
    "collapsed": true
   },
   "source": [
    "__interrupt.ino__\n",
    "\n",
    "```c\n",
    "//Program by Jeremy Blum\n",
    "//www.jeremyblum.com\n",
    "//Use hardware Debounced Switch to Control Interrupt\n",
    "\n",
    "//Setup the Button\n",
    "int buttonInt = 0; //AKA digital pin 2\n",
    "\n",
    "//Setup the LEDs\n",
    "int yellowLED = 11;\n",
    "int redLED = 10;\n",
    "int greenLED = 9;\n",
    "int nullLED = 6;\n",
    "volatile int selectedLED = greenLED;\n",
    "\n",
    "//Setup the Distance Sensor\n",
    "int distPin = 0;\n",
    "\n",
    "void setup() {\n",
    "  pinMode (redLED, OUTPUT);\n",
    "  pinMode (greenLED, OUTPUT);\n",
    "  pinMode (yellowLED, OUTPUT);\n",
    "  pinMode (nullLED, OUTPUT);\n",
    "  attachInterrupt(buttonInt, swap, RISING);\n",
    "}\n",
    "\n",
    "void swap() {\n",
    "  if (selectedLED == greenLED)\n",
    "    selectedLED = redLED;\n",
    "  else if (selectedLED == redLED)\n",
    "    selectedLED = yellowLED;\n",
    "  else if (selectedLED == yellowLED)\n",
    "    selectedLED = nullLED;\n",
    "  else\n",
    "    selectedLED = greenLED;\n",
    "}\n",
    "\n",
    "void loop() {\n",
    "  //Read Distance Sensor\n",
    "  int dist = analogRead(distPin);\n",
    "  int brightness = map(dist, 0, 1023, 0, 255);\n",
    "\n",
    "  //Control LED Brightness\n",
    "  analogWrite(selectedLED, brightness);\n",
    "}\n",
    "```"
   ]
  },
  {
   "cell_type": "code",
   "execution_count": 1,
   "metadata": {
    "collapsed": false
   },
   "outputs": [
    {
     "data": {
      "application/javascript": [
       "$.getScript('https://kmahelona.github.io/ipython_notebook_goodies/ipython_notebook_toc.js')"
      ],
      "text/plain": [
       "<IPython.core.display.Javascript object>"
      ]
     },
     "metadata": {},
     "output_type": "display_data"
    }
   ],
   "source": [
    "%%javascript\n",
    "$.getScript('https://kmahelona.github.io/ipython_notebook_goodies/ipython_notebook_toc.js')"
   ]
  }
 ],
 "metadata": {
  "kernelspec": {
   "display_name": "Python 2",
   "language": "python",
   "name": "python2"
  },
  "language_info": {
   "codemirror_mode": {
    "name": "ipython",
    "version": 2
   },
   "file_extension": ".py",
   "mimetype": "text/x-python",
   "name": "python",
   "nbconvert_exporter": "python",
   "pygments_lexer": "ipython2",
   "version": "2.7.11"
  }
 },
 "nbformat": 4,
 "nbformat_minor": 0
}

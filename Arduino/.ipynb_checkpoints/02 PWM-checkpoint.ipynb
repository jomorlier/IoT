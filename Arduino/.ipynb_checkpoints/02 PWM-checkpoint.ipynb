{
 "cells": [
  {
   "cell_type": "markdown",
   "metadata": {},
   "source": [
    "<font size='6'><b>Arduino By Jeremy Blum</b></font><br><br>\n",
    "\n",
    "<font size='4'><b>Button, PWM</b></font>\n",
    "\n",
    "\n",
    "https://github.com/sciguy14/Arduino-Tutorial-Series\n",
    "\n",
    "http://www.exploringarduino.com/content/\n",
    "\n",
    "<table style=\"border-style: hidden; border-collapse: collapse;\" width = \"80%\"> \n",
    "    <tr style=\"border-style: hidden; border-collapse: collapse;\">\n",
    "        <td width = 60% style=\"border-style: hidden; border-collapse: collapse;\">\n",
    "\n",
    "        </td>\n",
    "        <td width = 20%>\n",
    "        by Seungchul Lee<br>http://isystems.unist.ac.kr/<br>UNIST\n",
    "        </td>\n",
    "    </tr>\n",
    "</table>\n",
    "\n",
    "Table of Contents\n",
    "<div id=\"toc\"></div>"
   ]
  },
  {
   "cell_type": "code",
   "execution_count": 1,
   "metadata": {
    "collapsed": false
   },
   "outputs": [
    {
     "data": {
      "text/html": [
       "<iframe src=\"https://www.youtube.com/embed/_LCCGFSMOr4\" \n",
       "width=\"560\" height=\"315\" frameborder=\"0\" allowfullscreen></iframe>"
      ],
      "text/plain": [
       "<IPython.core.display.HTML object>"
      ]
     },
     "metadata": {},
     "output_type": "display_data"
    }
   ],
   "source": [
    "%%html\n",
    "<iframe src=\"https://www.youtube.com/embed/_LCCGFSMOr4\" \n",
    "width=\"560\" height=\"315\" frameborder=\"0\" allowfullscreen></iframe>"
   ]
  },
  {
   "cell_type": "markdown",
   "metadata": {},
   "source": [
    "```c\n",
    "/*\n",
    "Arduino Tutorials\n",
    "Episode 2\n",
    "Switch1 Program\n",
    "Written by: Jeremy Blum\n",
    "*/\n",
    "\n",
    "int switchPin = 8;\n",
    "int ledPin = 13;\n",
    "\n",
    "void setup() {\n",
    "  pinMode(switchPin, INPUT);\n",
    "  pinMode(ledPin, OUTPUT);\n",
    "}\n",
    "\n",
    "void loop() {\n",
    "  if (digitalRead(switchPin) == HIGH) {\n",
    "    digitalWrite(ledPin, HIGH);\n",
    "  }\n",
    "  else {\n",
    "    digitalWrite(ledPin, LOW);\n",
    "  }\n",
    "}\n",
    "```"
   ]
  },
  {
   "cell_type": "markdown",
   "metadata": {},
   "source": [
    "```c\n",
    "/*\n",
    "Arduino Tutorials\n",
    "Episode 2\n",
    "Switch Program\n",
    "Written by: Jeremy Blum\n",
    "*/\n",
    "\n",
    "int switchPin = 8;\n",
    "int ledPin = 13;\n",
    "boolean lastButton = LOW;\n",
    "boolean ledOn = false;\n",
    "\n",
    "void setup() {\n",
    "  pinMode(switchPin, INPUT);\n",
    "  pinMode(ledPin, OUTPUT);\n",
    "}\n",
    "\n",
    "void loop() {\n",
    "  if (digitalRead(switchPin) == HIGH && lastButton == LOW) {\n",
    "    ledOn = !ledOn;\n",
    "    lastButton = HIGH;\n",
    "  }\n",
    "  else {\n",
    "    //lastButton = LOW;\n",
    "    lastButton = digitalRead(switchPin);\n",
    "  }\n",
    "  digitalWrite(ledPin, ledOn);\n",
    "}\n",
    "```"
   ]
  },
  {
   "cell_type": "markdown",
   "metadata": {},
   "source": [
    "```c\n",
    "/*\n",
    "Arduino Tutorials\n",
    "Episode 2\n",
    "Switch3 Program (debounced)\n",
    "Written by: Jeremy Blum\n",
    "*/\n",
    "\n",
    "int switchPin = 8;\n",
    "int ledPin = 13;\n",
    "boolean lastButton = LOW;\n",
    "boolean currentButton = LOW;\n",
    "boolean ledOn = false;\n",
    "\n",
    "void setup() {\n",
    "  pinMode(switchPin, INPUT);\n",
    "  pinMode(ledPin, OUTPUT);\n",
    "}\n",
    "\n",
    "boolean debounce(boolean last) {\n",
    "  boolean current = digitalRead(switchPin);\n",
    "  if (last != current) {\n",
    "    delay(5);\n",
    "    current = digitalRead(switchPin);\n",
    "  }\n",
    "  return current;\n",
    "}\n",
    "\n",
    "void loop() {\n",
    "  currentButton = debounce(lastButton);\n",
    "  if (lastButton == LOW && currentButton == HIGH) {\n",
    "    ledOn = !ledOn;\n",
    "  }\n",
    "  lastButton = currentButton;\n",
    "\n",
    "  digitalWrite(ledPin, ledOn);\n",
    "}\n",
    "```"
   ]
  },
  {
   "cell_type": "markdown",
   "metadata": {
    "collapsed": true
   },
   "source": [
    "```c\n",
    "/*\n",
    "Arduino Tutorials\n",
    "Episode 3\n",
    "Switch4 Program (pwm)\n",
    "Written by: Jeremy Blum\n",
    "*/\n",
    "\n",
    "int switchPin = 8;\n",
    "int ledPin = 11;\n",
    "boolean lastButton = LOW;\n",
    "boolean currentButton = LOW;\n",
    "int ledLevel = 0;\n",
    "\n",
    "void setup() {\n",
    "  pinMode(switchPin, INPUT);\n",
    "  pinMode(ledPin, OUTPUT);\n",
    "}\n",
    "\n",
    "boolean debounce(boolean last) {\n",
    "  boolean current = digitalRead(switchPin);\n",
    "  if (last != current) {\n",
    "    delay(5);\n",
    "    current = digitalRead(switchPin);\n",
    "  }\n",
    "  return current;\n",
    "}\n",
    "\n",
    "void loop() {\n",
    "  currentButton = debounce(lastButton);\n",
    "  if (lastButton == LOW && currentButton == HIGH) {\n",
    "    ledLevel = ledLevel + 51;\n",
    "  }\n",
    "  lastButton = currentButton;\n",
    "\n",
    "  if (ledLevel > 255) ledLevel = 0;\n",
    "  analogWrite(ledPin, ledLevel);\n",
    "}\n",
    "```"
   ]
  },
  {
   "cell_type": "code",
   "execution_count": 2,
   "metadata": {
    "collapsed": false
   },
   "outputs": [
    {
     "data": {
      "application/javascript": [
       "$.getScript('https://kmahelona.github.io/ipython_notebook_goodies/ipython_notebook_toc.js')"
      ],
      "text/plain": [
       "<IPython.core.display.Javascript object>"
      ]
     },
     "metadata": {},
     "output_type": "display_data"
    }
   ],
   "source": [
    "%%javascript\n",
    "$.getScript('https://kmahelona.github.io/ipython_notebook_goodies/ipython_notebook_toc.js')"
   ]
  }
 ],
 "metadata": {
  "kernelspec": {
   "display_name": "Python 3",
   "language": "python",
   "name": "python3"
  },
  "language_info": {
   "codemirror_mode": {
    "name": "ipython",
    "version": 3
   },
   "file_extension": ".py",
   "mimetype": "text/x-python",
   "name": "python",
   "nbconvert_exporter": "python",
   "pygments_lexer": "ipython3",
   "version": "3.5.2"
  }
 },
 "nbformat": 4,
 "nbformat_minor": 0
}

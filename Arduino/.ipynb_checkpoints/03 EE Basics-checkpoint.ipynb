{
 "cells": [
  {
   "cell_type": "markdown",
   "metadata": {},
   "source": [
    "<font size='6'><b>Arduino by Jeremy Blum</b></font><br><br>\n",
    "\n",
    "<font size='5'><b>EE Basics</b></font>\n",
    "\n",
    "<table style=\"border-style: hidden; border-collapse: collapse;\" width = \"80%\"> \n",
    "    <tr style=\"border-style: hidden; border-collapse: collapse;\">\n",
    "        <td width = 60% style=\"border-style: hidden; border-collapse: collapse;\">\n",
    "\n",
    "        </td>\n",
    "        <td width = 20%>\n",
    "        by Seungchul Lee<br>http://isystems.unist.ac.kr/<br>UNIST\n",
    "        </td>\n",
    "    </tr>\n",
    "</table>\n",
    "\n",
    "Table of Contents\n",
    "<div id=\"toc\"></div>"
   ]
  },
  {
   "cell_type": "code",
   "execution_count": 1,
   "metadata": {
    "collapsed": false
   },
   "outputs": [
    {
     "data": {
      "text/html": [
       "<iframe width=\"560\" height=\"315\" \n",
       "src=\"https://www.youtube.com/embed/abWCy_aOSwY\" \n",
       "frameborder=\"0\" allowfullscreen></iframe>"
      ],
      "text/plain": [
       "<IPython.core.display.HTML object>"
      ]
     },
     "metadata": {},
     "output_type": "display_data"
    }
   ],
   "source": [
    "%%html\n",
    "<iframe width=\"560\" height=\"315\" \n",
    "src=\"https://www.youtube.com/embed/abWCy_aOSwY\" \n",
    "frameborder=\"0\" allowfullscreen></iframe>"
   ]
  },
  {
   "cell_type": "markdown",
   "metadata": {
    "collapsed": true
   },
   "source": [
    "__read_button.ino__\n",
    "\n",
    "```c\n",
    "//Reads the State of a Button and displays it on the screen\n",
    "\n",
    "int buttonPin = 8;\n",
    "\n",
    "void setup() {\n",
    "  //sets the button pin as an input\n",
    "  pinMode(buttonPin, INPUT);\n",
    "\n",
    "  //Allows us to listen to serial communications from the arduino\n",
    "  Serial.begin(9600);\n",
    "}\n",
    "\n",
    "void loop() {\n",
    "  // print the button state to a serial terminal\n",
    "  Serial.println(digitalRead(buttonPin));\n",
    "  delay(1000);\n",
    "  //wait one second, then print again.\n",
    "}\n",
    "```"
   ]
  },
  {
   "cell_type": "markdown",
   "metadata": {},
   "source": [
    "__read_pot.ino__\n",
    "```c\n",
    "//Reads the State of a Pot and displays on screen\n",
    "\n",
    "int potPin = 0;\n",
    "\n",
    "void setup() {\n",
    "  //sets the button pin as an input\n",
    "  pinMode(potPin, INPUT);\n",
    "\n",
    "  //Allows us to listen to serial communications from the arduino\n",
    "  Serial.begin(9600);\n",
    "}\n",
    "\n",
    "void loop() {\n",
    "  // print the button state to a serial terminal\n",
    "  Serial.println(analogRead(potPin));\n",
    "  delay(1000);\n",
    "  //wait one second, then print again.\n",
    "}\n",
    "```"
   ]
  },
  {
   "cell_type": "code",
   "execution_count": 2,
   "metadata": {
    "collapsed": false
   },
   "outputs": [
    {
     "data": {
      "application/javascript": [
       "$.getScript('https://kmahelona.github.io/ipython_notebook_goodies/ipython_notebook_toc.js')"
      ],
      "text/plain": [
       "<IPython.core.display.Javascript object>"
      ]
     },
     "metadata": {},
     "output_type": "display_data"
    }
   ],
   "source": [
    "%%javascript\n",
    "$.getScript('https://kmahelona.github.io/ipython_notebook_goodies/ipython_notebook_toc.js')"
   ]
  }
 ],
 "metadata": {
  "kernelspec": {
   "display_name": "Python 3",
   "language": "python",
   "name": "python3"
  },
  "language_info": {
   "codemirror_mode": {
    "name": "ipython",
    "version": 3
   },
   "file_extension": ".py",
   "mimetype": "text/x-python",
   "name": "python",
   "nbconvert_exporter": "python",
   "pygments_lexer": "ipython3",
   "version": "3.5.2"
  }
 },
 "nbformat": 4,
 "nbformat_minor": 0
}

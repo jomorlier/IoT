{
 "cells": [
  {
   "cell_type": "markdown",
   "metadata": {},
   "source": [
    "<font size='6'><b>Arduino by Jeremy Blum</b></font><br><br>\n",
    "\n",
    "<font size='5'><b>SPI Interface</b></font>\n",
    "\n",
    "http://www.exploringarduino.com/content/ch9/\n",
    "\n",
    "https://github.com/sciguy14/Arduino-Tutorial-Series/tree/master/08%20SPI%20Interfaces\n",
    "\n",
    "<table style=\"border-style: hidden; border-collapse: collapse;\" width = \"80%\"> \n",
    "    <tr style=\"border-style: hidden; border-collapse: collapse;\">\n",
    "        <td width = 60% style=\"border-style: hidden; border-collapse: collapse;\">\n",
    "\n",
    "        </td>\n",
    "        <td width = 20%>\n",
    "        by Seungchul Lee<br>http://isystems.unist.ac.kr/<br>UNIST\n",
    "        </td>\n",
    "    </tr>\n",
    "</table>\n",
    "\n",
    "Table of Contents\n",
    "<div id=\"toc\"></div>"
   ]
  },
  {
   "cell_type": "code",
   "execution_count": 1,
   "metadata": {
    "collapsed": false
   },
   "outputs": [
    {
     "data": {
      "text/html": [
       "<iframe src=\"https://www.youtube.com/embed/1nO2SSExEnQ?list=PLA567CE235D39FA84\" \n",
       "width=\"560\" height=\"315\" frameborder=\"0\" allowfullscreen></iframe>"
      ],
      "text/plain": [
       "<IPython.core.display.HTML object>"
      ]
     },
     "metadata": {},
     "output_type": "display_data"
    }
   ],
   "source": [
    "%%html\n",
    "<iframe src=\"https://www.youtube.com/embed/1nO2SSExEnQ?list=PLA567CE235D39FA84\" \n",
    "width=\"560\" height=\"315\" frameborder=\"0\" allowfullscreen></iframe>"
   ]
  },
  {
   "cell_type": "markdown",
   "metadata": {
    "collapsed": true
   },
   "source": [
    "__SPI_led.ino__\n",
    "\n",
    "```c\n",
    "//Program by Jeremy Blum\n",
    "//www.jeremyblum.com\n",
    "//Changes LED brightness using voltag input instead of PWM\n",
    "\n",
    "//Include SPI library\n",
    "#include <SPI.h>\n",
    "\n",
    "//When Using the SPI library, you only have to worry\n",
    "//about picking your slave select\n",
    "//By Default, 11 = MOSI, 12 = MISO, 13 = CLK\n",
    "int SS = 10;   //SPI Slave Select\n",
    "\n",
    "void setup() {\n",
    "  //Set Pin Direction\n",
    "  //Again, the other SPI pins are configured automatically\n",
    "  pinMode(SS, OUTPUT);\n",
    "\n",
    "  //Initialize SPI\n",
    "  SPI.begin();\n",
    "}\n",
    "\n",
    "//This will set 1 LED to the specififed level\n",
    "void setLed(int reg, int level) {\n",
    "  digitalWrite(SS, LOW);\n",
    "  SPI.transfer(reg);\n",
    "  SPI.transfer(level);\n",
    "  digitalWrite(SS, HIGH);\n",
    "}\n",
    "\n",
    "void loop() {\n",
    "  for (int i = 0; i <= 2; i++) {\n",
    "    for (int j = 50; j <= 255; j++) {\n",
    "      setLed(i, j);\n",
    "      delay(20);\n",
    "    }\n",
    "    delay(500);\n",
    "    for (int j = 255; j >= 50; j--) {\n",
    "      setLed(i, j);\n",
    "      delay(20);\n",
    "    }\n",
    "  }\n",
    "}\n",
    "```"
   ]
  },
  {
   "cell_type": "code",
   "execution_count": 2,
   "metadata": {
    "collapsed": false
   },
   "outputs": [
    {
     "data": {
      "application/javascript": [
       "$.getScript('https://kmahelona.github.io/ipython_notebook_goodies/ipython_notebook_toc.js')"
      ],
      "text/plain": [
       "<IPython.core.display.Javascript object>"
      ]
     },
     "metadata": {},
     "output_type": "display_data"
    }
   ],
   "source": [
    "%%javascript\n",
    "$.getScript('https://kmahelona.github.io/ipython_notebook_goodies/ipython_notebook_toc.js')"
   ]
  }
 ],
 "metadata": {
  "kernelspec": {
   "display_name": "Python 3",
   "language": "python",
   "name": "python3"
  },
  "language_info": {
   "codemirror_mode": {
    "name": "ipython",
    "version": 3
   },
   "file_extension": ".py",
   "mimetype": "text/x-python",
   "name": "python",
   "nbconvert_exporter": "python",
   "pygments_lexer": "ipython3",
   "version": "3.5.2"
  }
 },
 "nbformat": 4,
 "nbformat_minor": 0
}

{
 "cells": [
  {
   "cell_type": "markdown",
   "metadata": {},
   "source": [
    "<font size='6'><b>Arduino By Jeremy Blum</b></font><br><br>\n",
    "\n",
    "<font size='5'><b>Serial Communication</b></font>\n",
    "\n",
    "http://www.exploringarduino.com/content/ch6/\n",
    "\n",
    "https://github.com/sciguy14/Arduino-Tutorial-Series/tree/master/06%20Serial%20Comm%20and%20Processing\n",
    "\n",
    "<table style=\"border-style: hidden; border-collapse: collapse;\" width = \"80%\"> \n",
    "    <tr style=\"border-style: hidden; border-collapse: collapse;\">\n",
    "        <td width = 60% style=\"border-style: hidden; border-collapse: collapse;\">\n",
    "\n",
    "        </td>\n",
    "        <td width = 20%>\n",
    "        by Seungchul Lee<br>http://isystems.unist.ac.kr/<br>UNIST\n",
    "        </td>\n",
    "    </tr>\n",
    "</table>\n",
    "\n",
    "Table of Contents\n",
    "<div id=\"toc\"></div>"
   ]
  },
  {
   "cell_type": "code",
   "execution_count": 1,
   "metadata": {
    "collapsed": false
   },
   "outputs": [
    {
     "data": {
      "text/html": [
       "<iframe src=\"https://www.youtube.com/embed/g0pSfyXOXj8?list=PLA567CE235D39FA84\" \n",
       "width=\"560\" height=\"315\" frameborder=\"0\" allowfullscreen></iframe>"
      ],
      "text/plain": [
       "<IPython.core.display.HTML object>"
      ]
     },
     "metadata": {},
     "output_type": "display_data"
    }
   ],
   "source": [
    "%%html\n",
    "<iframe src=\"https://www.youtube.com/embed/g0pSfyXOXj8?list=PLA567CE235D39FA84\" \n",
    "width=\"560\" height=\"315\" frameborder=\"0\" allowfullscreen></iframe>"
   ]
  },
  {
   "cell_type": "markdown",
   "metadata": {
    "collapsed": true
   },
   "source": [
    "__keyboard_control.ino__\n",
    "\n",
    "```c\n",
    "//Program by Jeremy Blum\n",
    "//www.jeremyblum.com\n",
    "//Uses commands from computer to control arduino\n",
    "\n",
    "int ledPin = 13;\n",
    "\n",
    "void setup() {\n",
    "  //Create Serial Object\n",
    "  Serial.begin(9600);\n",
    "\n",
    "  pinMode(ledPin, OUTPUT);\n",
    "}\n",
    "\n",
    "void loop() {\n",
    "  //Have the arduino wait to receive input\n",
    "  while (Serial.available() == 0);\n",
    "\n",
    "  //Read the Input\n",
    "  int val = Serial.read() - '0';\n",
    "\n",
    "  if (val == 1) {\n",
    "    Serial.println(\"Led is On\");\n",
    "    digitalWrite(ledPin, HIGH);\n",
    "  }\n",
    "  else if (val == 0) {\n",
    "    Serial.println(\"Led is Off\");\n",
    "    digitalWrite(ledPin, LOW);\n",
    "  }\n",
    "  else {\n",
    "    Serial.println(\"Invalid!\");\n",
    "  }\n",
    "  Serial.flush();\n",
    "}\n",
    "```"
   ]
  },
  {
   "cell_type": "markdown",
   "metadata": {
    "collapsed": true
   },
   "source": [
    "__read_pot_and_send.ino__\n",
    "\n",
    "```c\n",
    "//Program by Jeremy Blum\n",
    "//www.jeremyblum.com\n",
    "//Send data from a POT over serial to the computer\n",
    "\n",
    "//Define Pins\n",
    "int potPin = 0;\n",
    "\n",
    "void setup() {\n",
    "  //Create Serial Object (9600 Baud)\n",
    "  Serial.begin(9600);\n",
    "}\n",
    "\n",
    "void loop() {\n",
    "  int val = map(analogRead(potPin), 0, 1023, 0, 255);\n",
    "  Serial.println(val);\n",
    "  delay(50);\n",
    "}\n",
    "```"
   ]
  },
  {
   "cell_type": "markdown",
   "metadata": {
    "collapsed": true
   },
   "source": [
    "__process_input.pde__\n",
    "\n",
    "```c\n",
    "//Program by Jeremy Blum\n",
    "//www.jeremyblum.com\n",
    "//Uses pot data from arduino to draw stuff\n",
    "\n",
    "import processing.serial.*;\n",
    "Serial port;\n",
    "float brightness = 0;\n",
    "\n",
    "void setup() {\n",
    "  size(500, 500);\n",
    "  port = new Serial(this, \"COM3\", 9600);\n",
    "  port.bufferUntil('\\n');\n",
    "}\n",
    "\n",
    "void draw() {\n",
    "  background(0, 0, brightness);\n",
    "}\n",
    "\n",
    "void serialEvent (Serial port) {\n",
    "  brightness = float(port.readStringUntil('\\n'));\n",
    "}\n",
    "```"
   ]
  },
  {
   "cell_type": "markdown",
   "metadata": {},
   "source": [
    "# By Paul McWhorter (a.k.a. toptechboy)\n",
    "\n",
    "LESSON 6: Reading Data from Arduino Serial Monitor \n",
    "\n",
    "from http://www.toptechboy.com/arduino/arduino-lesson-6-reading-from-the-serial-port/"
   ]
  },
  {
   "cell_type": "code",
   "execution_count": 2,
   "metadata": {
    "collapsed": false
   },
   "outputs": [
    {
     "data": {
      "text/html": [
       "<iframe width=\"560\" height=\"315\" \n",
       "src=\"https://www.youtube.com/embed/-3Xg8x2ibeY\" \n",
       "frameborder=\"0\" allowfullscreen></iframe>"
      ],
      "text/plain": [
       "<IPython.core.display.HTML object>"
      ]
     },
     "metadata": {},
     "output_type": "display_data"
    }
   ],
   "source": [
    "%%html\n",
    "<iframe width=\"560\" height=\"315\" \n",
    "src=\"https://www.youtube.com/embed/-3Xg8x2ibeY\" \n",
    "frameborder=\"0\" allowfullscreen></iframe>"
   ]
  },
  {
   "cell_type": "markdown",
   "metadata": {},
   "source": [
    "<img src=\"./image_files/two-diode-schematic.jpg\" width = 500 style='border:1px solid #000000'>\n",
    "\n",
    "```c\n",
    "int redLEDPin=9; //Declare redLEDPin an int, and set to pin 9 \n",
    "int yellowLEDPin=10; //Declare yellowLEDPin an int, and set to pin 10 \n",
    "int redOnTime=250; //Declare redOnTime an int, and set to 250 mseconds \n",
    "int redOffTime=250; //Declare redOffTime an int, and set to 250 \n",
    "int yellowOnTime=250; //Declare yellowOnTime an int, and set to 250\n",
    "int yellowOffTime=250; //Declare yellowOffTime an int, and set to 250\n",
    "int numYellowBlinks=5; //Number of times to blink yellow LED\n",
    "int numRedBlinks=5;  //Number of times to blink red LED\n",
    "String redMessage=\"The Red LED is Blinking\"; //Declaring a String Variable \n",
    "String yellowMessage=\"The Yellow LED is Blinking\"; //Declaring a String Variable\n",
    "\n",
    "void setup() {\n",
    "  Serial.begin(115200);        // Turn on the Serial Port\n",
    "  pinMode(redLEDPin, OUTPUT);  // Tell Arduino that redLEDPin is an output pin\n",
    "  pinMode(yellowLEDPin, OUTPUT);  //Tell Arduino that yellowLEDPin is an output pin\n",
    "}\n",
    "\n",
    "void loop() {\n",
    "\n",
    "Serial.println(redMessage);\n",
    "  for (int j=1; j<=numRedBlinks; j=j+1) {     // Start our for loop\n",
    "    Serial.print(\"   You are on Blink #: \");\n",
    "    Serial.println(j);\n",
    "    digitalWrite(redLEDPin,HIGH); //Turn red LED on\n",
    "    delay(redOnTime);             //Leave on for redOnTime\n",
    "    digitalWrite(redLEDPin,LOW);  //Turn red LED off\n",
    "    delay(redOffTime);            //Leave off for redOffTime\n",
    "}\n",
    "Serial.println(\" \");\n",
    "Serial.println(yellowMessage);\n",
    "  for (int j=1; j<=numYellowBlinks; j=j+1) {     // Start our for loop\n",
    "    Serial.print(\"   You are on Blink #: \");\n",
    "    Serial.println(j);\n",
    "    digitalWrite(yellowLEDPin,HIGH); //Turn yellow LED on\n",
    "    delay(yellowOnTime);             //Leave on for yellowOnTime\n",
    "    digitalWrite(yellowLEDPin,LOW);  //Turn yellow LED off\n",
    "    delay(yellowOffTime);            //Leave off for yellowOffTime\n",
    "}\n",
    "Serial.println(\" \");\n",
    "}\n",
    "```"
   ]
  },
  {
   "cell_type": "markdown",
   "metadata": {},
   "source": [
    "# humanHardDrive\n",
    "\n",
    "Arduino Tutorial # 4.5: Better Serial Parsing"
   ]
  },
  {
   "cell_type": "code",
   "execution_count": 3,
   "metadata": {
    "collapsed": false
   },
   "outputs": [
    {
     "data": {
      "text/html": [
       "<iframe width=\"560\" height=\"315\" \n",
       "src=\"https://www.youtube.com/embed/X5u2qCzcPn8\" \n",
       "frameborder=\"0\" allowfullscreen></iframe>"
      ],
      "text/plain": [
       "<IPython.core.display.HTML object>"
      ]
     },
     "metadata": {},
     "output_type": "display_data"
    }
   ],
   "source": [
    "%%html\n",
    "<iframe width=\"560\" height=\"315\" \n",
    "src=\"https://www.youtube.com/embed/X5u2qCzcPn8\" \n",
    "frameborder=\"0\" allowfullscreen></iframe>"
   ]
  },
  {
   "cell_type": "markdown",
   "metadata": {},
   "source": [
    "# by Robert Paz (Advanced)"
   ]
  },
  {
   "cell_type": "code",
   "execution_count": 4,
   "metadata": {
    "collapsed": false
   },
   "outputs": [
    {
     "data": {
      "text/html": [
       "<iframe width=\"560\" height=\"315\" \n",
       "src=\"https://www.youtube.com/embed/W5xt6w5EMP0\" \n",
       "frameborder=\"0\" allowfullscreen></iframe>"
      ],
      "text/plain": [
       "<IPython.core.display.HTML object>"
      ]
     },
     "metadata": {},
     "output_type": "display_data"
    }
   ],
   "source": [
    "%%html\n",
    "<iframe width=\"560\" height=\"315\" \n",
    "src=\"https://www.youtube.com/embed/W5xt6w5EMP0\" \n",
    "frameborder=\"0\" allowfullscreen></iframe>"
   ]
  },
  {
   "cell_type": "code",
   "execution_count": 5,
   "metadata": {
    "collapsed": false
   },
   "outputs": [
    {
     "data": {
      "application/javascript": [
       "$.getScript('https://kmahelona.github.io/ipython_notebook_goodies/ipython_notebook_toc.js')"
      ],
      "text/plain": [
       "<IPython.core.display.Javascript object>"
      ]
     },
     "metadata": {},
     "output_type": "display_data"
    }
   ],
   "source": [
    "%%javascript\n",
    "$.getScript('https://kmahelona.github.io/ipython_notebook_goodies/ipython_notebook_toc.js')"
   ]
  }
 ],
 "metadata": {
  "kernelspec": {
   "display_name": "Python 3",
   "language": "python",
   "name": "python3"
  },
  "language_info": {
   "codemirror_mode": {
    "name": "ipython",
    "version": 3
   },
   "file_extension": ".py",
   "mimetype": "text/x-python",
   "name": "python",
   "nbconvert_exporter": "python",
   "pygments_lexer": "ipython3",
   "version": "3.5.2"
  }
 },
 "nbformat": 4,
 "nbformat_minor": 0
}

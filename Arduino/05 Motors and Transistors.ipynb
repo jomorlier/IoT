{
 "cells": [
  {
   "cell_type": "markdown",
   "metadata": {},
   "source": [
    "<font size='6'><b>Arduino By Jeremy Blum</b></font><br><br>\n",
    "\n",
    "<font size='4'><b>Motors and Transistors</b></font>\n",
    "\n",
    "https://github.com/sciguy14/Arduino-Tutorial-Series/tree/master/05%20Motors%20and%20Transistors\n",
    "\n",
    "http://www.exploringarduino.com/content/ch4/\n",
    "\n",
    "<table style=\"border-style: hidden; border-collapse: collapse;\" width = \"80%\"> \n",
    "    <tr style=\"border-style: hidden; border-collapse: collapse;\">\n",
    "        <td width = 60% style=\"border-style: hidden; border-collapse: collapse;\">\n",
    "\n",
    "        </td>\n",
    "        <td width = 20%>\n",
    "        by Seungchul Lee<br>http://isystems.unist.ac.kr/<br>UNIST\n",
    "        </td>\n",
    "    </tr>\n",
    "</table>\n",
    "\n",
    "Table of Contents\n",
    "<div id=\"toc\"></div>"
   ]
  },
  {
   "cell_type": "code",
   "execution_count": 1,
   "metadata": {
    "collapsed": false
   },
   "outputs": [
    {
     "data": {
      "text/html": [
       "<iframe src=\"https://www.youtube.com/embed/5bHPKU4ybHY\" \n",
       "width=\"560\" height=\"315\" frameborder=\"0\" allowfullscreen></iframe>"
      ],
      "text/plain": [
       "<IPython.core.display.HTML object>"
      ]
     },
     "metadata": {},
     "output_type": "display_data"
    }
   ],
   "source": [
    "%%html\n",
    "<iframe src=\"https://www.youtube.com/embed/5bHPKU4ybHY\" \n",
    "width=\"560\" height=\"315\" frameborder=\"0\" allowfullscreen></iframe>"
   ]
  },
  {
   "cell_type": "markdown",
   "metadata": {
    "collapsed": true
   },
   "source": [
    "__motor_test.ino__\n",
    "\n",
    "```c\n",
    "//Program by Jeremy Blum\n",
    "//www.jeremyblum.com\n",
    "//Test Motor Speed Using a Transistor\n",
    "\n",
    "//Define Pins\n",
    "int motorPin = 9;\n",
    "\n",
    "void setup()\n",
    "{\n",
    "  //Set the PWM Motor pin as an output\n",
    "  pinMode(motorPin, OUTPUT);\n",
    "}\n",
    "\n",
    "void loop() {\n",
    "  //Increase Motor Speed from 0 -> 255\n",
    "  for (int i = 0; i <= 255; i++) {\n",
    "    analogWrite(motorPin, i);\n",
    "    delay(10);\n",
    "  }\n",
    "\n",
    "  delay(500); //Hold it!\n",
    "\n",
    "  //Decrease Motor Speed from 255 -> 0\n",
    "  for (int i = 255; i >= 0; i--) {\n",
    "    analogWrite(motorPin, i);\n",
    "    delay(10);\n",
    "  }\n",
    "\n",
    "  delay(500); //Hold it!\n",
    "}\n",
    "```"
   ]
  },
  {
   "cell_type": "markdown",
   "metadata": {},
   "source": [
    "__servo_test.ino__\n",
    "\n",
    "```c\n",
    "//Program by Jeremy Blum\n",
    "//www.jeremyblum.com\n",
    "//Controls a Servo Motor\n",
    "\n",
    "//Include Servo Library\n",
    "#include <Servo.h>\n",
    "\n",
    "//Define Pins\n",
    "int servoPin = 9;\n",
    "\n",
    "//Create Servo Object\n",
    "Servo jeremysServo;\n",
    "\n",
    "void setup() {\n",
    "  //Attaches the Servo to our object\n",
    "  jeremysServo.attach(servoPin);\n",
    "}\n",
    "\n",
    "void loop() {\n",
    "  //We can Turn a Servo to 180 degrees\n",
    "  for (int i = 0; i <= 180; i = i + 20) {\n",
    "    jeremysServo.write(i);\n",
    "    delay(1000);\n",
    "  }\n",
    "}\n",
    "```"
   ]
  },
  {
   "cell_type": "markdown",
   "metadata": {},
   "source": [
    "__ir_servo_control.ino__\n",
    "\n",
    "```c\n",
    "//Program by Jeremy Blum\n",
    "//www.jeremyblum.com\n",
    "//Controls a Servo Motor using the info from an IR Distance Sensor\n",
    "\n",
    "//Include Servo Library\n",
    "#include <Servo.h>\n",
    "\n",
    "//Define Pins\n",
    "int servoPin = 9;\n",
    "int distPin = 0;\n",
    "\n",
    "//Create Servo Object\n",
    "Servo jeremysServo;\n",
    "\n",
    "void setup() {\n",
    "  //Attaches the Servo to our object\n",
    "  jeremysServo.attach(servoPin);\n",
    "}\n",
    "\n",
    "void loop() {\n",
    "  //Read the Distance Sensor and adjust values\n",
    "  int dist = analogRead(distPin);\n",
    "  int pos = map(dist, 0, 1023, 0, 180);\n",
    "\n",
    "  //Turn the servo\n",
    "  jeremysServo.write(pos);\n",
    "}\n",
    "```"
   ]
  },
  {
   "cell_type": "code",
   "execution_count": 1,
   "metadata": {
    "collapsed": false
   },
   "outputs": [
    {
     "data": {
      "application/javascript": [
       "$.getScript('https://kmahelona.github.io/ipython_notebook_goodies/ipython_notebook_toc.js')"
      ],
      "text/plain": [
       "<IPython.core.display.Javascript object>"
      ]
     },
     "metadata": {},
     "output_type": "display_data"
    }
   ],
   "source": [
    "%%javascript\n",
    "$.getScript('https://kmahelona.github.io/ipython_notebook_goodies/ipython_notebook_toc.js')"
   ]
  }
 ],
 "metadata": {
  "kernelspec": {
   "display_name": "Python 2",
   "language": "python",
   "name": "python2"
  },
  "language_info": {
   "codemirror_mode": {
    "name": "ipython",
    "version": 2
   },
   "file_extension": ".py",
   "mimetype": "text/x-python",
   "name": "python",
   "nbconvert_exporter": "python",
   "pygments_lexer": "ipython2",
   "version": "2.7.11"
  }
 },
 "nbformat": 4,
 "nbformat_minor": 0
}

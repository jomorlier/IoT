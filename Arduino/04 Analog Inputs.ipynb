{
 "cells": [
  {
   "cell_type": "markdown",
   "metadata": {},
   "source": [
    "<font size='6'><b>Arduino By Jeremy Blum</b></font><br><br>\n",
    "\n",
    "<font size='4'><b>Analog Inputs</b></font>\n",
    "\n",
    "https://github.com/sciguy14/Arduino-Tutorial-Series\n",
    "\n",
    "http://www.exploringarduino.com/content/ch3/\n",
    "\n",
    "<table style=\"border-style: hidden; border-collapse: collapse;\" width = \"80%\"> \n",
    "    <tr style=\"border-style: hidden; border-collapse: collapse;\">\n",
    "        <td width = 60% style=\"border-style: hidden; border-collapse: collapse;\">\n",
    "\n",
    "        </td>\n",
    "        <td width = 20%>\n",
    "        by Seungchul Lee<br>http://isystems.unist.ac.kr/<br>UNIST\n",
    "        </td>\n",
    "    </tr>\n",
    "</table>\n",
    "\n",
    "Table of Contents\n",
    "<div id=\"toc\"></div>"
   ]
  },
  {
   "cell_type": "code",
   "execution_count": 3,
   "metadata": {
    "collapsed": false
   },
   "outputs": [
    {
     "data": {
      "text/html": [
       "<iframe src=\"https://www.youtube.com/embed/js4TK0U848I\" \n",
       "width=\"560\" height=\"315\" frameborder=\"0\" allowfullscreen></iframe>"
      ],
      "text/plain": [
       "<IPython.core.display.HTML object>"
      ]
     },
     "metadata": {},
     "output_type": "display_data"
    }
   ],
   "source": [
    "%%html\n",
    "<iframe src=\"https://www.youtube.com/embed/js4TK0U848I\" \n",
    "width=\"560\" height=\"315\" frameborder=\"0\" allowfullscreen></iframe>"
   ]
  },
  {
   "cell_type": "markdown",
   "metadata": {},
   "source": [
    "__read_sensor.ino__\n",
    "\n",
    "```c\n",
    "//Program by Jeremy Blum\n",
    "//www.jeremyblum.com\n",
    "\n",
    "//Reads and analog sensor and displays the value\n",
    "int sensePin = 0;\n",
    "\n",
    "void setup() {\n",
    "  //Note: We don't need to specifiy sensePin as an\n",
    "  //input, since it defaults to that when we read it\n",
    "\n",
    "  //This is the default value, but we can set it anyways\n",
    "  analogReference(DEFAULT); //5V Reference on UNO\n",
    "\n",
    "  //Allows us to listen to serial communications from the arduino\n",
    "  Serial.begin(9600);\n",
    "}\n",
    "\n",
    "void loop() {\n",
    "  // print the button state to a serial terminal\n",
    "  Serial.println(analogRead(sensePin));\n",
    "  delay(500);\n",
    "  //wait half a second, then print again.\n",
    "}\n",
    "```"
   ]
  },
  {
   "cell_type": "markdown",
   "metadata": {
    "collapsed": true
   },
   "source": [
    "__detect_threshold.ino__\n",
    "\n",
    "```c\n",
    "//Program by Jeremy Blum\n",
    "//www.jeremyblum.com\n",
    "\n",
    "//This will turn on an LED after a threshold\n",
    "int sensePin = 0;\n",
    "int ledPin = 9;\n",
    "\n",
    "void setup() {\n",
    "  //Note: We don't need to specifiy sensePin as an\n",
    "  //input, since it defaults to that when we read it\n",
    "\n",
    "  //The LED pin needs to be set as an output\n",
    "  pinMode(ledPin, OUTPUT);\n",
    "\n",
    "  //This is the default value, but we can set it anyways\n",
    "  analogReference(DEFAULT); //5V Reference on UNO\n",
    "}\n",
    "\n",
    "void loop() {\n",
    "  // read the sensor\n",
    "  int val = analogRead(sensePin);\n",
    "\n",
    "  if (val < 800) {\n",
    "    digitalWrite(ledPin, HIGH);\n",
    "  }\n",
    "  else {\n",
    "    digitalWrite(ledPin, LOW);\n",
    "  }\n",
    "}\n",
    "```"
   ]
  },
  {
   "cell_type": "markdown",
   "metadata": {
    "collapsed": true
   },
   "source": [
    "__control_led.ino__\n",
    "```c\n",
    "//Program by Jeremy Blum\n",
    "//www.jeremyblum.com\n",
    "\n",
    "//Control LED brightness with sensor\n",
    "int sensePin = 0;\n",
    "int ledPin = 9;\n",
    "\n",
    "void setup() {\n",
    "  //Note: We don't need to specifiy sensePin as an\n",
    "  //input, since it defaults to that when we read it\n",
    "\n",
    "  //The LED pin needs to be set as an output\n",
    "  pinMode(ledPin, OUTPUT);\n",
    "\n",
    "  //This is the default value, but we can set it anyways\n",
    "  analogReference(DEFAULT); //5V Reference on UNO\n",
    "}\n",
    "\n",
    "void loop() {\n",
    "  // read the sensor\n",
    "  int val = analogRead(sensePin);\n",
    "  val = constrain(val, 750, 900);\n",
    "  int ledLevel = map(val, 750, 900, 255, 0);\n",
    "  analogWrite(ledPin, ledLevel);\n",
    "}\n",
    "```"
   ]
  },
  {
   "cell_type": "markdown",
   "metadata": {},
   "source": [
    "__motion_and_light_sense.ino__\n",
    "\n",
    "```c\n",
    "//Program by Jeremy Blum\n",
    "//www.jeremyblum.com\n",
    "//Turn on an LED if a room is dim, and motion is detected\n",
    "\n",
    "//Define Pins\n",
    "int motionPin = 0;\n",
    "int lightPin = 1;\n",
    "int ledPin = 9;\n",
    "\n",
    "//Distance Variables\n",
    "int lastDist = 0;\n",
    "int currentDist = 0;\n",
    "\n",
    "//Threshold for Movement\n",
    "int thresh = 200;\n",
    "\n",
    "void setup() {\n",
    "  //The LED pin needs to be set as an output\n",
    "  pinMode(ledPin, OUTPUT);\n",
    "}\n",
    "\n",
    "void loop() {\n",
    "  // read the sensor\n",
    "  int lightVal = analogRead(lightPin);\n",
    "  currentDist = analogRead(motionPin);\n",
    "\n",
    "  //Does the current distance deviate from the last distance by more than the threshold?\n",
    "  if ((currentDist > lastDist + thresh || currentDist < lastDist - thresh) && lightVal < 800) {\n",
    "    digitalWrite(ledPin, HIGH);\n",
    "    delay(1000);\n",
    "  }\n",
    "  else {\n",
    "    digitalWrite(ledPin, LOW);\n",
    "  }\n",
    "  lastDist = currentDist;\n",
    "}\n",
    "```"
   ]
  },
  {
   "cell_type": "code",
   "execution_count": 1,
   "metadata": {
    "collapsed": false
   },
   "outputs": [
    {
     "data": {
      "application/javascript": [
       "$.getScript('https://kmahelona.github.io/ipython_notebook_goodies/ipython_notebook_toc.js')"
      ],
      "text/plain": [
       "<IPython.core.display.Javascript object>"
      ]
     },
     "metadata": {},
     "output_type": "display_data"
    }
   ],
   "source": [
    "%%javascript\n",
    "$.getScript('https://kmahelona.github.io/ipython_notebook_goodies/ipython_notebook_toc.js')"
   ]
  }
 ],
 "metadata": {
  "kernelspec": {
   "display_name": "Python 2",
   "language": "python",
   "name": "python2"
  },
  "language_info": {
   "codemirror_mode": {
    "name": "ipython",
    "version": 2
   },
   "file_extension": ".py",
   "mimetype": "text/x-python",
   "name": "python",
   "nbconvert_exporter": "python",
   "pygments_lexer": "ipython2",
   "version": "2.7.11"
  }
 },
 "nbformat": 4,
 "nbformat_minor": 0
}

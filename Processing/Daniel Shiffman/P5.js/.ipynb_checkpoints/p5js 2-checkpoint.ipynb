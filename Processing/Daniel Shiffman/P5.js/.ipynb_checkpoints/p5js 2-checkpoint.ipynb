{
 "cells": [
  {
   "cell_type": "markdown",
   "metadata": {},
   "source": [
    "<font size='6'><b>p5.js by Daniel Shiffman</b></font>\n",
    "\n",
    "http://wykhuh.github.io/shiffman-p5-tutorials/<br>\n",
    "https://p5js.org/reference/\n",
    "\n",
    "<table style=\"border-style: hidden; border-collapse: collapse;\" width = \"80%\"> \n",
    "    <tr style=\"border-style: hidden; border-collapse: collapse;\">\n",
    "        <td width = 55% style=\"border-style: hidden; border-collapse: collapse;\">\n",
    "\n",
    "        </td>\n",
    "        <td width = 25%>\n",
    "        Collected by Seungchul Lee<br>iSystems (http://isystems.unist.ac.kr/)<br>UNIST\n",
    "        </td>\n",
    "    </tr>\n",
    "</table>\n",
    "\n",
    "Table of Contents\n",
    "<div id=\"toc\"></div>"
   ]
  },
  {
   "cell_type": "markdown",
   "metadata": {
    "collapsed": true
   },
   "source": [
    "# 7.\n",
    "### 7.1: What is HTML? - p5.js Tutorial"
   ]
  },
  {
   "cell_type": "code",
   "execution_count": 1,
   "metadata": {
    "collapsed": false
   },
   "outputs": [
    {
     "data": {
      "text/html": [
       "<iframe src=\"https://www.youtube.com/embed/URSH0QpxKo8?list=PLRqwX-V7Uu6bI1SlcCRfLH79HZrFAtBvX\" \n",
       "width=\"560\" height=\"315\" frameborder=\"0\" allowfullscreen></iframe>"
      ],
      "text/plain": [
       "<IPython.core.display.HTML object>"
      ]
     },
     "metadata": {},
     "output_type": "display_data"
    }
   ],
   "source": [
    "%%html\n",
    "<iframe src=\"https://www.youtube.com/embed/URSH0QpxKo8?list=PLRqwX-V7Uu6bI1SlcCRfLH79HZrFAtBvX\" \n",
    "width=\"560\" height=\"315\" frameborder=\"0\" allowfullscreen></iframe>"
   ]
  },
  {
   "cell_type": "markdown",
   "metadata": {},
   "source": [
    "```javascript\n",
    "// https://vimeo.com/channels/learningp5js/142698165\n",
    "\n",
    "function setup() {\n",
    "  createCanvas(200, 200);\n",
    "}\n",
    "\n",
    "function draw() {\n",
    "  background(0);\n",
    "  fill(255, 0, 0);\n",
    "  rect(100, 100, 50, 50);\n",
    "}\n",
    "```"
   ]
  },
  {
   "cell_type": "markdown",
   "metadata": {},
   "source": [
    "```javascript\n",
    "// index.html\n",
    "\n",
    "<!DOCTYPE html>\n",
    "<html>\n",
    "  <head>\n",
    "    <meta charset=\"UTF-8\">\n",
    "    <title>7.1_p5.js_What_is_HTML? </title>\n",
    "    <script src=\"libraries/p5.js\" type=\"text/javascript\"></script>\n",
    "\n",
    "    <script src=\"libraries/p5.dom.js\" type=\"text/javascript\"></script>\n",
    "    <script src=\"libraries/p5.sound.js\" type=\"text/javascript\"></script>\n",
    "\n",
    "    <script src=\"sketch.js\" type=\"text/javascript\"></script>\n",
    "    \n",
    "     <!--<style> body {padding: 0; margin: 0;} canvas {vertical-align: top;} </style>-->\n",
    "  </head>\n",
    "  \n",
    "  <body>\n",
    "    <h1>\n",
    "      Just type out anything you like\n",
    "    </h1>\n",
    "    \n",
    "    <p>\n",
    "      here, you put a block of words\n",
    "    </p>\n",
    "  </body>\n",
    "</html>\n",
    "```"
   ]
  },
  {
   "cell_type": "markdown",
   "metadata": {},
   "source": [
    "### 7.2: Creating HTML Elements with JavaScript - p5.js Tutorial"
   ]
  },
  {
   "cell_type": "code",
   "execution_count": 2,
   "metadata": {
    "collapsed": false
   },
   "outputs": [
    {
     "data": {
      "text/html": [
       "<iframe src=\"https://www.youtube.com/embed/lAtoaRz78I4?list=PLRqwX-V7Uu6bI1SlcCRfLH79HZrFAtBvX\" \n",
       "width=\"560\" height=\"315\" frameborder=\"0\" allowfullscreen></iframe>"
      ],
      "text/plain": [
       "<IPython.core.display.HTML object>"
      ]
     },
     "metadata": {},
     "output_type": "display_data"
    }
   ],
   "source": [
    "%%html\n",
    "<iframe src=\"https://www.youtube.com/embed/lAtoaRz78I4?list=PLRqwX-V7Uu6bI1SlcCRfLH79HZrFAtBvX\" \n",
    "width=\"560\" height=\"315\" frameborder=\"0\" allowfullscreen></iframe>"
   ]
  },
  {
   "cell_type": "markdown",
   "metadata": {},
   "source": [
    "```javascript\n",
    "// https://vimeo.com/channels/learningp5js/142698164\n",
    "\n",
    "function setup() {\n",
    "  createCanvas(200, 200);\n",
    "  createElement('h1', 'My favorite language is p5')\n",
    "  createP(\"My favorite color is purple\")\n",
    "  \n",
    "}\n",
    "\n",
    "function mousePressed() {\n",
    "  createP(\"My favorite number is \" + random(0, 10))\n",
    "};\n",
    "function draw() {\n",
    "  background(0);\n",
    "  fill(255, 0, 0);\n",
    "  rect(100, 100, 50, 50);\n",
    "}\n",
    "```"
   ]
  },
  {
   "cell_type": "markdown",
   "metadata": {},
   "source": [
    "### 7.3: Manipulating DOM Elements with html() and position() - p5.js Tutorial"
   ]
  },
  {
   "cell_type": "code",
   "execution_count": 3,
   "metadata": {
    "collapsed": false
   },
   "outputs": [
    {
     "data": {
      "text/html": [
       "<iframe src=\"https://www.youtube.com/embed/YfaJ20vXcK8?list=PLRqwX-V7Uu6bI1SlcCRfLH79HZrFAtBvX\" \n",
       "width=\"560\" height=\"315\" frameborder=\"0\" allowfullscreen></iframe>"
      ],
      "text/plain": [
       "<IPython.core.display.HTML object>"
      ]
     },
     "metadata": {},
     "output_type": "display_data"
    }
   ],
   "source": [
    "%%html\n",
    "<iframe src=\"https://www.youtube.com/embed/YfaJ20vXcK8?list=PLRqwX-V7Uu6bI1SlcCRfLH79HZrFAtBvX\" \n",
    "width=\"560\" height=\"315\" frameborder=\"0\" allowfullscreen></iframe>"
   ]
  },
  {
   "cell_type": "markdown",
   "metadata": {},
   "source": [
    "```javascript\n",
    "// https://vimeo.com/channels/learningp5js/142698162\n",
    "\n",
    "var canvas;\n",
    "var h1;\n",
    "var x = 100;\n",
    "var y = 100;\n",
    "\n",
    "function setup() {\n",
    "  canvas = createCanvas(200, 200);\n",
    "  canvas.position(400, 500);\n",
    "  h1 = createElement('h1', 'Waiting.');\n",
    "  // h1.position(400, 400);\n",
    "  // createP(\"My favorite color is purple\")\n",
    "  \n",
    "}\n",
    "\n",
    "\n",
    "function mousePressed() {\n",
    "  h1.html(\"Now I will show you my favorite number\");\n",
    "  createP(\"My favorite number is \" + random(0, 10));\n",
    "}\n",
    "\n",
    "\n",
    "function draw() {\n",
    "  //clear();\n",
    "  background(150, 100);\n",
    "  fill(255, 0, 0);\n",
    "  rect(x, y, 50, 50);\n",
    "  h1.position(x, y);\n",
    "  x = x + random(-5, 5);\n",
    "}\n",
    "```"
   ]
  },
  {
   "cell_type": "markdown",
   "metadata": {},
   "source": [
    "### 7.4: Handling DOM Events with Callbacks - p5.js Tutorial"
   ]
  },
  {
   "cell_type": "code",
   "execution_count": 4,
   "metadata": {
    "collapsed": false
   },
   "outputs": [
    {
     "data": {
      "text/html": [
       "<iframe src=\"https://www.youtube.com/embed/NcCEzzd9BGE?list=PLRqwX-V7Uu6bI1SlcCRfLH79HZrFAtBvX\" \n",
       "width=\"560\" height=\"315\" frameborder=\"0\" allowfullscreen></iframe>"
      ],
      "text/plain": [
       "<IPython.core.display.HTML object>"
      ]
     },
     "metadata": {},
     "output_type": "display_data"
    }
   ],
   "source": [
    "%%html\n",
    "<iframe src=\"https://www.youtube.com/embed/NcCEzzd9BGE?list=PLRqwX-V7Uu6bI1SlcCRfLH79HZrFAtBvX\" \n",
    "width=\"560\" height=\"315\" frameborder=\"0\" allowfullscreen></iframe>"
   ]
  },
  {
   "cell_type": "markdown",
   "metadata": {},
   "source": [
    "```javascript\n",
    "// https://vimeo.com/channels/learningp5js/142698163\n",
    "\n",
    "\n",
    "var bgcolor;\n",
    "var button;\n",
    "\n",
    "\n",
    "function setup() {\n",
    "  canvas = createCanvas(200, 200);\n",
    "  bgcolor = color(200);\n",
    "  button = createButton(\"go go go go\");\n",
    "  button.mousePressed(changeColor);\n",
    "  \n",
    "}\n",
    "\n",
    "function changeColor() {\n",
    "  bgcolor = color(random(255))\n",
    "  \n",
    "}\n",
    "\n",
    "// function mousePressed() {\n",
    "//   changeColor();\n",
    "// }\n",
    "\n",
    "\n",
    "function draw() {\n",
    "  background(bgcolor);\n",
    "  fill(255, 0, 175);\n",
    "  rect(100, 100, 50, 50);\n",
    "\n",
    "}\n",
    "```"
   ]
  },
  {
   "cell_type": "markdown",
   "metadata": {},
   "source": [
    "### 7.5: Interacting with the DOM using Sliders, Buttons and Text Inputs - p5.js Tutorial"
   ]
  },
  {
   "cell_type": "code",
   "execution_count": 5,
   "metadata": {
    "collapsed": false
   },
   "outputs": [
    {
     "data": {
      "text/html": [
       "<iframe src=\"https://www.youtube.com/embed/587qclhguQg?list=PLRqwX-V7Uu6bI1SlcCRfLH79HZrFAtBvX\" \n",
       "width=\"560\" height=\"315\" frameborder=\"0\" allowfullscreen></iframe>"
      ],
      "text/plain": [
       "<IPython.core.display.HTML object>"
      ]
     },
     "metadata": {},
     "output_type": "display_data"
    }
   ],
   "source": [
    "%%html\n",
    "<iframe src=\"https://www.youtube.com/embed/587qclhguQg?list=PLRqwX-V7Uu6bI1SlcCRfLH79HZrFAtBvX\" \n",
    "width=\"560\" height=\"315\" frameborder=\"0\" allowfullscreen></iframe>"
   ]
  },
  {
   "cell_type": "markdown",
   "metadata": {},
   "source": [
    "```javascript\n",
    "// https://vimeo.com/channels/learningp5js/142698161\n",
    "\n",
    "var bgcolor;\n",
    "var button;\n",
    "var slider;\n",
    "var nameInput;\n",
    "var nameP;\n",
    "\n",
    "function setup() {\n",
    "  canvas = createCanvas(200, 200);\n",
    "  canvas.mouseOver(overpara);\n",
    "  canvas.mouseOut(outpara);\n",
    "  canvas.mousePressed(changeColor);\n",
    "  \n",
    "  bgcolor = color(200);\n",
    "  nameP = createP('Your name!');\n",
    "  \n",
    "  button = createButton(\"go go go go\");\n",
    "  button.mousePressed(changeColor);\n",
    "  slider = createSlider(10, 100, 86);\n",
    "  nameInput = createInput('type your name');\n",
    "  \n",
    "  nameP.mouseOver(overpara);\n",
    "  nameP.mouseOut(outpara);\n",
    "  \n",
    "  nameInput.changed(updateText);\n",
    "}\n",
    "\n",
    "function updateText() {\n",
    "  nameP.html(nameInput.value());\n",
    "}\n",
    "\n",
    "function overpara() {\n",
    "  nameP.html('your moues is over me');\n",
    "}\n",
    "\n",
    "function outpara() {\n",
    "  nameP.html('your mouse is out');\n",
    "}\n",
    "function changeColor() {\n",
    "  bgcolor = color(random(255))\n",
    "  \n",
    "}\n",
    "\n",
    "// function mousePressed() {\n",
    "//   changeColor();\n",
    "// }\n",
    "\n",
    "\n",
    "function draw() {\n",
    "  background(bgcolor);\n",
    "  fill(255, 0, 175);\n",
    "  ellipse(100, 100, slider.value(), slider.value());\n",
    "  //nameP.html(input.value());\n",
    "  text(nameInput.value(), 10, 20);\n",
    "  \n",
    "}\n",
    "```"
   ]
  },
  {
   "cell_type": "markdown",
   "metadata": {},
   "source": [
    "### 7.6: Other Events and Inputs - p5.js Tutorial"
   ]
  },
  {
   "cell_type": "code",
   "execution_count": 6,
   "metadata": {
    "collapsed": false
   },
   "outputs": [
    {
     "data": {
      "text/html": [
       "<iframe src=\"https://www.youtube.com/embed/HsDVz2_Qgow?list=PLRqwX-V7Uu6bI1SlcCRfLH79HZrFAtBvX\" \n",
       "width=\"560\" height=\"315\" frameborder=\"0\" allowfullscreen></iframe>"
      ],
      "text/plain": [
       "<IPython.core.display.HTML object>"
      ]
     },
     "metadata": {},
     "output_type": "display_data"
    }
   ],
   "source": [
    "%%html\n",
    "<iframe src=\"https://www.youtube.com/embed/HsDVz2_Qgow?list=PLRqwX-V7Uu6bI1SlcCRfLH79HZrFAtBvX\" \n",
    "width=\"560\" height=\"315\" frameborder=\"0\" allowfullscreen></iframe>"
   ]
  },
  {
   "cell_type": "markdown",
   "metadata": {},
   "source": [
    "```javascript\n",
    "// https://vimeo.com/channels/learningp5js/142698562\n",
    "\n",
    "// resources on CSS:\n",
    "// https://developer.mozilla.org/en-US/docs/Web/CSS/Reference\n",
    "// http://www.blooberry.com/indexdot/css/propindex/font.htm\n",
    "\n",
    "var bgcolor;\n",
    "var button;\n",
    "var txt;\n",
    "\n",
    "function setup() {\n",
    "  createCanvas(200, 200);\n",
    "  bgcolor = color(51);\n",
    "  txt = createP('some text');\n",
    "  txt.mouseOver(changeStyle);\n",
    "  txt.mouseOut(revertStyle);\n",
    "  \n",
    "  button = createButton(\"go\");\n",
    "  // button.mousePressed(changeStyle);\n",
    "}\n",
    "\n",
    "function changeStyle() {\n",
    "  txt.style(\"background-color\", \"pink\");\n",
    "  txt.style(\"padding\", \"24px\");\n",
    "}\n",
    "\n",
    "function revertStyle() {\n",
    "  txt.style(\"background-color\", \"purple\");\n",
    "  txt.style(\"padding\", \"8px\");\n",
    "}\n",
    "\n",
    "function draw() {\n",
    "  background(bgcolor);\n",
    "  fill(255, 0, 175);\n",
    "  ellipse(100, 100, 50, 50);\n",
    "}\n",
    "```"
   ]
  },
  {
   "cell_type": "markdown",
   "metadata": {},
   "source": [
    "### 7.7: The Basics of CSS - p5.js Tutorial"
   ]
  },
  {
   "cell_type": "code",
   "execution_count": 7,
   "metadata": {
    "collapsed": false
   },
   "outputs": [
    {
     "data": {
      "text/html": [
       "<iframe src=\"https://www.youtube.com/embed/zGL8q8iQSQw?list=PLRqwX-V7Uu6bI1SlcCRfLH79HZrFAtBvX\" \n",
       "width=\"560\" height=\"315\" frameborder=\"0\" allowfullscreen></iframe>"
      ],
      "text/plain": [
       "<IPython.core.display.HTML object>"
      ]
     },
     "metadata": {},
     "output_type": "display_data"
    }
   ],
   "source": [
    "%%html\n",
    "<iframe src=\"https://www.youtube.com/embed/zGL8q8iQSQw?list=PLRqwX-V7Uu6bI1SlcCRfLH79HZrFAtBvX\" \n",
    "width=\"560\" height=\"315\" frameborder=\"0\" allowfullscreen></iframe>"
   ]
  },
  {
   "cell_type": "markdown",
   "metadata": {},
   "source": [
    "```javascript\n",
    "// https://vimeo.com/channels/learningp5js/143374880\n",
    "// p5 DOM reference: p5js.org/reference/#/libraries/p5.dom\n",
    "\n",
    "var textbox;\n",
    "var slider;\n",
    "var paragraph;\n",
    "\n",
    "function setup() {\n",
    "  noCanvas();\n",
    "  textbox = createInput(\"enter text\");\n",
    "  slider = createSlider(10, 64, 16);\n",
    "  paragraph = createP(\"starting text\");\n",
    "  \n",
    "  textbox.changed(updateText);\n",
    "  slider.changed(updateSize);\n",
    "  //slider.input(updateSize);\n",
    "  //textbox.input(doSomething); not yet working due to editor issue (2015.10.24)\n",
    "}\n",
    "\n",
    "function updateSize() {\n",
    "  // paragraph.style(\"font-size\", \"24pt\");\n",
    "  paragraph.style(\"font-size\", slider.value() + \"pt\");  \n",
    "}\n",
    "\n",
    "\n",
    "function updateText() {\n",
    "  paragraph.html(textbox.value());\n",
    "}\n",
    "```"
   ]
  },
  {
   "cell_type": "markdown",
   "metadata": {},
   "source": [
    "### 7.8: Events \"changed\" and \"input\" - p5.js Tutorial"
   ]
  },
  {
   "cell_type": "code",
   "execution_count": 8,
   "metadata": {
    "collapsed": false
   },
   "outputs": [
    {
     "data": {
      "text/html": [
       "<iframe src=\"https://www.youtube.com/embed/ZEy0_NLhdSE?list=PLRqwX-V7Uu6bI1SlcCRfLH79HZrFAtBvX\" \n",
       "width=\"560\" height=\"315\" frameborder=\"0\" allowfullscreen></iframe>"
      ],
      "text/plain": [
       "<IPython.core.display.HTML object>"
      ]
     },
     "metadata": {},
     "output_type": "display_data"
    }
   ],
   "source": [
    "%%html\n",
    "<iframe src=\"https://www.youtube.com/embed/ZEy0_NLhdSE?list=PLRqwX-V7Uu6bI1SlcCRfLH79HZrFAtBvX\" \n",
    "width=\"560\" height=\"315\" frameborder=\"0\" allowfullscreen></iframe>"
   ]
  },
  {
   "cell_type": "markdown",
   "metadata": {},
   "source": [
    "```javascript\n",
    "// https://vimeo.com/channels/learningp5js/143374873\n",
    "\n",
    "// p5 DOM reference: p5js.org/reference/#/libraries/p5.dom\n",
    "\n",
    "// All examples: github.com/shiffman/Video-Lesson-Materials\n",
    "\n",
    "\n",
    "function setup() {\n",
    "  \n",
    "}\n",
    "\n",
    "function draw() {\n",
    "  \n",
    "}\n",
    "```"
   ]
  },
  {
   "cell_type": "markdown",
   "metadata": {},
   "source": [
    "### 7.9: CSS Selectors - p5.js Tutorial"
   ]
  },
  {
   "cell_type": "code",
   "execution_count": 9,
   "metadata": {
    "collapsed": false
   },
   "outputs": [
    {
     "data": {
      "text/html": [
       "<iframe src=\"https://www.youtube.com/embed/sVo8Dbii8OQ?list=PLRqwX-V7Uu6bI1SlcCRfLH79HZrFAtBvX\" \n",
       "width=\"560\" height=\"315\" frameborder=\"0\" allowfullscreen></iframe>"
      ],
      "text/plain": [
       "<IPython.core.display.HTML object>"
      ]
     },
     "metadata": {},
     "output_type": "display_data"
    }
   ],
   "source": [
    "%%html\n",
    "<iframe src=\"https://www.youtube.com/embed/sVo8Dbii8OQ?list=PLRqwX-V7Uu6bI1SlcCRfLH79HZrFAtBvX\" \n",
    "width=\"560\" height=\"315\" frameborder=\"0\" allowfullscreen></iframe>"
   ]
  },
  {
   "cell_type": "markdown",
   "metadata": {},
   "source": [
    "```javascript\n",
    "// https://www.youtube.com/watch?v=sSQPLIHIzmg&list=PLRqwX-V7Uu6bI1SlcCRfLH79HZrFAtBvX&index=9\n",
    "\n",
    "// This video examines how to select DOM elements from JavaScript using select() and selectAll()\n",
    "\n",
    "// p5 DOM reference: http://p5js.org/reference/#/libraries...\n",
    "\n",
    "var paragraphs;\n",
    "\n",
    "function setup() {\n",
    "  createCanvas(100, 100);\n",
    "  background(0);\n",
    "  // createP(\"This is a random number \" + random(100));\n",
    "\n",
    "  // paragraph = select('#unicorn');\n",
    "  // paragraphs = selectAll('p');\n",
    "  paragraphs = selectAll('.rainbow');\n",
    "  \n",
    "  for (var i = 0; i < paragraphs.length; i++) {\n",
    "    // paragraph.mouseOver(changeBackground);\n",
    "    paragraphs[i].style('font-size', \"24pt\");\n",
    "  }\n",
    "  //paragraph.style('background-color', '#F0F')\n",
    "  \n",
    "  var button = select('#button');\n",
    "  button.mousePressed(canvasBg);\n",
    "}\n",
    "\n",
    "function canvasBg() {\n",
    "  background(random(255));\n",
    "}\n",
    "\n",
    "function changeBackground() {\n",
    "  paragraph.style('background-color', '#F0F')\n",
    "}\n",
    "```"
   ]
  },
  {
   "cell_type": "markdown",
   "metadata": {},
   "source": [
    "### 7.10: select() and selectAll() with CSS Selectors - p5.js Tutorial"
   ]
  },
  {
   "cell_type": "code",
   "execution_count": 10,
   "metadata": {
    "collapsed": false
   },
   "outputs": [
    {
     "data": {
      "text/html": [
       "<iframe src=\"https://www.youtube.com/embed/sSQPLIHIzmg?list=PLRqwX-V7Uu6bI1SlcCRfLH79HZrFAtBvX\" \n",
       "width=\"560\" height=\"315\" frameborder=\"0\" allowfullscreen></iframe>"
      ],
      "text/plain": [
       "<IPython.core.display.HTML object>"
      ]
     },
     "metadata": {},
     "output_type": "display_data"
    }
   ],
   "source": [
    "%%html\n",
    "<iframe src=\"https://www.youtube.com/embed/sSQPLIHIzmg?list=PLRqwX-V7Uu6bI1SlcCRfLH79HZrFAtBvX\" \n",
    "width=\"560\" height=\"315\" frameborder=\"0\" allowfullscreen></iframe>"
   ]
  },
  {
   "cell_type": "markdown",
   "metadata": {},
   "source": [
    "```javascript\n",
    "/*\n",
    "This video looks at selectAll() and the JavaScript keyword \"this\" in the context of adding events to multiple DOM elements.\n",
    "p5 DOM reference: p5js.org/reference/#/libraries/p5.dom\n",
    "All examples: github.com/shiffman/Video-Lesson-Materials\n",
    "*/\n",
    "var paragraphs;\n",
    "var paragraph;\n",
    "\n",
    "function setup() {\n",
    "  createCanvas(100, 100);\n",
    "  background(0);\n",
    "  // createP(\"This is a random number \" + random(100));\n",
    "\n",
    "  paragraph = select('#unicorn');\n",
    "  \n",
    "  for (var i = 0; i < 100; i++) {\n",
    "    var par = createP('rainbow');\n",
    "    par.position(random(500), random(500));\n",
    "  }\n",
    "  paragraphs = selectAll('p');\n",
    "  // paragraphs = selectAll('.rainbow');\n",
    "  \n",
    "  for (var i = 0; i < paragraphs.length; i++) {\n",
    "    paragraphs[i].mouseOver(highlight);\n",
    "    paragraphs[i].mouseOut(unhighlight);\n",
    "  }\n",
    "  \n",
    "  // paragraph = select('#unicorn');\n",
    "  // paragraph.mouseOver(highlight);\n",
    "  // paragraph.mouseOut(unhighlight);\n",
    "}\n",
    "\n",
    "function highlight() {\n",
    "  this.style('padding', '16pt');\n",
    "  this.style('background-color', '#F0F');\n",
    "}\n",
    "\n",
    "function unhighlight() {\n",
    "  this.style('padding', '0pt');\n",
    "  this.style('background-color', '#FFF');\n",
    "}\n",
    "```"
   ]
  },
  {
   "cell_type": "markdown",
   "metadata": {},
   "source": [
    "### 7.11: Callbacks on Multiple DOM Elements - p5.js Tutorial"
   ]
  },
  {
   "cell_type": "code",
   "execution_count": 11,
   "metadata": {
    "collapsed": false
   },
   "outputs": [
    {
     "data": {
      "text/html": [
       "<iframe src=\"https://www.youtube.com/embed/KeZBpeH59Q4?list=PLRqwX-V7Uu6bI1SlcCRfLH79HZrFAtBvX\" \n",
       "width=\"560\" height=\"315\" frameborder=\"0\" allowfullscreen></iframe>"
      ],
      "text/plain": [
       "<IPython.core.display.HTML object>"
      ]
     },
     "metadata": {},
     "output_type": "display_data"
    }
   ],
   "source": [
    "%%html\n",
    "<iframe src=\"https://www.youtube.com/embed/KeZBpeH59Q4?list=PLRqwX-V7Uu6bI1SlcCRfLH79HZrFAtBvX\" \n",
    "width=\"560\" height=\"315\" frameborder=\"0\" allowfullscreen></iframe>"
   ]
  },
  {
   "cell_type": "markdown",
   "metadata": {},
   "source": [
    "```javascript\n",
    "var happy = ['rainbow', 'unicorn', 'purple', 'bacteria'];\n",
    "\n",
    "function setup() {\n",
    "  noCanvas();\n",
    "  // var canvas = createCanvas(400, 400);\n",
    "  // canvas.parent(\"canvasP\");\n",
    "  var button = select('#button');\n",
    "  button.mousePressed(addItem);\n",
    "}\n",
    "\n",
    "// function draw() {\n",
    "//   background(0);\n",
    "//   ellipse(200,200,random(100), random(100));\n",
    "// }\n",
    "function addItem() {\n",
    "  var r = floor(random(0, happy.length));\n",
    "  var li = createElement('li', happy[r]);\n",
    "  li.parent(\"happylist\");\n",
    "}\n",
    "```"
   ]
  },
  {
   "cell_type": "markdown",
   "metadata": {},
   "source": [
    "### 7.12: parent() and child() - p5.js Tutorial"
   ]
  },
  {
   "cell_type": "code",
   "execution_count": 12,
   "metadata": {
    "collapsed": false
   },
   "outputs": [
    {
     "data": {
      "text/html": [
       "<iframe src=\"https://www.youtube.com/embed/eoXLD0Aw1YI?list=PLRqwX-V7Uu6bI1SlcCRfLH79HZrFAtBvX\" \n",
       "width=\"560\" height=\"315\" frameborder=\"0\" allowfullscreen></iframe>"
      ],
      "text/plain": [
       "<IPython.core.display.HTML object>"
      ]
     },
     "metadata": {},
     "output_type": "display_data"
    }
   ],
   "source": [
    "%%html\n",
    "<iframe src=\"https://www.youtube.com/embed/eoXLD0Aw1YI?list=PLRqwX-V7Uu6bI1SlcCRfLH79HZrFAtBvX\" \n",
    "width=\"560\" height=\"315\" frameborder=\"0\" allowfullscreen></iframe>"
   ]
  },
  {
   "cell_type": "markdown",
   "metadata": {},
   "source": [
    "```javascript\n",
    "/*\n",
    "https://vimeo.com/channels/learningp5js/143374872\n",
    "This video looks at how you can assign a CSS class in your code using the class(), addClass(), and removeClass() functions.\n",
    "p5 DOM reference: p5js.org/reference/#/libraries/p5.dom\n",
    "All examples: github.com/shiffman/Video-Lesson-Materials\n",
    "*/\n",
    "\n",
    "function setup() {\n",
    "  for (var i = 0; i < 10; i++) {\n",
    "    // var p = createP('apples');\n",
    "    var p = createA('#', 'apples');\n",
    "    var x = floor(random(windowWidth));\n",
    "    var y = floor(random(windowHeight));\n",
    "    p.position(x,y);\n",
    "    p.class('apple')\n",
    "  }\n",
    "\n",
    "  for (i = 0; i < 10; i++) {\n",
    "    // var p = createP('blueberries');\n",
    "    // var p = createA('http://google.com', 'blueberries')\n",
    "    p = createA('#', 'blueberries')\n",
    "    x = floor(random(windowWidth));\n",
    "    y = floor(random(windowHeight));\n",
    "    p.position(x,y);\n",
    "    p.class('blueberry');\n",
    "    p.mousePressed(becomeApple)\n",
    "  } \n",
    "  \n",
    "}\n",
    "\n",
    "function becomeApple() {\n",
    "  this.removeClass('blueberry');\n",
    "  this.class('apple');\n",
    "}\n",
    "\n",
    "function draw() {\n",
    "  \n",
    "}\n",
    "```"
   ]
  },
  {
   "cell_type": "markdown",
   "metadata": {},
   "source": [
    "### 7.13: Assigning a CSS Class Dynamically - p5.js Tutorial"
   ]
  },
  {
   "cell_type": "code",
   "execution_count": 13,
   "metadata": {
    "collapsed": false
   },
   "outputs": [
    {
     "data": {
      "text/html": [
       "<iframe src=\"https://www.youtube.com/embed/KMRgLi2TBhQ?list=PLRqwX-V7Uu6bI1SlcCRfLH79HZrFAtBvX\" \n",
       "width=\"560\" height=\"315\" frameborder=\"0\" allowfullscreen></iframe>"
      ],
      "text/plain": [
       "<IPython.core.display.HTML object>"
      ]
     },
     "metadata": {},
     "output_type": "display_data"
    }
   ],
   "source": [
    "%%html\n",
    "<iframe src=\"https://www.youtube.com/embed/KMRgLi2TBhQ?list=PLRqwX-V7Uu6bI1SlcCRfLH79HZrFAtBvX\" \n",
    "width=\"560\" height=\"315\" frameborder=\"0\" allowfullscreen></iframe>"
   ]
  },
  {
   "cell_type": "markdown",
   "metadata": {},
   "source": [
    "```javascript\n",
    "var p;\n",
    "\n",
    "function setup() {\n",
    "  noCanvas()\n",
    "  p = createP('This is a link: ');\n",
    "  p.style('background-color', '#CCC');\n",
    "  p.style('padding', '24px');\n",
    "  \n",
    "  var a = createA('#', 'apples');\n",
    "  a.mousePressed(addPhoto);\n",
    "  a.parent(p);\n",
    "  \n",
    "\n",
    "}\n",
    "\n",
    "function addPhoto() {\n",
    "  var img = createImg('apples2.jpg');\n",
    "  \n",
    "  img.size(100, 100);\n",
    "  img.parent(p);\n",
    "  // img.parent(this);\n",
    " \n",
    "}\n",
    "```"
   ]
  },
  {
   "cell_type": "markdown",
   "metadata": {},
   "source": [
    "```javascript\n",
    "// var p;\n",
    "\n",
    "function setup() {\n",
    "  noCanvas()\n",
    "  for (var i = 0; i < 5; i++) {\n",
    "    \n",
    "    var p = createP('This is a link: ');\n",
    "    p.style('background-color', '#CCC');\n",
    "    p.style('padding', '24px');\n",
    "    \n",
    "    var a = createA('#', 'apples');\n",
    "    a.mousePressed(addPhoto);\n",
    "    a.parent(p);\n",
    "  }\n",
    "\n",
    "}\n",
    "\n",
    "function addPhoto() {\n",
    "  var img = createImg('apples2.jpg');\n",
    "  img.size(100, 100);\n",
    "  \n",
    "  // img.parent(p);\n",
    "  img.parent(this);\n",
    " \n",
    "}\n",
    "```"
   ]
  },
  {
   "cell_type": "markdown",
   "metadata": {},
   "source": [
    "```javascript\n",
    "// var p;\n",
    "\n",
    "function setup() {\n",
    "  noCanvas()\n",
    "  for (var i = 0; i < 5; i++) {\n",
    "    \n",
    "    var p = createP('This is a link: ');\n",
    "    p.style('background-color', '#CCC');\n",
    "    p.style('padding', '24px');\n",
    "    \n",
    "    var a = createA('#', 'apples');\n",
    "    a.mousePressed(addPhoto);\n",
    "    a.parent(p);\n",
    "  }\n",
    "\n",
    "}\n",
    "\n",
    "function addPhoto() {\n",
    "  var img = createImg('appleImage.jpg');\n",
    "  img.size(100, 100);\n",
    "  var paragraph = this.parent();\n",
    "  \n",
    "  img.parent(paragraph);\n",
    " \n",
    "}\n",
    "\n",
    "```"
   ]
  },
  {
   "cell_type": "markdown",
   "metadata": {},
   "source": [
    "```javascript\n",
    "// var p;\n",
    "var images = [];\n",
    "function setup() {\n",
    "  noCanvas()\n",
    "  for (var i = 0; i < 5; i++) {\n",
    "    \n",
    "    var p = createP('This is a link: ');\n",
    "    p.style('background-color', '#CCC');\n",
    "    p.style('padding', '24px');\n",
    "    \n",
    "    var a = createA('#', 'apples');\n",
    "    a.mousePressed(addPhoto);\n",
    "    a.parent(p);\n",
    "  }\n",
    "  \n",
    "  var button = select('#clear');\n",
    "  button.mousePressed(clearStuff);\n",
    "}\n",
    "function clearStuff() {\n",
    "  for (var i = 0; i < images.length; i++) {\n",
    "    images[i].remove();\n",
    "    // images[i].hide();\n",
    "  }\n",
    "  images = [];\n",
    "}\n",
    "function addPhoto() {\n",
    "  var img = createImg('appleImage.jpg');\n",
    "  images.push(img);\n",
    "  img.size(100, 100);\n",
    "  // img.parent(p);\n",
    "  // img.parent(this);\n",
    "  var paragraph = this.parent();\n",
    "  img.parent(paragraph);\n",
    "}\n",
    "\n",
    "```"
   ]
  },
  {
   "cell_type": "markdown",
   "metadata": {},
   "source": [
    "### 7.14: parent() and child() again with Variables - p5.js Tutorial"
   ]
  },
  {
   "cell_type": "code",
   "execution_count": 14,
   "metadata": {
    "collapsed": false
   },
   "outputs": [
    {
     "data": {
      "text/html": [
       "<iframe src=\"https://www.youtube.com/embed/4OAG_BkQcPE?list=PLRqwX-V7Uu6bI1SlcCRfLH79HZrFAtBvX\" \n",
       "width=\"560\" height=\"315\" frameborder=\"0\" allowfullscreen></iframe>"
      ],
      "text/plain": [
       "<IPython.core.display.HTML object>"
      ]
     },
     "metadata": {},
     "output_type": "display_data"
    }
   ],
   "source": [
    "%%html\n",
    "<iframe src=\"https://www.youtube.com/embed/4OAG_BkQcPE?list=PLRqwX-V7Uu6bI1SlcCRfLH79HZrFAtBvX\" \n",
    "width=\"560\" height=\"315\" frameborder=\"0\" allowfullscreen></iframe>"
   ]
  },
  {
   "cell_type": "markdown",
   "metadata": {},
   "source": [
    "### 7.15: Drag and Drop a File - p5.js Tutorial"
   ]
  },
  {
   "cell_type": "code",
   "execution_count": 15,
   "metadata": {
    "collapsed": false
   },
   "outputs": [
    {
     "data": {
      "text/html": [
       "<iframe src=\"https://www.youtube.com/embed/o4UmGrPst_c?list=PLRqwX-V7Uu6bI1SlcCRfLH79HZrFAtBvX\" \n",
       "width=\"560\" height=\"315\" frameborder=\"0\" allowfullscreen></iframe>"
      ],
      "text/plain": [
       "<IPython.core.display.HTML object>"
      ]
     },
     "metadata": {},
     "output_type": "display_data"
    }
   ],
   "source": [
    "%%html\n",
    "<iframe src=\"https://www.youtube.com/embed/o4UmGrPst_c?list=PLRqwX-V7Uu6bI1SlcCRfLH79HZrFAtBvX\" \n",
    "width=\"560\" height=\"315\" frameborder=\"0\" allowfullscreen></iframe>"
   ]
  },
  {
   "cell_type": "markdown",
   "metadata": {},
   "source": [
    "```javascript\n",
    "var dropzone;\n",
    "function setup() {\n",
    "  createCanvas(200, 200);\n",
    "  background(0);\n",
    "  \n",
    "  dropzone = select('#dropzone');\n",
    "  dropzone.dragOver(highlight);\n",
    "  dropzone.dragLeave(unhighlight);\n",
    "  dropzone.drop(gotFile, unhighlight);\n",
    "}\n",
    "\n",
    "function gotFile(file) {\n",
    "  createP(file.name + \" \" + file.size);\n",
    "  var img = createImg(file.data);\n",
    "  img.size(100, 100);\n",
    "  \n",
    "}\n",
    "\n",
    "function highlight() {\n",
    "  dropzone.style('background-color','#ccc');\n",
    "}\n",
    "\n",
    "function unhighlight() {\n",
    "  dropzone.style('background-color','#fff');\n",
    "}\n",
    "```"
   ]
  },
  {
   "cell_type": "markdown",
   "metadata": {},
   "source": [
    "### 7.16: The Slider Dance - p5.js Tutorial"
   ]
  },
  {
   "cell_type": "code",
   "execution_count": 16,
   "metadata": {
    "collapsed": false
   },
   "outputs": [
    {
     "data": {
      "text/html": [
       "<iframe src=\"https://www.youtube.com/embed/CMsD3IigG7g?list=PLRqwX-V7Uu6bI1SlcCRfLH79HZrFAtBvX\" \n",
       "width=\"560\" height=\"315\" frameborder=\"0\" allowfullscreen></iframe>"
      ],
      "text/plain": [
       "<IPython.core.display.HTML object>"
      ]
     },
     "metadata": {},
     "output_type": "display_data"
    }
   ],
   "source": [
    "%%html\n",
    "<iframe src=\"https://www.youtube.com/embed/CMsD3IigG7g?list=PLRqwX-V7Uu6bI1SlcCRfLH79HZrFAtBvX\" \n",
    "width=\"560\" height=\"315\" frameborder=\"0\" allowfullscreen></iframe>"
   ]
  },
  {
   "cell_type": "markdown",
   "metadata": {},
   "source": [
    "# 8.\n",
    "### 8.1: Introduction to Data and APIs in JavaScript - p5.js Tutorial"
   ]
  },
  {
   "cell_type": "code",
   "execution_count": 17,
   "metadata": {
    "collapsed": false
   },
   "outputs": [
    {
     "data": {
      "text/html": [
       "<iframe src=\"https://www.youtube.com/embed/rJaXOFfwGVw?list=PLRqwX-V7Uu6a-SQiI4RtIwuOrLJGnel0r\" \n",
       "width=\"560\" height=\"315\" frameborder=\"0\" allowfullscreen></iframe>"
      ],
      "text/plain": [
       "<IPython.core.display.HTML object>"
      ]
     },
     "metadata": {},
     "output_type": "display_data"
    }
   ],
   "source": [
    "%%html\n",
    "<iframe src=\"https://www.youtube.com/embed/rJaXOFfwGVw?list=PLRqwX-V7Uu6a-SQiI4RtIwuOrLJGnel0r\" \n",
    "width=\"560\" height=\"315\" frameborder=\"0\" allowfullscreen></iframe>"
   ]
  },
  {
   "cell_type": "markdown",
   "metadata": {},
   "source": [
    "### 8.2: What is JSON? Part I - p5.js Tutorial"
   ]
  },
  {
   "cell_type": "code",
   "execution_count": 18,
   "metadata": {
    "collapsed": false
   },
   "outputs": [
    {
     "data": {
      "text/html": [
       "<iframe src=\"https://www.youtube.com/embed/_NFkzw6oFtQ?list=PLRqwX-V7Uu6a-SQiI4RtIwuOrLJGnel0r\" \n",
       "width=\"560\" height=\"315\" frameborder=\"0\" allowfullscreen></iframe>"
      ],
      "text/plain": [
       "<IPython.core.display.HTML object>"
      ]
     },
     "metadata": {},
     "output_type": "display_data"
    }
   ],
   "source": [
    "%%html\n",
    "<iframe src=\"https://www.youtube.com/embed/_NFkzw6oFtQ?list=PLRqwX-V7Uu6a-SQiI4RtIwuOrLJGnel0r\" \n",
    "width=\"560\" height=\"315\" frameborder=\"0\" allowfullscreen></iframe>"
   ]
  },
  {
   "cell_type": "markdown",
   "metadata": {},
   "source": [
    "```javascript\n",
    "/* \n",
    "https://vimeo.com/144162099\n",
    "JSON Formatter & Validator (referred at 08:11) https://jsonformatter.curiousconcept.com/\n",
    "(Shiffman tries to sing @ 11:24)\n",
    "*/\n",
    "\n",
    "var flower;\n",
    "\n",
    "function preload() {\n",
    "  flower = loadJSON(\"flower.json\");\n",
    "}\n",
    "\n",
    "function setup() {\n",
    "  createCanvas(400, 400);\n",
    "  \n",
    "  // flower = {\n",
    "  //   name: \"sunflower\",\n",
    "  //   col: color(200, 220, 0)\n",
    "  // }\n",
    "}\n",
    "\n",
    "function draw() {\n",
    "  background(0);\n",
    "  fill(flower.r, flower.g, flower.b);\n",
    "  text(flower.name, 10, 50);\n",
    "\n",
    "}\n",
    "```"
   ]
  },
  {
   "cell_type": "markdown",
   "metadata": {},
   "source": [
    "### 8.3: What is JSON? Part II - p5.js Tutorial"
   ]
  },
  {
   "cell_type": "code",
   "execution_count": 19,
   "metadata": {
    "collapsed": false
   },
   "outputs": [
    {
     "data": {
      "text/html": [
       "<iframe src=\"https://www.youtube.com/embed/118sDpLOClw?list=PLRqwX-V7Uu6a-SQiI4RtIwuOrLJGnel0r\" \n",
       "width=\"560\" height=\"315\" frameborder=\"0\" allowfullscreen></iframe>"
      ],
      "text/plain": [
       "<IPython.core.display.HTML object>"
      ]
     },
     "metadata": {},
     "output_type": "display_data"
    }
   ],
   "source": [
    "%%html\n",
    "<iframe src=\"https://www.youtube.com/embed/118sDpLOClw?list=PLRqwX-V7Uu6a-SQiI4RtIwuOrLJGnel0r\" \n",
    "width=\"560\" height=\"315\" frameborder=\"0\" allowfullscreen></iframe>"
   ]
  },
  {
   "cell_type": "markdown",
   "metadata": {},
   "source": [
    "```javascript\n",
    "/* https://vimeo.com/144162102\n",
    "JSON source (5:05) https://github.com/dariusk/corpora/blob/master/data/animals/birds_antarctica.json\n",
    "Video referenced (9:05)\"createP from DOM\" https://vimeo.com/142698165 */\n",
    "\n",
    "var data;\n",
    "\n",
    "function preload() {\n",
    "  data = loadJSON(\"birds.json\");\n",
    "}\n",
    "\n",
    "function setup() {\n",
    "  //createCanvas(400, 400);\n",
    "  // var bird = data.birds[1].members[2];\n",
    "  //createP[bird];\n",
    "\n",
    "  var birds = data.birds;\n",
    "\n",
    "  for (var i = 0; i < birds.length; i++) {\n",
    "    createElement('h1', birds[i].family);\n",
    "    var members = birds[i].members;\n",
    "    for (var j = 0; j < members.length; j++) {\n",
    "      createDiv(members[j]);\n",
    "    }\n",
    "  }\n",
    "}\n",
    "```"
   ]
  },
  {
   "cell_type": "markdown",
   "metadata": {},
   "source": [
    "```json\n",
    "//birds.json\n",
    "{\n",
    "  \"description\": \"Birds of Antarctica, grouped by family\",\n",
    "  \"source\": \"https://en.wikipedia.org/wiki/List_of_birds_of_Antarctica\",\n",
    "  \"birds\": [\n",
    "    {\n",
    "      \"family\": \"Albatrosses\",\n",
    "      \"members\": [\n",
    "        \"Wandering albatross\",\n",
    "        \"Grey-headed albatross\",\n",
    "        \"Black-browed albatross\",\n",
    "        \"Sooty albatross\",\n",
    "        \"Light-mantled albatross\"\n",
    "      ]\n",
    "    },\n",
    "    {\n",
    "      \"family\": \"Cormorants\",\n",
    "      \"members\": [\n",
    "        \"Antarctic shag\",\n",
    "        \"Imperial shag\",\n",
    "        \"Crozet shag\"\n",
    "      ]\n",
    "    },\n",
    "    {\n",
    "      \"family\": \"Diving petrels\",\n",
    "      \"members\": [\n",
    "        \"South Georgia diving petrel\",\n",
    "        \"Common diving petrel\"\n",
    "      ]\n",
    "    },\n",
    "    {\n",
    "      \"family\": \"Ducks, geese and swans\",\n",
    "      \"members\": [\n",
    "        \"Yellow-billed pintail\"\n",
    "      ]\n",
    "    },\n",
    "    {\n",
    "      \"family\": \"Gulls\",\n",
    "      \"members\": [\n",
    "        \"Kelp gull\"\n",
    "      ]\n",
    "    },\n",
    "    {\n",
    "      \"family\": \"Penguins\",\n",
    "      \"members\": [\n",
    "        \"King penguin\",\n",
    "        \"Emperor penguin\",\n",
    "        \"Gentoo penguin\",\n",
    "        \"Adelie penguin\",\n",
    "        \"Chinstrap penguin\",\n",
    "        \"Rockhopper penguin\",\n",
    "        \"Macaroni penguin\"\n",
    "      ]\n",
    "    },\n",
    "    {\n",
    "      \"family\": \"Shearwaters and petrels\",\n",
    "      \"members\": [\n",
    "        \"Antarctic giant petrel\",\n",
    "        \"Hall's giant petrel\",\n",
    "        \"Southern fulmar\",\n",
    "        \"Antarctic petrel\",\n",
    "        \"Cape petrel\",\n",
    "        \"Snow petrel\",\n",
    "        \"Great-winged petrel\",\n",
    "        \"White-headed petrel\",\n",
    "        \"Blue petrel\",\n",
    "        \"Broad-billed prion\",\n",
    "        \"Salvin's prion\",\n",
    "        \"Antarctic prion\",\n",
    "        \"Slender-billed prion\",\n",
    "        \"Fairy prion\",\n",
    "        \"Grey petrel\",\n",
    "        \"White-chinned petrel\",\n",
    "        \"Kerguelen petrel\",\n",
    "        \"Sooty shearwater\"\n",
    "      ]\n",
    "    },\n",
    "    {\n",
    "      \"family\": \"Sheathbills\",\n",
    "      \"members\": [\n",
    "        \"Snowy sheathbill\"\n",
    "      ]\n",
    "    },\n",
    "    {\n",
    "      \"family\": \"Skuas and jaegers\",\n",
    "      \"members\": [\n",
    "        \"South polar skua\",\n",
    "        \"Brown skua\"\n",
    "      ]\n",
    "    },\n",
    "    {\n",
    "      \"family\": \"Storm petrels\",\n",
    "      \"members\": [\n",
    "        \"Grey-backed storm petrel\",\n",
    "        \"Wilson's storm petrel\",\n",
    "        \"Black-bellied storm petrel\"\n",
    "      ]\n",
    "    },\n",
    "    {\n",
    "      \"family\": \"Terns\",\n",
    "      \"members\": [\n",
    "        \"Arctic tern\",\n",
    "        \"Antarctic tern\"\n",
    "      ]\n",
    "    }\n",
    "  ]\n",
    "}\n",
    "```"
   ]
  },
  {
   "cell_type": "markdown",
   "metadata": {},
   "source": [
    "```json\n",
    "//flower.json\n",
    "{\n",
    "  \"name\": \"sunflower\",\n",
    "  \"r\": 255,\n",
    "  \"g\": 200,\n",
    "  \"b\": 0\n",
    "}\n",
    "```"
   ]
  },
  {
   "cell_type": "markdown",
   "metadata": {},
   "source": [
    "### 8.4: Loading JSON data from a URL (Asynchronous Callbacks!) - p5.js Tutorial"
   ]
  },
  {
   "cell_type": "code",
   "execution_count": 20,
   "metadata": {
    "collapsed": false
   },
   "outputs": [
    {
     "data": {
      "text/html": [
       "<iframe src=\"https://www.youtube.com/embed/6mT3r8Qn1VY?list=PLRqwX-V7Uu6a-SQiI4RtIwuOrLJGnel0r\" \n",
       "width=\"560\" height=\"315\" frameborder=\"0\" allowfullscreen></iframe>"
      ],
      "text/plain": [
       "<IPython.core.display.HTML object>"
      ]
     },
     "metadata": {},
     "output_type": "display_data"
    }
   ],
   "source": [
    "%%html\n",
    "<iframe src=\"https://www.youtube.com/embed/6mT3r8Qn1VY?list=PLRqwX-V7Uu6a-SQiI4RtIwuOrLJGnel0r\" \n",
    "width=\"560\" height=\"315\" frameborder=\"0\" allowfullscreen></iframe>"
   ]
  },
  {
   "cell_type": "markdown",
   "metadata": {},
   "source": [
    "```javascript\n",
    "\n",
    "```"
   ]
  },
  {
   "cell_type": "markdown",
   "metadata": {},
   "source": [
    "### 8.5: Working with APIs in Javascript - p5.js Tutorial"
   ]
  },
  {
   "cell_type": "code",
   "execution_count": 21,
   "metadata": {
    "collapsed": false
   },
   "outputs": [
    {
     "data": {
      "text/html": [
       "<iframe src=\"https://www.youtube.com/embed/ecT42O6I_WI?list=PLRqwX-V7Uu6a-SQiI4RtIwuOrLJGnel0r\" \n",
       "width=\"560\" height=\"315\" frameborder=\"0\" allowfullscreen></iframe>"
      ],
      "text/plain": [
       "<IPython.core.display.HTML object>"
      ]
     },
     "metadata": {},
     "output_type": "display_data"
    }
   ],
   "source": [
    "%%html\n",
    "<iframe src=\"https://www.youtube.com/embed/ecT42O6I_WI?list=PLRqwX-V7Uu6a-SQiI4RtIwuOrLJGnel0r\" \n",
    "width=\"560\" height=\"315\" frameborder=\"0\" allowfullscreen></iframe>"
   ]
  },
  {
   "cell_type": "markdown",
   "metadata": {},
   "source": [
    "### 8.6: API Query with User Input - p5.js Tutorial"
   ]
  },
  {
   "cell_type": "code",
   "execution_count": 22,
   "metadata": {
    "collapsed": false
   },
   "outputs": [
    {
     "data": {
      "text/html": [
       "<iframe src=\"https://www.youtube.com/embed/4UoUqnjUC2c?list=PLRqwX-V7Uu6a-SQiI4RtIwuOrLJGnel0r\" \n",
       "width=\"560\" height=\"315\" frameborder=\"0\" allowfullscreen></iframe>"
      ],
      "text/plain": [
       "<IPython.core.display.HTML object>"
      ]
     },
     "metadata": {},
     "output_type": "display_data"
    }
   ],
   "source": [
    "%%html\n",
    "<iframe src=\"https://www.youtube.com/embed/4UoUqnjUC2c?list=PLRqwX-V7Uu6a-SQiI4RtIwuOrLJGnel0r\" \n",
    "width=\"560\" height=\"315\" frameborder=\"0\" allowfullscreen></iframe>"
   ]
  },
  {
   "cell_type": "markdown",
   "metadata": {},
   "source": [
    "```javascript\n",
    "var weather;\n",
    "\n",
    "var api = 'http://api.openweathermap.org/data/2.5/weather?q=';\n",
    "var apiKey = '&APPID=001b0f58045147663b1ea518d34d88b4';\n",
    "var units = '&units=metric';\n",
    "\n",
    "var input;\n",
    "\n",
    "function setup() {\n",
    "  createCanvas(400, 200);\n",
    "\n",
    "  var button = select('#submit');\n",
    "  button.mousePressed(weatherAsk);\n",
    "\n",
    "  input = select('#city');\n",
    "}\n",
    "\n",
    "function weatherAsk() {\n",
    "  var url = api + input.value() + apiKey + units;\n",
    "  loadJSON(url, gotData);\n",
    "}\n",
    "\n",
    "function gotData(data) {\n",
    "  weather = data;\n",
    "}\n",
    "\n",
    "function draw() {\n",
    "  background(0);\n",
    "  if (weather) {\n",
    "    var temp = weather.main.temp;\n",
    "    var humidity = weather.main.humidity;\n",
    "    ellipse(100, 100, temp, temp);\n",
    "    ellipse(300, 100, humidity, humidity);\n",
    "  }\n",
    "}\n",
    "```"
   ]
  },
  {
   "cell_type": "markdown",
   "metadata": {},
   "source": [
    "### 8.7: API Query with JavaScript setInterval() - p5.js Tutorial"
   ]
  },
  {
   "cell_type": "code",
   "execution_count": 23,
   "metadata": {
    "collapsed": false
   },
   "outputs": [
    {
     "data": {
      "text/html": [
       "<iframe src=\"https://www.youtube.com/embed/UNtqhnhD-wo?list=PLRqwX-V7Uu6a-SQiI4RtIwuOrLJGnel0r\" \n",
       "width=\"560\" height=\"315\" frameborder=\"0\" allowfullscreen></iframe>"
      ],
      "text/plain": [
       "<IPython.core.display.HTML object>"
      ]
     },
     "metadata": {},
     "output_type": "display_data"
    }
   ],
   "source": [
    "%%html\n",
    "<iframe src=\"https://www.youtube.com/embed/UNtqhnhD-wo?list=PLRqwX-V7Uu6a-SQiI4RtIwuOrLJGnel0r\" \n",
    "width=\"560\" height=\"315\" frameborder=\"0\" allowfullscreen></iframe>"
   ]
  },
  {
   "cell_type": "markdown",
   "metadata": {},
   "source": [
    "### 8.8: Wordnik API and JavaScript - p5.js Tutorial"
   ]
  },
  {
   "cell_type": "code",
   "execution_count": 24,
   "metadata": {
    "collapsed": false
   },
   "outputs": [
    {
     "data": {
      "text/html": [
       "<iframe src=\"https://www.youtube.com/embed/YsgdUaOrFnQ?list=PLRqwX-V7Uu6a-SQiI4RtIwuOrLJGnel0r\" \n",
       "width=\"560\" height=\"315\" frameborder=\"0\" allowfullscreen></iframe>"
      ],
      "text/plain": [
       "<IPython.core.display.HTML object>"
      ]
     },
     "metadata": {},
     "output_type": "display_data"
    }
   ],
   "source": [
    "%%html\n",
    "<iframe src=\"https://www.youtube.com/embed/YsgdUaOrFnQ?list=PLRqwX-V7Uu6a-SQiI4RtIwuOrLJGnel0r\" \n",
    "width=\"560\" height=\"315\" frameborder=\"0\" allowfullscreen></iframe>"
   ]
  },
  {
   "cell_type": "markdown",
   "metadata": {},
   "source": [
    "### 8.9: New York Times API and JavaScript - p5.js Tutorial"
   ]
  },
  {
   "cell_type": "code",
   "execution_count": 25,
   "metadata": {
    "collapsed": false
   },
   "outputs": [
    {
     "data": {
      "text/html": [
       "<iframe src=\"https://www.youtube.com/embed/IMne3LY4bks?list=PLRqwX-V7Uu6a-SQiI4RtIwuOrLJGnel0r\" \n",
       "width=\"560\" height=\"315\" frameborder=\"0\" allowfullscreen></iframe>"
      ],
      "text/plain": [
       "<IPython.core.display.HTML object>"
      ]
     },
     "metadata": {},
     "output_type": "display_data"
    }
   ],
   "source": [
    "%%html\n",
    "<iframe src=\"https://www.youtube.com/embed/IMne3LY4bks?list=PLRqwX-V7Uu6a-SQiI4RtIwuOrLJGnel0r\" \n",
    "width=\"560\" height=\"315\" frameborder=\"0\" allowfullscreen></iframe>"
   ]
  },
  {
   "cell_type": "markdown",
   "metadata": {},
   "source": [
    "### 8.10: The Giphy API and JavaScript - p5.js Tutorial"
   ]
  },
  {
   "cell_type": "code",
   "execution_count": 26,
   "metadata": {
    "collapsed": false
   },
   "outputs": [
    {
     "data": {
      "text/html": [
       "<iframe src=\"https://www.youtube.com/embed/mj8_w11MvH8?list=PLRqwX-V7Uu6a-SQiI4RtIwuOrLJGnel0r\" \n",
       "width=\"560\" height=\"315\" frameborder=\"0\" allowfullscreen></iframe>"
      ],
      "text/plain": [
       "<IPython.core.display.HTML object>"
      ]
     },
     "metadata": {},
     "output_type": "display_data"
    }
   ],
   "source": [
    "%%html\n",
    "<iframe src=\"https://www.youtube.com/embed/mj8_w11MvH8?list=PLRqwX-V7Uu6a-SQiI4RtIwuOrLJGnel0r\" \n",
    "width=\"560\" height=\"315\" frameborder=\"0\" allowfullscreen></iframe>"
   ]
  },
  {
   "cell_type": "markdown",
   "metadata": {},
   "source": [
    "```javascript\n",
    "var api = \"http://api.giphy.com/v1/gifs/search?\";\n",
    "var apiKey = \"&api_key=dc6zaTOxFJmzC\";\n",
    "var query = \"&q=rainbow\";\n",
    "\n",
    "\n",
    "function setup() {\n",
    "  noCanvas();\n",
    "  var url = api + apiKey + query;\n",
    "  loadJSON(url, gotData);\n",
    "}\n",
    "\n",
    "function gotData(giphy) {\n",
    "  for (var i = 0; i < giphy.data.length; i++) {\n",
    "    createImg(giphy.data[i].images.original.url);\n",
    "  }\n",
    "\n",
    "}\n",
    "```"
   ]
  },
  {
   "cell_type": "markdown",
   "metadata": {},
   "source": [
    "# 9. \n",
    "### 9.1: JavaScript setTimeout() Function - p5.js Tutorial"
   ]
  },
  {
   "cell_type": "code",
   "execution_count": 27,
   "metadata": {
    "collapsed": false
   },
   "outputs": [
    {
     "data": {
      "text/html": [
       "<iframe src=\"https://www.youtube.com/embed/nGfTjA8qNDA?list=PLRqwX-V7Uu6ZmA-d3D0iFIvgrB5_7kB8H\" \n",
       "width=\"560\" height=\"315\" frameborder=\"0\" allowfullscreen></iframe>"
      ],
      "text/plain": [
       "<IPython.core.display.HTML object>"
      ]
     },
     "metadata": {},
     "output_type": "display_data"
    }
   ],
   "source": [
    "%%html\n",
    "<iframe src=\"https://www.youtube.com/embed/nGfTjA8qNDA?list=PLRqwX-V7Uu6ZmA-d3D0iFIvgrB5_7kB8H\" \n",
    "width=\"560\" height=\"315\" frameborder=\"0\" allowfullscreen></iframe>"
   ]
  },
  {
   "cell_type": "markdown",
   "metadata": {},
   "source": [
    "```javascript\n",
    "var x = 0;\n",
    "\n",
    "function setup() {\n",
    "  createCanvas(200, 200);\n",
    "  //rainbow();\n",
    "  setTimeout(rainbow, 1000);\n",
    "}\n",
    "\n",
    "// function mousePressed() {\n",
    "//   setTimeout(rainbow, 3000);\n",
    "// }\n",
    "\n",
    "function rainbow() {\n",
    "  createP('rainbow');\n",
    "  setTimeout(rainbow, 1000);\n",
    "}\n",
    "\n",
    "function draw() {\n",
    "  background(51);\n",
    "  stroke(255);\n",
    "  line(x, 0, x, height);\n",
    "\n",
    "  x = x + 3;\n",
    "  if (x > width) {\n",
    "    x = 0;\n",
    "  }\n",
    "}\n",
    "```"
   ]
  },
  {
   "cell_type": "markdown",
   "metadata": {},
   "source": [
    "### 9.2: JavaScript setInterval() Function - p5.js Tutorial"
   ]
  },
  {
   "cell_type": "code",
   "execution_count": 28,
   "metadata": {
    "collapsed": false
   },
   "outputs": [
    {
     "data": {
      "text/html": [
       "<iframe src=\"https://www.youtube.com/embed/CqDqHiamRHA?list=PLRqwX-V7Uu6ZmA-d3D0iFIvgrB5_7kB8H\" \n",
       "width=\"560\" height=\"315\" frameborder=\"0\" allowfullscreen></iframe>"
      ],
      "text/plain": [
       "<IPython.core.display.HTML object>"
      ]
     },
     "metadata": {},
     "output_type": "display_data"
    }
   ],
   "source": [
    "%%html\n",
    "<iframe src=\"https://www.youtube.com/embed/CqDqHiamRHA?list=PLRqwX-V7Uu6ZmA-d3D0iFIvgrB5_7kB8H\" \n",
    "width=\"560\" height=\"315\" frameborder=\"0\" allowfullscreen></iframe>"
   ]
  },
  {
   "cell_type": "markdown",
   "metadata": {},
   "source": [
    "```javascript\n",
    "var x = 0;\n",
    "var counter = 0;\n",
    "var timer2 = 0;\n",
    "\n",
    "function setup() {\n",
    "  createCanvas(200, 200);\n",
    "  timer = createP('timer 1');\n",
    "  timer2 = createP('timer 2');\n",
    "  \n",
    "  interval = setInterval(timeIt, 500);\n",
    "}\n",
    "\n",
    "function timeIt() {\n",
    "  timer.html(counter);\n",
    "  counter++;\n",
    "}\n",
    "\n",
    "function draw() {\n",
    "  background(51);\n",
    "  stroke(255);\n",
    "  line(x, 0, x, height);\n",
    "\n",
    "  x = x + 3;\n",
    "  if (x > width) {\n",
    "    x = 0;\n",
    "  }\n",
    "}\n",
    "```"
   ]
  },
  {
   "cell_type": "markdown",
   "metadata": {},
   "source": [
    "```javascript\n",
    "var x = 0;\n",
    "\n",
    "var timer;\n",
    "var counter = 0;\n",
    "var interval;\n",
    "var button;\n",
    "\n",
    "function setup() {\n",
    "  createCanvas(200, 200);\n",
    "  timer = createP('timer');\n",
    "  button = createButton('start timer');\n",
    "  button.mousePressed(doTimer);\n",
    "}\n",
    "\n",
    "function doTimer() {\n",
    "  if (!interval) {\n",
    "    interval = setInterval(timeIt, 500);\n",
    "    button.html('stop timer');\n",
    "  } else {\n",
    "    clearInterval(interval);\n",
    "    interval = false;\n",
    "    button.html('start timer');\n",
    "  }\n",
    "}\n",
    "\n",
    "function timeIt() {\n",
    "  timer.html(counter);\n",
    "  counter++;\n",
    "}\n",
    "\n",
    "function draw() {\n",
    "  background(51);\n",
    "  stroke(255);\n",
    "  line(x, 0, x, height);\n",
    "\n",
    "  x = x + 3;\n",
    "  if (x > width) {\n",
    "    x = 0;\n",
    "  }\n",
    "}\n",
    "```"
   ]
  },
  {
   "cell_type": "markdown",
   "metadata": {},
   "source": [
    "### 9.3: JavaScript Closure - p5.js Tutorial"
   ]
  },
  {
   "cell_type": "code",
   "execution_count": 29,
   "metadata": {
    "collapsed": false
   },
   "outputs": [
    {
     "data": {
      "text/html": [
       "<iframe src=\"https://www.youtube.com/embed/-jysK0nlz7A?list=PLRqwX-V7Uu6ZmA-d3D0iFIvgrB5_7kB8H\" \n",
       "width=\"560\" height=\"315\" frameborder=\"0\" allowfullscreen></iframe>"
      ],
      "text/plain": [
       "<IPython.core.display.HTML object>"
      ]
     },
     "metadata": {},
     "output_type": "display_data"
    }
   ],
   "source": [
    "%%html\n",
    "<iframe src=\"https://www.youtube.com/embed/-jysK0nlz7A?list=PLRqwX-V7Uu6ZmA-d3D0iFIvgrB5_7kB8H\" \n",
    "width=\"560\" height=\"315\" frameborder=\"0\" allowfullscreen></iframe>"
   ]
  },
  {
   "cell_type": "markdown",
   "metadata": {},
   "source": [
    "```javascript\n",
    "var x = 0;\n",
    "var timer1;\n",
    "var timer2;\n",
    "\n",
    "function setup() {\n",
    "  createCanvas(200, 200);\n",
    "  timer1 = createP('timer 1');\n",
    "  timer2 = createP('timer 2');\n",
    "\n",
    "  makeTimer(timer1, 500);\n",
    "  makeTimer(timer2, 312);\n",
    "\n",
    "}\n",
    "\n",
    "function makeTimer(elt, wait) {\n",
    "  var counter = 0;\n",
    "  setInterval(timeIt, wait);\n",
    "  function timeIt() {\n",
    "    elt.html(counter);\n",
    "    counter++;\n",
    "  }\n",
    "}\n",
    "\n",
    "\n",
    "\n",
    "\n",
    "\n",
    "function draw() {\n",
    "  background(51);\n",
    "  stroke(255);\n",
    "  line(x, 0, x, height);\n",
    "\n",
    "  x = x + 3;\n",
    "  if (x > width) {\n",
    "    x = 0;\n",
    "  }\n",
    "}\n",
    "```"
   ]
  },
  {
   "cell_type": "markdown",
   "metadata": {},
   "source": [
    "### 9.4: Drawing Object Trails - p5.js Tutorial"
   ]
  },
  {
   "cell_type": "code",
   "execution_count": 30,
   "metadata": {
    "collapsed": false
   },
   "outputs": [
    {
     "data": {
      "text/html": [
       "<iframe src=\"https://www.youtube.com/embed/vqE8DMfOajk?list=PLRqwX-V7Uu6ZmA-d3D0iFIvgrB5_7kB8H\" \n",
       "width=\"560\" height=\"315\" frameborder=\"0\" allowfullscreen></iframe>"
      ],
      "text/plain": [
       "<IPython.core.display.HTML object>"
      ]
     },
     "metadata": {},
     "output_type": "display_data"
    }
   ],
   "source": [
    "%%html\n",
    "<iframe src=\"https://www.youtube.com/embed/vqE8DMfOajk?list=PLRqwX-V7Uu6ZmA-d3D0iFIvgrB5_7kB8H\" \n",
    "width=\"560\" height=\"315\" frameborder=\"0\" allowfullscreen></iframe>"
   ]
  },
  {
   "cell_type": "markdown",
   "metadata": {},
   "source": [
    "```javascript\n",
    "// Daniel Shiffman\n",
    "// code for https://youtu.be/vqE8DMfOajk\n",
    "\n",
    "var particles = [];\n",
    "\n",
    "function setup() {\n",
    "  createCanvas(600, 600);\n",
    "}\n",
    "\n",
    "function mousePressed() {\n",
    "  particles.push(new Particle(mouseX, mouseY));\n",
    "}\n",
    "\n",
    "function draw() {\n",
    "  background(200);\n",
    "  for (var i = 0; i < particles.length; i++) {\n",
    "    particles[i].update();\n",
    "    particles[i].show();\n",
    "  }\n",
    "  \n",
    "  //line(frameCount, 0, frameCount, height);\n",
    "}\n",
    "```"
   ]
  },
  {
   "cell_type": "markdown",
   "metadata": {},
   "source": [
    "### 9.5: Random Circles with No Overlap - p5.js Tutorial"
   ]
  },
  {
   "cell_type": "code",
   "execution_count": 31,
   "metadata": {
    "collapsed": false
   },
   "outputs": [
    {
     "data": {
      "text/html": [
       "<iframe src=\"https://www.youtube.com/embed/XATr_jdh-44?list=PLRqwX-V7Uu6ZmA-d3D0iFIvgrB5_7kB8H\" \n",
       "width=\"560\" height=\"315\" frameborder=\"0\" allowfullscreen></iframe>"
      ],
      "text/plain": [
       "<IPython.core.display.HTML object>"
      ]
     },
     "metadata": {},
     "output_type": "display_data"
    }
   ],
   "source": [
    "%%html\n",
    "<iframe src=\"https://www.youtube.com/embed/XATr_jdh-44?list=PLRqwX-V7Uu6ZmA-d3D0iFIvgrB5_7kB8H\" \n",
    "width=\"560\" height=\"315\" frameborder=\"0\" allowfullscreen></iframe>"
   ]
  },
  {
   "cell_type": "markdown",
   "metadata": {},
   "source": [
    "```javascript\n",
    "// Daniel Shiffman\n",
    "// Code for: https://youtu.be/XATr_jdh-44\n",
    "\n",
    "var circles = [];\n",
    "\n",
    "function setup() {\n",
    "  createCanvas(640, 360);\n",
    "  \n",
    "  // Lets make sure we don't get stuck in infinite loop\n",
    "  var protection = 0;\n",
    "  \n",
    "  // Try to get to 500\n",
    "  while (circles.length < 500) {\n",
    "    // Pick a random circle\n",
    "    var circle = {\n",
    "      x: random(width),\n",
    "      y: random(height),\n",
    "      r: random(6, 36)\n",
    "    }\n",
    "\n",
    "    // Does it overlap any previous circles?\n",
    "    var overlapping = false;\n",
    "    for (var j = 0; j < circles.length; j++) {\n",
    "      var other = circles[j];\n",
    "      var d = dist(circle.x, circle.y, other.x, other.y);\n",
    "      if (d < circle.r + other.r) {\n",
    "        overlapping = true;\n",
    "      }\n",
    "    }\n",
    "  \n",
    "    // If not keep it!\n",
    "    if (!overlapping) {\n",
    "      circles.push(circle);\n",
    "    }\n",
    "    \n",
    "    // Are we stuck?\n",
    "    protection++;\n",
    "    if (protection > 10000) {\n",
    "      break;\n",
    "    }\n",
    "  }\n",
    "\n",
    "  // Draw all the circles\n",
    "  for (var i = 0; i < circles.length; i++) {\n",
    "    fill(255, 0, 175, 100);\n",
    "    noStroke();\n",
    "    ellipse(circles[i].x, circles[i].y, circles[i].r * 2, circles[i].r * 2);\n",
    "  }\n",
    "\n",
    "}\n",
    "```"
   ]
  },
  {
   "cell_type": "markdown",
   "metadata": {},
   "source": [
    "### 9.6: Minimum Spanning Tree (Prim's Algorithm) - p5.js Tutorial"
   ]
  },
  {
   "cell_type": "code",
   "execution_count": 32,
   "metadata": {
    "collapsed": false
   },
   "outputs": [
    {
     "data": {
      "text/html": [
       "<iframe src=\"https://www.youtube.com/embed/BxabnKrOjT0?list=PLRqwX-V7Uu6ZmA-d3D0iFIvgrB5_7kB8H\" \n",
       "width=\"560\" height=\"315\" frameborder=\"0\" allowfullscreen></iframe>"
      ],
      "text/plain": [
       "<IPython.core.display.HTML object>"
      ]
     },
     "metadata": {},
     "output_type": "display_data"
    }
   ],
   "source": [
    "%%html\n",
    "<iframe src=\"https://www.youtube.com/embed/BxabnKrOjT0?list=PLRqwX-V7Uu6ZmA-d3D0iFIvgrB5_7kB8H\" \n",
    "width=\"560\" height=\"315\" frameborder=\"0\" allowfullscreen></iframe>"
   ]
  },
  {
   "cell_type": "markdown",
   "metadata": {},
   "source": [
    "```javascript\n",
    "var vertices = [];\n",
    "\n",
    "function setup() {\n",
    "  createCanvas(640, 360);\n",
    "\n",
    "  for (var i = 0; i < 20; i++) {\n",
    "    var v = createVector(random(width), random(height));\n",
    "    vertices.push(v);\n",
    "  }\n",
    "\n",
    "}\n",
    "\n",
    "function mousePressed() {\n",
    "  var v = createVector(mouseX, mouseY);\n",
    "  vertices.push(v);\n",
    "}\n",
    "\n",
    "function draw() {\n",
    "  background(51);\n",
    "\n",
    "  var reached = [];\n",
    "  var unreached = [];\n",
    "\n",
    "  for (var i = 0; i < vertices.length; i++) {\n",
    "    unreached.push(vertices[i]);\n",
    "  }\n",
    "\n",
    "  reached.push(unreached[0]);\n",
    "  unreached.splice(0, 1);\n",
    "\n",
    "  while (unreached.length > 0) {\n",
    "    var record = 100000;\n",
    "    var rIndex;\n",
    "    var uIndex;\n",
    "    for (var i = 0; i < reached.length; i++) {\n",
    "      for (var j = 0; j < unreached.length; j++) {\n",
    "        var v1 = reached[i];\n",
    "        var v2 = unreached[j];\n",
    "        var d = dist(v1.x, v1.y, v2.x, v2.y);\n",
    "        if (d < record) {\n",
    "          record = d;\n",
    "          rIndex = i;\n",
    "          uIndex = j;\n",
    "        }\n",
    "      }\n",
    "    }\n",
    "    stroke(255);\n",
    "    strokeWeight(2);\n",
    "    line(reached[rIndex].x, reached[rIndex].y, unreached[uIndex].x, unreached[uIndex].y);\n",
    "    reached.push(unreached[uIndex]);\n",
    "    unreached.splice(uIndex, 1);\n",
    "  }\n",
    "\n",
    "\n",
    "  for (var i = 0; i < vertices.length; i++) {\n",
    "    fill(255);\n",
    "    stroke(255);\n",
    "    ellipse(vertices[i].x, vertices[i].y, 16, 16);\n",
    "  }\n",
    "\n",
    "}\n",
    "```"
   ]
  },
  {
   "cell_type": "markdown",
   "metadata": {},
   "source": [
    "### 9.7: Reset a Sketch with Button Click - p5.js Tutorial"
   ]
  },
  {
   "cell_type": "code",
   "execution_count": 33,
   "metadata": {
    "collapsed": false
   },
   "outputs": [
    {
     "data": {
      "text/html": [
       "<iframe src=\"https://www.youtube.com/embed/lm8Y8TD4CTM?list=PLRqwX-V7Uu6ZmA-d3D0iFIvgrB5_7kB8H\" \n",
       "width=\"560\" height=\"315\" frameborder=\"0\" allowfullscreen></iframe>"
      ],
      "text/plain": [
       "<IPython.core.display.HTML object>"
      ]
     },
     "metadata": {},
     "output_type": "display_data"
    }
   ],
   "source": [
    "%%html\n",
    "<iframe src=\"https://www.youtube.com/embed/lm8Y8TD4CTM?list=PLRqwX-V7Uu6ZmA-d3D0iFIvgrB5_7kB8H\" \n",
    "width=\"560\" height=\"315\" frameborder=\"0\" allowfullscreen></iframe>"
   ]
  },
  {
   "cell_type": "markdown",
   "metadata": {},
   "source": [
    "```javascript\n",
    "var flock;\n",
    "var txt;\n",
    "var frameCounter = 0;\n",
    "\n",
    "function setup() {\n",
    "  createCanvas(640, 360);\n",
    "  resetSketch();\n",
    "  var button = createButton(\"reset\");\n",
    "  button.mousePressed(resetSketch);\n",
    "  txt = createP('0');\n",
    "  txt.style('font-size','32pt');\n",
    "}\n",
    "\n",
    "function resetSketch() {\n",
    "  frameCounter = 0;\n",
    "  flock = new Flock();\n",
    "  for (var i = 0; i < 100; i++) {\n",
    "    var b = new Boid(width / 2, height / 2);\n",
    "    flock.addBoid(b);\n",
    "  }\n",
    "}\n",
    "\n",
    "function draw() {\n",
    "  background(51);\n",
    "  flock.run();\n",
    "  txt.html(frameCounter );\n",
    "  frameCounter++;\n",
    "}\n",
    "```"
   ]
  },
  {
   "cell_type": "markdown",
   "metadata": {},
   "source": [
    "### 9.8: Instance Mode (aka \"namespacing\") - p5.js Tutorial"
   ]
  },
  {
   "cell_type": "code",
   "execution_count": 34,
   "metadata": {
    "collapsed": false
   },
   "outputs": [
    {
     "data": {
      "text/html": [
       "<iframe src=\"https://www.youtube.com/embed/Su792jEauZg?list=PLRqwX-V7Uu6ZmA-d3D0iFIvgrB5_7kB8H\" \n",
       "width=\"560\" height=\"315\" frameborder=\"0\" allowfullscreen></iframe>"
      ],
      "text/plain": [
       "<IPython.core.display.HTML object>"
      ]
     },
     "metadata": {},
     "output_type": "display_data"
    }
   ],
   "source": [
    "%%html\n",
    "<iframe src=\"https://www.youtube.com/embed/Su792jEauZg?list=PLRqwX-V7Uu6ZmA-d3D0iFIvgrB5_7kB8H\" \n",
    "width=\"560\" height=\"315\" frameborder=\"0\" allowfullscreen></iframe>"
   ]
  },
  {
   "cell_type": "markdown",
   "metadata": {},
   "source": [
    "```javascript\n",
    "var sketch1 = function(p) {\n",
    "  p.x = 100;\n",
    "  p.y = 100;\n",
    "  p.setup = function() {\n",
    "    p.createCanvas(200, 200);\n",
    "    p.background(51);\n",
    "  }\n",
    "  p.draw = function() {\n",
    "    p.fill(255, 0, 200, 25);\n",
    "    p.noStroke();\n",
    "    p.ellipse(p.x, p.y, 48, 48);\n",
    "\n",
    "    p.x = p.x + p.random(-10, 10);\n",
    "    p.y = p.y + p.random(-10, 10);\n",
    "  }\n",
    "}\n",
    "\n",
    "var sketch2 = function(p) {\n",
    "  p.x = 100;\n",
    "  p.y = 100;\n",
    "  p.setup = function() {\n",
    "    p.createCanvas(200, 200);\n",
    "    p.background(51);\n",
    "  }\n",
    "  p.draw = function() {\n",
    "    p.fill(255, 200, 0, 25);\n",
    "    p.noStroke();\n",
    "    p.ellipse(p.x, p.y, 48, 48);\n",
    "\n",
    "    p.x = p.x + p.random(-10, 10);\n",
    "    p.y = p.y + p.random(-10, 10);\n",
    "  }\n",
    "}\n",
    "\n",
    "var myp5_3 = new p5();\n",
    "\n",
    "var myp5_1 = new p5(sketch1);\n",
    "var myp5_2 = new p5(sketch2);\n",
    "\n",
    "function resetBackground() {\n",
    "  myp5_1.x = myp5_1.width/2;\n",
    "  myp5_1.y = myp5_1.height/2;\n",
    "  myp5_1.background(51);\n",
    "}\n",
    "\n",
    "setInterval(resetBackground, 3000);\n",
    "```"
   ]
  },
  {
   "cell_type": "markdown",
   "metadata": {},
   "source": [
    "### 9.9: Local Server, Text Editor, JavaScript Console - p5.js Tutorial"
   ]
  },
  {
   "cell_type": "code",
   "execution_count": 35,
   "metadata": {
    "collapsed": false
   },
   "outputs": [
    {
     "data": {
      "text/html": [
       "<iframe src=\"https://www.youtube.com/embed/UCHzlUiDD10?list=PLRqwX-V7Uu6ZmA-d3D0iFIvgrB5_7kB8H\" \n",
       "width=\"560\" height=\"315\" frameborder=\"0\" allowfullscreen></iframe>"
      ],
      "text/plain": [
       "<IPython.core.display.HTML object>"
      ]
     },
     "metadata": {},
     "output_type": "display_data"
    }
   ],
   "source": [
    "%%html\n",
    "<iframe src=\"https://www.youtube.com/embed/UCHzlUiDD10?list=PLRqwX-V7Uu6ZmA-d3D0iFIvgrB5_7kB8H\" \n",
    "width=\"560\" height=\"315\" frameborder=\"0\" allowfullscreen></iframe>"
   ]
  },
  {
   "cell_type": "markdown",
   "metadata": {},
   "source": [
    "### 9.10: GitHub Pages for Hosting p5.js Sketches - p5.js Tutorial"
   ]
  },
  {
   "cell_type": "code",
   "execution_count": 36,
   "metadata": {
    "collapsed": false
   },
   "outputs": [
    {
     "data": {
      "text/html": [
       "<iframe src=\"https://www.youtube.com/embed/8HPYsDTk17A?list=PLRqwX-V7Uu6ZmA-d3D0iFIvgrB5_7kB8H\" \n",
       "width=\"560\" height=\"315\" frameborder=\"0\" allowfullscreen></iframe>"
      ],
      "text/plain": [
       "<IPython.core.display.HTML object>"
      ]
     },
     "metadata": {},
     "output_type": "display_data"
    }
   ],
   "source": [
    "%%html\n",
    "<iframe src=\"https://www.youtube.com/embed/8HPYsDTk17A?list=PLRqwX-V7Uu6ZmA-d3D0iFIvgrB5_7kB8H\" \n",
    "width=\"560\" height=\"315\" frameborder=\"0\" allowfullscreen></iframe>"
   ]
  },
  {
   "cell_type": "markdown",
   "metadata": {},
   "source": [
    "# 10. \n",
    "### 10.1: Live Video and createCapture() - p5.js Tutorial"
   ]
  },
  {
   "cell_type": "code",
   "execution_count": 37,
   "metadata": {
    "collapsed": false
   },
   "outputs": [
    {
     "data": {
      "text/html": [
       "<iframe src=\"https://www.youtube.com/embed/bkGf4fEHKak?list=PLRqwX-V7Uu6aKKsDHZdDvN6oCJ2hRY_Ig\" \n",
       "width=\"560\" height=\"315\" frameborder=\"0\" allowfullscreen></iframe>"
      ],
      "text/plain": [
       "<IPython.core.display.HTML object>"
      ]
     },
     "metadata": {},
     "output_type": "display_data"
    }
   ],
   "source": [
    "%%html\n",
    "<iframe src=\"https://www.youtube.com/embed/bkGf4fEHKak?list=PLRqwX-V7Uu6aKKsDHZdDvN6oCJ2hRY_Ig\" \n",
    "width=\"560\" height=\"315\" frameborder=\"0\" allowfullscreen></iframe>"
   ]
  },
  {
   "cell_type": "markdown",
   "metadata": {},
   "source": [
    "### 10.2: Video Photobooth / Muybridge Style Animation - p5.js Tutorial"
   ]
  },
  {
   "cell_type": "code",
   "execution_count": 38,
   "metadata": {
    "collapsed": false
   },
   "outputs": [
    {
     "data": {
      "text/html": [
       "<iframe src=\"https://www.youtube.com/embed/oLiaUEKsRws?list=PLRqwX-V7Uu6aKKsDHZdDvN6oCJ2hRY_Ig\" \n",
       "width=\"560\" height=\"315\" frameborder=\"0\" allowfullscreen></iframe>"
      ],
      "text/plain": [
       "<IPython.core.display.HTML object>"
      ]
     },
     "metadata": {},
     "output_type": "display_data"
    }
   ],
   "source": [
    "%%html\n",
    "<iframe src=\"https://www.youtube.com/embed/oLiaUEKsRws?list=PLRqwX-V7Uu6aKKsDHZdDvN6oCJ2hRY_Ig\" \n",
    "width=\"560\" height=\"315\" frameborder=\"0\" allowfullscreen></iframe>"
   ]
  },
  {
   "cell_type": "markdown",
   "metadata": {},
   "source": [
    "### 10.3: The Pixel Array - p5.js Tutorial"
   ]
  },
  {
   "cell_type": "code",
   "execution_count": 39,
   "metadata": {
    "collapsed": false
   },
   "outputs": [
    {
     "data": {
      "text/html": [
       "<iframe src=\"https://www.youtube.com/embed/nMUMZ5YRxHI?list=PLRqwX-V7Uu6aKKsDHZdDvN6oCJ2hRY_Ig\" \n",
       "width=\"560\" height=\"315\" frameborder=\"0\" allowfullscreen></iframe>"
      ],
      "text/plain": [
       "<IPython.core.display.HTML object>"
      ]
     },
     "metadata": {},
     "output_type": "display_data"
    }
   ],
   "source": [
    "%%html\n",
    "<iframe src=\"https://www.youtube.com/embed/nMUMZ5YRxHI?list=PLRqwX-V7Uu6aKKsDHZdDvN6oCJ2hRY_Ig\" \n",
    "width=\"560\" height=\"315\" frameborder=\"0\" allowfullscreen></iframe>"
   ]
  },
  {
   "cell_type": "markdown",
   "metadata": {},
   "source": [
    "### 10.4: Brightness Mirror - p5.js Tutorial"
   ]
  },
  {
   "cell_type": "code",
   "execution_count": 40,
   "metadata": {
    "collapsed": false
   },
   "outputs": [
    {
     "data": {
      "text/html": [
       "<iframe src=\"https://www.youtube.com/embed/rNqaw8LT2ZU?list=PLRqwX-V7Uu6aKKsDHZdDvN6oCJ2hRY_Ig\" \n",
       "width=\"560\" height=\"315\" frameborder=\"0\" allowfullscreen></iframe>"
      ],
      "text/plain": [
       "<IPython.core.display.HTML object>"
      ]
     },
     "metadata": {},
     "output_type": "display_data"
    }
   ],
   "source": [
    "%%html\n",
    "<iframe src=\"https://www.youtube.com/embed/rNqaw8LT2ZU?list=PLRqwX-V7Uu6aKKsDHZdDvN6oCJ2hRY_Ig\" \n",
    "width=\"560\" height=\"315\" frameborder=\"0\" allowfullscreen></iframe>"
   ]
  },
  {
   "cell_type": "markdown",
   "metadata": {},
   "source": [
    "### 10.5: Checkbox Mirror - p5.js Tutorial"
   ]
  },
  {
   "cell_type": "code",
   "execution_count": 41,
   "metadata": {
    "collapsed": false
   },
   "outputs": [
    {
     "data": {
      "text/html": [
       "<iframe src=\"https://www.youtube.com/embed/m1G6WBvrOBE?list=PLRqwX-V7Uu6aKKsDHZdDvN6oCJ2hRY_Ig\" \n",
       "width=\"560\" height=\"315\" frameborder=\"0\" allowfullscreen></iframe>"
      ],
      "text/plain": [
       "<IPython.core.display.HTML object>"
      ]
     },
     "metadata": {},
     "output_type": "display_data"
    }
   ],
   "source": [
    "%%html\n",
    "<iframe src=\"https://www.youtube.com/embed/m1G6WBvrOBE?list=PLRqwX-V7Uu6aKKsDHZdDvN6oCJ2hRY_Ig\" \n",
    "width=\"560\" height=\"315\" frameborder=\"0\" allowfullscreen></iframe>"
   ]
  },
  {
   "cell_type": "markdown",
   "metadata": {},
   "source": [
    "### 10.6: Painting with Pixels - p5.js Tutorial"
   ]
  },
  {
   "cell_type": "code",
   "execution_count": 42,
   "metadata": {
    "collapsed": false
   },
   "outputs": [
    {
     "data": {
      "text/html": [
       "<iframe src=\"https://www.youtube.com/embed/0V3uYA1hafk?list=PLRqwX-V7Uu6aKKsDHZdDvN6oCJ2hRY_Ig\" \n",
       "width=\"560\" height=\"315\" frameborder=\"0\" allowfullscreen></iframe>"
      ],
      "text/plain": [
       "<IPython.core.display.HTML object>"
      ]
     },
     "metadata": {},
     "output_type": "display_data"
    }
   ],
   "source": [
    "%%html\n",
    "<iframe src=\"https://www.youtube.com/embed/0V3uYA1hafk?list=PLRqwX-V7Uu6aKKsDHZdDvN6oCJ2hRY_Ig\" \n",
    "width=\"560\" height=\"315\" frameborder=\"0\" allowfullscreen></iframe>"
   ]
  },
  {
   "cell_type": "markdown",
   "metadata": {},
   "source": [
    "### 10.7: Slit-Scan Video - p5.js Tutorial"
   ]
  },
  {
   "cell_type": "code",
   "execution_count": 43,
   "metadata": {
    "collapsed": false
   },
   "outputs": [
    {
     "data": {
      "text/html": [
       "<iframe src=\"https://www.youtube.com/embed/YqVbuMPIRwY?list=PLRqwX-V7Uu6aKKsDHZdDvN6oCJ2hRY_Ig\" \n",
       "width=\"560\" height=\"315\" frameborder=\"0\" allowfullscreen></iframe>"
      ],
      "text/plain": [
       "<IPython.core.display.HTML object>"
      ]
     },
     "metadata": {},
     "output_type": "display_data"
    }
   ],
   "source": [
    "%%html\n",
    "<iframe src=\"https://www.youtube.com/embed/YqVbuMPIRwY?list=PLRqwX-V7Uu6aKKsDHZdDvN6oCJ2hRY_Ig\" \n",
    "width=\"560\" height=\"315\" frameborder=\"0\" allowfullscreen></iframe>"
   ]
  },
  {
   "cell_type": "markdown",
   "metadata": {},
   "source": [
    "### 10.8: Video Effects with Seriously.js - p5.js Tutorial"
   ]
  },
  {
   "cell_type": "code",
   "execution_count": 44,
   "metadata": {
    "collapsed": false
   },
   "outputs": [
    {
     "data": {
      "text/html": [
       "<iframe src=\"https://www.youtube.com/embed/jdKep6jo7b0?list=PLRqwX-V7Uu6aKKsDHZdDvN6oCJ2hRY_Ig\" \n",
       "width=\"560\" height=\"315\" frameborder=\"0\" allowfullscreen></iframe>"
      ],
      "text/plain": [
       "<IPython.core.display.HTML object>"
      ]
     },
     "metadata": {},
     "output_type": "display_data"
    }
   ],
   "source": [
    "%%html\n",
    "<iframe src=\"https://www.youtube.com/embed/jdKep6jo7b0?list=PLRqwX-V7Uu6aKKsDHZdDvN6oCJ2hRY_Ig\" \n",
    "width=\"560\" height=\"315\" frameborder=\"0\" allowfullscreen></iframe>"
   ]
  },
  {
   "cell_type": "markdown",
   "metadata": {},
   "source": [
    "# 11.\n",
    "### 11.1: Loading and Playing - p5.js Sound Tutorial"
   ]
  },
  {
   "cell_type": "code",
   "execution_count": 45,
   "metadata": {
    "collapsed": false
   },
   "outputs": [
    {
     "data": {
      "text/html": [
       "<iframe src=\"https://www.youtube.com/embed/Pn1g1wjxl_0?list=PLRqwX-V7Uu6aFcVjlDAkkGIixw70s7jpW\" \n",
       "width=\"560\" height=\"315\" frameborder=\"0\" allowfullscreen></iframe>"
      ],
      "text/plain": [
       "<IPython.core.display.HTML object>"
      ]
     },
     "metadata": {},
     "output_type": "display_data"
    }
   ],
   "source": [
    "%%html\n",
    "<iframe src=\"https://www.youtube.com/embed/Pn1g1wjxl_0?list=PLRqwX-V7Uu6aFcVjlDAkkGIixw70s7jpW\" \n",
    "width=\"560\" height=\"315\" frameborder=\"0\" allowfullscreen></iframe>"
   ]
  },
  {
   "cell_type": "markdown",
   "metadata": {},
   "source": [
    "```javascript\n",
    "// Daniel Shiffman\n",
    "// http://codingrainbow.com\n",
    "// http://patreon.com/codingrainbow\n",
    "// Code for: https://youtu.be/Pn1g1wjxl_0\n",
    "\n",
    "var song;\n",
    "var sliderRate;\n",
    "var sliderPan;\n",
    "\n",
    "function setup() {\n",
    "  createCanvas(200, 200);\n",
    "  song = loadSound(\"rainbow.mp3\", loaded);\n",
    "  song.setVolume(0.5);\n",
    "  sliderRate = createSlider(0, 1.5, 1, 0.01);\n",
    "  sliderPan = createSlider(-1, 1, 0, 0.01);\n",
    "}\n",
    "\n",
    "function loaded() {\n",
    "  song.play();\n",
    "}\n",
    "\n",
    "function draw() {\n",
    "  background(random(255));\n",
    "  song.pan(sliderPan.value());\n",
    "  song.rate(sliderRate.value());\n",
    "}\n",
    "```"
   ]
  },
  {
   "cell_type": "markdown",
   "metadata": {},
   "source": [
    "### 11.2: Play and Pause Button - p5.js Sound Tutorial"
   ]
  },
  {
   "cell_type": "code",
   "execution_count": 46,
   "metadata": {
    "collapsed": false
   },
   "outputs": [
    {
     "data": {
      "text/html": [
       "<iframe src=\"https://www.youtube.com/embed/YcezEwOXun4?list=PLRqwX-V7Uu6aFcVjlDAkkGIixw70s7jpW\" \n",
       "width=\"560\" height=\"315\" frameborder=\"0\" allowfullscreen></iframe>"
      ],
      "text/plain": [
       "<IPython.core.display.HTML object>"
      ]
     },
     "metadata": {},
     "output_type": "display_data"
    }
   ],
   "source": [
    "%%html\n",
    "<iframe src=\"https://www.youtube.com/embed/YcezEwOXun4?list=PLRqwX-V7Uu6aFcVjlDAkkGIixw70s7jpW\" \n",
    "width=\"560\" height=\"315\" frameborder=\"0\" allowfullscreen></iframe>"
   ]
  },
  {
   "cell_type": "markdown",
   "metadata": {},
   "source": [
    "```javascript\n",
    "// Daniel Shiffman\n",
    "// http://codingrainbow.com\n",
    "// http://patreon.com/codingrainbow\n",
    "// Code for: https://youtu.be/YcezEwOXun4\n",
    "\n",
    "var song;\n",
    "var button;\n",
    "\n",
    "function setup() {\n",
    "  createCanvas(200, 200);\n",
    "  song = loadSound(\"rainbow.mp3\", loaded);\n",
    "  button = createButton(\"play\");\n",
    "  button.mousePressed(togglePlaying);\n",
    "  background(51);\n",
    "}\n",
    "\n",
    "function togglePlaying() {\n",
    "  if (!song.isPlaying()) {\n",
    "    song.play();\n",
    "    song.setVolume(0.3);\n",
    "    button.html(\"pause\");\n",
    "  } else {\n",
    "    song.stop();\n",
    "    button.html(\"play\");\n",
    "  }\n",
    "}\n",
    "\n",
    "function loaded() {\n",
    "  console.log(\"loaded\");\n",
    "}\n",
    "```"
   ]
  },
  {
   "cell_type": "markdown",
   "metadata": {},
   "source": [
    "### 11.3: Timing, Jumps and Cues - p5.js Sound Tutorial"
   ]
  },
  {
   "cell_type": "code",
   "execution_count": 47,
   "metadata": {
    "collapsed": false
   },
   "outputs": [
    {
     "data": {
      "text/html": [
       "<iframe src=\"https://www.youtube.com/embed/SfA5CghXw18?list=PLRqwX-V7Uu6aFcVjlDAkkGIixw70s7jpW\" \n",
       "width=\"560\" height=\"315\" frameborder=\"0\" allowfullscreen></iframe>"
      ],
      "text/plain": [
       "<IPython.core.display.HTML object>"
      ]
     },
     "metadata": {},
     "output_type": "display_data"
    }
   ],
   "source": [
    "%%html\n",
    "<iframe src=\"https://www.youtube.com/embed/SfA5CghXw18?list=PLRqwX-V7Uu6aFcVjlDAkkGIixw70s7jpW\" \n",
    "width=\"560\" height=\"315\" frameborder=\"0\" allowfullscreen></iframe>"
   ]
  },
  {
   "cell_type": "markdown",
   "metadata": {},
   "source": [
    "```javascript\n",
    "// Daniel Shiffman\n",
    "// http://codingrainbow.com\n",
    "// http://patreon.com/codingrainbow\n",
    "// Code for: https://youtu.be/SfA5CghXw18\n",
    "\n",
    "var song;\n",
    "var button;\n",
    "var jumpButton;\n",
    "\n",
    "function setup() {\n",
    "  createCanvas(200, 200);\n",
    "  song = loadSound(\"rainbow.mp3\", loaded);\n",
    "  button = createButton(\"play\");\n",
    "  button.mousePressed(togglePlaying);\n",
    "  jumpButton = createButton(\"jump\");\n",
    "  jumpButton.mousePressed(jumpSong);\n",
    "  background(51);\n",
    "\n",
    "  song.addCue(2, changeBackground, color(0, 0, 255));\n",
    "  song.addCue(4, changeBackground, color(0, 255, 255));\n",
    "  song.addCue(6, changeBackground, color(255, 255, 255));\n",
    "}\n",
    "\n",
    "function changeBackground(col) {\n",
    "  background(col);\n",
    "}\n",
    "\n",
    "function jumpSong() {\n",
    "  var len = song.duration();\n",
    "  var t = 0; //random(len);\n",
    "  console.log(t);\n",
    "  song.jump(t);\n",
    "}\n",
    "\n",
    "function draw() {\n",
    "  //if (song.currentTime() > 5) {\n",
    "  //background(song.currentTime() * 10, 0, 255);\n",
    "  //}\n",
    "\n",
    "\n",
    "}\n",
    "\n",
    "\n",
    "\n",
    "\n",
    "\n",
    "\n",
    "\n",
    "\n",
    "\n",
    "function togglePlaying() {\n",
    "  if (!song.isPlaying()) {\n",
    "    song.play();\n",
    "    song.setVolume(0.3);\n",
    "    button.html(\"pause\");\n",
    "  } else {\n",
    "    song.stop();\n",
    "    button.html(\"play\");\n",
    "  }\n",
    "}\n",
    "\n",
    "function loaded() {\n",
    "  console.log(\"loaded\");\n",
    "}\n",
    "```"
   ]
  },
  {
   "cell_type": "markdown",
   "metadata": {},
   "source": [
    "### 11.4: Amplitude Analysis - p5.js Sound Tutorial"
   ]
  },
  {
   "cell_type": "code",
   "execution_count": 48,
   "metadata": {
    "collapsed": false
   },
   "outputs": [
    {
     "data": {
      "text/html": [
       "<iframe src=\"https://www.youtube.com/embed/NCCHQwNAN6Y?list=PLRqwX-V7Uu6aFcVjlDAkkGIixw70s7jpW\" \n",
       "width=\"560\" height=\"315\" frameborder=\"0\" allowfullscreen></iframe>"
      ],
      "text/plain": [
       "<IPython.core.display.HTML object>"
      ]
     },
     "metadata": {},
     "output_type": "display_data"
    }
   ],
   "source": [
    "%%html\n",
    "<iframe src=\"https://www.youtube.com/embed/NCCHQwNAN6Y?list=PLRqwX-V7Uu6aFcVjlDAkkGIixw70s7jpW\" \n",
    "width=\"560\" height=\"315\" frameborder=\"0\" allowfullscreen></iframe>"
   ]
  },
  {
   "cell_type": "markdown",
   "metadata": {},
   "source": [
    "```javascript\n",
    "// Daniel Shiffman\n",
    "// http://codingrainbow.com\n",
    "// http://patreon.com/codingrainbow\n",
    "// Code for: https://youtu.be/NCCHQwNAN6Y\n",
    "\n",
    "var song;\n",
    "var button;\n",
    "var amp;\n",
    "\n",
    "function setup() {\n",
    "  createCanvas(200, 200);\n",
    "  song = loadSound(\"rainbow.mp3\", loaded);\n",
    "  amp = new p5.Amplitude();\n",
    "  background(51);\n",
    "}\n",
    "\n",
    "function loaded() {\n",
    "  button = createButton(\"play\");\n",
    "  button.mousePressed(togglePlaying);\n",
    "}\n",
    "\n",
    "function draw() {\n",
    "  background(51);\n",
    "\n",
    "  var vol = amp.getLevel();\n",
    "  var diam = map(vol, 0, 0.3, 10, 200);\n",
    "\n",
    "  fill(255, 0, 255);\n",
    "  ellipse(width / 2, height / 2, diam, diam);\n",
    "}\n",
    "\n",
    "\n",
    "function togglePlaying() {\n",
    "  if (!song.isPlaying()) {\n",
    "    song.play();\n",
    "    song.setVolume(0.3);\n",
    "    button.html(\"pause\");\n",
    "  } else {\n",
    "    song.stop();\n",
    "    button.html(\"play\");\n",
    "  }\n",
    "}\n",
    "```"
   ]
  },
  {
   "cell_type": "markdown",
   "metadata": {},
   "source": [
    "### 11.5: Adding Sound Effects - p5.js Sound Tutorial"
   ]
  },
  {
   "cell_type": "code",
   "execution_count": 49,
   "metadata": {
    "collapsed": false
   },
   "outputs": [
    {
     "data": {
      "text/html": [
       "<iframe src=\"https://www.youtube.com/embed/40Me1-yAtTc?list=PLRqwX-V7Uu6aFcVjlDAkkGIixw70s7jpW\" \n",
       "width=\"560\" height=\"315\" frameborder=\"0\" allowfullscreen></iframe>"
      ],
      "text/plain": [
       "<IPython.core.display.HTML object>"
      ]
     },
     "metadata": {},
     "output_type": "display_data"
    }
   ],
   "source": [
    "%%html\n",
    "<iframe src=\"https://www.youtube.com/embed/40Me1-yAtTc?list=PLRqwX-V7Uu6aFcVjlDAkkGIixw70s7jpW\" \n",
    "width=\"560\" height=\"315\" frameborder=\"0\" allowfullscreen></iframe>"
   ]
  },
  {
   "cell_type": "markdown",
   "metadata": {},
   "source": [
    "```javascript\n",
    "// Daniel Shiffman\n",
    "// http://codingrainbow.com\n",
    "// http://patreon.com/codingrainbow\n",
    "// Code for: https://youtu.be/40Me1-yAtTc\n",
    "\n",
    "// The snake\n",
    "var s;\n",
    "// The scale of the grid\n",
    "var scl = 20;\n",
    "var cols;\n",
    "var rows;\n",
    "\n",
    "var eatSound;\n",
    "var startOverSound;\n",
    "var hello;\n",
    "var music;\n",
    "\n",
    "var fr = 3;\n",
    "\n",
    "// This is the food location\n",
    "var food;\n",
    "\n",
    "var musicRate = 1;\n",
    "\n",
    "function preload() {\n",
    "  eatSound = loadSound(\"sounds/Alert/Alert - 06.mp3\");\n",
    "  startOverSound = loadSound(\"sounds/Voice/Voice - Cartoon Laugh 01.mp3\");\n",
    "  hello = loadSound(\"sounds/Voice/Voice - Hello 01.mp3\");\n",
    "  music = loadSound(\"sounds/Music/Music - 01.mp3\");\n",
    "}\n",
    "\n",
    "function setup() {\n",
    "  createCanvas(300, 300);\n",
    "  music.play();\n",
    "  //hello.playMode('sustain');\n",
    "  colorMode(HSB, 255);\n",
    "  noStroke();\n",
    "  cols = floor(width / scl);\n",
    "  rows = floor(height / scl);\n",
    "\n",
    "  s = new Snake();\n",
    "  frameRate(fr);\n",
    "\n",
    "  // Pick a food location\n",
    "  pickLocation();\n",
    "\n",
    "}\n",
    "\n",
    "// Pick a food location\n",
    "function pickLocation() {\n",
    "  food = createVector(floor(random(cols)), floor(random(rows)));\n",
    "  food.mult(scl);\n",
    "}\n",
    "\n",
    "// Animation loop\n",
    "function draw() {\n",
    "  background(51);\n",
    "\n",
    "  // If the snake eats the food\n",
    "  if (s.eat(food)) {\n",
    "    eatSound.play();\n",
    "    fr += 2;\n",
    "    musicRate += 0.05;\n",
    "    music.rate(musicRate);\n",
    "    frameRate(fr);\n",
    "    pickLocation();\n",
    "  }\n",
    "\n",
    "  // Check if the snake hits itself or a wall\n",
    "  s.death();\n",
    "  // Update snake\n",
    "  s.update();\n",
    "  // Draw snake\n",
    "  s.show();\n",
    "\n",
    "\n",
    "  fill(150, 255, 255);\n",
    "  rect(food.x, food.y, scl, scl);\n",
    "}\n",
    "\n",
    "\n",
    "\n",
    "\n",
    "// Moving the snake\n",
    "function keyPressed() {\n",
    "  //if (!hello.isPlaying()) {\n",
    "  //hello.play();\n",
    "  //}\n",
    "\n",
    "  if (keyCode === UP_ARROW) {\n",
    "    s.dir(0, -1);\n",
    "  } else if (keyCode === DOWN_ARROW) {\n",
    "    s.dir(0, 1);\n",
    "  } else if (keyCode === RIGHT_ARROW) {\n",
    "    s.dir(1, 0);\n",
    "  } else if (keyCode === LEFT_ARROW) {\n",
    "    s.dir(-1, 0);\n",
    "  }\n",
    "\n",
    "  if (key == ' ') {\n",
    "    s.total++;\n",
    "  }\n",
    "}\n",
    "```"
   ]
  },
  {
   "cell_type": "markdown",
   "metadata": {},
   "source": [
    "```javascript\n",
    "// snake.js\n",
    "\n",
    "// Daniel Shiffman\n",
    "// http://codingrainbow.com\n",
    "// http://patreon.com/codingrainbow\n",
    "// Code for: https://youtu.be/40Me1-yAtTc\n",
    "\n",
    "function Snake() {\n",
    "  // Snake position\n",
    "  this.x = 0;\n",
    "  this.y = 0;\n",
    "  // Snake speed\n",
    "  this.xspeed = 1;\n",
    "  this.yspeed = 0;\n",
    "  // Snake length\n",
    "  this.total = 0;\n",
    "  // Tail locations\n",
    "  this.tail = [];\n",
    "\n",
    "  // Check to see if it is eating food\n",
    "  this.eat = function(pos) {\n",
    "   var d = dist(this.x, this.y, pos.x, pos.y);\n",
    "   if (d < 1) {\n",
    "     this.total++;\n",
    "     return true;\n",
    "   } else {\n",
    "     return false;\n",
    "   }\n",
    "  }\n",
    "\n",
    "  // Set its direction\n",
    "  this.dir = function(x, y) {\n",
    "   this.xspeed = x;\n",
    "   this.yspeed = y;\n",
    "  }\n",
    "\n",
    "  // Check to see if it hits itself\n",
    "  this.death = function() {\n",
    "   for (var i = 0; i < this.tail.length; i++) {\n",
    "     var pos = this.tail[i];\n",
    "     var d = dist(this.x, this.y, pos.x, pos.y);\n",
    "     if (d < 1) {\n",
    "       console.log('starting over');\n",
    "       startOverSound.play();\n",
    "       music.rate(1);\n",
    "       fr = 1;\n",
    "       this.x = 0;\n",
    "       this.y = 0;\n",
    "       this.xspeed = 1;\n",
    "       this.yspeed = 0;\n",
    "       this.total = 0;\n",
    "       this.tail = [];\n",
    "     }\n",
    "   }\n",
    "  }\n",
    "\n",
    "  // Update location\n",
    "  this.update = function() {\n",
    "   // Expand snake\n",
    "   if (this.total === this.tail.length) {\n",
    "     for (var i = 0; i < this.tail.length - 1; i++) {\n",
    "       this.tail[i] = this.tail[i + 1];\n",
    "     }\n",
    "   }\n",
    "   // Newest position\n",
    "   this.tail[this.total - 1] = createVector(this.x, this.y);\n",
    "\n",
    "   // Move snake\n",
    "   this.x = this.x + this.xspeed * scl;\n",
    "   this.y = this.y + this.yspeed * scl;\n",
    "\n",
    "   // Keep on screen\n",
    "   if (this.x > width - scl) {\n",
    "     this.x = 0;\n",
    "   } else if (this.x < 0) {\n",
    "     this.x = width - scl;\n",
    "   }\n",
    "   if (this.y > height - scl) {\n",
    "     this.y = 0;\n",
    "   } else if (this.y < 0) {\n",
    "     this.y = height - scl;\n",
    "   }\n",
    "  }\n",
    "\n",
    "  // Draw snake\n",
    "  this.show = function() {\n",
    "   for (var i = 0; i < this.tail.length; i++) {\n",
    "     var hu = map(i - 1, -1, this.tail.length, 0, 255);\n",
    "     fill(hu, 255, 255);\n",
    "     rect(this.tail[i].x, this.tail[i].y, scl, scl);\n",
    "   }\n",
    "   fill(255, 255, 255);\n",
    "   rect(this.x, this.y, scl, scl);\n",
    "\n",
    "  }\n",
    "}\n",
    "```"
   ]
  },
  {
   "cell_type": "markdown",
   "metadata": {},
   "source": [
    "```javascript\n",
    "\n",
    "```"
   ]
  },
  {
   "cell_type": "markdown",
   "metadata": {},
   "source": [
    "### 11.6: Sound Synthesis - p5.js Sound Tutorial"
   ]
  },
  {
   "cell_type": "code",
   "execution_count": 50,
   "metadata": {
    "collapsed": false
   },
   "outputs": [
    {
     "data": {
      "text/html": [
       "<iframe src=\"https://www.youtube.com/embed/Bk8rLzzSink?list=PLRqwX-V7Uu6aFcVjlDAkkGIixw70s7jpW\" \n",
       "width=\"560\" height=\"315\" frameborder=\"0\" allowfullscreen></iframe>"
      ],
      "text/plain": [
       "<IPython.core.display.HTML object>"
      ]
     },
     "metadata": {},
     "output_type": "display_data"
    }
   ],
   "source": [
    "%%html\n",
    "<iframe src=\"https://www.youtube.com/embed/Bk8rLzzSink?list=PLRqwX-V7Uu6aFcVjlDAkkGIixw70s7jpW\" \n",
    "width=\"560\" height=\"315\" frameborder=\"0\" allowfullscreen></iframe>"
   ]
  },
  {
   "cell_type": "markdown",
   "metadata": {},
   "source": [
    "```javascript\n",
    "// Daniel Shiffman\n",
    "// http://codingrainbow.com\n",
    "// http://patreon.com/codingrainbow\n",
    "// Code for: https://youtu.be/Bk8rLzzSink\n",
    "\n",
    "var wave;\n",
    "\n",
    "var button;\n",
    "var slider;\n",
    "var playing = false;\n",
    "\n",
    "function setup() {\n",
    "  createCanvas(100, 100);\n",
    "  wave = new p5.Oscillator();\n",
    "  slider = createSlider(100, 1200, 440);\n",
    "\n",
    "  wave.setType('sine');\n",
    "  wave.start();\n",
    "  wave.freq(440);\n",
    "  wave.amp(0);\n",
    "\n",
    "\n",
    "  button = createButton('play/pause');\n",
    "  button.mousePressed(toggle);\n",
    "}\n",
    "\n",
    "function draw() {\n",
    "  wave.freq(slider.value());\n",
    "  if (playing) {\n",
    "    background(255, 0, 255);\n",
    "  } else {\n",
    "    background(51);\n",
    "  }\n",
    "}\n",
    "\n",
    "function toggle() {\n",
    "  if (!playing) {\n",
    "    wave.amp(0.5, 1);\n",
    "    playing = true;\n",
    "  } else {\n",
    "    wave.amp(0, 1);\n",
    "    playing = false;\n",
    "  }\n",
    "\n",
    "\n",
    "}\n",
    "```"
   ]
  },
  {
   "cell_type": "markdown",
   "metadata": {},
   "source": [
    "### 11.7: ADSR Envelope - p5.js Sound Tutorial"
   ]
  },
  {
   "cell_type": "code",
   "execution_count": 51,
   "metadata": {
    "collapsed": false
   },
   "outputs": [
    {
     "data": {
      "text/html": [
       "<iframe src=\"https://www.youtube.com/embed/wUSva_BnedA?list=PLRqwX-V7Uu6aFcVjlDAkkGIixw70s7jpW\" \n",
       "width=\"560\" height=\"315\" frameborder=\"0\" allowfullscreen></iframe>"
      ],
      "text/plain": [
       "<IPython.core.display.HTML object>"
      ]
     },
     "metadata": {},
     "output_type": "display_data"
    }
   ],
   "source": [
    "%%html\n",
    "<iframe src=\"https://www.youtube.com/embed/wUSva_BnedA?list=PLRqwX-V7Uu6aFcVjlDAkkGIixw70s7jpW\" \n",
    "width=\"560\" height=\"315\" frameborder=\"0\" allowfullscreen></iframe>"
   ]
  },
  {
   "cell_type": "markdown",
   "metadata": {},
   "source": [
    "```javascript\n",
    "// Daniel Shiffman\n",
    "// http://codingrainbow.com\n",
    "// http://patreon.com/codingrainbow\n",
    "// Code for: https://youtu.be/wUSva_BnedA\n",
    "\n",
    "var wave;\n",
    "var button;\n",
    "var playing = false;\n",
    "\n",
    "var env;\n",
    "\n",
    "function setup() {\n",
    "  createCanvas(100, 100);\n",
    "\n",
    "  env = new p5.Env();\n",
    "  env.setADSR(0.05, 0.1, 0.5, 1);\n",
    "  env.setRange(1.2, 0);\n",
    "\n",
    "  wave = new p5.Oscillator();\n",
    "\n",
    "  wave.setType('sine');\n",
    "  wave.start();\n",
    "  wave.freq(440);\n",
    "  wave.amp(env);\n",
    "\n",
    "\n",
    "\n",
    "  button = createButton('play');\n",
    "  button.mousePressed(toggle);\n",
    "}\n",
    "\n",
    "function draw() {\n",
    "  if (playing) {\n",
    "    background(255, 0, 255);\n",
    "  } else {\n",
    "    background(51);\n",
    "  }\n",
    "}\n",
    "\n",
    "function toggle() {\n",
    "  env.play();\n",
    "\n",
    "  // if (!playing) {\n",
    "  //   wave.amp(0.5, 1);\n",
    "  //   playing = true;\n",
    "  // } else {\n",
    "  //   wave.amp(0, 1);\n",
    "  //   playing = false;\n",
    "  // }\n",
    "\n",
    "\n",
    "}\n",
    "```"
   ]
  },
  {
   "cell_type": "code",
   "execution_count": 52,
   "metadata": {
    "collapsed": false
   },
   "outputs": [
    {
     "data": {
      "application/javascript": [
       "$.getScript('https://kmahelona.github.io/ipython_notebook_goodies/ipython_notebook_toc.js')"
      ],
      "text/plain": [
       "<IPython.core.display.Javascript object>"
      ]
     },
     "metadata": {},
     "output_type": "display_data"
    }
   ],
   "source": [
    "%%javascript\n",
    "$.getScript('https://kmahelona.github.io/ipython_notebook_goodies/ipython_notebook_toc.js')"
   ]
  }
 ],
 "metadata": {
  "anaconda-cloud": {},
  "kernelspec": {
   "display_name": "Python 3",
   "language": "python",
   "name": "python3"
  },
  "language_info": {
   "codemirror_mode": {
    "name": "ipython",
    "version": 3
   },
   "file_extension": ".py",
   "mimetype": "text/x-python",
   "name": "python",
   "nbconvert_exporter": "python",
   "pygments_lexer": "ipython3",
   "version": "3.5.2"
  }
 },
 "nbformat": 4,
 "nbformat_minor": 0
}

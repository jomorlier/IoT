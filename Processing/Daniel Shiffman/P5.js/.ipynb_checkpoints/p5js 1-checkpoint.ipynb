{
 "cells": [
  {
   "cell_type": "markdown",
   "metadata": {},
   "source": [
    "<font size='6'><b>p5.ja by Daniel Shiffman</b></font><br><br>\n",
    "\n",
    "http://wykhuh.github.io/shiffman-p5-tutorials/\n",
    "\n",
    "https://p5js.org/reference/\n",
    "\n",
    "<table style=\"border-style: hidden; border-collapse: collapse;\" width = \"80%\"> \n",
    "    <tr style=\"border-style: hidden; border-collapse: collapse;\">\n",
    "        <td width = 60% style=\"border-style: hidden; border-collapse: collapse;\">\n",
    "\n",
    "        </td>\n",
    "        <td width = 20%>\n",
    "        by Seungchul Lee<br>http://isystems.unist.ac.kr/<br>UNIST\n",
    "        </td>\n",
    "    </tr>\n",
    "</table>\n",
    "\n",
    "Table of Contents\n",
    "<div id=\"toc\"></div>"
   ]
  },
  {
   "cell_type": "markdown",
   "metadata": {},
   "source": [
    "1.1: Introduction to p5.js"
   ]
  },
  {
   "cell_type": "code",
   "execution_count": 1,
   "metadata": {
    "collapsed": false
   },
   "outputs": [
    {
     "data": {
      "text/html": [
       "<iframe src=\"https://www.youtube.com/embed/8j0UDiN7my4?list=PLRqwX-V7Uu6Zy51Q-x9tMWIv9cueOFTFA\" \n",
       "width=\"560\" height=\"315\" frameborder=\"0\" allowfullscreen></iframe>"
      ],
      "text/plain": [
       "<IPython.core.display.HTML object>"
      ]
     },
     "metadata": {},
     "output_type": "display_data"
    }
   ],
   "source": [
    "%%html\n",
    "<iframe src=\"https://www.youtube.com/embed/8j0UDiN7my4?list=PLRqwX-V7Uu6Zy51Q-x9tMWIv9cueOFTFA\" \n",
    "width=\"560\" height=\"315\" frameborder=\"0\" allowfullscreen></iframe>"
   ]
  },
  {
   "cell_type": "markdown",
   "metadata": {
    "collapsed": true
   },
   "source": [
    "1.2: Basics of drawing"
   ]
  },
  {
   "cell_type": "code",
   "execution_count": 2,
   "metadata": {
    "collapsed": false
   },
   "outputs": [
    {
     "data": {
      "text/html": [
       "<iframe src=\"https://www.youtube.com/embed/D1ELEeIs0j8?list=PLRqwX-V7Uu6Zy51Q-x9tMWIv9cueOFTFA\" \n",
       "width=\"560\" height=\"315\" frameborder=\"0\" allowfullscreen></iframe>"
      ],
      "text/plain": [
       "<IPython.core.display.HTML object>"
      ]
     },
     "metadata": {},
     "output_type": "display_data"
    }
   ],
   "source": [
    "%%html\n",
    "<iframe src=\"https://www.youtube.com/embed/D1ELEeIs0j8?list=PLRqwX-V7Uu6Zy51Q-x9tMWIv9cueOFTFA\" \n",
    "width=\"560\" height=\"315\" frameborder=\"0\" allowfullscreen></iframe>"
   ]
  },
  {
   "cell_type": "markdown",
   "metadata": {},
   "source": [
    "```javascript\n",
    "function setup() {\n",
    "  createCanvas(600, 400);\n",
    "}\n",
    "\n",
    "function draw() {\n",
    "  rect(100, 200, 75, 125);\n",
    "}\n",
    "```"
   ]
  },
  {
   "cell_type": "markdown",
   "metadata": {
    "collapsed": true
   },
   "source": [
    "1.3: Color"
   ]
  },
  {
   "cell_type": "code",
   "execution_count": 3,
   "metadata": {
    "collapsed": false
   },
   "outputs": [
    {
     "data": {
      "text/html": [
       "<iframe src=\"https://www.youtube.com/embed/9mucjcrhFcM?list=PLRqwX-V7Uu6Zy51Q-x9tMWIv9cueOFTFA\" \n",
       "width=\"560\" height=\"315\" frameborder=\"0\" allowfullscreen></iframe>"
      ],
      "text/plain": [
       "<IPython.core.display.HTML object>"
      ]
     },
     "metadata": {},
     "output_type": "display_data"
    }
   ],
   "source": [
    "%%html\n",
    "<iframe src=\"https://www.youtube.com/embed/9mucjcrhFcM?list=PLRqwX-V7Uu6Zy51Q-x9tMWIv9cueOFTFA\" \n",
    "width=\"560\" height=\"315\" frameborder=\"0\" allowfullscreen></iframe>"
   ]
  },
  {
   "cell_type": "markdown",
   "metadata": {},
   "source": [
    "```javascript\n",
    "function setup() {\n",
    "  createCanvas(600, 400);\n",
    "}\n",
    "\n",
    "// draw alien\n",
    "function draw() {\n",
    "  // set color of canvas\n",
    "  background(255);\n",
    "  ellipseMode(CENTER);\n",
    "  rectMode(CENTER);\n",
    "\n",
    "  // body\n",
    "  fill(255, 0, 0); //red\n",
    "  rect(240, 145, 20, 100);\n",
    "\n",
    "  // head\n",
    "  fill(0, 0, 255, 100); //blue\n",
    "  ellipse(240, 115, 60, 60);\n",
    "\n",
    "  // eyes\n",
    "  fill(0, 255, 0); //green\n",
    "  ellipse(221, 115, 16, 32);\n",
    "  ellipse(259, 115, 16, 32);\n",
    "\n",
    "  // legs\n",
    "  line(230, 195, 220, 205);\n",
    "  line(250, 195, 260, 205);\n",
    "\n",
    "}\n",
    "```"
   ]
  },
  {
   "cell_type": "markdown",
   "metadata": {
    "collapsed": true
   },
   "source": [
    "1.4: How to upload your sketch"
   ]
  },
  {
   "cell_type": "code",
   "execution_count": 4,
   "metadata": {
    "collapsed": false
   },
   "outputs": [
    {
     "data": {
      "text/html": [
       "<iframe src=\"https://www.youtube.com/embed/lbKMZa-CZ_Y?list=PLRqwX-V7Uu6Zy51Q-x9tMWIv9cueOFTFA\" \n",
       "width=\"560\" height=\"315\" frameborder=\"0\" allowfullscreen></iframe>"
      ],
      "text/plain": [
       "<IPython.core.display.HTML object>"
      ]
     },
     "metadata": {},
     "output_type": "display_data"
    }
   ],
   "source": [
    "%%html\n",
    "<iframe src=\"https://www.youtube.com/embed/lbKMZa-CZ_Y?list=PLRqwX-V7Uu6Zy51Q-x9tMWIv9cueOFTFA\" \n",
    "width=\"560\" height=\"315\" frameborder=\"0\" allowfullscreen></iframe>"
   ]
  },
  {
   "cell_type": "markdown",
   "metadata": {
    "collapsed": true
   },
   "source": [
    "2.1: Variables in p5"
   ]
  },
  {
   "cell_type": "code",
   "execution_count": 10,
   "metadata": {
    "collapsed": false,
    "scrolled": true
   },
   "outputs": [
    {
     "data": {
      "text/html": [
       "<iframe src=\"https://www.youtube.com/embed/RnS0YNuLfQQ?list=PLRqwX-V7Uu6Zy51Q-x9tMWIv9cueOFTFA\" \n",
       "width=\"560\" height=\"315\" frameborder=\"0\" allowfullscreen></iframe>"
      ],
      "text/plain": [
       "<IPython.core.display.HTML object>"
      ]
     },
     "metadata": {},
     "output_type": "display_data"
    }
   ],
   "source": [
    "%%html\n",
    "<iframe src=\"https://www.youtube.com/embed/RnS0YNuLfQQ?list=PLRqwX-V7Uu6Zy51Q-x9tMWIv9cueOFTFA\" \n",
    "width=\"560\" height=\"315\" frameborder=\"0\" allowfullscreen></iframe>"
   ]
  },
  {
   "cell_type": "markdown",
   "metadata": {},
   "source": [
    "```java\n",
    "// happens once\n",
    "function setup() {\n",
    "  createCanvas(600, 400);\n",
    "\n",
    "  // canvas color.\n",
    "  // only fill canvas once\n",
    "  background(250, 250, 100);\n",
    "}\n",
    "\n",
    "// paint program that draws an endless trail of circles;\n",
    "// clear canvas by clicking mouse\n",
    "\n",
    "// code inside draw() is automatically looped forever\n",
    "function draw() {\n",
    "\n",
    "  //ellipse\n",
    "  noStroke();\n",
    "  fill(250, 200, 200, 100);\n",
    "  ellipse(mouseX, mouseY, 25, 25);\n",
    "\n",
    "}\n",
    "\n",
    "// event functions only executed when event occurs\n",
    "function mousePressed() {\n",
    "  // set canvas background will \"clear\" the canvas\n",
    "  background(250, 250, 100);\n",
    "}\n",
    "```"
   ]
  },
  {
   "cell_type": "markdown",
   "metadata": {
    "collapsed": true
   },
   "source": [
    "2.2: Varuables in p% (Make your own)"
   ]
  },
  {
   "cell_type": "code",
   "execution_count": 13,
   "metadata": {
    "collapsed": false
   },
   "outputs": [
    {
     "data": {
      "text/html": [
       "<iframe src=\"https://www.youtube.com/embed/Bn_B3T_Vbxs?list=PLRqwX-V7Uu6Zy51Q-x9tMWIv9cueOFTFA\" \n",
       "width=\"560\" height=\"315\" frameborder=\"0\" allowfullscreen></iframe>"
      ],
      "text/plain": [
       "<IPython.core.display.HTML object>"
      ]
     },
     "metadata": {},
     "output_type": "display_data"
    }
   ],
   "source": [
    "%%html\n",
    "<iframe src=\"https://www.youtube.com/embed/Bn_B3T_Vbxs?list=PLRqwX-V7Uu6Zy51Q-x9tMWIv9cueOFTFA\" \n",
    "width=\"560\" height=\"315\" frameborder=\"0\" allowfullscreen></iframe>"
   ]
  },
  {
   "cell_type": "markdown",
   "metadata": {},
   "source": [
    "```java\n",
    "var circleX = 0;\n",
    "\n",
    "function setup() {\n",
    "  createCanvas(600, 400);\n",
    "}\n",
    "\n",
    "// draw a circle that is moving to the right\n",
    "function draw() {\n",
    "  background(250, 250, 100);\n",
    "\n",
    "  //ellipse\n",
    "  fill(250, 200, 200);\n",
    "  ellipse(circleX, 200, 80, 80);\n",
    "  circleX++;\n",
    "\n",
    "}\n",
    "```"
   ]
  },
  {
   "cell_type": "markdown",
   "metadata": {
    "collapsed": true
   },
   "source": [
    "2.3: Javascript Objects"
   ]
  },
  {
   "cell_type": "code",
   "execution_count": 14,
   "metadata": {
    "collapsed": false
   },
   "outputs": [
    {
     "data": {
      "text/html": [
       "<iframe src=\"https://www.youtube.com/embed/-e5h4IGKZRY?list=PLRqwX-V7Uu6Zy51Q-x9tMWIv9cueOFTFA\" \n",
       "width=\"560\" height=\"315\" frameborder=\"0\" allowfullscreen></iframe>"
      ],
      "text/plain": [
       "<IPython.core.display.HTML object>"
      ]
     },
     "metadata": {},
     "output_type": "display_data"
    }
   ],
   "source": [
    "%%html\n",
    "<iframe src=\"https://www.youtube.com/embed/-e5h4IGKZRY?list=PLRqwX-V7Uu6Zy51Q-x9tMWIv9cueOFTFA\" \n",
    "width=\"560\" height=\"315\" frameborder=\"0\" allowfullscreen></iframe>\n"
   ]
  },
  {
   "cell_type": "markdown",
   "metadata": {},
   "source": [
    "```java\n",
    "var circle = {\n",
    "  x: 0,\n",
    "  y: 100,\n",
    "  diameter: 50\n",
    "};\n",
    "\n",
    "var r = 218;\n",
    "var g = 160;\n",
    "var b = 211;\n",
    "\n",
    "function setup() {\n",
    "  createCanvas(600, 400);\n",
    "}\n",
    "\n",
    "// draw a circle\n",
    "function draw() {\n",
    "  background(r, g, b);\n",
    "\n",
    "  //ellipse\n",
    "  fill(250, 200, 200);\n",
    "  ellipse(circle.x, circle.y, circle.diameter, circle.diameter);\n",
    "\n",
    "  circle.x ++;\n",
    "}\n",
    "```"
   ]
  },
  {
   "cell_type": "markdown",
   "metadata": {
    "collapsed": false
   },
   "source": [
    "2.4: The map() Function"
   ]
  },
  {
   "cell_type": "code",
   "execution_count": 15,
   "metadata": {
    "collapsed": false
   },
   "outputs": [
    {
     "data": {
      "text/html": [
       "<iframe src=\"https://www.youtube.com/embed/nicMAoW6u1g?list=PLRqwX-V7Uu6Zy51Q-x9tMWIv9cueOFTFA\" \n",
       "width=\"560\" height=\"315\" frameborder=\"0\" allowfullscreen></iframe>"
      ],
      "text/plain": [
       "<IPython.core.display.HTML object>"
      ]
     },
     "metadata": {},
     "output_type": "display_data"
    }
   ],
   "source": [
    "%%html\n",
    "<iframe src=\"https://www.youtube.com/embed/nicMAoW6u1g?list=PLRqwX-V7Uu6Zy51Q-x9tMWIv9cueOFTFA\" \n",
    "width=\"560\" height=\"315\" frameborder=\"0\" allowfullscreen></iframe>\n"
   ]
  },
  {
   "cell_type": "markdown",
   "metadata": {},
   "source": [
    "```java\n",
    "var r = 0;\n",
    "var b = 255;\n",
    "\n",
    "function setup() {\n",
    "  createCanvas(600, 400);\n",
    "}\n",
    "\n",
    "// when mouse is at 0 x, background is blue\n",
    "// when mouse is at 600 x, background is red\n",
    "// when mouse is in between, background is various shade of blue - purple - red\n",
    "function draw() {\n",
    "\n",
    "  // map(value being mapped, min output, max output, min input, max inpu)\n",
    "  r = map(mouseX, 0, 600, 0, 255);\n",
    "  b = map(mouseX, 0, 600, 255, 0);\n",
    "\n",
    "  background(r, 0, b);\n",
    "\n",
    "  //ellipse\n",
    "  fill(250, 200, 200);\n",
    "  ellipse(mouseX, 200, 62, 62);\n",
    "\n",
    "}\n",
    "```"
   ]
  },
  {
   "cell_type": "markdown",
   "metadata": {},
   "source": [
    "2.5: The random() Function"
   ]
  },
  {
   "cell_type": "code",
   "execution_count": 16,
   "metadata": {
    "collapsed": false,
    "scrolled": true
   },
   "outputs": [
    {
     "data": {
      "text/html": [
       "<iframe src=\"https://www.youtube.com/embed/nfmV2kuQKwA?list=PLRqwX-V7Uu6Zy51Q-x9tMWIv9cueOFTFA\" \n",
       "width=\"560\" height=\"315\" frameborder=\"0\" allowfullscreen></iframe>"
      ],
      "text/plain": [
       "<IPython.core.display.HTML object>"
      ]
     },
     "metadata": {},
     "output_type": "display_data"
    }
   ],
   "source": [
    "%%html\n",
    "<iframe src=\"https://www.youtube.com/embed/nfmV2kuQKwA?list=PLRqwX-V7Uu6Zy51Q-x9tMWIv9cueOFTFA\" \n",
    "width=\"560\" height=\"315\" frameborder=\"0\" allowfullscreen></iframe>"
   ]
  },
  {
   "cell_type": "markdown",
   "metadata": {},
   "source": [
    "```java\n",
    "var spot = {\n",
    "  x: 100,\n",
    "  y: 50\n",
    "}\n",
    "\n",
    "var col = {\n",
    "  r: 255,\n",
    "  g: 0,\n",
    "  b: 0\n",
    "}\n",
    "\n",
    "function setup() {\n",
    "  createCanvas(600, 400);\n",
    "  background(0);\n",
    "}\n",
    "\n",
    "// draw one circle at random location and color;\n",
    "// canvas is only drawn once, so the canvas gets filled with circles\n",
    "function draw() {\n",
    "  // p5 knows the width and height of the canvas\n",
    "  spot.x = random(0, width);\n",
    "  spot.y = random(0, height);\n",
    "\n",
    "  col.r = random(100, 255);\n",
    "  col.g = 0;\n",
    "  col.b = random(100, 190);\n",
    "\n",
    "  noStroke();\n",
    "  fill(col.r, col.g, col.b, 100);\n",
    "  ellipse(spot.x, spot.y, 24, 24);\n",
    "\n",
    "}\n",
    "```"
   ]
  },
  {
   "cell_type": "markdown",
   "metadata": {},
   "source": [
    "3.1 : Introduction to Conditional Statements"
   ]
  },
  {
   "cell_type": "code",
   "execution_count": 17,
   "metadata": {
    "collapsed": false
   },
   "outputs": [
    {
     "data": {
      "text/html": [
       "<iframe src=\"https://www.youtube.com/embed/1Osb_iGDdjk?list=PLRqwX-V7Uu6Zy51Q-x9tMWIv9cueOFTFA\" \n",
       "width=\"560\" height=\"315\" frameborder=\"0\" allowfullscreen></iframe>"
      ],
      "text/plain": [
       "<IPython.core.display.HTML object>"
      ]
     },
     "metadata": {},
     "output_type": "display_data"
    }
   ],
   "source": [
    "%%html\n",
    "<iframe src=\"https://www.youtube.com/embed/1Osb_iGDdjk?list=PLRqwX-V7Uu6Zy51Q-x9tMWIv9cueOFTFA\" \n",
    "width=\"560\" height=\"315\" frameborder=\"0\" allowfullscreen></iframe>"
   ]
  },
  {
   "cell_type": "markdown",
   "metadata": {},
   "source": [
    "```java\n",
    "function setup() {\n",
    "  createCanvas(600, 400);\n",
    "}\n",
    "\n",
    "// if mouse is on right half, use purple fill\n",
    "function draw() {\n",
    "  background(0);\n",
    "\n",
    "  stroke(255);\n",
    "  strokeWeight(4);\n",
    "  noFill();\n",
    "  ellipse(300, 200, 100, 100);\n",
    "\n",
    "  if(mouseX > 300) {\n",
    "    fill(255, 0, 200);\n",
    "  }\n",
    "\n",
    "  ellipse(300, 200, 100, 100);\n",
    "}\n",
    "```"
   ]
  },
  {
   "cell_type": "markdown",
   "metadata": {},
   "source": [
    "3.2 : The Bouncing Ball"
   ]
  },
  {
   "cell_type": "code",
   "execution_count": 18,
   "metadata": {
    "collapsed": false
   },
   "outputs": [
    {
     "data": {
      "text/html": [
       "<iframe src=\"https://www.youtube.com/embed/LO3Awjn_gyU?list=PLRqwX-V7Uu6Zy51Q-x9tMWIv9cueOFTFA\" \n",
       "width=\"560\" height=\"315\" frameborder=\"0\" allowfullscreen></iframe>"
      ],
      "text/plain": [
       "<IPython.core.display.HTML object>"
      ]
     },
     "metadata": {},
     "output_type": "display_data"
    }
   ],
   "source": [
    "%%html\n",
    "<iframe src=\"https://www.youtube.com/embed/LO3Awjn_gyU?list=PLRqwX-V7Uu6Zy51Q-x9tMWIv9cueOFTFA\" \n",
    "width=\"560\" height=\"315\" frameborder=\"0\" allowfullscreen></iframe>"
   ]
  },
  {
   "cell_type": "markdown",
   "metadata": {},
   "source": [
    "```java\n",
    "var x =0;\n",
    "var speed =3;\n",
    "\n",
    "function setup() {\n",
    "  createCanvas(600, 400);\n",
    "}\n",
    "\n",
    "// make circle move horziontally;\n",
    "// when at edge of canvas, circle moves in opposite direction\n",
    "function draw() {\n",
    "  background(0);\n",
    "\n",
    "  stroke(255);\n",
    "  strokeWeight(4);\n",
    "  noFill();\n",
    "  ellipse(x, 200, 100, 100);\n",
    "\n",
    "\n",
    "  if (x > width || x < 0) {\n",
    "    println('off screen')\n",
    "    // toggle sign of speed\n",
    "    speed = speed * -1;\n",
    "  }\n",
    "\n",
    "  x += speed;\n",
    "\n",
    "}\n",
    "```"
   ]
  },
  {
   "cell_type": "markdown",
   "metadata": {},
   "source": [
    "3.3 : Else and Else if, AND and OR"
   ]
  },
  {
   "cell_type": "code",
   "execution_count": 19,
   "metadata": {
    "collapsed": false
   },
   "outputs": [
    {
     "data": {
      "text/html": [
       "<iframe src=\"https://www.youtube.com/embed/r2S7j54I68c?list=PLRqwX-V7Uu6Zy51Q-x9tMWIv9cueOFTFA\" \n",
       "width=\"560\" height=\"315\" frameborder=\"0\" allowfullscreen></iframe>"
      ],
      "text/plain": [
       "<IPython.core.display.HTML object>"
      ]
     },
     "metadata": {},
     "output_type": "display_data"
    }
   ],
   "source": [
    "%%html\n",
    "<iframe src=\"https://www.youtube.com/embed/r2S7j54I68c?list=PLRqwX-V7Uu6Zy51Q-x9tMWIv9cueOFTFA\" \n",
    "width=\"560\" height=\"315\" frameborder=\"0\" allowfullscreen></iframe>"
   ]
  },
  {
   "cell_type": "markdown",
   "metadata": {},
   "source": [
    "```java\n",
    "\n",
    "function setup() {\n",
    "  createCanvas(600, 400);\n",
    "}\n",
    "\n",
    "// draw different shapes depending on mouse position\n",
    "function draw() {\n",
    "  background(0);\n",
    "\n",
    "  stroke(255);\n",
    "  strokeWeight(4);\n",
    "  noFill();\n",
    "\n",
    " // if inside square, fill square\n",
    "  if(mouseX >300 && mouseX < 400) {\n",
    "    fill(255, 0, 200);\n",
    "  }\n",
    "\n",
    "  // draw different shapes depending on mouse position\n",
    "  if (mouseX > 450) {\n",
    "    ellipse(300, 200, 100, 100);\n",
    "  } else if (mouseX > 300) {\n",
    "    rect(300, 200, 100, 100);\n",
    "  } else if (mouseX > 150) {\n",
    "    line(0, 0, width, height)\n",
    "  } else {\n",
    "    point(300, 200);\n",
    "  }\n",
    "\n",
    "}\n",
    "```"
   ]
  },
  {
   "cell_type": "markdown",
   "metadata": {},
   "source": [
    "3.4: Boolean Variables"
   ]
  },
  {
   "cell_type": "code",
   "execution_count": 20,
   "metadata": {
    "collapsed": false
   },
   "outputs": [
    {
     "data": {
      "text/html": [
       "<iframe src=\"https://www.youtube.com/embed/Rk-_syQluvc?list=PLRqwX-V7Uu6Zy51Q-x9tMWIv9cueOFTFA\" \n",
       "width=\"560\" height=\"315\" frameborder=\"0\" allowfullscreen></iframe>"
      ],
      "text/plain": [
       "<IPython.core.display.HTML object>"
      ]
     },
     "metadata": {},
     "output_type": "display_data"
    }
   ],
   "source": [
    "%%html\n",
    "<iframe src=\"https://www.youtube.com/embed/Rk-_syQluvc?list=PLRqwX-V7Uu6Zy51Q-x9tMWIv9cueOFTFA\" \n",
    "width=\"560\" height=\"315\" frameborder=\"0\" allowfullscreen></iframe>"
   ]
  },
  {
   "cell_type": "markdown",
   "metadata": {},
   "source": [
    "```java\n",
    "var on = false;\n",
    "\n",
    "function setup() {\n",
    "  createCanvas(600, 400);\n",
    "}\n",
    "\n",
    "// when inside the square, fill it\n",
    "// when mouse is clicked, toggle between green and black background\n",
    "function draw() {\n",
    "  // change background to green if on, else background is black\n",
    "  if (on) {\n",
    "    background(0, 255, 0);\n",
    "  } else {\n",
    "    background(0);\n",
    "  }\n",
    "\n",
    "  stroke(255);\n",
    "  strokeWeight(4);\n",
    "  noFill();\n",
    "\n",
    "  // when inside square, fill the square with purple\n",
    "  if(mouseX >250 && mouseX < 350 && mouseY > 150 && mouseY < 250) {\n",
    "    fill(255, 0, 200);\n",
    "  }\n",
    "\n",
    "  rectMode(CENTER);\n",
    "  rect(300, 200, 100, 100);\n",
    "\n",
    "}\n",
    "\n",
    "// when mouse is pressed inside the square, change he state of on\n",
    "function mousePressed() {\n",
    "  if(mouseX >250 && mouseX < 350 && mouseY > 150 && mouseY < 250) {\n",
    "    on = !on;\n",
    "  }\n",
    "}\n",
    "```"
   ]
  },
  {
   "cell_type": "markdown",
   "metadata": {},
   "source": [
    "4.1: while and for Loops"
   ]
  },
  {
   "cell_type": "code",
   "execution_count": 21,
   "metadata": {
    "collapsed": false
   },
   "outputs": [
    {
     "data": {
      "text/html": [
       "<iframe src=\"https://www.youtube.com/embed/cnRD9o6odjk?list=PLRqwX-V7Uu6Zy51Q-x9tMWIv9cueOFTFA\" \n",
       "width=\"560\" height=\"315\" frameborder=\"0\" allowfullscreen></iframe>"
      ],
      "text/plain": [
       "<IPython.core.display.HTML object>"
      ]
     },
     "metadata": {},
     "output_type": "display_data"
    }
   ],
   "source": [
    "%%html\n",
    "<iframe src=\"https://www.youtube.com/embed/cnRD9o6odjk?list=PLRqwX-V7Uu6Zy51Q-x9tMWIv9cueOFTFA\" \n",
    "width=\"560\" height=\"315\" frameborder=\"0\" allowfullscreen></iframe>"
   ]
  },
  {
   "cell_type": "markdown",
   "metadata": {},
   "source": [
    "```java\n",
    "function setup() {\n",
    "  createCanvas(600, 400);\n",
    "}\n",
    "\n",
    "// create two row of circles\n",
    "function draw() {\n",
    "  background(0);\n",
    "  strokeWeight(4);\n",
    "  stroke(255);\n",
    "\n",
    "  var x = 0;\n",
    "  while (x < width) {\n",
    "    fill(0, 200, 255);\n",
    "    ellipse(x, 100, 25, 25);\n",
    "    x += 50;\n",
    "  }\n",
    "\n",
    "  for(var x = 0; x < width; x += 50) {\n",
    "    fill(255, 0, 200);\n",
    "    ellipse(x, 300, 25, 25);\n",
    "  }\n",
    "\n",
    "}\n",
    "```"
   ]
  },
  {
   "cell_type": "markdown",
   "metadata": {},
   "source": [
    "4.2: Nested Loops"
   ]
  },
  {
   "cell_type": "code",
   "execution_count": 22,
   "metadata": {
    "collapsed": false
   },
   "outputs": [
    {
     "data": {
      "text/html": [
       "<iframe src=\"https://www.youtube.com/embed/1c1_TMdf8b8?list=PLRqwX-V7Uu6Zy51Q-x9tMWIv9cueOFTFA\" \n",
       "width=\"560\" height=\"315\" frameborder=\"0\" allowfullscreen></iframe>"
      ],
      "text/plain": [
       "<IPython.core.display.HTML object>"
      ]
     },
     "metadata": {},
     "output_type": "display_data"
    }
   ],
   "source": [
    "%%html\n",
    "<iframe src=\"https://www.youtube.com/embed/1c1_TMdf8b8?list=PLRqwX-V7Uu6Zy51Q-x9tMWIv9cueOFTFA\" \n",
    "width=\"560\" height=\"315\" frameborder=\"0\" allowfullscreen></iframe>\n"
   ]
  },
  {
   "cell_type": "markdown",
   "metadata": {},
   "source": [
    "```java\n",
    "\n",
    "function setup() {\n",
    "  createCanvas(600, 400);\n",
    "}\n",
    "\n",
    "// create a grid of circles that randomly changes colors\n",
    "function draw() {\n",
    "  background(0);\n",
    "  strokeWeight(4);\n",
    "  stroke(255);\n",
    "\n",
    "  for(var x = 0; x < mouseX; x += 50) {\n",
    "    for(var y = 0; y <= height; y += 50) {\n",
    "      fill(random(255), 0, random(200));\n",
    "      ellipse(x, y, 25, 25);\n",
    "    }\n",
    "  }\n",
    "\n",
    "}\n",
    "```"
   ]
  },
  {
   "cell_type": "markdown",
   "metadata": {},
   "source": [
    "5.1: Function Basics"
   ]
  },
  {
   "cell_type": "code",
   "execution_count": 23,
   "metadata": {
    "collapsed": false
   },
   "outputs": [
    {
     "data": {
      "text/html": [
       "<iframe src=\"https://www.youtube.com/embed/wRHAitGzBrg?list=PLRqwX-V7Uu6Zy51Q-x9tMWIv9cueOFTFA\" \n",
       "width=\"560\" height=\"315\" frameborder=\"0\" allowfullscreen></iframe>"
      ],
      "text/plain": [
       "<IPython.core.display.HTML object>"
      ]
     },
     "metadata": {},
     "output_type": "display_data"
    }
   ],
   "source": [
    "%%html\n",
    "<iframe src=\"https://www.youtube.com/embed/wRHAitGzBrg?list=PLRqwX-V7Uu6Zy51Q-x9tMWIv9cueOFTFA\" \n",
    "width=\"560\" height=\"315\" frameborder=\"0\" allowfullscreen></iframe>"
   ]
  },
  {
   "cell_type": "markdown",
   "metadata": {},
   "source": [
    "```java\n",
    "var ball = {\n",
    "  x: 300,\n",
    "  y: 200,\n",
    "  xspeed: 4,\n",
    "  yspeed: -3\n",
    "}\n",
    "\n",
    "function setup() {\n",
    "  createCanvas(600, 400);\n",
    "}\n",
    "\n",
    "// ball bounce off all edges\n",
    "function draw() {\n",
    "  background(0);\n",
    "\n",
    "  move();\n",
    "  bounce();\n",
    "  display();\n",
    "}\n",
    "\n",
    "function move() {\n",
    "  ball.x += ball.xspeed;\n",
    "  ball.y += ball.yspeed;\n",
    "}\n",
    "\n",
    "\n",
    "function bounce() {\n",
    "  if (ball.x < 0 || ball.x > width) {\n",
    "    ball.xspeed *= -1;\n",
    "  }\n",
    "\n",
    "  if (ball.y < 0 || ball.y > height) {\n",
    "    ball.yspeed *= -1;\n",
    "  }\n",
    "\n",
    "}\n",
    "\n",
    "function display() {\n",
    "  strokeWeight(4);\n",
    "  stroke(255);\n",
    "  noFill();\n",
    "\n",
    "  ellipse(ball.x, ball.y, 24, 24);\n",
    "\n",
    "}\n",
    "```"
   ]
  },
  {
   "cell_type": "markdown",
   "metadata": {},
   "source": [
    "5.2: Function Parameters and Arguments"
   ]
  },
  {
   "cell_type": "code",
   "execution_count": 24,
   "metadata": {
    "collapsed": false
   },
   "outputs": [
    {
     "data": {
      "text/html": [
       "<iframe src=\"https://www.youtube.com/embed/zkc417YapfE?list=PLRqwX-V7Uu6Zy51Q-x9tMWIv9cueOFTFA\" \n",
       "width=\"560\" height=\"315\" frameborder=\"0\" allowfullscreen></iframe>"
      ],
      "text/plain": [
       "<IPython.core.display.HTML object>"
      ]
     },
     "metadata": {},
     "output_type": "display_data"
    }
   ],
   "source": [
    "%%html\n",
    "<iframe src=\"https://www.youtube.com/embed/zkc417YapfE?list=PLRqwX-V7Uu6Zy51Q-x9tMWIv9cueOFTFA\" \n",
    "width=\"560\" height=\"315\" frameborder=\"0\" allowfullscreen></iframe>\n"
   ]
  },
  {
   "cell_type": "markdown",
   "metadata": {},
   "source": [
    "```java\n",
    "var ball = {\n",
    "  x: 300,\n",
    "  y: 200,\n",
    "  xspeed: 4,\n",
    "  yspeed: -3\n",
    "}\n",
    "\n",
    "function setup() {\n",
    "  createCanvas(600, 400);\n",
    "}\n",
    "\n",
    "// draw lollipop\n",
    "function draw() {\n",
    "  background(0);\n",
    "\n",
    " lollipop(300, 200, 50);\n",
    " lollipop(200, 100, 100);\n",
    "\n",
    "}\n",
    "\n",
    "function lollipop(x, y, diameter) {\n",
    "  fill(0, 200, 255);\n",
    "  rect(x-10, y, 20, 150);\n",
    "  \n",
    "  fill(255, 0, 200);\n",
    "  ellipse(x, y, diameter, diameter)\n",
    "  \n",
    "}\n",
    "```"
   ]
  },
  {
   "cell_type": "markdown",
   "metadata": {},
   "source": [
    "5.3: Functions and Return"
   ]
  },
  {
   "cell_type": "code",
   "execution_count": 25,
   "metadata": {
    "collapsed": false
   },
   "outputs": [
    {
     "data": {
      "text/html": [
       "<iframe src=\"https://www.youtube.com/embed/qRnUBiTJ66Y?list=PLRqwX-V7Uu6Zy51Q-x9tMWIv9cueOFTFA\" \n",
       "width=\"560\" height=\"315\" frameborder=\"0\" allowfullscreen></iframe>"
      ],
      "text/plain": [
       "<IPython.core.display.HTML object>"
      ]
     },
     "metadata": {},
     "output_type": "display_data"
    }
   ],
   "source": [
    "%%html\n",
    "<iframe src=\"https://www.youtube.com/embed/qRnUBiTJ66Y?list=PLRqwX-V7Uu6Zy51Q-x9tMWIv9cueOFTFA\" \n",
    "width=\"560\" height=\"315\" frameborder=\"0\" allowfullscreen></iframe>"
   ]
  },
  {
   "cell_type": "markdown",
   "metadata": {},
   "source": [
    "```java\n",
    "function setup() {\n",
    "  createCanvas(600, 400);\n",
    "\n",
    "  // angle and degrees are from p5\n",
    "  var angle = degrees(PI/2);\n",
    "  println (angle);\n",
    "\n",
    "  var km = milesToKm(26.3);\n",
    "  println (km);\n",
    "\n",
    "}\n",
    "\n",
    "function milesToKm(miles) {\n",
    "  return  miles * 1.6;\n",
    "}\n",
    "```"
   ]
  },
  {
   "cell_type": "markdown",
   "metadata": {},
   "source": [
    "5.4: Functions Inside of Objects"
   ]
  },
  {
   "cell_type": "code",
   "execution_count": 26,
   "metadata": {
    "collapsed": false
   },
   "outputs": [
    {
     "data": {
      "text/html": [
       "<iframe src=\"https://www.youtube.com/embed/QoFWCPVpWUE?list=PLRqwX-V7Uu6Zy51Q-x9tMWIv9cueOFTFA\" \n",
       "width=\"560\" height=\"315\" frameborder=\"0\" allowfullscreen></iframe>"
      ],
      "text/plain": [
       "<IPython.core.display.HTML object>"
      ]
     },
     "metadata": {},
     "output_type": "display_data"
    }
   ],
   "source": [
    "%%html\n",
    "<iframe src=\"https://www.youtube.com/embed/QoFWCPVpWUE?list=PLRqwX-V7Uu6Zy51Q-x9tMWIv9cueOFTFA\" \n",
    "width=\"560\" height=\"315\" frameborder=\"0\" allowfullscreen></iframe>"
   ]
  },
  {
   "cell_type": "markdown",
   "metadata": {},
   "source": [
    "```java\n",
    "var bubble = {\n",
    "  x: 300,\n",
    "  y: 200,\n",
    "  move:  function() {\n",
    "    this.x += random(-1, 1);\n",
    "    this.y += random(-1, 1);\n",
    "  },\n",
    "  display: function() {\n",
    "    stroke(255);\n",
    "    strokeWeight(4);\n",
    "    noFill();\n",
    "    ellipse(this.x, this.y, 24, 24);\n",
    "  }\n",
    "}\n",
    "\n",
    "function setup() {\n",
    "  createCanvas(600, 400);\n",
    "}\n",
    "\n",
    "function draw() {\n",
    "  background(0);\n",
    "  bubble.move();\n",
    "  bubble.display();\n",
    "}\n",
    "\n",
    "```"
   ]
  },
  {
   "cell_type": "markdown",
   "metadata": {},
   "source": [
    "6.1: What is an array?\n"
   ]
  },
  {
   "cell_type": "code",
   "execution_count": 27,
   "metadata": {
    "collapsed": false
   },
   "outputs": [
    {
     "data": {
      "text/html": [
       "<iframe src=\"https://www.youtube.com/embed/VIQoUghHSxU?list=PLRqwX-V7Uu6Zy51Q-x9tMWIv9cueOFTFA\" \n",
       "width=\"560\" height=\"315\" frameborder=\"0\" allowfullscreen></iframe>"
      ],
      "text/plain": [
       "<IPython.core.display.HTML object>"
      ]
     },
     "metadata": {},
     "output_type": "display_data"
    }
   ],
   "source": [
    "%%html\n",
    "<iframe src=\"https://www.youtube.com/embed/VIQoUghHSxU?list=PLRqwX-V7Uu6Zy51Q-x9tMWIv9cueOFTFA\" \n",
    "width=\"560\" height=\"315\" frameborder=\"0\" allowfullscreen></iframe>"
   ]
  },
  {
   "cell_type": "markdown",
   "metadata": {},
   "source": [
    "```java\n",
    "var nums = [100, 25, 12, 72];\n",
    "var words = ['aaa', 'bbb', 'ccc'];\n",
    "var index = 0;\n",
    "\n",
    "function setup() {\n",
    "  createCanvas(600, 400);\n",
    "}\n",
    "\n",
    "// show ellipse \n",
    "// show word when mouse is clicked\n",
    "function draw() {\n",
    "  background(0);\n",
    "  ellipse(100, 200, nums[0], nums[0]);\n",
    "  ellipse(200, 200, nums[1], nums[3]);\n",
    "  \n",
    "  fill(255);\n",
    "  textSize(32);\n",
    "  text(words[index], 300, 200);\n",
    "\n",
    "}\n",
    "\n",
    "function mousePressed() {\n",
    "  index += 1;\n",
    "  if (index == words.length) {\n",
    "    index = 0;\n",
    "  }\n",
    "}\n",
    "```"
   ]
  },
  {
   "cell_type": "markdown",
   "metadata": {},
   "source": [
    "6.2: Arrays and Loops"
   ]
  },
  {
   "cell_type": "code",
   "execution_count": 28,
   "metadata": {
    "collapsed": false
   },
   "outputs": [
    {
     "data": {
      "text/html": [
       "<iframe src=\"https://www.youtube.com/embed/RXWO3mFuW-I?list=PLRqwX-V7Uu6Zy51Q-x9tMWIv9cueOFTFA\"\n",
       "width=\"560\" height=\"315\" frameborder=\"0\" allowfullscreen></iframe>"
      ],
      "text/plain": [
       "<IPython.core.display.HTML object>"
      ]
     },
     "metadata": {},
     "output_type": "display_data"
    }
   ],
   "source": [
    "%%html\n",
    "<iframe src=\"https://www.youtube.com/embed/RXWO3mFuW-I?list=PLRqwX-V7Uu6Zy51Q-x9tMWIv9cueOFTFA\"\n",
    "width=\"560\" height=\"315\" frameborder=\"0\" allowfullscreen></iframe>"
   ]
  },
  {
   "cell_type": "markdown",
   "metadata": {},
   "source": [
    "```java\n",
    "var nums = [100, 50, 12, 72];\n",
    "\n",
    "function setup() {\n",
    "  createCanvas(600, 400);\n",
    "}\n",
    "\n",
    "// show ellipse\n",
    "function draw() {\n",
    "  background(0);\n",
    "\n",
    "  for(var i = 0; i < nums.length; i++) {\n",
    "    stroke(255)\n",
    "    noFill();\n",
    "    ellipse(i *100 + 100, 200, nums[i], nums[i]);\n",
    "  }\n",
    "\n",
    "}\n",
    "```"
   ]
  },
  {
   "cell_type": "markdown",
   "metadata": {},
   "source": [
    "6.3: Arrays of Objects"
   ]
  },
  {
   "cell_type": "code",
   "execution_count": 29,
   "metadata": {
    "collapsed": false
   },
   "outputs": [
    {
     "data": {
      "text/html": [
       "<iframe src=\"https://www.youtube.com/embed/pGkSHeEZLMU?list=PLRqwX-V7Uu6Zy51Q-x9tMWIv9cueOFTFA\" \n",
       "width=\"560\" height=\"315\" frameborder=\"0\" allowfullscreen></iframe>"
      ],
      "text/plain": [
       "<IPython.core.display.HTML object>"
      ]
     },
     "metadata": {},
     "output_type": "display_data"
    }
   ],
   "source": [
    "%%html\n",
    "<iframe src=\"https://www.youtube.com/embed/pGkSHeEZLMU?list=PLRqwX-V7Uu6Zy51Q-x9tMWIv9cueOFTFA\" \n",
    "width=\"560\" height=\"315\" frameborder=\"0\" allowfullscreen></iframe>"
   ]
  },
  {
   "cell_type": "markdown",
   "metadata": {},
   "source": [
    "```java\n",
    "var bubbles = [];\n",
    "\n",
    "function setup() {\n",
    "  createCanvas(600, 400);\n",
    "  for(var i = 0; i < 400; i++) {\n",
    "    bubbles[i] = {\n",
    "      x: random(0, width),\n",
    "      y: random(0, height),\n",
    "      move:  function() {\n",
    "        this.x += random(-1, 1);\n",
    "        this.y += random(-1, 1);\n",
    "      },\n",
    "      display: function() {\n",
    "        stroke(255);\n",
    "        noFill();\n",
    "        ellipse(this.x, this.y, 24, 24);\n",
    "      }\n",
    "    }\n",
    "  }\n",
    "}\n",
    "\n",
    "// display many circles at random positions\n",
    "function draw() {\n",
    "  background(0);\n",
    "  \n",
    "  for(var i =0; i < bubbles.length; i++) {\n",
    "    bubbles[i].move();\n",
    "    bubbles[i].display();\n",
    "  }\n",
    "}\n",
    "```"
   ]
  },
  {
   "cell_type": "markdown",
   "metadata": {},
   "source": [
    "6.4: The constructor Function in JavaScript"
   ]
  },
  {
   "cell_type": "code",
   "execution_count": 30,
   "metadata": {
    "collapsed": false
   },
   "outputs": [
    {
     "data": {
      "text/html": [
       "<iframe src=\"https://www.youtube.com/embed/F3GeM_KrGjI?list=PLRqwX-V7Uu6Zy51Q-x9tMWIv9cueOFTFA\" \n",
       "width=\"560\" height=\"315\" frameborder=\"0\" allowfullscreen></iframe>"
      ],
      "text/plain": [
       "<IPython.core.display.HTML object>"
      ]
     },
     "metadata": {},
     "output_type": "display_data"
    }
   ],
   "source": [
    "%%html\n",
    "<iframe src=\"https://www.youtube.com/embed/F3GeM_KrGjI?list=PLRqwX-V7Uu6Zy51Q-x9tMWIv9cueOFTFA\" \n",
    "width=\"560\" height=\"315\" frameborder=\"0\" allowfullscreen></iframe>"
   ]
  },
  {
   "cell_type": "markdown",
   "metadata": {},
   "source": [
    "```java\n",
    "var bubbles = [];\n",
    "\n",
    "function setup() {\n",
    "  createCanvas(600, 400);\n",
    "  for(var i = 0; i < 400; i++) {\n",
    "    bubbles[i] = new Bubble();\n",
    "  }\n",
    "}\n",
    "\n",
    "// display many circles at random positions\n",
    "function draw() {\n",
    "  background(0);\n",
    "  \n",
    "  for(var i =0; i < bubbles.length; i++) {\n",
    "    bubbles[i].move();\n",
    "    bubbles[i].display();\n",
    "  }\n",
    "}\n",
    "\n",
    "function Bubble () {\n",
    "  this.x = random(0, width);\n",
    "  this.y = random(0, height);\n",
    "  \n",
    "  this.move = function() {\n",
    "    this.x += random(-1, 1);\n",
    "    this.y += random(-1, 1);\n",
    "  }\n",
    "  \n",
    "  this.display = function() {\n",
    "    stroke(255);\n",
    "    noFill();\n",
    "    ellipse(this.x, this.y, 24, 24);\n",
    "  }\n",
    "}\n",
    "\n",
    "\n",
    "\n",
    "  \n",
    "```"
   ]
  },
  {
   "cell_type": "markdown",
   "metadata": {},
   "source": [
    "6.5: Adding and Removing Objects"
   ]
  },
  {
   "cell_type": "code",
   "execution_count": 31,
   "metadata": {
    "collapsed": false
   },
   "outputs": [
    {
     "data": {
      "text/html": [
       "<iframe src=\"https://www.youtube.com/embed/EyG_2AdHlzY?list=PLRqwX-V7Uu6Zy51Q-x9tMWIv9cueOFTFA\" \n",
       "width=\"560\" height=\"315\" frameborder=\"0\" allowfullscreen></iframe>"
      ],
      "text/plain": [
       "<IPython.core.display.HTML object>"
      ]
     },
     "metadata": {},
     "output_type": "display_data"
    }
   ],
   "source": [
    "%%html\n",
    "<iframe src=\"https://www.youtube.com/embed/EyG_2AdHlzY?list=PLRqwX-V7Uu6Zy51Q-x9tMWIv9cueOFTFA\" \n",
    "width=\"560\" height=\"315\" frameborder=\"0\" allowfullscreen></iframe>"
   ]
  },
  {
   "cell_type": "markdown",
   "metadata": {},
   "source": [
    "```java\n",
    "\n",
    "var bubbles = [];\n",
    "\n",
    "function setup() {\n",
    "  createCanvas(600, 400);\n",
    "}\n",
    "\n",
    "// when mouse is clicked, call the clicked() on every bubble\n",
    "function mousePressed() {\n",
    "  var bubble = new Bubble(mouseX, mouseY);\n",
    "  bubbles.push(bubble);\n",
    "  \n",
    "}\n",
    "\n",
    "// draw 10 bubbles in random spot\n",
    "function draw() {\n",
    "  background(0);\n",
    "  // loop from the end of the array to the beginning to avoid errors\n",
    "  // from changing an array while looping through an array\n",
    "  for(var i =bubbles.length -1; i >= 0; i--) {\n",
    "    bubbles[i].update();\n",
    "    bubbles[i].display();\n",
    "    if (bubbles[i].isFinished()) {\n",
    "      bubbles.splice(i, 1);\n",
    "    }\n",
    "  }\n",
    "}\n",
    "```"
   ]
  },
  {
   "cell_type": "markdown",
   "metadata": {},
   "source": [
    "6.6: Multiple js Files"
   ]
  },
  {
   "cell_type": "code",
   "execution_count": 32,
   "metadata": {
    "collapsed": false
   },
   "outputs": [
    {
     "data": {
      "text/html": [
       "<iframe src=\"https://www.youtube.com/embed/Yk18ZKvXBj4?list=PLRqwX-V7Uu6Zy51Q-x9tMWIv9cueOFTFA\" \n",
       "width=\"560\" height=\"315\" frameborder=\"0\" allowfullscreen></iframe>"
      ],
      "text/plain": [
       "<IPython.core.display.HTML object>"
      ]
     },
     "metadata": {},
     "output_type": "display_data"
    }
   ],
   "source": [
    "%%html\n",
    "<iframe src=\"https://www.youtube.com/embed/Yk18ZKvXBj4?list=PLRqwX-V7Uu6Zy51Q-x9tMWIv9cueOFTFA\" \n",
    "width=\"560\" height=\"315\" frameborder=\"0\" allowfullscreen></iframe>"
   ]
  },
  {
   "cell_type": "markdown",
   "metadata": {},
   "source": [
    "```java\n",
    "var bubbles = [];\n",
    "\n",
    "function setup() {\n",
    "  createCanvas(600, 400);\n",
    "  for (var i = 0; i < 10; i++) {\n",
    "    var x = random(width);\n",
    "    var y = random(height);\n",
    "    bubbles.push(new Bubble(x, y));\n",
    "  }\n",
    "}\n",
    "\n",
    "// draw 10 bubbles in random spot\n",
    "function draw() {\n",
    "  background(0);\n",
    "  for(var i =0; i < bubbles.length; i++) {\n",
    "    bubbles[i].move();\n",
    "    bubbles[i].display();\n",
    "  }\n",
    "}\n",
    "```"
   ]
  },
  {
   "cell_type": "markdown",
   "metadata": {},
   "source": [
    "6.7: Clicking on Objects"
   ]
  },
  {
   "cell_type": "code",
   "execution_count": 33,
   "metadata": {
    "collapsed": false
   },
   "outputs": [
    {
     "data": {
      "text/html": [
       "<iframe src=\"https://www.youtube.com/embed/DEHsr4XicN8?list=PLRqwX-V7Uu6Zy51Q-x9tMWIv9cueOFTFA\" \n",
       "width=\"560\" height=\"315\" frameborder=\"0\" allowfullscreen></iframe>"
      ],
      "text/plain": [
       "<IPython.core.display.HTML object>"
      ]
     },
     "metadata": {},
     "output_type": "display_data"
    }
   ],
   "source": [
    "%%html\n",
    "<iframe src=\"https://www.youtube.com/embed/DEHsr4XicN8?list=PLRqwX-V7Uu6Zy51Q-x9tMWIv9cueOFTFA\" \n",
    "width=\"560\" height=\"315\" frameborder=\"0\" allowfullscreen></iframe>"
   ]
  },
  {
   "cell_type": "markdown",
   "metadata": {},
   "source": [
    "```java\n",
    "var bubbles = [];\n",
    "\n",
    "function setup() {\n",
    "  createCanvas(600, 400);\n",
    "  for (var i = 0; i < 10; i++) {\n",
    "    var x = random(width);\n",
    "    var y = random(height);\n",
    "    bubbles.push(new Bubble(x, y));\n",
    "  }\n",
    "}\n",
    "\n",
    "// when mouse is clicked, call the clicked() on every bubble\n",
    "function mousePressed() {\n",
    "  for(var i =0; i < bubbles.length; i++) {\n",
    "    bubbles[i].clicked();\n",
    "  }\n",
    "}\n",
    "\n",
    "// draw 10 bubbles in random spot\n",
    "function draw() {\n",
    "  background(0);\n",
    "  for(var i =0; i < bubbles.length; i++) {\n",
    "    bubbles[i].move();\n",
    "    bubbles[i].display();\n",
    "  }\n",
    "}\n",
    "```"
   ]
  },
  {
   "cell_type": "markdown",
   "metadata": {},
   "source": [
    "6.8: Deleting Objects Using splice()"
   ]
  },
  {
   "cell_type": "code",
   "execution_count": 34,
   "metadata": {
    "collapsed": false
   },
   "outputs": [
    {
     "data": {
      "text/html": [
       "<iframe src=\"https://www.youtube.com/embed/HXOD_XDA-KU?list=PLRqwX-V7Uu6Zy51Q-x9tMWIv9cueOFTFA\" \n",
       "width=\"560\" height=\"315\" frameborder=\"0\" allowfullscreen></iframe>"
      ],
      "text/plain": [
       "<IPython.core.display.HTML object>"
      ]
     },
     "metadata": {},
     "output_type": "display_data"
    }
   ],
   "source": [
    "%%html\n",
    "<iframe src=\"https://www.youtube.com/embed/HXOD_XDA-KU?list=PLRqwX-V7Uu6Zy51Q-x9tMWIv9cueOFTFA\" \n",
    "width=\"560\" height=\"315\" frameborder=\"0\" allowfullscreen></iframe>"
   ]
  },
  {
   "cell_type": "markdown",
   "metadata": {},
   "source": [
    "```java\n",
    "var bubbles = [];\n",
    "\n",
    "function setup() {\n",
    "  createCanvas(600, 400);\n",
    "}\n",
    "\n",
    "// when mouse is clicked, call the clicked() on every bubble\n",
    "function mousePressed() {\n",
    "  var bubble = new Bubble(mouseX, mouseY);\n",
    "  bubbles.push(bubble);\n",
    "  \n",
    "}\n",
    "\n",
    "// draw 10 bubbles in random spot\n",
    "function draw() {\n",
    "  background(0);\n",
    "  // loop from the end of the array to the beginning to avoid errors\n",
    "  // from changing an array while looping through an array\n",
    "  for(var i =bubbles.length -1; i >= 0; i--) {\n",
    "    bubbles[i].update();\n",
    "    bubbles[i].display();\n",
    "    if (bubbles[i].isFinished()) {\n",
    "      bubbles.splice(i, 1);\n",
    "    }\n",
    "  }\n",
    "}\n",
    "```"
   ]
  },
  {
   "cell_type": "markdown",
   "metadata": {},
   "source": [
    "6.9: Checking Objects Intersection Part 1"
   ]
  },
  {
   "cell_type": "code",
   "execution_count": 35,
   "metadata": {
    "collapsed": false
   },
   "outputs": [
    {
     "data": {
      "text/html": [
       "<iframe src=\"https://www.youtube.com/embed/uAfw-ko3kB8?list=PLRqwX-V7Uu6Zy51Q-x9tMWIv9cueOFTFA\" \n",
       "width=\"560\" height=\"315\" frameborder=\"0\" allowfullscreen></iframe>"
      ],
      "text/plain": [
       "<IPython.core.display.HTML object>"
      ]
     },
     "metadata": {},
     "output_type": "display_data"
    }
   ],
   "source": [
    "%%html\n",
    "<iframe src=\"https://www.youtube.com/embed/uAfw-ko3kB8?list=PLRqwX-V7Uu6Zy51Q-x9tMWIv9cueOFTFA\" \n",
    "width=\"560\" height=\"315\" frameborder=\"0\" allowfullscreen></iframe>"
   ]
  },
  {
   "cell_type": "markdown",
   "metadata": {},
   "source": [
    "```java\n",
    "var b1;\n",
    "var b2;\n",
    "\n",
    "function setup() {\n",
    "  createCanvas(600, 400);\n",
    "  b1 = new Bubble(250, 200);\n",
    "  b2 = new Bubble(350, 200);\n",
    "}\n",
    "\n",
    "\n",
    "// when circles overlap, change color\n",
    "function draw() {\n",
    "  background(0);\n",
    "\n",
    "  b1.update();\n",
    "  b1.display();\n",
    "  b2.update();\n",
    "  b2.display();\n",
    "  \n",
    "  \n",
    "  if (b1.intersects(b2)){\n",
    "    b1.changeColor();\n",
    "    b2.changeColor();\n",
    "  }\n",
    "  \n",
    "}\n",
    "```"
   ]
  },
  {
   "cell_type": "markdown",
   "metadata": {},
   "source": [
    "6.10: Checking Objects Intersection Part 2"
   ]
  },
  {
   "cell_type": "code",
   "execution_count": 36,
   "metadata": {
    "collapsed": false
   },
   "outputs": [
    {
     "data": {
      "text/html": [
       "<iframe src=\"https://www.youtube.com/embed/GY-c2HO2liA?list=PLRqwX-V7Uu6Zy51Q-x9tMWIv9cueOFTFA\" \n",
       "width=\"560\" height=\"315\" frameborder=\"0\" allowfullscreen></iframe>"
      ],
      "text/plain": [
       "<IPython.core.display.HTML object>"
      ]
     },
     "metadata": {},
     "output_type": "display_data"
    }
   ],
   "source": [
    "%%html\n",
    "<iframe src=\"https://www.youtube.com/embed/GY-c2HO2liA?list=PLRqwX-V7Uu6Zy51Q-x9tMWIv9cueOFTFA\" \n",
    "width=\"560\" height=\"315\" frameborder=\"0\" allowfullscreen></iframe>"
   ]
  },
  {
   "cell_type": "markdown",
   "metadata": {},
   "source": [
    "```java\n",
    "var bubbles = [];\n",
    "\n",
    "function setup() {\n",
    "  createCanvas(600, 400);\n",
    "  for(var i =0; i < 4; i++){\n",
    "    bubbles[i] = new Bubble(random(width), random(height));\n",
    "  }\n",
    "}\n",
    "\n",
    "\n",
    "// when circles overlap, change color\n",
    "function draw() {\n",
    "  background(0);\n",
    "\n",
    "  // nested for loops to check if circle intersects all other circles\n",
    "  for(var i = 0; i < bubbles.length; i++) {\n",
    "    bubbles[i].update();\n",
    "    bubbles[i].display();\n",
    "    for(var j = i; j < bubbles.length; j++) {\n",
    "      if (i != j && bubbles[i].intersects(bubbles[j])) {\n",
    "        bubbles[i].changeColor();\n",
    "        bubbles[j].changeColor();\n",
    "      }\n",
    "    }\n",
    "  }\n",
    "}\n",
    "```"
   ]
  },
  {
   "cell_type": "markdown",
   "metadata": {},
   "source": [
    "6.11: Objects and Images"
   ]
  },
  {
   "cell_type": "code",
   "execution_count": 37,
   "metadata": {
    "collapsed": false
   },
   "outputs": [
    {
     "data": {
      "text/html": [
       "<iframe src=\"https://www.youtube.com/embed/FVYGyaxG4To?list=PLRqwX-V7Uu6Zy51Q-x9tMWIv9cueOFTFA\" \n",
       "width=\"560\" height=\"315\" frameborder=\"0\" allowfullscreen></iframe>"
      ],
      "text/plain": [
       "<IPython.core.display.HTML object>"
      ]
     },
     "metadata": {},
     "output_type": "display_data"
    }
   ],
   "source": [
    "%%html\n",
    "<iframe src=\"https://www.youtube.com/embed/FVYGyaxG4To?list=PLRqwX-V7Uu6Zy51Q-x9tMWIv9cueOFTFA\" \n",
    "width=\"560\" height=\"315\" frameborder=\"0\" allowfullscreen></iframe>"
   ]
  },
  {
   "cell_type": "markdown",
   "metadata": {
    "collapsed": true
   },
   "source": [
    "```java\n",
    "var bubbles = [];\n",
    "var flowers = [];\n",
    "\n",
    "// preload runs before setup to load external files\n",
    "function preload() {\n",
    "  for(var i = 0; i < 3; i++) {\n",
    "    flowers[i] =  loadImage('images/flower' + i + '.png');\n",
    "  }\n",
    "}\n",
    "\n",
    "function setup() {\n",
    "  createCanvas(600, 400);\n",
    "}\n",
    "\n",
    "function mousePressed() {\n",
    "  // random returns float; floor rounds down to nearest integer\n",
    "  var r = floor(random(0, flowers.length));\n",
    "  var b = new Bubble(mouseX, mouseY, flowers[r]);\n",
    "  bubbles.push(b);\n",
    "}\n",
    "\n",
    "// draw images in random spot\n",
    "function draw() {\n",
    "  background(255);\n",
    "  for(var i =0; i < bubbles.length; i++) {\n",
    "    bubbles[i].update();\n",
    "    bubbles[i].display();\n",
    "  }\n",
    "}\n",
    "\n",
    "```"
   ]
  },
  {
   "cell_type": "code",
   "execution_count": null,
   "metadata": {
    "collapsed": true
   },
   "outputs": [],
   "source": []
  }
 ],
 "metadata": {
  "anaconda-cloud": {},
  "kernelspec": {
   "display_name": "Python [Root]",
   "language": "python",
   "name": "Python [Root]"
  },
  "language_info": {
   "codemirror_mode": {
    "name": "ipython",
    "version": 3
   },
   "file_extension": ".py",
   "mimetype": "text/x-python",
   "name": "python",
   "nbconvert_exporter": "python",
   "pygments_lexer": "ipython3",
   "version": "3.5.2"
  }
 },
 "nbformat": 4,
 "nbformat_minor": 0
}

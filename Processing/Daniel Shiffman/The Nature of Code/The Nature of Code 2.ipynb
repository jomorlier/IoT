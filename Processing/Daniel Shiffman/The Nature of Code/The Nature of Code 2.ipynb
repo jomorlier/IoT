{
 "cells": [
  {
   "cell_type": "markdown",
   "metadata": {},
   "source": [
    "<font size='6'><b>Processing</b></font><br><br>\n",
    "\n",
    "<font size='5'><b>The Nature of Code by Daniel Shiffman</b></font>\n",
    "\n",
    "https://github.com/shiffman/The-Nature-of-Code-Examples<br>\n",
    "http://natureofcode.com/book/chapter-4-particle-systems/\n",
    "\n",
    "<table style=\"border-style: hidden; border-collapse: collapse;\" width = \"80%\"> \n",
    "    <tr style=\"border-style: hidden; border-collapse: collapse;\">\n",
    "        <td width = 55% style=\"border-style: hidden; border-collapse: collapse;\">\n",
    "\n",
    "        </td>\n",
    "        <td width = 25%>\n",
    "        Collected by Seungchul Lee<br>iSystems (http://isystems.unist.ac.kr/)<br>UNIST\n",
    "        </td>\n",
    "    </tr>\n",
    "</table>\n",
    "\n",
    "Table of Contents\n",
    "<div id=\"toc\"></div>"
   ]
  },
  {
   "cell_type": "markdown",
   "metadata": {},
   "source": [
    "# 4. Systems\n",
    "### 4.1: Particle Systems - The Nature of Code"
   ]
  },
  {
   "cell_type": "code",
   "execution_count": 2,
   "metadata": {
    "collapsed": false
   },
   "outputs": [
    {
     "data": {
      "text/html": [
       "<iframe src=\"https://www.youtube.com/embed/vdgiqMkFygc?list=PLRqwX-V7Uu6aFlwukCmDf0-1-uSR7mklK\" \n",
       "width=\"560\" height=\"315\" frameborder=\"0\" allowfullscreen></iframe>"
      ],
      "text/plain": [
       "<IPython.core.display.HTML object>"
      ]
     },
     "metadata": {},
     "output_type": "display_data"
    }
   ],
   "source": [
    "%%html\n",
    "<iframe src=\"https://www.youtube.com/embed/vdgiqMkFygc?list=PLRqwX-V7Uu6aFlwukCmDf0-1-uSR7mklK\" \n",
    "width=\"560\" height=\"315\" frameborder=\"0\" allowfullscreen></iframe>"
   ]
  },
  {
   "cell_type": "markdown",
   "metadata": {},
   "source": [
    "```java\n",
    "Particle p;\n",
    "\n",
    "void setup() {\n",
    "  size(800,200);\n",
    "  p = new Particle(new PVector(width/2,20));\n",
    "  background(255);\n",
    "  smooth();\n",
    "}\n",
    "\n",
    "void draw() {\n",
    "  background(255);\n",
    "  \n",
    "  p.run();\n",
    "  if (p.isDead()) {\n",
    "    p = new Particle(new PVector(width/2,20));\n",
    "    //println(\"Particle dead!\"); \n",
    "  }\n",
    "}\n",
    "\n",
    "\n",
    "\n",
    "// A simple Particle class\n",
    "\n",
    "class Particle {\n",
    "  PVector location;\n",
    "  PVector velocity;\n",
    "  PVector acceleration;\n",
    "  float lifespan;\n",
    "\n",
    "  Particle(PVector l) {\n",
    "    acceleration = new PVector(0, 0.05);\n",
    "    velocity = new PVector(random(-1, 1), random(-1, 0));\n",
    "    location = l.get();\n",
    "    lifespan = 255.0;\n",
    "  }\n",
    "\n",
    "  void run() {\n",
    "    update();\n",
    "    display();\n",
    "  }\n",
    "\n",
    "  // Method to update location\n",
    "  void update() {\n",
    "    velocity.add(acceleration);\n",
    "    location.add(velocity);\n",
    "    lifespan -= 2.0;\n",
    "  }\n",
    "\n",
    "  // Method to display\n",
    "  void display() {\n",
    "    stroke(0, lifespan);\n",
    "    strokeWeight(2);\n",
    "    fill(127, lifespan);\n",
    "    ellipse(location.x, location.y, 12, 12);\n",
    "  }\n",
    "\n",
    "  // Is the particle still useful?\n",
    "  boolean isDead() {\n",
    "    if (lifespan < 0.0) {\n",
    "      return true;\n",
    "    } \n",
    "    else {\n",
    "      return false;\n",
    "    }\n",
    "  }\n",
    "}\n",
    "```"
   ]
  },
  {
   "cell_type": "markdown",
   "metadata": {},
   "source": [
    "### 4.2: ArrayLists in Processing - The Nature of Code"
   ]
  },
  {
   "cell_type": "code",
   "execution_count": 3,
   "metadata": {
    "collapsed": false
   },
   "outputs": [
    {
     "data": {
      "text/html": [
       "<iframe src=\"https://www.youtube.com/embed/HnSJZ4qTcwY?list=PLRqwX-V7Uu6aFlwukCmDf0-1-uSR7mklK\" \n",
       "width=\"560\" height=\"315\" frameborder=\"0\" allowfullscreen></iframe>"
      ],
      "text/plain": [
       "<IPython.core.display.HTML object>"
      ]
     },
     "metadata": {},
     "output_type": "display_data"
    }
   ],
   "source": [
    "%%html\n",
    "<iframe src=\"https://www.youtube.com/embed/HnSJZ4qTcwY?list=PLRqwX-V7Uu6aFlwukCmDf0-1-uSR7mklK\" \n",
    "width=\"560\" height=\"315\" frameborder=\"0\" allowfullscreen></iframe>"
   ]
  },
  {
   "cell_type": "markdown",
   "metadata": {},
   "source": [
    "```java\n",
    "ArrayList<Particle> particles;\n",
    "\n",
    "void setup() {\n",
    "  size(800, 200);\n",
    "  particles = new ArrayList<Particle>();\n",
    "  smooth();\n",
    "}\n",
    "\n",
    "void draw() {\n",
    "  background(255);\n",
    "\n",
    "  particles.add(new Particle(new PVector(width/2, 50)));\n",
    "\n",
    "  // Using the iterator \n",
    "  for (int i = 0; i < particles.size(); i++) {\n",
    "    Particle p = (Particle) particles.get(i);\n",
    "    p.run();\n",
    "    if (p.isDead()) {\n",
    "      particles.remove(i);\n",
    "    }\n",
    "  }\n",
    "}\n",
    "\n",
    "\n",
    "// A simple Particle class\n",
    "\n",
    "class Particle {\n",
    "  PVector location;\n",
    "  PVector velocity;\n",
    "  PVector acceleration;\n",
    "  float lifespan;\n",
    "\n",
    "  Particle(PVector l) {\n",
    "    acceleration = new PVector(0, 0.05);\n",
    "    velocity = new PVector(random(-1, 1), random(-2, 0));\n",
    "    location = l.get();\n",
    "    lifespan = 255.0;\n",
    "  }\n",
    "\n",
    "  void run() {\n",
    "    update();\n",
    "    display();\n",
    "  }\n",
    "\n",
    "  // Method to update location\n",
    "  void update() {\n",
    "    velocity.add(acceleration);\n",
    "    location.add(velocity);\n",
    "    lifespan -= 2.0;\n",
    "  }\n",
    "\n",
    "  // Method to display\n",
    "  void display() {\n",
    "    stroke(0, lifespan);\n",
    "    strokeWeight(2);\n",
    "    fill(127, lifespan);\n",
    "    ellipse(location.x, location.y, 12, 12);\n",
    "  }\n",
    "\n",
    "  // Is the particle still useful?\n",
    "  boolean isDead() {\n",
    "    if (lifespan < 0.0) {\n",
    "      return true;\n",
    "    } \n",
    "    else {\n",
    "      return false;\n",
    "    }\n",
    "  }\n",
    "}\n",
    "```"
   ]
  },
  {
   "cell_type": "markdown",
   "metadata": {},
   "source": [
    "### 4.3: Deleting objects from ArrayList - The Nature of Code"
   ]
  },
  {
   "cell_type": "code",
   "execution_count": 4,
   "metadata": {
    "collapsed": false
   },
   "outputs": [
    {
     "data": {
      "text/html": [
       "<iframe src=\"https://www.youtube.com/embed/IsdZKG9wyBc?list=PLRqwX-V7Uu6aFlwukCmDf0-1-uSR7mklK\" \n",
       "width=\"560\" height=\"315\" frameborder=\"0\" allowfullscreen></iframe>"
      ],
      "text/plain": [
       "<IPython.core.display.HTML object>"
      ]
     },
     "metadata": {},
     "output_type": "display_data"
    }
   ],
   "source": [
    "%%html\n",
    "<iframe src=\"https://www.youtube.com/embed/IsdZKG9wyBc?list=PLRqwX-V7Uu6aFlwukCmDf0-1-uSR7mklK\" \n",
    "width=\"560\" height=\"315\" frameborder=\"0\" allowfullscreen></iframe>"
   ]
  },
  {
   "cell_type": "markdown",
   "metadata": {},
   "source": [
    "### 4.4: Particle System Class - The Nature of Code"
   ]
  },
  {
   "cell_type": "code",
   "execution_count": 5,
   "metadata": {
    "collapsed": false
   },
   "outputs": [
    {
     "data": {
      "text/html": [
       "<iframe src=\"https://www.youtube.com/embed/krRpZFU6rSI?list=PLRqwX-V7Uu6aFlwukCmDf0-1-uSR7mklK\" \n",
       "width=\"560\" height=\"315\" frameborder=\"0\" allowfullscreen></iframe>"
      ],
      "text/plain": [
       "<IPython.core.display.HTML object>"
      ]
     },
     "metadata": {},
     "output_type": "display_data"
    }
   ],
   "source": [
    "%%html\n",
    "<iframe src=\"https://www.youtube.com/embed/krRpZFU6rSI?list=PLRqwX-V7Uu6aFlwukCmDf0-1-uSR7mklK\" \n",
    "width=\"560\" height=\"315\" frameborder=\"0\" allowfullscreen></iframe>"
   ]
  },
  {
   "cell_type": "markdown",
   "metadata": {},
   "source": [
    "```java\n",
    "ParticleSystem ps;\n",
    "\n",
    "void setup() {\n",
    "  size(800,200);\n",
    "  smooth();\n",
    "  ps = new ParticleSystem(new PVector(width/2,50));\n",
    "}\n",
    "\n",
    "void draw() {\n",
    "  background(255);\n",
    "  ps.addParticle();\n",
    "  ps.run();\n",
    "}\n",
    "\n",
    "// Simple Particle System\n",
    "// Daniel Shiffman <http://www.shiffman.net>\n",
    "\n",
    "// A simple Particle class\n",
    "\n",
    "class Particle {\n",
    "  PVector location;\n",
    "  PVector velocity;\n",
    "  PVector acceleration;\n",
    "  float lifespan;\n",
    "\n",
    "  Particle(PVector l) {\n",
    "    acceleration = new PVector(0,0.05);\n",
    "    velocity = new PVector(random(-1,1),random(-2,0));\n",
    "    location = l.get();\n",
    "    lifespan = 255.0;\n",
    "  }\n",
    "\n",
    "  void run() {\n",
    "    update();\n",
    "    display();\n",
    "  }\n",
    "\n",
    "  // Method to update location\n",
    "  void update() {\n",
    "    velocity.add(acceleration);\n",
    "    location.add(velocity);\n",
    "    lifespan -= 2.0;\n",
    "  }\n",
    "\n",
    "  // Method to display\n",
    "  void display() {\n",
    "    stroke(0,lifespan);\n",
    "    strokeWeight(2);\n",
    "    fill(127,lifespan);\n",
    "    ellipse(location.x,location.y,12,12);\n",
    "  }\n",
    "  \n",
    "  // Is the particle still useful?\n",
    "  boolean isDead() {\n",
    "    if (lifespan < 0.0) {\n",
    "      return true;\n",
    "    } else {\n",
    "      return false;\n",
    "    }\n",
    "  }\n",
    "}\n",
    "\n",
    "// Using Generics now!  comment and annotate, etc.\n",
    "\n",
    "class ParticleSystem {\n",
    "  ArrayList<Particle> particles;\n",
    "  PVector origin;\n",
    "\n",
    "  ParticleSystem(PVector location) {\n",
    "    origin = location.get();\n",
    "    particles = new ArrayList<Particle>();\n",
    "  }\n",
    "\n",
    "  void addParticle() {\n",
    "    particles.add(new Particle(origin));\n",
    "  }\n",
    "\n",
    "  void run() {\n",
    "    for (int i = 0; i < particles.size (); i++) {\n",
    "      Particle p = (Particle) particles.get(i);\n",
    "      p.run();\n",
    "      if (p.isDead()) {\n",
    "        particles.remove(i);\n",
    "      }\n",
    "    }\n",
    "  }\n",
    "}\n",
    "```"
   ]
  },
  {
   "cell_type": "markdown",
   "metadata": {},
   "source": [
    "### 4.5: Introduction to Inheritance Part I - The Nature of Code"
   ]
  },
  {
   "cell_type": "code",
   "execution_count": 6,
   "metadata": {
    "collapsed": false
   },
   "outputs": [
    {
     "data": {
      "text/html": [
       "<iframe src=\"https://www.youtube.com/embed/e6eXD8DHc_A?list=PLRqwX-V7Uu6aFlwukCmDf0-1-uSR7mklK\" \n",
       "width=\"560\" height=\"315\" frameborder=\"0\" allowfullscreen></iframe>"
      ],
      "text/plain": [
       "<IPython.core.display.HTML object>"
      ]
     },
     "metadata": {},
     "output_type": "display_data"
    }
   ],
   "source": [
    "%%html\n",
    "<iframe src=\"https://www.youtube.com/embed/e6eXD8DHc_A?list=PLRqwX-V7Uu6aFlwukCmDf0-1-uSR7mklK\" \n",
    "width=\"560\" height=\"315\" frameborder=\"0\" allowfullscreen></iframe>"
   ]
  },
  {
   "cell_type": "markdown",
   "metadata": {},
   "source": [
    "```java\n",
    "// Learning Processing\n",
    "// Daniel Shiffman\n",
    "// http://www.learningprocessing.com\n",
    "\n",
    "// Example 22-1: Inheritance\n",
    "\n",
    "// Object oriented programming allows us to defi ne classes in terms of other classes.\n",
    "// A class can be a subclass (aka \" child \" ) of a super class (aka \"parent\").\n",
    "// This is a simple example demonstrating this concept, known as \"inheritance.\"\n",
    "Square s;\n",
    "Circle c;\n",
    "\n",
    "void setup() {\n",
    "  size(200,200);\n",
    "  smooth();\n",
    "  // A square and circle\n",
    "  s = new Square(75,75,10);\n",
    "  c = new Circle(125,125,20,color(175));\n",
    "}\n",
    "\n",
    "void draw() {\n",
    "  background(255);\n",
    "  c.jiggle();\n",
    "  s.jiggle();\n",
    "  c.display();\n",
    "  s.display();\n",
    "}\n",
    "\n",
    "class Circle extends Shape {\n",
    "  \n",
    "  // Inherits all instance variables from parent + adding one\n",
    "  color c;\n",
    "  \n",
    "  Circle(float x_, float y_, float r_, color c_) {\n",
    "    super(x_,y_,r_); // Call the parent constructor\n",
    "    c = c_;          // Also deal with this new instance variable\n",
    "  }\n",
    "  \n",
    "  // Call the parent jiggle, but do some more stuff too\n",
    "  void jiggle() {\n",
    "    super.jiggle();\n",
    "    // The Circle jiggles its size as well as its x,y location.\n",
    "    r += random(-1,1); \n",
    "    r = constrain(r,0,100);\n",
    "  }\n",
    "  \n",
    "  // The changeColor() function is unique to the Circle class.\n",
    "  void changeColor() { \n",
    "    c = color(random(255));\n",
    "  }\n",
    "  \n",
    "  void display() {\n",
    "    ellipseMode(CENTER);\n",
    "    fill(c);\n",
    "    stroke(0);\n",
    "    ellipse(x,y,r,r);\n",
    "  }\n",
    "}\n",
    "\n",
    "\n",
    "class Shape {\n",
    "  float x;\n",
    "  float y;\n",
    "  float r;\n",
    "  \n",
    "  Shape(float x_, float y_, float r_) {\n",
    "    x = x_;\n",
    "    y = y_;\n",
    "    r = r_;\n",
    "  }\n",
    "  \n",
    "  void jiggle() {\n",
    "    x += random(-1,1);\n",
    "    y += random(-1,1);\n",
    "  }\n",
    "  \n",
    "  // A generic shape does not really know how to be displayed. \n",
    "  // This will be overridden in the child classes.\n",
    "  void display() {\n",
    "    point(x,y); \n",
    "  }\n",
    "}\n",
    "\n",
    "\n",
    "class Square extends Shape {\n",
    "  // Variables are inherited from the parent.\n",
    "  // We could also add variables unique to the Square class if we so desire\n",
    "\n",
    "  Square(float x_, float y_, float r_) {\n",
    "    // If the parent constructor takes arguments then super() needs to pass in those arguments.\n",
    "    super(x_,y_,r_); \n",
    "  }\n",
    "\n",
    "  // Inherits jiggle() from parent\n",
    "\n",
    "  // The square overrides its parent for display.\n",
    "  void display() {\n",
    "    rectMode(CENTER);\n",
    "    fill(175);\n",
    "    stroke(0);\n",
    "    rect(x,y,r,r);\n",
    "  }\n",
    "}\n",
    "```"
   ]
  },
  {
   "cell_type": "markdown",
   "metadata": {},
   "source": [
    "### 4.6: Introduction to Inheritance Part II - The Nature of Code"
   ]
  },
  {
   "cell_type": "code",
   "execution_count": 7,
   "metadata": {
    "collapsed": false
   },
   "outputs": [
    {
     "data": {
      "text/html": [
       "<iframe src=\"https://www.youtube.com/embed/WCgo3sDFLVQ?list=PLRqwX-V7Uu6aFlwukCmDf0-1-uSR7mklK\" \n",
       "width=\"560\" height=\"315\" frameborder=\"0\" allowfullscreen></iframe>"
      ],
      "text/plain": [
       "<IPython.core.display.HTML object>"
      ]
     },
     "metadata": {},
     "output_type": "display_data"
    }
   ],
   "source": [
    "%%html\n",
    "<iframe src=\"https://www.youtube.com/embed/WCgo3sDFLVQ?list=PLRqwX-V7Uu6aFlwukCmDf0-1-uSR7mklK\" \n",
    "width=\"560\" height=\"315\" frameborder=\"0\" allowfullscreen></iframe>"
   ]
  },
  {
   "cell_type": "markdown",
   "metadata": {},
   "source": [
    "### 4.7: Introduction to Polymorphism - The Nature of Code"
   ]
  },
  {
   "cell_type": "code",
   "execution_count": 8,
   "metadata": {
    "collapsed": false
   },
   "outputs": [
    {
     "data": {
      "text/html": [
       "<iframe src=\"https://www.youtube.com/embed/qqYOYIVrso0?list=PLRqwX-V7Uu6aFlwukCmDf0-1-uSR7mklK\" \n",
       "width=\"560\" height=\"315\" frameborder=\"0\" allowfullscreen></iframe>"
      ],
      "text/plain": [
       "<IPython.core.display.HTML object>"
      ]
     },
     "metadata": {},
     "output_type": "display_data"
    }
   ],
   "source": [
    "%%html\n",
    "<iframe src=\"https://www.youtube.com/embed/qqYOYIVrso0?list=PLRqwX-V7Uu6aFlwukCmDf0-1-uSR7mklK\" \n",
    "width=\"560\" height=\"315\" frameborder=\"0\" allowfullscreen></iframe>"
   ]
  },
  {
   "cell_type": "markdown",
   "metadata": {},
   "source": [
    "```java\n",
    "// Learning Processing\n",
    "// Daniel Shiffman\n",
    "// http://www.learningprocessing.com\n",
    "\n",
    "// Example 22-2: Polymorphism\n",
    "\n",
    "// One array of Shapes\n",
    "Shape[] shapes = new Shape[30];\n",
    "\n",
    "void setup() {\n",
    "  size(200,200);\n",
    "  smooth();\n",
    "  \n",
    "  for (int i = 0; i < shapes.length; i++ ) {\n",
    "    int r = int(random(2));\n",
    "    // Randomly put either circles or squares in our array\n",
    "    if (r == 0) {\n",
    "      shapes[i] = new Circle(100,100,10,color(random(255),100));\n",
    "    } else {\n",
    "      shapes[i] = new Square(100,100,10);\n",
    "    }\n",
    "  }\n",
    "}\n",
    "\n",
    "void draw() {\n",
    "  background(255);\n",
    "  // Jiggle and display all shapes\n",
    "  for (int i = 0; i < shapes.length; i++ ) {\n",
    "    shapes[i].jiggle();\n",
    "    shapes[i].display();\n",
    "  }\n",
    "}\n",
    "\n",
    "\n",
    "class Circle extends Shape {\n",
    "  \n",
    "  // Inherits all instance variables from parent + adding one\n",
    "  color c;\n",
    "  \n",
    "  Circle(float x_, float y_, float r_, color c_) {\n",
    "    super(x_,y_,r_); // Call the parent constructor\n",
    "    c = c_;          // Also deal with this new instance variable\n",
    "  }\n",
    "  \n",
    "  // Call the parent jiggle, but do some more stuff too\n",
    "  void jiggle() {\n",
    "    super.jiggle();\n",
    "    // The Circle jiggles its size as well as its x,y location.\n",
    "    r += random(-1,1); \n",
    "    r = constrain(r,0,100);\n",
    "  }\n",
    "  \n",
    "  // The changeColor() function is unique to the Circle class.\n",
    "  void changeColor() { \n",
    "    c = color(random(255));\n",
    "  }\n",
    "  \n",
    "  void display() {\n",
    "    ellipseMode(CENTER);\n",
    "    fill(c);\n",
    "    stroke(0);\n",
    "    ellipse(x,y,r,r);\n",
    "  }\n",
    "}\n",
    "\n",
    "\n",
    "class Shape {\n",
    "  float x;\n",
    "  float y;\n",
    "  float r;\n",
    "  \n",
    "  Shape(float x_, float y_, float r_) {\n",
    "    x = x_;\n",
    "    y = y_;\n",
    "    r = r_;\n",
    "  }\n",
    "  \n",
    "  void jiggle() {\n",
    "    x += random(-1,1);\n",
    "    y += random(-1,1);\n",
    "  }\n",
    "  \n",
    "  // A generic shape does not really know how to be displayed. \n",
    "  // This will be overridden in the child classes.\n",
    "  void display() {\n",
    "    point(x,y); \n",
    "  }\n",
    "}\n",
    "\n",
    "\n",
    "class Square extends Shape {\n",
    "  // Variables are inherited from the parent.\n",
    "  // We could also add variables unique to the Square class if we so desire\n",
    "\n",
    "  Square(float x_, float y_, float r_) {\n",
    "    // If the parent constructor takes arguments then super() needs to pass in those arguments.\n",
    "    super(x_,y_,r_); \n",
    "  }\n",
    "\n",
    "  // Inherits jiggle() from parent\n",
    "\n",
    "  // The square overrides its parent for display.\n",
    "  void display() {\n",
    "    rectMode(CENTER);\n",
    "    fill(175);\n",
    "    stroke(0);\n",
    "    rect(x,y,r,r);\n",
    "  }\n",
    "}\n",
    "```"
   ]
  },
  {
   "cell_type": "markdown",
   "metadata": {},
   "source": [
    "### 4.8: Applying forces to a Particle System - The Nature of Code"
   ]
  },
  {
   "cell_type": "code",
   "execution_count": 9,
   "metadata": {
    "collapsed": false
   },
   "outputs": [
    {
     "data": {
      "text/html": [
       "<iframe src=\"https://www.youtube.com/embed/zv9Y_ErUPoM?list=PLRqwX-V7Uu6aFlwukCmDf0-1-uSR7mklK\" \n",
       "width=\"560\" height=\"315\" frameborder=\"0\" allowfullscreen></iframe>"
      ],
      "text/plain": [
       "<IPython.core.display.HTML object>"
      ]
     },
     "metadata": {},
     "output_type": "display_data"
    }
   ],
   "source": [
    "%%html\n",
    "<iframe src=\"https://www.youtube.com/embed/zv9Y_ErUPoM?list=PLRqwX-V7Uu6aFlwukCmDf0-1-uSR7mklK\" \n",
    "width=\"560\" height=\"315\" frameborder=\"0\" allowfullscreen></iframe>"
   ]
  },
  {
   "cell_type": "markdown",
   "metadata": {},
   "source": [
    "### 4.9: Using Image Textures with Particles - The Nature of Code"
   ]
  },
  {
   "cell_type": "code",
   "execution_count": 10,
   "metadata": {
    "collapsed": false
   },
   "outputs": [
    {
     "data": {
      "text/html": [
       "<iframe src=\"https://www.youtube.com/embed/nzDYHa6ursA?list=PLRqwX-V7Uu6aFlwukCmDf0-1-uSR7mklK\" \n",
       "width=\"560\" height=\"315\" frameborder=\"0\" allowfullscreen></iframe>"
      ],
      "text/plain": [
       "<IPython.core.display.HTML object>"
      ]
     },
     "metadata": {},
     "output_type": "display_data"
    }
   ],
   "source": [
    "%%html\n",
    "<iframe src=\"https://www.youtube.com/embed/nzDYHa6ursA?list=PLRqwX-V7Uu6aFlwukCmDf0-1-uSR7mklK\" \n",
    "width=\"560\" height=\"315\" frameborder=\"0\" allowfullscreen></iframe>"
   ]
  },
  {
   "cell_type": "markdown",
   "metadata": {},
   "source": [
    "```java\n",
    "// The Nature of Code\n",
    "// Daniel Shiffman\n",
    "// http://natureofcode.com\n",
    "\n",
    "// Simple Particle System\n",
    "\n",
    "class Particle {\n",
    "  PVector pos;\n",
    "  PVector vel;\n",
    "  PVector acc;\n",
    "  float lifespan;\n",
    "\n",
    "  // Another constructor (the one we are using here)\n",
    "  Particle(PVector l) {\n",
    "    // Boring example with constant acceleration\n",
    "    acc = new PVector(0,0.05,0);\n",
    "    vel = new PVector(random(-1,1),random(-1,0),0);\n",
    "    vel.mult(2);\n",
    "    loc = l.get();\n",
    "    lifespan = 255;\n",
    "  }\n",
    "\n",
    "  void run() {\n",
    "    update();\n",
    "    render();\n",
    "  }\n",
    "\n",
    "  // Method to update position\n",
    "  void update() {\n",
    "    vel.add(acc);\n",
    "    pos.add(vel);\n",
    "    lifespan -= 2.0;\n",
    "  }\n",
    "\n",
    "  // Method to display\n",
    "  void render() {\n",
    "    imageMode(CENTER);\n",
    "    tint(lifespan);\n",
    "    image(img,pos.x,pos.y);\n",
    "  }\n",
    "  \n",
    "  // Is the particle still useful?\n",
    "  boolean isDead() {\n",
    "    if (lifespan <= 0.0) {\n",
    "      return true;\n",
    "    } else {\n",
    "      return false;\n",
    "    }\n",
    "  }\n",
    "}\n",
    "```"
   ]
  },
  {
   "cell_type": "markdown",
   "metadata": {},
   "source": [
    "```java\n",
    "\n",
    "```"
   ]
  },
  {
   "cell_type": "markdown",
   "metadata": {},
   "source": [
    "# 5. Physics Libraries\n",
    "### 5.1: Introduction to Box2D - The Nature of Code"
   ]
  },
  {
   "cell_type": "code",
   "execution_count": 11,
   "metadata": {
    "collapsed": false
   },
   "outputs": [
    {
     "data": {
      "text/html": [
       "<iframe src=\"https://www.youtube.com/embed/MsRROjQJxuo?list=PLRqwX-V7Uu6aFlwukCmDf0-1-uSR7mklK\" \n",
       "width=\"560\" height=\"315\" frameborder=\"0\" allowfullscreen></iframe>"
      ],
      "text/plain": [
       "<IPython.core.display.HTML object>"
      ]
     },
     "metadata": {},
     "output_type": "display_data"
    }
   ],
   "source": [
    "%%html\n",
    "<iframe src=\"https://www.youtube.com/embed/MsRROjQJxuo?list=PLRqwX-V7Uu6aFlwukCmDf0-1-uSR7mklK\" \n",
    "width=\"560\" height=\"315\" frameborder=\"0\" allowfullscreen></iframe>"
   ]
  },
  {
   "cell_type": "markdown",
   "metadata": {},
   "source": [
    "### 5.2: What makes up a Box2D world? - The Nature of Code"
   ]
  },
  {
   "cell_type": "code",
   "execution_count": 12,
   "metadata": {
    "collapsed": false
   },
   "outputs": [
    {
     "data": {
      "text/html": [
       "<iframe src=\"https://www.youtube.com/embed/e3VSVZn4BHg?list=PLRqwX-V7Uu6aFlwukCmDf0-1-uSR7mklK\" \n",
       "width=\"560\" height=\"315\" frameborder=\"0\" allowfullscreen></iframe>"
      ],
      "text/plain": [
       "<IPython.core.display.HTML object>"
      ]
     },
     "metadata": {},
     "output_type": "display_data"
    }
   ],
   "source": [
    "%%html\n",
    "<iframe src=\"https://www.youtube.com/embed/e3VSVZn4BHg?list=PLRqwX-V7Uu6aFlwukCmDf0-1-uSR7mklK\" \n",
    "width=\"560\" height=\"315\" frameborder=\"0\" allowfullscreen></iframe>"
   ]
  },
  {
   "cell_type": "markdown",
   "metadata": {},
   "source": [
    "### 5.3: Box2D Coordinates and Vectors - The Nature of Code"
   ]
  },
  {
   "cell_type": "code",
   "execution_count": 13,
   "metadata": {
    "collapsed": false
   },
   "outputs": [
    {
     "data": {
      "text/html": [
       "<iframe src=\"https://www.youtube.com/embed/iNHfAFx8ktQ?list=PLRqwX-V7Uu6aFlwukCmDf0-1-uSR7mklK\" \n",
       "width=\"560\" height=\"315\" frameborder=\"0\" allowfullscreen></iframe>"
      ],
      "text/plain": [
       "<IPython.core.display.HTML object>"
      ]
     },
     "metadata": {},
     "output_type": "display_data"
    }
   ],
   "source": [
    "%%html\n",
    "<iframe src=\"https://www.youtube.com/embed/iNHfAFx8ktQ?list=PLRqwX-V7Uu6aFlwukCmDf0-1-uSR7mklK\" \n",
    "width=\"560\" height=\"315\" frameborder=\"0\" allowfullscreen></iframe>"
   ]
  },
  {
   "cell_type": "markdown",
   "metadata": {},
   "source": [
    "### 5.4: Adding Box2D to Processing Sketch Part 1 - The Nature of Code"
   ]
  },
  {
   "cell_type": "code",
   "execution_count": 14,
   "metadata": {
    "collapsed": false
   },
   "outputs": [
    {
     "data": {
      "text/html": [
       "<iframe src=\"https://www.youtube.com/embed/lmYLmcFuj2s?list=PLRqwX-V7Uu6aFlwukCmDf0-1-uSR7mklK\" \n",
       "width=\"560\" height=\"315\" frameborder=\"0\" allowfullscreen></iframe>"
      ],
      "text/plain": [
       "<IPython.core.display.HTML object>"
      ]
     },
     "metadata": {},
     "output_type": "display_data"
    }
   ],
   "source": [
    "%%html\n",
    "<iframe src=\"https://www.youtube.com/embed/lmYLmcFuj2s?list=PLRqwX-V7Uu6aFlwukCmDf0-1-uSR7mklK\" \n",
    "width=\"560\" height=\"315\" frameborder=\"0\" allowfullscreen></iframe>"
   ]
  },
  {
   "cell_type": "markdown",
   "metadata": {},
   "source": [
    "### 5.5: Adding Box2D to Processing Sketch Part 2 - The Nature of Code"
   ]
  },
  {
   "cell_type": "code",
   "execution_count": 15,
   "metadata": {
    "collapsed": false
   },
   "outputs": [
    {
     "data": {
      "text/html": [
       "<iframe src=\"https://www.youtube.com/embed/1YYMiWheJuc?list=PLRqwX-V7Uu6aFlwukCmDf0-1-uSR7mklK\" \n",
       "width=\"560\" height=\"315\" frameborder=\"0\" allowfullscreen></iframe>"
      ],
      "text/plain": [
       "<IPython.core.display.HTML object>"
      ]
     },
     "metadata": {},
     "output_type": "display_data"
    }
   ],
   "source": [
    "%%html\n",
    "<iframe src=\"https://www.youtube.com/embed/1YYMiWheJuc?list=PLRqwX-V7Uu6aFlwukCmDf0-1-uSR7mklK\" \n",
    "width=\"560\" height=\"315\" frameborder=\"0\" allowfullscreen></iframe>"
   ]
  },
  {
   "cell_type": "markdown",
   "metadata": {},
   "source": [
    "### 5.6: Static Bodies and Chain Shapes in Box2D - The Nature of Code"
   ]
  },
  {
   "cell_type": "code",
   "execution_count": 16,
   "metadata": {
    "collapsed": false
   },
   "outputs": [
    {
     "data": {
      "text/html": [
       "<iframe src=\"https://www.youtube.com/embed/oBcv_P_YDrw?list=PLRqwX-V7Uu6aFlwukCmDf0-1-uSR7mklK\" \n",
       "width=\"560\" height=\"315\" frameborder=\"0\" allowfullscreen></iframe>"
      ],
      "text/plain": [
       "<IPython.core.display.HTML object>"
      ]
     },
     "metadata": {},
     "output_type": "display_data"
    }
   ],
   "source": [
    "%%html\n",
    "<iframe src=\"https://www.youtube.com/embed/oBcv_P_YDrw?list=PLRqwX-V7Uu6aFlwukCmDf0-1-uSR7mklK\" \n",
    "width=\"560\" height=\"315\" frameborder=\"0\" allowfullscreen></iframe>"
   ]
  },
  {
   "cell_type": "markdown",
   "metadata": {},
   "source": [
    "### 5.7: Complex Shapes in Box2D - The Nature of Code"
   ]
  },
  {
   "cell_type": "code",
   "execution_count": 17,
   "metadata": {
    "collapsed": false
   },
   "outputs": [
    {
     "data": {
      "text/html": [
       "<iframe src=\"https://www.youtube.com/embed/V95dzuDw0Jg?list=PLRqwX-V7Uu6aFlwukCmDf0-1-uSR7mklK\" \n",
       "width=\"560\" height=\"315\" frameborder=\"0\" allowfullscreen></iframe>"
      ],
      "text/plain": [
       "<IPython.core.display.HTML object>"
      ]
     },
     "metadata": {},
     "output_type": "display_data"
    }
   ],
   "source": [
    "%%html\n",
    "<iframe src=\"https://www.youtube.com/embed/V95dzuDw0Jg?list=PLRqwX-V7Uu6aFlwukCmDf0-1-uSR7mklK\" \n",
    "width=\"560\" height=\"315\" frameborder=\"0\" allowfullscreen></iframe>"
   ]
  },
  {
   "cell_type": "markdown",
   "metadata": {},
   "source": [
    "### 5.8: Box2D Joints: Distance Joint - The Nature of Code"
   ]
  },
  {
   "cell_type": "code",
   "execution_count": 18,
   "metadata": {
    "collapsed": false
   },
   "outputs": [
    {
     "data": {
      "text/html": [
       "<iframe src=\"https://www.youtube.com/embed/4LYvltd07hk?list=PLRqwX-V7Uu6aFlwukCmDf0-1-uSR7mklK\" \n",
       "width=\"560\" height=\"315\" frameborder=\"0\" allowfullscreen></iframe>"
      ],
      "text/plain": [
       "<IPython.core.display.HTML object>"
      ]
     },
     "metadata": {},
     "output_type": "display_data"
    }
   ],
   "source": [
    "%%html\n",
    "<iframe src=\"https://www.youtube.com/embed/4LYvltd07hk?list=PLRqwX-V7Uu6aFlwukCmDf0-1-uSR7mklK\" \n",
    "width=\"560\" height=\"315\" frameborder=\"0\" allowfullscreen></iframe>"
   ]
  },
  {
   "cell_type": "markdown",
   "metadata": {},
   "source": [
    "### 5.9: Box2D Joints: Revolute Joint - The Nature of Code"
   ]
  },
  {
   "cell_type": "code",
   "execution_count": 19,
   "metadata": {
    "collapsed": false
   },
   "outputs": [
    {
     "data": {
      "text/html": [
       "<iframe src=\"https://www.youtube.com/embed/SUVH8Bh4ruw?list=PLRqwX-V7Uu6aFlwukCmDf0-1-uSR7mklK\" \n",
       "width=\"560\" height=\"315\" frameborder=\"0\" allowfullscreen></iframe>"
      ],
      "text/plain": [
       "<IPython.core.display.HTML object>"
      ]
     },
     "metadata": {},
     "output_type": "display_data"
    }
   ],
   "source": [
    "%%html\n",
    "<iframe src=\"https://www.youtube.com/embed/SUVH8Bh4ruw?list=PLRqwX-V7Uu6aFlwukCmDf0-1-uSR7mklK\" \n",
    "width=\"560\" height=\"315\" frameborder=\"0\" allowfullscreen></iframe>"
   ]
  },
  {
   "cell_type": "markdown",
   "metadata": {},
   "source": [
    "### 5.10: User Controlled Objects: Mouse Joint and Kinematic Type - The Nature of Code"
   ]
  },
  {
   "cell_type": "code",
   "execution_count": 20,
   "metadata": {
    "collapsed": false
   },
   "outputs": [
    {
     "data": {
      "text/html": [
       "<iframe src=\"https://www.youtube.com/embed/Ubfqc983jN8?list=PLRqwX-V7Uu6aFlwukCmDf0-1-uSR7mklK\" \n",
       "width=\"560\" height=\"315\" frameborder=\"0\" allowfullscreen></iframe>"
      ],
      "text/plain": [
       "<IPython.core.display.HTML object>"
      ]
     },
     "metadata": {},
     "output_type": "display_data"
    }
   ],
   "source": [
    "%%html\n",
    "<iframe src=\"https://www.youtube.com/embed/Ubfqc983jN8?list=PLRqwX-V7Uu6aFlwukCmDf0-1-uSR7mklK\" \n",
    "width=\"560\" height=\"315\" frameborder=\"0\" allowfullscreen></iframe>"
   ]
  },
  {
   "cell_type": "markdown",
   "metadata": {},
   "source": [
    "### 5.11: Applying forces in Box2D - The Nature of Code"
   ]
  },
  {
   "cell_type": "code",
   "execution_count": 21,
   "metadata": {
    "collapsed": false
   },
   "outputs": [
    {
     "data": {
      "text/html": [
       "<iframe src=\"https://www.youtube.com/embed/bJJbQIoJeFc?list=PLRqwX-V7Uu6aFlwukCmDf0-1-uSR7mklK\" \n",
       "width=\"560\" height=\"315\" frameborder=\"0\" allowfullscreen></iframe>"
      ],
      "text/plain": [
       "<IPython.core.display.HTML object>"
      ]
     },
     "metadata": {},
     "output_type": "display_data"
    }
   ],
   "source": [
    "%%html\n",
    "<iframe src=\"https://www.youtube.com/embed/bJJbQIoJeFc?list=PLRqwX-V7Uu6aFlwukCmDf0-1-uSR7mklK\" \n",
    "width=\"560\" height=\"315\" frameborder=\"0\" allowfullscreen></iframe>"
   ]
  },
  {
   "cell_type": "markdown",
   "metadata": {},
   "source": [
    "### 5.12: Collision Events in Box2D - The Nature of Code"
   ]
  },
  {
   "cell_type": "code",
   "execution_count": 22,
   "metadata": {
    "collapsed": false
   },
   "outputs": [
    {
     "data": {
      "text/html": [
       "<iframe src=\"https://www.youtube.com/embed/pJ_M_fACtB8?list=PLRqwX-V7Uu6aFlwukCmDf0-1-uSR7mklK\" \n",
       "width=\"560\" height=\"315\" frameborder=\"0\" allowfullscreen></iframe>"
      ],
      "text/plain": [
       "<IPython.core.display.HTML object>"
      ]
     },
     "metadata": {},
     "output_type": "display_data"
    }
   ],
   "source": [
    "%%html\n",
    "<iframe src=\"https://www.youtube.com/embed/pJ_M_fACtB8?list=PLRqwX-V7Uu6aFlwukCmDf0-1-uSR7mklK\" \n",
    "width=\"560\" height=\"315\" frameborder=\"0\" allowfullscreen></iframe>"
   ]
  },
  {
   "cell_type": "markdown",
   "metadata": {},
   "source": [
    "### 5.13: What is Toxiclibs Verlet Physics? - The Nature of Code"
   ]
  },
  {
   "cell_type": "code",
   "execution_count": 23,
   "metadata": {
    "collapsed": false
   },
   "outputs": [
    {
     "data": {
      "text/html": [
       "<iframe src=\"https://www.youtube.com/embed/E67e0RX-7Ew?list=PLRqwX-V7Uu6aFlwukCmDf0-1-uSR7mklK\" \n",
       "width=\"560\" height=\"315\" frameborder=\"0\" allowfullscreen></iframe>"
      ],
      "text/plain": [
       "<IPython.core.display.HTML object>"
      ]
     },
     "metadata": {},
     "output_type": "display_data"
    }
   ],
   "source": [
    "%%html\n",
    "<iframe src=\"https://www.youtube.com/embed/E67e0RX-7Ew?list=PLRqwX-V7Uu6aFlwukCmDf0-1-uSR7mklK\" \n",
    "width=\"560\" height=\"315\" frameborder=\"0\" allowfullscreen></iframe>"
   ]
  },
  {
   "cell_type": "markdown",
   "metadata": {},
   "source": [
    "### 5.14: Toxiclibs Verlet Physics Basics: Particles and Springs - The Nature of Code"
   ]
  },
  {
   "cell_type": "code",
   "execution_count": 24,
   "metadata": {
    "collapsed": false
   },
   "outputs": [
    {
     "data": {
      "text/html": [
       "<iframe src=\"https://www.youtube.com/embed/3v7SsOdxxww?list=PLRqwX-V7Uu6aFlwukCmDf0-1-uSR7mklK\" \n",
       "width=\"560\" height=\"315\" frameborder=\"0\" allowfullscreen></iframe>"
      ],
      "text/plain": [
       "<IPython.core.display.HTML object>"
      ]
     },
     "metadata": {},
     "output_type": "display_data"
    }
   ],
   "source": [
    "%%html\n",
    "<iframe src=\"https://www.youtube.com/embed/3v7SsOdxxww?list=PLRqwX-V7Uu6aFlwukCmDf0-1-uSR7mklK\" \n",
    "width=\"560\" height=\"315\" frameborder=\"0\" allowfullscreen></iframe>"
   ]
  },
  {
   "cell_type": "markdown",
   "metadata": {},
   "source": [
    "### 5.15: Connected Systems with Toxiclibs VerletPhysics - The Nature of Code"
   ]
  },
  {
   "cell_type": "code",
   "execution_count": 25,
   "metadata": {
    "collapsed": false
   },
   "outputs": [
    {
     "data": {
      "text/html": [
       "<iframe src=\"https://www.youtube.com/embed/YskU_gJpc0c?list=PLRqwX-V7Uu6aFlwukCmDf0-1-uSR7mklK\" \n",
       "width=\"560\" height=\"315\" frameborder=\"0\" allowfullscreen></iframe>"
      ],
      "text/plain": [
       "<IPython.core.display.HTML object>"
      ]
     },
     "metadata": {},
     "output_type": "display_data"
    }
   ],
   "source": [
    "%%html\n",
    "<iframe src=\"https://www.youtube.com/embed/YskU_gJpc0c?list=PLRqwX-V7Uu6aFlwukCmDf0-1-uSR7mklK\" \n",
    "width=\"560\" height=\"315\" frameborder=\"0\" allowfullscreen></iframe>"
   ]
  },
  {
   "cell_type": "markdown",
   "metadata": {},
   "source": [
    "### 5.16: Attraction Behaviors in Toxiclibs VerletPhysics - The Nature of Code"
   ]
  },
  {
   "cell_type": "code",
   "execution_count": 26,
   "metadata": {
    "collapsed": false
   },
   "outputs": [
    {
     "data": {
      "text/html": [
       "<iframe src=\"https://www.youtube.com/embed/hSU19ICZVk4?list=PLRqwX-V7Uu6aFlwukCmDf0-1-uSR7mklK\" \n",
       "width=\"560\" height=\"315\" frameborder=\"0\" allowfullscreen></iframe>"
      ],
      "text/plain": [
       "<IPython.core.display.HTML object>"
      ]
     },
     "metadata": {},
     "output_type": "display_data"
    }
   ],
   "source": [
    "%%html\n",
    "<iframe src=\"https://www.youtube.com/embed/hSU19ICZVk4?list=PLRqwX-V7Uu6aFlwukCmDf0-1-uSR7mklK\" \n",
    "width=\"560\" height=\"315\" frameborder=\"0\" allowfullscreen></iframe>"
   ]
  },
  {
   "cell_type": "code",
   "execution_count": 27,
   "metadata": {
    "collapsed": false
   },
   "outputs": [
    {
     "data": {
      "application/javascript": [
       "$.getScript('https://kmahelona.github.io/ipython_notebook_goodies/ipython_notebook_toc.js')"
      ],
      "text/plain": [
       "<IPython.core.display.Javascript object>"
      ]
     },
     "metadata": {},
     "output_type": "display_data"
    }
   ],
   "source": [
    "%%javascript\n",
    "$.getScript('https://kmahelona.github.io/ipython_notebook_goodies/ipython_notebook_toc.js')"
   ]
  }
 ],
 "metadata": {
  "anaconda-cloud": {},
  "kernelspec": {
   "display_name": "Python 2",
   "language": "python",
   "name": "python2"
  },
  "language_info": {
   "codemirror_mode": {
    "name": "ipython",
    "version": 2
   },
   "file_extension": ".py",
   "mimetype": "text/x-python",
   "name": "python",
   "nbconvert_exporter": "python",
   "pygments_lexer": "ipython2",
   "version": "2.7.11"
  }
 },
 "nbformat": 4,
 "nbformat_minor": 0
}

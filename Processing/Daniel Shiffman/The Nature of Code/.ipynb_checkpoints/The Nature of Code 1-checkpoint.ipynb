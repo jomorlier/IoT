{
 "cells": [
  {
   "cell_type": "markdown",
   "metadata": {},
   "source": [
    "<font size='6'><b>Processing</b></font><br><br>\n",
    "\n",
    "<font size='5'><b>The Nature of Code by Daniel Shiffman</b></font>\n",
    "\n",
    "https://github.com/shiffman/The-Nature-of-Code-Examples <br>\n",
    "http://natureofcode.com/book/chapter-1-vectors/\n",
    "\n",
    "<table style=\"border-style: hidden; border-collapse: collapse;\" width = \"80%\"> \n",
    "    <tr style=\"border-style: hidden; border-collapse: collapse;\">\n",
    "        <td width = 55% style=\"border-style: hidden; border-collapse: collapse;\">\n",
    "\n",
    "        </td>\n",
    "        <td width = 25%>\n",
    "        Collected by Seungchul Lee<br>iSystems (http://isystems.unist.ac.kr/)<br>UNIST\n",
    "        </td>\n",
    "    </tr>\n",
    "</table>\n",
    "\n",
    "Table of Contents\n",
    "<div id=\"toc\"></div>"
   ]
  },
  {
   "cell_type": "markdown",
   "metadata": {},
   "source": [
    "# 1. Vectors\n",
    "### 1.0: Introduction"
   ]
  },
  {
   "cell_type": "code",
   "execution_count": 1,
   "metadata": {
    "collapsed": false,
    "scrolled": true
   },
   "outputs": [
    {
     "data": {
      "text/html": [
       "<iframe src=\"https://www.youtube.com/embed/6vX8wT1G798?list=PLRqwX-V7Uu6aFlwukCmDf0-1-uSR7mklK\" \n",
       "width=\"560\" height=\"315\" frameborder=\"0\" allowfullscreen></iframe>"
      ],
      "text/plain": [
       "<IPython.core.display.HTML object>"
      ]
     },
     "metadata": {},
     "output_type": "display_data"
    }
   ],
   "source": [
    "%%html\n",
    "<iframe src=\"https://www.youtube.com/embed/6vX8wT1G798?list=PLRqwX-V7Uu6aFlwukCmDf0-1-uSR7mklK\" \n",
    "width=\"560\" height=\"315\" frameborder=\"0\" allowfullscreen></iframe>"
   ]
  },
  {
   "cell_type": "markdown",
   "metadata": {
    "collapsed": true
   },
   "source": [
    "### 1.1: Random Walker - The Nature of Code"
   ]
  },
  {
   "cell_type": "code",
   "execution_count": 2,
   "metadata": {
    "collapsed": false
   },
   "outputs": [
    {
     "data": {
      "text/html": [
       "<iframe src=\"https://www.youtube.com/embed/rqecAdEGW6I?list=PLRqwX-V7Uu6aFlwukCmDf0-1-uSR7mklK\" \n",
       "width=\"560\" height=\"315\" frameborder=\"0\" allowfullscreen></iframe>"
      ],
      "text/plain": [
       "<IPython.core.display.HTML object>"
      ]
     },
     "metadata": {},
     "output_type": "display_data"
    }
   ],
   "source": [
    "%%html\n",
    "<iframe src=\"https://www.youtube.com/embed/rqecAdEGW6I?list=PLRqwX-V7Uu6aFlwukCmDf0-1-uSR7mklK\" \n",
    "width=\"560\" height=\"315\" frameborder=\"0\" allowfullscreen></iframe>"
   ]
  },
  {
   "cell_type": "markdown",
   "metadata": {},
   "source": [
    "```java\n",
    "// Daniel Shiffman\n",
    "// The Nature of Code\n",
    "// http://www.shiffman.net/\n",
    "\n",
    "Walker w;\n",
    "\n",
    "void setup() {\n",
    "  size(800,200);\n",
    "  // Create a walker object\n",
    "  w = new Walker();\n",
    "  background(255);\n",
    "}\n",
    "\n",
    "void draw() {\n",
    "  // Run the walker object\n",
    "  w.step();\n",
    "  w.render();\n",
    "}\n",
    "\n",
    "\n",
    "class Walker {\n",
    "  int x,y;\n",
    "\n",
    "  Walker() {\n",
    "    x = width/2;\n",
    "    y = height/2;\n",
    "  }\n",
    "\n",
    "  void render() {\n",
    "    stroke(0);\n",
    "    point(x,y);\n",
    "  }\n",
    "\n",
    "  // Randomly move up, down, left, right, or stay in one place\n",
    "  void step() {\n",
    "    \n",
    "    int choice = int(random(4));\n",
    "    \n",
    "    if (choice == 0) {\n",
    "      x++;\n",
    "    } else if (choice == 1) {\n",
    "      x--;\n",
    "    } else if (choice == 2) {\n",
    "      y++;\n",
    "    } else {\n",
    "      y--;\n",
    "    }\n",
    "\n",
    "    x = constrain(x,0,width-1);\n",
    "    y = constrain(y,0,height-1);\n",
    "  }\n",
    "}\n",
    "```"
   ]
  },
  {
   "cell_type": "markdown",
   "metadata": {
    "collapsed": true
   },
   "source": [
    "### 1.2: Probability Basics - The Nature of Code"
   ]
  },
  {
   "cell_type": "code",
   "execution_count": 3,
   "metadata": {
    "collapsed": false
   },
   "outputs": [
    {
     "data": {
      "text/html": [
       "<iframe src=\"https://www.youtube.com/embed/7nTLzLf7jUg?list=PLRqwX-V7Uu6aFlwukCmDf0-1-uSR7mklK\" \n",
       "width=\"560\" height=\"315\" frameborder=\"0\" allowfullscreen></iframe>"
      ],
      "text/plain": [
       "<IPython.core.display.HTML object>"
      ]
     },
     "metadata": {},
     "output_type": "display_data"
    }
   ],
   "source": [
    "%%html\n",
    "<iframe src=\"https://www.youtube.com/embed/7nTLzLf7jUg?list=PLRqwX-V7Uu6aFlwukCmDf0-1-uSR7mklK\" \n",
    "width=\"560\" height=\"315\" frameborder=\"0\" allowfullscreen></iframe>"
   ]
  },
  {
   "cell_type": "markdown",
   "metadata": {},
   "source": [
    "```java\n",
    "// The Nature of Code\n",
    "// Daniel Shiffman\n",
    "// Draft book\n",
    "\n",
    "// Example 1-2: Bouncing Ball, with PVector!\n",
    "PVector location;\n",
    "PVector velocity;\n",
    "\n",
    "void setup() {\n",
    "  size(200,200);\n",
    "  smooth();\n",
    "  background(255);\n",
    "  location = new PVector(100,100);\n",
    "  velocity = new PVector(2.5,5);\n",
    "}\n",
    "\n",
    "void draw() {\n",
    "  noStroke();\n",
    "  fill(255,10);\n",
    "  rect(0,0,width,height);\n",
    "  \n",
    "  // Add the current speed to the location.\n",
    "  location.add(velocity);\n",
    "\n",
    "  if ((location.x > width) || (location.x < 0)) {\n",
    "    velocity.x = velocity.x * -1;\n",
    "  }\n",
    "  if ((location.y > height) || (location.y < 0)) {\n",
    "    velocity.y = velocity.y * -1;\n",
    "  }\n",
    "\n",
    "  // Display circle at x location\n",
    "  stroke(0);\n",
    "  fill(175);\n",
    "  ellipse(location.x,location.y,16,16);\n",
    "}\n",
    "```"
   ]
  },
  {
   "cell_type": "markdown",
   "metadata": {
    "collapsed": true
   },
   "source": [
    "### 1.3: Vector Math - The Nature of Code"
   ]
  },
  {
   "cell_type": "code",
   "execution_count": 4,
   "metadata": {
    "collapsed": false
   },
   "outputs": [
    {
     "data": {
      "text/html": [
       "<iframe src=\"https://www.youtube.com/embed/s6b1_3bNCxk?list=PLRqwX-V7Uu6aFlwukCmDf0-1-uSR7mklK\" \n",
       "width=\"560\" height=\"315\" frameborder=\"0\" allowfullscreen></iframe>"
      ],
      "text/plain": [
       "<IPython.core.display.HTML object>"
      ]
     },
     "metadata": {},
     "output_type": "display_data"
    }
   ],
   "source": [
    "%%html\n",
    "<iframe src=\"https://www.youtube.com/embed/s6b1_3bNCxk?list=PLRqwX-V7Uu6aFlwukCmDf0-1-uSR7mklK\" \n",
    "width=\"560\" height=\"315\" frameborder=\"0\" allowfullscreen></iframe>"
   ]
  },
  {
   "cell_type": "markdown",
   "metadata": {},
   "source": [
    "```java\n",
    "// The Nature of Code\n",
    "// Daniel Shiffman\n",
    "// Draft book\n",
    "\n",
    "// Example 1-3: Vector subtraction\n",
    "\n",
    "void setup() {\n",
    "  size(800,200);\n",
    "  smooth();\n",
    "}\n",
    "\n",
    "void draw() {\n",
    "  background(255);\n",
    "  \n",
    "  PVector mouse = new PVector(mouseX,mouseY);\n",
    "  PVector center = new PVector(width/2,height/2);\n",
    "  mouse.sub(center);\n",
    "  \n",
    "  translate(width/2,height/2);\n",
    "  strokeWeight(2);\n",
    "  stroke(0);\n",
    "  line(0,0,mouse.x,mouse.y);\n",
    "  \n",
    "}\n",
    "```"
   ]
  },
  {
   "cell_type": "markdown",
   "metadata": {},
   "source": [
    "```java\n",
    "// The Nature of Code\n",
    "// Daniel Shiffman\n",
    "// Draft book\n",
    "\n",
    "// Example 1-4: Vector multiplication\n",
    "\n",
    "void setup() {\n",
    "  size(800,200);\n",
    "  smooth();\n",
    "}\n",
    "\n",
    "void draw() {\n",
    "  background(255);\n",
    "  \n",
    "  PVector mouse = new PVector(mouseX,mouseY);\n",
    "  PVector center = new PVector(width/2,height/2);\n",
    "  mouse.sub(center);\n",
    "  \n",
    "  // Multiplying a vector!  The vector is now half its original size (multiplied by 0.5).\n",
    "  mouse.mult(0.5);  \n",
    "  \n",
    "  translate(width/2,height/2);\n",
    "  strokeWeight(2);\n",
    "  stroke(0);\n",
    "  line(0,0,mouse.x,mouse.y);\n",
    "}\n",
    "```"
   ]
  },
  {
   "cell_type": "markdown",
   "metadata": {
    "collapsed": true
   },
   "source": [
    "### 1.4: Vector Math II - The Nature of Code"
   ]
  },
  {
   "cell_type": "code",
   "execution_count": 5,
   "metadata": {
    "collapsed": false
   },
   "outputs": [
    {
     "data": {
      "text/html": [
       "<iframe src=\"https://www.youtube.com/embed/uHusbFmq-4I?list=PLRqwX-V7Uu6aFlwukCmDf0-1-uSR7mklK\" \n",
       "width=\"560\" height=\"315\" frameborder=\"0\" allowfullscreen></iframe>"
      ],
      "text/plain": [
       "<IPython.core.display.HTML object>"
      ]
     },
     "metadata": {},
     "output_type": "display_data"
    }
   ],
   "source": [
    "%%html\n",
    "<iframe src=\"https://www.youtube.com/embed/uHusbFmq-4I?list=PLRqwX-V7Uu6aFlwukCmDf0-1-uSR7mklK\" \n",
    "width=\"560\" height=\"315\" frameborder=\"0\" allowfullscreen></iframe>"
   ]
  },
  {
   "cell_type": "markdown",
   "metadata": {},
   "source": [
    "```java\n",
    "// The Nature of Code\n",
    "// Daniel Shiffman\n",
    "// Draft book\n",
    "\n",
    "// Example 1-5: Vector magnitude\n",
    "\n",
    "void setup() {\n",
    "  size(800,200);\n",
    "  smooth();\n",
    "}\n",
    "\n",
    "void draw() {\n",
    "  background(255);\n",
    "  \n",
    "  PVector mouse = new PVector(mouseX,mouseY);\n",
    "  PVector center = new PVector(width/2,height/2);\n",
    "  mouse.sub(center);\n",
    "\n",
    "  float m = mouse.mag();\n",
    "  fill(0);\n",
    "  noStroke();\n",
    "  rect(0,0,m,10);\n",
    "  \n",
    "  translate(width/2,height/2);\n",
    "  stroke(0);\n",
    "  strokeWeight(2);\n",
    "  line(0,0,mouse.x,mouse.y);\n",
    "  \n",
    "}\n",
    "```"
   ]
  },
  {
   "cell_type": "markdown",
   "metadata": {},
   "source": [
    "```java\n",
    "/**\n",
    " * Normalize \n",
    " * by Daniel Shiffman.  \n",
    " * \n",
    " * Demonstration of normalizing a vector.\n",
    " * Normalizing a vector sets its length to 1.\n",
    " */\n",
    "\n",
    "void setup() {\n",
    "  size(800,200);\n",
    "  smooth();\n",
    "}\n",
    "\n",
    "void draw() {\n",
    "  background(255);\n",
    "  \n",
    "  // A vector that points to the mouse location\n",
    "  PVector mouse = new PVector(mouseX,mouseY);\n",
    "  // A vector that points to the center of the window\n",
    "  PVector center = new PVector(width/2,height/2);\n",
    "  // Subtract center from mouse which results in a vector that points from center to mouse\n",
    "  mouse.sub(center);\n",
    "  \n",
    "  // Normalize the vector\n",
    "  mouse.normalize();\n",
    "  \n",
    "  // Multiply its length by 50\n",
    "  mouse.mult(150);\n",
    "\n",
    "  translate(width/2,height/2);\n",
    "  // Draw the resulting vector\n",
    "  stroke(0);\n",
    "  strokeWeight(2);\n",
    "  line(0,0,mouse.x,mouse.y);\n",
    "  \n",
    "}\n",
    "```"
   ]
  },
  {
   "cell_type": "markdown",
   "metadata": {
    "collapsed": true
   },
   "source": [
    "### 1.5: Acceleration - The Nature of Code"
   ]
  },
  {
   "cell_type": "code",
   "execution_count": 6,
   "metadata": {
    "collapsed": false
   },
   "outputs": [
    {
     "data": {
      "text/html": [
       "<iframe src=\"https://www.youtube.com/embed/TQ_WZU5s_VA?list=PLRqwX-V7Uu6aFlwukCmDf0-1-uSR7mklK\" \n",
       "width=\"560\" height=\"315\" frameborder=\"0\" allowfullscreen></iframe>"
      ],
      "text/plain": [
       "<IPython.core.display.HTML object>"
      ]
     },
     "metadata": {},
     "output_type": "display_data"
    }
   ],
   "source": [
    "%%html\n",
    "<iframe src=\"https://www.youtube.com/embed/TQ_WZU5s_VA?list=PLRqwX-V7Uu6aFlwukCmDf0-1-uSR7mklK\" \n",
    "width=\"560\" height=\"315\" frameborder=\"0\" allowfullscreen></iframe>"
   ]
  },
  {
   "cell_type": "markdown",
   "metadata": {},
   "source": [
    "```java\n",
    "Mover mover;\n",
    "\n",
    "void setup() {\n",
    "  size(800,200);\n",
    "  smooth();\n",
    "  mover = new Mover(); \n",
    "}\n",
    "\n",
    "void draw() {\n",
    "  background(255);\n",
    "  \n",
    "  mover.update();\n",
    "  mover.checkEdges();\n",
    "  mover.display(); \n",
    "}  \n",
    "  \n",
    "  class Mover {\n",
    "\n",
    "  PVector location;\n",
    "  PVector velocity;\n",
    "  PVector acceleration;\n",
    "  float topspeed;\n",
    "\n",
    "  Mover() {\n",
    "    location = new PVector(width/2, height/2);\n",
    "    velocity = new PVector(0, 0);\n",
    "    acceleration = new PVector(-0.001, 0.01);\n",
    "    topspeed = 10;\n",
    "  }\n",
    "\n",
    "  void update() {\n",
    "    velocity.add(acceleration);\n",
    "    velocity.limit(topspeed);\n",
    "    location.add(velocity);\n",
    "  }\n",
    "\n",
    "  void display() {\n",
    "    stroke(0);\n",
    "    strokeWeight(2);\n",
    "    fill(127);\n",
    "    ellipse(location.x, location.y, 48, 48);\n",
    "  }\n",
    "\n",
    "  void checkEdges() {\n",
    "\n",
    "    if (location.x > width) {\n",
    "      location.x = 0;\n",
    "    } \n",
    "    else if (location.x < 0) {\n",
    "      location.x = width;\n",
    "    }\n",
    "\n",
    "    if (location.y > height) {\n",
    "      location.y = 0;\n",
    "    } \n",
    "    else if (location.y < 0) {\n",
    "      location.y = height;\n",
    "    }\n",
    "  }\n",
    "}\n",
    "```"
   ]
  },
  {
   "cell_type": "markdown",
   "metadata": {},
   "source": [
    "### 1.6: Vectors: Accelerations towards Mouse - The Nature of Code"
   ]
  },
  {
   "cell_type": "code",
   "execution_count": 7,
   "metadata": {
    "collapsed": false
   },
   "outputs": [
    {
     "data": {
      "text/html": [
       "<iframe src=\"https://www.youtube.com/embed/7eBLAgT0yUs?list=PLRqwX-V7Uu6aFlwukCmDf0-1-uSR7mklK\" \n",
       "width=\"560\" height=\"315\" frameborder=\"0\" allowfullscreen></iframe>"
      ],
      "text/plain": [
       "<IPython.core.display.HTML object>"
      ]
     },
     "metadata": {},
     "output_type": "display_data"
    }
   ],
   "source": [
    "%%html\n",
    "<iframe src=\"https://www.youtube.com/embed/7eBLAgT0yUs?list=PLRqwX-V7Uu6aFlwukCmDf0-1-uSR7mklK\" \n",
    "width=\"560\" height=\"315\" frameborder=\"0\" allowfullscreen></iframe>"
   ]
  },
  {
   "cell_type": "markdown",
   "metadata": {},
   "source": [
    "```java\n",
    "/**\n",
    " * Acceleration with Vectors \n",
    " * by Daniel Shiffman.  \n",
    " * \n",
    " * Demonstration of the basics of motion with vector.\n",
    " * A \"Mover\" object stores location, velocity, and acceleration as vectors\n",
    " * The motion is controlled by affecting the acceleration (in this case towards the mouse)\n",
    " */\n",
    "\n",
    "// A Mover object\n",
    "Mover mover;\n",
    "\n",
    "void setup() {\n",
    "  size(800,200);\n",
    "  smooth();\n",
    "  mover = new Mover(); \n",
    "}\n",
    "\n",
    "void draw() {\n",
    "  background(255);\n",
    "  \n",
    "  // Update the location\n",
    "  mover.update();\n",
    "  // Display the Mover\n",
    "  mover.display(); \n",
    "}\n",
    "\n",
    "/**\n",
    " * Acceleration with Vectors \n",
    " * by Daniel Shiffman.  \n",
    " * \n",
    " * Demonstration of the basics of motion with vector.\n",
    " * A \"Mover\" object stores location, velocity, and acceleration as vectors\n",
    " * The motion is controlled by affecting the acceleration (in this case towards the mouse)\n",
    " */\n",
    "\n",
    "\n",
    "class Mover {\n",
    "\n",
    "  // The Mover tracks location, velocity, and acceleration \n",
    "  PVector location;\n",
    "  PVector velocity;\n",
    "  PVector acceleration;\n",
    "  // The Mover's maximum speed\n",
    "  float topspeed;\n",
    "\n",
    "  Mover() {\n",
    "    // Start in the center\n",
    "    location = new PVector(width/2,height/2);\n",
    "    velocity = new PVector(0,0);\n",
    "    topspeed = 5;\n",
    "  }\n",
    "\n",
    "  void update() {\n",
    "    \n",
    "    // Compute a vector that points from location to mouse\n",
    "    PVector mouse = new PVector(mouseX,mouseY);\n",
    "    PVector acceleration = PVector.sub(mouse,location);\n",
    "    // Set magnitude of acceleration\n",
    "    //acceleration.setMag(0.2);\n",
    "    acceleration.normalize();\n",
    "    acceleration.mult(0.2);\n",
    "    \n",
    "    // Velocity changes according to acceleration\n",
    "    velocity.add(acceleration);\n",
    "    // Limit the velocity by topspeed\n",
    "    velocity.limit(topspeed);\n",
    "    // Location changes by velocity\n",
    "    location.add(velocity);\n",
    "  }\n",
    "\n",
    "  void display() {\n",
    "    stroke(0);\n",
    "    strokeWeight(2);\n",
    "    fill(127);\n",
    "    ellipse(location.x,location.y,48,48);\n",
    "  }\n",
    "\n",
    "}\n",
    "```"
   ]
  },
  {
   "cell_type": "markdown",
   "metadata": {},
   "source": [
    "# 2. Force\n",
    "### 2.1: What is a Force? - The Nature of Code"
   ]
  },
  {
   "cell_type": "code",
   "execution_count": 8,
   "metadata": {
    "collapsed": false
   },
   "outputs": [
    {
     "data": {
      "text/html": [
       "<iframe src=\"https://www.youtube.com/embed/II1A3bBo6gM?list=PLRqwX-V7Uu6aFlwukCmDf0-1-uSR7mklK\" \n",
       "width=\"560\" height=\"315\" frameborder=\"0\" allowfullscreen></iframe>"
      ],
      "text/plain": [
       "<IPython.core.display.HTML object>"
      ]
     },
     "metadata": {},
     "output_type": "display_data"
    }
   ],
   "source": [
    "%%html\n",
    "<iframe src=\"https://www.youtube.com/embed/II1A3bBo6gM?list=PLRqwX-V7Uu6aFlwukCmDf0-1-uSR7mklK\" \n",
    "width=\"560\" height=\"315\" frameborder=\"0\" allowfullscreen></iframe>"
   ]
  },
  {
   "cell_type": "markdown",
   "metadata": {},
   "source": [
    "### 2.2: Applying a Force - The Nature of Code"
   ]
  },
  {
   "cell_type": "code",
   "execution_count": 9,
   "metadata": {
    "collapsed": false
   },
   "outputs": [
    {
     "data": {
      "text/html": [
       "<iframe src=\"https://www.youtube.com/embed/MkXoQVWRDJs?list=PLRqwX-V7Uu6aFlwukCmDf0-1-uSR7mklK\" \n",
       "width=\"560\" height=\"315\" frameborder=\"0\" allowfullscreen></iframe>"
      ],
      "text/plain": [
       "<IPython.core.display.HTML object>"
      ]
     },
     "metadata": {},
     "output_type": "display_data"
    }
   ],
   "source": [
    "%%html\n",
    "<iframe src=\"https://www.youtube.com/embed/MkXoQVWRDJs?list=PLRqwX-V7Uu6aFlwukCmDf0-1-uSR7mklK\" \n",
    "width=\"560\" height=\"315\" frameborder=\"0\" allowfullscreen></iframe>"
   ]
  },
  {
   "cell_type": "markdown",
   "metadata": {},
   "source": [
    "```java\n",
    "Mover m;\n",
    "\n",
    "void setup() {\n",
    "  size(800,500);\n",
    "  smooth();\n",
    "  m = new Mover(); \n",
    "}\n",
    "\n",
    "void draw() {\n",
    "  background(255);\n",
    "\n",
    "  PVector wind = new PVector(0.2,0);\n",
    "  PVector gravity = new PVector(0,0.3);\n",
    "  m.applyForce(wind);\n",
    "  m.applyForce(gravity);\n",
    "\n",
    "\n",
    "  m.update();\n",
    "  m.display();\n",
    "  m.checkEdges();\n",
    "\n",
    "}\n",
    "class Mover {\n",
    "\n",
    "  PVector location;\n",
    "  PVector velocity;\n",
    "  PVector acceleration;\n",
    "  float mass;\n",
    "\n",
    "  Mover() {\n",
    "    location = new PVector(30,30);\n",
    "    velocity = new PVector(0,0);\n",
    "    acceleration = new PVector(0,0);\n",
    "    mass = 1;\n",
    "  }\n",
    "  \n",
    "  void applyForce(PVector force) {\n",
    "    PVector f = PVector.div(force,mass);\n",
    "    acceleration.add(f);\n",
    "  }\n",
    "  \n",
    "  void update() {\n",
    "    velocity.add(acceleration);\n",
    "    location.add(velocity);\n",
    "    acceleration.mult(0);\n",
    "  }\n",
    "\n",
    "  void display() {\n",
    "    stroke(0);\n",
    "    strokeWeight(2);\n",
    "    fill(127);\n",
    "    ellipse(location.x,location.y,48,48);\n",
    "  }\n",
    "\n",
    "  void checkEdges() {\n",
    "\n",
    "    if (location.x > width) {\n",
    "      location.x = width;\n",
    "      velocity.x *= -1;\n",
    "    } else if (location.x < 0) {\n",
    "      velocity.x *= -1;\n",
    "      location.x = 0;\n",
    "    }\n",
    "\n",
    "    if (location.y > height) {\n",
    "      velocity.y *= -1;\n",
    "      location.y = height;\n",
    "    }\n",
    "\n",
    "  }\n",
    "\n",
    "}\n",
    "```"
   ]
  },
  {
   "cell_type": "markdown",
   "metadata": {},
   "source": [
    "### 2.3: Simulating with Mass - The Nature of Code"
   ]
  },
  {
   "cell_type": "code",
   "execution_count": 10,
   "metadata": {
    "collapsed": false
   },
   "outputs": [
    {
     "data": {
      "text/html": [
       "<iframe src=\"https://www.youtube.com/embed/QHWGFXZvD0s?list=PLRqwX-V7Uu6aFlwukCmDf0-1-uSR7mklK\" \n",
       "width=\"560\" height=\"315\" frameborder=\"0\" allowfullscreen></iframe>"
      ],
      "text/plain": [
       "<IPython.core.display.HTML object>"
      ]
     },
     "metadata": {},
     "output_type": "display_data"
    }
   ],
   "source": [
    "%%html\n",
    "<iframe src=\"https://www.youtube.com/embed/QHWGFXZvD0s?list=PLRqwX-V7Uu6aFlwukCmDf0-1-uSR7mklK\" \n",
    "width=\"560\" height=\"315\" frameborder=\"0\" allowfullscreen></iframe>"
   ]
  },
  {
   "cell_type": "markdown",
   "metadata": {},
   "source": [
    "```java\n",
    "Mover[] movers = new Mover[20];\n",
    "\n",
    "void setup() {\n",
    "  size(800, 200);\n",
    "  smooth();\n",
    "  for (int i = 0; i < movers.length; i++) {\n",
    "    movers[i] = new Mover(random(1, 4), 0, 0);\n",
    "  }\n",
    "}\n",
    "\n",
    "void draw() {\n",
    "  background(255);\n",
    "\n",
    "  for (int i = 0; i < movers.length; i++) {\n",
    "\n",
    "    PVector wind = new PVector(0.01, 0);\n",
    "    PVector gravity = new PVector(0, 0.1*movers[i].mass);\n",
    "\n",
    "    movers[i].applyForce(wind);\n",
    "    movers[i].applyForce(gravity);\n",
    "\n",
    "    movers[i].update();\n",
    "    movers[i].display();\n",
    "    movers[i].checkEdges();\n",
    "  }\n",
    "}\n",
    "class Mover {\n",
    "\n",
    "  PVector location;\n",
    "  PVector velocity;\n",
    "  PVector acceleration;\n",
    "  float mass;\n",
    "\n",
    "  Mover(float m, float x , float y) {\n",
    "    mass = m;\n",
    "    location = new PVector(x,y);\n",
    "    velocity = new PVector(0,0);\n",
    "    acceleration = new PVector(0,0);\n",
    "  }\n",
    "  \n",
    "  void applyForce(PVector force) {\n",
    "    PVector f = PVector.div(force,mass);\n",
    "    acceleration.add(f);\n",
    "  }\n",
    "  \n",
    "  void update() {\n",
    "    velocity.add(acceleration);\n",
    "    location.add(velocity);\n",
    "    acceleration.mult(0);\n",
    "  }\n",
    "\n",
    "  void display() {\n",
    "    stroke(0);\n",
    "    strokeWeight(2);\n",
    "    fill(0,127);\n",
    "    ellipse(location.x,location.y,mass*16,mass*16);\n",
    "  }\n",
    "\n",
    "  void checkEdges() {\n",
    "\n",
    "    if (location.x > width) {\n",
    "      location.x = width;\n",
    "      velocity.x *= -1;\n",
    "    } else if (location.x < 0) {\n",
    "      velocity.x *= -1;\n",
    "      location.x = 0;\n",
    "    }\n",
    "\n",
    "    if (location.y > height) {\n",
    "      velocity.y *= -1;\n",
    "      location.y = height;\n",
    "    }\n",
    "\n",
    "  }\n",
    "\n",
    "}\n",
    "```"
   ]
  },
  {
   "cell_type": "markdown",
   "metadata": {},
   "source": [
    "### 2.4: Friction Force - The Nature of Code"
   ]
  },
  {
   "cell_type": "code",
   "execution_count": 11,
   "metadata": {
    "collapsed": false
   },
   "outputs": [
    {
     "data": {
      "text/html": [
       "<iframe src=\"https://www.youtube.com/embed/HZcic7lEcmU?list=PLRqwX-V7Uu6aFlwukCmDf0-1-uSR7mklK\" \n",
       "width=\"560\" height=\"315\" frameborder=\"0\" allowfullscreen></iframe>"
      ],
      "text/plain": [
       "<IPython.core.display.HTML object>"
      ]
     },
     "metadata": {},
     "output_type": "display_data"
    }
   ],
   "source": [
    "%%html\n",
    "<iframe src=\"https://www.youtube.com/embed/HZcic7lEcmU?list=PLRqwX-V7Uu6aFlwukCmDf0-1-uSR7mklK\" \n",
    "width=\"560\" height=\"315\" frameborder=\"0\" allowfullscreen></iframe>"
   ]
  },
  {
   "cell_type": "markdown",
   "metadata": {},
   "source": [
    "```java\n",
    "Mover[] movers = new Mover[5];\n",
    "\n",
    "void setup() {\n",
    "  size(383, 200);\n",
    "  randomSeed(1);\n",
    "  smooth();\n",
    "  for (int i = 0; i < movers.length; i++) {\n",
    "    movers[i] = new Mover(random(1, 4), random(width), 0);\n",
    "  }\n",
    "}\n",
    "\n",
    "void draw() {\n",
    "  background(255);\n",
    "\n",
    "  for (int i = 0; i < movers.length; i++) {\n",
    "\n",
    "    PVector wind = new PVector(0.01, 0);\n",
    "    PVector gravity = new PVector(0, 0.1*movers[i].mass);\n",
    "\n",
    "    float c = 0.05;\n",
    "    PVector friction = movers[i].velocity.get();\n",
    "    friction.mult(-1); \n",
    "    friction.normalize();\n",
    "    friction.mult(c);\n",
    "\n",
    "    movers[i].applyForce(friction);\n",
    "    movers[i].applyForce(wind);\n",
    "    movers[i].applyForce(gravity);\n",
    "\n",
    "    movers[i].update();\n",
    "    movers[i].display();\n",
    "    movers[i].checkEdges();\n",
    "  }\n",
    "}\n",
    "class Mover {\n",
    "\n",
    "  PVector location;\n",
    "  PVector velocity;\n",
    "  PVector acceleration;\n",
    "  float mass;\n",
    "\n",
    "  Mover(float m, float x , float y) {\n",
    "    mass = m;\n",
    "    location = new PVector(x,y);\n",
    "    velocity = new PVector(0,0);\n",
    "    acceleration = new PVector(0,0);\n",
    "  }\n",
    "  \n",
    "  void applyForce(PVector force) {\n",
    "    PVector f = PVector.div(force,mass);\n",
    "    acceleration.add(f);\n",
    "  }\n",
    "  \n",
    "  void update() {\n",
    "    velocity.add(acceleration);\n",
    "    location.add(velocity);\n",
    "    acceleration.mult(0);\n",
    "  }\n",
    "\n",
    "  void display() {\n",
    "    stroke(0);\n",
    "    strokeWeight(2);\n",
    "    fill(0,127);\n",
    "    ellipse(location.x,location.y,mass*16,mass*16);\n",
    "  }\n",
    "\n",
    "  void checkEdges() {\n",
    "\n",
    "    if (location.x > width) {\n",
    "      location.x = width;\n",
    "      velocity.x *= -1;\n",
    "    } else if (location.x < 0) {\n",
    "      location.x = 0;\n",
    "      velocity.x *= -1;\n",
    "    }\n",
    "\n",
    "    if (location.y > height) {\n",
    "      velocity.y *= -1;\n",
    "      location.y = height;\n",
    "    }\n",
    "\n",
    "  }\n",
    "\n",
    "}\n",
    "```"
   ]
  },
  {
   "cell_type": "markdown",
   "metadata": {},
   "source": [
    "### 2.5: Drag Force - The Nature of Code"
   ]
  },
  {
   "cell_type": "code",
   "execution_count": 12,
   "metadata": {
    "collapsed": false
   },
   "outputs": [
    {
     "data": {
      "text/html": [
       "<iframe src=\"https://www.youtube.com/embed/YvNiLmHXZ_U?list=PLRqwX-V7Uu6aFlwukCmDf0-1-uSR7mklK\" \n",
       "width=\"560\" height=\"315\" frameborder=\"0\" allowfullscreen></iframe>"
      ],
      "text/plain": [
       "<IPython.core.display.HTML object>"
      ]
     },
     "metadata": {},
     "output_type": "display_data"
    }
   ],
   "source": [
    "%%html\n",
    "<iframe src=\"https://www.youtube.com/embed/YvNiLmHXZ_U?list=PLRqwX-V7Uu6aFlwukCmDf0-1-uSR7mklK\" \n",
    "width=\"560\" height=\"315\" frameborder=\"0\" allowfullscreen></iframe>"
   ]
  },
  {
   "cell_type": "markdown",
   "metadata": {},
   "source": [
    "### 2.6: Gravitational Attraction - The Nature of Code"
   ]
  },
  {
   "cell_type": "code",
   "execution_count": 13,
   "metadata": {
    "collapsed": false
   },
   "outputs": [
    {
     "data": {
      "text/html": [
       "<iframe src=\"https://www.youtube.com/embed/fML1KpvvQTc?list=PLRqwX-V7Uu6aFlwukCmDf0-1-uSR7mklK\" \n",
       "width=\"560\" height=\"315\" frameborder=\"0\" allowfullscreen></iframe>"
      ],
      "text/plain": [
       "<IPython.core.display.HTML object>"
      ]
     },
     "metadata": {},
     "output_type": "display_data"
    }
   ],
   "source": [
    "%%html\n",
    "<iframe src=\"https://www.youtube.com/embed/fML1KpvvQTc?list=PLRqwX-V7Uu6aFlwukCmDf0-1-uSR7mklK\" \n",
    "width=\"560\" height=\"315\" frameborder=\"0\" allowfullscreen></iframe>"
   ]
  },
  {
   "cell_type": "markdown",
   "metadata": {},
   "source": [
    "```java\n",
    "Mover m;\n",
    "Attractor a;\n",
    "\n",
    "void setup() {\n",
    "  size(800,200);\n",
    "  smooth();\n",
    "  m = new Mover(); \n",
    "  a = new Attractor();\n",
    "}\n",
    "\n",
    "void draw() {\n",
    "  background(255);\n",
    "\n",
    "  PVector force = a.attract(m);\n",
    "  m.applyForce(force);\n",
    "  m.update();\n",
    "  \n",
    "  a.drag();\n",
    "  a.hover(mouseX,mouseY);\n",
    " \n",
    "  a.display();\n",
    "  m.display();\n",
    "}\n",
    "\n",
    "void mousePressed() {\n",
    "  a.clicked(mouseX,mouseY); \n",
    "}\n",
    "\n",
    "void mouseReleased() {\n",
    "  a.stopDragging(); \n",
    "}\n",
    "\n",
    "// Attraction\n",
    "// Daniel Shiffman <http://www.shiffman.net>\n",
    "\n",
    "// A class for a draggable attractive body in our world\n",
    "\n",
    "class Attractor {\n",
    "  float mass;    // Mass, tied to size\n",
    "  float G;       // Gravitational Constant\n",
    "  PVector location;   // Location\n",
    "  boolean dragging = false; // Is the object being dragged?\n",
    "  boolean rollover = false; // Is the mouse over the ellipse?\n",
    "  PVector dragOffset;  // holds the offset for when object is clicked on\n",
    "\n",
    "  Attractor() {\n",
    "    location = new PVector(width/2,height/2);\n",
    "    mass = 20;\n",
    "    G = 1;\n",
    "    dragOffset = new PVector(0.0,0.0);\n",
    "  }\n",
    "\n",
    "  PVector attract(Mover m) {\n",
    "    PVector force = PVector.sub(location,m.location);   // Calculate direction of force\n",
    "    float d = force.mag();                              // Distance between objects\n",
    "    d = constrain(d,5.0,25.0);                        // Limiting the distance to eliminate \"extreme\" results for very close or very far objects\n",
    "    force.normalize();                                  // Normalize vector (distance doesn't matter here, we just want this vector for direction)\n",
    "    float strength = (G * mass * m.mass) / (d * d);      // Calculate gravitional force magnitude\n",
    "    force.mult(strength);                                  // Get force vector --> magnitude * direction\n",
    "    return force;\n",
    "  }\n",
    "\n",
    "  // Method to display\n",
    "  void display() {\n",
    "    ellipseMode(CENTER);\n",
    "    strokeWeight(4);\n",
    "    stroke(0);\n",
    "    if (dragging) fill (50);\n",
    "    else if (rollover) fill(100);\n",
    "    else fill(175,200);\n",
    "    ellipse(location.x,location.y,mass*2,mass*2);\n",
    "  }\n",
    "\n",
    "  // The methods below are for mouse interaction\n",
    "  void clicked(int mx, int my) {\n",
    "    float d = dist(mx,my,location.x,location.y);\n",
    "    if (d < mass) {\n",
    "      dragging = true;\n",
    "      dragOffset.x = location.x-mx;\n",
    "      dragOffset.y = location.y-my;\n",
    "    }\n",
    "  }\n",
    "\n",
    "  void hover(int mx, int my) {\n",
    "    float d = dist(mx,my,location.x,location.y);\n",
    "    if (d < mass) {\n",
    "      rollover = true;\n",
    "    } \n",
    "    else {\n",
    "      rollover = false;\n",
    "    }\n",
    "  }\n",
    "\n",
    "  void stopDragging() {\n",
    "    dragging = false;\n",
    "  }\n",
    "\n",
    "\n",
    "\n",
    "  void drag() {\n",
    "    if (dragging) {\n",
    "      location.x = mouseX + dragOffset.x;\n",
    "      location.y = mouseY + dragOffset.y;\n",
    "    }\n",
    "  }\n",
    "\n",
    "}\n",
    "\n",
    "class Mover {\n",
    "\n",
    "  PVector location;\n",
    "  PVector velocity;\n",
    "  PVector acceleration;\n",
    "  float mass;\n",
    "\n",
    "  Mover() {\n",
    "    location = new PVector(400,50);\n",
    "    velocity = new PVector(1,0);\n",
    "    acceleration = new PVector(0,0);\n",
    "    mass = 1;\n",
    "  }\n",
    "  \n",
    "  void applyForce(PVector force) {\n",
    "    PVector f = PVector.div(force,mass);\n",
    "    acceleration.add(f);\n",
    "  }\n",
    "  \n",
    "  void update() {\n",
    "    velocity.add(acceleration);\n",
    "    location.add(velocity);\n",
    "    acceleration.mult(0);\n",
    "  }\n",
    "\n",
    "  void display() {\n",
    "    stroke(0);\n",
    "    strokeWeight(2);\n",
    "    fill(127);\n",
    "    ellipse(location.x,location.y,16,16);\n",
    "  }\n",
    "\n",
    "  void checkEdges() {\n",
    "\n",
    "    if (location.x > width) {\n",
    "      location.x = 0;\n",
    "    } else if (location.x < 0) {\n",
    "      location.x = width;\n",
    "    }\n",
    "\n",
    "    if (location.y > height) {\n",
    "      velocity.y *= -1;\n",
    "      location.y = height;\n",
    "    }\n",
    "\n",
    "  }\n",
    "\n",
    "}\n",
    "```"
   ]
  },
  {
   "cell_type": "markdown",
   "metadata": {},
   "source": [
    "# 3. Oscillation\n",
    "### 3.1: Angles and Angular Motion - The Nature of Code"
   ]
  },
  {
   "cell_type": "code",
   "execution_count": 14,
   "metadata": {
    "collapsed": false
   },
   "outputs": [
    {
     "data": {
      "text/html": [
       "<iframe src=\"https://www.youtube.com/embed/qMq-zd6hguc?list=PLRqwX-V7Uu6aFlwukCmDf0-1-uSR7mklK\" \n",
       "width=\"560\" height=\"315\" frameborder=\"0\" allowfullscreen></iframe>"
      ],
      "text/plain": [
       "<IPython.core.display.HTML object>"
      ]
     },
     "metadata": {},
     "output_type": "display_data"
    }
   ],
   "source": [
    "%%html\n",
    "<iframe src=\"https://www.youtube.com/embed/qMq-zd6hguc?list=PLRqwX-V7Uu6aFlwukCmDf0-1-uSR7mklK\" \n",
    "width=\"560\" height=\"315\" frameborder=\"0\" allowfullscreen></iframe>"
   ]
  },
  {
   "cell_type": "markdown",
   "metadata": {},
   "source": [
    "```java\n",
    "float angle = 0;\n",
    "float aVelocity = 0;\n",
    "float aAcceleration = 0.0001;\n",
    "\n",
    "void setup() {\n",
    "  size(800, 200);\n",
    "  smooth();\n",
    "}\n",
    "\n",
    "void draw() {\n",
    "  background(255);\n",
    "\n",
    "\n",
    "  fill(127);\n",
    "  stroke(0);\n",
    "\n",
    "  translate(width/2, height/2);\n",
    "  rectMode(CENTER);\n",
    "  rotate(angle);\n",
    "  stroke(0);\n",
    "  strokeWeight(2);\n",
    "  fill(127);\n",
    "  line(-60, 0, 60, 0);\n",
    "  ellipse(60, 0, 16, 16);\n",
    "  ellipse(-60, 0, 16, 16);\n",
    "\n",
    "  angle += aVelocity;\n",
    "  aVelocity += aAcceleration;\n",
    "}\n",
    "```"
   ]
  },
  {
   "cell_type": "markdown",
   "metadata": {},
   "source": [
    "### 3.2: Trigonometry and Polar Coordinates - The Nature of Code"
   ]
  },
  {
   "cell_type": "code",
   "execution_count": 15,
   "metadata": {
    "collapsed": false
   },
   "outputs": [
    {
     "data": {
      "text/html": [
       "<iframe src=\"https://www.youtube.com/embed/znOBmOrtz_M?list=PLRqwX-V7Uu6aFlwukCmDf0-1-uSR7mklK\" \n",
       "width=\"560\" height=\"315\" frameborder=\"0\" allowfullscreen></iframe>"
      ],
      "text/plain": [
       "<IPython.core.display.HTML object>"
      ]
     },
     "metadata": {},
     "output_type": "display_data"
    }
   ],
   "source": [
    "%%html\n",
    "<iframe src=\"https://www.youtube.com/embed/znOBmOrtz_M?list=PLRqwX-V7Uu6aFlwukCmDf0-1-uSR7mklK\" \n",
    "width=\"560\" height=\"315\" frameborder=\"0\" allowfullscreen></iframe>"
   ]
  },
  {
   "cell_type": "markdown",
   "metadata": {},
   "source": [
    "```java\n",
    "/**\n",
    " * PolarToCartesian\n",
    " * by Daniel Shiffman.  \n",
    " * \n",
    " * Convert a polar coordinate (r,theta) to cartesian (x,y):  \n",
    " * x = r * cos(theta)\n",
    " * y = r * sin(theta)\n",
    " */\n",
    " \n",
    "float r;\n",
    "float theta;\n",
    "\n",
    "\n",
    "void setup() {\n",
    "  size(800, 200);\n",
    "  smooth();\n",
    "  \n",
    "  // Initialize all values\n",
    "  r = height * 0.45;\n",
    "  theta = 0;\n",
    "}\n",
    "\n",
    "void draw() {\n",
    "  \n",
    "  background(255);\n",
    "    \n",
    "  // Translate the origin point to the center of the screen\n",
    "  translate(width/2, height/2);\n",
    "  \n",
    "  // Convert polar to cartesian\n",
    "  float x = r * cos(theta);\n",
    "  float y = r * sin(theta);\n",
    "  \n",
    "  // Draw the ellipse at the cartesian coordinate\n",
    "  ellipseMode(CENTER);\n",
    "  fill(127);\n",
    "  stroke(0);\n",
    "  strokeWeight(2);\n",
    "  line(0,0,x,y);\n",
    "  ellipse(x, y, 48, 48);\n",
    "  \n",
    "  // Increase the angle over time\n",
    "  theta += 0.02;\n",
    "  \n",
    "\n",
    "}\n",
    "```"
   ]
  },
  {
   "cell_type": "markdown",
   "metadata": {},
   "source": [
    "### 3.3: Simple Harmonic Motion - The Nature of Code"
   ]
  },
  {
   "cell_type": "code",
   "execution_count": 16,
   "metadata": {
    "collapsed": false
   },
   "outputs": [
    {
     "data": {
      "text/html": [
       "<iframe src=\"https://www.youtube.com/embed/GvwPwIUSYqE?list=PLRqwX-V7Uu6aFlwukCmDf0-1-uSR7mklK\" \n",
       "width=\"560\" height=\"315\" frameborder=\"0\" allowfullscreen></iframe>"
      ],
      "text/plain": [
       "<IPython.core.display.HTML object>"
      ]
     },
     "metadata": {},
     "output_type": "display_data"
    }
   ],
   "source": [
    "%%html\n",
    "<iframe src=\"https://www.youtube.com/embed/GvwPwIUSYqE?list=PLRqwX-V7Uu6aFlwukCmDf0-1-uSR7mklK\" \n",
    "width=\"560\" height=\"315\" frameborder=\"0\" allowfullscreen></iframe>"
   ]
  },
  {
   "cell_type": "markdown",
   "metadata": {},
   "source": [
    "```java\n",
    "void setup() {\n",
    "  size(800,200);\n",
    "}\n",
    "\n",
    "void draw() {\n",
    "  background(255);\n",
    "\n",
    "  float period = 120;\n",
    "  float amplitude = 300;\n",
    "  // Calculating horizontal location according to formula for simple harmonic motion\n",
    "  float x = amplitude * cos(TWO_PI * frameCount / period);  \n",
    "  stroke(0);\n",
    "  strokeWeight(2);\n",
    "  fill(127);\n",
    "  translate(width/2,height/2);\n",
    "  line(0,0,x,0);\n",
    "  ellipse(x,0,48,48);\n",
    "}\n",
    "```"
   ]
  },
  {
   "cell_type": "markdown",
   "metadata": {},
   "source": [
    "### 3.4: Pendulum Simulation - The Nature of Code"
   ]
  },
  {
   "cell_type": "code",
   "execution_count": 17,
   "metadata": {
    "collapsed": false
   },
   "outputs": [
    {
     "data": {
      "text/html": [
       "<iframe src=\"https://www.youtube.com/embed/9iaEqGOh5WM?list=PLRqwX-V7Uu6aFlwukCmDf0-1-uSR7mklK\" \n",
       "width=\"560\" height=\"315\" frameborder=\"0\" allowfullscreen></iframe>"
      ],
      "text/plain": [
       "<IPython.core.display.HTML object>"
      ]
     },
     "metadata": {},
     "output_type": "display_data"
    }
   ],
   "source": [
    "%%html\n",
    "<iframe src=\"https://www.youtube.com/embed/9iaEqGOh5WM?list=PLRqwX-V7Uu6aFlwukCmDf0-1-uSR7mklK\" \n",
    "width=\"560\" height=\"315\" frameborder=\"0\" allowfullscreen></iframe>"
   ]
  },
  {
   "cell_type": "markdown",
   "metadata": {},
   "source": [
    "```java\n",
    "// Pendulum\n",
    "// Daniel Shiffman <http://www.shiffman.net>\n",
    "\n",
    "// A simple pendulum simulation\n",
    "// Given a pendulum with an angle theta (0 being the pendulum at rest) and a radius r\n",
    "// we can use sine to calculate the angular component of the gravitational force.\n",
    "\n",
    "// Gravity Force = Mass * Gravitational Constant;\n",
    "// Pendulum Force = Gravity Force * sine(theta)\n",
    "// Angular Acceleration = Pendulum Force / Mass = gravitational acceleration * sine(theta);\n",
    "\n",
    "// Note this is an ideal world scenario with no tension in the \n",
    "// pendulum arm, a more realistic formula might be:\n",
    "// Angular Acceleration = (g / R) * sine(theta)\n",
    "\n",
    "// For a more substantial explanation, visit:\n",
    "// http://www.myphysicslab.com/pendulum1.html \n",
    "\n",
    "Pendulum p;\n",
    "\n",
    "void setup() {\n",
    "  size(800,200);\n",
    "  smooth();\n",
    " \n",
    "  // Make a new Pendulum with an origin location and armlength\n",
    "  p = new Pendulum(new PVector(width/2,0),175);\n",
    "\n",
    "}\n",
    "\n",
    "void draw() {\n",
    "\n",
    "  background(255);\n",
    "  p.go();\n",
    "}\n",
    "\n",
    "void mousePressed() {\n",
    "  p.clicked(mouseX,mouseY);\n",
    "}\n",
    "\n",
    "void mouseReleased() {\n",
    "  p.stopDragging();\n",
    "}\n",
    "\n",
    "\n",
    "// A Simple Pendulum Class\n",
    "// Includes functionality for user can click and drag the pendulum\n",
    "\n",
    "class Pendulum {\n",
    "\n",
    "  PVector location;    // Location of pendulum ball\n",
    "  PVector origin;      // Location of arm origin\n",
    "  float r;             // Length of arm\n",
    "  float angle;         // Pendulum arm angle\n",
    "  float aVelocity;     // Angle velocity\n",
    "  float aAcceleration; // Angle acceleration\n",
    "\n",
    "    float ballr;         // Ball radius\n",
    "  float damping;       // Arbitary damping amount\n",
    "\n",
    "  boolean dragging = false;\n",
    "\n",
    "  // This constructor could be improved to allow a greater variety of pendulums\n",
    "  Pendulum(PVector origin_, float r_) {\n",
    "    // Fill all variables\n",
    "    origin = origin_.get();\n",
    "    location = new PVector();\n",
    "    r = r_;\n",
    "    angle = PI/4;\n",
    "\n",
    "    aVelocity = 0.0;\n",
    "    aAcceleration = 0.0;\n",
    "    damping = 0.995;   // Arbitrary damping\n",
    "    ballr = 48.0;      // Arbitrary ball radius\n",
    "  }\n",
    "\n",
    "  void go() {\n",
    "    update();\n",
    "    drag();    //for user interaction\n",
    "    display();\n",
    "  }\n",
    "\n",
    "  // Function to update location\n",
    "  void update() {\n",
    "    // As long as we aren't dragging the pendulum, let it swing!\n",
    "    if (!dragging) {\n",
    "      float gravity = 0.4;                              // Arbitrary constant\n",
    "      aAcceleration = (-1 * gravity / r) * sin(angle);  // Calculate acceleration (see: http://www.myphysicslab.com/pendulum1.html)\n",
    "      aVelocity += aAcceleration;                 // Increment velocity\n",
    "      aVelocity *= damping;                       // Arbitrary damping\n",
    "      angle += aVelocity;                         // Increment angle\n",
    "    }\n",
    "  }\n",
    "\n",
    "  void display() {\n",
    "    location.set(r*sin(angle), r*cos(angle), 0);         // Polar to cartesian conversion\n",
    "    location.add(origin);                              // Make sure the location is relative to the pendulum's origin\n",
    "\n",
    "    stroke(0);\n",
    "    strokeWeight(2);\n",
    "    // Draw the arm\n",
    "    line(origin.x, origin.y, location.x, location.y);\n",
    "    ellipseMode(CENTER);\n",
    "    fill(175);\n",
    "    if (dragging) fill(0);\n",
    "    // Draw the ball\n",
    "    ellipse(location.x, location.y, ballr, ballr);\n",
    "  }\n",
    "\n",
    "\n",
    "  // The methods below are for mouse interaction\n",
    "\n",
    "  // This checks to see if we clicked on the pendulum ball\n",
    "  void clicked(int mx, int my) {\n",
    "    float d = dist(mx, my, location.x, location.y);\n",
    "    if (d < ballr) {\n",
    "      dragging = true;\n",
    "    }\n",
    "  }\n",
    "\n",
    "  // This tells us we are not longer clicking on the ball\n",
    "  void stopDragging() {\n",
    "    aVelocity = 0; // No velocity once you let go\n",
    "    dragging = false;\n",
    "  }\n",
    "\n",
    "  void drag() {\n",
    "    // If we are draging the ball, we calculate the angle between the \n",
    "    // pendulum origin and mouse location\n",
    "    // we assign that angle to the pendulum\n",
    "    if (dragging) {\n",
    "      PVector diff = PVector.sub(origin, new PVector(mouseX, mouseY));      // Difference between 2 points\n",
    "      angle = atan2(-1*diff.y, diff.x) - radians(90);                      // Angle relative to vertical axis\n",
    "    }\n",
    "  }\n",
    "}\n",
    "```"
   ]
  },
  {
   "cell_type": "markdown",
   "metadata": {},
   "source": [
    "### 3.5: Springs - The Nature of Code"
   ]
  },
  {
   "cell_type": "code",
   "execution_count": 18,
   "metadata": {
    "collapsed": false
   },
   "outputs": [
    {
     "data": {
      "text/html": [
       "<iframe src=\"https://www.youtube.com/embed/cluKQOY92Dw?list=PLRqwX-V7Uu6aFlwukCmDf0-1-uSR7mklK\" \n",
       "width=\"560\" height=\"315\" frameborder=\"0\" allowfullscreen></iframe>"
      ],
      "text/plain": [
       "<IPython.core.display.HTML object>"
      ]
     },
     "metadata": {},
     "output_type": "display_data"
    }
   ],
   "source": [
    "%%html\n",
    "<iframe src=\"https://www.youtube.com/embed/cluKQOY92Dw?list=PLRqwX-V7Uu6aFlwukCmDf0-1-uSR7mklK\" \n",
    "width=\"560\" height=\"315\" frameborder=\"0\" allowfullscreen></iframe>"
   ]
  },
  {
   "cell_type": "markdown",
   "metadata": {},
   "source": [
    "```java\n",
    "// Nature of Code 2011\n",
    "// Daniel Shiffman\n",
    "// Chapter 3: Oscillation\n",
    "// Mover attached to spring connection\n",
    "// PVector\n",
    "// http://www.shiffman.net\n",
    "\n",
    "\n",
    "// Mover object\n",
    "Bob bob;\n",
    "\n",
    "// Spring object\n",
    "Spring spring;\n",
    "\n",
    "void setup() {\n",
    "  size(800,200);\n",
    "  smooth();\n",
    "  // Create objects at starting location\n",
    "  // Note third argument in Spring constructor is \"rest length\"\n",
    "  spring = new Spring(width/2,10,100); \n",
    "  bob = new Bob(width/2,100); \n",
    "\n",
    "}\n",
    "\n",
    "void draw()  {\n",
    "  background(255); \n",
    "  // Apply a gravity force to the bob\n",
    "  PVector gravity = new PVector(0,2);\n",
    "  bob.applyForce(gravity);\n",
    "  \n",
    "  // Connect the bob to the spring (this calculates the force)\n",
    "  spring.connect(bob);\n",
    "  // Constrain spring distance between min and max\n",
    "  spring.constrainLength(bob,30,200);\n",
    "  \n",
    "  // Update bob\n",
    "  bob.update();\n",
    "  // If it's being dragged\n",
    "  bob.drag(mouseX,mouseY);\n",
    "  \n",
    "  // Draw everything\n",
    "  spring.displayLine(bob); // Draw a line between spring and bob\n",
    "  bob.display(); \n",
    "  spring.display(); \n",
    "  \n",
    "  fill(0);\n",
    "  text(\"click on bob to drag\",10,height-5);\n",
    "}\n",
    "\n",
    "\n",
    "// For mouse interaction with bob\n",
    "\n",
    "void mousePressed()  {\n",
    "  bob.clicked(mouseX,mouseY);\n",
    "}\n",
    "\n",
    "void mouseReleased()  {\n",
    "  bob.stopDragging(); \n",
    "}\n",
    "\n",
    "\n",
    "// Bob class, just like our regular Mover (location, velocity, acceleration, mass)\n",
    "\n",
    "class Bob { \n",
    "  PVector location;\n",
    "  PVector velocity;\n",
    "  PVector acceleration;\n",
    "  float mass = 24;\n",
    "  \n",
    "  // Arbitrary damping to simulate friction / drag \n",
    "  float damping = 0.98;\n",
    "\n",
    "  // For mouse interaction\n",
    "  PVector dragOffset;\n",
    "  boolean dragging = false;\n",
    "\n",
    "  // Constructor\n",
    "  Bob(float x, float y) {\n",
    "    location = new PVector(x,y);\n",
    "    velocity = new PVector();\n",
    "    acceleration = new PVector();\n",
    "    dragOffset = new PVector();\n",
    "  } \n",
    "\n",
    "  // Standard Euler integration\n",
    "  void update() { \n",
    "    velocity.add(acceleration);\n",
    "    velocity.mult(damping);\n",
    "    location.add(velocity);\n",
    "    acceleration.mult(0);\n",
    "  }\n",
    "\n",
    "  // Newton's law: F = M * A\n",
    "  void applyForce(PVector force) {\n",
    "    PVector f = force.get();\n",
    "    f.div(mass);\n",
    "    acceleration.add(f);\n",
    "  }\n",
    "\n",
    "\n",
    "  // Draw the bob\n",
    "  void display() { \n",
    "    stroke(0);\n",
    "    strokeWeight(2);\n",
    "    fill(175);\n",
    "    if (dragging) {\n",
    "      fill(50);\n",
    "    }\n",
    "    ellipse(location.x,location.y,mass*2,mass*2);\n",
    "  } \n",
    "\n",
    "  // The methods below are for mouse interaction\n",
    "\n",
    "  // This checks to see if we clicked on the mover\n",
    "  void clicked(int mx, int my) {\n",
    "    float d = dist(mx,my,location.x,location.y);\n",
    "    if (d < mass) {\n",
    "      dragging = true;\n",
    "      dragOffset.x = location.x-mx;\n",
    "      dragOffset.y = location.y-my;\n",
    "    }\n",
    "  }\n",
    "\n",
    "  void stopDragging() {\n",
    "    dragging = false;\n",
    "  }\n",
    "\n",
    "  void drag(int mx, int my) {\n",
    "    if (dragging) {\n",
    "      location.x = mx + dragOffset.x;\n",
    "      location.y = my + dragOffset.y;\n",
    "    }\n",
    "  }\n",
    "}\n",
    "\n",
    "// Class to describe an anchor point that can connect to \"Bob\" objects via a spring\n",
    "// Thank you: http://www.myphysicslab.com/spring2d.html\n",
    "\n",
    "class Spring { \n",
    "\n",
    "  // Location\n",
    "  PVector anchor;\n",
    "\n",
    "  // Rest length and spring constant\n",
    "  float len;\n",
    "  float k = 0.2;\n",
    "\n",
    "  // Constructor\n",
    "  Spring(float x, float y, int l) {\n",
    "    anchor = new PVector(x, y);\n",
    "    len = l;\n",
    "  } \n",
    "\n",
    "  // Calculate spring force\n",
    "  void connect(Bob b) {\n",
    "    // Vector pointing from anchor to bob location\n",
    "    PVector force = PVector.sub(b.location, anchor);\n",
    "    // What is distance\n",
    "    float d = force.mag();\n",
    "    // Stretch is difference between current distance and rest length\n",
    "    float stretch = d - len;\n",
    "\n",
    "    // Calculate force according to Hooke's Law\n",
    "    // F = k * stretch\n",
    "    force.normalize();\n",
    "    force.mult(-1 * k * stretch);\n",
    "    b.applyForce(force);\n",
    "  }\n",
    "\n",
    "  // Constrain the distance between bob and anchor between min and max\n",
    "  void constrainLength(Bob b, float minlen, float maxlen) {\n",
    "    PVector dir = PVector.sub(b.location, anchor);\n",
    "    float d = dir.mag();\n",
    "    // Is it too short?\n",
    "    if (d < minlen) {\n",
    "      dir.normalize();\n",
    "      dir.mult(minlen);\n",
    "      // Reset location and stop from moving (not realistic physics)\n",
    "      b.location = PVector.add(anchor, dir);\n",
    "      b.velocity.mult(0);\n",
    "      // Is it too long?\n",
    "    } \n",
    "    else if (d > maxlen) {\n",
    "      dir.normalize();\n",
    "      dir.mult(maxlen);\n",
    "      // Reset location and stop from moving (not realistic physics)\n",
    "      b.location = PVector.add(anchor, dir);\n",
    "      b.velocity.mult(0);\n",
    "    }\n",
    "  }\n",
    "\n",
    "  void display() { \n",
    "    stroke(0);\n",
    "    fill(175);\n",
    "    strokeWeight(2);\n",
    "    rectMode(CENTER);\n",
    "    rect(anchor.x, anchor.y, 10, 10);\n",
    "  }\n",
    "\n",
    "  void displayLine(Bob b) {\n",
    "    strokeWeight(2);\n",
    "    stroke(0);\n",
    "    line(b.location.x, b.location.y, anchor.x, anchor.y);\n",
    "  }\n",
    "}\n",
    "```"
   ]
  },
  {
   "cell_type": "code",
   "execution_count": 19,
   "metadata": {
    "collapsed": false
   },
   "outputs": [
    {
     "data": {
      "application/javascript": [
       "$.getScript('https://kmahelona.github.io/ipython_notebook_goodies/ipython_notebook_toc.js')"
      ],
      "text/plain": [
       "<IPython.core.display.Javascript object>"
      ]
     },
     "metadata": {},
     "output_type": "display_data"
    }
   ],
   "source": [
    "%%javascript\n",
    "$.getScript('https://kmahelona.github.io/ipython_notebook_goodies/ipython_notebook_toc.js')"
   ]
  }
 ],
 "metadata": {
  "anaconda-cloud": {},
  "kernelspec": {
   "display_name": "Python 3",
   "language": "python",
   "name": "python3"
  },
  "language_info": {
   "codemirror_mode": {
    "name": "ipython",
    "version": 3
   },
   "file_extension": ".py",
   "mimetype": "text/x-python",
   "name": "python",
   "nbconvert_exporter": "python",
   "pygments_lexer": "ipython3",
   "version": "3.5.2"
  }
 },
 "nbformat": 4,
 "nbformat_minor": 0
}

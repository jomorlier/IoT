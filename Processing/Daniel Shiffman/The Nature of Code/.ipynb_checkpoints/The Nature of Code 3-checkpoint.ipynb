{
 "cells": [
  {
   "cell_type": "markdown",
   "metadata": {},
   "source": [
    "<font size='6'><b>Processing</b></font><br><br>\n",
    "\n",
    "<font size='5'><b>The Nature of Code by Daniel Shiffman</b></font>\n",
    "\n",
    "https://github.com/shiffman/The-Nature-of-Code-Examples<br>\n",
    "http://natureofcode.com/book/chapter-6-autonomous-agents/\n",
    "\n",
    "<table style=\"border-style: hidden; border-collapse: collapse;\" width = \"80%\"> \n",
    "    <tr style=\"border-style: hidden; border-collapse: collapse;\">\n",
    "        <td width = 55% style=\"border-style: hidden; border-collapse: collapse;\">\n",
    "\n",
    "        </td>\n",
    "        <td width = 25%>\n",
    "        Collected by Seungchul Lee<br>iSystems (http://isystems.unist.ac.kr/)<br>UNIST\n",
    "        </td>\n",
    "    </tr>\n",
    "</table>\n",
    "\n",
    "Table of Contents\n",
    "<div id=\"toc\"></div>"
   ]
  },
  {
   "cell_type": "markdown",
   "metadata": {},
   "source": [
    "# 6. Agents\n",
    "### 6.1: Autonomous Agents and Steering - The Nature of Code"
   ]
  },
  {
   "cell_type": "code",
   "execution_count": 2,
   "metadata": {
    "collapsed": false
   },
   "outputs": [
    {
     "data": {
      "text/html": [
       "<iframe src=\"https://www.youtube.com/embed/JIz2L4tn5kM?list=PLRqwX-V7Uu6aFlwukCmDf0-1-uSR7mklK\" \n",
       "width=\"560\" height=\"315\" frameborder=\"0\" allowfullscreen></iframe>"
      ],
      "text/plain": [
       "<IPython.core.display.HTML object>"
      ]
     },
     "metadata": {},
     "output_type": "display_data"
    }
   ],
   "source": [
    "%%html\n",
    "<iframe src=\"https://www.youtube.com/embed/JIz2L4tn5kM?list=PLRqwX-V7Uu6aFlwukCmDf0-1-uSR7mklK\" \n",
    "width=\"560\" height=\"315\" frameborder=\"0\" allowfullscreen></iframe>"
   ]
  },
  {
   "cell_type": "markdown",
   "metadata": {},
   "source": [
    "### 6.2: Steering Behaviors: Seek - The Nature of Code"
   ]
  },
  {
   "cell_type": "code",
   "execution_count": 3,
   "metadata": {
    "collapsed": false
   },
   "outputs": [
    {
     "data": {
      "text/html": [
       "<iframe src=\"https://www.youtube.com/embed/4zhJlkGQTvU?list=PLRqwX-V7Uu6aFlwukCmDf0-1-uSR7mklK\" \n",
       "width=\"560\" height=\"315\" frameborder=\"0\" allowfullscreen></iframe>"
      ],
      "text/plain": [
       "<IPython.core.display.HTML object>"
      ]
     },
     "metadata": {},
     "output_type": "display_data"
    }
   ],
   "source": [
    "%%html\n",
    "<iframe src=\"https://www.youtube.com/embed/4zhJlkGQTvU?list=PLRqwX-V7Uu6aFlwukCmDf0-1-uSR7mklK\" \n",
    "width=\"560\" height=\"315\" frameborder=\"0\" allowfullscreen></iframe>"
   ]
  },
  {
   "cell_type": "markdown",
   "metadata": {},
   "source": [
    "```java\n",
    "// The Nature of Code\n",
    "// Daniel Shiffman\n",
    "// http://natureofcode.com\n",
    "\n",
    "// Seeking \"vehicle\" follows the mouse position\n",
    "\n",
    "// Implements Craig Reynold's autonomous steering behaviors\n",
    "// One vehicle \"seeks\"\n",
    "// See: http://www.red3d.com/cwr/\n",
    "\n",
    "Vehicle v;\n",
    "\n",
    "void setup() {\n",
    "  size(640, 360);\n",
    "  v = new Vehicle(width/2, height/2);\n",
    "}\n",
    "\n",
    "void draw() {\n",
    "  background(255);\n",
    "\n",
    "  PVector mouse = new PVector(mouseX, mouseY);\n",
    "\n",
    "  // Draw an ellipse at the mouse position\n",
    "  fill(200);\n",
    "  stroke(0);\n",
    "  strokeWeight(2);\n",
    "  ellipse(mouse.x, mouse.y, 48, 48);\n",
    "\n",
    "  // Call the appropriate steering behaviors for our agents\n",
    "  v.seek(mouse);\n",
    "  v.update();\n",
    "  v.display();\n",
    "}\n",
    "```"
   ]
  },
  {
   "cell_type": "markdown",
   "metadata": {},
   "source": [
    "```java\n",
    "// The Nature of Code\n",
    "// Daniel Shiffman\n",
    "// http://natureofcode.com\n",
    "\n",
    "// Seek_Arrive\n",
    "\n",
    "// The \"Vehicle\" class\n",
    "\n",
    "class Vehicle {\n",
    "  \n",
    "  PVector position;\n",
    "  PVector velocity;\n",
    "  PVector acceleration;\n",
    "  float r;\n",
    "  float maxforce;    // Maximum steering force\n",
    "  float maxspeed;    // Maximum speed\n",
    "\n",
    "  Vehicle(float x, float y) {\n",
    "    acceleration = new PVector(0,0);\n",
    "    velocity = new PVector(0,-2);\n",
    "    position = new PVector(x,y);\n",
    "    r = 6;\n",
    "    maxspeed = 4;\n",
    "    maxforce = 0.1;\n",
    "  }\n",
    "\n",
    "  // Method to update position\n",
    "  void update() {\n",
    "    // Update velocity\n",
    "    velocity.add(acceleration);\n",
    "    // Limit speed\n",
    "    velocity.limit(maxspeed);\n",
    "    position.add(velocity);\n",
    "    // Reset accelerationelertion to 0 each cycle\n",
    "    acceleration.mult(0);\n",
    "  }\n",
    "\n",
    "  void applyForce(PVector force) {\n",
    "    // We could add mass here if we want A = F / M\n",
    "    acceleration.add(force);\n",
    "  }\n",
    "\n",
    "  // A method that calculates a steering force towards a target\n",
    "  // STEER = DESIRED MINUS VELOCITY\n",
    "  void seek(PVector target) {\n",
    "    PVector desired = PVector.sub(target,position);  // A vector pointing from the position to the target\n",
    "    \n",
    "    // Scale to maximum speed\n",
    "    desired.setMag(maxspeed);\n",
    "\n",
    "    // Steering = Desired minus velocity\n",
    "    PVector steer = PVector.sub(desired,velocity);\n",
    "    steer.limit(maxforce);  // Limit to maximum steering force\n",
    "    \n",
    "    applyForce(steer);\n",
    "  }\n",
    "    \n",
    "  void display() {\n",
    "    // Draw a triangle rotated in the direction of velocity\n",
    "    float theta = velocity.heading2D() + PI/2;\n",
    "    fill(127);\n",
    "    stroke(0);\n",
    "    strokeWeight(1);\n",
    "    pushMatrix();\n",
    "    translate(position.x,position.y);\n",
    "    rotate(theta);\n",
    "    beginShape();\n",
    "    vertex(0, -r*2);\n",
    "    vertex(-r, r*2);\n",
    "    vertex(r, r*2);\n",
    "    endShape(CLOSE);\n",
    "    popMatrix();\n",
    "    \n",
    "    \n",
    "  }\n",
    "}\n",
    "\n",
    "```"
   ]
  },
  {
   "cell_type": "markdown",
   "metadata": {},
   "source": [
    "### 6.3: Steering Behaviors: Arrive - The Nature of Code"
   ]
  },
  {
   "cell_type": "code",
   "execution_count": 4,
   "metadata": {
    "collapsed": false
   },
   "outputs": [
    {
     "data": {
      "text/html": [
       "<iframe src=\"https://www.youtube.com/embed/2CL1maXeQCI?list=PLRqwX-V7Uu6aFlwukCmDf0-1-uSR7mklK\" \n",
       "width=\"560\" height=\"315\" frameborder=\"0\" allowfullscreen></iframe>"
      ],
      "text/plain": [
       "<IPython.core.display.HTML object>"
      ]
     },
     "metadata": {},
     "output_type": "display_data"
    }
   ],
   "source": [
    "%%html\n",
    "<iframe src=\"https://www.youtube.com/embed/2CL1maXeQCI?list=PLRqwX-V7Uu6aFlwukCmDf0-1-uSR7mklK\" \n",
    "width=\"560\" height=\"315\" frameborder=\"0\" allowfullscreen></iframe>"
   ]
  },
  {
   "cell_type": "markdown",
   "metadata": {},
   "source": [
    "```java\n",
    "// The Nature of Code\n",
    "// Daniel Shiffman\n",
    "// http://natureofcode.com\n",
    "\n",
    "// One vehicle \"arrives\"\n",
    "// See: http://www.red3d.com/cwr/\n",
    "\n",
    "Vehicle v;\n",
    "\n",
    "void setup() {\n",
    "  size(640, 360);\n",
    "  v = new Vehicle(width/2, height/2);\n",
    "}\n",
    "\n",
    "void draw() {\n",
    "  background(255);\n",
    "\n",
    "  PVector mouse = new PVector(mouseX, mouseY);\n",
    "\n",
    "  // Draw an ellipse at the mouse position\n",
    "  fill(200);\n",
    "  stroke(0);\n",
    "  strokeWeight(2);\n",
    "  ellipse(mouse.x, mouse.y, 48, 48);\n",
    "\n",
    "  // Call the appropriate steering behaviors for our agents\n",
    "  v.arrive(mouse);\n",
    "  v.update();\n",
    "  v.display();\n",
    "}\n",
    "```"
   ]
  },
  {
   "cell_type": "markdown",
   "metadata": {},
   "source": [
    "### 6.4: Steering Behaviors: Flow FIeld Following - The Nature of Code"
   ]
  },
  {
   "cell_type": "code",
   "execution_count": 5,
   "metadata": {
    "collapsed": false
   },
   "outputs": [
    {
     "data": {
      "text/html": [
       "<iframe src=\"https://www.youtube.com/embed/XXEK3UEDDIg?list=PLRqwX-V7Uu6aFlwukCmDf0-1-uSR7mklK\" \n",
       "width=\"560\" height=\"315\" frameborder=\"0\" allowfullscreen></iframe>"
      ],
      "text/plain": [
       "<IPython.core.display.HTML object>"
      ]
     },
     "metadata": {},
     "output_type": "display_data"
    }
   ],
   "source": [
    "%%html\n",
    "<iframe src=\"https://www.youtube.com/embed/XXEK3UEDDIg?list=PLRqwX-V7Uu6aFlwukCmDf0-1-uSR7mklK\" \n",
    "width=\"560\" height=\"315\" frameborder=\"0\" allowfullscreen></iframe>"
   ]
  },
  {
   "cell_type": "markdown",
   "metadata": {},
   "source": [
    "```java\n",
    "// The Nature of Code\n",
    "// Daniel Shiffman\n",
    "// http://natureofcode.com\n",
    "\n",
    "// Flow Field Following\n",
    "\n",
    "class FlowField {\n",
    "\n",
    "  // A flow field is a two dimensional array of PVectors\n",
    "  PVector[][] field;\n",
    "  int cols, rows; // Columns and Rows\n",
    "  int resolution; // How large is each \"cell\" of the flow field\n",
    "\n",
    "  FlowField(int r) {\n",
    "    resolution = r;\n",
    "    // Determine the number of columns and rows based on sketch's width and height\n",
    "    cols = width/resolution;\n",
    "    rows = height/resolution;\n",
    "    field = new PVector[cols][rows];\n",
    "    init();\n",
    "  }\n",
    "\n",
    "  void init() {\n",
    "    // Reseed noise so we get a new flow field every time\n",
    "    noiseSeed((int)random(10000));\n",
    "    float xoff = 0;\n",
    "    for (int i = 0; i < cols; i++) {\n",
    "      float yoff = 0;\n",
    "      for (int j = 0; j < rows; j++) {\n",
    "        float theta = map(noise(xoff,yoff),0,1,0,TWO_PI);\n",
    "        // Polar to cartesian coordinate transformation to get x and y components of the vector\n",
    "        field[i][j] = new PVector(cos(theta),sin(theta));\n",
    "        yoff += 0.1;\n",
    "      }\n",
    "      xoff += 0.1;\n",
    "    }\n",
    "  }\n",
    "\n",
    "  // Draw every vector\n",
    "  void display() {\n",
    "    for (int i = 0; i < cols; i++) {\n",
    "      for (int j = 0; j < rows; j++) {\n",
    "        drawVector(field[i][j],i*resolution,j*resolution,resolution-2);\n",
    "      }\n",
    "    }\n",
    "\n",
    "  }\n",
    "\n",
    "  // Renders a vector object 'v' as an arrow and a position 'x,y'\n",
    "  void drawVector(PVector v, float x, float y, float scayl) {\n",
    "    pushMatrix();\n",
    "    float arrowsize = 4;\n",
    "    // Translate to position to render vector\n",
    "    translate(x,y);\n",
    "    stroke(0,100);\n",
    "    // Call vector heading function to get direction (note that pointing to the right is a heading of 0) and rotate\n",
    "    rotate(v.heading2D());\n",
    "    // Calculate length of vector & scale it to be bigger or smaller if necessary\n",
    "    float len = v.mag()*scayl;\n",
    "    // Draw three lines to make an arrow (draw pointing up since we've rotate to the proper direction)\n",
    "    line(0,0,len,0);\n",
    "    //line(len,0,len-arrowsize,+arrowsize/2);\n",
    "    //line(len,0,len-arrowsize,-arrowsize/2);\n",
    "    popMatrix();\n",
    "  }\n",
    "\n",
    "  PVector lookup(PVector lookup) {\n",
    "    int column = int(constrain(lookup.x/resolution,0,cols-1));\n",
    "    int row = int(constrain(lookup.y/resolution,0,rows-1));\n",
    "    return field[column][row].get();\n",
    "  }\n",
    "\n",
    "\n",
    "}\n",
    "\n",
    "\n",
    "```"
   ]
  },
  {
   "cell_type": "markdown",
   "metadata": {},
   "source": [
    "```java\n",
    "// The Nature of Code\n",
    "// Daniel Shiffman\n",
    "// http://natureofcode.com\n",
    "\n",
    "// Flow Field Following\n",
    "// Via Reynolds: http://www.red3d.com/cwr/steer/FlowFollow.html\n",
    "\n",
    "// Using this variable to decide whether to draw all the stuff\n",
    "boolean debug = true;\n",
    "\n",
    "// Flowfield object\n",
    "FlowField flowfield;\n",
    "// An ArrayList of vehicles\n",
    "ArrayList<Vehicle> vehicles;\n",
    "\n",
    "void setup() {\n",
    "  size(640, 360);\n",
    "  // Make a new flow field with \"resolution\" of 16\n",
    "  flowfield = new FlowField(20);\n",
    "  vehicles = new ArrayList<Vehicle>();\n",
    "  // Make a whole bunch of vehicles with random maxspeed and maxforce values\n",
    "  for (int i = 0; i < 120; i++) {\n",
    "    vehicles.add(new Vehicle(new PVector(random(width), random(height)), random(2, 5), random(0.1, 0.5)));\n",
    "  }\n",
    "}\n",
    "\n",
    "void draw() {\n",
    "  background(255);\n",
    "  // Display the flowfield in \"debug\" mode\n",
    "  if (debug) flowfield.display();\n",
    "  // Tell all the vehicles to follow the flow field\n",
    "  for (Vehicle v : vehicles) {\n",
    "    v.follow(flowfield);\n",
    "    v.run();\n",
    "  }\n",
    "\n",
    "  // Instructions\n",
    "  fill(0);\n",
    "  text(\"Hit space bar to toggle debugging lines.\\nClick the mouse to generate a new flow field.\",10,height-20);\n",
    "}\n",
    "\n",
    "\n",
    "void keyPressed() {\n",
    "  if (key == ' ') {\n",
    "    debug = !debug;\n",
    "  }\n",
    "}\n",
    "\n",
    "// Make a new flowfield\n",
    "void mousePressed() {\n",
    "  flowfield.init();\n",
    "}\n",
    "```"
   ]
  },
  {
   "cell_type": "markdown",
   "metadata": {},
   "source": [
    "### 6.5: Vectors: The Dot Product - The Nature of Code"
   ]
  },
  {
   "cell_type": "code",
   "execution_count": 6,
   "metadata": {
    "collapsed": false
   },
   "outputs": [
    {
     "data": {
      "text/html": [
       "<iframe src=\"https://www.youtube.com/embed/_ENEsV_kNx8?list=PLRqwX-V7Uu6aFlwukCmDf0-1-uSR7mklK\" \n",
       "width=\"560\" height=\"315\" frameborder=\"0\" allowfullscreen></iframe>"
      ],
      "text/plain": [
       "<IPython.core.display.HTML object>"
      ]
     },
     "metadata": {},
     "output_type": "display_data"
    }
   ],
   "source": [
    "%%html\n",
    "<iframe src=\"https://www.youtube.com/embed/_ENEsV_kNx8?list=PLRqwX-V7Uu6aFlwukCmDf0-1-uSR7mklK\" \n",
    "width=\"560\" height=\"315\" frameborder=\"0\" allowfullscreen></iframe>"
   ]
  },
  {
   "cell_type": "markdown",
   "metadata": {},
   "source": [
    "```java\n",
    "void setup() {\n",
    "  size(600, 360);\n",
    "}\n",
    "\n",
    "void draw() {\n",
    "  background(255);\n",
    "  \n",
    "  PVector a = new PVector(20,300);\n",
    "  PVector b = new PVector(500,250);\n",
    "  PVector mouse = new PVector(mouseX,mouseY);\n",
    "  \n",
    "  stroke(0);\n",
    "  strokeWeight(2);\n",
    "  line(a.x,a.y,b.x,b.y);\n",
    "  line(a.x,a.y,mouse.x,mouse.y);\n",
    "  fill(0);\n",
    "  ellipse(a.x,a.y,8,8);\n",
    "  ellipse(b.x,b.y,8,8);\n",
    "  ellipse(mouse.x,mouse.y,8,8);\n",
    "  \n",
    "  PVector norm = scalarProjection(mouse,a,b);\n",
    "  strokeWeight(1);\n",
    "  stroke(50);\n",
    "  line(mouse.x,mouse.y,norm.x,norm.y);\n",
    "\n",
    "  noStroke();\n",
    "  fill(255,0,0);\n",
    "  ellipse(norm.x,norm.y,16,16);\n",
    "}\n",
    "\n",
    "\n",
    "PVector scalarProjection(PVector p, PVector a, PVector b) {\n",
    "  PVector ap = PVector.sub(p, a);\n",
    "  PVector ab = PVector.sub(b, a);\n",
    "  ab.normalize(); // Normalize the line\n",
    "  ab.mult(ap.dot(ab));\n",
    "  PVector normalPoint = PVector.add(a, ab);\n",
    "  return normalPoint;\n",
    "}\n",
    "\n",
    "```"
   ]
  },
  {
   "cell_type": "markdown",
   "metadata": {},
   "source": [
    "### 6.6: Steering Behaviors: Path Following - The Nature of Code"
   ]
  },
  {
   "cell_type": "code",
   "execution_count": 7,
   "metadata": {
    "collapsed": false
   },
   "outputs": [
    {
     "data": {
      "text/html": [
       "<iframe src=\"https://www.youtube.com/embed/2qGsBClh3hE?list=PLRqwX-V7Uu6aFlwukCmDf0-1-uSR7mklK\" \n",
       "width=\"560\" height=\"315\" frameborder=\"0\" allowfullscreen></iframe>"
      ],
      "text/plain": [
       "<IPython.core.display.HTML object>"
      ]
     },
     "metadata": {},
     "output_type": "display_data"
    }
   ],
   "source": [
    "%%html\n",
    "<iframe src=\"https://www.youtube.com/embed/2qGsBClh3hE?list=PLRqwX-V7Uu6aFlwukCmDf0-1-uSR7mklK\" \n",
    "width=\"560\" height=\"315\" frameborder=\"0\" allowfullscreen></iframe>"
   ]
  },
  {
   "cell_type": "markdown",
   "metadata": {},
   "source": [
    "```java\n",
    "// The Nature of Code\n",
    "// Daniel Shiffman\n",
    "// http://natureofcode.com\n",
    "\n",
    "// Path Following\n",
    "// Via Reynolds: // http://www.red3d.com/cwr/steer/PathFollow.html\n",
    "\n",
    "// Using this variable to decide whether to draw all the stuff\n",
    "boolean debug = true;\n",
    "\n",
    "// A path object (series of connected points)\n",
    "Path path;\n",
    "\n",
    "// Two vehicles\n",
    "Vehicle car1;\n",
    "Vehicle car2;\n",
    "\n",
    "void setup() {\n",
    "  size(640, 360);\n",
    "  // Call a function to generate new Path object\n",
    "  newPath();\n",
    "\n",
    "  // Each vehicle has different maxspeed and maxforce for demo purposes\n",
    "  car1 = new Vehicle(new PVector(0, height/2), 2, 0.04);\n",
    "  car2 = new Vehicle(new PVector(0, height/2), 3, 0.1);\n",
    "}\n",
    "\n",
    "void draw() {\n",
    "  background(255);\n",
    "  // Display the path\n",
    "  path.display();\n",
    "  // The boids follow the path\n",
    "  car1.follow(path);\n",
    "  car2.follow(path);\n",
    "  // Call the generic run method (update, borders, display, etc.)\n",
    "  car1.run();\n",
    "  car2.run();\n",
    "  \n",
    "  car1.borders(path);\n",
    "  car2.borders(path);\n",
    "\n",
    "  // Instructions\n",
    "  fill(0);\n",
    "  text(\"Hit space bar to toggle debugging lines.\\nClick the mouse to generate a new path.\", 10, height-30);\n",
    "}\n",
    "\n",
    "void newPath() {\n",
    "  // A path is a series of connected points\n",
    "  // A more sophisticated path might be a curve\n",
    "  path = new Path();\n",
    "  path.addPoint(-20, height/2);\n",
    "  path.addPoint(random(0, width/2), random(0, height));\n",
    "  path.addPoint(random(width/2, width), random(0, height));\n",
    "  path.addPoint(width+20, height/2);\n",
    "}\n",
    "\n",
    "public void keyPressed() {\n",
    "  if (key == ' ') {\n",
    "    debug = !debug;\n",
    "  }\n",
    "}\n",
    "\n",
    "public void mousePressed() {\n",
    "  newPath();\n",
    "}\n",
    "\n",
    "\n",
    "```"
   ]
  },
  {
   "cell_type": "markdown",
   "metadata": {},
   "source": [
    "```java\n",
    "// The Nature of Code\n",
    "// Daniel Shiffman\n",
    "// http://natureofcode.com\n",
    "\n",
    "// Path Following\n",
    "\n",
    "class Path {\n",
    "\n",
    "  // A Path is an arraylist of points (PVector objects)\n",
    "  ArrayList<PVector> points;\n",
    "  // A path has a radius, i.e how far is it ok for the boid to wander off\n",
    "  float radius;\n",
    "\n",
    "  Path() {\n",
    "    // Arbitrary radius of 20\n",
    "    radius = 20;\n",
    "    points = new ArrayList<PVector>();\n",
    "  }\n",
    "\n",
    "  // Add a point to the path\n",
    "  void addPoint(float x, float y) {\n",
    "    PVector point = new PVector(x, y);\n",
    "    points.add(point);\n",
    "  }\n",
    "  \n",
    "  PVector getStart() {\n",
    "     return points.get(0);\n",
    "  }\n",
    "\n",
    "  PVector getEnd() {\n",
    "     return points.get(points.size()-1);\n",
    "  }\n",
    "\n",
    "\n",
    "  // Draw the path\n",
    "  void display() {\n",
    "    // Draw thick line for radius\n",
    "    stroke(175);\n",
    "    strokeWeight(radius*2);\n",
    "    noFill();\n",
    "    beginShape();\n",
    "    for (PVector v : points) {\n",
    "      vertex(v.x, v.y);\n",
    "    }\n",
    "    endShape();\n",
    "    // Draw thin line for center of path\n",
    "    stroke(0);\n",
    "    strokeWeight(1);\n",
    "    noFill();\n",
    "    beginShape();\n",
    "    for (PVector v : points) {\n",
    "      vertex(v.x, v.y);\n",
    "    }\n",
    "    endShape();\n",
    "  }\n",
    "}\n",
    "```"
   ]
  },
  {
   "cell_type": "markdown",
   "metadata": {},
   "source": [
    "### 6.7: Group Steering Behaviors - The Nature of Code"
   ]
  },
  {
   "cell_type": "code",
   "execution_count": 8,
   "metadata": {
    "collapsed": false
   },
   "outputs": [
    {
     "data": {
      "text/html": [
       "<iframe src=\"https://www.youtube.com/embed/fWqOdLI944M?list=PLRqwX-V7Uu6aFlwukCmDf0-1-uSR7mklK\" \n",
       "width=\"560\" height=\"315\" frameborder=\"0\" allowfullscreen></iframe>"
      ],
      "text/plain": [
       "<IPython.core.display.HTML object>"
      ]
     },
     "metadata": {},
     "output_type": "display_data"
    }
   ],
   "source": [
    "%%html\n",
    "<iframe src=\"https://www.youtube.com/embed/fWqOdLI944M?list=PLRqwX-V7Uu6aFlwukCmDf0-1-uSR7mklK\" \n",
    "width=\"560\" height=\"315\" frameborder=\"0\" allowfullscreen></iframe>"
   ]
  },
  {
   "cell_type": "markdown",
   "metadata": {},
   "source": [
    "```java\n",
    "// The Nature of Code\n",
    "// Daniel Shiffman\n",
    "// http://natureofcode.com\n",
    "\n",
    "// Vehicle class\n",
    "\n",
    "class Vehicle {\n",
    "\n",
    "  // All the usual stuff\n",
    "  PVector position;\n",
    "  PVector velocity;\n",
    "  PVector acceleration;\n",
    "  float r;\n",
    "  float maxforce;    // Maximum steering force\n",
    "  float maxspeed;    // Maximum speed\n",
    "\n",
    "    // Constructor initialize all values\n",
    "  Vehicle(float x, float y) {\n",
    "    position = new PVector(x, y);\n",
    "    r = 12;\n",
    "    maxspeed = 3;\n",
    "    maxforce = 0.2;\n",
    "    acceleration = new PVector(0, 0);\n",
    "    velocity = new PVector(0, 0);\n",
    "  }\n",
    "\n",
    "  void applyForce(PVector force) {\n",
    "    // We could add mass here if we want A = F / M\n",
    "    acceleration.add(force);\n",
    "  }\n",
    "\n",
    "  // Separation\n",
    "  // Method checks for nearby vehicles and steers away\n",
    "  void separate (ArrayList<Vehicle> vehicles) {\n",
    "    float desiredseparation = r*2;\n",
    "    PVector sum = new PVector();\n",
    "    int count = 0;\n",
    "    // For every boid in the system, check if it's too close\n",
    "    for (Vehicle other : vehicles) {\n",
    "      float d = PVector.dist(position, other.position);\n",
    "      // If the distance is greater than 0 and less than an arbitrary amount (0 when you are yourself)\n",
    "      if ((d > 0) && (d < desiredseparation)) {\n",
    "        // Calculate vector pointing away from neighbor\n",
    "        PVector diff = PVector.sub(position, other.position);\n",
    "        diff.normalize();\n",
    "        diff.div(d);        // Weight by distance\n",
    "        sum.add(diff);\n",
    "        count++;            // Keep track of how many\n",
    "      }\n",
    "    }\n",
    "    // Average -- divide by how many\n",
    "    if (count > 0) {\n",
    "      // Our desired vector is moving away maximum speed\n",
    "      sum.setMag(maxspeed);\n",
    "      // Implement Reynolds: Steering = Desired - Velocity\n",
    "      PVector steer = PVector.sub(sum, velocity);\n",
    "      steer.limit(maxforce);\n",
    "      applyForce(steer);\n",
    "    }\n",
    "  }\n",
    "\n",
    "\n",
    "\n",
    "  // Method to update position\n",
    "  void update() {\n",
    "    // Update velocity\n",
    "    velocity.add(acceleration);\n",
    "    // Limit speed\n",
    "    velocity.limit(maxspeed);\n",
    "    position.add(velocity);\n",
    "    // Reset accelertion to 0 each cycle\n",
    "    acceleration.mult(0);\n",
    "  }\n",
    "\n",
    "  void display() {\n",
    "    fill(175);\n",
    "    stroke(0);\n",
    "    pushMatrix();\n",
    "    translate(position.x, position.y);\n",
    "    ellipse(0, 0, r, r);\n",
    "    popMatrix();\n",
    "  }\n",
    "\n",
    "  // Wraparound\n",
    "  void borders() {\n",
    "    if (position.x < -r) position.x = width+r;\n",
    "    if (position.y < -r) position.y = height+r;\n",
    "    if (position.x > width+r) position.x = -r;\n",
    "    if (position.y > height+r) position.y = -r;\n",
    "  }\n",
    "}\n",
    "```"
   ]
  },
  {
   "cell_type": "markdown",
   "metadata": {},
   "source": [
    "```java\n",
    "// The Nature of Code\n",
    "// Daniel Shiffman\n",
    "// http://natureofcode.com\n",
    "\n",
    "// Separation\n",
    "// Via Reynolds: http://www.red3d.com/cwr/steer/\n",
    "\n",
    "// A list of vehicles\n",
    "ArrayList<Vehicle> vehicles;\n",
    "\n",
    "void setup() {\n",
    "  size(640,360);\n",
    "  // We are now making random vehicles and storing them in an ArrayList\n",
    "  vehicles = new ArrayList<Vehicle>();\n",
    "  for (int i = 0; i < 100; i++) {\n",
    "    vehicles.add(new Vehicle(random(width),random(height)));\n",
    "  }\n",
    "}\n",
    "\n",
    "void draw() {\n",
    "  background(255);\n",
    "\n",
    "  for (Vehicle v : vehicles) {\n",
    "    // Path following and separation are worked on in this function\n",
    "    v.separate(vehicles);\n",
    "    // Call the generic run method (update, borders, display, etc.)\n",
    "    v.update();\n",
    "    v.borders();\n",
    "    v.display();\n",
    "  }\n",
    "\n",
    "  // Instructions\n",
    "  fill(0);\n",
    "  text(\"Drag the mouse to generate new vehicles.\",10,height-16);\n",
    "}\n",
    "\n",
    "\n",
    "void mouseDragged() {\n",
    "  vehicles.add(new Vehicle(mouseX,mouseY));\n",
    "}\n",
    "```"
   ]
  },
  {
   "cell_type": "markdown",
   "metadata": {},
   "source": [
    "### 6.8: Combining Steering Behaviors: Flocking - The Nature of Code"
   ]
  },
  {
   "cell_type": "code",
   "execution_count": 9,
   "metadata": {
    "collapsed": false
   },
   "outputs": [
    {
     "data": {
      "text/html": [
       "<iframe src=\"https://www.youtube.com/embed/IoKfQrlQ7rA?list=PLRqwX-V7Uu6aFlwukCmDf0-1-uSR7mklK\" \n",
       "width=\"560\" height=\"315\" frameborder=\"0\" allowfullscreen></iframe>"
      ],
      "text/plain": [
       "<IPython.core.display.HTML object>"
      ]
     },
     "metadata": {},
     "output_type": "display_data"
    }
   ],
   "source": [
    "%%html\n",
    "<iframe src=\"https://www.youtube.com/embed/IoKfQrlQ7rA?list=PLRqwX-V7Uu6aFlwukCmDf0-1-uSR7mklK\" \n",
    "width=\"560\" height=\"315\" frameborder=\"0\" allowfullscreen></iframe>"
   ]
  },
  {
   "cell_type": "markdown",
   "metadata": {},
   "source": [
    "```java\n",
    "// The Nature of Code\n",
    "// Daniel Shiffman\n",
    "// http://natureofcode.com\n",
    "\n",
    "class Vehicle {\n",
    "\n",
    "  // All the usual stuff\n",
    "  PVector position;\n",
    "  PVector velocity;\n",
    "  PVector acceleration;\n",
    "  float r;\n",
    "  float maxforce;    // Maximum steering force\n",
    "  float maxspeed;    // Maximum speed\n",
    "\n",
    "    // Constructor initialize all values\n",
    "  Vehicle(float x, float y) {\n",
    "    position = new PVector(x, y);\n",
    "    r = 12;\n",
    "    maxspeed = 3;\n",
    "    maxforce = 0.2;\n",
    "    acceleration = new PVector(0, 0);\n",
    "    velocity = new PVector(0, 0);\n",
    "  }\n",
    "\n",
    "  void applyForce(PVector force) {\n",
    "    // We could add mass here if we want A = F / M\n",
    "    acceleration.add(force);\n",
    "  }\n",
    "  \n",
    "  void applyBehaviors(ArrayList<Vehicle> vehicles) {\n",
    "     PVector separateForce = separate(vehicles);\n",
    "     PVector seekForce = seek(new PVector(mouseX,mouseY));\n",
    "     separateForce.mult(2);\n",
    "     seekForce.mult(1);\n",
    "     applyForce(separateForce);\n",
    "     applyForce(seekForce); \n",
    "  }\n",
    "  \n",
    "    // A method that calculates a steering force towards a target\n",
    "  // STEER = DESIRED MINUS VELOCITY\n",
    "  PVector seek(PVector target) {\n",
    "    PVector desired = PVector.sub(target,position);  // A vector pointing from the position to the target\n",
    "    \n",
    "    // Normalize desired and scale to maximum speed\n",
    "    desired.normalize();\n",
    "    desired.mult(maxspeed);\n",
    "    // Steering = Desired minus velocity\n",
    "    PVector steer = PVector.sub(desired,velocity);\n",
    "    steer.limit(maxforce);  // Limit to maximum steering force\n",
    "    \n",
    "    return steer;\n",
    "  }\n",
    "\n",
    "  // Separation\n",
    "  // Method checks for nearby vehicles and steers away\n",
    "  PVector separate (ArrayList<Vehicle> vehicles) {\n",
    "    float desiredseparation = r*2;\n",
    "    PVector sum = new PVector();\n",
    "    int count = 0;\n",
    "    // For every boid in the system, check if it's too close\n",
    "    for (Vehicle other : vehicles) {\n",
    "      float d = PVector.dist(position, other.position);\n",
    "      // If the distance is greater than 0 and less than an arbitrary amount (0 when you are yourself)\n",
    "      if ((d > 0) && (d < desiredseparation)) {\n",
    "        // Calculate vector pointing away from neighbor\n",
    "        PVector diff = PVector.sub(position, other.position);\n",
    "        diff.normalize();\n",
    "        diff.div(d);        // Weight by distance\n",
    "        sum.add(diff);\n",
    "        count++;            // Keep track of how many\n",
    "      }\n",
    "    }\n",
    "    // Average -- divide by how many\n",
    "    if (count > 0) {\n",
    "      sum.div(count);\n",
    "      // Our desired vector is the average scaled to maximum speed\n",
    "      sum.normalize();\n",
    "      sum.mult(maxspeed);\n",
    "      // Implement Reynolds: Steering = Desired - Velocity\n",
    "      sum.sub(velocity);\n",
    "      sum.limit(maxforce);\n",
    "    }\n",
    "    return sum;\n",
    "  }\n",
    "\n",
    "\n",
    "  // Method to update position\n",
    "  void update() {\n",
    "    // Update velocity\n",
    "    velocity.add(acceleration);\n",
    "    // Limit speed\n",
    "    velocity.limit(maxspeed);\n",
    "    position.add(velocity);\n",
    "    // Reset accelertion to 0 each cycle\n",
    "    acceleration.mult(0);\n",
    "  }\n",
    "\n",
    "  void display() {\n",
    "    fill(175);\n",
    "    stroke(0);\n",
    "    pushMatrix();\n",
    "    translate(position.x, position.y);\n",
    "    ellipse(0, 0, r, r);\n",
    "    popMatrix();\n",
    "  }\n",
    "\n",
    "}\n",
    "\n",
    "```"
   ]
  },
  {
   "cell_type": "markdown",
   "metadata": {},
   "source": [
    "```java\n",
    "// The Nature of Code\n",
    "// Daniel Shiffman\n",
    "// http://natureofcode.com\n",
    "\n",
    "// A list of vehicles\n",
    "ArrayList<Vehicle> vehicles;\n",
    "\n",
    "void setup() {\n",
    "  size(640,360);\n",
    "  // We are now making random vehicles and storing them in an ArrayList\n",
    "  vehicles = new ArrayList<Vehicle>();\n",
    "  for (int i = 0; i < 100; i++) {\n",
    "    vehicles.add(new Vehicle(random(width),random(height)));\n",
    "  }\n",
    "}\n",
    "\n",
    "void draw() {\n",
    "  background(255);\n",
    "\n",
    "  for (Vehicle v : vehicles) {\n",
    "    // Path following and separation are worked on in this function\n",
    "    v.applyBehaviors(vehicles);\n",
    "    // Call the generic run method (update, borders, display, etc.)\n",
    "    v.update();\n",
    "    v.display();\n",
    "  }\n",
    "\n",
    "  // Instructions\n",
    "  fill(0);\n",
    "  text(\"Drag the mouse to generate new vehicles.\",10,height-16);\n",
    "}\n",
    "\n",
    "\n",
    "void mouseDragged() {\n",
    "  vehicles.add(new Vehicle(mouseX,mouseY));\n",
    "}\n",
    "\n",
    "```"
   ]
  },
  {
   "cell_type": "markdown",
   "metadata": {},
   "source": [
    "# 7. Automata\n",
    "### 7.1: Cellular Automata - The Nature of Code"
   ]
  },
  {
   "cell_type": "code",
   "execution_count": 10,
   "metadata": {
    "collapsed": false
   },
   "outputs": [
    {
     "data": {
      "text/html": [
       "\n",
       "<iframe src=\"https://www.youtube.com/embed/DKGodqDs9sA?list=PLRqwX-V7Uu6aFlwukCmDf0-1-uSR7mklK\" \n",
       "width=\"560\" height=\"315\" frameborder=\"0\" allowfullscreen></iframe>"
      ],
      "text/plain": [
       "<IPython.core.display.HTML object>"
      ]
     },
     "metadata": {},
     "output_type": "display_data"
    }
   ],
   "source": [
    "%%html\n",
    "\n",
    "<iframe src=\"https://www.youtube.com/embed/DKGodqDs9sA?list=PLRqwX-V7Uu6aFlwukCmDf0-1-uSR7mklK\" \n",
    "width=\"560\" height=\"315\" frameborder=\"0\" allowfullscreen></iframe>"
   ]
  },
  {
   "cell_type": "markdown",
   "metadata": {},
   "source": [
    "### 7.2: Wolfram Elementary Cellular Automata - The Nature of Code"
   ]
  },
  {
   "cell_type": "code",
   "execution_count": 11,
   "metadata": {
    "collapsed": false
   },
   "outputs": [
    {
     "data": {
      "text/html": [
       "<iframe src=\"https://www.youtube.com/embed/W1zKu3fDQR8?list=PLRqwX-V7Uu6aFlwukCmDf0-1-uSR7mklK\" \n",
       "width=\"560\" height=\"315\" frameborder=\"0\" allowfullscreen></iframe>"
      ],
      "text/plain": [
       "<IPython.core.display.HTML object>"
      ]
     },
     "metadata": {},
     "output_type": "display_data"
    }
   ],
   "source": [
    "%%html\n",
    "<iframe src=\"https://www.youtube.com/embed/W1zKu3fDQR8?list=PLRqwX-V7Uu6aFlwukCmDf0-1-uSR7mklK\" \n",
    "width=\"560\" height=\"315\" frameborder=\"0\" allowfullscreen></iframe>"
   ]
  },
  {
   "cell_type": "markdown",
   "metadata": {},
   "source": [
    "```java\n",
    "// CA.pde\n",
    "\n",
    "// The Nature of Code\n",
    "// Daniel Shiffman\n",
    "// http://natureofcode.com\n",
    "\n",
    "// Wolfram Cellular Automata\n",
    "\n",
    "// A class to manage the CA\n",
    "\n",
    "class CA {\n",
    "\n",
    "  int[] cells;     // An array of 0s and 1s \n",
    "  int generation;  // How many generations?\n",
    "\n",
    "  int[] ruleset;     // An array to store the ruleset, for example {0,1,1,0,1,1,0,1}\n",
    "\n",
    "  int w = 5;\n",
    "\n",
    "  CA(int[] r) {\n",
    "    ruleset = r;\n",
    "    cells = new int[width/w];\n",
    "    restart();\n",
    "  }\n",
    "\n",
    "  // Make a random ruleset\n",
    "  void randomize() {\n",
    "    for (int i = 0; i < 8; i++) {\n",
    "      ruleset[i] = int(random(2));\n",
    "    }\n",
    "  }\n",
    "\n",
    "  // Reset to generation 0\n",
    "  void restart() {\n",
    "    for (int i = 0; i < cells.length; i++) {\n",
    "      cells[i] = 0;\n",
    "    }\n",
    "    cells[cells.length/2] = 1;    // We arbitrarily start with just the middle cell having a state of \"1\"\n",
    "    generation = 0;\n",
    "  }\n",
    "\n",
    "\n",
    "  // The process of creating the new generation\n",
    "  void generate() {\n",
    "    // First we create an empty array for the new values\n",
    "    int[] nextgen = new int[cells.length];\n",
    "    // For every spot, determine new state by examing current state, and neighbor states\n",
    "    // Ignore edges that only have one neighor\n",
    "    for (int i = 1; i < cells.length-1; i++) {\n",
    "      int left = cells[i-1];   // Left neighbor state\n",
    "      int me = cells[i];       // Current state\n",
    "      int right = cells[i+1];  // Right neighbor state\n",
    "      nextgen[i] = rules(left, me, right); // Compute next generation state based on ruleset\n",
    "    }\n",
    "    // The current generation is the new generation\n",
    "    cells = nextgen;\n",
    "    generation++;\n",
    "  }\n",
    "\n",
    "  // This is the easy part, just draw the cells, fill 255 for '1', fill 0 for '0'\n",
    "  void display() {\n",
    "    for (int i = 0; i < cells.length; i++) {\n",
    "      if (cells[i] == 1) fill(0);\n",
    "      else               fill(255);\n",
    "      noStroke();\n",
    "      rect(i*w, generation*w, w, w);\n",
    "    }\n",
    "  }\n",
    "\n",
    "  // Implementing the Wolfram rules\n",
    "  // This is the concise conversion to binary way\n",
    "  /*int rules (int a, int b, int c) {\n",
    "   String s = \"\" + a + b + c;\n",
    "   int index = Integer.parseInt(s, 2);\n",
    "   return ruleset[index];\n",
    "   }*/\n",
    "  // For JavaScript Mode\n",
    "  int rules (int a, int b, int c) {\n",
    "    if (a == 1 && b == 1 && c == 1) return ruleset[0];\n",
    "    if (a == 1 && b == 1 && c == 0) return ruleset[1];\n",
    "    if (a == 1 && b == 0 && c == 1) return ruleset[2];\n",
    "    if (a == 1 && b == 0 && c == 0) return ruleset[3];\n",
    "    if (a == 0 && b == 1 && c == 1) return ruleset[4];\n",
    "    if (a == 0 && b == 1 && c == 0) return ruleset[5];\n",
    "    if (a == 0 && b == 0 && c == 1) return ruleset[6];\n",
    "    if (a == 0 && b == 0 && c == 0) return ruleset[7];\n",
    "    return 0;\n",
    "  }\n",
    "\n",
    "  // The CA is done if it reaches the bottom of the screen\n",
    "  boolean finished() {\n",
    "    if (generation > height/w) {\n",
    "      return true;\n",
    "    } \n",
    "    else {\n",
    "      return false;\n",
    "    }\n",
    "  }\n",
    "}\n",
    "```"
   ]
  },
  {
   "cell_type": "markdown",
   "metadata": {},
   "source": [
    "```java\n",
    "// The Nature of Code\n",
    "// Daniel Shiffman\n",
    "// http://natureofcode.com\n",
    "\n",
    "// Wolfram Cellular Automata\n",
    "\n",
    "// Simple demonstration of a Wolfram 1-dimensional cellular automata\n",
    "// When the system reaches bottom of the window, it restarts with a new ruleset\n",
    "// Mouse click restarts as well\n",
    "\n",
    "CA ca;   // An object to describe a Wolfram elementary Cellular Automata\n",
    "\n",
    "int delay = 0;\n",
    "\n",
    "void setup() {\n",
    "  size(800, 200);\n",
    "  background(255);\n",
    "  int[] ruleset = {\n",
    "    0, 1, 0, 1, 1, 0, 1, 0\n",
    "  };    // An initial rule system\n",
    "  ca = new CA(ruleset);                 // Initialize CA\n",
    "  frameRate(30);\n",
    "}\n",
    "\n",
    "void draw() {\n",
    "  ca.display();          // Draw the CA\n",
    "  ca.generate();\n",
    "\n",
    "  if (ca.finished()) {   // If we're done, clear the screen, pick a new ruleset and restart\n",
    "    delay++;\n",
    "    if (delay > 30) {\n",
    "      background(255);\n",
    "      ca.randomize();\n",
    "      ca.restart();\n",
    "      delay = 0;\n",
    "    }\n",
    "  }\n",
    "}\n",
    "\n",
    "void mousePressed() {\n",
    "  background(255);\n",
    "  ca.randomize();\n",
    "  ca.restart();\n",
    "}\n",
    "```"
   ]
  },
  {
   "cell_type": "markdown",
   "metadata": {},
   "source": [
    "### 7.3: The Game of Life - The Nature of Code"
   ]
  },
  {
   "cell_type": "code",
   "execution_count": 12,
   "metadata": {
    "collapsed": false
   },
   "outputs": [
    {
     "data": {
      "text/html": [
       "<iframe src=\"https://www.youtube.com/embed/tENSCEO-LEc?list=PLRqwX-V7Uu6aFlwukCmDf0-1-uSR7mklK\" \n",
       "width=\"560\" height=\"315\" frameborder=\"0\" allowfullscreen></iframe>"
      ],
      "text/plain": [
       "<IPython.core.display.HTML object>"
      ]
     },
     "metadata": {},
     "output_type": "display_data"
    }
   ],
   "source": [
    "%%html\n",
    "<iframe src=\"https://www.youtube.com/embed/tENSCEO-LEc?list=PLRqwX-V7Uu6aFlwukCmDf0-1-uSR7mklK\" \n",
    "width=\"560\" height=\"315\" frameborder=\"0\" allowfullscreen></iframe>"
   ]
  },
  {
   "cell_type": "markdown",
   "metadata": {},
   "source": [
    "```java\n",
    "//GOL.pde\n",
    "\n",
    "// The Nature of Code\n",
    "// Daniel Shiffman\n",
    "// http://natureofcode.com\n",
    "\n",
    "class GOL {\n",
    "\n",
    "  int w = 8;\n",
    "  int columns, rows;\n",
    "\n",
    "  // Game of life board\n",
    "  int[][] board;\n",
    "\n",
    "\n",
    "  GOL() {\n",
    "    // Initialize rows, columns and set-up arrays\n",
    "    columns = width/w;\n",
    "    rows = height/w;\n",
    "    board = new int[columns][rows];\n",
    "    //next = new int[columns][rows];\n",
    "    // Call function to fill array with random values 0 or 1\n",
    "    init();\n",
    "  }\n",
    "\n",
    "  void init() {\n",
    "    for (int i =1;i < columns-1;i++) {\n",
    "      for (int j =1;j < rows-1;j++) {\n",
    "        board[i][j] = int(random(2));\n",
    "      }\n",
    "    }\n",
    "  }\n",
    "\n",
    "  // The process of creating the new generation\n",
    "  void generate() {\n",
    "\n",
    "    int[][] next = new int[columns][rows];\n",
    "\n",
    "    // Loop through every spot in our 2D array and check spots neighbors\n",
    "    for (int x = 0; x < columns; x++) {\n",
    "      for (int y = 0; y < rows; y++) {\n",
    "\n",
    "        // Add up all the states in a 3x3 surrounding grid\n",
    "        int neighbors = 0;\n",
    "        for (int i = -1; i <= 1; i++) {\n",
    "          for (int j = -1; j <= 1; j++) {\n",
    "            neighbors += board[(x+i+columns)%columns][(y+j+rows)%rows];\n",
    "          }\n",
    "        }\n",
    "\n",
    "        // A little trick to subtract the current cell's state since\n",
    "        // we added it in the above loop\n",
    "        neighbors -= board[x][y];\n",
    "\n",
    "        // Rules of Life\n",
    "        if      ((board[x][y] == 1) && (neighbors <  2)) next[x][y] = 0;           // Loneliness\n",
    "        else if ((board[x][y] == 1) && (neighbors >  3)) next[x][y] = 0;           // Overpopulation\n",
    "        else if ((board[x][y] == 0) && (neighbors == 3)) next[x][y] = 1;           // Reproduction\n",
    "        else                                            next[x][y] = board[x][y];  // Stasis\n",
    "      }\n",
    "    }\n",
    "\n",
    "    // Next is now our board\n",
    "    board = next;\n",
    "  }\n",
    "\n",
    "  // This is the easy part, just draw the cells, fill 255 for '1', fill 0 for '0'\n",
    "  void display() {\n",
    "    for ( int i = 0; i < columns;i++) {\n",
    "      for ( int j = 0; j < rows;j++) {\n",
    "        if ((board[i][j] == 1)) fill(0);\n",
    "        else fill(255); \n",
    "        stroke(0);\n",
    "        rect(i*w, j*w, w, w);\n",
    "      }\n",
    "    }\n",
    "  }\n",
    "}\n",
    "```"
   ]
  },
  {
   "cell_type": "markdown",
   "metadata": {},
   "source": [
    "```java\n",
    "// The Nature of Code\n",
    "// Daniel Shiffman\n",
    "// http://natureofcode.com\n",
    "\n",
    "// Daniel Shiffman, Nature of Code\n",
    "\n",
    "// A basic implementation of John Conway's Game of Life CA\n",
    "// how could this be improved to use object oriented programming?\n",
    "// think of it as similar to our particle system, with a \"cell\" class\n",
    "// to describe each individual cell and a \"cellular automata\" class\n",
    "// to describe a collection of cells\n",
    "\n",
    "// Cells wrap around\n",
    "\n",
    "GOL gol;\n",
    "\n",
    "void setup() {\n",
    "  size(400, 400);\n",
    "  gol = new GOL();\n",
    "}\n",
    "\n",
    "void draw() {\n",
    "  background(255);\n",
    "\n",
    "  gol.generate();\n",
    "  gol.display();\n",
    "}\n",
    "\n",
    "// reset board when mouse is pressed\n",
    "void mousePressed() {\n",
    "  gol.init();\n",
    "}\n",
    "\n",
    "```"
   ]
  },
  {
   "cell_type": "markdown",
   "metadata": {},
   "source": [
    "### 7.4: Cellular Automata Exercises - The Nature of Code"
   ]
  },
  {
   "cell_type": "code",
   "execution_count": 13,
   "metadata": {
    "collapsed": false
   },
   "outputs": [
    {
     "data": {
      "text/html": [
       "<iframe src=\"https://www.youtube.com/embed/FLwHvhUTthc?list=PLRqwX-V7Uu6aFlwukCmDf0-1-uSR7mklK\" \n",
       "width=\"560\" height=\"315\" frameborder=\"0\" allowfullscreen></iframe>"
      ],
      "text/plain": [
       "<IPython.core.display.HTML object>"
      ]
     },
     "metadata": {},
     "output_type": "display_data"
    }
   ],
   "source": [
    "%%html\n",
    "<iframe src=\"https://www.youtube.com/embed/FLwHvhUTthc?list=PLRqwX-V7Uu6aFlwukCmDf0-1-uSR7mklK\" \n",
    "width=\"560\" height=\"315\" frameborder=\"0\" allowfullscreen></iframe>"
   ]
  },
  {
   "cell_type": "markdown",
   "metadata": {},
   "source": [
    "# 8. Fractals\n",
    "### 8.1: Fractals - The Nature of Code"
   ]
  },
  {
   "cell_type": "code",
   "execution_count": 14,
   "metadata": {
    "collapsed": false
   },
   "outputs": [
    {
     "data": {
      "text/html": [
       "<iframe src=\"https://www.youtube.com/embed/-wiverLQl1Q?list=PLRqwX-V7Uu6aFlwukCmDf0-1-uSR7mklK\" \n",
       "width=\"560\" height=\"315\" frameborder=\"0\" allowfullscreen></iframe>"
      ],
      "text/plain": [
       "<IPython.core.display.HTML object>"
      ]
     },
     "metadata": {},
     "output_type": "display_data"
    }
   ],
   "source": [
    "%%html\n",
    "<iframe src=\"https://www.youtube.com/embed/-wiverLQl1Q?list=PLRqwX-V7Uu6aFlwukCmDf0-1-uSR7mklK\" \n",
    "width=\"560\" height=\"315\" frameborder=\"0\" allowfullscreen></iframe>"
   ]
  },
  {
   "cell_type": "markdown",
   "metadata": {},
   "source": [
    "### 8.2: Fractal Recursion - The Nature of Code"
   ]
  },
  {
   "cell_type": "code",
   "execution_count": 15,
   "metadata": {
    "collapsed": false
   },
   "outputs": [
    {
     "data": {
      "text/html": [
       "<iframe src=\"https://www.youtube.com/embed/s3Facu6ZVeA?list=PLRqwX-V7Uu6aFlwukCmDf0-1-uSR7mklK\" \n",
       "width=\"560\" height=\"315\" frameborder=\"0\" allowfullscreen></iframe>"
      ],
      "text/plain": [
       "<IPython.core.display.HTML object>"
      ]
     },
     "metadata": {},
     "output_type": "display_data"
    }
   ],
   "source": [
    "%%html\n",
    "<iframe src=\"https://www.youtube.com/embed/s3Facu6ZVeA?list=PLRqwX-V7Uu6aFlwukCmDf0-1-uSR7mklK\" \n",
    "width=\"560\" height=\"315\" frameborder=\"0\" allowfullscreen></iframe>"
   ]
  },
  {
   "cell_type": "markdown",
   "metadata": {},
   "source": [
    "```java\n",
    "// The Nature of Code\n",
    "// Daniel Shiffman\n",
    "// http://natureofcode.com\n",
    "\n",
    "// Simple Recursion\n",
    "\n",
    "void setup() {\n",
    "  size(640,360);  \n",
    "}\n",
    "\n",
    "void draw() {\n",
    "  background(255);\n",
    "  drawCircle(width/2,height/2,400); \n",
    "  noLoop();\n",
    "}\n",
    "\n",
    "// Recursive function\n",
    "void drawCircle(float x, float y, float r) {\n",
    "  stroke(0);\n",
    "  noFill();\n",
    "  ellipse(x, y, r, r);\n",
    "  if(r > 2) {\n",
    "    // Now we draw two more circles, one to the left\n",
    "    // and one to the right\n",
    "    drawCircle(x + r/2, y, r/2);\n",
    "    drawCircle(x - r/2, y, r/2);\n",
    "  }\n",
    "}\n",
    "```"
   ]
  },
  {
   "cell_type": "markdown",
   "metadata": {},
   "source": [
    "### 8.3: Fractal Recursion with ArrayList of Objects (Koch Curve) - The Nature of Code"
   ]
  },
  {
   "cell_type": "code",
   "execution_count": 16,
   "metadata": {
    "collapsed": false
   },
   "outputs": [
    {
     "data": {
      "text/html": [
       "<iframe src=\"https://www.youtube.com/embed/_BOtJncHCVA?list=PLRqwX-V7Uu6aFlwukCmDf0-1-uSR7mklK\" \n",
       "width=\"560\" height=\"315\" frameborder=\"0\" allowfullscreen></iframe>"
      ],
      "text/plain": [
       "<IPython.core.display.HTML object>"
      ]
     },
     "metadata": {},
     "output_type": "display_data"
    }
   ],
   "source": [
    "%%html\n",
    "<iframe src=\"https://www.youtube.com/embed/_BOtJncHCVA?list=PLRqwX-V7Uu6aFlwukCmDf0-1-uSR7mklK\" \n",
    "width=\"560\" height=\"315\" frameborder=\"0\" allowfullscreen></iframe>"
   ]
  },
  {
   "cell_type": "markdown",
   "metadata": {},
   "source": [
    "```java\n",
    "// Figure_8_14_Koch.pde\n",
    "\n",
    "// The Nature of Code\n",
    "// Daniel Shiffman\n",
    "// http://natureofcode.com\n",
    "\n",
    "// Koch Curve\n",
    "\n",
    "// Renders a simple fractal, the Koch snowflake\n",
    "// Each recursive level drawn in sequence\n",
    "\n",
    "ArrayList<KochLine> lines  ;   // A list to keep track of all the lines\n",
    "\n",
    "void setup() {\n",
    "  size(1820, 200);\n",
    "\n",
    "\n",
    "  smooth();\n",
    "}\n",
    "\n",
    "\n",
    "\n",
    "void draw() {\n",
    "  translate(10,0);\n",
    "  int spacing = 10;\n",
    "  int total = 5;\n",
    "\n",
    "  background(255);\n",
    "  float w = (1800-spacing*(total-1))/5;\n",
    "  for (int n = 0; n < total; n++) {\n",
    "    lines = new ArrayList<KochLine>();\n",
    "    PVector start = new PVector(0, height*2/3);\n",
    "    PVector end   = new PVector(w, height*2/3);\n",
    "    lines.add(new KochLine(start, end));\n",
    "    for (int i = 0; i < n; i++) {\n",
    "      generate();\n",
    "    }\n",
    "    strokeWeight(2);\n",
    "    for (KochLine l : lines) {\n",
    "      l.display();\n",
    "    }  \n",
    "    noFill();\n",
    "    strokeWeight(1);\n",
    "    stroke(127);\n",
    "    rect(0, 10, w,height-20);\n",
    "    translate(w+spacing, 0);\n",
    "  }\n",
    "  save(\"chapter08_14.png\");\n",
    "  noLoop();\n",
    "}\n",
    "\n",
    "void generate() {\n",
    "  ArrayList next = new ArrayList<KochLine>();    // Create emtpy list\n",
    "  for (KochLine l : lines) {\n",
    "    // Calculate 5 koch PVectors (done for us by the line object)\n",
    "    PVector a = l.kochA();                 \n",
    "    PVector b = l.kochB();\n",
    "    PVector c = l.kochC();\n",
    "    PVector d = l.kochD();\n",
    "    PVector e = l.kochE();\n",
    "    // Make line segments between all the PVectors and add them\n",
    "    next.add(new KochLine(a, b));\n",
    "    next.add(new KochLine(b, c));\n",
    "    next.add(new KochLine(c, d));\n",
    "    next.add(new KochLine(d, e));\n",
    "  }\n",
    "  lines = next;\n",
    "}\n",
    "```"
   ]
  },
  {
   "cell_type": "markdown",
   "metadata": {},
   "source": [
    "```java\n",
    "// KochLine.pde\n",
    "\n",
    "// The Nature of Code\n",
    "// Daniel Shiffman\n",
    "// http://natureofcode.com\n",
    "\n",
    "// Koch Curve\n",
    "\n",
    "// A class to describe one line segment in the fractal\n",
    "// Includes methods to calculate midPVectors along the line according to the Koch algorithm\n",
    "\n",
    "class KochLine {\n",
    "\n",
    "  // Two PVectors,\n",
    "  // a is the \"left\" PVector and \n",
    "  // b is the \"right PVector\n",
    "  PVector start;\n",
    "  PVector end;\n",
    "\n",
    "  KochLine(PVector a, PVector b) {\n",
    "    start = a.get();\n",
    "    end = b.get();\n",
    "  }\n",
    "\n",
    "  void display() {\n",
    "    stroke(0);\n",
    "    line(start.x, start.y, end.x, end.y);\n",
    "  }\n",
    "\n",
    "  PVector kochA() {\n",
    "    return start.get();\n",
    "  }\n",
    "\n",
    "\n",
    "  // This is easy, just 1/3 of the way\n",
    "  PVector kochB() {\n",
    "    PVector v = PVector.sub(end, start);\n",
    "    v.div(3);\n",
    "    v.add(start);\n",
    "    return v;\n",
    "  }    \n",
    "\n",
    "  // More complicated, have to use a little trig to figure out where this PVector is!\n",
    "  PVector kochC() {\n",
    "    PVector a = start.get(); // Start at the beginning\n",
    "    \n",
    "    PVector v = PVector.sub(end, start);\n",
    "    v.div(3);\n",
    "    a.add(v);  // Move to point B\n",
    "\n",
    "    rotate(v, -radians(60)); // Rotate 60 degrees\n",
    "    a.add(v);  // Move to point C\n",
    "\n",
    "    return a;\n",
    "  }    \n",
    "\n",
    "  // Easy, just 2/3 of the way\n",
    "  PVector kochD() {\n",
    "    PVector v = PVector.sub(end, start);\n",
    "    v.mult(2/3.0);\n",
    "    v.add(start);\n",
    "    return v;\n",
    "  }\n",
    "\n",
    "  PVector kochE() {\n",
    "    return end.get();\n",
    "  }\n",
    "}\n",
    "\n",
    "public void rotate(PVector v, float theta) {\n",
    "  float xTemp = v.x;\n",
    "  // Might need to check for rounding errors like with angleBetween function?\n",
    "  v.x = v.x*PApplet.cos(theta) - v.y*PApplet.sin(theta);\n",
    "  v.y = xTemp*PApplet.sin(theta) + v.y*PApplet.cos(theta);\n",
    "}\n",
    "```"
   ]
  },
  {
   "cell_type": "markdown",
   "metadata": {},
   "source": [
    "### 8.4: Recursion with Transformations - The Nature of Code"
   ]
  },
  {
   "cell_type": "code",
   "execution_count": 17,
   "metadata": {
    "collapsed": false
   },
   "outputs": [
    {
     "data": {
      "text/html": [
       "<iframe src=\"https://www.youtube.com/embed/RWAcbV4X7C8?list=PLRqwX-V7Uu6aFlwukCmDf0-1-uSR7mklK\" \n",
       "width=\"560\" height=\"315\" frameborder=\"0\" allowfullscreen></iframe>"
      ],
      "text/plain": [
       "<IPython.core.display.HTML object>"
      ]
     },
     "metadata": {},
     "output_type": "display_data"
    }
   ],
   "source": [
    "%%html\n",
    "<iframe src=\"https://www.youtube.com/embed/RWAcbV4X7C8?list=PLRqwX-V7Uu6aFlwukCmDf0-1-uSR7mklK\" \n",
    "width=\"560\" height=\"315\" frameborder=\"0\" allowfullscreen></iframe>"
   ]
  },
  {
   "cell_type": "markdown",
   "metadata": {},
   "source": [
    "```java\n",
    "// The Nature of Code\n",
    "// Daniel Shiffman\n",
    "// http://natureofcode.com\n",
    "\n",
    "// Recursive Tree\n",
    "// Renders a simple tree-like structure via recursion\n",
    "// Branching angle calculated as a function of horizontal mouse position\n",
    "\n",
    "float theta;   \n",
    "\n",
    "void setup() {\n",
    "  size(300, 200);\n",
    "  smooth();\n",
    "}\n",
    "\n",
    "void draw() {\n",
    "  background(255);\n",
    "  // Let's pick an angle 0 to 90 degrees based on the mouse position\n",
    "  theta = map(mouseX,0,width,0,PI/2);\n",
    "\n",
    "  // Start the tree from the bottom of the screen\n",
    "  translate(width/2, height);\n",
    "  stroke(0);\n",
    "  branch(60);\n",
    "}\n",
    "\n",
    "void branch(float len) {\n",
    "  // Each branch will be 2/3rds the size of the previous one\n",
    "\n",
    "  float sw = map(len,2,120,1,10);\n",
    "  strokeWeight(sw);\n",
    "      \n",
    "  line(0, 0, 0, -len);\n",
    "  // Move to the end of that line\n",
    "  translate(0, -len);\n",
    "\n",
    "  len *= 0.66;\n",
    "  // All recursive functions must have an exit condition!!!!\n",
    "  // Here, ours is when the length of the branch is 2 pixels or less\n",
    "  if (len > 2) {\n",
    "    pushMatrix();    // Save the current state of transformation (i.e. where are we now)\n",
    "    rotate(theta);   // Rotate by theta\n",
    "    branch(len);       // Ok, now call myself to draw two new branches!!\n",
    "    popMatrix();     // Whenever we get back here, we \"pop\" in order to restore the previous matrix state\n",
    "\n",
    "    // Repeat the same thing, only branch off to the \"left\" this time!\n",
    "    pushMatrix();\n",
    "    rotate(-theta);\n",
    "    branch(len);\n",
    "    popMatrix();\n",
    "  }\n",
    "}\n",
    "```"
   ]
  },
  {
   "cell_type": "markdown",
   "metadata": {},
   "source": [
    "### 8.5: L-Systems - The Nature of Code"
   ]
  },
  {
   "cell_type": "code",
   "execution_count": 18,
   "metadata": {
    "collapsed": false
   },
   "outputs": [
    {
     "data": {
      "text/html": [
       "<iframe src=\"https://www.youtube.com/embed/f6ra024-ASY?list=PLRqwX-V7Uu6aFlwukCmDf0-1-uSR7mklK\" \n",
       "width=\"560\" height=\"315\" frameborder=\"0\" allowfullscreen></iframe>"
      ],
      "text/plain": [
       "<IPython.core.display.HTML object>"
      ]
     },
     "metadata": {},
     "output_type": "display_data"
    }
   ],
   "source": [
    "%%html\n",
    "<iframe src=\"https://www.youtube.com/embed/f6ra024-ASY?list=PLRqwX-V7Uu6aFlwukCmDf0-1-uSR7mklK\" \n",
    "width=\"560\" height=\"315\" frameborder=\"0\" allowfullscreen></iframe>"
   ]
  },
  {
   "cell_type": "markdown",
   "metadata": {},
   "source": [
    "```java\n",
    "// The Nature of Code\n",
    "// Daniel Shiffman\n",
    "// http://natureofcode.com\n",
    "\n",
    "// L-System\n",
    "// Just demonstrating working with L-System strings\n",
    "// No drawing\n",
    "\n",
    "// Start with \"A\"\n",
    "String current = \"A\";\n",
    "// Number of  generations\n",
    "int count = 0;\n",
    "\n",
    "void setup() {\n",
    "  size(200, 200);\n",
    "  println(\"Generation \" + count + \": \" + current);\n",
    "}\n",
    "\n",
    "void draw() {\n",
    "  background(255);\n",
    "  fill(0);\n",
    "  text(\"Click mouse to generate\", 10, height-20);\n",
    "  noLoop();\n",
    "}\n",
    "\n",
    "void mousePressed() {\n",
    "  // A new StringBuffer for the next generation\n",
    "  StringBuffer next = new StringBuffer();\n",
    "  \n",
    "  // Look through the current String to replace according to L-System rules\n",
    "  for (int i = 0; i < current.length(); i++) {\n",
    "    char c = current.charAt(i);\n",
    "    if (c == 'A') {\n",
    "      // If we find A replace with AB\n",
    "      next.append(\"AB\");\n",
    "    }  else if (c == 'B') {\n",
    "      // If we find B replace with A\n",
    "      next.append(\"A\");\n",
    "    }\n",
    "  }\n",
    "  // The current String is now the next one\n",
    "  current = next.toString();\n",
    "  count++;\n",
    "  // Print to message console\n",
    "  println(\"Generation \" + count + \": \" + current);\n",
    "}\n",
    "```"
   ]
  },
  {
   "cell_type": "markdown",
   "metadata": {},
   "source": [
    "### 9.1: Genetic Algorithms and Evolutionary Computing - The Nature of Code"
   ]
  },
  {
   "cell_type": "code",
   "execution_count": 19,
   "metadata": {
    "collapsed": false
   },
   "outputs": [
    {
     "data": {
      "text/html": [
       "<iframe src=\"https://www.youtube.com/embed/6l6b78Y4V7Y?list=PLRqwX-V7Uu6aFlwukCmDf0-1-uSR7mklK\" \n",
       "width=\"560\" height=\"315\" frameborder=\"0\" allowfullscreen></iframe>"
      ],
      "text/plain": [
       "<IPython.core.display.HTML object>"
      ]
     },
     "metadata": {},
     "output_type": "display_data"
    }
   ],
   "source": [
    "%%html\n",
    "<iframe src=\"https://www.youtube.com/embed/6l6b78Y4V7Y?list=PLRqwX-V7Uu6aFlwukCmDf0-1-uSR7mklK\" \n",
    "width=\"560\" height=\"315\" frameborder=\"0\" allowfullscreen></iframe>"
   ]
  },
  {
   "cell_type": "code",
   "execution_count": 20,
   "metadata": {
    "collapsed": false
   },
   "outputs": [
    {
     "data": {
      "application/javascript": [
       "$.getScript('https://kmahelona.github.io/ipython_notebook_goodies/ipython_notebook_toc.js')"
      ],
      "text/plain": [
       "<IPython.core.display.Javascript object>"
      ]
     },
     "metadata": {},
     "output_type": "display_data"
    }
   ],
   "source": [
    "%%javascript\n",
    "$.getScript('https://kmahelona.github.io/ipython_notebook_goodies/ipython_notebook_toc.js')"
   ]
  }
 ],
 "metadata": {
  "kernelspec": {
   "display_name": "Python 2",
   "language": "python",
   "name": "python2"
  },
  "language_info": {
   "codemirror_mode": {
    "name": "ipython",
    "version": 2
   },
   "file_extension": ".py",
   "mimetype": "text/x-python",
   "name": "python",
   "nbconvert_exporter": "python",
   "pygments_lexer": "ipython2",
   "version": "2.7.11"
  }
 },
 "nbformat": 4,
 "nbformat_minor": 0
}

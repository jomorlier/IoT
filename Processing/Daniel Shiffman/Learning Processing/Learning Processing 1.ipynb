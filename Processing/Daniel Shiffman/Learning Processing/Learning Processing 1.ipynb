{
 "cells": [
  {
   "cell_type": "markdown",
   "metadata": {},
   "source": [
    "<font size='6'><b>Learning Processing</b></font><br><br>\n",
    "\n",
    "<font size='5'><b>Processing Tutorial by Daniel Shiffman</b></font>\n",
    "\n",
    "http://learningprocessing.com/\n",
    "\n",
    "<table style=\"border-style: hidden; border-collapse: collapse;\" width = \"80%\"> \n",
    "    <tr style=\"border-style: hidden; border-collapse: collapse;\">\n",
    "        <td width = 55% style=\"border-style: hidden; border-collapse: collapse;\">\n",
    "\n",
    "        </td>\n",
    "        <td width = 25%>\n",
    "        Collected by Seungchul Lee<br>iSystems (http://isystems.unist.ac.kr/)<br>UNIST\n",
    "        </td>\n",
    "    </tr>\n",
    "</table>\n",
    "\n",
    "Table of Contents\n",
    "<div id=\"toc\"></div>"
   ]
  },
  {
   "cell_type": "markdown",
   "metadata": {},
   "source": [
    "### 0.0: Introduction"
   ]
  },
  {
   "cell_type": "code",
   "execution_count": 27,
   "metadata": {
    "collapsed": false
   },
   "outputs": [
    {
     "data": {
      "text/html": [
       "<iframe src=\"https://www.youtube.com/embed/2VLaIr5Ckbs?list=PLRqwX-V7Uu6ZYJC7L-r6rX6utt6wwJCyi\" \n",
       "width=\"560\" height=\"315\" frameborder=\"0\" allowfullscreen></iframe>"
      ],
      "text/plain": [
       "<IPython.core.display.HTML object>"
      ]
     },
     "metadata": {},
     "output_type": "display_data"
    }
   ],
   "source": [
    "%%html\n",
    "<iframe src=\"https://www.youtube.com/embed/2VLaIr5Ckbs?list=PLRqwX-V7Uu6ZYJC7L-r6rX6utt6wwJCyi\" \n",
    "width=\"560\" height=\"315\" frameborder=\"0\" allowfullscreen></iframe>"
   ]
  },
  {
   "cell_type": "markdown",
   "metadata": {
    "collapsed": true
   },
   "source": [
    "### 0.1: Who are you? Who am I?"
   ]
  },
  {
   "cell_type": "code",
   "execution_count": 28,
   "metadata": {
    "collapsed": false
   },
   "outputs": [
    {
     "data": {
      "text/html": [
       "<iframe src=\"https://www.youtube.com/embed/bX1dtL_PZl4?list=PLRqwX-V7Uu6ZYJC7L-r6rX6utt6wwJCyi\" \n",
       "width=\"560\" height=\"315\" frameborder=\"0\" allowfullscreen></iframe>"
      ],
      "text/plain": [
       "<IPython.core.display.HTML object>"
      ]
     },
     "metadata": {},
     "output_type": "display_data"
    }
   ],
   "source": [
    "%%html\n",
    "<iframe src=\"https://www.youtube.com/embed/bX1dtL_PZl4?list=PLRqwX-V7Uu6ZYJC7L-r6rX6utt6wwJCyi\" \n",
    "width=\"560\" height=\"315\" frameborder=\"0\" allowfullscreen></iframe>"
   ]
  },
  {
   "cell_type": "markdown",
   "metadata": {
    "collapsed": true
   },
   "source": [
    "### 0.2: How and why you should learn programming?-Processing Tutorial"
   ]
  },
  {
   "cell_type": "code",
   "execution_count": 29,
   "metadata": {
    "collapsed": false
   },
   "outputs": [
    {
     "data": {
      "text/html": [
       "<iframe src=\"https://www.youtube.com/embed/qUVWM2Q4vAU?list=PLRqwX-V7Uu6ZYJC7L-r6rX6utt6wwJCyi\" \n",
       "width=\"560\" height=\"315\" frameborder=\"0\" allowfullscreen></iframe>"
      ],
      "text/plain": [
       "<IPython.core.display.HTML object>"
      ]
     },
     "metadata": {},
     "output_type": "display_data"
    }
   ],
   "source": [
    "%%html\n",
    "<iframe src=\"https://www.youtube.com/embed/qUVWM2Q4vAU?list=PLRqwX-V7Uu6ZYJC7L-r6rX6utt6wwJCyi\" \n",
    "width=\"560\" height=\"315\" frameborder=\"0\" allowfullscreen></iframe>"
   ]
  },
  {
   "cell_type": "markdown",
   "metadata": {
    "collapsed": true
   },
   "source": [
    "### 0.3: What is programming?-Processing Tutorial"
   ]
  },
  {
   "cell_type": "code",
   "execution_count": 30,
   "metadata": {
    "collapsed": false
   },
   "outputs": [
    {
     "data": {
      "text/html": [
       "<iframe src=\"https://www.youtube.com/embed/AImF__7FyzM?list=PLRqwX-V7Uu6ZYJC7L-r6rX6utt6wwJCyi\" \n",
       "width=\"560\" height=\"315\" frameborder=\"0\" allowfullscreen></iframe>"
      ],
      "text/plain": [
       "<IPython.core.display.HTML object>"
      ]
     },
     "metadata": {},
     "output_type": "display_data"
    }
   ],
   "source": [
    "%%html\n",
    "<iframe src=\"https://www.youtube.com/embed/AImF__7FyzM?list=PLRqwX-V7Uu6ZYJC7L-r6rX6utt6wwJCyi\" \n",
    "width=\"560\" height=\"315\" frameborder=\"0\" allowfullscreen></iframe>"
   ]
  },
  {
   "cell_type": "markdown",
   "metadata": {
    "collapsed": true
   },
   "source": [
    "### 0.4: What are some programming languages?-Processing Tutorial"
   ]
  },
  {
   "cell_type": "code",
   "execution_count": 31,
   "metadata": {
    "collapsed": false
   },
   "outputs": [
    {
     "data": {
      "text/html": [
       "<iframe src=\"https://www.youtube.com/embed/ktacm_VaF08?list=PLRqwX-V7Uu6ZYJC7L-r6rX6utt6wwJCyi\" \n",
       "width=\"560\" height=\"315\" frameborder=\"0\" allowfullscreen></iframe>"
      ],
      "text/plain": [
       "<IPython.core.display.HTML object>"
      ]
     },
     "metadata": {},
     "output_type": "display_data"
    }
   ],
   "source": [
    "%%html\n",
    "<iframe src=\"https://www.youtube.com/embed/ktacm_VaF08?list=PLRqwX-V7Uu6ZYJC7L-r6rX6utt6wwJCyi\" \n",
    "width=\"560\" height=\"315\" frameborder=\"0\" allowfullscreen></iframe>"
   ]
  },
  {
   "cell_type": "markdown",
   "metadata": {
    "collapsed": true
   },
   "source": [
    "### 0.5: Processing Examples-Processing Tutorial"
   ]
  },
  {
   "cell_type": "code",
   "execution_count": 32,
   "metadata": {
    "collapsed": false
   },
   "outputs": [
    {
     "data": {
      "text/html": [
       "<iframe src=\"https://www.youtube.com/embed/_F_qZBWmjyI?list=PLRqwX-V7Uu6ZYJC7L-r6rX6utt6wwJCyi\" \n",
       "width=\"560\" height=\"315\" frameborder=\"0\" allowfullscreen></iframe>"
      ],
      "text/plain": [
       "<IPython.core.display.HTML object>"
      ]
     },
     "metadata": {},
     "output_type": "display_data"
    }
   ],
   "source": [
    "%%html\n",
    "<iframe src=\"https://www.youtube.com/embed/_F_qZBWmjyI?list=PLRqwX-V7Uu6ZYJC7L-r6rX6utt6wwJCyi\" \n",
    "width=\"560\" height=\"315\" frameborder=\"0\" allowfullscreen></iframe>"
   ]
  },
  {
   "cell_type": "markdown",
   "metadata": {},
   "source": [
    "### 0.6: Overview of Topics - Processing Tutorial"
   ]
  },
  {
   "cell_type": "code",
   "execution_count": 33,
   "metadata": {
    "collapsed": false
   },
   "outputs": [
    {
     "data": {
      "text/html": [
       "<iframe src=\"https://www.youtube.com/embed/XNgfxOUoJ4g?list=PLRqwX-V7Uu6ZYJC7L-r6rX6utt6wwJCyi\" \n",
       "width=\"560\" height=\"315\" frameborder=\"0\" allowfullscreen></iframe>"
      ],
      "text/plain": [
       "<IPython.core.display.HTML object>"
      ]
     },
     "metadata": {},
     "output_type": "display_data"
    }
   ],
   "source": [
    "%%html\n",
    "<iframe src=\"https://www.youtube.com/embed/XNgfxOUoJ4g?list=PLRqwX-V7Uu6ZYJC7L-r6rX6utt6wwJCyi\" \n",
    "width=\"560\" height=\"315\" frameborder=\"0\" allowfullscreen></iframe>"
   ]
  },
  {
   "cell_type": "markdown",
   "metadata": {},
   "source": [
    "# 1. PIXCES\n",
    "### 1.1: Drawing with Pixels - Processing Tutorial"
   ]
  },
  {
   "cell_type": "code",
   "execution_count": 34,
   "metadata": {
    "collapsed": false
   },
   "outputs": [
    {
     "data": {
      "text/html": [
       "<iframe src=\"https://www.youtube.com/embed/videoseries?list=PLRqwX-V7Uu6bsRnSEJ9tRn4V_XCGXovs4\" \n",
       "width=\"560\" height=\"315\" frameborder=\"0\" allowfullscreen></iframe>"
      ],
      "text/plain": [
       "<IPython.core.display.HTML object>"
      ]
     },
     "metadata": {},
     "output_type": "display_data"
    }
   ],
   "source": [
    "%%html\n",
    "<iframe src=\"https://www.youtube.com/embed/videoseries?list=PLRqwX-V7Uu6bsRnSEJ9tRn4V_XCGXovs4\" \n",
    "width=\"560\" height=\"315\" frameborder=\"0\" allowfullscreen></iframe>"
   ]
  },
  {
   "cell_type": "markdown",
   "metadata": {},
   "source": [
    "# PROCESSING\n",
    "### 2.1: How to use Processing - Processing Tutorial "
   ]
  },
  {
   "cell_type": "code",
   "execution_count": 35,
   "metadata": {
    "collapsed": false
   },
   "outputs": [
    {
     "data": {
      "text/html": [
       "<iframe src=\"https://www.youtube.com/embed/5N31KNgOO0g?list=PLRqwX-V7Uu6Yo4VdQ4ZTtqRQ1AE4t_Ep9\" \n",
       "width=\"560\" height=\"315\" frameborder=\"0\" allowfullscreen></iframe>"
      ],
      "text/plain": [
       "<IPython.core.display.HTML object>"
      ]
     },
     "metadata": {},
     "output_type": "display_data"
    }
   ],
   "source": [
    "%%html\n",
    "<iframe src=\"https://www.youtube.com/embed/5N31KNgOO0g?list=PLRqwX-V7Uu6Yo4VdQ4ZTtqRQ1AE4t_Ep9\" \n",
    "width=\"560\" height=\"315\" frameborder=\"0\" allowfullscreen></iframe>"
   ]
  },
  {
   "cell_type": "markdown",
   "metadata": {},
   "source": [
    "```java\n",
    "//2.1 ex\n",
    "size(640, 360);\n",
    "line(100, 50, 600, 250);\n",
    "\n",
    "rext(100, 50, 20, 200);\n",
    "```"
   ]
  },
  {
   "cell_type": "markdown",
   "metadata": {},
   "source": [
    "### 2.2: RGB Color - Processing Tutorial "
   ]
  },
  {
   "cell_type": "code",
   "execution_count": 36,
   "metadata": {
    "collapsed": false
   },
   "outputs": [
    {
     "data": {
      "text/html": [
       "<iframe src=\"https://www.youtube.com/embed/n2oHuKG_BQc?list=PLRqwX-V7Uu6Yo4VdQ4ZTtqRQ1AE4t_Ep9\" \n",
       "width=\"560\" height=\"315\" frameborder=\"0\" allowfullscreen></iframe>"
      ],
      "text/plain": [
       "<IPython.core.display.HTML object>"
      ]
     },
     "metadata": {},
     "output_type": "display_data"
    }
   ],
   "source": [
    "%%html\n",
    "<iframe src=\"https://www.youtube.com/embed/n2oHuKG_BQc?list=PLRqwX-V7Uu6Yo4VdQ4ZTtqRQ1AE4t_Ep9\" \n",
    "width=\"560\" height=\"315\" frameborder=\"0\" allowfullscreen></iframe>"
   ]
  },
  {
   "cell_type": "markdown",
   "metadata": {},
   "source": [
    "```java\n",
    "size(640, 360);\n",
    "background(0, 255, 0);\n",
    "\n",
    "//TODO: fix this line, i don't like the design\n",
    "stroke(0, 0, 255);\n",
    "line(100, 50, 600, 250);\n",
    "\n",
    "//This will draw a green retangel\n",
    "stroke(0, 255, 0);\n",
    "fill(100);\n",
    "rect(100, 50, 20, 200);\n",
    "\n",
    "fill(255, 0, 0, 127);\n",
    "rect(150, 50, 100, 300);\n",
    "```"
   ]
  },
  {
   "cell_type": "markdown",
   "metadata": {},
   "source": [
    "# 3. INTERACTION\n",
    "### 3.1: Flow (setup and draw) - Processing Tutorial  "
   ]
  },
  {
   "cell_type": "code",
   "execution_count": 37,
   "metadata": {
    "collapsed": false
   },
   "outputs": [
    {
     "data": {
      "text/html": [
       "<iframe src=\"https://www.youtube.com/embed/o8dffrZ86gs?list=PLRqwX-V7Uu6by61pbhdvyEpIeymlmnXzD\" \n",
       "width=\"560\" height=\"315\" frameborder=\"0\" allowfullscreen></iframe>"
      ],
      "text/plain": [
       "<IPython.core.display.HTML object>"
      ]
     },
     "metadata": {},
     "output_type": "display_data"
    }
   ],
   "source": [
    "%%html\n",
    "<iframe src=\"https://www.youtube.com/embed/o8dffrZ86gs?list=PLRqwX-V7Uu6by61pbhdvyEpIeymlmnXzD\" \n",
    "width=\"560\" height=\"315\" frameborder=\"0\" allowfullscreen></iframe>"
   ]
  },
  {
   "cell_type": "markdown",
   "metadata": {},
   "source": [
    "```java\n",
    "void setup(){\n",
    "    //set the size of the window\n",
    "    size(640, 360);\n",
    "}\n",
    "\n",
    "void draw(){\n",
    "    //Background\n",
    "    background(50);\n",
    "    fill(150);\n",
    "    stroke(255);\n",
    "    rectMode(CENTER);\n",
    "    rect(320, 180, 100, 50);\n",
    "}\n",
    "```"
   ]
  },
  {
   "cell_type": "markdown",
   "metadata": {},
   "source": [
    "### 3.2: Built-in Variables (mouse X, mouse Y) - Processing Tutorial"
   ]
  },
  {
   "cell_type": "code",
   "execution_count": 38,
   "metadata": {
    "collapsed": false
   },
   "outputs": [
    {
     "data": {
      "text/html": [
       "<iframe src=\"https://www.youtube.com/embed/ibW4oA7-n8I?list=PLRqwX-V7Uu6by61pbhdvyEpIeymlmnXzD\" \n",
       "width=\"560\" height=\"315\" frameborder=\"0\" allowfullscreen></iframe>"
      ],
      "text/plain": [
       "<IPython.core.display.HTML object>"
      ]
     },
     "metadata": {},
     "output_type": "display_data"
    }
   ],
   "source": [
    "%%html\n",
    "<iframe src=\"https://www.youtube.com/embed/ibW4oA7-n8I?list=PLRqwX-V7Uu6by61pbhdvyEpIeymlmnXzD\" \n",
    "width=\"560\" height=\"315\" frameborder=\"0\" allowfullscreen></iframe>"
   ]
  },
  {
   "cell_type": "markdown",
   "metadata": {},
   "source": [
    "```java\n",
    "//3.2 ex1\n",
    "void setup(){\n",
    "    //set the size of the window\n",
    "    size(640, 360);\n",
    "    background(50);\n",
    "}\n",
    "\n",
    "void draw(){\n",
    "    fill(150);\n",
    "    stroke(255);\n",
    "    rectMode(CENTER);\n",
    "    rect(mouseX, mouseY, 100, 50);\n",
    "}\n",
    "```"
   ]
  },
  {
   "cell_type": "markdown",
   "metadata": {},
   "source": [
    "```java\n",
    "//3.2 ex2\n",
    "void setup(){\n",
    "    //set the size of the window\n",
    "    size(640, 360);\n",
    "    background(50);\n",
    "}\n",
    "\n",
    "void draw(){\n",
    "    stroke(255);\n",
    "    line(pmouseX, pmouseY, mouseX, mouseY);\n",
    "}\n",
    "```"
   ]
  },
  {
   "cell_type": "markdown",
   "metadata": {},
   "source": [
    "### 3.3: Events (mousePressed, keyPressed) - Processing Tutorial"
   ]
  },
  {
   "cell_type": "code",
   "execution_count": 39,
   "metadata": {
    "collapsed": false
   },
   "outputs": [
    {
     "data": {
      "text/html": [
       "<iframe src=\"https://www.youtube.com/embed/UvSjtiW-RH8?list=PLRqwX-V7Uu6by61pbhdvyEpIeymlmnXzD\" \n",
       "width=\"560\" height=\"315\" frameborder=\"0\" allowfullscreen></iframe>"
      ],
      "text/plain": [
       "<IPython.core.display.HTML object>"
      ]
     },
     "metadata": {},
     "output_type": "display_data"
    }
   ],
   "source": [
    "%%html\n",
    "<iframe src=\"https://www.youtube.com/embed/UvSjtiW-RH8?list=PLRqwX-V7Uu6by61pbhdvyEpIeymlmnXzD\" \n",
    "width=\"560\" height=\"315\" frameborder=\"0\" allowfullscreen></iframe>"
   ]
  },
  {
   "cell_type": "markdown",
   "metadata": {},
   "source": [
    "```java\n",
    "//3.3 ex\n",
    "void setup(){\n",
    "    //Set the size of the window\n",
    "    size(640, 360);\n",
    "    background(50);\n",
    "}\n",
    "\n",
    "void draw(){\n",
    "    stroke(255);\n",
    "    line(pmouseX, pmouseY, mouseX, mouseY);\n",
    "}\n",
    "\n",
    "void mousePressed(){\n",
    "    background(50);\n",
    "}\n",
    "\n",
    "void keyPressed(){\n",
    "    background(0, 255, 0);\n",
    "}\n",
    "```"
   ]
  },
  {
   "cell_type": "markdown",
   "metadata": {},
   "source": [
    "# 4. VARIABLES\n",
    "### 4.1: Variables - Processing Tutorial "
   ]
  },
  {
   "cell_type": "code",
   "execution_count": 40,
   "metadata": {
    "collapsed": false
   },
   "outputs": [
    {
     "data": {
      "text/html": [
       "<iframe src=\"https://www.youtube.com/embed/B-ycSR3ntik?list=PLRqwX-V7Uu6aFNOgoIMSbSYOkKNTo89uf\" \n",
       "width=\"560\" height=\"315\" frameborder=\"0\" allowfullscreen></iframe>"
      ],
      "text/plain": [
       "<IPython.core.display.HTML object>"
      ]
     },
     "metadata": {},
     "output_type": "display_data"
    }
   ],
   "source": [
    "%%html\n",
    "<iframe src=\"https://www.youtube.com/embed/B-ycSR3ntik?list=PLRqwX-V7Uu6aFNOgoIMSbSYOkKNTo89uf\" \n",
    "width=\"560\" height=\"315\" frameborder=\"0\" allowfullscreen></iframe>"
   ]
  },
  {
   "cell_type": "markdown",
   "metadata": {},
   "source": [
    "```java\n",
    "//4.1 ex\n",
    "int circleX;\n",
    "\n",
    "void setup(){\n",
    "    size(640, 360);\n",
    "    cicleX = 50;\n",
    "}\n",
    "\n",
    "void draw(){\n",
    "    background(50);\n",
    "    \n",
    "    fill(255);\n",
    "    elliose(circleX, 180, 24, 24);\n",
    "}\n",
    "```"
   ]
  },
  {
   "cell_type": "markdown",
   "metadata": {},
   "source": [
    "### 4.2: Incrementing a Variable - Processing Tutorial"
   ]
  },
  {
   "cell_type": "code",
   "execution_count": 41,
   "metadata": {
    "collapsed": false
   },
   "outputs": [
    {
     "data": {
      "text/html": [
       "<iframe src=\"https://www.youtube.com/embed/rZ36BzXFT6Q?list=PLRqwX-V7Uu6aFNOgoIMSbSYOkKNTo89uf\" \n",
       "width=\"560\" height=\"315\" frameborder=\"0\" allowfullscreen></iframe>"
      ],
      "text/plain": [
       "<IPython.core.display.HTML object>"
      ]
     },
     "metadata": {},
     "output_type": "display_data"
    }
   ],
   "source": [
    "%%html\n",
    "<iframe src=\"https://www.youtube.com/embed/rZ36BzXFT6Q?list=PLRqwX-V7Uu6aFNOgoIMSbSYOkKNTo89uf\" \n",
    "width=\"560\" height=\"315\" frameborder=\"0\" allowfullscreen></iframe>"
   ]
  },
  {
   "cell_type": "markdown",
   "metadata": {},
   "source": [
    "```java\n",
    "//4.2 ex\n",
    "float circleX;\n",
    "\n",
    "void setup() {\n",
    "    size(640, 360);\n",
    "    circleX = 50;\n",
    "}\n",
    "void draw(){\n",
    "    //Drawing stuff\n",
    "    background(50);\n",
    "    fill(255);\n",
    "    eclipse(circleX, 180, 24, 24);\n",
    "    \n",
    "    // Logic\n",
    "    circleX = circleX + 1;\n",
    "}\n",
    "```"
   ]
  },
  {
   "cell_type": "markdown",
   "metadata": {},
   "source": [
    "### 4.3: Using random() - Processing Tutorial"
   ]
  },
  {
   "cell_type": "code",
   "execution_count": 42,
   "metadata": {
    "collapsed": false
   },
   "outputs": [
    {
     "data": {
      "text/html": [
       "<iframe src=\"https://www.youtube.com/embed/50Rzvxvi8D0?list=PLRqwX-V7Uu6aFNOgoIMSbSYOkKNTo89uf\" \n",
       "width=\"560\" height=\"315\" frameborder=\"0\" allowfullscreen></iframe>"
      ],
      "text/plain": [
       "<IPython.core.display.HTML object>"
      ]
     },
     "metadata": {},
     "output_type": "display_data"
    }
   ],
   "source": [
    "%%html\n",
    "<iframe src=\"https://www.youtube.com/embed/50Rzvxvi8D0?list=PLRqwX-V7Uu6aFNOgoIMSbSYOkKNTo89uf\" \n",
    "width=\"560\" height=\"315\" frameborder=\"0\" allowfullscreen></iframe>"
   ]
  },
  {
   "cell_type": "markdown",
   "metadata": {},
   "source": [
    "```java\n",
    "//4.3 ex\n",
    "float circleX;\n",
    "float ci;\n",
    "\n",
    "void setup(){\n",
    "    size(640, 360);\n",
    "    circleX = width/2;\n",
    "}\n",
    "\n",
    "void draw(){\n",
    "    //Drawing stuff\n",
    "    background(50);\n",
    "    fill(255);\n",
    "    eclipse(circleX, 180, 24, 24);\n",
    "    \n",
    "    //Logic\n",
    "    circleX = circleX + random(-2, 2);\n",
    "}\n",
    "```"
   ]
  },
  {
   "cell_type": "markdown",
   "metadata": {},
   "source": [
    "### 4.4: Using println() - Processing Tutorial "
   ]
  },
  {
   "cell_type": "code",
   "execution_count": 43,
   "metadata": {
    "collapsed": false
   },
   "outputs": [
    {
     "data": {
      "text/html": [
       "<iframe src=\"https://www.youtube.com/embed/G9uDQBoHp08?list=PLRqwX-V7Uu6aFNOgoIMSbSYOkKNTo89uf\" \n",
       "width=\"560\" height=\"315\" frameborder=\"0\" allowfullscreen></iframe>"
      ],
      "text/plain": [
       "<IPython.core.display.HTML object>"
      ]
     },
     "metadata": {},
     "output_type": "display_data"
    }
   ],
   "source": [
    "%%html\n",
    "<iframe src=\"https://www.youtube.com/embed/G9uDQBoHp08?list=PLRqwX-V7Uu6aFNOgoIMSbSYOkKNTo89uf\" \n",
    "width=\"560\" height=\"315\" frameborder=\"0\" allowfullscreen></iframe>"
   ]
  },
  {
   "cell_type": "markdown",
   "metadata": {},
   "source": [
    "```java\n",
    "//4.4 ex\n",
    "float circleX = 0;\n",
    "\n",
    "void setup(){\n",
    "    size(640, 360);\n",
    "}\n",
    "\n",
    "void draw(){\n",
    "    background(50);\n",
    "    fill(255);\n",
    "    eclipse(circleX, 180, 24, 24);\n",
    "    \n",
    "    circleX = circlex + random(0,2);\n",
    "    println(\"CircleX: \" + circleX);\n",
    "}\n",
    "```"
   ]
  },
  {
   "cell_type": "markdown",
   "metadata": {},
   "source": [
    "# 5. CONDITIONALS\n",
    "### 5.1: Boolean Expressions - Processing Tutorial "
   ]
  },
  {
   "cell_type": "code",
   "execution_count": 44,
   "metadata": {
    "collapsed": false
   },
   "outputs": [
    {
     "data": {
      "text/html": [
       "<iframe src=\"https://www.youtube.com/embed/wsI6N9hfW7E?list=PLRqwX-V7Uu6YqykuLs00261JCqnL_NNZ_\" \n",
       "width=\"560\" height=\"315\" frameborder=\"0\" allowfullscreen></iframe>"
      ],
      "text/plain": [
       "<IPython.core.display.HTML object>"
      ]
     },
     "metadata": {},
     "output_type": "display_data"
    }
   ],
   "source": [
    "%%html\n",
    "<iframe src=\"https://www.youtube.com/embed/wsI6N9hfW7E?list=PLRqwX-V7Uu6YqykuLs00261JCqnL_NNZ_\" \n",
    "width=\"560\" height=\"315\" frameborder=\"0\" allowfullscreen></iframe>"
   ]
  },
  {
   "cell_type": "markdown",
   "metadata": {},
   "source": [
    "```java\n",
    "//5.1 ex\n",
    "void setup(){\n",
    "    size(640, 360);\n",
    "}\n",
    "\n",
    "void draw(){\n",
    "    background(50);\n",
    "    \n",
    "    if(mouseX > 200){\n",
    "        background(255, 100, 0);\n",
    "    }\n",
    "    \n",
    "    stroke(255);\n",
    "    line(200, 0, 200, height);\n",
    "    \n",
    "}\n",
    "```"
   ]
  },
  {
   "cell_type": "markdown",
   "metadata": {},
   "source": [
    "### 5.2: If, Else If, Else - Processing Tutorial"
   ]
  },
  {
   "cell_type": "code",
   "execution_count": 45,
   "metadata": {
    "collapsed": false
   },
   "outputs": [
    {
     "data": {
      "text/html": [
       "<iframe src=\"https://www.youtube.com/embed/mVq7Ms01RjA?list=PLRqwX-V7Uu6YqykuLs00261JCqnL_NNZ_\" \n",
       "width=\"560\" height=\"315\" frameborder=\"0\" allowfullscreen></iframe>"
      ],
      "text/plain": [
       "<IPython.core.display.HTML object>"
      ]
     },
     "metadata": {},
     "output_type": "display_data"
    }
   ],
   "source": [
    "%%html\n",
    "<iframe src=\"https://www.youtube.com/embed/mVq7Ms01RjA?list=PLRqwX-V7Uu6YqykuLs00261JCqnL_NNZ_\" \n",
    "width=\"560\" height=\"315\" frameborder=\"0\" allowfullscreen></iframe>"
   ]
  },
  {
   "cell_type": "markdown",
   "metadata": {},
   "source": [
    "```java\n",
    "//5.2 ex1\n",
    "void setup(){\n",
    "    size(640, 360);\n",
    "}\n",
    "\n",
    "void draw(){\n",
    "    background(0);\n",
    "    \n",
    "    if(mouseX > 100){\n",
    "        fill(255, 0, 0);\n",
    "        rect(300, 100, 50, 50);\n",
    "    }\n",
    "    \n",
    "    if(mouseX > 200){\n",
    "        fill(0, 255, 0);\n",
    "        rect(300, 300, 50, 50);\n",
    "    }\n",
    "    \n",
    "    stroke(255);\n",
    "    line(100, 0, 100, height);\n",
    "    \n",
    "    line(200, 0, 200, height);\n",
    "    \n",
    "}\n",
    "```"
   ]
  },
  {
   "cell_type": "markdown",
   "metadata": {},
   "source": [
    "```java\n",
    "//5.2 ex2\n",
    "void setup(){\n",
    "    size(640, 360);\n",
    "}\n",
    "\n",
    "void draw(){\n",
    "    background(0);\n",
    "    \n",
    "    if(mouseX > 500){\n",
    "        fill(255, 0, 0);\n",
    "        rect(300, 100, 50, 50);\n",
    "    }else if(mouseX > 400){\n",
    "        fill(0, 255, 0);\n",
    "        rect(300, 200, 50, 50);\n",
    "    }else if(mouseX > 300){\n",
    "        fill(0, 255, 0);\n",
    "        rect(100, 300, 50, 50);\n",
    "    }else if(mouseX > 200){\n",
    "        fill(0, 255, 0);\n",
    "        rect(300, 300, 50, 50);\n",
    "    }\n",
    "    \n",
    "    stroke(255);\n",
    "    line(100, 0, 100, height);  \n",
    "    line(200, 0, 200, height);\n",
    "    line(100, 0, 300, height);  \n",
    "    line(200, 0, 400, height);\n",
    "    line(100, 0, 500, height);  \n",
    "    \n",
    "}\n",
    "```"
   ]
  },
  {
   "cell_type": "markdown",
   "metadata": {},
   "source": [
    "### 5.3: Logical Operators: AND, OR - Processing Tutorial"
   ]
  },
  {
   "cell_type": "code",
   "execution_count": 46,
   "metadata": {
    "collapsed": false
   },
   "outputs": [
    {
     "data": {
      "text/html": [
       "<iframe src=\"https://www.youtube.com/embed/9857701OsDE?list=PLRqwX-V7Uu6YqykuLs00261JCqnL_NNZ_\" \n",
       "width=\"560\" height=\"315\" frameborder=\"0\" allowfullscreen></iframe>"
      ],
      "text/plain": [
       "<IPython.core.display.HTML object>"
      ]
     },
     "metadata": {},
     "output_type": "display_data"
    }
   ],
   "source": [
    "%%html\n",
    "<iframe src=\"https://www.youtube.com/embed/9857701OsDE?list=PLRqwX-V7Uu6YqykuLs00261JCqnL_NNZ_\" \n",
    "width=\"560\" height=\"315\" frameborder=\"0\" allowfullscreen></iframe>"
   ]
  },
  {
   "cell_type": "markdown",
   "metadata": {},
   "source": [
    "```java\n",
    "//5.3 ex\n",
    "void setup(){\n",
    "    size(640, 360);\n",
    "}\n",
    "\n",
    "void draw(){\n",
    "    background(0);\n",
    "    \n",
    "    if((((mouseX > 100) || (mouseX < 200)))){\n",
    "        background(255, 0, 0);\n",
    "    }\n",
    "    \n",
    "    stroke(255);\n",
    "    line(100, 0, 100, height);\n",
    "    line(200, 0, 200, height);\n",
    "    \n",
    "}\n",
    "```"
   ]
  },
  {
   "cell_type": "markdown",
   "metadata": {},
   "source": [
    "### 5.4: Boolean Variables - Processing Tutorial "
   ]
  },
  {
   "cell_type": "code",
   "execution_count": 47,
   "metadata": {
    "collapsed": false
   },
   "outputs": [
    {
     "data": {
      "text/html": [
       "<iframe src=\"https://www.youtube.com/embed/_NJqfZUQ3i4?list=PLRqwX-V7Uu6YqykuLs00261JCqnL_NNZ_\" \n",
       "width=\"560\" height=\"315\" frameborder=\"0\" allowfullscreen></iframe>"
      ],
      "text/plain": [
       "<IPython.core.display.HTML object>"
      ]
     },
     "metadata": {},
     "output_type": "display_data"
    }
   ],
   "source": [
    "%%html\n",
    "<iframe src=\"https://www.youtube.com/embed/_NJqfZUQ3i4?list=PLRqwX-V7Uu6YqykuLs00261JCqnL_NNZ_\" \n",
    "width=\"560\" height=\"315\" frameborder=\"0\" allowfullscreen></iframe>"
   ]
  },
  {
   "cell_type": "markdown",
   "metadata": {},
   "source": [
    "```java\n",
    "//5.4 ex\n",
    "boolean going = false;\n",
    "\n",
    "void setup(){\n",
    "    size(400, 300);\n",
    "}\n",
    "\n",
    "void draw(){\n",
    "    background(0);\n",
    "    fill(255);\n",
    "    \n",
    "    eclipse(x, 150, 24, 24);\n",
    "    if(going){\n",
    "        x = x + 2;\n",
    "    }\n",
    "}\n",
    "\n",
    "void mousePressed(){\n",
    "    /*\n",
    "    if(going){\n",
    "        going = false;\n",
    "    }else{\n",
    "        going  = true;\n",
    "    }\n",
    "    */\n",
    "    going = !going;\n",
    "}\n",
    "```"
   ]
  },
  {
   "cell_type": "markdown",
   "metadata": {},
   "source": [
    "### 5.5: The Bouncing Ball - Processing Tutorial\n",
    "\n",
    "http://learningprocessing.com/examples/chp05/example-05-06-bouncingball"
   ]
  },
  {
   "cell_type": "code",
   "execution_count": 48,
   "metadata": {
    "collapsed": false
   },
   "outputs": [
    {
     "data": {
      "text/html": [
       "<iframe src=\"https://www.youtube.com/embed/YIKRXl3wH8Y?list=PLRqwX-V7Uu6YqykuLs00261JCqnL_NNZ_\" \n",
       "width=\"560\" height=\"315\" frameborder=\"0\" allowfullscreen></iframe>"
      ],
      "text/plain": [
       "<IPython.core.display.HTML object>"
      ]
     },
     "metadata": {},
     "output_type": "display_data"
    }
   ],
   "source": [
    "%%html\n",
    "<iframe src=\"https://www.youtube.com/embed/YIKRXl3wH8Y?list=PLRqwX-V7Uu6YqykuLs00261JCqnL_NNZ_\" \n",
    "width=\"560\" height=\"315\" frameborder=\"0\" allowfullscreen></iframe>"
   ]
  },
  {
   "cell_type": "markdown",
   "metadata": {},
   "source": [
    "```java\n",
    "//5.5 ex\n",
    "float circleX;\n",
    "float xspeed = 10;\n",
    "\n",
    "\n",
    "void setup(){\n",
    "    size(640, 360);\n",
    "    circleX = 0;\n",
    "}\n",
    "\n",
    "void draw(){\n",
    "    background(51);\n",
    "    fill(102);\n",
    "    stroke(255);\n",
    "    eclipse(circleX, height/2, 32, 32);\n",
    "    \n",
    "    circleX = circleX + xspeed;\n",
    "    \n",
    "    if(circleX > width || circleX < 0){\n",
    "        //Turn around!\n",
    "        xspeed = xspeed * -1;\n",
    "        \n",
    "    }\n",
    "   \n",
    "}\n",
    "```"
   ]
  },
  {
   "cell_type": "code",
   "execution_count": 49,
   "metadata": {
    "collapsed": false
   },
   "outputs": [
    {
     "data": {
      "application/javascript": [
       "$.getScript('https://kmahelona.github.io/ipython_notebook_goodies/ipython_notebook_toc.js')"
      ],
      "text/plain": [
       "<IPython.core.display.Javascript object>"
      ]
     },
     "metadata": {},
     "output_type": "display_data"
    }
   ],
   "source": [
    "%%javascript\n",
    "$.getScript('https://kmahelona.github.io/ipython_notebook_goodies/ipython_notebook_toc.js')"
   ]
  }
 ],
 "metadata": {
  "kernelspec": {
   "display_name": "Python 2",
   "language": "python",
   "name": "python2"
  },
  "language_info": {
   "codemirror_mode": {
    "name": "ipython",
    "version": 2
   },
   "file_extension": ".py",
   "mimetype": "text/x-python",
   "name": "python",
   "nbconvert_exporter": "python",
   "pygments_lexer": "ipython2",
   "version": "2.7.11"
  }
 },
 "nbformat": 4,
 "nbformat_minor": 0
}

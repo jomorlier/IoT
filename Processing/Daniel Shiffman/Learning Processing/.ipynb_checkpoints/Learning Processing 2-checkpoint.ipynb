{
 "cells": [
  {
   "cell_type": "markdown",
   "metadata": {},
   "source": [
    "<font size='6'><b>Learning Processing</b></font><br><br>\n",
    "\n",
    "<font size='5'><b>Processing Tutorial by Daniel Shiffman</b></font>\n",
    "\n",
    "http://learningprocessing.com/\n",
    "\n",
    "<table style=\"border-style: hidden; border-collapse: collapse;\" width = \"80%\"> \n",
    "    <tr style=\"border-style: hidden; border-collapse: collapse;\">\n",
    "        <td width = 55% style=\"border-style: hidden; border-collapse: collapse;\">\n",
    "\n",
    "        </td>\n",
    "        <td width = 25%>\n",
    "        Collected by Seungchul Lee<br>iSystems (http://isystems.unist.ac.kr/)<br>UNIST\n",
    "        </td>\n",
    "    </tr>\n",
    "</table>\n",
    "\n",
    "Table of Contents\n",
    "<div id=\"toc\"></div>"
   ]
  },
  {
   "cell_type": "markdown",
   "metadata": {},
   "source": [
    "# 6. LOOPS\n",
    "### 6.1: While Loop - Processing Tutorial"
   ]
  },
  {
   "cell_type": "code",
   "execution_count": 8,
   "metadata": {
    "collapsed": false
   },
   "outputs": [
    {
     "data": {
      "text/html": [
       "<iframe  src=\"https://www.youtube.com/embed/RtAPBvz6k0Y?list=PLRqwX-V7Uu6bm-3M4Wntd4yYZGKwiKfrQ\" \n",
       "width=\"560\" height=\"315\" frameborder=\"0\" allowfullscreen></iframe>"
      ],
      "text/plain": [
       "<IPython.core.display.HTML object>"
      ]
     },
     "metadata": {},
     "output_type": "display_data"
    }
   ],
   "source": [
    "%%html\n",
    "<iframe  src=\"https://www.youtube.com/embed/RtAPBvz6k0Y?list=PLRqwX-V7Uu6bm-3M4Wntd4yYZGKwiKfrQ\" \n",
    "width=\"560\" height=\"315\" frameborder=\"0\" allowfullscreen></iframe>"
   ]
  },
  {
   "cell_type": "markdown",
   "metadata": {},
   "source": [
    "```Java\n",
    "// Example 6-3: While loop\n",
    "\n",
    "size(200, 200);\n",
    "background(255);\n",
    "\n",
    "int y = 80;       // Vertical location of each line\n",
    "int x = 50;       // Initial horizontal location for first line\n",
    "int spacing = 10; // How far apart is each line\n",
    "int len = 20;     // Length of each line\n",
    "\n",
    "// A variable to mark where the legs end.\n",
    "int endLegs = 150; \n",
    "stroke(0);\n",
    "\n",
    "// Draw each leg inside a while loop.\n",
    "while (x <= endLegs) { \n",
    "  line (x, y, x, y + len);\n",
    "  x = x + spacing;\n",
    "}\n",
    "```"
   ]
  },
  {
   "cell_type": "markdown",
   "metadata": {},
   "source": [
    "### 6.2: Two Loops / Grid Exercise - Processing Tutorial"
   ]
  },
  {
   "cell_type": "code",
   "execution_count": 9,
   "metadata": {
    "collapsed": false
   },
   "outputs": [
    {
     "data": {
      "text/html": [
       "<iframe src=\"https://www.youtube.com/embed/esKLU3dJo70?list=PLRqwX-V7Uu6bm-3M4Wntd4yYZGKwiKfrQ\" \n",
       "width=\"560\" height=\"315\" frameborder=\"0\" allowfullscreen></iframe>"
      ],
      "text/plain": [
       "<IPython.core.display.HTML object>"
      ]
     },
     "metadata": {},
     "output_type": "display_data"
    }
   ],
   "source": [
    "%%html\n",
    "<iframe src=\"https://www.youtube.com/embed/esKLU3dJo70?list=PLRqwX-V7Uu6bm-3M4Wntd4yYZGKwiKfrQ\" \n",
    "width=\"560\" height=\"315\" frameborder=\"0\" allowfullscreen></iframe>"
   ]
  },
  {
   "cell_type": "markdown",
   "metadata": {},
   "source": [
    "### 6.3: For Loop - Processing Tutorial"
   ]
  },
  {
   "cell_type": "code",
   "execution_count": 10,
   "metadata": {
    "collapsed": false
   },
   "outputs": [
    {
     "data": {
      "text/html": [
       "<iframe src=\"https://www.youtube.com/embed/h4ApLHe8tbk?list=PLRqwX-V7Uu6bm-3M4Wntd4yYZGKwiKfrQ\" \n",
       "width=\"560\" height=\"315\" frameborder=\"0\" allowfullscreen></iframe>"
      ],
      "text/plain": [
       "<IPython.core.display.HTML object>"
      ]
     },
     "metadata": {},
     "output_type": "display_data"
    }
   ],
   "source": [
    "%%html\n",
    "<iframe src=\"https://www.youtube.com/embed/h4ApLHe8tbk?list=PLRqwX-V7Uu6bm-3M4Wntd4yYZGKwiKfrQ\" \n",
    "width=\"560\" height=\"315\" frameborder=\"0\" allowfullscreen></iframe>"
   ]
  },
  {
   "cell_type": "markdown",
   "metadata": {},
   "source": [
    "``` java\n",
    "// Example 6-6: Legs with a for loop\n",
    "\n",
    "size(480, 270);\n",
    "background(255);\n",
    "\n",
    "int y = 80;       // Vertical location of each line\n",
    "int spacing = 10; // How far apart is each line\n",
    "int len = 20;     // Length of each line\n",
    "\n",
    "// Translation of the legs while loop to a for loop.\n",
    "for (int x = 50; x <= 150; x += spacing) { \n",
    "  line(x, y, x, y + len);\n",
    "}\n",
    "```"
   ]
  },
  {
   "cell_type": "markdown",
   "metadata": {},
   "source": [
    "### 6.4: Variable Scope - Processing Tutorial"
   ]
  },
  {
   "cell_type": "code",
   "execution_count": 11,
   "metadata": {
    "collapsed": false,
    "scrolled": true
   },
   "outputs": [
    {
     "data": {
      "text/html": [
       "<iframe src=\"https://www.youtube.com/embed/pC7RUmHL2KY?list=PLRqwX-V7Uu6bm-3M4Wntd4yYZGKwiKfrQ\" \n",
       " width=\"560\" height=\"315\" frameborder=\"0\" allowfullscreen></iframe>"
      ],
      "text/plain": [
       "<IPython.core.display.HTML object>"
      ]
     },
     "metadata": {},
     "output_type": "display_data"
    }
   ],
   "source": [
    "%%html\n",
    "<iframe src=\"https://www.youtube.com/embed/pC7RUmHL2KY?list=PLRqwX-V7Uu6bm-3M4Wntd4yYZGKwiKfrQ\" \n",
    " width=\"560\" height=\"315\" frameborder=\"0\" allowfullscreen></iframe>"
   ]
  },
  {
   "cell_type": "markdown",
   "metadata": {},
   "source": [
    "```java\n",
    "// Example 6-7: Local variables\n",
    "\n",
    "void setup() {\n",
    "  size(480, 270);\n",
    "  // x is not available! It is local to the draw() block of code.\n",
    "}\n",
    "\n",
    "void draw() {\n",
    "  background(0);\n",
    "  int x = 0;\n",
    "  // x is available! Since it is declared within the draw() block of code, it is available here. \n",
    "  // Notice, however, that it is not available inside draw() above where it is declared. \n",
    "  // Also, it is available inside the while block of code because while is inside of draw().\n",
    "  while (x < width) {\n",
    "    stroke(255);\n",
    "    line(x,0,x,height);\n",
    "    x += 15;\n",
    "  }\n",
    "}\n",
    "\n",
    "void mousePressed() {\n",
    "  // x is not available! It is local to the draw( ) block of code.\n",
    "  println( \" The mouse was pressed! \" );\n",
    "}\n",
    "```"
   ]
  },
  {
   "cell_type": "markdown",
   "metadata": {},
   "source": [
    "### 6.5: Loop vs. Draw - Processing Tutorial"
   ]
  },
  {
   "cell_type": "code",
   "execution_count": 12,
   "metadata": {
    "collapsed": false
   },
   "outputs": [
    {
     "data": {
      "text/html": [
       "<iframe src=\"https://www.youtube.com/embed/Z8s-7beNP1c?list=PLRqwX-V7Uu6bm-3M4Wntd4yYZGKwiKfrQ\" \n",
       "width=\"560\" height=\"315\"  frameborder=\"0\" allowfullscreen></iframe>"
      ],
      "text/plain": [
       "<IPython.core.display.HTML object>"
      ]
     },
     "metadata": {},
     "output_type": "display_data"
    }
   ],
   "source": [
    "%%html\n",
    "<iframe src=\"https://www.youtube.com/embed/Z8s-7beNP1c?list=PLRqwX-V7Uu6bm-3M4Wntd4yYZGKwiKfrQ\" \n",
    "width=\"560\" height=\"315\"  frameborder=\"0\" allowfullscreen></iframe>"
   ]
  },
  {
   "cell_type": "markdown",
   "metadata": {},
   "source": [
    "``` java\n",
    "// Example 6-8: Lines one at a time\n",
    "\n",
    " // No for loop here. Instead, a global variable.\n",
    "int y = 0;\n",
    "\n",
    "void setup() {\n",
    "  size(480, 270);\n",
    "  background(255);\n",
    "  // Slowing down the frame rate so we can easily see the effect.\n",
    "  frameRate(5); \n",
    "}\n",
    "\n",
    "void draw() {\n",
    "  // Draw a line\n",
    "  stroke(0);\n",
    "  // Only one line is drawn each time through draw().\n",
    "  line(0,y,width,y); \n",
    "  // Increment y\n",
    "  y += 10;\n",
    "  \n",
    "  // Reset y back to 0 when it gets to the bottom of window\n",
    "  if (y > height) {\n",
    "    y = 0;\n",
    "  }\n",
    "}\n",
    "```"
   ]
  },
  {
   "cell_type": "markdown",
   "metadata": {},
   "source": [
    "### 6.6: Nested Loops - Processing Tutorial"
   ]
  },
  {
   "cell_type": "code",
   "execution_count": 13,
   "metadata": {
    "collapsed": false,
    "scrolled": false
   },
   "outputs": [
    {
     "data": {
      "text/html": [
       "<iframe  src=\"https://www.youtube.com/embed/H7frvcAHXps?list=PLRqwX-V7Uu6bm-3M4Wntd4yYZGKwiKfrQ\" \n",
       "width=\"560\" height=\"315\" frameborder=\"0\" allowfullscreen></iframe>"
      ],
      "text/plain": [
       "<IPython.core.display.HTML object>"
      ]
     },
     "metadata": {},
     "output_type": "display_data"
    }
   ],
   "source": [
    "%%html\n",
    "<iframe  src=\"https://www.youtube.com/embed/H7frvcAHXps?list=PLRqwX-V7Uu6bm-3M4Wntd4yYZGKwiKfrQ\" \n",
    "width=\"560\" height=\"315\" frameborder=\"0\" allowfullscreen></iframe>"
   ]
  },
  {
   "cell_type": "markdown",
   "metadata": {},
   "source": [
    "```java\n",
    "\n",
    "```"
   ]
  },
  {
   "cell_type": "markdown",
   "metadata": {},
   "source": [
    "# 7. FUNCTIONS\n",
    "### 7.1: Introduction to Functions and Objects - Processing Tutorial"
   ]
  },
  {
   "cell_type": "code",
   "execution_count": 14,
   "metadata": {
    "collapsed": false,
    "scrolled": true
   },
   "outputs": [
    {
     "data": {
      "text/html": [
       "<iframe src=\"https://www.youtube.com/embed/XCu7JSkgl04?list=PLRqwX-V7Uu6ajGB2OI3hl5DZsD1Fw1WzR\" \n",
       "width=\"560\" height=\"315\"  frameborder=\"0\" allowfullscreen></iframe>"
      ],
      "text/plain": [
       "<IPython.core.display.HTML object>"
      ]
     },
     "metadata": {},
     "output_type": "display_data"
    }
   ],
   "source": [
    "%%html\n",
    "<iframe src=\"https://www.youtube.com/embed/XCu7JSkgl04?list=PLRqwX-V7Uu6ajGB2OI3hl5DZsD1Fw1WzR\" \n",
    "width=\"560\" height=\"315\"  frameborder=\"0\" allowfullscreen></iframe>"
   ]
  },
  {
   "cell_type": "markdown",
   "metadata": {},
   "source": [
    "### 7.2: Functions Basics - Processing Tutorial"
   ]
  },
  {
   "cell_type": "code",
   "execution_count": 15,
   "metadata": {
    "collapsed": false
   },
   "outputs": [
    {
     "data": {
      "text/html": [
       "<iframe src=\"https://www.youtube.com/embed/zBo2D3Myo6Q?list=PLRqwX-V7Uu6ajGB2OI3hl5DZsD1Fw1WzR\" \n",
       "width=\"560\" height=\"315\"  frameborder=\"0\" allowfullscreen></iframe>"
      ],
      "text/plain": [
       "<IPython.core.display.HTML object>"
      ]
     },
     "metadata": {},
     "output_type": "display_data"
    }
   ],
   "source": [
    "%%html\n",
    "<iframe src=\"https://www.youtube.com/embed/zBo2D3Myo6Q?list=PLRqwX-V7Uu6ajGB2OI3hl5DZsD1Fw1WzR\" \n",
    "width=\"560\" height=\"315\"  frameborder=\"0\" allowfullscreen></iframe>"
   ]
  },
  {
   "cell_type": "markdown",
   "metadata": {},
   "source": [
    "```java\n",
    "// Example 7-2: Calling a function\n",
    "\n",
    "void setup() {\n",
    " size(100,100);\n",
    "}\n",
    "\n",
    "void draw() {\n",
    "  background(255);\n",
    "  drawBlackCircle();\n",
    "}\n",
    "\n",
    "void drawBlackCircle() {\n",
    "  fill(0);\n",
    "  ellipse(50,50,20,20);\n",
    "}\n",
    "\n",
    "```"
   ]
  },
  {
   "cell_type": "markdown",
   "metadata": {},
   "source": [
    "### 7.3: Modularity with Functions - Processing Tutorial"
   ]
  },
  {
   "cell_type": "code",
   "execution_count": 16,
   "metadata": {
    "collapsed": false
   },
   "outputs": [
    {
     "data": {
      "text/html": [
       "<iframe src=\"https://www.youtube.com/embed/j_XyeWg_3EE?list=PLRqwX-V7Uu6ajGB2OI3hl5DZsD1Fw1WzR\" \n",
       "width=\"560\" height=\"315\"  frameborder=\"0\" allowfullscreen></iframe>"
      ],
      "text/plain": [
       "<IPython.core.display.HTML object>"
      ]
     },
     "metadata": {},
     "output_type": "display_data"
    }
   ],
   "source": [
    "%%html\n",
    "<iframe src=\"https://www.youtube.com/embed/j_XyeWg_3EE?list=PLRqwX-V7Uu6ajGB2OI3hl5DZsD1Fw1WzR\" \n",
    "width=\"560\" height=\"315\"  frameborder=\"0\" allowfullscreen></iframe>"
   ]
  },
  {
   "cell_type": "markdown",
   "metadata": {},
   "source": [
    "```java\n",
    "// Example 7-3: Bouncing ball with functions\n",
    "\n",
    "// Declare all global variables (stays the same)\n",
    "int x = 0;\n",
    "int speed = 1;\n",
    "\n",
    "// Setup does not change\n",
    "void setup() {\n",
    "  size(480, 270);\n",
    "}\n",
    "\n",
    "void draw() {\n",
    "  background(255);\n",
    "  // Instead of writing out all the code about the ball is draw(), I \n",
    "  // simply call three functions. How do I know the names of these \n",
    "  // functions? I made them up!\n",
    "  move(); \n",
    "  bounce();\n",
    "  display();\n",
    "}\n",
    "\n",
    "// Where should functions be placed?\n",
    "// You can define your functions anywhere in the code \n",
    "// outside of setup() and draw(). However, the convention \n",
    "// is to place your function definitions below draw().\n",
    "\n",
    "// A function to move the ball\n",
    "void move() { \n",
    "  // Change the x location by speed\n",
    "  x = x + speed;\n",
    "}\n",
    "\n",
    "// A function to bounce the ball\n",
    "void bounce() {\n",
    "  // If we’ve reached an edge, reverse speed\n",
    "  if ((x > width) || (x < 0)) {\n",
    "    speed = speed * - 1;\n",
    "  }\n",
    "}\n",
    "\n",
    "// A function to display the ball\n",
    "void display() {\n",
    "  stroke(0);\n",
    "  fill(175);\n",
    "  ellipse(x, height/2, 32, 32);\n",
    "}\n",
    "```"
   ]
  },
  {
   "cell_type": "markdown",
   "metadata": {},
   "source": [
    "### 7.4: Reusability with Functions - Processing Tutorial"
   ]
  },
  {
   "cell_type": "code",
   "execution_count": 17,
   "metadata": {
    "collapsed": false
   },
   "outputs": [
    {
     "data": {
      "text/html": [
       "<iframe src=\"https://www.youtube.com/embed/b9AYvekwKIg?list=PLRqwX-V7Uu6ajGB2OI3hl5DZsD1Fw1WzR\" \n",
       "width=\"560\" height=\"315\" frameborder=\"0\" allowfullscreen></iframe>"
      ],
      "text/plain": [
       "<IPython.core.display.HTML object>"
      ]
     },
     "metadata": {},
     "output_type": "display_data"
    }
   ],
   "source": [
    "%%html\n",
    "<iframe src=\"https://www.youtube.com/embed/b9AYvekwKIg?list=PLRqwX-V7Uu6ajGB2OI3hl5DZsD1Fw1WzR\" \n",
    "width=\"560\" height=\"315\" frameborder=\"0\" allowfullscreen></iframe>"
   ]
  },
  {
   "cell_type": "markdown",
   "metadata": {},
   "source": [
    "```java\n",
    "// Example 7-5: Zoog with functions\n",
    "\n",
    "float x = 240;\n",
    "float y = 180;\n",
    "float w = 60;\n",
    "float h = 60;\n",
    "float eyeSize = 16;\n",
    "\n",
    "void setup() {\n",
    "  size(480, 270);\n",
    "}\n",
    "\n",
    "void draw() {\n",
    "  background(255); // Draw a white background\n",
    "\n",
    "  // A color based on distance from the mouse\n",
    "  float d = dist(x, y, mouseX, mouseY);\n",
    "  color c = color(d);\n",
    "\n",
    "  // mouseX position determines speed factor for moveZoog function\n",
    "  float factor = constrain(mouseX/10, 0, 5);\n",
    "\n",
    "  // The code for changing the variables associated \n",
    "  // with Zoog and displaying Zoog is moved \n",
    "  // outside of draw() and into functions called here. \n",
    "  // The functions are given arguments, such \n",
    "  // as \"Jiggle Zoog by the following factor\"\n",
    "  // and \"draw Zoog with the following eye color.\"\n",
    "  jiggleZoog(factor);\n",
    "  drawZoog(c);\n",
    "}\n",
    "\n",
    "void jiggleZoog(float speed) {\n",
    "  // Change the x and y location of Zoog randomly\n",
    "  x = x + random(-1, 1)*speed;\n",
    "  y = y + random(-1, 1)*speed;\n",
    "  // Constrain Zoog to window\n",
    "  x = constrain(x, 0, width);\n",
    "  y = constrain(y, 0, height);\n",
    "}\n",
    "\n",
    "void drawZoog(color eyeColor) {\n",
    "  // Set ellipses and rects to CENTER mode\n",
    "  ellipseMode(CENTER);\n",
    "  rectMode(CENTER);\n",
    "  // Draw Zoog's arms with a for loop\n",
    "  for (float i = y - h/3; i < y + h/2; i += 10) {\n",
    "    stroke(0);\n",
    "    line(x - w/4, i, x + w/4, i);\n",
    "  }\n",
    "  // Draw Zoog's body\n",
    "  stroke(0);\n",
    "  fill(175);\n",
    "  rect(x, y, w/6, h);\n",
    "  // Draw Zoog's head\n",
    "  stroke(0);\n",
    "  fill(255);\n",
    "  ellipse(x, y - h, w, h);\n",
    "  // Draw Zoog's eyes\n",
    "  fill(eyeColor);\n",
    "  ellipse(x - w/3, y - h, eyeSize, eyeSize*2);\n",
    "  ellipse(x + w/3, y - h, eyeSize, eyeSize*2);\n",
    "  // Draw Zoog's legs\n",
    "  stroke(0);\n",
    "  line(x - w/12, y + h/2, x - w/4, y + h/2 + 10);\n",
    "  line(x + w/12, y + h/2, x + w/4, y + h/2 + 10);\n",
    "}\n",
    "```"
   ]
  },
  {
   "cell_type": "markdown",
   "metadata": {},
   "source": [
    "# 8. OBJECTS\n",
    "### 8.1: What is Object-Oriented Programming (OOP)? - Processing Tutorial"
   ]
  },
  {
   "cell_type": "code",
   "execution_count": 18,
   "metadata": {
    "collapsed": false,
    "scrolled": true
   },
   "outputs": [
    {
     "data": {
      "text/html": [
       "<iframe src=\"https://www.youtube.com/embed/YcbcfkLzgvs?list=PLRqwX-V7Uu6bb7z2IJaTlzwzIg_5yvL4i\"\n",
       "width=\"560\" height=\"315\"frameborder=\"0\" allowfullscreen></iframe>"
      ],
      "text/plain": [
       "<IPython.core.display.HTML object>"
      ]
     },
     "metadata": {},
     "output_type": "display_data"
    }
   ],
   "source": [
    "%%html\n",
    "<iframe src=\"https://www.youtube.com/embed/YcbcfkLzgvs?list=PLRqwX-V7Uu6bb7z2IJaTlzwzIg_5yvL4i\"\n",
    "width=\"560\" height=\"315\"frameborder=\"0\" allowfullscreen></iframe>"
   ]
  },
  {
   "cell_type": "markdown",
   "metadata": {},
   "source": [
    "### 8.2: Defining a Class Part I - Processing Tutorial"
   ]
  },
  {
   "cell_type": "code",
   "execution_count": 19,
   "metadata": {
    "collapsed": false,
    "scrolled": true
   },
   "outputs": [
    {
     "data": {
      "text/html": [
       "<iframe  src=\"https://www.youtube.com/embed/lmgcMPRa1qw?list=PLRqwX-V7Uu6bb7z2IJaTlzwzIg_5yvL4i\" \n",
       "width=\"560\" height=\"315\" frameborder=\"0\" allowfullscreen></iframe>"
      ],
      "text/plain": [
       "<IPython.core.display.HTML object>"
      ]
     },
     "metadata": {},
     "output_type": "display_data"
    }
   ],
   "source": [
    "%%html\n",
    "<iframe  src=\"https://www.youtube.com/embed/lmgcMPRa1qw?list=PLRqwX-V7Uu6bb7z2IJaTlzwzIg_5yvL4i\" \n",
    "width=\"560\" height=\"315\" frameborder=\"0\" allowfullscreen></iframe>"
   ]
  },
  {
   "cell_type": "markdown",
   "metadata": {},
   "source": [
    "```java\n",
    "// Example 8-1: A Car class and a Car object\n",
    "\n",
    "Car myCar; // Declare car object as a globle variable.\n",
    "\n",
    "void setup() {\n",
    "  size(480, 270);\n",
    "  // Initialize car object in setup() by calling constructor.\n",
    "  myCar = new Car();\n",
    "}\n",
    "\n",
    "void draw() {\n",
    "  background(255);\n",
    "  // Operate Car object in draw() by calling \n",
    "  // object methods using the dot syntax.\n",
    "  myCar.move(); \n",
    "  myCar.display();\n",
    "}\n",
    "\n",
    "// Define a class outside of setup and draw.\n",
    "class Car { \n",
    "  // Variables.\n",
    "  color c; \n",
    "  float xpos;\n",
    "  float ypos;\n",
    "  float xspeed;\n",
    "\n",
    "  // A constructor.\n",
    "  Car() { \n",
    "    c = color(175);\n",
    "    xpos = width/2;\n",
    "    ypos = height/2;\n",
    "    xspeed = 1;\n",
    "  }\n",
    "\n",
    "  // Function.\n",
    "  void display() { \n",
    "    // The car is just a square\n",
    "    rectMode(CENTER);\n",
    "    stroke(0);\n",
    "    fill(c);\n",
    "    rect(xpos, ypos, 20, 10);\n",
    "  }\n",
    "\n",
    "  // Function.  \n",
    "  void move() { \n",
    "    xpos = xpos + xspeed;\n",
    "    if (xpos > width) {\n",
    "      xpos = 0;\n",
    "    }\n",
    "  }\n",
    "}\n",
    "```"
   ]
  },
  {
   "cell_type": "markdown",
   "metadata": {},
   "source": [
    "### 8.3: Defining a Class Part II - Processing Tutorial"
   ]
  },
  {
   "cell_type": "code",
   "execution_count": 20,
   "metadata": {
    "collapsed": false
   },
   "outputs": [
    {
     "data": {
      "text/html": [
       "<iframe src=\"https://www.youtube.com/embed/XwfOVFelLoo?list=PLRqwX-V7Uu6bb7z2IJaTlzwzIg_5yvL4i\" \n",
       "width=\"560\" height=\"315\"  frameborder=\"0\" allowfullscreen></iframe>"
      ],
      "text/plain": [
       "<IPython.core.display.HTML object>"
      ]
     },
     "metadata": {},
     "output_type": "display_data"
    }
   ],
   "source": [
    "%%html\n",
    "<iframe src=\"https://www.youtube.com/embed/XwfOVFelLoo?list=PLRqwX-V7Uu6bb7z2IJaTlzwzIg_5yvL4i\" \n",
    "width=\"560\" height=\"315\"  frameborder=\"0\" allowfullscreen></iframe>"
   ]
  },
  {
   "cell_type": "markdown",
   "metadata": {},
   "source": [
    "### 8.4: Constructor Arguments - Processing Tutorial"
   ]
  },
  {
   "cell_type": "code",
   "execution_count": 21,
   "metadata": {
    "collapsed": false
   },
   "outputs": [
    {
     "data": {
      "text/html": [
       "<iframe src=\"https://www.youtube.com/embed/NrwaKOsplZk?list=PLRqwX-V7Uu6bb7z2IJaTlzwzIg_5yvL4i\" \n",
       "width=\"560\" height=\"315\" frameborder=\"0\" allowfullscreen></iframe>"
      ],
      "text/plain": [
       "<IPython.core.display.HTML object>"
      ]
     },
     "metadata": {},
     "output_type": "display_data"
    }
   ],
   "source": [
    "%%html\n",
    "<iframe src=\"https://www.youtube.com/embed/NrwaKOsplZk?list=PLRqwX-V7Uu6bb7z2IJaTlzwzIg_5yvL4i\" \n",
    "width=\"560\" height=\"315\" frameborder=\"0\" allowfullscreen></iframe>"
   ]
  },
  {
   "cell_type": "markdown",
   "metadata": {},
   "source": [
    "### 8.5: More on Objects - Processing Tutorial"
   ]
  },
  {
   "cell_type": "code",
   "execution_count": 22,
   "metadata": {
    "collapsed": false
   },
   "outputs": [
    {
     "data": {
      "text/html": [
       "<iframe src=\"https://www.youtube.com/embed/V7k5bFQbhG0?list=PLRqwX-V7Uu6bb7z2IJaTlzwzIg_5yvL4i\" \n",
       "width=\"560\" height=\"315\" frameborder=\"0\" allowfullscreen></iframe>"
      ],
      "text/plain": [
       "<IPython.core.display.HTML object>"
      ]
     },
     "metadata": {},
     "output_type": "display_data"
    }
   ],
   "source": [
    "%%html\n",
    "<iframe src=\"https://www.youtube.com/embed/V7k5bFQbhG0?list=PLRqwX-V7Uu6bb7z2IJaTlzwzIg_5yvL4i\" \n",
    "width=\"560\" height=\"315\" frameborder=\"0\" allowfullscreen></iframe>"
   ]
  },
  {
   "cell_type": "markdown",
   "metadata": {},
   "source": [
    "```java\n",
    "/ Example 8-2: Two Car objects\n",
    "\n",
    "Car myCar1;\n",
    "Car myCar2; // Two objects!\n",
    "\n",
    "void setup() {\n",
    "  size(480, 270);\n",
    "  // Arguments go inside the parentheses when the object is constructed.  \n",
    "  myCar1 = new Car(color(51), 0, 100, 2); \n",
    "  myCar2 = new Car(color(151), 0, 200, 1);\n",
    "}\n",
    "\n",
    "void draw() {\n",
    "  background(255);\n",
    "  myCar1.move();\n",
    "  myCar1.display();\n",
    "  myCar2.move();\n",
    "  myCar2.display();\n",
    "}\n",
    "\n",
    "// Even though there are multiple objects, only  one class is needed. \n",
    "// No matter how many cookies you make, only one cookie cutter is needed.\n",
    "class Car { \n",
    "  color c;\n",
    "  float xpos;\n",
    "  float ypos;\n",
    "  float xspeed;\n",
    "\n",
    "  // The Constructor is defined with parameters.  \n",
    "  Car(color tempC, float tempXpos, float tempYpos, float tempXspeed) { \n",
    "    c = tempC;\n",
    "    xpos = tempXpos;\n",
    "    ypos = tempYpos;\n",
    "    xspeed = tempXspeed;\n",
    "  }\n",
    "\n",
    "  void display() {\n",
    "    stroke(0);\n",
    "    fill(c);\n",
    "    rectMode(CENTER);\n",
    "    rect(xpos, ypos, 20, 10);\n",
    "  }\n",
    "\n",
    "  void move() {\n",
    "    xpos = xpos + xspeed;\n",
    "    if (xpos > width) {\n",
    "      xpos = 0;\n",
    "    }\n",
    "  }\n",
    "}\n",
    "```"
   ]
  },
  {
   "cell_type": "markdown",
   "metadata": {},
   "source": [
    "### 8.6: Pass by Value vs. Pass by Reference - Processing Tutorial"
   ]
  },
  {
   "cell_type": "code",
   "execution_count": 23,
   "metadata": {
    "collapsed": false
   },
   "outputs": [
    {
     "data": {
      "text/html": [
       "<iframe src=\"https://www.youtube.com/embed/hNR6fsksEu8?list=PLRqwX-V7Uu6bb7z2IJaTlzwzIg_5yvL4i\" \n",
       " width=\"560\" height=\"315\" frameborder=\"0\" allowfullscreen></iframe>"
      ],
      "text/plain": [
       "<IPython.core.display.HTML object>"
      ]
     },
     "metadata": {},
     "output_type": "display_data"
    }
   ],
   "source": [
    "%%html\n",
    "<iframe src=\"https://www.youtube.com/embed/hNR6fsksEu8?list=PLRqwX-V7Uu6bb7z2IJaTlzwzIg_5yvL4i\" \n",
    " width=\"560\" height=\"315\" frameborder=\"0\" allowfullscreen></iframe>"
   ]
  },
  {
   "cell_type": "markdown",
   "metadata": {},
   "source": [
    "# 9. ARRAYS\n",
    "### 9.1: What is an Array? - Processing Tutorial"
   ]
  },
  {
   "cell_type": "code",
   "execution_count": 24,
   "metadata": {
    "collapsed": false
   },
   "outputs": [
    {
     "data": {
      "text/html": [
       "<iframe src=\"https://www.youtube.com/embed/NptnmWvkbTw?list=PLRqwX-V7Uu6bO9RKxHObluh-aPgrrvb4a\" \n",
       "width=\"560\" height=\"315\" frameborder=\"0\" allowfullscreen></iframe>"
      ],
      "text/plain": [
       "<IPython.core.display.HTML object>"
      ]
     },
     "metadata": {},
     "output_type": "display_data"
    }
   ],
   "source": [
    "%%html\n",
    "<iframe src=\"https://www.youtube.com/embed/NptnmWvkbTw?list=PLRqwX-V7Uu6bO9RKxHObluh-aPgrrvb4a\" \n",
    "width=\"560\" height=\"315\" frameborder=\"0\" allowfullscreen></iframe>"
   ]
  },
  {
   "cell_type": "markdown",
   "metadata": {},
   "source": [
    "```java\n",
    "// Example 9-1: Additional array declaration and creation examples\n",
    "\n",
    "// A list of 4 floating point numbers\n",
    "float[] scores = new float[4]; \n",
    "\n",
    "// A list of 100 Human objects\n",
    "Human[] people = new Human[100]; \n",
    "\n",
    " // Using a variable to specify size\n",
    "int num = 50;\n",
    "Car[] cars = new Car[num];\n",
    "\n",
    "// Using an expression to specify size\n",
    "Spaceship[] ships = new Spaceship[num*2 + 3]; \n",
    "```"
   ]
  },
  {
   "cell_type": "markdown",
   "metadata": {},
   "source": [
    "### 9.2: Declare, Initialize, and Use an Array - Processing Tutorial"
   ]
  },
  {
   "cell_type": "code",
   "execution_count": 25,
   "metadata": {
    "collapsed": false
   },
   "outputs": [
    {
     "data": {
      "text/html": [
       "<iframe  src=\"https://www.youtube.com/embed/47JBVxCWXJA?list=PLRqwX-V7Uu6bO9RKxHObluh-aPgrrvb4a\" \n",
       "width=\"560\" height=\"315\" frameborder=\"0\" allowfullscreen></iframe>"
      ],
      "text/plain": [
       "<IPython.core.display.HTML object>"
      ]
     },
     "metadata": {},
     "output_type": "display_data"
    }
   ],
   "source": [
    "%%html\n",
    "<iframe  src=\"https://www.youtube.com/embed/47JBVxCWXJA?list=PLRqwX-V7Uu6bO9RKxHObluh-aPgrrvb4a\" \n",
    "width=\"560\" height=\"315\" frameborder=\"0\" allowfullscreen></iframe>"
   ]
  },
  {
   "cell_type": "markdown",
   "metadata": {},
   "source": [
    "```java\n",
    "// Example 9-2: Initializing the elements of an array one at a time\n",
    "\n",
    "int[] stuff = new int[3];\n",
    "stuff[0] = 8; // The first element of the array equals 8\n",
    "stuff[1] = 3; // The second element of the array equals 3\n",
    "stuff[2] = 1; // The third element of the array equals 1\n",
    "\n",
    "// Example 9-3: Initializing the elements of an array all at once\n",
    "\n",
    "int[] arrayOfInts = {1, 5, 8, 9, 4, 5};\n",
    "float[] floatArray = {1.2, 3.5, 2.0, 3.4123, 9.9};  \n",
    "```\n"
   ]
  },
  {
   "cell_type": "markdown",
   "metadata": {},
   "source": [
    "### 9.3: Arrays of Objects - Processing Tutorial"
   ]
  },
  {
   "cell_type": "code",
   "execution_count": 26,
   "metadata": {
    "collapsed": false
   },
   "outputs": [
    {
     "data": {
      "text/html": [
       "<iframe  src=\"https://www.youtube.com/embed/-sSRHRfK2EU?list=PLRqwX-V7Uu6bO9RKxHObluh-aPgrrvb4a\" \n",
       "width=\"560\" height=\"315\" frameborder=\"0\" allowfullscreen></iframe>"
      ],
      "text/plain": [
       "<IPython.core.display.HTML object>"
      ]
     },
     "metadata": {},
     "output_type": "display_data"
    }
   ],
   "source": [
    "%%html\n",
    "<iframe  src=\"https://www.youtube.com/embed/-sSRHRfK2EU?list=PLRqwX-V7Uu6bO9RKxHObluh-aPgrrvb4a\" \n",
    "width=\"560\" height=\"315\" frameborder=\"0\" allowfullscreen></iframe>"
   ]
  },
  {
   "cell_type": "markdown",
   "metadata": {},
   "source": [
    "### 9.4: Arrays and Loops - Processing Tutorial"
   ]
  },
  {
   "cell_type": "code",
   "execution_count": 27,
   "metadata": {
    "collapsed": false
   },
   "outputs": [
    {
     "data": {
      "text/html": [
       "<iframe src=\"https://www.youtube.com/embed/am6e1U2BHkA?list=PLRqwX-V7Uu6bO9RKxHObluh-aPgrrvb4a\" \n",
       "width=\"560\" height=\"315\" frameborder=\"0\" allowfullscreen></iframe>"
      ],
      "text/plain": [
       "<IPython.core.display.HTML object>"
      ]
     },
     "metadata": {},
     "output_type": "display_data"
    }
   ],
   "source": [
    "%%html\n",
    "<iframe src=\"https://www.youtube.com/embed/am6e1U2BHkA?list=PLRqwX-V7Uu6bO9RKxHObluh-aPgrrvb4a\" \n",
    "width=\"560\" height=\"315\" frameborder=\"0\" allowfullscreen></iframe>"
   ]
  },
  {
   "cell_type": "markdown",
   "metadata": {},
   "source": [
    "```java\n",
    "// Example 9-4: Using a while loop to initialize all elements of an array\n",
    "\n",
    "float[] values = new float[1000];\n",
    "\n",
    "int n = 0;\n",
    "while (n < 1000) {\n",
    "  values[n] = random(0, 10);\n",
    "  n = n + 1;\n",
    "}\n",
    "\n",
    "// Example 9-5: Using a for loop to initialize all elements of an array\n",
    "\n",
    "float[] values = new float[1000];\n",
    "\n",
    "for (int n = 0; n < 1000; n++) {\n",
    "  values[n] = random(0, 10);\n",
    "}\n",
    "```"
   ]
  },
  {
   "cell_type": "markdown",
   "metadata": {},
   "source": [
    "### 9.5: Arrays of Flexible Size - Processing Tutorial"
   ]
  },
  {
   "cell_type": "code",
   "execution_count": 28,
   "metadata": {
    "collapsed": false,
    "scrolled": true
   },
   "outputs": [
    {
     "data": {
      "text/html": [
       "<iframe src=\"https://www.youtube.com/embed/Hf-AHwRaodA?list=PLRqwX-V7Uu6bO9RKxHObluh-aPgrrvb4a\" \n",
       "width=\"560\" height=\"315\" frameborder=\"0\" allowfullscreen></iframe>"
      ],
      "text/plain": [
       "<IPython.core.display.HTML object>"
      ]
     },
     "metadata": {},
     "output_type": "display_data"
    }
   ],
   "source": [
    "%%html\n",
    "<iframe src=\"https://www.youtube.com/embed/Hf-AHwRaodA?list=PLRqwX-V7Uu6bO9RKxHObluh-aPgrrvb4a\" \n",
    "width=\"560\" height=\"315\" frameborder=\"0\" allowfullscreen></iframe>"
   ]
  },
  {
   "cell_type": "markdown",
   "metadata": {},
   "source": [
    "```java\n",
    "// Example 9-11: Resizing an array using append()\n",
    "\n",
    "Ball[] balls = new Ball[1]; // We start with an array with just one element.\n",
    "float gravity = 0.1;\n",
    "\n",
    "void setup() {\n",
    "  size(480, 270);\n",
    "\n",
    "  // Initialize ball index 0\n",
    "  balls[0] = new Ball(50, 0, 24);\n",
    "}\n",
    "\n",
    "void draw() {\n",
    "  background(255);\n",
    "\n",
    "  // Whatever the length of that array, \n",
    "  // update and display all of the objects.\n",
    "  for (int i = 0; i < balls.length; i++ ) { \n",
    "    balls[i].gravity();\n",
    "    balls[i].move();\n",
    "    balls[i].display();\n",
    "  }\n",
    "}\n",
    "\n",
    "void mousePressed() {\n",
    "  // A new ball object\n",
    "  Ball b = new Ball(mouseX, mouseY, 24); // Make a new object at the mouse location.\n",
    "  balls = (Ball[]) append(balls, b);\n",
    "\n",
    "  // Here, the function, append() adds an element to the end of the array. \n",
    "  // append() takes two arguments. The first is the array you want to append to, and the second is the thing you want to append. \n",
    "  // You have to reassign the result of the append() function to the original array. \n",
    "  // In addition, the append() function requires that you explicitly state the type of data in the array again by putting the \n",
    "  // array data type in parentheses: (Ball[]) This is known as casting.\n",
    "}\n",
    "```"
   ]
  },
  {
   "cell_type": "markdown",
   "metadata": {},
   "source": [
    "# 10. IMAGES AND PIXELS\n",
    "### 10.1: Intro to Images - Processing Tutorial"
   ]
  },
  {
   "cell_type": "code",
   "execution_count": 29,
   "metadata": {
    "collapsed": false
   },
   "outputs": [
    {
     "data": {
      "text/html": [
       "<iframe src=\"https://www.youtube.com/embed/-f0WEitGmiw?list=PLRqwX-V7Uu6YB9x6f23CBftiyx0u_5sO9\" \n",
       "width=\"560\" height=\"315\" frameborder=\"0\" allowfullscreen></iframe>"
      ],
      "text/plain": [
       "<IPython.core.display.HTML object>"
      ]
     },
     "metadata": {},
     "output_type": "display_data"
    }
   ],
   "source": [
    "%%html\n",
    "<iframe src=\"https://www.youtube.com/embed/-f0WEitGmiw?list=PLRqwX-V7Uu6YB9x6f23CBftiyx0u_5sO9\" \n",
    "width=\"560\" height=\"315\" frameborder=\"0\" allowfullscreen></iframe>"
   ]
  },
  {
   "cell_type": "markdown",
   "metadata": {},
   "source": [
    "```java\n",
    "// Example 15-1: \"Hello World\" images\n",
    "\n",
    "// Declaring a variable of type PImage\n",
    "// PImage is a class available from the Processing core library.\n",
    "PImage img; \n",
    "\n",
    "void setup() {\n",
    "  size(320, 240);\n",
    "  // Make a new instance of a PImage by loading an image file\n",
    "  img = loadImage(\"runde_bird_cliffs.jpg\");\n",
    "}\n",
    "\n",
    "void draw() {\n",
    "  background(0);\n",
    "  // The image() function displays the image at a location\n",
    "  // in this case the point (0,0).\n",
    "  image(img, 0, 0, width, height);\n",
    "}\n",
    "```"
   ]
  },
  {
   "cell_type": "markdown",
   "metadata": {},
   "source": [
    "### 10.2: Animate an Image - Processing Tutorial"
   ]
  },
  {
   "cell_type": "code",
   "execution_count": 30,
   "metadata": {
    "collapsed": false
   },
   "outputs": [
    {
     "data": {
      "text/html": [
       "<iframe src=\"https://www.youtube.com/embed/7BoJBYh16CQ?list=PLRqwX-V7Uu6YB9x6f23CBftiyx0u_5sO9\" \n",
       "width=\"560\" height=\"315\" frameborder=\"0\" allowfullscreen></iframe>"
      ],
      "text/plain": [
       "<IPython.core.display.HTML object>"
      ]
     },
     "metadata": {},
     "output_type": "display_data"
    }
   ],
   "source": [
    "%%html\n",
    "<iframe src=\"https://www.youtube.com/embed/7BoJBYh16CQ?list=PLRqwX-V7Uu6YB9x6f23CBftiyx0u_5sO9\" \n",
    "width=\"560\" height=\"315\" frameborder=\"0\" allowfullscreen></iframe>"
   ]
  },
  {
   "cell_type": "markdown",
   "metadata": {},
   "source": [
    "```java\n",
    "// Example 15-2: Image \"sprite\"\n",
    "\n",
    "PImage head; // A variable for the image file\n",
    "float x,y;   // Variables for image location\n",
    "float rot;   // A variable for image rotation\n",
    "\n",
    "void setup() {\n",
    "  size(200,200);\n",
    "  \n",
    "  // Load image, initialize variables\n",
    "  head = loadImage(\"face.jpg\");\n",
    "  x = 0.0;\n",
    "  y = width/2.0;\n",
    "  rot = 0.0;\n",
    "}\n",
    "\n",
    "void draw() {\n",
    "  background(255);\n",
    "  \n",
    "  // Translate and rotate\n",
    "  translate(x,y);\n",
    "  rotate(rot);\n",
    "  \n",
    "  // Images can be animated just like regular shapes using variables, translate(), rotate(), and so on.\n",
    "  imageMode(CENTER);\n",
    "  image(head,0,0); \n",
    "  \n",
    "  // Adjust variables for animation\n",
    "  x += 1.0;\n",
    "  rot += 0.02;\n",
    "  if (x > width+head.width) {\n",
    "    x = -head.width;\n",
    "  }\n",
    "}\n",
    "```"
   ]
  },
  {
   "cell_type": "markdown",
   "metadata": {},
   "source": [
    "### 10.3: An Array of Images - Processing Tutorial"
   ]
  },
  {
   "cell_type": "code",
   "execution_count": 31,
   "metadata": {
    "collapsed": false
   },
   "outputs": [
    {
     "data": {
      "text/html": [
       "<iframe src=\"https://www.youtube.com/embed/DPFJROWdkQ8?list=PLRqwX-V7Uu6YB9x6f23CBftiyx0u_5sO9\" \n",
       "width=\"560\" height=\"315\" frameborder=\"0\" allowfullscreen></iframe>"
      ],
      "text/plain": [
       "<IPython.core.display.HTML object>"
      ]
     },
     "metadata": {},
     "output_type": "display_data"
    }
   ],
   "source": [
    "%%html\n",
    "<iframe src=\"https://www.youtube.com/embed/DPFJROWdkQ8?list=PLRqwX-V7Uu6YB9x6f23CBftiyx0u_5sO9\" \n",
    "width=\"560\" height=\"315\" frameborder=\"0\" allowfullscreen></iframe>"
   ]
  },
  {
   "cell_type": "markdown",
   "metadata": {},
   "source": [
    "### 10.4: Pixels! (The Pixels Array) - Processing Tutorial"
   ]
  },
  {
   "cell_type": "code",
   "execution_count": 32,
   "metadata": {
    "collapsed": false
   },
   "outputs": [
    {
     "data": {
      "text/html": [
       "<iframe src=\"https://www.youtube.com/embed/EmtU0eloTlE?list=PLRqwX-V7Uu6YB9x6f23CBftiyx0u_5sO9\" \n",
       "width=\"560\" height=\"315\" frameborder=\"0\" allowfullscreen></iframe>"
      ],
      "text/plain": [
       "<IPython.core.display.HTML object>"
      ]
     },
     "metadata": {},
     "output_type": "display_data"
    }
   ],
   "source": [
    "%%html\n",
    "<iframe src=\"https://www.youtube.com/embed/EmtU0eloTlE?list=PLRqwX-V7Uu6YB9x6f23CBftiyx0u_5sO9\" \n",
    "width=\"560\" height=\"315\" frameborder=\"0\" allowfullscreen></iframe>"
   ]
  },
  {
   "cell_type": "markdown",
   "metadata": {},
   "source": [
    "### 10.5: Image Processing with Pixels - Processing Tutorial"
   ]
  },
  {
   "cell_type": "code",
   "execution_count": 33,
   "metadata": {
    "collapsed": false
   },
   "outputs": [
    {
     "data": {
      "text/html": [
       "<iframe src=\"https://www.youtube.com/embed/j-ZLDEnhT3Q?list=PLRqwX-V7Uu6YB9x6f23CBftiyx0u_5sO9\" \n",
       "width=\"560\" height=\"315\" frameborder=\"0\" allowfullscreen></iframe>"
      ],
      "text/plain": [
       "<IPython.core.display.HTML object>"
      ]
     },
     "metadata": {},
     "output_type": "display_data"
    }
   ],
   "source": [
    "%%html\n",
    "<iframe src=\"https://www.youtube.com/embed/j-ZLDEnhT3Q?list=PLRqwX-V7Uu6YB9x6f23CBftiyx0u_5sO9\" \n",
    "width=\"560\" height=\"315\" frameborder=\"0\" allowfullscreen></iframe>"
   ]
  },
  {
   "cell_type": "markdown",
   "metadata": {},
   "source": [
    "```java\n",
    "// Example 15-12: Pixel neighbor differences (edges)\n",
    "\n",
    "PImage img;         // Source image\n",
    "PImage destination; // Destination image\n",
    "\n",
    "void setup() {\n",
    "  size(200,200);\n",
    "  img = loadImage(\"sunflower.jpg\");\n",
    "  destination = createImage(img.width, img.height, RGB);\n",
    "}\n",
    "\n",
    "void draw() {\n",
    "  \n",
    "  // We are going to look at both image's pixels\n",
    "  img.loadPixels();\n",
    "  destination.loadPixels();\n",
    "  \n",
    "  // Since we are looking at left neighbors\n",
    "  // We skip the first column\n",
    "  for (int x = 1; x < width; x++ ) {\n",
    "    for (int y = 0; y < height; y++ ) {\n",
    "      \n",
    "      // Pixel location and color\n",
    "      int loc = x + y*img.width;\n",
    "      color pix = img.pixels[loc];\n",
    "      \n",
    "      // Pixel to the left location and color\n",
    "      int leftLoc = (x - 1) + y*img.width;\n",
    "      color leftPix = img.pixels[leftLoc];\n",
    "      \n",
    "      // New color is difference between pixel and left neighbor\n",
    "      float diff = abs(brightness(pix) - brightness(leftPix));\n",
    "      destination.pixels[loc] = color(diff); \n",
    "    }\n",
    "  }\n",
    "  \n",
    "  // We changed the pixels in destination\n",
    "  destination.updatePixels();\n",
    "  // Display the destination\n",
    "  image(destination,0,0);\n",
    "}\n",
    "```"
   ]
  },
  {
   "cell_type": "markdown",
   "metadata": {},
   "source": [
    "### 10.6: Pixel Neighbors - Processing Tutorial"
   ]
  },
  {
   "cell_type": "code",
   "execution_count": 34,
   "metadata": {
    "collapsed": false
   },
   "outputs": [
    {
     "data": {
      "text/html": [
       "<iframe src=\"https://www.youtube.com/embed/qB3SA43vKYc?list=PLRqwX-V7Uu6YB9x6f23CBftiyx0u_5sO9\" \n",
       "width=\"560\" height=\"315\" frameborder=\"0\" allowfullscreen></iframe>"
      ],
      "text/plain": [
       "<IPython.core.display.HTML object>"
      ]
     },
     "metadata": {},
     "output_type": "display_data"
    }
   ],
   "source": [
    "%%html\n",
    "<iframe src=\"https://www.youtube.com/embed/qB3SA43vKYc?list=PLRqwX-V7Uu6YB9x6f23CBftiyx0u_5sO9\" \n",
    "width=\"560\" height=\"315\" frameborder=\"0\" allowfullscreen></iframe>"
   ]
  },
  {
   "cell_type": "markdown",
   "metadata": {},
   "source": [
    "```java\n",
    "// Example 15-12: Pixel neighbor differences (edges)\n",
    "\n",
    "PImage img;         // Source image\n",
    "PImage destination; // Destination image\n",
    "\n",
    "void setup() {\n",
    "  size(200,200);\n",
    "  img = loadImage(\"sunflower.jpg\");\n",
    "  destination = createImage(img.width, img.height, RGB);\n",
    "}\n",
    "\n",
    "void draw() {\n",
    "  \n",
    "  // We are going to look at both image's pixels\n",
    "  img.loadPixels();\n",
    "  destination.loadPixels();\n",
    "  \n",
    "  // Since we are looking at left neighbors\n",
    "  // We skip the first column\n",
    "  for (int x = 1; x < width; x++ ) {\n",
    "    for (int y = 0; y < height; y++ ) {\n",
    "      \n",
    "      // Pixel location and color\n",
    "      int loc = x + y*img.width;\n",
    "      color pix = img.pixels[loc];\n",
    "      \n",
    "      // Pixel to the left location and color\n",
    "      int leftLoc = (x - 1) + y*img.width;\n",
    "      color leftPix = img.pixels[leftLoc];\n",
    "      \n",
    "      // New color is difference between pixel and left neighbor\n",
    "      float diff = abs(brightness(pix) - brightness(leftPix));\n",
    "      destination.pixels[loc] = color(diff); \n",
    "    }\n",
    "  }\n",
    "  \n",
    "  // We changed the pixels in destination\n",
    "  destination.updatePixels();\n",
    "  // Display the destination\n",
    "  image(destination,0,0);\n",
    "}\n",
    "```"
   ]
  },
  {
   "cell_type": "markdown",
   "metadata": {},
   "source": [
    "### 10.7: Painting with Pixels - Processing Tutorial"
   ]
  },
  {
   "cell_type": "code",
   "execution_count": 35,
   "metadata": {
    "collapsed": false
   },
   "outputs": [
    {
     "data": {
      "text/html": [
       "<iframe src=\"https://www.youtube.com/embed/NbX3RnlAyGU?list=PLRqwX-V7Uu6YB9x6f23CBftiyx0u_5sO9\" \n",
       "width=\"560\" height=\"315\" frameborder=\"0\" allowfullscreen></iframe>"
      ],
      "text/plain": [
       "<IPython.core.display.HTML object>"
      ]
     },
     "metadata": {},
     "output_type": "display_data"
    }
   ],
   "source": [
    "%%html\n",
    "<iframe src=\"https://www.youtube.com/embed/NbX3RnlAyGU?list=PLRqwX-V7Uu6YB9x6f23CBftiyx0u_5sO9\" \n",
    "width=\"560\" height=\"315\" frameborder=\"0\" allowfullscreen></iframe>"
   ]
  },
  {
   "cell_type": "markdown",
   "metadata": {},
   "source": [
    "```java\n",
    "//Example 15-14: \"Pointillism\"\n",
    "\n",
    "PImage img;\n",
    "int pointillize = 16;\n",
    "\n",
    "void setup() {\n",
    "  size(200,200);\n",
    "  img = loadImage(\"sunflower.jpg\");\n",
    "  background(255);\n",
    "  smooth();\n",
    "}\n",
    "\n",
    "void draw() {\n",
    "  \n",
    "  // Pick a random point\n",
    "  int x = int(random(img.width));\n",
    "  int y = int(random(img.height));\n",
    "  int loc = x + y*img.width;\n",
    "  \n",
    "  // Look up the RGB color in the source image\n",
    "  loadPixels();\n",
    "  float r = red(img.pixels[loc]);\n",
    "  float g = green(img.pixels[loc]);\n",
    "  float b = blue(img.pixels[loc]);\n",
    "  noStroke();\n",
    "  \n",
    "  // Back to shapes! Instead of setting a pixel, we use the color \n",
    "  // from a pixel to draw a circle.\n",
    "  fill(r,g,b,100);\n",
    "  ellipse(x,y,pointillize,pointillize); \n",
    "}\n",
    "```"
   ]
  },
  {
   "cell_type": "markdown",
   "metadata": {},
   "source": [
    "# 11. VIDEO\n",
    "### 11.1: Capture and Live Video - Processing Tutorial"
   ]
  },
  {
   "cell_type": "code",
   "execution_count": 36,
   "metadata": {
    "collapsed": false
   },
   "outputs": [
    {
     "data": {
      "text/html": [
       "<iframe src=\"https://www.youtube.com/embed/WH31daSj4nc?list=PLRqwX-V7Uu6YB9x6f23CBftiyx0u_5sO9\" \n",
       "width=\"560\" height=\"315\" frameborder=\"0\" allowfullscreen></iframe>"
      ],
      "text/plain": [
       "<IPython.core.display.HTML object>"
      ]
     },
     "metadata": {},
     "output_type": "display_data"
    }
   ],
   "source": [
    "%%html\n",
    "<iframe src=\"https://www.youtube.com/embed/WH31daSj4nc?list=PLRqwX-V7Uu6YB9x6f23CBftiyx0u_5sO9\" \n",
    "width=\"560\" height=\"315\" frameborder=\"0\" allowfullscreen></iframe>"
   ]
  },
  {
   "cell_type": "markdown",
   "metadata": {},
   "source": [
    "```java\n",
    "// Example 16-1: Display video\n",
    "\n",
    "// Step 1. Import the video library\n",
    "import processing.video.*;\n",
    "\n",
    "// Step 2. Declare a Capture object\n",
    "Capture video;\n",
    "\n",
    "void setup() {\n",
    "  size(320, 240);\n",
    "  println(Capture.list());\n",
    "\n",
    "  // Step 3. Initialize Capture object via Constructor\n",
    "  // Use the default camera at 320x240 resolution\n",
    "  video = new Capture(this, 320, 240);\n",
    "  video.start();\n",
    "}\n",
    "\n",
    "// An event for when a new frame is available\n",
    "void captureEvent(Capture video) {\n",
    "  // Step 4. Read the image from the camera.\n",
    "  video.read();\n",
    "}\n",
    "\n",
    "void draw() {\n",
    "  // Step 5. Display the video image.\n",
    "  image(video, 0, 0);\n",
    "}\n",
    "```"
   ]
  },
  {
   "cell_type": "markdown",
   "metadata": {},
   "source": [
    "### 11.2: Using the Movie Object for Displaying Recorded Videos - Processing Tutorial"
   ]
  },
  {
   "cell_type": "code",
   "execution_count": 37,
   "metadata": {
    "collapsed": false
   },
   "outputs": [
    {
     "data": {
      "text/html": [
       "<iframe src=\"https://www.youtube.com/embed/nJWV7X7df9w?list=PLRqwX-V7Uu6YB9x6f23CBftiyx0u_5sO9\" \n",
       "width=\"560\" height=\"315\" frameborder=\"0\" allowfullscreen></iframe>"
      ],
      "text/plain": [
       "<IPython.core.display.HTML object>"
      ]
     },
     "metadata": {},
     "output_type": "display_data"
    }
   ],
   "source": [
    "%%html\n",
    "<iframe src=\"https://www.youtube.com/embed/nJWV7X7df9w?list=PLRqwX-V7Uu6YB9x6f23CBftiyx0u_5sO9\" \n",
    "width=\"560\" height=\"315\" frameborder=\"0\" allowfullscreen></iframe>"
   ]
  },
  {
   "cell_type": "markdown",
   "metadata": {},
   "source": [
    "### 11.3: Slit-Scan Video - Processing Tutorial"
   ]
  },
  {
   "cell_type": "code",
   "execution_count": 38,
   "metadata": {
    "collapsed": false
   },
   "outputs": [
    {
     "data": {
      "text/html": [
       "<iframe src=\"https://www.youtube.com/embed/WCJM9WIoudI?list=PLRqwX-V7Uu6YB9x6f23CBftiyx0u_5sO9\" \n",
       "width=\"560\" height=\"315\" frameborder=\"0\" allowfullscreen></iframe>"
      ],
      "text/plain": [
       "<IPython.core.display.HTML object>"
      ]
     },
     "metadata": {},
     "output_type": "display_data"
    }
   ],
   "source": [
    "%%html\n",
    "<iframe src=\"https://www.youtube.com/embed/WCJM9WIoudI?list=PLRqwX-V7Uu6YB9x6f23CBftiyx0u_5sO9\" \n",
    "width=\"560\" height=\"315\" frameborder=\"0\" allowfullscreen></iframe>"
   ]
  },
  {
   "cell_type": "markdown",
   "metadata": {},
   "source": [
    "### 11.4: Introduction to Computer Vision - Processing Tutorial"
   ]
  },
  {
   "cell_type": "code",
   "execution_count": 39,
   "metadata": {
    "collapsed": false
   },
   "outputs": [
    {
     "data": {
      "text/html": [
       "<iframe src=\"https://www.youtube.com/embed/h8tk0hmWB44?list=PLRqwX-V7Uu6YB9x6f23CBftiyx0u_5sO9\" \n",
       " width=\"560\" height=\"315\" frameborder=\"0\" allowfullscreen></iframe>"
      ],
      "text/plain": [
       "<IPython.core.display.HTML object>"
      ]
     },
     "metadata": {},
     "output_type": "display_data"
    }
   ],
   "source": [
    "%%html\n",
    "<iframe src=\"https://www.youtube.com/embed/h8tk0hmWB44?list=PLRqwX-V7Uu6YB9x6f23CBftiyx0u_5sO9\" \n",
    " width=\"560\" height=\"315\" frameborder=\"0\" allowfullscreen></iframe>"
   ]
  },
  {
   "cell_type": "markdown",
   "metadata": {},
   "source": [
    "### 11.5: Computer Vision: Color Tracking - Processing Tutorial"
   ]
  },
  {
   "cell_type": "code",
   "execution_count": 40,
   "metadata": {
    "collapsed": false
   },
   "outputs": [
    {
     "data": {
      "text/html": [
       "<iframe src=\"https://www.youtube.com/embed/nCVZHROb_dE?list=PLRqwX-V7Uu6YB9x6f23CBftiyx0u_5sO9\" \n",
       "width=\"560\" height=\"315\" frameborder=\"0\" allowfullscreen></iframe>"
      ],
      "text/plain": [
       "<IPython.core.display.HTML object>"
      ]
     },
     "metadata": {},
     "output_type": "display_data"
    }
   ],
   "source": [
    "%%html\n",
    "<iframe src=\"https://www.youtube.com/embed/nCVZHROb_dE?list=PLRqwX-V7Uu6YB9x6f23CBftiyx0u_5sO9\" \n",
    "width=\"560\" height=\"315\" frameborder=\"0\" allowfullscreen></iframe>"
   ]
  },
  {
   "cell_type": "markdown",
   "metadata": {},
   "source": [
    "### 11.6: Computer Vision: Motion Detection - Processing Tutorial"
   ]
  },
  {
   "cell_type": "code",
   "execution_count": 41,
   "metadata": {
    "collapsed": false
   },
   "outputs": [
    {
     "data": {
      "text/html": [
       "<iframe src=\"https://www.youtube.com/embed/QLHMtE5XsMs?list=PLRqwX-V7Uu6YB9x6f23CBftiyx0u_5sO9\" \n",
       "width=\"560\" height=\"315\" frameborder=\"0\" allowfullscreen></iframe>"
      ],
      "text/plain": [
       "<IPython.core.display.HTML object>"
      ]
     },
     "metadata": {},
     "output_type": "display_data"
    }
   ],
   "source": [
    "%%html\n",
    "<iframe src=\"https://www.youtube.com/embed/QLHMtE5XsMs?list=PLRqwX-V7Uu6YB9x6f23CBftiyx0u_5sO9\" \n",
    "width=\"560\" height=\"315\" frameborder=\"0\" allowfullscreen></iframe>"
   ]
  },
  {
   "cell_type": "markdown",
   "metadata": {},
   "source": [
    "```java\n",
    "// Example 16-14: Overall motion\n",
    "\n",
    "import processing.video.*;\n",
    "\n",
    "// Variable for capture device\n",
    "Capture video;\n",
    "// Previous Frame\n",
    "PImage prevFrame;\n",
    "\n",
    "// How different must a pixel be to be a \"motion\" pixel\n",
    "float threshold = 50;\n",
    "\n",
    "\n",
    "void setup() {\n",
    "  size(320, 240);\n",
    "  // Using the default capture device\n",
    "  video = new Capture(this, width, height);\n",
    "  video.start();\n",
    "  // Create an empty image the same size as the video\n",
    "  prevFrame = createImage(video.width, video.height, RGB);\n",
    "}\n",
    "\n",
    "// New frame available from camera\n",
    "void captureEvent(Capture video) {\n",
    "  // Save previous frame for motion detection!!\n",
    "  prevFrame.copy(video, 0, 0, video.width, video.height, 0, 0, video.width, video.height);\n",
    "  prevFrame.updatePixels();\n",
    "  video.read();\n",
    "}\n",
    "\n",
    "void draw() {\n",
    "  background(0);\n",
    "\n",
    "  // You don't need to display it to analyze it!\n",
    "  image(video, 0, 0);\n",
    "\n",
    "  video.loadPixels();\n",
    "  prevFrame.loadPixels();\n",
    "\n",
    "  // Begin loop to walk through every pixel\n",
    "  // Start with a total of 0\n",
    "  float totalMotion = 0;\n",
    "\n",
    "  // Sum the brightness of each pixel\n",
    "  for (int i = 0; i < video.pixels.length; i ++ ) {\n",
    "    // Step 2, what is the current color\n",
    "    color current = video.pixels[i];\n",
    "\n",
    "    // Step 3, what is the previous color\n",
    "    color previous = prevFrame.pixels[i];\n",
    "\n",
    "    // Step 4, compare colors (previous vs. current)\n",
    "    float r1 = red(current); \n",
    "    float g1 = green(current);\n",
    "    float b1 = blue(current);\n",
    "    float r2 = red(previous); \n",
    "    float g2 = green(previous);\n",
    "    float b2 = blue(previous);\n",
    "\n",
    "    // Motion for an individual pixel is the difference between the previous color and current color.\n",
    "    float diff = dist(r1, g1, b1, r2, g2, b2);\n",
    "    // totalMotion is the sum of all color differences. \n",
    "    totalMotion += diff;\n",
    "  }\n",
    "\n",
    "  // averageMotion is total motion divided by the number of pixels analyzed.\n",
    "  float avgMotion = totalMotion / video.pixels.length; \n",
    "\n",
    "  // Draw a circle based on average motion\n",
    "  noStroke();\n",
    "  fill(0);\n",
    "  float r = avgMotion * 2;\n",
    "  ellipse(width/2, height/2, r, r);\n",
    "}\n",
    "```"
   ]
  },
  {
   "cell_type": "markdown",
   "metadata": {},
   "source": [
    "### 11.7: Computer Vision: Blob Detection - Processing Tutorial"
   ]
  },
  {
   "cell_type": "code",
   "execution_count": 42,
   "metadata": {
    "collapsed": false
   },
   "outputs": [
    {
     "data": {
      "text/html": [
       "<iframe src=\"https://www.youtube.com/embed/ce-2l2wRqO8?list=PLRqwX-V7Uu6YB9x6f23CBftiyx0u_5sO9\" \n",
       " width=\"560\" height=\"315\" frameborder=\"0\" allowfullscreen></iframe>"
      ],
      "text/plain": [
       "<IPython.core.display.HTML object>"
      ]
     },
     "metadata": {},
     "output_type": "display_data"
    }
   ],
   "source": [
    "%%html\n",
    "<iframe src=\"https://www.youtube.com/embed/ce-2l2wRqO8?list=PLRqwX-V7Uu6YB9x6f23CBftiyx0u_5sO9\" \n",
    " width=\"560\" height=\"315\" frameborder=\"0\" allowfullscreen></iframe>"
   ]
  },
  {
   "cell_type": "markdown",
   "metadata": {},
   "source": [
    "# 12. TEXT\n",
    "### 12.1 Strings and Drawing Text - Processing Tutorial"
   ]
  },
  {
   "cell_type": "code",
   "execution_count": 43,
   "metadata": {
    "collapsed": false
   },
   "outputs": [
    {
     "data": {
      "text/html": [
       "<iframe src=\"https://www.youtube.com/embed/NLzne4XaR3M?list=PLRqwX-V7Uu6Y4F21kqaFLk6oGW2I5o7FY\" \n",
       "width=\"560\" height=\"315\" frameborder=\"0\" allowfullscreen></iframe>"
      ],
      "text/plain": [
       "<IPython.core.display.HTML object>"
      ]
     },
     "metadata": {},
     "output_type": "display_data"
    }
   ],
   "source": [
    "%%html\n",
    "<iframe src=\"https://www.youtube.com/embed/NLzne4XaR3M?list=PLRqwX-V7Uu6Y4F21kqaFLk6oGW2I5o7FY\" \n",
    "width=\"560\" height=\"315\" frameborder=\"0\" allowfullscreen></iframe>"
   ]
  },
  {
   "cell_type": "markdown",
   "metadata": {},
   "source": [
    "```java\n",
    "// Example 17-1: Simple displaying text\n",
    "\n",
    "// Step 2: Declare PFont variable\n",
    "PFont f;  \n",
    "\n",
    "void setup() {\n",
    "  size(480, 270);\n",
    "\n",
    "  // Step 3: Create Font\n",
    "  f = createFont(\"Arial\", 16);\n",
    "} \n",
    "\n",
    "void draw() {\n",
    "  background(255);\n",
    "  textFont(f, 16); // Step 4: Specify font to be used\n",
    "  fill(0);         // Step 5: Specify font color\n",
    "\n",
    "  // Step 6: Display Text\n",
    "  text(\"Mmmmm ... Strings ...\", 10, height/2);\n",
    "}\n",
    "```"
   ]
  },
  {
   "cell_type": "markdown",
   "metadata": {},
   "source": [
    "### 12.2: Strings: Splits and Join - Processing Tutorial"
   ]
  },
  {
   "cell_type": "code",
   "execution_count": 44,
   "metadata": {
    "collapsed": false
   },
   "outputs": [
    {
     "data": {
      "text/html": [
       "<iframe src=\"https://www.youtube.com/embed/PjxbuSnj8Pk\" \n",
       "width=\"560\" height=\"315\" frameborder=\"0\" allowfullscreen></iframe>"
      ],
      "text/plain": [
       "<IPython.core.display.HTML object>"
      ]
     },
     "metadata": {},
     "output_type": "display_data"
    }
   ],
   "source": [
    "%%html\n",
    "<iframe src=\"https://www.youtube.com/embed/PjxbuSnj8Pk\" \n",
    "width=\"560\" height=\"315\" frameborder=\"0\" allowfullscreen></iframe>"
   ]
  },
  {
   "cell_type": "markdown",
   "metadata": {},
   "source": [
    "### 12.3: loadStrings() - Processing Tutorial"
   ]
  },
  {
   "cell_type": "code",
   "execution_count": 45,
   "metadata": {
    "collapsed": false
   },
   "outputs": [
    {
     "data": {
      "text/html": [
       "<iframe src=\"https://www.youtube.com/embed/TaPVzWBWqd4?list=PLRqwX-V7Uu6Y4F21kqaFLk6oGW2I5o7FY\" \n",
       "width=\"560\" height=\"315\" frameborder=\"0\" allowfullscreen></iframe>"
      ],
      "text/plain": [
       "<IPython.core.display.HTML object>"
      ]
     },
     "metadata": {},
     "output_type": "display_data"
    }
   ],
   "source": [
    "%%html\n",
    "<iframe src=\"https://www.youtube.com/embed/TaPVzWBWqd4?list=PLRqwX-V7Uu6Y4F21kqaFLk6oGW2I5o7FY\" \n",
    "width=\"560\" height=\"315\" frameborder=\"0\" allowfullscreen></iframe>"
   ]
  },
  {
   "cell_type": "markdown",
   "metadata": {},
   "source": [
    "### 12.4: Word Counting - Processing Tutorial"
   ]
  },
  {
   "cell_type": "code",
   "execution_count": 46,
   "metadata": {
    "collapsed": false
   },
   "outputs": [
    {
     "data": {
      "text/html": [
       "<iframe src=\"https://www.youtube.com/embed/JRlqDsuK3Is?list=PLRqwX-V7Uu6Y4F21kqaFLk6oGW2I5o7FY\" \n",
       "width=\"560\" height=\"315\" frameborder=\"0\" allowfullscreen></iframe>"
      ],
      "text/plain": [
       "<IPython.core.display.HTML object>"
      ]
     },
     "metadata": {},
     "output_type": "display_data"
    }
   ],
   "source": [
    "%%html\n",
    "<iframe src=\"https://www.youtube.com/embed/JRlqDsuK3Is?list=PLRqwX-V7Uu6Y4F21kqaFLk6oGW2I5o7FY\" \n",
    "width=\"560\" height=\"315\" frameborder=\"0\" allowfullscreen></iframe>"
   ]
  },
  {
   "cell_type": "markdown",
   "metadata": {},
   "source": [
    "### 12.5: Tabular Data - Processing Tutorial"
   ]
  },
  {
   "cell_type": "code",
   "execution_count": 47,
   "metadata": {
    "collapsed": false
   },
   "outputs": [
    {
     "data": {
      "text/html": [
       "<iframe src=\"https://www.youtube.com/embed/woaR-CJEwqc?list=PLRqwX-V7Uu6Y4F21kqaFLk6oGW2I5o7FY\" \n",
       "width=\"560\" height=\"315\" frameborder=\"0\" allowfullscreen></iframe>"
      ],
      "text/plain": [
       "<IPython.core.display.HTML object>"
      ]
     },
     "metadata": {},
     "output_type": "display_data"
    }
   ],
   "source": [
    "%%html\n",
    "<iframe src=\"https://www.youtube.com/embed/woaR-CJEwqc?list=PLRqwX-V7Uu6Y4F21kqaFLk6oGW2I5o7FY\" \n",
    "width=\"560\" height=\"315\" frameborder=\"0\" allowfullscreen></iframe>"
   ]
  },
  {
   "cell_type": "markdown",
   "metadata": {},
   "source": [
    "### 12.6: XML and JSON - Processing Tutorial"
   ]
  },
  {
   "cell_type": "code",
   "execution_count": 48,
   "metadata": {
    "collapsed": false
   },
   "outputs": [
    {
     "data": {
      "text/html": [
       "<iframe src=\"https://www.youtube.com/embed/rqROpUNb2aY?list=PLRqwX-V7Uu6Y4F21kqaFLk6oGW2I5o7FY\" \n",
       "width=\"560\" height=\"315\" frameborder=\"0\" allowfullscreen></iframe>"
      ],
      "text/plain": [
       "<IPython.core.display.HTML object>"
      ]
     },
     "metadata": {},
     "output_type": "display_data"
    }
   ],
   "source": [
    "%%html\n",
    "<iframe src=\"https://www.youtube.com/embed/rqROpUNb2aY?list=PLRqwX-V7Uu6Y4F21kqaFLk6oGW2I5o7FY\" \n",
    "width=\"560\" height=\"315\" frameborder=\"0\" allowfullscreen></iframe>"
   ]
  },
  {
   "cell_type": "markdown",
   "metadata": {},
   "source": [
    "### 12.7: Manual Parsing - Processing Tutorial"
   ]
  },
  {
   "cell_type": "code",
   "execution_count": 49,
   "metadata": {
    "collapsed": false
   },
   "outputs": [
    {
     "data": {
      "text/html": [
       "<iframe src=\"https://www.youtube.com/embed/Pchg6F_koOw?list=PLRqwX-V7Uu6Y4F21kqaFLk6oGW2I5o7FY\" \n",
       "width=\"560\" height=\"315\" frameborder=\"0\" allowfullscreen></iframe>"
      ],
      "text/plain": [
       "<IPython.core.display.HTML object>"
      ]
     },
     "metadata": {},
     "output_type": "display_data"
    }
   ],
   "source": [
    "%%html\n",
    "<iframe src=\"https://www.youtube.com/embed/Pchg6F_koOw?list=PLRqwX-V7Uu6Y4F21kqaFLk6oGW2I5o7FY\" \n",
    "width=\"560\" height=\"315\" frameborder=\"0\" allowfullscreen></iframe>"
   ]
  },
  {
   "cell_type": "markdown",
   "metadata": {},
   "source": [
    "### 12.8: Threads - Processing Tutorial"
   ]
  },
  {
   "cell_type": "code",
   "execution_count": 50,
   "metadata": {
    "collapsed": false
   },
   "outputs": [
    {
     "data": {
      "text/html": [
       "<iframe src=\"https://www.youtube.com/embed/k7TiwpeGNmQ?list=PLRqwX-V7Uu6Y4F21kqaFLk6oGW2I5o7FY\" \n",
       "width=\"560\" height=\"315\" frameborder=\"0\" allowfullscreen></iframe>"
      ],
      "text/plain": [
       "<IPython.core.display.HTML object>"
      ]
     },
     "metadata": {},
     "output_type": "display_data"
    }
   ],
   "source": [
    "%%html\n",
    "<iframe src=\"https://www.youtube.com/embed/k7TiwpeGNmQ?list=PLRqwX-V7Uu6Y4F21kqaFLk6oGW2I5o7FY\" \n",
    "width=\"560\" height=\"315\" frameborder=\"0\" allowfullscreen></iframe>"
   ]
  },
  {
   "cell_type": "code",
   "execution_count": 54,
   "metadata": {
    "collapsed": false
   },
   "outputs": [
    {
     "data": {
      "application/javascript": [
       "$.getScript('https://kmahelona.github.io/ipython_notebook_goodies/ipython_notebook_toc.js')"
      ],
      "text/plain": [
       "<IPython.core.display.Javascript object>"
      ]
     },
     "metadata": {},
     "output_type": "display_data"
    }
   ],
   "source": [
    "%%javascript\n",
    "$.getScript('https://kmahelona.github.io/ipython_notebook_goodies/ipython_notebook_toc.js')"
   ]
  }
 ],
 "metadata": {
  "kernelspec": {
   "display_name": "Python 2",
   "language": "python",
   "name": "python2"
  },
  "language_info": {
   "codemirror_mode": {
    "name": "ipython",
    "version": 2
   },
   "file_extension": ".py",
   "mimetype": "text/x-python",
   "name": "python",
   "nbconvert_exporter": "python",
   "pygments_lexer": "ipython2",
   "version": "2.7.11"
  }
 },
 "nbformat": 4,
 "nbformat_minor": 0
}

{
 "cells": [
  {
   "cell_type": "markdown",
   "metadata": {
    "collapsed": true
   },
   "source": [
    "<br>\n",
    "<font size='6'><b>Sensors</b></font><br><br>\n",
    "\n",
    "<table style=\"border-style: hidden; border-collapse: collapse;\" width = \"80%\"> \n",
    "    <tr style=\"border-style: hidden; border-collapse: collapse;\">\n",
    "        <td width = 60% style=\"border-style: hidden; border-collapse: collapse;\">\n",
    "\n",
    "        </td>\n",
    "        <td width = 20%>\n",
    "        by Seungchul Lee<br>iSystems Design Lab<br>http://isystems.unist.ac.kr/<br>UNIST\n",
    "        </td>\n",
    "    </tr>\n",
    "</table>\n",
    "\n",
    "Table of Contents\n",
    "<div id=\"toc\"></div>"
   ]
  },
  {
   "cell_type": "markdown",
   "metadata": {},
   "source": [
    "# 1. Sensors\n",
    "\n",
    "- Allow the microcontroller to receive information about the environment\n",
    "    - How bright is it? (analog)\n",
    "    - How loud is it? (analog)\n",
    "    - How humid is it? (analog)\n",
    "    - Is the button being pressed? (digital)\n",
    "\n",
    "\n",
    "- Perform operations based on the state of the environment\n",
    "    - Trun on a light if it's dark out\n",
    "    - Voice-controlled operation\n",
    "\n",
    "__Sensing the Environment__\n",
    "\n",
    "- Microcontrollers sense _<font color='red'>voltage</font>_\n",
    "    - `digitalRead(pin)` returns state of a digital pin\n",
    "    - `ananlogRead(pin)` returns the analog voltage on a pin\n",
    "\n",
    "\n",
    "- Sensor logic must convert an environmental effect into _<font color='red'>voltage</font>_\n",
    "\n",
    "\n",
    "__Types of Sensors__\n",
    "\n",
    "- Acoustics, sound, vibration\n",
    "\n",
    "- Automotive, transportation\n",
    "\n",
    "- Chemical\n",
    "\n",
    "- Electric current, electric potential, magnetic, radio\n",
    "\n",
    "- Flow, fluid velocity\n",
    "\n",
    "- Lonizing radiation, subatomic particles\n",
    "\n",
    "- Navigation instruments\n",
    "\n",
    "- Position, angle, displacement, distance, speed, acceleration\n",
    "\n",
    "- Optical, light, imaging, photon\n",
    "\n",
    "- Pressure\n",
    "\n",
    "- force, density, level\n",
    "\n",
    "- Thermal, head, temperature\n",
    "\n",
    "- Proximity, presence"
   ]
  },
  {
   "cell_type": "code",
   "execution_count": 12,
   "metadata": {
    "collapsed": false
   },
   "outputs": [
    {
     "data": {
      "text/html": [
       "<iframe src=\"https://www.youtube.com/embed/W0qupcTo6GU\" \n",
       "width=\"560\" height=\"315\" frameborder=\"0\" allowfullscreen></iframe>"
      ],
      "text/plain": [
       "<IPython.core.display.HTML object>"
      ]
     },
     "metadata": {},
     "output_type": "display_data"
    }
   ],
   "source": [
    "%%html\n",
    "<iframe src=\"https://www.youtube.com/embed/W0qupcTo6GU\" \n",
    "width=\"560\" height=\"315\" frameborder=\"0\" allowfullscreen></iframe>"
   ]
  },
  {
   "cell_type": "markdown",
   "metadata": {},
   "source": [
    "# 2. Types of Sensors\n",
    "\n",
    "## 2.1. Reading a Pushbutton\n",
    "\n",
    "- Make a pin high when the button is pressed, and low when it is not pressed\n",
    "\n",
    "- pull-up circuit\n",
    "\n",
    "- pull-down circuit\n",
    "\n",
    "<br>\n",
    "<img src = \"./image_files/reading.png\" width = 450>\n",
    "<br>"
   ]
  },
  {
   "cell_type": "markdown",
   "metadata": {},
   "source": [
    "<font size='4'><b>Lab 01: Detecting Motion (Passive Infrared Detectors)</b></font>\n",
    "\n",
    "<table style=\"border-style: hidden; border-collapse: collapse;\" width = \"96%\"> \n",
    "    <tr style=\"border-style: hidden; border-collapse: collapse;\">\n",
    "        <td width = 30% style=\"border-style: hidden; border-collapse: collapse;\">\n",
    "- Some sensors control voltage directly<br>\n",
    "- Signal is pulled high when motion is detected<br>\n",
    "- Open-collector: signal floats without motion   \n",
    "        </td>\n",
    "        <td width = 30% style=\"border-style: hidden; border-collapse: collapse;\">\n",
    "<img src = \"./image_files/pirsensor.jpg\" width = 300>\n",
    "        </td>        \n",
    "        <td width = 30% style=\"border-style: hidden; border-collapse: collapse;\">\n",
    "<img src = \"./image_files/proximity_pirardbb.gif\" width = 400>\n",
    "        </td>        \n",
    "    </tr>\n",
    "</table>\n",
    "\n",
    "<img src = \"./image_files/scheme_PID_02.png\" width = 500>"
   ]
  },
  {
   "cell_type": "code",
   "execution_count": 13,
   "metadata": {
    "collapsed": false
   },
   "outputs": [
    {
     "data": {
      "text/html": [
       "<iframe src=\"https://www.youtube.com/embed/CzgA8UfLD-Q\" \n",
       "width=\"560\" height=\"315\" frameborder=\"0\" allowfullscreen></iframe>"
      ],
      "text/plain": [
       "<IPython.core.display.HTML object>"
      ]
     },
     "metadata": {},
     "output_type": "display_data"
    }
   ],
   "source": [
    "%%html\n",
    "<iframe src=\"https://www.youtube.com/embed/CzgA8UfLD-Q\" \n",
    "width=\"560\" height=\"315\" frameborder=\"0\" allowfullscreen></iframe>"
   ]
  },
  {
   "cell_type": "markdown",
   "metadata": {},
   "source": [
    "```c\n",
    "/*\n",
    "PIR sketch\n",
    "a Passive Infrared motion sensor connected to pin 2\n",
    "lights the LED on pin 13\n",
    "*/\n",
    "\n",
    "const int ledPin = 8;              // choose the pin for the LED\n",
    "const int inputPin = 2;             // choose the input pin (for the PIR sensor)\n",
    "\n",
    "void setup() {\n",
    "  pinMode(ledPin, OUTPUT);          // declare LED as output\n",
    "  pinMode(inputPin, INPUT);         // declare pushbutton as input\n",
    "}\n",
    "\n",
    "void loop() {\n",
    "  \n",
    "  int val = digitalRead(inputPin);  // read input value\n",
    "\n",
    "  if (val == HIGH) {                // check if the input is HIGH\n",
    "    digitalWrite(ledPin, HIGH);     // turn LED on if motion detected\n",
    "    delay(500);\n",
    "  }\n",
    "  else if (val = LOW) {\n",
    "    digitalWrite(ledPin, LOW);      // turn LED\n",
    "    delay(500);\n",
    "  }\n",
    "}\n",
    "```"
   ]
  },
  {
   "cell_type": "markdown",
   "metadata": {},
   "source": [
    "## 2.2. Resistive Sensors\n",
    "\n",
    "<table style=\"border-style: hidden; border-collapse: collapse;\" width = \"90%\"> \n",
    "    <tr style=\"border-style: hidden; border-collapse: collapse;\">\n",
    "        <td width = 40% style=\"border-style: hidden; border-collapse: collapse;\">\n",
    "- Many sensors change resistance<br>\n",
    "    $\\quad$- Photoresistor, thermistor, flex resistor, etc.<br>\n",
    "- Connect sensor in a _<font color='red'>voltage divider</font>_\n",
    "        </td>\n",
    "        <td width = 50%>\n",
    "<img src = \"./image_files/resistivesensors.png\" width =500>\n",
    "        </td>\n",
    "    </tr>\n",
    "</table>"
   ]
  },
  {
   "cell_type": "markdown",
   "metadata": {},
   "source": [
    "<font size='4'><b>Lab 02: Photoresistor Light Dependent Resistor (LDR)</b></font>\n",
    "\n",
    "- Sense light levels, measure those levels with the Arduino and print the measurements to the Serial port\n",
    "\n",
    "- LDR is a variable resistor (varying with light). \n",
    "\n",
    "- So we need to convert the varying resistance to a voltage that the Arduino can measure.\n",
    "\n",
    "- We do that by using the LDR and a resistor in a __voltate divider__ circuit.\n",
    "\n",
    "<table style=\"border-style: hidden; border-collapse: collapse;\" width = \"90%\"> \n",
    "    <tr style=\"border-style: hidden; border-collapse: collapse;\">\n",
    "        <td width = 40% style=\"border-style: hidden; border-collapse: collapse;\">\n",
    "- As brightness increases, resistance decreases<br>\n",
    "- Resistance = 10K Ohms, voltage = 2.5 Volts<br>\n",
    "- Resistance = 5K Ohms, voltage = 3.3 Volts             \n",
    "        </td>\n",
    "        <td width = 50%>\n",
    "<img src = \"./image_files/photoresistor.png\" width =200>\n",
    "        </td>\n",
    "    </tr>\n",
    "</table>\n",
    "\n",
    "<br>\n",
    "<table style=\"border-style: hidden; border-collapse: collapse;\" width = \"80%\"> \n",
    "    <tr style=\"border-style: hidden; border-collapse: collapse;\">\n",
    "        <td width = 40% style=\"border-style: hidden; border-collapse: collapse;\">\n",
    "<img src = \"./image_files/ldr_fritz.jpg\" width = 250>\n",
    "        </td>\n",
    "        <td width = 40%>\n",
    "<img src = \"./image_files/scheme_LDR_02.png\" width = 250>          \n",
    "        </td>\n",
    "    </tr>\n",
    "</table>\n",
    "\n",
    "<br>\n",
    "\n",
    "```c\n",
    "int lightPin = A0;       // define a pin for Photo resistor\n",
    "\n",
    "void setup() {\n",
    "  Serial.begin(9600);   // Begin serial communcation\n",
    "}\n",
    "\n",
    "void loop() {\n",
    "  Serial.println(analogRead(lightPin)); // Write the value of the photoresistor to the serial monitor.\n",
    "  delay(10);                            // short delay for faster response to light.\n",
    "}\n",
    "```"
   ]
  },
  {
   "cell_type": "code",
   "execution_count": 14,
   "metadata": {
    "collapsed": false
   },
   "outputs": [
    {
     "data": {
      "text/html": [
       "<iframe src=\"https://www.youtube.com/embed/CZk0A6zHr2M\" \n",
       "width=\"560\" height=\"315\" frameborder=\"0\" allowfullscreen></iframe>"
      ],
      "text/plain": [
       "<IPython.core.display.HTML object>"
      ]
     },
     "metadata": {},
     "output_type": "display_data"
    }
   ],
   "source": [
    "%%html\n",
    "<iframe src=\"https://www.youtube.com/embed/CZk0A6zHr2M\" \n",
    "width=\"560\" height=\"315\" frameborder=\"0\" allowfullscreen></iframe>"
   ]
  },
  {
   "cell_type": "markdown",
   "metadata": {},
   "source": [
    "<br>\n",
    "<font size='4'><b>Lab 03: Measuring Temperature</b></font>\n",
    "\n",
    "- Thermistors are simple, inexpensive, and accurate components that make it easy to get temperature readings\n",
    "\n",
    "<table style=\"border-style: hidden; border-collapse: collapse;\" width = \"96%\"> \n",
    "    <tr style=\"border-style: hidden; border-collapse: collapse;\">\n",
    "        <td width = 58% style=\"border-style: hidden; border-collapse: collapse;\">\n",
    "<img src = \"./image_files/thermistor_fritz.png\" width = 600>             \n",
    "        </td>\n",
    "        <td width = 38%>\n",
    "<img src = \"./image_files/scheme_thermistor.png\" width = 250>\n",
    "        </td>\n",
    "    </tr>\n",
    "</table>\n",
    "\n",
    "- lecture material from: http://www.circuitbasics.com/arduino-thermistor-temperature-sensor-tutorial/"
   ]
  },
  {
   "cell_type": "code",
   "execution_count": 15,
   "metadata": {
    "collapsed": false
   },
   "outputs": [
    {
     "data": {
      "text/html": [
       "<iframe src=\"https://www.youtube.com/embed/34sRdI23AYE\" \n",
       "width=\"560\" height=\"315\" frameborder=\"0\" allowfullscreen></iframe>"
      ],
      "text/plain": [
       "<IPython.core.display.HTML object>"
      ]
     },
     "metadata": {},
     "output_type": "display_data"
    }
   ],
   "source": [
    "%%html\n",
    "<iframe src=\"https://www.youtube.com/embed/34sRdI23AYE\" \n",
    "width=\"560\" height=\"315\" frameborder=\"0\" allowfullscreen></iframe>"
   ]
  },
  {
   "cell_type": "markdown",
   "metadata": {
    "collapsed": true
   },
   "source": [
    "```c\n",
    "#include <math.h>\n",
    "\n",
    "double ThermistorF(int RawADC) {\n",
    "  double Temp;\n",
    "  Temp = log(10000.0*((1024.0/RawADC - 1)));\n",
    "  Temp = 1/(0.001129148 + (0.000234125 + (0.0000000876741*Temp*Temp))*Temp);\n",
    "  Temp = Temp - 273.15;\n",
    "  Temp = (Temp*9.0)/5.0 + 32.0;\n",
    "  return Temp;\n",
    "}\n",
    "\n",
    "double ThermistorC(int RawADC) {\n",
    "  double Temp;\n",
    "  Temp = log(10000.0*((1024.0/RawADC - 1)));\n",
    "  Temp = 1/(0.001129148 + (0.000234125 + (0.0000000876741*Temp*Temp))*Temp);\n",
    "  Temp = Temp - 273.15;\n",
    "  return Temp;\n",
    "}\n",
    "\n",
    "void setup() {\n",
    "  Serial.begin(9600);\n",
    "}\n",
    "\n",
    "void loop() {\n",
    "  int valF, valC;\n",
    "  double tempF, tempC, val;\n",
    "  val = analogRead(0);\n",
    "  tempF = ThermistorF(val);  \n",
    "  tempC = ThermistorC(val);\n",
    "\n",
    "  Serial.print(\"Temperature = \");\n",
    "  Serial.print(tempF);\n",
    "  Serial.print(\" F; \");\n",
    "  Serial.print(tempC);\n",
    "  Serial.println(\" C\");\n",
    "  delay(1000);\n",
    "}\n",
    "```"
   ]
  },
  {
   "cell_type": "code",
   "execution_count": 16,
   "metadata": {
    "collapsed": false
   },
   "outputs": [
    {
     "data": {
      "text/html": [
       "<iframe src=\"https://www.youtube.com/embed/-_XkGju35MI\" \n",
       "width=\"560\" height=\"315\" frameborder=\"0\" allowfullscreen></iframe>"
      ],
      "text/plain": [
       "<IPython.core.display.HTML object>"
      ]
     },
     "metadata": {},
     "output_type": "display_data"
    }
   ],
   "source": [
    "%%html\n",
    "<iframe src=\"https://www.youtube.com/embed/-_XkGju35MI\" \n",
    "width=\"560\" height=\"315\" frameborder=\"0\" allowfullscreen></iframe>"
   ]
  },
  {
   "cell_type": "markdown",
   "metadata": {},
   "source": [
    "<font size='4'><b>Lab 04: Use TMP36 Temp Sensor</b></font>\n",
    "\n",
    "- Another way to measure temperature\n",
    "\n",
    "- lecture material from: https://learn.adafruit.com/tmp36-temperature-sensor/using-a-temp-sensor\n",
    "\n",
    "<table style=\"border-style: hidden; border-collapse: collapse;\" width = \"96%\"> \n",
    "    <tr style=\"border-style: hidden; border-collapse: collapse;\">\n",
    "        <td width = 58% style=\"border-style: hidden; border-collapse: collapse;\">\n",
    "<img src = \"./image_files/tmp36fritz.gif\" width = 600>             \n",
    "        </td>\n",
    "        <td width = 38%>\n",
    "<img src = \"./image_files/scheme_TMP36.png\" width = 250>\n",
    "        </td>\n",
    "    </tr>\n",
    "</table>\n",
    "\n"
   ]
  },
  {
   "cell_type": "code",
   "execution_count": 17,
   "metadata": {
    "collapsed": false
   },
   "outputs": [
    {
     "data": {
      "text/html": [
       "<iframe src=\"https://www.youtube.com/embed/hWdoF6ETxvI\" \n",
       "width=\"560\" height=\"315\" frameborder=\"0\" allowfullscreen></iframe>"
      ],
      "text/plain": [
       "<IPython.core.display.HTML object>"
      ]
     },
     "metadata": {},
     "output_type": "display_data"
    }
   ],
   "source": [
    "%%html\n",
    "<iframe src=\"https://www.youtube.com/embed/hWdoF6ETxvI\" \n",
    "width=\"560\" height=\"315\" frameborder=\"0\" allowfullscreen></iframe>"
   ]
  },
  {
   "cell_type": "markdown",
   "metadata": {
    "collapsed": true
   },
   "source": [
    "```c\n",
    "//TMP36 Pin Variables\n",
    "int sensorPin = 0; //the analog pin the TMP36's Vout (sense) pin is connected to\n",
    "//the resolution is 10 mV / degree centigrade with a\n",
    "//500 mV offset to allow for negative temperatures\n",
    "\n",
    "/*\n",
    " * setup() - this function runs once when you turn your Arduino on\n",
    " * We initialize the serial connection with the computer\n",
    " */\n",
    "void setup() {\n",
    "  Serial.begin(9600);  //Start the serial connection with the computer\n",
    "  //to view the result open the serial monitor\n",
    "}\n",
    "\n",
    "void loop() {                    // run over and over again\n",
    "  //getting the voltage reading from the temperature sensor\n",
    "  int reading = analogRead(sensorPin);\n",
    "\n",
    "  // converting that reading to voltage, for 3.3v arduino use 3.3\n",
    "  float voltage = reading * 5.0;\n",
    "  voltage /= 1024.0;\n",
    "\n",
    "  // print out the voltage\n",
    "  Serial.print(voltage); \n",
    "  Serial.println(\" volts\");\n",
    "\n",
    "  // now print out the temperature\n",
    "  float temperatureC = (voltage - 0.5) * 100 ;  //converting from 10 mv per degree wit 500 mV offset\n",
    "  //to degrees ((voltage - 500mV) times 100)\n",
    "  Serial.print(temperatureC); \n",
    "  Serial.println(\" degrees C\");\n",
    "\n",
    "  // now convert to Fahrenheit\n",
    "  float temperatureF = (temperatureC * 9.0 / 5.0) + 32.0;\n",
    "  Serial.print(temperatureF); \n",
    "  Serial.println(\" degrees F\");\n",
    "\n",
    "  delay(1000);                                     //waiting a second\n",
    "}\n",
    "```"
   ]
  },
  {
   "cell_type": "markdown",
   "metadata": {},
   "source": [
    "## 2.3. Measure Distance\n",
    "\n",
    "<br>\n",
    "<font size='4'><b>Lab 05: Measuring Distance</b></font>\n",
    "\n",
    "You want to measure the distance to something, such as a wall or someone walking toward the Arduino.\n",
    "\n",
    "- Ultrasonic sensor\n",
    "\n",
    "<table style=\"border-style: hidden; border-collapse: collapse;\" width = \"96%\"> \n",
    "    <tr style=\"border-style: hidden; border-collapse: collapse;\">\n",
    "        <td width = 48% style=\"border-style: hidden; border-collapse: collapse;\">\n",
    "<img src = \"./image_files/Ultrasonic_Sensor.png\" width = 500>             \n",
    "        </td>\n",
    "        <td width = 48%>\n",
    "<img src = \"./image_files/scheme_ultra_sensor.png\" width = 350>\n",
    "        </td>\n",
    "    </tr>\n",
    "</table>\n",
    "\n",
    "\n",
    "\n",
    "<img src = \"./image_files/ping.png\" width = 500>\n",
    "\n",
    "- `pulseIn`: https://www.arduino.cc/en/Reference/PulseIn"
   ]
  },
  {
   "cell_type": "code",
   "execution_count": 18,
   "metadata": {
    "collapsed": false
   },
   "outputs": [
    {
     "data": {
      "text/html": [
       "<iframe src=\"https://www.youtube.com/embed/EvnsM4r-XV8\" \n",
       "width=\"560\" height=\"315\" frameborder=\"0\" allowfullscreen></iframe>"
      ],
      "text/plain": [
       "<IPython.core.display.HTML object>"
      ]
     },
     "metadata": {},
     "output_type": "display_data"
    }
   ],
   "source": [
    "%%html\n",
    "<iframe src=\"https://www.youtube.com/embed/EvnsM4r-XV8\" \n",
    "width=\"560\" height=\"315\" frameborder=\"0\" allowfullscreen></iframe>"
   ]
  },
  {
   "cell_type": "markdown",
   "metadata": {},
   "source": [
    "```c\n",
    "#define trigPin    2\n",
    "#define echoPin    4\n",
    "\n",
    "long distance;\n",
    "long duration;\n",
    "\n",
    "void setup()\n",
    "{\n",
    "    Serial.begin(9600);\n",
    "    pinMode(trigPin, OUTPUT);\n",
    "    pinMode(echoPin, INPUT);\n",
    "}\n",
    "\n",
    "void loop(){\n",
    "    // Give a short LOW pulse beforehand \n",
    "    // to ensure a clean HIGH pulse:\n",
    "    digitalWrite(trigPin, LOW);\n",
    "    delayMicroseconds(2);\n",
    "    \n",
    "    digitalWrite(trigPin, HIGH);  \n",
    "    delayMicroseconds(10);   \n",
    "    digitalWrite(trigPin, LOW); \n",
    "\n",
    "    duration = pulseIn(echoPin, HIGH); \n",
    "\n",
    "    distance = (duration/2)/29.1; \n",
    "\n",
    "    Serial.print(\"Distance: \");\n",
    "    Serial.print(distance);\n",
    "    Serial.println(\" cm\");\n",
    "    delay(1000);\n",
    "}\n",
    "```"
   ]
  },
  {
   "cell_type": "code",
   "execution_count": 19,
   "metadata": {
    "collapsed": false
   },
   "outputs": [
    {
     "data": {
      "text/html": [
       "<iframe src=\"https://www.youtube.com/embed/PG2VhpkPqoA\" \n",
       "width=\"560\" height=\"315\" frameborder=\"0\" allowfullscreen></iframe>"
      ],
      "text/plain": [
       "<IPython.core.display.HTML object>"
      ]
     },
     "metadata": {},
     "output_type": "display_data"
    }
   ],
   "source": [
    "%%html\n",
    "<iframe src=\"https://www.youtube.com/embed/PG2VhpkPqoA\" \n",
    "width=\"560\" height=\"315\" frameborder=\"0\" allowfullscreen></iframe>"
   ]
  },
  {
   "cell_type": "markdown",
   "metadata": {},
   "source": [
    "## 2.4. Analog Accelerometer\n",
    "\n",
    "- [ADXL335](https://www.mepits.com/project/292/Embedded-Projects/How-to-Interface-ADXL-335-with-Arduino?) accelerometer\n",
    "\n",
    "<table style=\"border-style: hidden; border-collapse: collapse;\" width = \"96%\"> \n",
    "    <tr style=\"border-style: hidden; border-collapse: collapse;\">\n",
    "        <td width = 58% style=\"border-style: hidden; border-collapse: collapse;\">\n",
    "<img src = \"./image_files/scheme_ADXL335.png\" width = 500>\n",
    "        </td>\n",
    "        <td width = 38%>\n",
    "<img src = \"./image_files/adxl335.png\" width = 200>\n",
    "        </td>\n",
    "    </tr>\n",
    "</table>"
   ]
  },
  {
   "cell_type": "markdown",
   "metadata": {},
   "source": [
    "<font size='4'><b>Lab 06: Acceleration from Motion, Shock, or Vibration</b></font>"
   ]
  },
  {
   "cell_type": "code",
   "execution_count": 1,
   "metadata": {
    "collapsed": false
   },
   "outputs": [
    {
     "data": {
      "text/html": [
       "<iframe src=\"https://www.youtube.com/embed/3XQElakoCz4\" \n",
       "width=\"560\" height=\"315\" frameborder=\"0\" allowfullscreen></iframe>"
      ],
      "text/plain": [
       "<IPython.core.display.HTML object>"
      ]
     },
     "metadata": {},
     "output_type": "display_data"
    }
   ],
   "source": [
    "%%html\n",
    "<iframe src=\"https://www.youtube.com/embed/3XQElakoCz4\" \n",
    "width=\"560\" height=\"315\" frameborder=\"0\" allowfullscreen></iframe>"
   ]
  },
  {
   "cell_type": "markdown",
   "metadata": {},
   "source": [
    "```c\n",
    "const int xpin = A0;\n",
    "const int ypin = A1;\n",
    "const int zpin = A2;\n",
    "\n",
    "int x = 0;\n",
    "int y = 0;\n",
    "int z = 0;\n",
    "\n",
    "void setup() {\n",
    "  Serial.begin(9600);\n",
    "}\n",
    "\n",
    "void loop() {\n",
    "  analogReference(EXTERNAL);\n",
    "\n",
    "  Serial.print(\"X = \" );\n",
    "  Serial.print(analogRead(xpin));\n",
    "  Serial.print(\"\\t\");\n",
    "  Serial.print(\"Y = \" );\n",
    "  Serial.print(analogRead(ypin));\n",
    "  Serial.print(\"\\t\");\n",
    "  Serial.print(\"Z = \");\n",
    "  Serial.println(analogRead(zpin));\n",
    "  \n",
    "  delay(500);\n",
    "}\n",
    "```"
   ]
  },
  {
   "cell_type": "markdown",
   "metadata": {},
   "source": [
    "## 2.5. Other Voltage-Controlling Sensors\n",
    "\n",
    "<table style=\"border-style: hidden; border-collapse: collapse;\" width = \"90%\"> \n",
    "    <tr style=\"border-style: hidden; border-collapse: collapse;\">\n",
    "        <td width = 40% style=\"border-style: hidden; border-collapse: collapse;\">\n",
    "- Accelerometer reports acceleration in 3 dimensions<br>\n",
    "- Gyroscope reports angular velocity in 2 dimensions<br>\n",
    "- Will be used later in a class\n",
    "        </td>\n",
    "        <td width = 50%>\n",
    "<img src = \"./image_files/othersensor.png\" width =400>\n",
    "        </td>\n",
    "    </tr>\n",
    "</table>"
   ]
  },
  {
   "cell_type": "code",
   "execution_count": 21,
   "metadata": {
    "collapsed": false
   },
   "outputs": [
    {
     "data": {
      "application/javascript": [
       "$.getScript('https://kmahelona.github.io/ipython_notebook_goodies/ipython_notebook_toc.js')"
      ],
      "text/plain": [
       "<IPython.core.display.Javascript object>"
      ]
     },
     "metadata": {},
     "output_type": "display_data"
    }
   ],
   "source": [
    "%%javascript\n",
    "$.getScript('https://kmahelona.github.io/ipython_notebook_goodies/ipython_notebook_toc.js')"
   ]
  }
 ],
 "metadata": {
  "anaconda-cloud": {},
  "kernelspec": {
   "display_name": "Python 3",
   "language": "python",
   "name": "python3"
  },
  "language_info": {
   "codemirror_mode": {
    "name": "ipython",
    "version": 3
   },
   "file_extension": ".py",
   "mimetype": "text/x-python",
   "name": "python",
   "nbconvert_exporter": "python",
   "pygments_lexer": "ipython3",
   "version": "3.3.5"
  }
 },
 "nbformat": 4,
 "nbformat_minor": 0
}

{
 "cells": [
  {
   "cell_type": "markdown",
   "metadata": {
    "collapsed": true
   },
   "source": [
    "<br>\n",
    "<font size='6'><b>Advanced Arduino</b></font><br><br>\n",
    "\n",
    "<table style=\"border-style: hidden; border-collapse: collapse;\" width = \"80%\"> \n",
    "    <tr style=\"border-style: hidden; border-collapse: collapse;\">\n",
    "        <td width = 60% style=\"border-style: hidden; border-collapse: collapse;\">\n",
    "\n",
    "        </td>\n",
    "        <td width = 20%>\n",
    "        by Seungchul Lee<br>iSystems Design Lab<br>http://isystems.unist.ac.kr/<br>UNIST\n",
    "        </td>\n",
    "    </tr>\n",
    "</table>\n",
    "\n",
    "Table of Contents\n",
    "<div id=\"toc\"></div>"
   ]
  },
  {
   "cell_type": "markdown",
   "metadata": {},
   "source": [
    "# 1. Visual Output (revisited)\n",
    "\n"
   ]
  },
  {
   "cell_type": "markdown",
   "metadata": {},
   "source": [
    "## 1.1. Dual 7 Segment\n",
    "\n",
    "We have learned about 7 segments that can only represent 1 digit. However, there are many applications where we need to represent more than one digit. Let's make an embedded system that can represent two digits using a dual 7 segment (two 7 segments).\n",
    "\n",
    "<img src = \"./image_files/2_7seg.jpg\" width = 400>\n",
    "\n",
    "The first thing you’re probably wondering is: “__how can we control a total of 16 different segments (LED) if we only have ten pins on the Arduino?__”. \n",
    "\n",
    "To get some hints, see the below exprement.\n",
    "\n",
    "- space vs. time"
   ]
  },
  {
   "cell_type": "code",
   "execution_count": 2,
   "metadata": {
    "collapsed": false
   },
   "outputs": [
    {
     "data": {
      "text/html": [
       "<iframe src=\"https://www.youtube.com/embed/1lA4UUCGUu0\" \n",
       "width=\"560\" height=\"315\" frameborder=\"0\" allowfullscreen></iframe>"
      ],
      "text/plain": [
       "<IPython.core.display.HTML object>"
      ]
     },
     "metadata": {},
     "output_type": "display_data"
    }
   ],
   "source": [
    "%%html\n",
    "<iframe src=\"https://www.youtube.com/embed/1lA4UUCGUu0\" \n",
    "width=\"560\" height=\"315\" frameborder=\"0\" allowfullscreen></iframe>"
   ]
  },
  {
   "cell_type": "markdown",
   "metadata": {},
   "source": [
    "In multiplexed LED applications the LED segments of all the digits are tied together and the common pins of each digit are turned ON separately by the microcontroller. \n",
    "\n",
    "When each digit is displayed only for several milliseconds, the eye cannot tell that the digits are not ON all the time. This way we can multiplex any number of 7-segment displays together. \n",
    "\n",
    "For example, to display the number 53, we have to send 5 to segments $a$ to $g$ and enable its common pin. After a few milliseconds, number 3 is sent to segments $a$ to $g$ and the common point of the second digit is enabled. When this process is __repeated continuously and fast enough__, it appears to the user that both displays are ON continuously.\n",
    "\n",
    " 1) Send the segment bit pattern to segments $a$ to $g$<br>\n",
    " 2) Enable digit 1<br>\n",
    " 3) Wait for a few milliseconds<br>\n",
    " 4) Disable digit 1<br>\n",
    " 5) Send the segment bit pattern to segments $a$ to $g$<br>\n",
    " 6) Enable digit 2<br>\n",
    " 7) Wait for a few milliseconds<br>\n",
    " 8) Disable digit 2<br>\n",
    " 9) Repeat"
   ]
  },
  {
   "cell_type": "markdown",
   "metadata": {},
   "source": [
    "<br>\n",
    "<font size='4'><b>Lab 1: Two Digit Counter</b></font>\n",
    "\n",
    "<table style=\"border-style: hidden; border-collapse: collapse;\" width = \"90%\"> \n",
    "    <tr style=\"border-style: hidden; border-collapse: collapse;\">\n",
    "        <td width = 25% style=\"border-style: hidden; border-collapse: collapse;\">\n",
    "<img src = \"./image_files/2_7seg.jpg\" width = 250>\n",
    "        </td>\n",
    "        <td width = 30% style=\"border-style: hidden; border-collapse: collapse;\">\n",
    "<img src = \"./image_files/two_7segs.jpg\" width = 250>\n",
    "        </td>\n",
    "        <td width = 35%>\n",
    "<img src = \"./image_files/Dual7-segment.jpg\" width = 400>\n",
    "        </td>\n",
    "    </tr>\n",
    "</table>\n",
    "\n",
    "<img src = \"./image_files/two_7seg_circuit.png\" width = 350>\n",
    "\n",
    "Add code for displaying 24"
   ]
  },
  {
   "cell_type": "markdown",
   "metadata": {
    "collapsed": true
   },
   "source": [
    "<br>\n",
    "<font size='4'><b>Lab 2: Two Digit Counter from 0 to 99</b></font>\n",
    "\n",
    "<img src = \"./image_files/two_7seg_circuit.png\" width = 350>"
   ]
  },
  {
   "cell_type": "markdown",
   "metadata": {},
   "source": [
    ">need to add code"
   ]
  },
  {
   "cell_type": "markdown",
   "metadata": {},
   "source": [
    "<font size='4'><b>Lab 3: Use LEDDisplay.h library</b></font>\n",
    "\n",
    "\n",
    "\n",
    "```c\n",
    "#include <LEDDisplay.h>\n",
    "\n",
    "LEDDisplay *led;\n",
    "\n",
    "void setup() {\n",
    "  int digitFlagPins[] = {10, 11};\n",
    "  int segmentPins[] = {2, 3, 4, 5 , 6 , 7 , 8, 9};\n",
    "  int decimalPointPin = 9;\n",
    "  led = new LEDDisplay(2, digitFlagPins, segmentPins, decimalPointPin);\n",
    "}\n",
    "\n",
    "void loop() {\n",
    "  led -> displayNumber(2, 1);\n",
    "  led -> displayNumber(4, 0);\n",
    "}\n",
    "\n",
    "```\n",
    "\n",
    "To see this in a slightly more dynamic example, we can adapt the example to make the LED display act as a counter (obviously only up to the number 99). \n",
    "\n",
    "```c\n",
    "#include <LEDDisplay.h>\n",
    "\n",
    "LEDDisplay *led;\n",
    "int millisecondsPerCount;\n",
    "int counter;\n",
    "unsigned long lastUpdate;\n",
    "\n",
    "void setup()  {\n",
    "  millisecondsPerCount = 1000;\n",
    "  int digitFlagPins[] = {10, 11};\n",
    "  int segmentPins[] = {2, 3, 4, 5 , 6 , 7 , 8, 9};\n",
    "  int decimalPointPin = 9;\n",
    "  led = new LEDDisplay(2, digitFlagPins, segmentPins, decimalPointPin);\n",
    "}\n",
    "\n",
    "void loop()  {\n",
    "  unsigned long now = millis();\n",
    "  if (now - lastUpdate > millisecondsPerCount) {\n",
    "    lastUpdate = now;\n",
    "    counter++;\n",
    "    if (counter == 100) {\n",
    "      counter = 0;\n",
    "    }\n",
    "  }\n",
    "\n",
    "  int number = counter;\n",
    "  for (int i = 0; i < 2; i++) {\n",
    "    led -> displayNumber(number % 10, i);\n",
    "    delay(2);\n",
    "    number = number / 10;\n",
    "  }\n",
    "}\n",
    "```"
   ]
  },
  {
   "cell_type": "markdown",
   "metadata": {},
   "source": [
    "## 1.2. POV Display\n",
    "\n",
    "- Persistence-Of-Vision (POV) display\n",
    "\n",
    "- It makes use of the fact that our eyes are acting like a low pass filter.\n"
   ]
  },
  {
   "cell_type": "code",
   "execution_count": 3,
   "metadata": {
    "collapsed": false
   },
   "outputs": [
    {
     "data": {
      "text/html": [
       "<iframe src=\"https://www.youtube.com/embed/Md78sOI1-r8\" \n",
       "width=\"560\" height=\"315\" frameborder=\"0\" allowfullscreen></iframe>"
      ],
      "text/plain": [
       "<IPython.core.display.HTML object>"
      ]
     },
     "metadata": {},
     "output_type": "display_data"
    }
   ],
   "source": [
    "%%html\n",
    "<iframe src=\"https://www.youtube.com/embed/Md78sOI1-r8\" \n",
    "width=\"560\" height=\"315\" frameborder=\"0\" allowfullscreen></iframe>"
   ]
  },
  {
   "cell_type": "markdown",
   "metadata": {},
   "source": [
    " When a person sees an object, its image remains in the retina of the eye for a time interval of 1/16th of a second. This phenomenon is known as persistence of vision of the eye. This phenomenon is used in the POV Display to form images. We turn the LEDs on and off in such a way that the different images overlap each other forming letters. For example:\n",
    " \n",
    "<img src = \"./image_files/POV-Display-min.jpg\" width = 500>"
   ]
  },
  {
   "cell_type": "code",
   "execution_count": 4,
   "metadata": {
    "collapsed": false
   },
   "outputs": [
    {
     "data": {
      "text/html": [
       "<iframe src=\"https://www.youtube.com/embed/57carjNxI9A\" \n",
       "width=\"560\" height=\"315\" frameborder=\"0\" allowfullscreen></iframe>"
      ],
      "text/plain": [
       "<IPython.core.display.HTML object>"
      ]
     },
     "metadata": {},
     "output_type": "display_data"
    }
   ],
   "source": [
    "%%html\n",
    "<iframe src=\"https://www.youtube.com/embed/57carjNxI9A\" \n",
    "width=\"560\" height=\"315\" frameborder=\"0\" allowfullscreen></iframe>"
   ]
  },
  {
   "cell_type": "markdown",
   "metadata": {},
   "source": [
    "# 2. Serial Communication\n",
    "\n",
    "## 2.1. What's happening during serial communication?"
   ]
  },
  {
   "cell_type": "code",
   "execution_count": 5,
   "metadata": {
    "collapsed": false
   },
   "outputs": [
    {
     "data": {
      "text/html": [
       "<iframe src=\"https://player.vimeo.com/video/97519477\" \n",
       "width=\"640\" height=\"360\" frameborder=\"0\" allowfullscreen></iframe>"
      ],
      "text/plain": [
       "<IPython.core.display.HTML object>"
      ]
     },
     "metadata": {},
     "output_type": "display_data"
    }
   ],
   "source": [
    "%%html\n",
    "<iframe src=\"https://player.vimeo.com/video/97519477\" \n",
    "width=\"640\" height=\"360\" frameborder=\"0\" allowfullscreen></iframe>"
   ]
  },
  {
   "cell_type": "markdown",
   "metadata": {},
   "source": [
    "## 2.2. Multiple values in seiral communication"
   ]
  },
  {
   "cell_type": "code",
   "execution_count": 6,
   "metadata": {
    "collapsed": false
   },
   "outputs": [
    {
     "data": {
      "text/html": [
       "<iframe src=\"https://player.vimeo.com/video/97527889\" \n",
       "width=\"640\" height=\"360\" frameborder=\"0\" allowfullscreen></iframe>"
      ],
      "text/plain": [
       "<IPython.core.display.HTML object>"
      ]
     },
     "metadata": {},
     "output_type": "display_data"
    }
   ],
   "source": [
    "%%html\n",
    "<iframe src=\"https://player.vimeo.com/video/97527889\" \n",
    "width=\"640\" height=\"360\" frameborder=\"0\" allowfullscreen></iframe>"
   ]
  },
  {
   "cell_type": "markdown",
   "metadata": {},
   "source": [
    "<font size='4'><b>`Serial.write()`</b></font>\n",
    "\n",
    "- Writes binary data to the serial port. This data is sent as a byte or series of bytes; \n",
    "- to send the characters representing the digits of a number use the `print()` function instead.\n",
    "\n",
    "```c\n",
    "void setup() {\n",
    "  Serial.begin(9600);\n",
    "}\n",
    "\n",
    "void loop() {\n",
    "  Serial.write(45); // send a byte with the value 45\n",
    "  int bytesSent = Serial.write(\"hello\"); //send the string “hello” and return the length of the string.\n",
    "}\n",
    "```\n",
    "\n",
    "- Serial.write(val)\n",
    "    - val: a value to send as a single byte\n",
    "\n",
    "\n",
    "- Serial.write(str)\n",
    "    - str: a string to send as a series of bytes\n",
    "    \n",
    "\n",
    "- Serial.write(buf, len)\n",
    "    - buf: an array to send as a series of bytes\n",
    "    - len: the length of the buffer \n",
    "\n",
    "<br>\n",
    "<font size='4'><b>`serialEvent()`</b></font>\n",
    "\n",
    "- Called when data is available. Use Serial.read() to capture this data.\n",
    "\n",
    "```c\n",
    "void serialEvent() {\n",
    "  //statements\n",
    "}\n",
    "```\n",
    "\n",
    "\n",
    "```c\n",
    "/*\n",
    "  Serial Event example\n",
    "\n",
    " When new serial data arrives, this sketch adds it to a String.\n",
    " When a newline is received, the loop prints the string and\n",
    " clears it.\n",
    "\n",
    " A good test for this is to try it with a GPS receiver\n",
    " that sends out NMEA 0183 sentences.\n",
    "\n",
    " Created 9 May 2011\n",
    " by Tom Igoe\n",
    "\n",
    " This example code is in the public domain.\n",
    "\n",
    " http://www.arduino.cc/en/Tutorial/SerialEvent\n",
    "\n",
    " */\n",
    "\n",
    "String inputString = \"\";         // a string to hold incoming data\n",
    "boolean stringComplete = false;  // whether the string is complete\n",
    "\n",
    "void setup() {\n",
    "  // initialize serial:\n",
    "  Serial.begin(9600);\n",
    "  // reserve 200 bytes for the inputString:\n",
    "  inputString.reserve(200);\n",
    "}\n",
    "\n",
    "void loop() {\n",
    "  // print the string when a newline arrives:\n",
    "  if (stringComplete) {\n",
    "    Serial.println(inputString);\n",
    "    // clear the string:\n",
    "    inputString = \"\";\n",
    "    stringComplete = false;\n",
    "  }\n",
    "}\n",
    "\n",
    "/*\n",
    "  SerialEvent occurs whenever a new data comes in the\n",
    " hardware serial RX.  This routine is run between each\n",
    " time loop() runs, so using delay inside loop can delay\n",
    " response.  Multiple bytes of data may be available.\n",
    " */\n",
    "void serialEvent() {\n",
    "  while (Serial.available()) {\n",
    "    // get the new byte:\n",
    "    char inChar = (char)Serial.read();\n",
    "    // add it to the inputString:\n",
    "    inputString += inChar;\n",
    "    // if the incoming character is a newline, set a flag\n",
    "    // so the main loop can do something about it:\n",
    "    if (inChar == '\\n') {\n",
    "      stringComplete = true;\n",
    "    }\n",
    "  }\n",
    "}\n",
    "```"
   ]
  },
  {
   "cell_type": "markdown",
   "metadata": {},
   "source": [
    "<font size='4'><b>print string</b></font>\n",
    "\n",
    "```c\n",
    "void setup() {\n",
    "  Serial.begin(9600);\n",
    "}\n",
    "\n",
    "void loop() {\n",
    "  String msg = \"\";\n",
    "  if (Serial.available() > 0) {\n",
    "    while (Serial.available() > 0) {\n",
    "      msg += char(Serial.read());\n",
    "      delay(5);\n",
    "    }\n",
    "    Serial.println(msg);\n",
    "  }\n",
    "}\n",
    "```\n",
    "\n"
   ]
  },
  {
   "cell_type": "markdown",
   "metadata": {},
   "source": [
    "# 3. Interrupt \n",
    "\n",
    "You want to perform some action when a digital pin changes value and you don’t want to constantly check the pin state.\n",
    "\n",
    "## 3.1. External Interrupt\n",
    "\n",
    "__Interrupts vs. Polling__\n",
    "\n",
    "- Polling:\n",
    "    - Continuously poll IOs for change of value\n",
    "    - Polling is like picking up your phone every few seconds to see if you have a call...\n",
    "    - Cons:\n",
    "        - Most polls are unneeded – value did not change\n",
    "        - High CPU usage\n",
    "        - Reaction time depends on #IOs\n",
    "\n",
    "- Interrupt\n",
    "    - Normal execution is interrupted when event occurs\n",
    "    - Interrupts are like waiting for the phone to ring\n",
    "    - Time spent in interrupt handlers should be kept as short as possible\n",
    "    - Pro:\n",
    "        - Processor resources are only used when necessary\n",
    "    - Cons:\n",
    "        - Program execution is interrupted in a non-deterministic manner\n",
    "\n",
    "\n",
    "<img src = \"./image_files/interrupt_flow_02.png\" style=\"border:1px solid black\", width =500>\n",
    "\n",
    "__Interrupt Service Routine (ISR)__\n",
    "\n",
    "- Event handler for interrupt\n",
    "- Special, user-defined function for handling the interrupt\n",
    "\n",
    "Watch the below introductory lecture on interrupt."
   ]
  },
  {
   "cell_type": "code",
   "execution_count": 7,
   "metadata": {
    "collapsed": false
   },
   "outputs": [
    {
     "data": {
      "text/html": [
       "<iframe src=\"https://www.youtube.com/embed/M73dNDkBeT8\" \n",
       "width=\"560\" height=\"315\" frameborder=\"0\" allowfullscreen></iframe>"
      ],
      "text/plain": [
       "<IPython.core.display.HTML object>"
      ]
     },
     "metadata": {},
     "output_type": "display_data"
    }
   ],
   "source": [
    "%%html\n",
    "<iframe src=\"https://www.youtube.com/embed/M73dNDkBeT8\" \n",
    "width=\"560\" height=\"315\" frameborder=\"0\" allowfullscreen></iframe>"
   ]
  },
  {
   "cell_type": "markdown",
   "metadata": {},
   "source": [
    "Add circuit scheme and arduino code"
   ]
  },
  {
   "cell_type": "markdown",
   "metadata": {},
   "source": [
    "<font size='4'><b>Lab</b></font>\n",
    "\n",
    "```c\n",
    "int pin = 13;           // LED on board\n",
    "int interrupt0pin = 2;  // pin attached to int0 if you're using Uno\n",
    "int buttonState;\n",
    "\n",
    "void setup() {\n",
    "  pinMode(pin, OUTPUT);\n",
    "  pinMode(interrupt0pin, INPUT);\n",
    "\n",
    "  // calls buttonUpdate() when button input changes (you can also use high-to-low or low-to-high)\n",
    "  attachInterrupt(0, buttonUpdate, CHANGE);\n",
    "}\n",
    "\n",
    "void loop() {\n",
    "  if (buttonState)\n",
    "    digitalWrite(pin, HIGH);\n",
    "  else\n",
    "    digitalWrite(pin, LOW);\n",
    "}\n",
    "\n",
    "void buttonUpdate() {\n",
    "  buttonState = digitalRead(interrupt0pin);\n",
    "  delay(50);            // 50ms works for most switches - adjustable\n",
    "}\n",
    "```"
   ]
  },
  {
   "cell_type": "markdown",
   "metadata": {
    "collapsed": true
   },
   "source": [
    "<font size='4'><b>Lab</b></font>\n",
    "\n",
    "This sketch monitors pulses on pin 2 and stores the duration in an array. When the array has been filled (64 pulses have been received), the duration of each pulse is displayed on the Serial Monitor:\n",
    "\n",
    "```c\n",
    "/*\n",
    "Interrupts sketch\n",
    "see Recipe 10.1 for connection diagram from Arduino Cookbook\n",
    "*/\n",
    "\n",
    "const int irReceiverPin = 2; //pin the receiver is connected to\n",
    "const int numberOfEntries = 64;\n",
    "volatile unsigned long microseconds;\n",
    "volatile byte index = 0;\n",
    "volatile unsigned long results[numberOfEntries];\n",
    "\n",
    "void setup() {\n",
    "  pinMode(irReceiverPin, INPUT);\n",
    "  Serial.begin(9600);\n",
    "  attachInterrupt(0, analyze, CHANGE); // encoder pin on interrupt 0 (pin 2);\n",
    "  results[0] = 0;\n",
    "}\n",
    "void loop() {\n",
    "  if (index >= numberOfEntries) {\n",
    "    Serial.println(\"Durations in Microseconds are:\") ;\n",
    "    for ( byte i = 0; i < numberOfEntries; i++) {\n",
    "      Serial.println(results[i]);\n",
    "    }\n",
    "    while (1);\n",
    "  }\n",
    "  delay(1000);\n",
    "}\n",
    "void analyze() {\n",
    "  if (index < numberOfEntries ) {\n",
    "    if (index > 0) {\n",
    "      results[index] = micros() - microseconds;\n",
    "    }\n",
    "    index = index + 1;\n",
    "  }\n",
    "  microseconds = micros();\n",
    "}\n",
    "```"
   ]
  },
  {
   "cell_type": "markdown",
   "metadata": {},
   "source": [
    "## 3.2. Timer interrupt"
   ]
  },
  {
   "cell_type": "code",
   "execution_count": 8,
   "metadata": {
    "collapsed": false
   },
   "outputs": [
    {
     "data": {
      "text/html": [
       "<iframe src=\"https://www.youtube.com/embed/m5_pFID-f-M?start=0&end=932\" \n",
       "width=\"560\" height=\"315\" frameborder=\"0\" allowfullscreen></iframe>"
      ],
      "text/plain": [
       "<IPython.core.display.HTML object>"
      ]
     },
     "metadata": {},
     "output_type": "display_data"
    }
   ],
   "source": [
    "%%html\n",
    "<iframe src=\"https://www.youtube.com/embed/m5_pFID-f-M?start=0&end=932\" \n",
    "width=\"560\" height=\"315\" frameborder=\"0\" allowfullscreen></iframe>"
   ]
  },
  {
   "cell_type": "markdown",
   "metadata": {},
   "source": [
    "The Arduino UNO has three timers\n",
    "\n",
    "- Timer0: An 8 bit timer used by Arduino functions `delay()`, `millis()` and `micros()`.\n",
    "- Timer1: A 16 bit timer used by the `Servo()` library\n",
    "- Timer2: An 8 bit timer used by the `Tone()` library\n",
    "\n",
    "The Arduino has 3 Timers and 6 PWM output pins. The relation between timers and PWM outputs is:\n",
    "\n",
    "- Pins 5 and 6: controlled by timer0\n",
    "- Pins 9 and 10: controlled by timer1\n",
    "- Pins 11 and 3: controlled by timer2"
   ]
  },
  {
   "cell_type": "markdown",
   "metadata": {
    "collapsed": true
   },
   "source": [
    "<font size='4'><b>Lab</b></font>\n",
    "\n",
    "```c\n",
    "#include \"TimerOne.h\"\n",
    "\n",
    "void setup() {\n",
    "  pinMode(13, OUTPUT);\n",
    "  Timer1.initialize(500000);         // initialize timer1, and set a 500000 microseconds (or 1/2 second period)\n",
    "  Timer1.attachInterrupt(timerIsr);  // attaches timerIsr() as a timer service routine\n",
    "}\n",
    "\n",
    "void timerIsr() {\n",
    "  // Toggle LED\n",
    "  digitalWrite(13, digitalRead(13) ^ 1);\n",
    "}\n",
    "\n",
    "void loop() {\n",
    "  // your program here...\n",
    "}\n",
    "```"
   ]
  },
  {
   "cell_type": "markdown",
   "metadata": {},
   "source": [
    "<font size='4'><b>Timer interrupt embeded functions</b></font>\n",
    "\n",
    "- `millis()`\n",
    "- `micro()`\n",
    "\n",
    "<br>\n",
    "<font size='4'><b>`millis()`</b></font>\n",
    "\n",
    "Returns the number of milliseconds since the Arduino board began running the current program. This number will overflow (go back to zero), after approximately 50 days. \n",
    "\n",
    "```c\n",
    "unsigned long time;\n",
    "\n",
    "void setup(){\n",
    "  Serial.begin(9600);\n",
    "}\n",
    "void loop(){\n",
    "  Serial.print(\"Time: \");\n",
    "  time = millis();\n",
    "  //prints time since program started\n",
    "  Serial.println(time);\n",
    "  // wait a second so as not to send massive amounts of data\n",
    "  delay(1000);\n",
    "}\n",
    "```\n",
    "\n",
    "<font size='4'><b>`micros()`</b></font>\n",
    "\n",
    "Returns the number of microseconds since the Arduino board began running the current program. This number will overflow (go back to zero), after approximately 70 minutes.\n",
    "\n",
    "\n",
    "```c\n",
    "unsigned long time;\n",
    "\n",
    "void setup(){\n",
    "  Serial.begin(9600);\n",
    "}\n",
    "void loop(){\n",
    "  Serial.print(\"Time: \");\n",
    "  time = micros();\n",
    "  //prints time since program started\n",
    "  Serial.println(time);\n",
    "  // wait a second so as not to send massive amounts of data\n",
    "  delay(1000);\n",
    "}\n",
    "```\n",
    "\n",
    "__Note__\n",
    "\n",
    "- 1,000 microseconds in a millisecond\n",
    "- 1,000,000 microseconds in a second."
   ]
  },
  {
   "cell_type": "markdown",
   "metadata": {},
   "source": [
    "<font size='4'><b>Lab</b></font>\n",
    "\n",
    "Blink without delay()\n",
    "\n",
    "```c\n",
    "/* Blink without Delay\n",
    "\n",
    " Turns on and off a light emitting diode (LED) connected to a digital\n",
    " pin, without using the delay() function.  This means that other code\n",
    " can run at the same time without being interrupted by the LED code.\n",
    "\n",
    " The circuit:\n",
    " * LED attached from pin 13 to ground.\n",
    " * Note: on most Arduinos, there is already an LED on the board\n",
    " that's attached to pin 13, so no hardware is needed for this example.\n",
    "\n",
    " created 2005\n",
    " by David A. Mellis\n",
    " modified 8 Feb 2010\n",
    " by Paul Stoffregen\n",
    " modified 11 Nov 2013\n",
    " by Scott Fitzgerald\n",
    "\n",
    "\n",
    " This example code is in the public domain.\n",
    "\n",
    " http://www.arduino.cc/en/Tutorial/BlinkWithoutDelay\n",
    " */\n",
    "\n",
    "// constants won't change. Used here to set a pin number :\n",
    "const int ledPin =  13;      // the number of the LED pin\n",
    "\n",
    "// Variables will change :\n",
    "int ledState = LOW;             // ledState used to set the LED\n",
    "\n",
    "// Generally, you should use \"unsigned long\" for variables that hold time\n",
    "// The value will quickly become too large for an int to store\n",
    "unsigned long previousMillis = 0;        // will store last time LED was updated\n",
    "\n",
    "// constants won't change :\n",
    "const long interval = 1000;           // interval at which to blink (milliseconds)\n",
    "\n",
    "void setup() {\n",
    "  // set the digital pin as output:\n",
    "  pinMode(ledPin, OUTPUT);\n",
    "}\n",
    "\n",
    "void loop() {\n",
    "  // here is where you'd put code that needs to be running all the time.\n",
    "\n",
    "  // check to see if it's time to blink the LED; that is, if the\n",
    "  // difference between the current time and last time you blinked\n",
    "  // the LED is bigger than the interval at which you want to\n",
    "  // blink the LED.\n",
    "  unsigned long currentMillis = millis();\n",
    "\n",
    "  if (currentMillis - previousMillis >= interval) {\n",
    "    // save the last time you blinked the LED\n",
    "    previousMillis = currentMillis;\n",
    "\n",
    "    // if the LED is off turn it on and vice-versa:\n",
    "    if (ledState == LOW) {\n",
    "      ledState = HIGH;\n",
    "    } else {\n",
    "      ledState = LOW;\n",
    "    }\n",
    "\n",
    "    // set the LED with the ledState of the variable:\n",
    "    digitalWrite(ledPin, ledState);\n",
    "  }\n",
    "}\n",
    "```"
   ]
  },
  {
   "cell_type": "markdown",
   "metadata": {},
   "source": [
    "method 2: use timer interrupt"
   ]
  },
  {
   "cell_type": "markdown",
   "metadata": {},
   "source": [
    "<font size='4'><b>Lab: LCD Timer</b></font>\n",
    "\n",
    "```c\n",
    "// include the library code:\n",
    "#include <LiquidCrystal.h>\n",
    "\n",
    "// initialize the library with the numbers of the interface pins\n",
    "LiquidCrystal lcd(12, 11, 5, 4, 3, 2);\n",
    "\n",
    "void setup() {\n",
    "  // set up the LCD's number of columns and rows:\n",
    "  lcd.begin(16, 2);\n",
    "  // Print a message to the LCD.\n",
    "  lcd.print(\"hello, world!\");\n",
    "}\n",
    "\n",
    "void loop() {\n",
    "  // set the cursor to column 0, line 1\n",
    "  // (note: line 1 is the second row, since counting begins with 0):\n",
    "  lcd.setCursor(0, 1);\n",
    "  // print the number of seconds since reset:\n",
    "  lcd.print(millis() / 1000);\n",
    "}\n",
    "```"
   ]
  },
  {
   "cell_type": "markdown",
   "metadata": {},
   "source": [
    "<font size='4'><b>Lab: Dual 7 segments with timer interrupt</b></font>"
   ]
  },
  {
   "cell_type": "code",
   "execution_count": 9,
   "metadata": {
    "collapsed": false
   },
   "outputs": [
    {
     "data": {
      "text/html": [
       "<iframe src=\"https://www.youtube.com/embed/Y4qC8INSotM\" \n",
       "width=\"560\" height=\"315\" frameborder=\"0\" allowfullscreen></iframe>"
      ],
      "text/plain": [
       "<IPython.core.display.HTML object>"
      ]
     },
     "metadata": {},
     "output_type": "display_data"
    }
   ],
   "source": [
    "%%html\n",
    "<iframe src=\"https://www.youtube.com/embed/Y4qC8INSotM\" \n",
    "width=\"560\" height=\"315\" frameborder=\"0\" allowfullscreen></iframe>"
   ]
  },
  {
   "cell_type": "markdown",
   "metadata": {},
   "source": [
    "# 4. Debouncing\n",
    "\n",
    "## 4.1. Blinking LED using Button (Revisited)\n",
    "\n",
    "<img src = \"./image_files/d7.png\" style=\"border:1px solid black\", width =500>\n",
    "\n",
    "```c\n",
    "const int led    =   8;       //name pin 8 as led\n",
    "const int button =   9;       //name pin 9 as button\n",
    "\n",
    "void setup() {\n",
    "  pinMode(led, OUTPUT);       //set pin 8 as OUTPUT\n",
    "  pinMode(button, INPUT)  ;   //set pin 9 as INPUT\n",
    "}\n",
    "\n",
    "void loop() {\n",
    "  int reads = digitalRead(button);  //read the digital value on pin 9\n",
    "  digitalWrite(led, reads);         //set the digital output value of pin 8 to that value\n",
    "}\n",
    "```\n",
    "\n",
    "- Pushbuttons often generate spurious open/close transitions when pressed, due to mechanical and physical issues: \n",
    "\n",
    "- these transitions may be read as multiple presses in a very short time fooling the program. \n",
    "\n",
    "- checking twice in a short period of time to make sure the pushbutton is definitely pressed.\n",
    "\n",
    "<img src = \"./image_files/debounceswitchb.jpg\" style=\"border:1px solid black\", width =500>\n"
   ]
  },
  {
   "cell_type": "markdown",
   "metadata": {},
   "source": [
    "## 4.2. Interrupt-based debouncing\n",
    "\n",
    "```c\n",
    "int pin = 13;           // LED on board\n",
    "int interrupt0pin = 2;  // pin attached to int0 if you're using Uno\n",
    "int buttonState;\n",
    "\n",
    "void setup() {\n",
    "  pinMode(pin, OUTPUT);\n",
    "  pinMode(interrupt0pin, INPUT);\n",
    "\n",
    "  // calls buttonUpdate() when button input changes (you can also use high-to-low or low-to-high)\n",
    "  attachInterrupt(0, buttonUpdate, CHANGE);\n",
    "}\n",
    "\n",
    "void loop() {\n",
    "  if (buttonState)\n",
    "    digitalWrite(pin, HIGH);\n",
    "  else\n",
    "    digitalWrite(pin, LOW);\n",
    "}\n",
    "\n",
    "void buttonUpdate() {\n",
    "  buttonState = digitalRead(interrupt0pin);\n",
    "  delay(50);            // 50ms works for most switches - adjustable\n",
    "}\n",
    "```"
   ]
  },
  {
   "cell_type": "markdown",
   "metadata": {},
   "source": [
    "## 4.3. Software Debounce\n",
    "\n",
    "https://www.arduino.cc/en/Tutorial/Debounce\n",
    "\n",
    "```c\n",
    "const int buttonPin = 2;    // the number of the pushbutton pin\n",
    "const int ledPin = 13;      // the number of the LED pin\n",
    "\n",
    "// Variables will change:\n",
    "int ledState = HIGH;         // the current state of the output pin\n",
    "int buttonState;             // the current reading from the input pin\n",
    "int lastButtonState = LOW;   // the previous reading from the input pin\n",
    "long lastDebounceTime = 0;  // the last time the output pin was toggled\n",
    "long debounceDelay = 50;    // the debounce time; increase if the output flickers\n",
    "\n",
    "void setup() {\n",
    "  pinMode(buttonPin, INPUT);\n",
    "  pinMode(ledPin, OUTPUT);\n",
    "\n",
    "  // set initial LED state\n",
    "  digitalWrite(ledPin, ledState);\n",
    "}\n",
    "\n",
    "void loop() {\n",
    "  // read the state of the switch into a local variable:\n",
    "  int reading = digitalRead(buttonPin);\n",
    "\n",
    "  // check to see if you just pressed the button\n",
    "  // (i.e. the input went from LOW to HIGH),  and you've waited\n",
    "  // long enough since the last press to ignore any noise:\n",
    "\n",
    "  // If the switch changed, due to noise or pressing:\n",
    "  if (reading != lastButtonState) {\n",
    "    // reset the debouncing timer\n",
    "    lastDebounceTime = millis();\n",
    "  }\n",
    "\n",
    "  if ((millis() - lastDebounceTime) > debounceDelay) {\n",
    "    // whatever the reading is at, it's been there for longer\n",
    "    // than the debounce delay, so take it as the actual current state:\n",
    "\n",
    "    // if the button state has changed:\n",
    "    if (reading != buttonState) {\n",
    "      buttonState = reading;\n",
    "\n",
    "      // only toggle the LED if the new button state is HIGH\n",
    "      if (buttonState == HIGH) {\n",
    "        ledState = !ledState;\n",
    "      }\n",
    "    }\n",
    "  }\n",
    "\n",
    "  // set the LED:\n",
    "  digitalWrite(ledPin, ledState);\n",
    "\n",
    "  // save the reading.  Next time through the loop,\n",
    "  // it'll be the lastButtonState:\n",
    "  lastButtonState = reading;\n",
    "}\n",
    "```"
   ]
  },
  {
   "cell_type": "code",
   "execution_count": 10,
   "metadata": {
    "collapsed": false
   },
   "outputs": [
    {
     "data": {
      "text/html": [
       "<iframe src=\"https://www.youtube.com/embed/5XWgr4vJkQ4\" \n",
       "width=\"560\" height=\"315\" frameborder=\"0\" allowfullscreen></iframe>"
      ],
      "text/plain": [
       "<IPython.core.display.HTML object>"
      ]
     },
     "metadata": {},
     "output_type": "display_data"
    }
   ],
   "source": [
    "%%html\n",
    "<iframe src=\"https://www.youtube.com/embed/5XWgr4vJkQ4\" \n",
    "width=\"560\" height=\"315\" frameborder=\"0\" allowfullscreen></iframe>"
   ]
  },
  {
   "cell_type": "markdown",
   "metadata": {
    "collapsed": false
   },
   "source": [
    "## 4.4. Hardware debouncing (optional)"
   ]
  },
  {
   "cell_type": "markdown",
   "metadata": {},
   "source": [
    "# 5. Synchronous Serial"
   ]
  },
  {
   "cell_type": "code",
   "execution_count": 11,
   "metadata": {
    "collapsed": false
   },
   "outputs": [
    {
     "data": {
      "text/html": [
       "<iframe src=\"https://player.vimeo.com/video/111224388\" \n",
       "width=\"640\" height=\"360\" frameborder=\"0\" allowfullscreen></iframe>"
      ],
      "text/plain": [
       "<IPython.core.display.HTML object>"
      ]
     },
     "metadata": {},
     "output_type": "display_data"
    }
   ],
   "source": [
    "%%html\n",
    "<iframe src=\"https://player.vimeo.com/video/111224388\" \n",
    "width=\"640\" height=\"360\" frameborder=\"0\" allowfullscreen></iframe>"
   ]
  },
  {
   "cell_type": "markdown",
   "metadata": {
    "collapsed": true
   },
   "source": [
    "## 5.1. SPI\n",
    "\n",
    "https://learn.sparkfun.com/tutorials/serial-peripheral-interface-spi?_ga=1.137392624.1133730960.1469244666\n",
    "\n",
    "IMU sensors"
   ]
  },
  {
   "cell_type": "code",
   "execution_count": 12,
   "metadata": {
    "collapsed": false
   },
   "outputs": [
    {
     "data": {
      "text/html": [
       "<iframe src=\"https://player.vimeo.com/video/111225512\" \n",
       "width=\"640\" height=\"360\" frameborder=\"0\" allowfullscreen></iframe>"
      ],
      "text/plain": [
       "<IPython.core.display.HTML object>"
      ]
     },
     "metadata": {},
     "output_type": "display_data"
    }
   ],
   "source": [
    "%%html\n",
    "<iframe src=\"https://player.vimeo.com/video/111225512\" \n",
    "width=\"640\" height=\"360\" frameborder=\"0\" allowfullscreen></iframe>"
   ]
  },
  {
   "cell_type": "markdown",
   "metadata": {},
   "source": [
    "## 5.2 I2C\n",
    "\n",
    "IMU sensors"
   ]
  },
  {
   "cell_type": "code",
   "execution_count": 13,
   "metadata": {
    "collapsed": false
   },
   "outputs": [
    {
     "data": {
      "text/html": [
       "<iframe src=\"https://player.vimeo.com/video/111239036\" \n",
       "width=\"640\" height=\"360\" frameborder=\"0\" allowfullscreen></iframe>"
      ],
      "text/plain": [
       "<IPython.core.display.HTML object>"
      ]
     },
     "metadata": {},
     "output_type": "display_data"
    }
   ],
   "source": [
    "%%html\n",
    "<iframe src=\"https://player.vimeo.com/video/111239036\" \n",
    "width=\"640\" height=\"360\" frameborder=\"0\" allowfullscreen></iframe>"
   ]
  },
  {
   "cell_type": "code",
   "execution_count": 14,
   "metadata": {
    "collapsed": false
   },
   "outputs": [
    {
     "data": {
      "application/javascript": [
       "$.getScript('https://kmahelona.github.io/ipython_notebook_goodies/ipython_notebook_toc.js')"
      ],
      "text/plain": [
       "<IPython.core.display.Javascript object>"
      ]
     },
     "metadata": {},
     "output_type": "display_data"
    }
   ],
   "source": [
    "%%javascript\n",
    "$.getScript('https://kmahelona.github.io/ipython_notebook_goodies/ipython_notebook_toc.js')"
   ]
  }
 ],
 "metadata": {
  "anaconda-cloud": {},
  "kernelspec": {
   "display_name": "Python 2",
   "language": "python",
   "name": "python2"
  },
  "language_info": {
   "codemirror_mode": {
    "name": "ipython",
    "version": 2
   },
   "file_extension": ".py",
   "mimetype": "text/x-python",
   "name": "python",
   "nbconvert_exporter": "python",
   "pygments_lexer": "ipython2",
   "version": "2.7.11"
  }
 },
 "nbformat": 4,
 "nbformat_minor": 0
}

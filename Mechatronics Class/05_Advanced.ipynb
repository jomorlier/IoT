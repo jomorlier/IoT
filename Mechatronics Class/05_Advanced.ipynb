{
 "cells": [
  {
   "cell_type": "markdown",
   "metadata": {
    "collapsed": true
   },
   "source": [
    "<br>\n",
    "<font size='6'><b>Advanced Arduino</b></font><br><br>\n",
    "\n",
    "<table style=\"border-style: hidden; border-collapse: collapse;\" width = \"80%\"> \n",
    "    <tr style=\"border-style: hidden; border-collapse: collapse;\">\n",
    "        <td width = 60% style=\"border-style: hidden; border-collapse: collapse;\">\n",
    "\n",
    "        </td>\n",
    "        <td width = 20%>\n",
    "        by Seungchul Lee<br>iSystems Design Lab<br>http://isystems.unist.ac.kr/<br>UNIST\n",
    "        </td>\n",
    "    </tr>\n",
    "</table>\n",
    "\n",
    "Table of Contents\n",
    "<div id=\"toc\"></div>"
   ]
  },
  {
   "cell_type": "markdown",
   "metadata": {},
   "source": [
    "# 1. Visual Output (revisited)\n",
    "\n"
   ]
  },
  {
   "cell_type": "markdown",
   "metadata": {},
   "source": [
    "## 1.1. Dual 7 Segment\n",
    "\n",
    "We have learned about 7 segments that can only represent 1 digit. However, there are many applications where we need to represent more than one digit. Let's make an embedded system that can represent two digits using a dual 7 segment (two 7 segments).\n",
    "\n",
    "<img src = \"./image_files/2_7seg.jpg\" width = 400>\n",
    "\n",
    "The first thing you’re probably wondering is: “__how can we control a total of 16 different segments (LED) if we only have ten pins on the Arduino?__”. \n",
    "\n",
    "To get some hints, see the below exprement.\n",
    "\n",
    "- space vs. time"
   ]
  },
  {
   "cell_type": "code",
   "execution_count": 1,
   "metadata": {
    "collapsed": false
   },
   "outputs": [
    {
     "data": {
      "text/html": [
       "<iframe src=\"https://www.youtube.com/embed/1lA4UUCGUu0\" \n",
       "width=\"560\" height=\"315\" frameborder=\"0\" allowfullscreen></iframe>"
      ],
      "text/plain": [
       "<IPython.core.display.HTML object>"
      ]
     },
     "metadata": {},
     "output_type": "display_data"
    }
   ],
   "source": [
    "%%html\n",
    "<iframe src=\"https://www.youtube.com/embed/1lA4UUCGUu0\" \n",
    "width=\"560\" height=\"315\" frameborder=\"0\" allowfullscreen></iframe>"
   ]
  },
  {
   "cell_type": "markdown",
   "metadata": {},
   "source": [
    "In multiplexed LED applications the LED segments of all the digits are tied together and the common pins of each digit are turned ON separately by the microcontroller. \n",
    "\n",
    "When each digit is displayed only for several milliseconds, the eye cannot tell that the digits are not ON all the time. This way we can multiplex any number of 7-segment displays together. \n",
    "\n",
    "For example, to display the number 53, we have to send 5 to segments $a$ to $g$ and enable its common pin. After a few milliseconds, number 3 is sent to segments $a$ to $g$ and the common point of the second digit is enabled. When this process is __repeated continuously and fast enough__, it appears to the user that both displays are ON continuously.\n",
    "\n",
    " 1) Send the segment bit pattern to segments $a$ to $g$<br>\n",
    " 2) Enable digit 1<br>\n",
    " 3) Wait for a few milliseconds<br>\n",
    " 4) Disable digit 1<br>\n",
    " 5) Send the segment bit pattern to segments $a$ to $g$<br>\n",
    " 6) Enable digit 2<br>\n",
    " 7) Wait for a few milliseconds<br>\n",
    " 8) Disable digit 2<br>\n",
    " 9) Repeat"
   ]
  },
  {
   "cell_type": "markdown",
   "metadata": {},
   "source": [
    "<br>\n",
    "<font size='4'><b>Lab 1: Displaying a Two-Digit Number</b></font>\n",
    "\n",
    "<table style=\"border-style: hidden; border-collapse: collapse;\" width = \"90%\"> \n",
    "    <tr style=\"border-style: hidden; border-collapse: collapse;\">\n",
    "        <td width = 25% style=\"border-style: hidden; border-collapse: collapse;\">\n",
    "<img src = \"./image_files/2_7seg.jpg\" width = 250>\n",
    "        </td>\n",
    "        <td width = 30% style=\"border-style: hidden; border-collapse: collapse;\">\n",
    "<img src = \"./image_files/two_7segs.jpg\" width = 250>\n",
    "        </td>\n",
    "        <td width = 35%>\n",
    "<img src = \"./image_files/Dual7-segment.jpg\" width = 400>\n",
    "        </td>\n",
    "    </tr>\n",
    "</table>\n",
    "\n",
    "<img src = \"./image_files/Advanced_Dual_seg.png\" width = 500>\n",
    "\n",
    "```c\n",
    "const int gnd1 = 9;\n",
    "const int gnd2 = 10;\n",
    "\n",
    "byte digits[10][7] = {   \n",
    "  {0, 0, 0, 0, 0, 0, 1}, // 0\n",
    "  {1, 0, 0, 1, 1, 1, 1}, // 1\n",
    "  {0, 0, 1, 0, 0, 1, 0}, // 2\n",
    "  {0, 0, 0, 0, 1, 1, 0}, // 3\n",
    "  {1, 0, 0, 1, 1, 0, 0}, // 4\n",
    "  {0, 1, 0, 0, 1, 0, 0}, // 5\n",
    "  {0, 1, 0, 0, 0, 0, 0}, // 6\n",
    "  {0, 0, 0, 1, 1, 1, 1}, // 7\n",
    "  {0, 0, 0, 0, 0, 0, 0}, // 8\n",
    "  {0, 0, 0, 1, 1, 0, 0}  // 9\n",
    "};\n",
    "\n",
    "void displayDigit(int num) {         \n",
    "  int pin = 2;\n",
    "  for (int i = 0; i < 7; i++) {\n",
    "    digitalWrite(pin + i, digits[num][i]);\n",
    "  }\n",
    "}\n",
    "\n",
    "void dualBlinker (int one, int two) { //function for displaying numbers on each segment\n",
    "  digitalWrite(gnd1, LOW);\n",
    "  digitalWrite(gnd2, HIGH);\n",
    "  displayDigit(one);\n",
    "  delay(1.5);\n",
    "\n",
    "  digitalWrite(gnd1, HIGH);\n",
    "  digitalWrite(gnd2, LOW);\n",
    "  displayDigit(two);\n",
    "  delay(1.5);\n",
    "}\n",
    "\n",
    "void setup() {\n",
    "  digitalWrite(gnd1, HIGH);\n",
    "  digitalWrite(gnd2, HIGH);\n",
    "\n",
    "  for (int i = 2; i < 11; i++) {\n",
    "    pinMode(i, OUTPUT);\n",
    "  }\n",
    "}\n",
    "\n",
    "void loop() {\n",
    "  dualBlinker(2, 4);\n",
    "}\n",
    "\n",
    "\n",
    "```"
   ]
  },
  {
   "cell_type": "markdown",
   "metadata": {},
   "source": [
    "<font size='4'><b>(Optional) Lab 2: Use LEDDisplay.h library</b></font>\n",
    "\n",
    "\n",
    "\n",
    "```c\n",
    "#include <LEDDisplay.h>\n",
    "\n",
    "LEDDisplay *led;\n",
    "\n",
    "void setup() {\n",
    "  int digitFlagPins[] = {10, 11};\n",
    "  int segmentPins[] = {2, 3, 4, 5 , 6 , 7 , 8, 9};\n",
    "  int decimalPointPin = 9;\n",
    "  led = new LEDDisplay(2, digitFlagPins, segmentPins, decimalPointPin);\n",
    "}\n",
    "\n",
    "void loop() {\n",
    "  led -> displayNumber(2, 1);\n",
    "  led -> displayNumber(4, 0);\n",
    "}\n",
    "\n",
    "```\n",
    "\n",
    "To see this in a slightly more dynamic example, we can adapt the example to make the LED display act as a counter (obviously only up to the number 99). \n",
    "\n",
    "```c\n",
    "#include <LEDDisplay.h>\n",
    "\n",
    "LEDDisplay *led;\n",
    "int millisecondsPerCount;\n",
    "int counter;\n",
    "unsigned long lastUpdate;\n",
    "\n",
    "void setup()  {\n",
    "  millisecondsPerCount = 1000;\n",
    "  int digitFlagPins[] = {10, 11};\n",
    "  int segmentPins[] = {2, 3, 4, 5 , 6 , 7 , 8, 9};\n",
    "  int decimalPointPin = 9;\n",
    "  led = new LEDDisplay(2, digitFlagPins, segmentPins, decimalPointPin);\n",
    "}\n",
    "\n",
    "void loop()  {\n",
    "  unsigned long now = millis();\n",
    "  if (now - lastUpdate > millisecondsPerCount) {\n",
    "    lastUpdate = now;\n",
    "    counter++;\n",
    "    if (counter == 100) {\n",
    "      counter = 0;\n",
    "    }\n",
    "  }\n",
    "\n",
    "  int number = counter;\n",
    "  for (int i = 0; i < 2; i++) {\n",
    "    led -> displayNumber(number % 10, i);\n",
    "    delay(2);\n",
    "    number = number / 10;\n",
    "  }\n",
    "}\n",
    "```"
   ]
  },
  {
   "cell_type": "markdown",
   "metadata": {},
   "source": [
    "## 1.2. POV Display\n",
    "\n",
    "- Persistence-Of-Vision (POV) display\n",
    "\n",
    "- It makes use of the fact that our eyes are acting like a low pass filter.\n"
   ]
  },
  {
   "cell_type": "code",
   "execution_count": 2,
   "metadata": {
    "collapsed": false
   },
   "outputs": [
    {
     "data": {
      "text/html": [
       "<iframe src=\"https://www.youtube.com/embed/Md78sOI1-r8\" \n",
       "width=\"560\" height=\"315\" frameborder=\"0\" allowfullscreen></iframe>"
      ],
      "text/plain": [
       "<IPython.core.display.HTML object>"
      ]
     },
     "metadata": {},
     "output_type": "display_data"
    }
   ],
   "source": [
    "%%html\n",
    "<iframe src=\"https://www.youtube.com/embed/Md78sOI1-r8\" \n",
    "width=\"560\" height=\"315\" frameborder=\"0\" allowfullscreen></iframe>"
   ]
  },
  {
   "cell_type": "markdown",
   "metadata": {},
   "source": [
    " When a person sees an object, its image remains in the retina of the eye for a time interval of 1/16th of a second. This phenomenon is known as persistence of vision of the eye. This phenomenon is used in the POV Display to form images. We turn the LEDs on and off in such a way that the different images overlap each other forming letters. For example:\n",
    " \n",
    "<img src = \"./image_files/POV-Display-min.jpg\" width = 500>"
   ]
  },
  {
   "cell_type": "code",
   "execution_count": 3,
   "metadata": {
    "collapsed": false
   },
   "outputs": [
    {
     "data": {
      "text/html": [
       "<iframe src=\"https://www.youtube.com/embed/57carjNxI9A\" \n",
       "width=\"560\" height=\"315\" frameborder=\"0\" allowfullscreen></iframe>"
      ],
      "text/plain": [
       "<IPython.core.display.HTML object>"
      ]
     },
     "metadata": {},
     "output_type": "display_data"
    }
   ],
   "source": [
    "%%html\n",
    "<iframe src=\"https://www.youtube.com/embed/57carjNxI9A\" \n",
    "width=\"560\" height=\"315\" frameborder=\"0\" allowfullscreen></iframe>"
   ]
  },
  {
   "cell_type": "markdown",
   "metadata": {},
   "source": [
    "# 2. Serial Communication\n",
    "\n",
    "## 2.1. What's happening during serial communication?"
   ]
  },
  {
   "cell_type": "code",
   "execution_count": 4,
   "metadata": {
    "collapsed": false
   },
   "outputs": [
    {
     "data": {
      "text/html": [
       "<iframe src=\"https://player.vimeo.com/video/97519477\" \n",
       "width=\"640\" height=\"360\" frameborder=\"0\" allowfullscreen></iframe>"
      ],
      "text/plain": [
       "<IPython.core.display.HTML object>"
      ]
     },
     "metadata": {},
     "output_type": "display_data"
    }
   ],
   "source": [
    "%%html\n",
    "<iframe src=\"https://player.vimeo.com/video/97519477\" \n",
    "width=\"640\" height=\"360\" frameborder=\"0\" allowfullscreen></iframe>"
   ]
  },
  {
   "cell_type": "markdown",
   "metadata": {},
   "source": [
    "## 2.2. Multiple values in seiral communication"
   ]
  },
  {
   "cell_type": "code",
   "execution_count": 5,
   "metadata": {
    "collapsed": false
   },
   "outputs": [
    {
     "data": {
      "text/html": [
       "<iframe src=\"https://player.vimeo.com/video/97527889\" \n",
       "width=\"640\" height=\"360\" frameborder=\"0\" allowfullscreen></iframe>"
      ],
      "text/plain": [
       "<IPython.core.display.HTML object>"
      ]
     },
     "metadata": {},
     "output_type": "display_data"
    }
   ],
   "source": [
    "%%html\n",
    "<iframe src=\"https://player.vimeo.com/video/97527889\" \n",
    "width=\"640\" height=\"360\" frameborder=\"0\" allowfullscreen></iframe>"
   ]
  },
  {
   "cell_type": "markdown",
   "metadata": {},
   "source": [
    "<font size='4'><b>Serial.write()</b></font>\n",
    "\n",
    "- Writes binary data to the serial port. This data is sent as a byte or series of bytes; \n",
    "- to send the characters representing the digits of a number use the `print()` function instead.\n",
    "\n",
    "```c\n",
    "void setup() {\n",
    "  Serial.begin(9600);\n",
    "}\n",
    "\n",
    "void loop() {\n",
    "  Serial.write(45); // send a byte with the value 45\n",
    "  int bytesSent = Serial.write(\"hello\"); //send the string “hello” and return the length of the string.\n",
    "  Serial.println();\n",
    "}\n",
    "```\n",
    "\n",
    "- Serial.write(val)\n",
    "    - val: a value to send as a single byte\n",
    "\n",
    "\n",
    "- Serial.write(str)\n",
    "    - str: a string to send as a series of bytes\n",
    "    \n",
    "\n",
    "- Serial.write(buf, len)\n",
    "    - buf: an array to send as a series of bytes\n",
    "    - len: the length of the buffer \n",
    "\n",
    "```c\n",
    "void setup() {\n",
    "  Serial.begin(9600);\n",
    "}\n",
    "\n",
    "void loop() {\n",
    "  Serial.write(45); // send a byte with the value 45\n",
    "  int bytesSent = Serial.write(\"hello\", 6); //send the string “hello” and return the length of the string.\n",
    "  Serial.println('-');\n",
    "}\n",
    "```"
   ]
  },
  {
   "cell_type": "markdown",
   "metadata": {},
   "source": [
    "<font size='4'><b>Lab 3: Serial Communication with string</b></font>\n",
    "\n",
    "- method 1\n",
    "\n",
    "```c\n",
    "void setup() {\n",
    "  Serial.begin(9600);\n",
    "}\n",
    "\n",
    "void loop() {\n",
    "  String msg = \"\";\n",
    "  if (Serial.available() > 0) {\n",
    "    while (Serial.available() > 0) {\n",
    "      msg += char(Serial.read());\n",
    "      delay(5);\n",
    "    }\n",
    "    Serial.println(msg);\n",
    "  }\n",
    "}\n",
    "```\n",
    "\n",
    "- method 2\n",
    "\n",
    "> `Serial.readString()` reads characters from the serial buffer into a string.\n",
    "\n",
    "```c\n",
    "void setup() {\n",
    "  Serial.begin(9600);\n",
    "  Serial.setTimeout(50);\n",
    "}\n",
    "\n",
    "void loop() {\n",
    "  String msg = \"\";\n",
    "  if (Serial.available() > 0) {\n",
    "    msg = Serial.readString();\n",
    "    Serial.println(msg);\n",
    "  }\n",
    "}\n",
    "```"
   ]
  },
  {
   "cell_type": "markdown",
   "metadata": {},
   "source": [
    "<font size='4'><b>serialEvent()</b></font>\n",
    "\n",
    "- Called when data is available. Use `Serial.read()` to capture this data.\n",
    "\n",
    ">```c\n",
    "void serialEvent() {\n",
    "    //statements\n",
    "}\n",
    "```\n",
    "\n",
    "\n",
    "```c\n",
    "String inputString = \"\";         // a string to hold incoming data\n",
    "boolean stringComplete = false;  // whether the string is complete\n",
    "\n",
    "void setup() {  \n",
    "  Serial.begin(9600);  \n",
    "  inputString.reserve(200);      // reserve 200 bytes for the inputString\n",
    "}\n",
    "\n",
    "void loop() {  \n",
    "  if (stringComplete) {\n",
    "    Serial.println(inputString);    \n",
    "    inputString = \"\";\n",
    "    stringComplete = false;\n",
    "  }\n",
    "}\n",
    "\n",
    "void serialEvent() {\n",
    "  while (Serial.available()) {    \n",
    "    char inChar = (char)Serial.read();    \n",
    "    inputString += inChar;    \n",
    "    if (inChar == '\\n') {\n",
    "      stringComplete = true;\n",
    "    }\n",
    "  }\n",
    "}\n",
    "```"
   ]
  },
  {
   "cell_type": "markdown",
   "metadata": {},
   "source": [
    "<font size='4'><b>Lab 4: Serial Communication with integer</b></font>\n",
    "\n",
    "- Try 1\n",
    "\n",
    "```c\n",
    "void setup() {\n",
    "  Serial.begin(9600);\n",
    "}\n",
    "\n",
    "void loop() {\n",
    "  int num = 0;\n",
    "  if (Serial.available() > 0) {\n",
    "    num = Serial.read();\n",
    "    Serial.println(num);\n",
    "  }\n",
    "}\n",
    "```\n",
    "\n",
    "<img src=\"./image_files/serial_read_byte.png\" width = 350>\n",
    "\n",
    "- Try 2\n",
    "\n",
    "```c\n",
    "void setup() {\n",
    "  Serial.begin(9600);\n",
    "}\n",
    "\n",
    "void loop() {\n",
    "  int num = 0;\n",
    "  if (Serial.available() > 0) {\n",
    "    num = Serial.read() - '0';\n",
    "    Serial.println(num);\n",
    "  }\n",
    "}\n",
    "```\n",
    "\n",
    "$\\quad \\;$But there are some problems...\n",
    "\n",
    "\n",
    "<img src=\"./image_files/serial_read_problem.png\" width = 350>\n",
    "\n",
    "- Try 3\n",
    "\n",
    "```c\n",
    "long val = 0;\n",
    "\n",
    "void setup() {\n",
    "  Serial.begin(9600);\n",
    "}\n",
    "\n",
    "void loop() {\n",
    "  int digit = 0;\n",
    "\n",
    "  if (Serial.available() > 0) {\n",
    "    while (Serial.available() > 0 ) {\n",
    "      digit = Serial.read() - '0';\n",
    "      val = val * 10 + digit;      \n",
    "    }\n",
    "    Serial.println(val);\n",
    "    val = 0;\n",
    "  }\n",
    "}\n",
    "```\n",
    "\n",
    "$\\quad \\;$A nice try, but\n",
    "\n",
    "<img src=\"./image_files/serial_trial_03.png\" width = 350>\n",
    "\n",
    "- Try 4\n",
    "\n",
    "```c\n",
    "long val = 0;\n",
    "\n",
    "void setup() {\n",
    "  Serial.begin(9600);\n",
    "}\n",
    "\n",
    "void loop() {\n",
    "  int digit = 0;\n",
    "\n",
    "  if (Serial.available() > 0) {\n",
    "    while (Serial.available() > 0 ) {\n",
    "      digit = Serial.read() - '0';\n",
    "      val = val * 10 + digit;\n",
    "      delay(5);\n",
    "    }\n",
    "    Serial.println(val);\n",
    "    val = 0;\n",
    "  }\n",
    "}\n",
    "```\n",
    "\n",
    "<img src=\"./image_files/serial_correct.png\" width = 350>\n",
    "\n",
    "- Simple way\n",
    "\n",
    "> `parseInt()` returns the first valid (long) integer number from the serial buffer\n",
    "\n",
    "```c\n",
    "void setup() {\n",
    "  Serial.begin(9600);\n",
    "}\n",
    "\n",
    "void loop() {\n",
    "  int num = 0;\n",
    "  if (Serial.available() > 0) {\n",
    "    num = Serial.parseInt();\n",
    "    Serial.println(num);\n",
    "  }\n",
    "}\n",
    "```\n",
    "\n",
    "$\\quad \\;$But you will experiance some time delay in response\n",
    "\n",
    "```c\n",
    "void setup() {\n",
    "  Serial.begin(9600);\n",
    "  Serial.setTimeout(50);\n",
    "}\n",
    "\n",
    "void loop() {\n",
    "  int num = 0;\n",
    "  if (Serial.available() > 0) {\n",
    "    num = Serial.parseInt();\n",
    "    Serial.println(num);\n",
    "  }\n",
    "}\n",
    "```"
   ]
  },
  {
   "cell_type": "markdown",
   "metadata": {},
   "source": [
    "# 3. Interrupt \n",
    "\n",
    "You want to perform some action when a digital pin changes value and you don’t want to constantly check the pin state.\n",
    "\n",
    "## 3.1. External Interrupt\n",
    "\n",
    "__Interrupts vs. Polling__\n",
    "\n",
    "- Polling:\n",
    "    - Continuously poll IOs for change of value\n",
    "    - Polling is like picking up your phone every few seconds to see if you have a call...\n",
    "    - Cons:\n",
    "        - Most polls are unneeded – value did not change\n",
    "        - High CPU usage\n",
    "        - Reaction time depends on #IOs\n",
    "\n",
    "- Interrupt\n",
    "    - Normal execution is interrupted when event occurs\n",
    "    - Interrupts are like waiting for the phone to ring\n",
    "    - Time spent in interrupt handlers should be kept as short as possible\n",
    "    - Pro:\n",
    "        - Processor resources are only used when necessary\n",
    "    - Cons:\n",
    "        - Program execution is interrupted in a non-deterministic manner\n",
    "\n",
    "\n",
    "<img src = \"./image_files/interrupt_flow_02.png\" style=\"border:1px solid black\", width =500>\n",
    "\n",
    "__Interrupt Service Routine (ISR)__\n",
    "\n",
    "- Event handler for interrupt\n",
    "- Special, user-defined function for handling the interrupt\n",
    "\n",
    "Watch the below introductory lecture on interrupt."
   ]
  },
  {
   "cell_type": "code",
   "execution_count": 4,
   "metadata": {
    "collapsed": false
   },
   "outputs": [
    {
     "data": {
      "text/html": [
       "<iframe src=\"https://www.youtube.com/embed/M73dNDkBeT8\" \n",
       "width=\"560\" height=\"315\" frameborder=\"0\" allowfullscreen></iframe>"
      ],
      "text/plain": [
       "<IPython.core.display.HTML object>"
      ]
     },
     "metadata": {},
     "output_type": "display_data"
    }
   ],
   "source": [
    "%%html\n",
    "<iframe src=\"https://www.youtube.com/embed/M73dNDkBeT8\" \n",
    "width=\"560\" height=\"315\" frameborder=\"0\" allowfullscreen></iframe>"
   ]
  },
  {
   "cell_type": "markdown",
   "metadata": {},
   "source": [
    "<img src = \"./image_files/advanced_interrupt.png\" style=\"border:1px solid black\", width =500>\n",
    "\n",
    "\n",
    "- LOW to trigger the interrupt whenever the pin is low,\n",
    "- CHANGE to trigger the interrupt whenever the pin changes value\n",
    "- RISING to trigger when the pin goes from low to high,\n",
    "- FALLING for when the pin goes from high to low. \n",
    "    "
   ]
  },
  {
   "cell_type": "markdown",
   "metadata": {},
   "source": [
    "<font size='4'><b>Lab 5</b></font>\n",
    "\n",
    "- Try 1\n",
    "\n",
    "```c\n",
    "const int LED = 9; \n",
    "const int BUTTON = 2;\n",
    "\n",
    "void switchPressed() {\n",
    "  if (digitalRead(BUTTON) == HIGH)\n",
    "    digitalWrite(LED, HIGH);\n",
    "  else\n",
    "    digitalWrite(LED, LOW);\n",
    "}\n",
    "\n",
    "void setup () {\n",
    "  pinMode(LED, OUTPUT);\n",
    "  digitalWrite(BUTTON, HIGH);\n",
    "  attachInterrupt(0, switchPressed, CHANGE);\n",
    "}\n",
    "\n",
    "void loop () {\n",
    "  // loop doing nothing\n",
    "}\n",
    "```\n",
    "\n",
    "- Try 2\n",
    "\n",
    "```c\n",
    "int pin = 9;           // External LED\n",
    "int INT0pin = 2;        // pin attached to int0 if you're using Uno\n",
    "int buttonState;\n",
    "\n",
    "void setup() {\n",
    "  pinMode(pin, OUTPUT);\n",
    "  pinMode(INT0pin, INPUT);\n",
    "\n",
    "  // calls buttonUpdate() when button input changes (you can also use high-to-low or low-to-high)\n",
    "  attachInterrupt(0, buttonUpdate, CHANGE);\n",
    "}\n",
    "\n",
    "void loop() {\n",
    "  if (buttonState)\n",
    "    digitalWrite(pin, HIGH);\n",
    "  else\n",
    "    digitalWrite(pin, LOW);\n",
    "}\n",
    "\n",
    "void buttonUpdate() {\n",
    "  buttonState = digitalRead(INT0pin);\n",
    "  delay(50);            // 50ms works for most switches - adjustable\n",
    "}\n",
    "```"
   ]
  },
  {
   "cell_type": "markdown",
   "metadata": {},
   "source": [
    "## 3.2. Timer interrupt"
   ]
  },
  {
   "cell_type": "code",
   "execution_count": 7,
   "metadata": {
    "collapsed": false
   },
   "outputs": [
    {
     "data": {
      "text/html": [
       "<iframe src=\"https://www.youtube.com/embed/m5_pFID-f-M?start=0&end=932\" \n",
       "width=\"560\" height=\"315\" frameborder=\"0\" allowfullscreen></iframe>"
      ],
      "text/plain": [
       "<IPython.core.display.HTML object>"
      ]
     },
     "metadata": {},
     "output_type": "display_data"
    }
   ],
   "source": [
    "%%html\n",
    "<iframe src=\"https://www.youtube.com/embed/m5_pFID-f-M?start=0&end=932\" \n",
    "width=\"560\" height=\"315\" frameborder=\"0\" allowfullscreen></iframe>"
   ]
  },
  {
   "cell_type": "markdown",
   "metadata": {},
   "source": [
    "The Arduino UNO has three timers\n",
    "\n",
    "- Timer0: An 8 bit timer used by Arduino functions `delay()`, `millis()`, and `micros()`.\n",
    "- Timer1: A 16 bit timer used by the `Servo()` library\n",
    "- Timer2: An 8 bit timer used by the `Tone()` library\n",
    "\n",
    "The Arduino has 3 Timers and 6 PWM output pins. The relation between timers and PWM outputs is:\n",
    "\n",
    "- Pins 5 and 6: controlled by timer0\n",
    "- Pins 9 and 10: controlled by timer1\n",
    "- Pins 11 and 3: controlled by timer2\n",
    "\n",
    "Note: \n",
    "- You cannot use PWM on Pin 5, 6 when Arduino functions `delay()`, `millis()`, and `micros()` are used\n",
    "- You cannot use PWM on Pin 9, 10 when `Servo()` library uses Timer1\n",
    "- You cannot use PWM on Pin 11, 3 when `Tone()` library uses Timer2"
   ]
  },
  {
   "cell_type": "markdown",
   "metadata": {
    "collapsed": true
   },
   "source": [
    "<font size='4'><b>Lab 6</b></font>\n",
    "\n",
    "You might need to install TimerOne.h library.\n",
    "\n",
    "- Try 1\n",
    "\n",
    "```c\n",
    "#include \"TimerOne.h\"\n",
    "\n",
    "void setup() {\n",
    "  pinMode(13, OUTPUT);\n",
    "  Timer1.initialize(500000);         // initialize timer1, and set a 500000 microseconds (or 1/2 second period)\n",
    "  Timer1.attachInterrupt(timerIsr);  // attaches timerIsr() as a timer service routine\n",
    "}\n",
    "\n",
    "void timerIsr() {\n",
    "  // Toggle LED\n",
    "  digitalWrite(13, digitalRead(13) ^ 1);\n",
    "}\n",
    "\n",
    "void loop() {\n",
    "}\n",
    "```\n",
    "\n",
    "- Try 2\n",
    "\n",
    "```c\n",
    "#include \"TimerOne.h\"\n",
    "\n",
    "int num = 0;\n",
    "\n",
    "void setup() {\n",
    "  Serial.begin(9600);\n",
    "  pinMode(13, OUTPUT);\n",
    "  Timer1.initialize(1000000);\n",
    "  Timer1.attachInterrupt(timerIsr);\n",
    "}\n",
    "\n",
    "void timerIsr() {\n",
    "  digitalWrite(13, digitalRead(13) ^ 1);\n",
    "  num += 1;\n",
    "  Serial.println(num);\n",
    "}\n",
    "\n",
    "void loop() {\n",
    "}\n",
    "```"
   ]
  },
  {
   "cell_type": "markdown",
   "metadata": {},
   "source": [
    "<font size='4'><b>Lab 7: Two Digit Counter from 0 to 99</b></font>\n",
    "\n",
    "<img src = \"./image_files/Advanced_Dual_seg.png\" width = 500>\n",
    "\n",
    "```c\n",
    "#include \"TimerOne.h\"\n",
    "\n",
    "int cnt = 0;\n",
    "\n",
    "void setup() {  \n",
    "  Timer1.initialize(1000000);\n",
    "  Timer1.attachInterrupt(timerIsr);\n",
    "}\n",
    "\n",
    "void timerIsr() {  \n",
    "  cnt += 1;  \n",
    "}\n",
    "\n",
    "void loop() {\n",
    "  // add your program here...\n",
    "}\n",
    "```"
   ]
  },
  {
   "cell_type": "markdown",
   "metadata": {},
   "source": [
    "<font size='4'><b>Timer interrupt embeded functions</b></font>\n",
    "\n",
    "- `millis()`\n",
    "- `micro()`\n",
    "\n",
    "<br>\n",
    "<font size='4'><b>millis()</b></font>\n",
    "\n",
    "Returns the number of milliseconds since the Arduino board began running the current program. This number will overflow (go back to zero), after approximately 50 days. \n",
    "\n",
    "```c\n",
    "unsigned long time;\n",
    "\n",
    "void setup() {\n",
    "  Serial.begin(9600);\n",
    "}\n",
    "void loop() {\n",
    "  time = millis();\n",
    "  Serial.print(\"Time: \");  \n",
    "  //prints time since program started\n",
    "  Serial.println(time);\n",
    "  // wait a second so as not to send massive amounts of data\n",
    "  delay(1000);\n",
    "}\n",
    "```\n",
    "\n",
    "<font size='4'><b>micros()</b></font>\n",
    "\n",
    "Returns the number of microseconds since the Arduino board began running the current program. This number will overflow (go back to zero), after approximately 70 minutes.\n",
    "\n",
    "\n",
    "```c\n",
    "unsigned long time;\n",
    "\n",
    "void setup() {\n",
    "  Serial.begin(9600);\n",
    "}\n",
    "void loop() {\n",
    "  time = micros();\n",
    "  Serial.print(\"Time: \");\n",
    "  //prints time since program started\n",
    "  Serial.println(time);\n",
    "  // wait a second so as not to send massive amounts of data\n",
    "  delay(1000);\n",
    "}\n",
    "```\n",
    "\n",
    "__Note__\n",
    "\n",
    "- 1,000 microseconds in a millisecond\n",
    "- 1,000,000 microseconds in a second."
   ]
  },
  {
   "cell_type": "markdown",
   "metadata": {},
   "source": [
    "<font size='4'><b>Lab 8</b></font>\n",
    "\n",
    "- Try 1\n",
    "\n",
    "```c\n",
    "const int ledPin =  13;\n",
    "int ledState = LOW;\n",
    "const long interval = 1000;              // interval at which to blink (milliseconds)\n",
    "\n",
    "void setup() {\n",
    "  pinMode(ledPin, OUTPUT);\n",
    "}\n",
    "\n",
    "void loop() {\n",
    "\n",
    "  delay(interval);\n",
    "\n",
    "  if (ledState == LOW)\n",
    "    ledState = HIGH;\n",
    "  else\n",
    "    ledState = LOW;\n",
    "    \n",
    "  digitalWrite(ledPin, ledState);\n",
    "}\n",
    "```\n",
    "\n",
    "- Try 2: Blink without `delay()`\n",
    "\n",
    "```c\n",
    "const int ledPin =  13;\n",
    "int ledState = LOW;\n",
    "\n",
    "// Generally, you should use \"unsigned long\" for variables that hold time\n",
    "unsigned long previousMillis = 0;        // will store last time LED was updated\n",
    "const long interval = 1000;              // interval at which to blink (milliseconds)\n",
    "\n",
    "void setup() {\n",
    "  pinMode(ledPin, OUTPUT);\n",
    "}\n",
    "\n",
    "void loop() {\n",
    "  unsigned long currentMillis = millis();\n",
    "\n",
    "  if (currentMillis - previousMillis >= interval) {\n",
    "\n",
    "    previousMillis = currentMillis;\n",
    "\n",
    "    if (ledState == LOW)\n",
    "      ledState = HIGH;\n",
    "    else\n",
    "      ledState = LOW;\n",
    "\n",
    "    digitalWrite(ledPin, ledState);\n",
    "  }\n",
    "}\n",
    "```\n",
    "\n",
    "__Finite State Machine (optional)__\n",
    "\n",
    "- a device that can be in one of a set number of stable conditions depending on its _previous condition_ and on the _present values of its inputs_.\n",
    "\n",
    "<table style=\"border-style: hidden; border-collapse: collapse;\" width = \"80%\"> \n",
    "    <tr style=\"border-style: hidden; border-collapse: collapse;\">\n",
    "        <td width = 40% style=\"border-style: hidden; border-collapse: collapse;\">\n",
    "<img src = \"./image_files/state_machine.png\" width = 300>             \n",
    "        </td>\n",
    "        <td width = 40%>\n",
    "<img src = \"./image_files/FSM.png\" width = 300>\n",
    "        </td>\n",
    "    </tr>\n",
    "</table>\n",
    "\n"
   ]
  },
  {
   "cell_type": "markdown",
   "metadata": {},
   "source": [
    "<font size='4'><b>Lab 9: LCD Timer</b></font>\n",
    "\n",
    "<img src = \"./image_files/lcd_new_scheme.png\" width = 500>\n",
    "\n",
    "<img src = \"./image_files/LCD_Base_bb_Schem.png\" width = 500>\n",
    "\n",
    "Try 1\n",
    "```c\n",
    "#include <LiquidCrystal.h>\n",
    "\n",
    "unsigned long previousMillis = 0;        // will store last time LED was updated\n",
    "const long interval = 1000;              // interval at which to blink (milliseconds)\n",
    "int count = 0;                           // counter \n",
    "\n",
    "LiquidCrystal lcd(12, 11, 5, 4, 3, 2);\n",
    "\n",
    "void setup() {\n",
    "  // set up the LCD's number of columns and rows:\n",
    "  lcd.begin(16, 2);\n",
    "  // Print a message to the LCD.\n",
    "  lcd.print(\"hello, world!\");\n",
    "}\n",
    "\n",
    "void loop() {\n",
    "  unsigned long currentMillis = millis(); // Setup counter\n",
    "\n",
    "  if (currentMillis - previousMillis >= interval) { \n",
    "    count++;\n",
    "    lcd.setCursor(0, 1);\n",
    "    lcd.print(count);\n",
    "    previousMillis = currentMillis;\n",
    "  }\n",
    "}\n",
    "```\n",
    "Try 2\n",
    "```c\n",
    "#include <LiquidCrystal.h>\n",
    "\n",
    "LiquidCrystal lcd(12, 11, 5, 4, 3, 2);\n",
    "\n",
    "void setup() {\n",
    "  // set up the LCD's number of columns and rows:\n",
    "  lcd.begin(16, 2);\n",
    "  // Print a message to the LCD.\n",
    "  lcd.print(\"hello, world!\");\n",
    "}\n",
    "\n",
    "void loop() {\n",
    "  // set the cursor to column 0, line 1\n",
    "  // (note: line 1 is the second row, since counting begins with 0):\n",
    "  lcd.setCursor(0, 1);\n",
    "  // print the number of seconds since reset:\n",
    "  lcd.print(millis() / 1000);\n",
    "}\n",
    "```"
   ]
  },
  {
   "cell_type": "markdown",
   "metadata": {},
   "source": [
    "# 4. Debouncing\n",
    "\n",
    "## 4.1. Blinking LED using Button (Revisited)\n",
    "\n",
    "<img src=\"./image_files/2_2 Lab - Blinking LED using Button.png\" width = 500>\n",
    "\n",
    "```c\n",
    "const int buttonPin = 2;    // the number of the pushbutton pin\n",
    "const int ledPin = 9;      // the number of the LED pin\n",
    "bool ledState = 0;\n",
    "\n",
    "\n",
    "void buttonUpdate() {\n",
    "\n",
    "  ledState = !ledState;\n",
    "}\n",
    "\n",
    "\n",
    "void setup() {\n",
    "  // put your setup code here, to run once:\n",
    "  pinMode(buttonPin, INPUT);\n",
    "  pinMode(ledPin, OUTPUT);\n",
    "  attachInterrupt(0, buttonUpdate, RISING);\n",
    "\n",
    "  digitalWrite(ledPin, ledState);\n",
    "}\n",
    "\n",
    "void loop() {\n",
    "\n",
    "  digitalWrite(ledPin, ledState);\n",
    "}\n",
    "```\n",
    "\n",
    "- Pushbuttons often generate spurious open/close transitions when pressed, due to mechanical and physical issues: \n",
    "\n",
    "- these transitions may be read as multiple presses in a very short time fooling the program. \n",
    "\n",
    "- checking twice in a short period of time to make sure the pushbutton is definitely pressed.\n",
    "\n",
    "<img src = \"./image_files/debounceswitchb.jpg\" style=\"border:1px solid black\", width =500>\n"
   ]
  },
  {
   "cell_type": "markdown",
   "metadata": {},
   "source": [
    "## 4.2. Interrupt-based debouncing\n",
    "\n",
    "```c\n",
    "int pin = 9;           // LED on board\n",
    "int interrupt0pin = 2;  // pin attached to int0 if you're using Uno\n",
    "int buttonState;\n",
    "\n",
    "void setup() {\n",
    "  pinMode(pin, OUTPUT);\n",
    "  pinMode(interrupt0pin, INPUT);\n",
    "\n",
    "  // calls buttonUpdate() when button input changes (you can also use high-to-low or low-to-high)\n",
    "  attachInterrupt(0, buttonUpdate, CHANGE);\n",
    "}\n",
    "\n",
    "void loop() {\n",
    "  if (buttonState)\n",
    "    digitalWrite(pin, HIGH);\n",
    "  else\n",
    "    digitalWrite(pin, LOW);\n",
    "}\n",
    "\n",
    "void buttonUpdate() {\n",
    "  buttonState = digitalRead(interrupt0pin);\n",
    "  delay(50);            // 50ms works for most switches - adjustable\n",
    "}\n",
    "```"
   ]
  },
  {
   "cell_type": "markdown",
   "metadata": {},
   "source": [
    "## 4.3. Software Debounce\n",
    "\n",
    "- https://www.arduino.cc/en/Tutorial/Debounce\n",
    "\n",
    "```c\n",
    "const int buttonPin = 2;    // the number of the pushbutton pin\n",
    "const int ledPin = 9;      // the number of the LED pin\n",
    "\n",
    "// Variables will change:\n",
    "int ledState = HIGH;         // the current state of the output pin\n",
    "int buttonState;             // the current reading from the input pin\n",
    "int lastButtonState = LOW;   // the previous reading from the input pin\n",
    "long lastDebounceTime = 0;  // the last time the output pin was toggled\n",
    "long debounceDelay = 50;    // the debounce time; increase if the output flickers\n",
    "\n",
    "void setup() {\n",
    "  pinMode(buttonPin, INPUT);\n",
    "  pinMode(ledPin, OUTPUT);\n",
    "\n",
    "  // set initial LED state\n",
    "  digitalWrite(ledPin, ledState);\n",
    "}\n",
    "\n",
    "void loop() {\n",
    "  // read the state of the switch into a local variable:\n",
    "  int reading = digitalRead(buttonPin);\n",
    "\n",
    "  // check to see if you just pressed the button\n",
    "  // (i.e. the input went from LOW to HIGH),  and you've waited\n",
    "  // long enough since the last press to ignore any noise:\n",
    "\n",
    "  // If the switch changed, due to noise or pressing:\n",
    "  if (reading != lastButtonState) {\n",
    "    // reset the debouncing timer\n",
    "    lastDebounceTime = millis();\n",
    "  }\n",
    "\n",
    "  if ((millis() - lastDebounceTime) > debounceDelay) {\n",
    "    // whatever the reading is at, it's been there for longer\n",
    "    // than the debounce delay, so take it as the actual current state:\n",
    "\n",
    "    // if the button state has changed:\n",
    "    if (reading != buttonState) {\n",
    "      buttonState = reading;\n",
    "\n",
    "      // only toggle the LED if the new button state is HIGH\n",
    "      if (buttonState == HIGH) {\n",
    "        ledState = !ledState;\n",
    "      }\n",
    "    }\n",
    "  }\n",
    "\n",
    "  // set the LED:\n",
    "  digitalWrite(ledPin, ledState);\n",
    "\n",
    "  // save the reading.  Next time through the loop,\n",
    "  // it'll be the lastButtonState:\n",
    "  lastButtonState = reading;\n",
    "}\n",
    "```"
   ]
  },
  {
   "cell_type": "code",
   "execution_count": 8,
   "metadata": {
    "collapsed": false
   },
   "outputs": [
    {
     "data": {
      "text/html": [
       "<iframe src=\"https://www.youtube.com/embed/5XWgr4vJkQ4\" \n",
       "width=\"560\" height=\"315\" frameborder=\"0\" allowfullscreen></iframe>"
      ],
      "text/plain": [
       "<IPython.core.display.HTML object>"
      ]
     },
     "metadata": {},
     "output_type": "display_data"
    }
   ],
   "source": [
    "%%html\n",
    "<iframe src=\"https://www.youtube.com/embed/5XWgr4vJkQ4\" \n",
    "width=\"560\" height=\"315\" frameborder=\"0\" allowfullscreen></iframe>"
   ]
  },
  {
   "cell_type": "markdown",
   "metadata": {
    "collapsed": false
   },
   "source": [
    "## 4.4. Hardware debouncing (optional)\n",
    "\n",
    "- RC circuit"
   ]
  },
  {
   "cell_type": "markdown",
   "metadata": {},
   "source": [
    "# 5. Synchronous Serial\n",
    "\n"
   ]
  },
  {
   "cell_type": "markdown",
   "metadata": {},
   "source": [
    "<font size = '4'><b>Problem of serial ports</b></font>\n",
    "\n",
    "<img src = \"./image_files/asynchronous_tr.png\" style=\"border:1px solid black\", width =400>\n",
    "\n",
    "Serial ports are __asynchronous__, meaning that no clock data is transmitted between the devices. Thus, the devices must agree on a certain data rate (9600, for example) prior to the transmission.\n",
    "\n",
    "\n",
    "<img src = \"./image_files/synchronous_serial.png\" width =400>\n",
    "\n",
    "Unlike the asynchronous model where no time data is transmitted, the clock data being transmitted can be noticed in the image above."
   ]
  },
  {
   "cell_type": "code",
   "execution_count": 9,
   "metadata": {
    "collapsed": false
   },
   "outputs": [
    {
     "data": {
      "text/html": [
       "<iframe src=\"https://player.vimeo.com/video/111224388\" \n",
       "width=\"640\" height=\"360\" frameborder=\"0\" allowfullscreen></iframe>"
      ],
      "text/plain": [
       "<IPython.core.display.HTML object>"
      ]
     },
     "metadata": {},
     "output_type": "display_data"
    }
   ],
   "source": [
    "%%html\n",
    "<iframe src=\"https://player.vimeo.com/video/111224388\" \n",
    "width=\"640\" height=\"360\" frameborder=\"0\" allowfullscreen></iframe>"
   ]
  },
  {
   "cell_type": "markdown",
   "metadata": {
    "collapsed": true
   },
   "source": [
    "## 5.1. SPI (Serial Peripheral Interface)\n",
    "\n",
    "Reference: https://learn.sparkfun.com/tutorials/serial-peripheral-interface-spi?_ga=1.137392624.1133730960.1469244666\n",
    "\n",
    "<img src = \"./image_files/spi_slave.png\" width =400>\n",
    "\n",
    "In SPI, only one side generates the clock signal. The side that generates the clock is called the _master_, and the other side is called the _slave_. Only one master can be designated for SPI, but there can always be multiple slaves.\n"
   ]
  },
  {
   "cell_type": "code",
   "execution_count": 10,
   "metadata": {
    "collapsed": false
   },
   "outputs": [
    {
     "data": {
      "text/html": [
       "<iframe src=\"https://player.vimeo.com/video/111225512\" \n",
       "width=\"640\" height=\"360\" frameborder=\"0\" allowfullscreen></iframe>"
      ],
      "text/plain": [
       "<IPython.core.display.HTML object>"
      ]
     },
     "metadata": {},
     "output_type": "display_data"
    }
   ],
   "source": [
    "%%html\n",
    "<iframe src=\"https://player.vimeo.com/video/111225512\" \n",
    "width=\"640\" height=\"360\" frameborder=\"0\" allowfullscreen></iframe>"
   ]
  },
  {
   "cell_type": "markdown",
   "metadata": {},
   "source": [
    "## 5.2 I2C (Inter-Integrated Circuit)\n",
    "\n",
    "<img src = \"./image_files/I2C.png\" width = 500>\n",
    "\n",
    "<br>\n",
    "Unlike SPI, I2C only requires two wires. \n",
    "- SDA (serial data) are bidirectional\n",
    "- SCL (serial clock) are bidirectional\n",
    "\n",
    "Typical I2C Transaction\n",
    "\n",
    "<img src = \"./image_files/I2C_transaction_2.png\" width = 500>\n",
    "\n",
    "- Each slave has a unique 7-bit address\n",
    "- Direction bit 0 indicates write, 1 indicates read\n"
   ]
  },
  {
   "cell_type": "markdown",
   "metadata": {},
   "source": [
    "__IMU (Inertial Measurement Unit) sensor example code__\n",
    "\n",
    "- MPU-6050 \n",
    "    - 6 axis (gyro + accelerometer)\n",
    "    - MEMS motion tracking device\n",
    "    - Use I2C to interface with the Arduino\n",
    "\n",
    "<img src = \"./image_files/MPU6050.png\" width = 300>\n",
    "\n",
    "<table style=\"border-style: hidden; border-collapse: collapse;\" width = \"90%\"> \n",
    "    <tr style=\"border-style: hidden; border-collapse: collapse;\">\n",
    "        <td width = 25% style=\"border-style: hidden; border-collapse: collapse;\">\n",
    "<img src = \"./image_files/imu_scheme.jpg\" width = 400>\n",
    "        </td>\n",
    "        <td width = 30% style=\"border-style: hidden; border-collapse: collapse;\">\n",
    "<img src = \"./image_files/ime_bread.jpg\" width = 400>\n",
    "        </td>\n",
    "    </tr>\n",
    "</table>\n",
    "\n",
    "- The `wire` library is used to access I2C\n",
    "- Do not need to understand the following code\n",
    "\n",
    "```c\n",
    "#include <Wire.h>\n",
    "\n",
    "const int MPU = 0x68;   //Default address of I2C for MPU 6050\n",
    "int16_t AcX, AcY, AcZ, Tmp, GyX, GyY, GyZ;\n",
    "\n",
    "void setup() {\n",
    "  Wire.begin();                   // Wire library initialization\n",
    "  Wire.beginTransmission(MPU);    // Begin transmission to MPU\n",
    "  Wire.write(0x6B);               // PWR_MGMT_1 register\n",
    "  Wire.write(0);                  // MPU-6050 to start mode\n",
    "  Wire.endTransmission(true);\n",
    "  Serial.begin(9600);\n",
    "}\n",
    "\n",
    "void loop() {\n",
    "  Wire.beginTransmission(MPU);      // Start transfer\n",
    "  Wire.write(0x3B);                 // register 0x3B (ACCEL_XOUT_H), records data in queue\n",
    "  Wire.endTransmission(false);      // Maintain connection\n",
    "  Wire.requestFrom(MPU, 14, true);  // Request data to MPU\n",
    "  //Reads byte by byte\n",
    "  AcX = Wire.read() << 8 | Wire.read(); // 0x3B (ACCEL_XOUT_H) & 0x3C (ACCEL_XOUT_L)\n",
    "  AcY = Wire.read() << 8 | Wire.read(); // 0x3D (ACCEL_YOUT_H) & 0x3E (ACCEL_YOUT_L)\n",
    "  AcZ = Wire.read() << 8 | Wire.read(); // 0x3F (ACCEL_ZOUT_H) & 0x40 (ACCEL_ZOUT_L)\n",
    "  Tmp = Wire.read() << 8 | Wire.read(); // 0x41 (TEMP_OUT_H) & 0x42 (TEMP_OUT_L)\n",
    "  GyX = Wire.read() << 8 | Wire.read(); // 0x43 (GYRO_XOUT_H) & 0x44 (GYRO_XOUT_L)\n",
    "  GyY = Wire.read() << 8 | Wire.read(); // 0x45 (GYRO_YOUT_H) & 0x46 (GYRO_YOUT_L)\n",
    "  GyZ = Wire.read() << 8 | Wire.read(); // 0x47 (GYRO_ZOUT_H) & 0x48 (GYRO_ZOUT_L)\n",
    "\n",
    "  //Prints values on Serial\n",
    "  Serial.print(\"AcX = \");    Serial.print(AcX);\n",
    "  Serial.print(\" | AcY = \"); Serial.print(AcY);\n",
    "  Serial.print(\" | AcZ = \"); Serial.print(AcZ);\n",
    "  Serial.print(\" | Tmp = \"); Serial.print(Tmp / 340.00 + 36.53);\n",
    "  Serial.print(\" | GyX = \"); Serial.print(GyX);\n",
    "  Serial.print(\" | GyY = \"); Serial.print(GyY);\n",
    "  Serial.print(\" | GyZ = \"); Serial.println(GyZ);\n",
    "  delay(333);\n",
    "}\n",
    "```"
   ]
  },
  {
   "cell_type": "code",
   "execution_count": 1,
   "metadata": {
    "collapsed": false
   },
   "outputs": [
    {
     "data": {
      "text/html": [
       "<iframe src=\"https://player.vimeo.com/video/111239036\" \n",
       "width=\"640\" height=\"360\" frameborder=\"0\" allowfullscreen></iframe>"
      ],
      "text/plain": [
       "<IPython.core.display.HTML object>"
      ]
     },
     "metadata": {},
     "output_type": "display_data"
    }
   ],
   "source": [
    "%%html\n",
    "<iframe src=\"https://player.vimeo.com/video/111239036\" \n",
    "width=\"640\" height=\"360\" frameborder=\"0\" allowfullscreen></iframe>"
   ]
  },
  {
   "cell_type": "code",
   "execution_count": 3,
   "metadata": {
    "collapsed": false
   },
   "outputs": [
    {
     "data": {
      "application/javascript": [
       "$.getScript('https://kmahelona.github.io/ipython_notebook_goodies/ipython_notebook_toc.js')"
      ],
      "text/plain": [
       "<IPython.core.display.Javascript object>"
      ]
     },
     "metadata": {},
     "output_type": "display_data"
    }
   ],
   "source": [
    "%%javascript\n",
    "$.getScript('https://kmahelona.github.io/ipython_notebook_goodies/ipython_notebook_toc.js')"
   ]
  }
 ],
 "metadata": {
  "anaconda-cloud": {},
  "kernelspec": {
   "display_name": "Python 3",
   "language": "python",
   "name": "python3"
  },
  "language_info": {
   "codemirror_mode": {
    "name": "ipython",
    "version": 3
   },
   "file_extension": ".py",
   "mimetype": "text/x-python",
   "name": "python",
   "nbconvert_exporter": "python",
   "pygments_lexer": "ipython3",
   "version": "3.5.2"
  }
 },
 "nbformat": 4,
 "nbformat_minor": 0
}

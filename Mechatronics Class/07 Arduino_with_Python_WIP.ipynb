{
 "cells": [
  {
   "cell_type": "markdown",
   "metadata": {
    "collapsed": true
   },
   "source": [
    "<br>\n",
    "<font size='6'><b>Python with Arduino</b></font><br><br>\n",
    "\n",
    "<table style=\"border-style: hidden; border-collapse: collapse;\" width = \"80%\"> \n",
    "    <tr style=\"border-style: hidden; border-collapse: collapse;\">\n",
    "        <td width = 50% style=\"border-style: hidden; border-collapse: collapse;\">\n",
    "\n",
    "        </td>\n",
    "        <td width = 30%>\n",
    "        by Seungchul Lee<br>\n",
    "        iSystems Design Lab.<br>http://isystems.unist.ac.kr/<br>UNIST\n",
    "        </td>\n",
    "    </tr>\n",
    "</table>\n",
    "\n",
    "Table of Contents\n",
    "<div id=\"toc\"></div>"
   ]
  },
  {
   "cell_type": "markdown",
   "metadata": {
    "collapsed": true
   },
   "source": [
    "# 0. Installation\n",
    "<br>\n",
    "__ANACONDA Install Confirmation__\n",
    "<br>\n",
    "\n",
    "Before getting started with serial communication with Python, you must make sure pip is installed. However, pip will be automatically installed if ANACONDA is installed. Thus, you will have to do this step _only if you have not done it last time_. Below is the link for the instructions given last time.\n",
    "\n",
    "\n",
    "http://nbviewer.jupyter.org/github/i-systems/IoT/blob/master/Mechatronics%20Class/HW/Python%20Installation%20Instructions.ipynb\n",
    "\n",
    "<br>\n",
    "\n",
    "__pip pyserial Installation__\n",
    "\n",
    "\n",
    "<img src = \"./image_files/command screen.png\" width = 350>\n",
    "\n",
    "Open the cmd window (press the windows key + r and type 'cmd'), and type in the following:\n",
    "<br>\n",
    "```c\n",
    "python -m pip install pyserial\n",
    "```\n",
    "\n",
    "<img src = \"./image_files/cmd screen.png\" width = 550>\n",
    "\n",
    "\n",
    "The download process will begin soon, and the pyserial module will be successively installed."
   ]
  },
  {
   "cell_type": "markdown",
   "metadata": {},
   "source": [
    "# 1. LED with python\n"
   ]
  },
  {
   "cell_type": "markdown",
   "metadata": {},
   "source": [
    "<br>\n",
    "Starting from this section, we will be using Python along with Arduino. As mentioned in previous classes, the codes being uploaded to the Arduino may have some limitations regarding the functionality. Starting from simple tasks such as byte sending through serial communication, we will be able to plot real time graphs based on the streamed data from Arduino.\n",
    "\n",
    "<br>\n",
    "$$\n",
    "\\large \\text{Python in PC} \\quad \\overset{\\text{Serial}}{\\longleftrightarrow} \\quad \\text{Arduino} \\quad \\overset{\\text{Digital Output}}{\\longleftrightarrow} \\quad \\text{LED}$$\n",
    "\n",
    "<br>\n",
    "\n",
    "<img src = \"./image_files/Python_wArduino_LED_fritz.png\" width = 350>"
   ]
  },
  {
   "cell_type": "markdown",
   "metadata": {},
   "source": [
    "<font size='4'><b>Lab 1: LED ON/OFF - Transmit (numeric) data from Python</b></font>\n",
    "\n",
    "__Arduino code__\n",
    "\n",
    "```c\n",
    "int ON = 0;\n",
    "\n",
    "void setup() {\n",
    "  pinMode(8, OUTPUT);\n",
    "  Serial.begin(9600);\n",
    "}\n",
    "\n",
    "void loop() {    \n",
    "  if (Serial.available() > 0) {\n",
    "    ON = Serial.read();\n",
    "    \n",
    "    if (ON == 1)\n",
    "      digitalWrite(8, HIGH);\n",
    "    else if (ON == 0)\n",
    "      digitalWrite(8, LOW);\n",
    "\n",
    "    Serial.println(ON);\n",
    "  }\n",
    "}\n",
    "```"
   ]
  },
  {
   "cell_type": "markdown",
   "metadata": {},
   "source": [
    "__Python code__\n",
    "\n",
    "Before running this section, please make sure you are using the correct port. The sample code will be using 'COM18'."
   ]
  },
  {
   "cell_type": "code",
   "execution_count": 91,
   "metadata": {
    "collapsed": false,
    "scrolled": true
   },
   "outputs": [],
   "source": [
    "import serial\n",
    "import time\n",
    "\n",
    "ser = serial.Serial('COM18', 9600, timeout=1)"
   ]
  },
  {
   "cell_type": "code",
   "execution_count": 92,
   "metadata": {
    "collapsed": false
   },
   "outputs": [
    {
     "data": {
      "text/plain": [
       "1"
      ]
     },
     "execution_count": 92,
     "metadata": {},
     "output_type": "execute_result"
    }
   ],
   "source": [
    "ser.write(bytes([1]))"
   ]
  },
  {
   "cell_type": "code",
   "execution_count": 93,
   "metadata": {
    "collapsed": false
   },
   "outputs": [
    {
     "data": {
      "text/plain": [
       "1"
      ]
     },
     "execution_count": 93,
     "metadata": {},
     "output_type": "execute_result"
    }
   ],
   "source": [
    "ser.write(bytes([0]))"
   ]
  },
  {
   "cell_type": "code",
   "execution_count": 114,
   "metadata": {
    "collapsed": false
   },
   "outputs": [],
   "source": [
    "ser.close()"
   ]
  },
  {
   "cell_type": "code",
   "execution_count": 95,
   "metadata": {
    "collapsed": false
   },
   "outputs": [],
   "source": [
    "ser = serial.Serial('COM18', 9600, timeout=1)\n",
    "\n",
    "for i in range(10):\n",
    "    ser.write(bytes([1]))\n",
    "    time.sleep(0.5)\n",
    "    ser.write(bytes([0]))\n",
    "    time.sleep(0.5)\n",
    "\n",
    "ser.close()    "
   ]
  },
  {
   "cell_type": "markdown",
   "metadata": {},
   "source": [
    "<font size='4'><b>Lab 2: LED ON/OFF - Transmit (string) data from Python</b></font>\n",
    "\n",
    "__arduino__\n",
    "\n",
    "```c\n",
    "String LEDcmd = \"\";\n",
    "\n",
    "void setup() {\n",
    "  pinMode(9, OUTPUT);\n",
    "  Serial.begin(9600);\n",
    "  Serial.setTimeout(50);\n",
    "}\n",
    "\n",
    "void loop() {\n",
    "  if (Serial.available() > 0) {\n",
    "    LEDcmd = Serial.readStringUntil('\\n');\n",
    "    Serial.println(LEDcmd);\n",
    "\n",
    "    if (LEDcmd == \"ON\")\n",
    "      digitalWrite(9, HIGH);\n",
    "\n",
    "    else if (LEDcmd == \"OFF\")\n",
    "      digitalWrite(9, LOW);\n",
    "\n",
    "  }\n",
    "}\n",
    "```"
   ]
  },
  {
   "cell_type": "code",
   "execution_count": null,
   "metadata": {
    "collapsed": true
   },
   "outputs": [],
   "source": [
    "ser = serial.Serial('COM18', 9600, timeout=1)\n",
    "\n",
    "\n",
    "\n",
    "for i in range(10):\n",
    "    ser.write(str('ON'))\n",
    "    time.sleep(0.5)\n",
    "    ser.write(str('OFF'))\n",
    "    time.sleep(0.5)\n",
    "\n",
    "ser.close()"
   ]
  },
  {
   "cell_type": "markdown",
   "metadata": {},
   "source": [
    "<font size='4'><b>Lab 3: LED Brightness</b></font>\n",
    "\n",
    "__arduino__\n",
    "\n",
    "```c\n",
    "int brightness = 0;\n",
    "\n",
    "void setup() {\n",
    "  pinMode(9, OUTPUT);\n",
    "  Serial.begin(9600);\n",
    "  Serial.setTimeout(50);\n",
    "}\n",
    "\n",
    "void loop() {\n",
    "  if (Serial.available() > 0) {\n",
    "    brightness = Serial.read();\n",
    "    analogWrite(9, brightness);\n",
    "  }\n",
    "}\n",
    "```"
   ]
  },
  {
   "cell_type": "code",
   "execution_count": 112,
   "metadata": {
    "collapsed": false
   },
   "outputs": [],
   "source": [
    "ser = serial.Serial('COM18', 9600, timeout=1)\n",
    "\n",
    "for i in range(255):\n",
    "    ser.write(bytes([i]))\n",
    "    time.sleep(0.1)\n",
    "\n",
    "for i in range(255):\n",
    "    ser.write(bytes([255-i])) \n",
    "    time.sleep(0.1)    \n",
    "    \n",
    "ser.close()    "
   ]
  },
  {
   "cell_type": "markdown",
   "metadata": {},
   "source": [
    "# 2. Servo Motor with python\n",
    "\n",
    "<br>\n",
    "$$\n",
    "\\large \\text{Python in PC} \\quad \\overset{\\text{serial}}{\\longleftrightarrow} \\quad \\text{arduino} \\quad \\overset{\\text{PWM}}{\\longleftrightarrow} \\quad \\text{servo}$$\n",
    "\n",
    "<br>\n",
    "<img src = \"./image_files/servo.jpg\" width = 400>\n",
    "\n",
    "__Arduino code__"
   ]
  },
  {
   "cell_type": "markdown",
   "metadata": {},
   "source": [
    "```c\n",
    "#include <Servo.h>\n",
    "\n",
    "Servo myservo;\n",
    "\n",
    "// Common servo setup values\n",
    "int minPulse = 600;   // minimum servo position, us (microseconds)\n",
    "int maxPulse = 2400;  // maximum servo position, us\n",
    "\n",
    "// User input for servo and position\n",
    "int userInput[3];    // raw input from serial buffer, 3 bytes\n",
    "int startbyte;       // start byte, begin reading input\n",
    "int servo;           // which servo to pulse?\n",
    "int pos;             // servo angle 0-180\n",
    "int i;               // iterator\n",
    "\n",
    "void setup(){\n",
    "  // Attach each Servo object\n",
    "  myservo.attach(9, minPulse, maxPulse);\n",
    "  myservo.write(30);\n",
    "  // Open the serial connection, 9600 baud\n",
    "  Serial.begin(9600);\n",
    "}\n",
    "\n",
    "void loop(){\n",
    "  // Wait for serial input (min 3 bytes in buffer)\n",
    "  if (Serial.available() > 1) {\n",
    "    // Read the first byte\n",
    "    startbyte = Serial.read();\n",
    "    // If it's really the startbyte (255) ...\n",
    "    if (startbyte == 255) {\n",
    "      for (i = 0; i < 1; i++) {\n",
    "        userInput[i] = Serial.read();\n",
    "      }\n",
    "      // Second byte = which position?\n",
    "      pos = userInput[0];\n",
    "      myservo.write(pos);\n",
    "    }\n",
    "  }\n",
    "}\n",
    "```"
   ]
  },
  {
   "cell_type": "markdown",
   "metadata": {},
   "source": [
    "__Python code__"
   ]
  },
  {
   "cell_type": "code",
   "execution_count": null,
   "metadata": {
    "collapsed": true
   },
   "outputs": [],
   "source": [
    "import serial\n",
    "import time\n",
    "\n",
    "def move(angle):\n",
    "    if (0 <= angle <= 180):\n",
    "        ser.write(bytes([255]))\n",
    "        ser.write(bytes([angle]))\n",
    "    else:\n",
    "        print(\"Servo angle must be an integer between 30 and 180.\\n\")\n",
    "\n",
    "# Start the serial port to communicate with arduino\n",
    "ser = serial.Serial('COM18', 9600, timeout=1)\n",
    "\n",
    "print(\"The initial servo angle is 30, type 'end' if you want to stop\")\n",
    "\n",
    "while 1:\n",
    "    angle = input(\"Enter your angle: \")\n",
    "    if angle == \"end\":\n",
    "        print(\"Finished\")\n",
    "        ser.close()\n",
    "        break\n",
    "    else:\n",
    "        move(int(angle))\n",
    "        time.sleep(0.01)\n",
    "        print(\"The current servo angle is \" + angle)\n"
   ]
  },
  {
   "cell_type": "code",
   "execution_count": 142,
   "metadata": {
    "collapsed": true
   },
   "outputs": [],
   "source": [
    "import serial"
   ]
  },
  {
   "cell_type": "code",
   "execution_count": 143,
   "metadata": {
    "collapsed": false
   },
   "outputs": [],
   "source": [
    "port = serial.Serial('COM18',9600, timeout = 1)"
   ]
  },
  {
   "cell_type": "code",
   "execution_count": null,
   "metadata": {
    "collapsed": true
   },
   "outputs": [],
   "source": [
    "line = port.readline()\n",
    "print(line)"
   ]
  },
  {
   "cell_type": "code",
   "execution_count": 145,
   "metadata": {
    "collapsed": false
   },
   "outputs": [],
   "source": [
    "port.close()"
   ]
  },
  {
   "cell_type": "code",
   "execution_count": null,
   "metadata": {
    "collapsed": true
   },
   "outputs": [],
   "source": [
    "port = serial.Serial('COM18',9600, timeout = 1)\n",
    "\n",
    "while (port.inWaiting() == 0):\n",
    "    print(port.readline())"
   ]
  },
  {
   "cell_type": "code",
   "execution_count": 147,
   "metadata": {
    "collapsed": true
   },
   "outputs": [],
   "source": [
    "port.close()"
   ]
  },
  {
   "cell_type": "code",
   "execution_count": null,
   "metadata": {
    "collapsed": true
   },
   "outputs": [],
   "source": [
    "import numpy as np\n",
    "port = serial.Serial('COM18',9600, timeout = 1)\n",
    "\n",
    "val = []\n",
    "for i in range(10):\n",
    "    tmp = port.readline().strip()\n",
    "    print(tmp)\n",
    "    print(float(tmp))\n",
    "    #val.append(float(tmp))\n",
    "    \n",
    "    #print port.readline()\n",
    "    #val.append()\n",
    "port.close()    \n",
    "#print val"
   ]
  },
  {
   "cell_type": "code",
   "execution_count": null,
   "metadata": {
    "collapsed": true
   },
   "outputs": [],
   "source": [
    "ndval = np.array(val)\n",
    "fval = ndval.astype(np.float)\n",
    "print ndval\n",
    "#print fval"
   ]
  },
  {
   "cell_type": "code",
   "execution_count": null,
   "metadata": {
    "collapsed": true
   },
   "outputs": [],
   "source": [
    "b = [];\n",
    "for i in range(10):\n",
    "    b.append(a[i])\n",
    "\n",
    "float(b)    "
   ]
  },
  {
   "cell_type": "code",
   "execution_count": null,
   "metadata": {
    "collapsed": true
   },
   "outputs": [],
   "source": [
    "a = np.asarray(val)\n",
    "print a"
   ]
  },
  {
   "cell_type": "code",
   "execution_count": null,
   "metadata": {
    "collapsed": true
   },
   "outputs": [],
   "source": [
    "print float(val[1])"
   ]
  },
  {
   "cell_type": "code",
   "execution_count": null,
   "metadata": {
    "collapsed": true
   },
   "outputs": [],
   "source": [
    "import matplotlib.pyplot as plt\n",
    "plt.plot(a)\n",
    "plt.show()"
   ]
  },
  {
   "cell_type": "markdown",
   "metadata": {},
   "source": [
    "# 3. Data Streaming with python\n",
    "\n",
    "\n",
    "\n",
    "\n",
    "arduino -> python (IMU, matplotlib)\n",
    "\n",
    "http://www.toptechboy.com/using-python-with-arduino-lessons/\n",
    "\n",
    "\n",
    "\n",
    "\n",
    "\n",
    "## 3.1 MPU6050 and layout\n",
    "\n",
    "Reference: http://playground.arduino.cc/Main/MPU-6050\n",
    "\n",
    "The InvenSense MPU-6050 sensor contains a MEMS accelerometer and a MEMS gyro in a single chip. It is very accurate, as it contains 16-bits analog to digital conversion hardware for each channel. Therefor it captures the x, y, and z channel at the same time. The sensor uses the I2C-bus to interface with the Arduino.\n",
    "\n",
    "<table style=\"border-style: hidden; border-collapse: collapse;\" width = \"90%\"> \n",
    "    <tr style=\"border-style: hidden; border-collapse: collapse;\">\n",
    "        <td width = 25% style=\"border-style: hidden; border-collapse: collapse;\">\n",
    "<img src = \"./image_files/mpu6050.jpg\" width = 150>\n",
    "        </td>\n",
    "        <td width = 65%>\n",
    "<img src = \"./image_files/circuit.png\" width = 600>\n",
    "        </td>\n",
    "    </tr>\n",
    "</table>\n",
    "\n",
    "\n",
    "\n"
   ]
  },
  {
   "cell_type": "markdown",
   "metadata": {},
   "source": [
    "__Arduino code__\n",
    "\n",
    "Reference: http://playground.arduino.cc/Main/MPU-6050#short\n",
    "\n",
    "<br>\n",
    "```c\n",
    "#include<Wire.h>\n",
    "\n",
    "const int MPU_addr = 0x68;              // I2C address of the MPU-6050\n",
    "int16_t AcX, AcY, AcZ, Tmp, GyX, GyY, GyZ;\n",
    "void setup() {\n",
    "  Wire.begin();\n",
    "  Wire.beginTransmission(MPU_addr);\n",
    "  Wire.write(0x6B);                     // PWR_MGMT_1 register\n",
    "  Wire.write(0);                        // set to zero (wakes up the MPU-6050)\n",
    "  Wire.endTransmission(true);\n",
    "  Serial.begin(115200);\n",
    "}\n",
    "\n",
    "void loop() {\n",
    "  Wire.beginTransmission(MPU_addr);\n",
    "  Wire.write(0x3B);                     // starting with register 0x3B (ACCEL_XOUT_H)\n",
    "  Wire.endTransmission(false);\n",
    "  Wire.requestFrom(MPU_addr, 14, true); // request a total of 14 registers\n",
    "\n",
    "  AcX = Wire.read() << 8 | Wire.read(); // 0x3B (ACCEL_XOUT_H) & 0x3C (ACCEL_XOUT_L)\n",
    "  AcY = Wire.read() << 8 | Wire.read(); // 0x3D (ACCEL_YOUT_H) & 0x3E (ACCEL_YOUT_L)\n",
    "  AcZ = Wire.read() << 8 | Wire.read(); // 0x3F (ACCEL_ZOUT_H) & 0x40 (ACCEL_ZOUT_L)\n",
    "  Tmp = Wire.read() << 8 | Wire.read(); // 0x41 (TEMP_OUT_H) & 0x42 (TEMP_OUT_L)\n",
    "  GyX = Wire.read() << 8 | Wire.read(); // 0x43 (GYRO_XOUT_H) & 0x44 (GYRO_XOUT_L)\n",
    "  GyY = Wire.read() << 8 | Wire.read(); // 0x45 (GYRO_YOUT_H) & 0x46 (GYRO_YOUT_L)\n",
    "  GyZ = Wire.read() << 8 | Wire.read(); // 0x47 (GYRO_ZOUT_H) & 0x48 (GYRO_ZOUT_L)\n",
    "\n",
    "  Serial.print(AcX);\n",
    "  Serial.print(',');\n",
    "  Serial.print(AcY);\n",
    "  Serial.print(',');\n",
    "  Serial.println(AcZ);\n",
    "  Serial.print(',');\n",
    "  Serial.print(GyX);\n",
    "  Serial.print(',');\n",
    "  Serial.print(GyY);\n",
    "  Serial.print(',');\n",
    "  Serial.println(GyZ);\n",
    "  delay(100);\n",
    "}\n",
    "```"
   ]
  },
  {
   "cell_type": "markdown",
   "metadata": {},
   "source": [
    "__Python code__\n",
    "\n",
    "reference: http://www.toptechboy.com/tutorial/python-with-arduino-lesson-11-plotting-and-graphing-live-data-from-arduino-with-matplotlib/\n",
    "\n",
    "```python\n",
    "import serial # import Serial Library\n",
    "import numpy as np# Import numpy\n",
    "import matplotlib.pyplot as plt \n",
    "%matplotlib qt \n",
    "from drawnow import *\n",
    "\n",
    "# Define Variable\n",
    "Accx = []\n",
    "Accy = []\n",
    "Accz = []\n",
    "\n",
    "arduinoData = serial.Serial('com15',115200)     # Creating our serial object named arduinoData\n",
    "\n",
    "plt.ion()   # Tell matplotlib you want interactive mode to plot live data\n",
    "\n",
    "cnt = 0     # count\n",
    "\n",
    "def makeFig():      # Create a function that makes our desired plot\n",
    "    # plt.ylim(80,90)\n",
    "    plt.figure(1)\n",
    "    plt.subplot(311)                    # Set y min and max values\n",
    "    plt.title('Streaming Data')         # Plot the title\n",
    "    plt.grid(True)                      # Turn the grid on\n",
    "    plt.ylabel('Acceleration')          # Set ylabels\n",
    "    plt.plot(Accx, 'ro-', label='X')    # plot the temperature\n",
    "    plt.legend(loc='upper left')        # plot the legend\n",
    "    \n",
    "    plt.subplot(312)                    # Set y min and max values\n",
    "    plt.grid(True)                      # Turn the grid on\n",
    "    plt.ylabel('Acceleration')          # Set ylabels\n",
    "    plt.plot(Accy, 'ro-', label='Y')    # plot the temperature\n",
    "    plt.legend(loc='upper left')          \n",
    "    \n",
    "    plt.subplot(313)                    # Set y min and max values\n",
    "    plt.grid(True)                      # Turn the grid on\n",
    "    plt.ylabel('Acceleration')          # Set ylabels\n",
    "    plt.plot(Accz, 'ro-', label='Z')    # plot the temperature\n",
    "    plt.legend(loc='upper left')          \n",
    "\n",
    "    plt.show()\n",
    "\n",
    "\n",
    "while True: # While loop that loops forever\n",
    "    while (arduinoData.inWaiting() == 0):   # Wait here until there is data\n",
    "        pass                                # do nothing\n",
    "        \n",
    "    arduinoString = arduinoData.readline().decode(\"utf-8\") #.strip()\n",
    "    # print(arduinoString)#read the line of text from the serial port\n",
    "    dataArray = (arduinoString.split(','))\n",
    "    # print(dataArray)\n",
    "    # dataArray = np.array(arduinoString)\n",
    "    # print(dataArray)\n",
    "    # dataArray = arduinoString.split(\",\")  # Split it into an array called dataArray\n",
    "    temp1 = float(dataArray[0])             # Convert first element to floating number and put in temp\n",
    "    temp2 = float(dataArray[1]) \n",
    "    temp3 = float(dataArray[2])\n",
    "   \n",
    "    # Convert second element to floating number and put in P\n",
    "    Accx.append(temp1)                      # Build our tempF array by appending temp readings\n",
    "    Accy.append(temp2)                      # Building our pressure array by appending P readings\n",
    "    Accz.append(temp3)\n",
    "    \n",
    "    drawnow(makeFig)    # Call drawnow to update our live graph\n",
    "                      \n",
    "    plt.pause(.000001)  # Pause Briefly. Important to keep drawnow from crashing\n",
    "    cnt = cnt + 1\n",
    "\n",
    "    if(cnt > 50):                           # If you have 50 or more points, delete the first one from the array\n",
    "        Accx.pop(0)                         # This allows us to just see the last 50 data points\n",
    "        Accy.pop(0)\n",
    "        Accz.pop(0)\n",
    "```        "
   ]
  },
  {
   "cell_type": "markdown",
   "metadata": {},
   "source": [
    "<img src = \"image_files\\live.png\" style=\"border:1px solid black\", width = 400>"
   ]
  },
  {
   "cell_type": "markdown",
   "metadata": {
    "collapsed": true
   },
   "source": [
    "# 4. Summary"
   ]
  },
  {
   "cell_type": "code",
   "execution_count": 2,
   "metadata": {
    "collapsed": false
   },
   "outputs": [
    {
     "data": {
      "text/html": [
       "<iframe src=\"https://www.youtube.com/embed/jemrZxfKVIY\" \n",
       "width=\"560\" height=\"315\" frameborder=\"0\" allowfullscreen></iframe>"
      ],
      "text/plain": [
       "<IPython.core.display.HTML object>"
      ]
     },
     "metadata": {},
     "output_type": "display_data"
    }
   ],
   "source": [
    "%%html\n",
    "<iframe src=\"https://www.youtube.com/embed/jemrZxfKVIY\" \n",
    "width=\"560\" height=\"315\" frameborder=\"0\" allowfullscreen></iframe>"
   ]
  },
  {
   "cell_type": "code",
   "execution_count": null,
   "metadata": {
    "collapsed": false
   },
   "outputs": [],
   "source": [
    "%%javascript\n",
    "$.getScript('https://kmahelona.github.io/ipython_notebook_goodies/ipython_notebook_toc.js')"
   ]
  }
 ],
 "metadata": {
  "anaconda-cloud": {},
  "kernelspec": {
   "display_name": "Python 3",
   "language": "python",
   "name": "python3"
  },
  "language_info": {
   "codemirror_mode": {
    "name": "ipython",
    "version": 3
   },
   "file_extension": ".py",
   "mimetype": "text/x-python",
   "name": "python",
   "nbconvert_exporter": "python",
   "pygments_lexer": "ipython3",
   "version": "3.5.2"
  }
 },
 "nbformat": 4,
 "nbformat_minor": 0
}

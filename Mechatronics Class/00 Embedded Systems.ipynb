{
 "cells": [
  {
   "cell_type": "markdown",
   "metadata": {},
   "source": [
    "<font size='6'><b>Embedded Systems</b></font><br><br>\n",
    "\n",
    "<table style=\"border-style: hidden; border-collapse: collapse;\" width = \"80%\"> \n",
    "    <tr style=\"border-style: hidden; border-collapse: collapse;\">\n",
    "        <td width = 60% style=\"border-style: hidden; border-collapse: collapse;\">\n",
    "\n",
    "        </td>\n",
    "        <td width = 20%>\n",
    "        by Seungchul Lee<br>http://isystems.unist.ac.kr/<br>UNIST\n",
    "        </td>\n",
    "    </tr>\n",
    "</table>\n",
    "\n",
    "Table of Contents\n",
    "<div id=\"toc\"></div>"
   ]
  },
  {
   "cell_type": "markdown",
   "metadata": {},
   "source": [
    "- Embedded Systems\n",
    "    - physical world\n",
    "    - limited resources\n",
    "    - limited context\n",
    "\n",
    "- The Internet\n",
    "    - Cyber world\n",
    "    - Unlimited resources\n",
    "    - rich context"
   ]
  },
  {
   "cell_type": "markdown",
   "metadata": {},
   "source": [
    "## Microcontroller (MCU/CPU)\n",
    "\n",
    "- Microcontrollers have basic computing functionality\n",
    "\n",
    "- Many onboard I/O subsystems\n",
    "    - General Purpose IO (GPIO)\n",
    "    - A/D and D/A\n",
    "    - Interrupts\n",
    "    - Clocks/Timers\n",
    "    - Buses\n",
    "\n",
    "- Every pin maps to one or more subsystems\n",
    "\n",
    "## GPIO\n",
    "- Every GPIO pin set to input or output mode\n",
    "\n",
    "- Input\n",
    "    - read\n",
    "- Output\n",
    "    - high or low\n",
    "\n",
    "- In the digital world, everything is a logical 0 or 1, defined to be GND and VCC, respectively.\n",
    "\n",
    "\n",
    "- Example GPIO input:\n",
    "    - `pinMode(12, \"input\")`\n",
    "    - `value = pinRead(12)`\n",
    "\n",
    "\n",
    "- Range of `value`: Binary {0,1}\n",
    "\n",
    "\n",
    "- To create a value of 1: tie the pin to Vcc\n",
    "\n",
    "\n",
    "- To create a value of 0: tie the pin to GND (ground)\n",
    "\n",
    "\n",
    "- What happens if you tie pin 12 to VCC/2 ?\n",
    "    - indeterminate value\n",
    "\n",
    "\n",
    "- Pull-down or pull-up resistors\n",
    "    - Give a default value of 0 or 1, respectively\n",
    "    - Example: `setPullUp(12, \"true\")`\n",
    "\n",
    "\n",
    "- Example GPIO output:\n",
    "    - `pinMode(12, \"output\")`\n",
    "    - `pinSet(12)`\n",
    "\n",
    "\n",
    "- How do you verify the output of pin 12?\n",
    "    - Apply volt meter between grond and pin 12\n",
    "\n",
    "\n",
    "- What shoudl be the voltage for value of 1?\n",
    "    - Vcc\n",
    "    \n",
    "    \n",
    "- What shoudl be the voltage for value of 0?\n",
    "    - GND"
   ]
  },
  {
   "cell_type": "markdown",
   "metadata": {},
   "source": [
    "## Pulse Width Modulation (PWM)\n",
    "\n",
    "- Using GPIO to create a \"signal\" instead of a \"value\"\n",
    "\n",
    "- Set the pin high for some time duration, then set to low for some time duration\n",
    "\n",
    "- Example 50 msec pulse width\n",
    "\n",
    "\n",
    "```\n",
    "void loop() {\n",
    "  pinSet(12, 1)\n",
    "  wait(50)\n",
    "  pinSet(12, 0)\n",
    "  wait(50)\n",
    "}\n",
    "```\n",
    "\n",
    "- This is also a 10Hz signal\n",
    "\n",
    "- This is alos a 50% duty cycle signal\n",
    "\n",
    "__*include image*__"
   ]
  },
  {
   "cell_type": "markdown",
   "metadata": {},
   "source": [
    "## DAC\n",
    "\n",
    "- Convert digital signal to analog signal\n",
    "\n",
    "\n",
    "- Not possible to perfectly recreate an arbitrary analog signal\n",
    "    - quantization is required\n",
    "\n",
    "__*include image*__\n",
    "\n",
    "- A few options\n",
    "    - PWM input $\\rightarrow$ low-pass filter "
   ]
  },
  {
   "cell_type": "markdown",
   "metadata": {},
   "source": [
    "## ADC\n",
    "\n",
    "- Example ADC input\n",
    "    - `pinMode(2, \"input\")`\n",
    "    - `value = adcRead(2)`\n",
    "    \n",
    "\n",
    "- What is the range of `value` for a 10-bit ADC?\n",
    "\n",
    "- For a chip with Vcc = 3V, what does 512 mean?\n",
    "\n",
    "- Sensors that do not output voltage (e.g. thermistor)\n",
    "\n",
    "- Assuming "
   ]
  },
  {
   "cell_type": "code",
   "execution_count": null,
   "metadata": {
    "collapsed": true
   },
   "outputs": [],
   "source": []
  },
  {
   "cell_type": "code",
   "execution_count": null,
   "metadata": {
    "collapsed": true
   },
   "outputs": [],
   "source": []
  },
  {
   "cell_type": "code",
   "execution_count": null,
   "metadata": {
    "collapsed": true
   },
   "outputs": [],
   "source": []
  },
  {
   "cell_type": "code",
   "execution_count": null,
   "metadata": {
    "collapsed": true
   },
   "outputs": [],
   "source": []
  },
  {
   "cell_type": "code",
   "execution_count": null,
   "metadata": {
    "collapsed": true
   },
   "outputs": [],
   "source": []
  },
  {
   "cell_type": "code",
   "execution_count": null,
   "metadata": {
    "collapsed": true
   },
   "outputs": [],
   "source": []
  },
  {
   "cell_type": "code",
   "execution_count": null,
   "metadata": {
    "collapsed": true
   },
   "outputs": [],
   "source": []
  },
  {
   "cell_type": "code",
   "execution_count": null,
   "metadata": {
    "collapsed": true
   },
   "outputs": [],
   "source": []
  },
  {
   "cell_type": "code",
   "execution_count": null,
   "metadata": {
    "collapsed": true
   },
   "outputs": [],
   "source": []
  },
  {
   "cell_type": "code",
   "execution_count": 1,
   "metadata": {
    "collapsed": false
   },
   "outputs": [
    {
     "data": {
      "application/javascript": [
       "$.getScript('https://kmahelona.github.io/ipython_notebook_goodies/ipython_notebook_toc.js')"
      ],
      "text/plain": [
       "<IPython.core.display.Javascript object>"
      ]
     },
     "metadata": {},
     "output_type": "display_data"
    }
   ],
   "source": [
    "%%javascript\n",
    "$.getScript('https://kmahelona.github.io/ipython_notebook_goodies/ipython_notebook_toc.js')"
   ]
  }
 ],
 "metadata": {
  "kernelspec": {
   "display_name": "Python 3",
   "language": "python",
   "name": "python3"
  },
  "language_info": {
   "codemirror_mode": {
    "name": "ipython",
    "version": 3
   },
   "file_extension": ".py",
   "mimetype": "text/x-python",
   "name": "python",
   "nbconvert_exporter": "python",
   "pygments_lexer": "ipython3",
   "version": "3.5.2"
  }
 },
 "nbformat": 4,
 "nbformat_minor": 0
}

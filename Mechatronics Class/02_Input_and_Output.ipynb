{
 "cells": [
  {
   "cell_type": "markdown",
   "metadata": {
    "collapsed": true
   },
   "source": [
    "<font size='6'><b>Input and Output</b></font><br><br>\n",
    "\n",
    "<table style=\"border-style: hidden; border-collapse: collapse;\" width = \"80%\"> \n",
    "    <tr style=\"border-style: hidden; border-collapse: collapse;\">\n",
    "        <td width = 60% style=\"border-style: hidden; border-collapse: collapse;\">\n",
    "\n",
    "        </td>\n",
    "        <td width = 20%>\n",
    "        by Seungchul Lee<br>iSystems Design Lab<br>UNIST<br>http://isystems.unist.ac.kr/\n",
    "        </td>\n",
    "    </tr>\n",
    "</table>\n",
    "\n",
    "Table of Contents\n",
    "<div id=\"toc\"></div>"
   ]
  },
  {
   "cell_type": "markdown",
   "metadata": {},
   "source": [
    "# 1. Pins\n",
    "\n",
    "<br>\n",
    "<img src = \"./image_files/Arduino-To-Atmega8-Pins.png\" style=\"border:1px solid black\", width =400> \n",
    "\n",
    "- Pins are wires connected to the microcontroller\n",
    "- Pins are the interface of the microcontroller\n",
    "- Pin voltages are _controlled_ by a sketch\n",
    "- Pin voltages can be _read_ by a sketch\n",
    "\n",
    "<img src = \"./image_files/arduino_pins.jpg\" style=\"border:1px solid black\", width =600> "
   ]
  },
  {
   "cell_type": "markdown",
   "metadata": {},
   "source": [
    "Input pins\n",
    "\n",
    "- Input pins are controlled by other components\n",
    "- Arduino reads the voltage on the pins\n",
    "- Allows it to respond to events and data\n",
    "\n",
    "Output pins\n",
    "\n",
    "- Output pins are controlled by the Arduino\n",
    "- Voltage is determined by your sketch\n",
    "- Other components can be controlled through outputs\n",
    "\n",
    "Digital vs Analog\n",
    "\n",
    "- Some pins are digital-only\n",
    "    - Read digital input, write digital output\n",
    "    - 0 volts or 5 volts\n",
    "    \n",
    "- Some pins can be analog inputs\n",
    "    - Can read analog voltages on the pin\n",
    "    - Useful for analog sensors\n",
    "\n",
    "- Analog-only pins are clearly labeled\n",
    "\n",
    "- No pins can generate a true analog output"
   ]
  },
  {
   "cell_type": "markdown",
   "metadata": {},
   "source": [
    "## Input/Ouput (I/O) in Arduino\n",
    "\n",
    "- These functions allow access to the pins\n",
    "\n",
    "```c\n",
    "void pinMode(pin, Mode)\n",
    "```\n",
    "\n",
    "- Sets a pin to act as either an input or an output\n",
    "- `pin` is the number of the pin\n",
    "    - 1 -13 for the digital pins\n",
    "    - A0 - A5 for the analog pins\n",
    "- `Mode` is the I/O mode the pin is set to\n",
    "    - `INPUT`, `OUTPUT`    \n",
    "\n",
    "Digital Input\n",
    "```c\n",
    "int digitalRead(pin)\n",
    "```\n",
    "- Returns the state of an input pin\n",
    "- Returns either `LOW` (0 volts) or `HIGH` (5 volts)\n",
    "\n",
    "\n",
    "```c\n",
    "int pinval;\n",
    "pinval = digitalRead(3);\n",
    "```\n",
    "- pinval is set to the state of digital pin3\n",
    "\n",
    "Digital Output\n",
    "\n",
    "```c\n",
    "void digitalWrite(pin, value)\n",
    "```\n",
    "\n",
    "- Assigns the state of an output pin\n",
    "- Assigns either `LOW` (0 volts) or `HIGH` (5 volts)\n",
    "\n",
    "```c\n",
    "digitalWrite(3, HIGH);\n",
    "```\n",
    "\n",
    "- Digital pin 3 is set `HIGH` (5 volts)\n",
    "\n",
    "Analog Input\n",
    "```c\n",
    "int analogRead(pin)\n",
    "```\n",
    "- Returns the state of an analog input pin\n",
    "- Returns an integer from 0 to 1023\n",
    "- 0 for 0 volts, 1023 for 5 volts\n",
    "\n",
    "\n",
    "```c\n",
    "int pinval;\n",
    "pinval = analogRead(A3);\n",
    "```\n",
    "- Pin must be an analog pin\n",
    "    \n",
    "    "
   ]
  },
  {
   "cell_type": "markdown",
   "metadata": {},
   "source": [
    "# 2. Digital Input and Output\n",
    "\n",
    "http://www.allaboutcircuits.com/projects/learn-how-to-use-the-arduinos-digital-i-o/\n",
    "\n",
    "## 2.1. Lab: Blinking LED using delay\n",
    "\n",
    "- the LED connects to digital I/O pin 8 of the Arduino through the 220 ohm resistor. \n",
    "\n",
    "- The resistor controls the current through the LED. \n",
    "\n",
    "- sets the digital I/O pin to HIGH for 1000 ms, then to LOW for another 1000 ms.\n",
    "\n",
    "<table style=\"border-style: hidden; border-collapse: collapse;\" width = \"90%\"> \n",
    "    <tr style=\"border-style: hidden; border-collapse: collapse;\">\n",
    "        <td width = 50% style=\"border-style: hidden; border-collapse: collapse;\">\n",
    "<img src=\"./image_files/2_1 Lab - Blinking LED using delay.png\" width = 500>\n",
    "        </td>\n",
    "        <td width = 40%>\n",
    "<img src=\"./image_files/2_1 Lab - Blinking LED using delay_upload.png\" width = 300>\n",
    "        </td>\n",
    "    </tr>\n",
    "</table>"
   ]
  },
  {
   "cell_type": "code",
   "execution_count": 1,
   "metadata": {
    "collapsed": false
   },
   "outputs": [
    {
     "data": {
      "text/html": [
       "<iframe src=\"./video_files/Note1/Note1_Lab_01.mp4\" \n",
       "width=\"640\" height=\"360\" frameborder=\"0\" allowfullscreen></iframe>"
      ],
      "text/plain": [
       "<IPython.core.display.HTML object>"
      ]
     },
     "metadata": {},
     "output_type": "display_data"
    }
   ],
   "source": [
    "%%html\n",
    "<iframe src=\"./video_files/Note1/Note1_Lab_01.mp4\" \n",
    "width=\"640\" height=\"360\" frameborder=\"0\" allowfullscreen></iframe>"
   ]
  },
  {
   "cell_type": "markdown",
   "metadata": {},
   "source": [
    "```c\n",
    "const int led  =  8;        //use digital I/O pin 8\n",
    "\n",
    "void setup() {\n",
    "  pinMode(led, OUTPUT);     //set pin 8 to be an output output\n",
    "}\n",
    "\n",
    "void loop() {\n",
    "  delay(1000);              //delay 1000 milliseconds\n",
    "  digitalWrite(led, HIGH);  //set pin 8 HIGH, turning on LED\n",
    "  delay(1000);              //delay 1000 milliseconds\n",
    "  digitalWrite(led, LOW);   //set pin 8 LOW, turning off LED\n",
    "}\n",
    "```"
   ]
  },
  {
   "cell_type": "markdown",
   "metadata": {},
   "source": [
    "## 2.2. Lab: Blinking LED using Button\n",
    "\n",
    "- An LED is connected to pin 8, which is configured as an OUTPUT. \n",
    "\n",
    "- A pushbutton is connected to pin 9, which is configured as an INPUT. \n",
    "\n",
    "- When someone presses the pushbutton switch, pin 9 is set to HIGH, and the program will then set the output of pin 8 to HIGH and turning on the LED. \n",
    "\n",
    "- Releasing the pushbutton resets pin 9 to LOW, then sets pin 8 to LOW, which turns off the LED.\n",
    "\n",
    "- _<font color = 'red'>debouncing</font>_ will be discussed later\n",
    "\n",
    "<table style=\"border-style: hidden; border-collapse: collapse;\" width = \"90%\"> \n",
    "    <tr style=\"border-style: hidden; border-collapse: collapse;\">\n",
    "        <td width = 50% style=\"border-style: hidden; border-collapse: collapse;\">\n",
    "<img src=\"./image_files/2_2 Lab - Blinking LED using Button.png\" width = 500>\n",
    "        </td>\n",
    "        <td width = 40%>\n",
    "<img src=\"./image_files/2_2 Lab - Blinking LED using Button Scheme.png\" width = 300>\n",
    "        </td>\n",
    "    </tr>\n",
    "</table>"
   ]
  },
  {
   "cell_type": "code",
   "execution_count": 3,
   "metadata": {
    "collapsed": false
   },
   "outputs": [
    {
     "data": {
      "text/html": [
       "<iframe src=\"https://www.youtube.com/embed/5APhIAi7Mzs\" \n",
       "width=\"560\" height=\"315\" frameborder=\"0\" allowfullscreen></iframe>"
      ],
      "text/plain": [
       "<IPython.core.display.HTML object>"
      ]
     },
     "metadata": {},
     "output_type": "display_data"
    }
   ],
   "source": [
    "%%html\n",
    "<iframe src=\"https://www.youtube.com/embed/5APhIAi7Mzs\" \n",
    "width=\"560\" height=\"315\" frameborder=\"0\" allowfullscreen></iframe>"
   ]
  },
  {
   "cell_type": "markdown",
   "metadata": {},
   "source": [
    "```c\n",
    "const int led    =   8;       //name pin 8 as led\n",
    "const int button =   9;       //name pin 9 as button\n",
    "\n",
    "void setup() {\n",
    "  pinMode(led, OUTPUT);       //set pin 8 as OUTPUT\n",
    "  pinMode(button, INPUT)  ;   //set pin 9 as INPUT\n",
    "}\n",
    "\n",
    "void loop() {\n",
    "  int reads = digitalRead(button);  //read the digital value on pin 9\n",
    "  digitalWrite(led, reads);         //set the digital output value of pin 8 to that value\n",
    "}\n",
    "```"
   ]
  },
  {
   "cell_type": "markdown",
   "metadata": {},
   "source": [
    "__Exercise__"
   ]
  },
  {
   "cell_type": "code",
   "execution_count": 1,
   "metadata": {
    "collapsed": false
   },
   "outputs": [
    {
     "data": {
      "text/html": [
       "<iframe src=\"https://www.youtube.com/embed/VAsWQ1Q3bd8\" \n",
       "width=\"560\" height=\"315\" frameborder=\"0\" allowfullscreen></iframe>"
      ],
      "text/plain": [
       "<IPython.core.display.HTML object>"
      ]
     },
     "metadata": {},
     "output_type": "display_data"
    }
   ],
   "source": [
    "%%html\n",
    "<iframe src=\"https://www.youtube.com/embed/VAsWQ1Q3bd8\" \n",
    "width=\"560\" height=\"315\" frameborder=\"0\" allowfullscreen></iframe>"
   ]
  },
  {
   "cell_type": "markdown",
   "metadata": {},
   "source": [
    "# 3. Analog Inputs and Output (or Pulse Width Modulation)\n",
    "\n",
    "\n",
    "__Analog Inputs__\n",
    "\n",
    "`int analogRead(pin)`\n",
    "- Returns the state of an analog input pin\n",
    "- Returns an integer from 0 to 1023\n",
    "- 0 for 0 volts, 1023 for 5 volts\n",
    "\n",
    "\n",
    "__Analog Outputs__\n",
    "\n",
    "- No pins can generate a true analog output\n",
    "\n",
    "\n",
    "**Pulse Width Modulation**\n",
    "\n",
    "- Duty cycle is the percent of time the pulse is high\n",
    "- Increasing duty cycle increases perceived voltage\n",
    "<br>\n",
    "<img src = \"./image_files/pwm.jpg\" style=\"border:1px solid black\" width = 600>\n",
    "<br>\n",
    "\n",
    "\n",
    "**`analogWrite()`**\n",
    "\n",
    "- Generates a square wave on a pin, 490 Hz\n",
    "- First argument is the pin number\n",
    "- Second argument is the pulse width\n",
    "    - 0 is 0% duty cycle\n",
    "    - 255 is 100% duty cycle\n",
    "- Pin number must be a PWM pin\n",
    "    - Marked on the Arduino with the ~ symbol\n",
    "- For example: `analogWrite(3, 128)`"
   ]
  },
  {
   "cell_type": "markdown",
   "metadata": {},
   "source": [
    "## 3.1. Lab: Fade LED In and Out (PWM)\n",
    "\n",
    "- 220 ohm resistor\n",
    "\n",
    "<table style=\"border-style: hidden; border-collapse: collapse;\" width = \"90%\"> \n",
    "    <tr style=\"border-style: hidden; border-collapse: collapse;\">\n",
    "        <td width = 50% style=\"border-style: hidden; border-collapse: collapse;\">\n",
    "<img src=\"./image_files/3_1 Lab - Fade LED In and Out(PWM).png\" width = 500>\n",
    "        </td>\n",
    "        <td width = 40%>\n",
    "<img src=\"./image_files/simplefade_pin9_schem.png\" width = 200>\n",
    "        </td>\n",
    "    </tr>\n",
    "</table>"
   ]
  },
  {
   "cell_type": "code",
   "execution_count": 4,
   "metadata": {
    "collapsed": false
   },
   "outputs": [
    {
     "data": {
      "text/html": [
       "<iframe src=\"https://www.youtube.com/embed/_HqUBLAbxSI\" \n",
       "width=\"560\" height=\"315\" frameborder=\"0\" allowfullscreen></iframe>"
      ],
      "text/plain": [
       "<IPython.core.display.HTML object>"
      ]
     },
     "metadata": {},
     "output_type": "display_data"
    }
   ],
   "source": [
    "%%html\n",
    "<iframe src=\"https://www.youtube.com/embed/_HqUBLAbxSI\" \n",
    "width=\"560\" height=\"315\" frameborder=\"0\" allowfullscreen></iframe>"
   ]
  },
  {
   "cell_type": "markdown",
   "metadata": {},
   "source": [
    "```c\n",
    "int i = 0;\n",
    "const int LED = 9;     //define the pin we use for LED\n",
    "\n",
    "void setup() {\n",
    "  pinMode(LED, OUTPUT); //set pin 9 as OUTPUT\n",
    "}\n",
    "\n",
    "void loop() {\n",
    "  for (int i = 0; i < 255; i++) { //if i is less than 255 then increase i with 1\n",
    "    analogWrite(LED, i);          //write the i value to pin 11\n",
    "    delay(5);                     //wait 5 ms then do the for loop again\n",
    "  }\n",
    "  \n",
    "  for (int i = 255; i > 0; i--) { //descrease i with 1\n",
    "    analogWrite(LED, i);\n",
    "    delay(5);\n",
    "  }\n",
    "}\n",
    "```"
   ]
  },
  {
   "cell_type": "markdown",
   "metadata": {},
   "source": [
    "# 4. Serial Communication\n",
    "\n",
    "- UART protocol used over the USB cable\n",
    "- Initialize by using `Serial.begin()`\n",
    "- `Serial.begin(speed)`\n",
    "    - `speed` is the baud rate\n",
    "    - `Serial.begin(9600)`\n",
    "        \n",
    "- Usually call `Serial.begin()` in the setup function\n",
    "\n",
    "`Serial.available()`\n",
    "\n",
    "- Get the number of bytes (characters) available for reading from the serial port. This is data that's already arrived and stored in the serial receive buffer (which holds 64 bytes).    \n",
    "\n",
    "`Serial.read()`\n",
    "\n",
    "- Reads incoming serial data.\n",
    "- Returns the first byte of incoming serial data available (or -1 if no data is available)\n",
    "\n",
    "```c\n",
    "int incomingByte = 0;   // for incoming serial data\n",
    "\n",
    "void setup() {\n",
    "  Serial.begin(9600);     // opens serial port, sets data rate to 9600 bps\n",
    "}\n",
    "\n",
    "void loop() {\n",
    "  // send data only when you receive data:\n",
    "  if (Serial.available() > 0) {\n",
    "    // read the incoming byte:\n",
    "    incomingByte = Serial.read();\n",
    "\n",
    "    // say what you got:\n",
    "    Serial.print(\"I received: \");\n",
    "    Serial.println(incomingByte, DEC);\n",
    "  }\n",
    "}\n",
    "```\n",
    "\n",
    "\n",
    "`Serial.write()`\n",
    "\n",
    "- Writes binary data to the serial port. This data is sent as a byte or series of bytes; \n",
    "- to send the characters representing the digits of a number use the print() function instead.\n",
    "\n",
    "```c\n",
    "void setup() {\n",
    "  Serial.begin(9600);\n",
    "}\n",
    "\n",
    "void loop() {\n",
    "  Serial.write(45); // send a byte with the value 45\n",
    "\n",
    "  int bytesSent = Serial.write(“hello”); //send the string “hello” and return the length of the string.\n",
    "}\n",
    "```\n",
    "\n",
    "- Serial.write(val)\n",
    "    - val: a value to send as a single byte\n",
    "\n",
    "\n",
    "- Serial.write(str)\n",
    "    - str: a string to send as a series of bytes\n",
    "    \n",
    "\n",
    "- Serial.write(buf, len)\n",
    "    - buf: an array to send as a series of bytes\n",
    "    - len: the length of the buffer \n",
    "\n",
    "\n",
    "Serial.print()\n",
    "\n",
    "Serial.println()\n",
    "\n",
    "serialEvent()\n",
    "\n",
    "```c\n",
    "void serialEvent() {\n",
    "  //statements\n",
    "}\n",
    "```\n",
    "Called when data is available. Use Serial.read() to capture this data.\n",
    "\n",
    "```c\n",
    "/*\n",
    "  Serial Event example\n",
    "\n",
    " When new serial data arrives, this sketch adds it to a String.\n",
    " When a newline is received, the loop prints the string and\n",
    " clears it.\n",
    "\n",
    " A good test for this is to try it with a GPS receiver\n",
    " that sends out NMEA 0183 sentences.\n",
    "\n",
    " Created 9 May 2011\n",
    " by Tom Igoe\n",
    "\n",
    " This example code is in the public domain.\n",
    "\n",
    " http://www.arduino.cc/en/Tutorial/SerialEvent\n",
    "\n",
    " */\n",
    "\n",
    "String inputString = \"\";         // a string to hold incoming data\n",
    "boolean stringComplete = false;  // whether the string is complete\n",
    "\n",
    "void setup() {\n",
    "  // initialize serial:\n",
    "  Serial.begin(9600);\n",
    "  // reserve 200 bytes for the inputString:\n",
    "  inputString.reserve(200);\n",
    "}\n",
    "\n",
    "void loop() {\n",
    "  // print the string when a newline arrives:\n",
    "  if (stringComplete) {\n",
    "    Serial.println(inputString);\n",
    "    // clear the string:\n",
    "    inputString = \"\";\n",
    "    stringComplete = false;\n",
    "  }\n",
    "}\n",
    "\n",
    "/*\n",
    "  SerialEvent occurs whenever a new data comes in the\n",
    " hardware serial RX.  This routine is run between each\n",
    " time loop() runs, so using delay inside loop can delay\n",
    " response.  Multiple bytes of data may be available.\n",
    " */\n",
    "void serialEvent() {\n",
    "  while (Serial.available()) {\n",
    "    // get the new byte:\n",
    "    char inChar = (char)Serial.read();\n",
    "    // add it to the inputString:\n",
    "    inputString += inChar;\n",
    "    // if the incoming character is a newline, set a flag\n",
    "    // so the main loop can do something about it:\n",
    "    if (inChar == '\\n') {\n",
    "      stringComplete = true;\n",
    "    }\n",
    "  }\n",
    "}\n",
    "```"
   ]
  },
  {
   "cell_type": "code",
   "execution_count": 1,
   "metadata": {
    "collapsed": false
   },
   "outputs": [
    {
     "data": {
      "text/html": [
       "<iframe src=\"https://www.youtube.com/embed/KYWCkdrCUKg\" \n",
       "width=\"560\" height=\"315\" frameborder=\"0\" allowfullscreen></iframe>"
      ],
      "text/plain": [
       "<IPython.core.display.HTML object>"
      ]
     },
     "metadata": {},
     "output_type": "display_data"
    }
   ],
   "source": [
    "%%html\n",
    "<iframe src=\"https://www.youtube.com/embed/KYWCkdrCUKg\" \n",
    "width=\"560\" height=\"315\" frameborder=\"0\" allowfullscreen></iframe>"
   ]
  },
  {
   "cell_type": "markdown",
   "metadata": {},
   "source": [
    "## 4.1. Lab: Serial Comm. for Analog Inputs\n",
    "\n",
    "<table style=\"border-style: hidden; border-collapse: collapse;\" width = \"90%\"> \n",
    "    <tr style=\"border-style: hidden; border-collapse: collapse;\">\n",
    "        <td width = 50% style=\"border-style: hidden; border-collapse: collapse;\">\n",
    "<img src=\"./image_files/4_1 Lab - Serial Comm for Analog Inputs.png\" width = 300>\n",
    "        </td>\n",
    "        <td width = 40%>\n",
    "<img src=\"./image_files/AnalogReadSerial_sch.png\" width = 250>\n",
    "        </td>\n",
    "    </tr>\n",
    "</table>"
   ]
  },
  {
   "cell_type": "code",
   "execution_count": 6,
   "metadata": {
    "collapsed": false
   },
   "outputs": [
    {
     "data": {
      "text/html": [
       "<iframe src=\"https://www.youtube.com/embed/7Pq8BgJwo1w\" \n",
       "width=\"560\" height=\"315\" frameborder=\"0\" allowfullscreen></iframe>"
      ],
      "text/plain": [
       "<IPython.core.display.HTML object>"
      ]
     },
     "metadata": {},
     "output_type": "display_data"
    }
   ],
   "source": [
    "%%html\n",
    "<iframe src=\"https://www.youtube.com/embed/7Pq8BgJwo1w\" \n",
    "width=\"560\" height=\"315\" frameborder=\"0\" allowfullscreen></iframe>"
   ]
  },
  {
   "cell_type": "markdown",
   "metadata": {},
   "source": [
    "```c\n",
    "void setup() {\n",
    "  // initialize serial communication at 9600 bits per second:\n",
    "  Serial.begin(9600);\n",
    "}\n",
    "\n",
    "// the loop routine runs over and over again forever:\n",
    "void loop() {\n",
    "  // read the input on analog pin 0:\n",
    "  int sensorValue = analogRead(A0);\n",
    "  \n",
    "  // Convert the analog reading (which goes from 0 - 1023) to a voltage (0 - 5V):\n",
    "  float voltage = sensorValue * (5.0 / 1023.0);\n",
    "  \n",
    "  // print out the value you read:\n",
    "  Serial.println(voltage);\n",
    "}\n",
    "```"
   ]
  },
  {
   "cell_type": "code",
   "execution_count": 9,
   "metadata": {
    "collapsed": false
   },
   "outputs": [
    {
     "data": {
      "application/javascript": [
       "$.getScript('https://kmahelona.github.io/ipython_notebook_goodies/ipython_notebook_toc.js')"
      ],
      "text/plain": [
       "<IPython.core.display.Javascript object>"
      ]
     },
     "metadata": {},
     "output_type": "display_data"
    }
   ],
   "source": [
    "%%javascript\n",
    "$.getScript('https://kmahelona.github.io/ipython_notebook_goodies/ipython_notebook_toc.js')"
   ]
  }
 ],
 "metadata": {
  "anaconda-cloud": {},
  "kernelspec": {
   "display_name": "Python 3",
   "language": "python",
   "name": "python3"
  },
  "language_info": {
   "codemirror_mode": {
    "name": "ipython",
    "version": 3
   },
   "file_extension": ".py",
   "mimetype": "text/x-python",
   "name": "python",
   "nbconvert_exporter": "python",
   "pygments_lexer": "ipython3",
   "version": "3.5.2"
  }
 },
 "nbformat": 4,
 "nbformat_minor": 0
}

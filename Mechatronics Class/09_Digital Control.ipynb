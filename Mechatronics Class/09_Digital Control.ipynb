{
 "cells": [
  {
   "cell_type": "markdown",
   "metadata": {
    "collapsed": true
   },
   "source": [
    "<br>\n",
    "<font size='6'><b>Digital Control</b></font><br><br>\n",
    "\n",
    "<table style=\"border-style: hidden; border-collapse: collapse;\" width = \"80%\"> \n",
    "    <tr style=\"border-style: hidden; border-collapse: collapse;\">\n",
    "        <td width = 50% style=\"border-style: hidden; border-collapse: collapse;\">\n",
    "\n",
    "        </td>\n",
    "        <td width = 30%>\n",
    "        by Seungchul Lee<br>iSystems Design lab<br>http://isystems.unist.ac.kr/<br>UNIST\n",
    "        </td>\n",
    "    </tr>\n",
    "</table>\n",
    "\n",
    "Table of Contents\n",
    "<div id=\"toc\"></div>"
   ]
  },
  {
   "cell_type": "markdown",
   "metadata": {
    "collapsed": true
   },
   "source": [
    "# 1. Control Systems\n",
    "\n",
    "_Goal: to understand the concept of control_\n",
    "\n",
    "- Microcomputers are widely employed in control systems:\n",
    "    - automotive ABS, ignition and fuel systems\n",
    "    - household appliances\n",
    "    - smart weapons\n",
    "    - industrial robots\n",
    "\n",
    "- Human-in-the-loop\n",
    "    - many examples in our life\n",
    "\n",
    "<br>\n",
    "<font size='3'><b>Strategy</b></font>\n",
    "\n",
    "- plant is a system that is intended to be controlled\n",
    "\n",
    "- collect information concerning the plant - data acquisition system (DAQ)\n",
    "\n",
    "- compare with desired performance\n",
    "\n",
    "- generate outputs to bring plant closer to desired performance\n",
    "\n",
    "<br>\n",
    "<font size='3'><b>Performance metrics</b></font>\n",
    "\n",
    "- steady-state controller error\n",
    "    - an average value of the difference between desired and actual performance\n",
    "\n",
    "- transient response\n",
    "    - how quickly the system responds to change\n",
    "\n",
    "- stability\n",
    "    - system output changes smoothly without too much oscillation or unlimited excursions\n",
    "\n",
    "<br>\n",
    "<font size='3'><b>Open-loop control</b></font>\n",
    "\n",
    "- state estimator eliminated\n",
    "    - not well suited for a complex plant\n",
    "\n",
    "- assumes disturbing forces have little effect on the plant\n",
    "\n",
    "- less expensive than closed-loop control\n",
    "    - example: electric toaster\n",
    "\n",
    "<br>\n",
    "<font size='3'><b>Closed-loop control</b></font>\n",
    "\n",
    "- feedback loop implementation\n",
    "    - suitable for a complex plant\n",
    "\n",
    "- sensors and state estimator produce representaiton/estimation of state variables\n",
    "\n",
    "- these values are compared to desired values\n",
    "\n",
    "- control software generates control commands based upon the differences between estimated and desired values\n"
   ]
  },
  {
   "cell_type": "code",
   "execution_count": 12,
   "metadata": {
    "collapsed": false
   },
   "outputs": [
    {
     "data": {
      "text/html": [
       "<center><iframe src=\"https://www.youtube.com/embed/UVAn6sGnQ38?start=0&end=400\"\n",
       "width=\"420\" height=\"315\" frameborder=\"0\" allowfullscreen></iframe></center>"
      ],
      "text/plain": [
       "<IPython.core.display.HTML object>"
      ]
     },
     "metadata": {},
     "output_type": "display_data"
    }
   ],
   "source": [
    "%%html\n",
    "<center><iframe src=\"https://www.youtube.com/embed/UVAn6sGnQ38?start=0&end=400\"\n",
    "width=\"420\" height=\"315\" frameborder=\"0\" allowfullscreen></iframe></center>"
   ]
  },
  {
   "cell_type": "markdown",
   "metadata": {},
   "source": [
    "# 2. PID Control\n",
    "\n",
    "## 2.1. What is PID control ?\n",
    "\n",
    "_Goal: To understand the PID control (the most common and popular control method)_\n",
    "\n",
    "<br>\n",
    "$$\n",
    "\\begin{align*}\n",
    "e &= x^* - x\\\\\n",
    "u &= K_p \\, e + K_i \\int e \\,dt + K_d \\, \\frac{de}{dt}\n",
    "\\end{align*}\n",
    "$$\n",
    "\n",
    "<br>\n",
    "<img src='./image_files/Pid-feedback-nct-int-correct.png' width = 500>\n",
    "\n",
    "PID lectures from 'Control of Mobile Robots' by Prof. Magnus Egerstedt (Georgia Tech)\n",
    "- Must watch the below 3 video lectures to understand the basic concept of PID control"
   ]
  },
  {
   "cell_type": "code",
   "execution_count": 13,
   "metadata": {
    "collapsed": false
   },
   "outputs": [
    {
     "data": {
      "text/html": [
       "<center><iframe src=\"https://www.youtube.com/embed/DJuo9kLdr4M?list=PLp8ijpvp8iCvFDYdcXqqYU5Ibl_aOqwjr\" \n",
       "width=\"560\" height=\"315\" frameborder=\"0\" allowfullscreen></iframe></center>"
      ],
      "text/plain": [
       "<IPython.core.display.HTML object>"
      ]
     },
     "metadata": {},
     "output_type": "display_data"
    }
   ],
   "source": [
    "%%html\n",
    "<center><iframe src=\"https://www.youtube.com/embed/DJuo9kLdr4M?list=PLp8ijpvp8iCvFDYdcXqqYU5Ibl_aOqwjr\" \n",
    "width=\"560\" height=\"315\" frameborder=\"0\" allowfullscreen></iframe></center>"
   ]
  },
  {
   "cell_type": "code",
   "execution_count": 14,
   "metadata": {
    "collapsed": false
   },
   "outputs": [
    {
     "data": {
      "text/html": [
       "<center><iframe src=\"https://www.youtube.com/embed/cQhqx65kLfM?list=PLp8ijpvp8iCvFDYdcXqqYU5Ibl_aOqwjr\" \n",
       "width=\"560\" height=\"315\" frameborder=\"0\" allowfullscreen></iframe></center>"
      ],
      "text/plain": [
       "<IPython.core.display.HTML object>"
      ]
     },
     "metadata": {},
     "output_type": "display_data"
    }
   ],
   "source": [
    "%%html\n",
    "<center><iframe src=\"https://www.youtube.com/embed/cQhqx65kLfM?list=PLp8ijpvp8iCvFDYdcXqqYU5Ibl_aOqwjr\" \n",
    "width=\"560\" height=\"315\" frameborder=\"0\" allowfullscreen></iframe></center>"
   ]
  },
  {
   "cell_type": "code",
   "execution_count": 15,
   "metadata": {
    "collapsed": false
   },
   "outputs": [
    {
     "data": {
      "text/html": [
       "<center><iframe src=\"https://www.youtube.com/embed/Mk1ygHj4zxw?list=PLp8ijpvp8iCvFDYdcXqqYU5Ibl_aOqwjr\" \n",
       "width=\"560\" height=\"315\" frameborder=\"0\" allowfullscreen></iframe></center>"
      ],
      "text/plain": [
       "<IPython.core.display.HTML object>"
      ]
     },
     "metadata": {},
     "output_type": "display_data"
    }
   ],
   "source": [
    "%%html\n",
    "<center><iframe src=\"https://www.youtube.com/embed/Mk1ygHj4zxw?list=PLp8ijpvp8iCvFDYdcXqqYU5Ibl_aOqwjr\" \n",
    "width=\"560\" height=\"315\" frameborder=\"0\" allowfullscreen></iframe></center>"
   ]
  },
  {
   "cell_type": "markdown",
   "metadata": {},
   "source": [
    "## 2.2. Digital PID control\n",
    "\n",
    "_Goal: from continuous to digital control_\n",
    "\n",
    "<br>\n",
    "<table style=\"border-style: hidden; border-collapse: collapse;\" width = \"70%\"> \n",
    "    <tr style=\"border-style: hidden; border-collapse: collapse;\">\n",
    "        <td width = 33% style=\"border-style: hidden; border-collapse: collapse;\">\n",
    "$$\n",
    "\\begin{array}{lcl}\n",
    "& e & = & x^* - x \\\\ \\\\\n",
    "& u & = & u_p + u_i + u_d\\\\ \\\\\n",
    "\\text{Proportional} \\qquad &  u_p & = & K_p e \\\\ \\\\\n",
    "\\text{Integral} & u_i & = & K_i \\int e \\,dt \\\\ \\\\\n",
    "\\text{Derivative} & u_d & = & K_d \\frac{de}{dt}\n",
    "\\end{array}\n",
    "$$\n",
    "        </td>\n",
    "        <td width = 33%>\n",
    "$$\n",
    "\\begin{array}{lcl}\n",
    "& E & = & X^{*} - X\\\\ \\\\\n",
    "& U & = & U_p + U_i + U_d \\\\ \\\\\n",
    "& U_p & = & K_p E \\\\ \\\\\n",
    "& U_i & = & U_i + K_i \\, E \\, \\Delta t \\\\ \\\\\n",
    "& U_d & = & K_d \\, \\frac{E[n] - E[n-1]}{\\Delta t}\n",
    "\\end{array}\n",
    "$$\n",
    "        </td>\n",
    "    </tr>\n",
    "</table>\n",
    "<br>\n",
    "\n",
    "- Rule of thumb\n",
    "    - Run 10 times faster than a plant time constant\n",
    "    - Run slower or equal to sensor sampling rate\n",
    "    - if sensor signals are too noisy, do not use a derivative term in a feedback control\n",
    "    - if there is a delay in a closed-loop, the system tends to be unstable\n",
    "    - lifesaver: $\\min \\leq U \\leq \\max$"
   ]
  },
  {
   "cell_type": "markdown",
   "metadata": {},
   "source": [
    "PID lectures from  'Design of Embedded Systems' by Prof. Jonathan W. Valvano (UT, Austin)\n",
    "- Brief introduction to PID control and _digital_ control"
   ]
  },
  {
   "cell_type": "code",
   "execution_count": 16,
   "metadata": {
    "collapsed": false
   },
   "outputs": [
    {
     "data": {
      "text/html": [
       "<center><iframe src=\"https://www.youtube.com/embed/UVAn6sGnQ38?start=400\"\n",
       "width=\"420\" height=\"315\" frameborder=\"0\" allowfullscreen></iframe></center>"
      ],
      "text/plain": [
       "<IPython.core.display.HTML object>"
      ]
     },
     "metadata": {},
     "output_type": "display_data"
    }
   ],
   "source": [
    "%%html\n",
    "<center><iframe src=\"https://www.youtube.com/embed/UVAn6sGnQ38?start=400\"\n",
    "width=\"420\" height=\"315\" frameborder=\"0\" allowfullscreen></iframe></center>"
   ]
  },
  {
   "cell_type": "markdown",
   "metadata": {},
   "source": [
    "# 3. Implementation of PID Control \n",
    "\n",
    "_Goal: PID implementation with Arduino_\n",
    "\n",
    "- Position-stabilizing a propeller-levitated arm\n",
    "- Example from 'Introduction to Control System Design - A First Look' by Prof. Jacob White (MIT)\n",
    "- The control testbed shown below is made by iSystems, UNIST\n",
    "\n",
    "<img src='./image_files/pid_isystems_02.jpg' width = 500>"
   ]
  },
  {
   "cell_type": "markdown",
   "metadata": {},
   "source": [
    "## 3.1. Unicopter overview"
   ]
  },
  {
   "cell_type": "markdown",
   "metadata": {},
   "source": [
    "__PID DC motor control examples__"
   ]
  },
  {
   "cell_type": "code",
   "execution_count": 11,
   "metadata": {
    "collapsed": false
   },
   "outputs": [
    {
     "data": {
      "text/html": [
       "<center><iframe src=\"https://www.youtube.com/embed/N8UX_TDMn-Y?list=PLBD_gON7g_m3th-gxjQRma1z-1Cc8M7t4\" \n",
       "width=\"560\" height=\"315\" frameborder=\"0\" allowfullscreen></iframe></center>"
      ],
      "text/plain": [
       "<IPython.core.display.HTML object>"
      ]
     },
     "metadata": {},
     "output_type": "display_data"
    }
   ],
   "source": [
    "%%html\n",
    "<center><iframe src=\"https://www.youtube.com/embed/N8UX_TDMn-Y?list=PLBD_gON7g_m3th-gxjQRma1z-1Cc8M7t4\" \n",
    "width=\"560\" height=\"315\" frameborder=\"0\" allowfullscreen></iframe></center>"
   ]
  },
  {
   "cell_type": "code",
   "execution_count": 10,
   "metadata": {
    "collapsed": false
   },
   "outputs": [
    {
     "data": {
      "text/html": [
       "<center><iframe src=\"https://www.youtube.com/embed/5yaVvEfKF84\" \n",
       "width=\"560\" height=\"315\" frameborder=\"0\" allowfullscreen></iframe></center>"
      ],
      "text/plain": [
       "<IPython.core.display.HTML object>"
      ]
     },
     "metadata": {},
     "output_type": "display_data"
    }
   ],
   "source": [
    "%%html\n",
    "<center><iframe src=\"https://www.youtube.com/embed/5yaVvEfKF84\" \n",
    "width=\"560\" height=\"315\" frameborder=\"0\" allowfullscreen></iframe></center>"
   ]
  },
  {
   "cell_type": "markdown",
   "metadata": {},
   "source": [
    "__Equations of Motion__\n",
    "\n",
    "<img src='./image_files/images_w07.png' width = 500>"
   ]
  },
  {
   "cell_type": "markdown",
   "metadata": {},
   "source": [
    "## 3.2. Electronic components and circuit\n",
    "\n",
    "<img src='./image_files/motor_ctrl_3_with_cap.jpg' width = 700>\n",
    "\n",
    "<img src='./image_files/pid_fritz_scheme_bb2.png' width = 600>\n"
   ]
  },
  {
   "cell_type": "markdown",
   "metadata": {},
   "source": [
    "## 3.3. Arduino PID codes\n",
    "\n",
    "$$\n",
    "\\begin{align*}\n",
    "E &= X^{*} - X\\\\ \\\\\n",
    "U &= U_p + U_i + U_d\n",
    "\\end{align*}\n",
    "$$\n",
    "\n",
    "<br>\n",
    "$$\n",
    "\\begin{align*}\n",
    "\\text{Proportional} \\qquad & U_p = K_p E \\\\ \\\\\n",
    "\\text{Integral} \\qquad & U_i = U_i + K_i \\, E \\, \\Delta t \\\\ \\\\\n",
    "\\text{Derivative} \\qquad & U_d = K_d \\, \\frac{E[n] - E[n-1]}{\\Delta t}\n",
    "\\end{align*}\n",
    "$$"
   ]
  },
  {
   "cell_type": "code",
   "execution_count": 17,
   "metadata": {
    "collapsed": false
   },
   "outputs": [
    {
     "data": {
      "text/html": [
       "<center><iframe src=\"https://www.youtube.com/embed/B5OVCONRZP0?start=387\" \n",
       "width=\"560\" height=\"315\" frameborder=\"0\" allowfullscreen></iframe></center>"
      ],
      "text/plain": [
       "<IPython.core.display.HTML object>"
      ]
     },
     "metadata": {},
     "output_type": "display_data"
    }
   ],
   "source": [
    "%%html\n",
    "<center><iframe src=\"https://www.youtube.com/embed/B5OVCONRZP0?start=387\" \n",
    "width=\"560\" height=\"315\" frameborder=\"0\" allowfullscreen></iframe></center>"
   ]
  },
  {
   "cell_type": "markdown",
   "metadata": {},
   "source": [
    "__Arduino 1__\n",
    "\n",
    "- kP, kI, kD values are given\n",
    "\n",
    "\n",
    "```c\n",
    "const int pin_motorPwm = 3;\n",
    "const int pin_analogRead = A0;\n",
    "\n",
    "float dt = 0.01;          // (sec)\n",
    "float targetAngle = 180;  // (degree)\n",
    "float target = 0;\n",
    "\n",
    "float kP = 0.45;\n",
    "float kI = 0.9;\n",
    "float kD = 0.12;\n",
    "\n",
    "float P, I, D = 0;\n",
    "float actual = 0.;\n",
    "float error = 0.;\n",
    "float error_last = 0.;\n",
    "\n",
    "int U = 0;\n",
    "\n",
    "unsigned long lPrevMillis = 0;\n",
    "unsigned long lCurrMillis = 0;\n",
    "\n",
    "void setup() {\n",
    "  pinMode(pin_analogRead, INPUT);\n",
    "  pinMode(pin_motorPwm, OUTPUT);\n",
    "  target = targetAngle * 943 / 360 + 39;\n",
    "}\n",
    "\n",
    "void loop() {\n",
    "\n",
    "  ///////////////////////////////////////////////////////////\n",
    "  //                  PID Control\n",
    "  ///////////////////////////////////////////////////////////\n",
    "\n",
    "  lCurrMillis = millis();\n",
    "\n",
    "  if (lCurrMillis - lPrevMillis >= dt * 1000) {\n",
    "    lPrevMillis = lCurrMillis;\n",
    "\n",
    "    actual = analogRead(pin_analogRead);\n",
    "    error = target - actual;\n",
    "\n",
    "    P = kP * error;\n",
    "    I += kI * error * dt;\n",
    "    D = kD * (error - error_last) / dt;\n",
    "\n",
    "    U = (int)(P + I + D);\n",
    "\n",
    "    if (U < 0)\n",
    "      U = 0;\n",
    "    else if (U > 255)\n",
    "      U = 255;\n",
    "\n",
    "    analogWrite(pin_motorPwm, U);\n",
    "    error_last = error;\n",
    "  }\n",
    "}\n",
    "```"
   ]
  },
  {
   "cell_type": "markdown",
   "metadata": {},
   "source": [
    "__Arduino 2__\n",
    "- Changeable kP, kI, kD values through serial communication\n",
    "- Input kP, kI, kD values through serial monitor window\n",
    "- Note that the values have to be in order (kP, kI, kD) and must be separated by commas and a space. (example: 0.45, 0.90, 0.12)\n",
    "\n",
    "```c\n",
    "const int pin_motorPwm = 3;\n",
    "const int pin_analogRead = A0;\n",
    "\n",
    "float dt = 0.01;          // (sec)\n",
    "float targetAngle = 180;  // (degree)\n",
    "float target = 0;\n",
    "\n",
    "float kP = 0.45;\n",
    "float kI = 0.90;\n",
    "float kD = 0.12;\n",
    "\n",
    "float P, I, D = 0;\n",
    "float actual = 0.;\n",
    "float error = 0.;\n",
    "float error_last = 0.;\n",
    "\n",
    "int U = 0;\n",
    "\n",
    "unsigned long lPrevMillis = 0;\n",
    "unsigned long lCurrMillis = 0;\n",
    "\n",
    "void setup() {\n",
    "  pinMode(pin_analogRead, INPUT);\n",
    "  pinMode(pin_motorPwm, OUTPUT);\n",
    "  target = targetAngle * 943 / 360 + 39;\n",
    "  Serial.begin(9600);\n",
    "}\n",
    "\n",
    "void loop() {\n",
    "\n",
    "  ///////////////////////////////////////////////////////////\n",
    "  //             kP, kI, kD Values Input\n",
    "  ///////////////////////////////////////////////////////////\n",
    "\n",
    "  if (Serial.available()) {\n",
    "    String firstVal  = Serial.readStringUntil(',');\n",
    "    Serial.read();  //next character is comma, so skip it using this\n",
    "    String secondVal = Serial.readStringUntil(',');\n",
    "    Serial.read();\n",
    "    String thirdVal  = Serial.readStringUntil('\\n');\n",
    "    \n",
    "    kP = firstVal.toFloat();\n",
    "    kI = secondVal.toFloat();\n",
    "    kD = thirdVal.toFloat();\n",
    "  }\n",
    "\n",
    "  ///////////////////////////////////////////////////////////\n",
    "  //                  PID Control\n",
    "  ///////////////////////////////////////////////////////////\n",
    "\n",
    "  lCurrMillis = millis();\n",
    "\n",
    "  if (lCurrMillis - lPrevMillis >= dt * 1000) {\n",
    "    lPrevMillis = lCurrMillis;\n",
    "\n",
    "    actual = analogRead(pin_analogRead);\n",
    "    error = target - actual;\n",
    "\n",
    "    P = kP * error;\n",
    "    I += kI * error * dt;\n",
    "    D = kD * (error - error_last) / dt;\n",
    "\n",
    "    U = (int)(P + I + D);\n",
    "\n",
    "    if (U < 0)\n",
    "      U = 0;\n",
    "    else if (U > 255)\n",
    "      U = 255;\n",
    "\n",
    "    analogWrite(pin_motorPwm, U);\n",
    "    error_last = error;\n",
    "  }\n",
    "}\n",
    "```"
   ]
  },
  {
   "cell_type": "markdown",
   "metadata": {},
   "source": [
    "## 3.4. Arduino PID and Python\n",
    "\n",
    "_Goal: PID control with Python and Arduino_\n",
    "<br>\n",
    "\n",
    "__Arduino 3__\n",
    "- The slide bars can be adjusted to find better kP, kI, and kD values\n",
    "- The target and encoder values are plotted on the first graph, and the error values for P,I, and D are plotted subsequently\n",
    "\n",
    "<img src='./image_files/PID_gui_02.png' width = 600>\n",
    "<br>\n",
    "\n",
    "__Arduino code__"
   ]
  },
  {
   "cell_type": "markdown",
   "metadata": {},
   "source": [
    "```c\n",
    "const int pin_motorPwm = 3;\n",
    "const int pin_analogRead = A0;\n",
    "\n",
    "float dt = 0.01;          // (sec)\n",
    "float targetAngle = 180;  // (degree)\n",
    "float target = 0;\n",
    "\n",
    "float kP = 0.45;\n",
    "float kI = 0.90;\n",
    "float kD = 0.12;\n",
    "\n",
    "float P, I, D = 0;\n",
    "float actual = 0.;\n",
    "float error = 0.;\n",
    "float error_last = 0.;\n",
    "\n",
    "int U = 0;\n",
    "int cnt = 0;\n",
    "\n",
    "unsigned long lPrevMillis = 0;\n",
    "unsigned long lCurrMillis = 0;\n",
    "\n",
    "void setup() {\n",
    "  pinMode(pin_analogRead, INPUT);\n",
    "  pinMode(pin_motorPwm, OUTPUT);\n",
    "  target = targetAngle * 943 / 360 + 39;\n",
    "  Serial.begin(9600);\n",
    "  Serial.setTimeout(5);\n",
    "}\n",
    "\n",
    "void loop() {\n",
    "\n",
    "  ///////////////////////////////////////////////////////////\n",
    "  //             kP, kI, kD Values Input\n",
    "  ///////////////////////////////////////////////////////////\n",
    "\n",
    "  if (Serial.available()) {\n",
    "    String firstVal  = Serial.readStringUntil(',');\n",
    "    Serial.read();  //next character is comma, so skip it using this\n",
    "    String secondVal = Serial.readStringUntil(',');\n",
    "    Serial.read();\n",
    "    String thirdVal  = Serial.readStringUntil('\\n');\n",
    "    \n",
    "    kP = firstVal.toFloat();\n",
    "    kI = secondVal.toFloat();\n",
    "    kD = thirdVal.toFloat();\n",
    "  }\n",
    "\n",
    "  ///////////////////////////////////////////////////////////\n",
    "  //                  PID Control\n",
    "  ///////////////////////////////////////////////////////////\n",
    "\n",
    "  lCurrMillis = millis();\n",
    "\n",
    "  if (lCurrMillis - lPrevMillis >= dt * 1000) {\n",
    "    lPrevMillis = lCurrMillis;\n",
    "\n",
    "    actual = analogRead(pin_analogRead);\n",
    "\n",
    "    error = target - actual;\n",
    "\n",
    "    P = kP * error;\n",
    "    I += kI * error * dt;\n",
    "    D = kD * (error - error_last) / dt;\n",
    "\n",
    "    U = (int)(P + I + D);\n",
    "\n",
    "    if (U < 0)\n",
    "      U = 0;\n",
    "    else if (U > 255)\n",
    "      U = 255;\n",
    "\n",
    "    analogWrite(pin_motorPwm, U);\n",
    "    error_last = error;\n",
    "    \n",
    "    cnt++;\n",
    "  }\n",
    "\n",
    "  ///////////////////////////////////////////////////////////\n",
    "  //                  Serial out at every dt * cnt\n",
    "  ///////////////////////////////////////////////////////////\n",
    "  \n",
    "  if ( cnt >= 5 ) {\n",
    "    Serial.print(actual); Serial.print(\",\");    \n",
    "    Serial.print(P); Serial.print(\",\");   \n",
    "    Serial.print(I); Serial.print(\",\");    \n",
    "    Serial.println(D);\n",
    "    cnt = 0;\n",
    "  }\n",
    "}\n",
    "```"
   ]
  },
  {
   "cell_type": "markdown",
   "metadata": {},
   "source": [
    "__Python code__"
   ]
  },
  {
   "cell_type": "markdown",
   "metadata": {
    "collapsed": true
   },
   "source": [
    "```python\n",
    "import serial\n",
    "import numpy as np\n",
    "from matplotlib import pyplot as plt\n",
    "from matplotlib import animation\n",
    "from matplotlib.widgets import Slider, Button, CheckButtons\n",
    "\n",
    "#################################################################\n",
    "##                    setup \n",
    "#################################################################\n",
    "\n",
    "ser = serial.Serial('COM4', 9600)\n",
    "\n",
    "leng = 101\n",
    "fig = plt.figure(figsize=(12, 8))\n",
    "ax1 = fig.add_subplot(4, 1, 1)\n",
    "ax2 = fig.add_subplot(4, 1, 2)\n",
    "ax3 = fig.add_subplot(4, 1, 3)\n",
    "ax4 = fig.add_subplot(4, 1, 4)\n",
    "plt.subplots_adjust(bottom=0.225)\n",
    "\n",
    "ax1.set_title('Real-time System Response with PID')\n",
    "ax1.set_ylabel('Angle [Degree]')\n",
    "ax1.set_xlim(0, leng - 1)\n",
    "ax1.set_ylim(130, 230)\n",
    "ax1.grid(True)\n",
    "\n",
    "angleR, = ax1.plot([], [], 'b',  label = 'angleR')\n",
    "angleD, = ax1.plot([], [], 'k--', label = 'angleD')\n",
    "\n",
    "errorP, = ax2.plot([], [], 'r',  label = 'P')\n",
    "errorI, = ax3.plot([], [], 'g',  label = 'I')\n",
    "errorD, = ax4.plot([], [], 'b',  label = 'D')\n",
    "\n",
    "axes = [ax2, ax3, ax4]\n",
    "axel = ['P', 'I', 'D']\n",
    "\n",
    "for i in range(3):\n",
    "    axes[i].set_ylabel(axel[i])\n",
    "    axes[i].set_xlim(0, leng - 1)    \n",
    "    axes[i].grid(True)\n",
    "    axes[i].legend(loc='upper left')\n",
    "    \n",
    "ax2.set_ylim(-100, 100)\n",
    "ax3.set_ylim(-20, 180)\n",
    "ax4.set_ylim(-100, 100)\n",
    "\n",
    "ax1.legend(loc='upper left')\n",
    "\n",
    "t = list(range(0, leng))\n",
    "angle = []\n",
    "dataP = []\n",
    "dataI = []\n",
    "dataD = []\n",
    "\n",
    "for i in range(0, leng):\n",
    "    angle.append(180)\n",
    "    dataP.append(0)\n",
    "    dataI.append(0)\n",
    "    dataD.append(0)\n",
    "\n",
    "#################################################################\n",
    "##                    Adjust kP, kI, kD\n",
    "#################################################################\n",
    "\n",
    "kP = 0.45\n",
    "kI = 0.90\n",
    "kD = 0.10\n",
    "\n",
    "axcolor = 'lightgoldenrodyellow'\n",
    "axP = plt.axes([0.125, 0.15, 0.775, 0.025], axisbg=axcolor)\n",
    "axI = plt.axes([0.125, 0.10, 0.775, 0.025], axisbg=axcolor)\n",
    "axD = plt.axes([0.125, 0.05, 0.775, 0.025], axisbg=axcolor)\n",
    "\n",
    "sP = Slider(axP, 'kP', 0.09, 0.90, valinit=kP)\n",
    "sI = Slider(axI, 'kI', 0.18, 1.80, valinit=kI)\n",
    "sD = Slider(axD, 'kD', 0.02, 0.20, valinit=kD)\n",
    "\n",
    "def update(val):\n",
    "    global kP, kI, kD\n",
    "    kP = sP.val\n",
    "    kI = sI.val\n",
    "    kD = sD.val\n",
    "\n",
    "sP.on_changed(update)\n",
    "sI.on_changed(update)\n",
    "sD.on_changed(update)\n",
    "\n",
    "#################################################################\n",
    "##                    Animation Loop\n",
    "#################################################################\n",
    "\n",
    "def init():\n",
    "    angleR.set_data([], [])\n",
    "    angleD.set_data([0, leng], [180, 180])\n",
    "    errorP.set_data([], [])\n",
    "    errorI.set_data([], [])\n",
    "    errorD.set_data([], [])\n",
    "    return angleR, angleD, errorP, errorI, errorD,\n",
    "\n",
    "def animate(i):\n",
    "    global t, angle, dataP, dataI, dataD, kP, kI, kD\n",
    "\n",
    "    while (ser.inWaiting() == 0):\n",
    "        pass\n",
    "    \n",
    "    try:\n",
    "        arduinoString = ser.readline().decode(\"utf-8\")\n",
    "        dataArray = (arduinoString.split(','))\n",
    "\n",
    "        angle.append((float(dataArray[0]) - 39) * 360 / 943)\n",
    "        angle.pop(0)\n",
    "        dataP.append(float(dataArray[1]))\n",
    "        dataP.pop(0)\n",
    "        dataI.append(float(dataArray[2]))\n",
    "        dataI.pop(0)\n",
    "        dataD.append(float(dataArray[3]))\n",
    "        dataD.pop(0)\n",
    "\n",
    "        PIDcoeff = str(kP) + ', ' + str(kI) + ', ' + str(kD) + '\\n'\n",
    "        ser.write(PIDcoeff.encode('utf-8'))\n",
    "\n",
    "        angleR.set_data(t, angle)\n",
    "        errorP.set_data(t, dataP)\n",
    "        errorI.set_data(t, dataI)\n",
    "        errorD.set_data(t, dataD)\n",
    "    except:\n",
    "        pass\n",
    "    \n",
    "    return angleR, angleD, errorP, errorI, errorD,\n",
    "\n",
    "delay = 50    # dt * cnt\n",
    "anim = animation.FuncAnimation(fig, animate, init_func=init,\n",
    "                               interval=delay, blit=True)\n",
    "\n",
    "plt.show()\n",
    "```"
   ]
  },
  {
   "cell_type": "code",
   "execution_count": 19,
   "metadata": {
    "collapsed": false
   },
   "outputs": [],
   "source": [
    "ser.close()"
   ]
  },
  {
   "cell_type": "code",
   "execution_count": 1,
   "metadata": {
    "collapsed": false
   },
   "outputs": [
    {
     "data": {
      "application/javascript": [
       "$.getScript('https://kmahelona.github.io/ipython_notebook_goodies/ipython_notebook_toc.js')"
      ],
      "text/plain": [
       "<IPython.core.display.Javascript object>"
      ]
     },
     "metadata": {},
     "output_type": "display_data"
    }
   ],
   "source": [
    "%%javascript\n",
    "$.getScript('https://kmahelona.github.io/ipython_notebook_goodies/ipython_notebook_toc.js')"
   ]
  }
 ],
 "metadata": {
  "anaconda-cloud": {},
  "kernelspec": {
   "display_name": "Python 3",
   "language": "python",
   "name": "python3"
  },
  "language_info": {
   "codemirror_mode": {
    "name": "ipython",
    "version": 3
   },
   "file_extension": ".py",
   "mimetype": "text/x-python",
   "name": "python",
   "nbconvert_exporter": "python",
   "pygments_lexer": "ipython3",
   "version": "3.5.2"
  }
 },
 "nbformat": 4,
 "nbformat_minor": 0
}

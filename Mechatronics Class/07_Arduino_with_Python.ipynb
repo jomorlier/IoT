{
 "cells": [
  {
   "cell_type": "markdown",
   "metadata": {
    "collapsed": true
   },
   "source": [
    "<br>\n",
    "<font size='6'><b>Python with Arduino</b></font><br><br>\n",
    "\n",
    "<table style=\"border-style: hidden; border-collapse: collapse;\" width = \"80%\"> \n",
    "    <tr style=\"border-style: hidden; border-collapse: collapse;\">\n",
    "        <td width = 50% style=\"border-style: hidden; border-collapse: collapse;\">\n",
    "\n",
    "        </td>\n",
    "        <td width = 30%>\n",
    "        by Seungchul Lee<br>\n",
    "        iSystems Design Lab.<br>http://isystems.unist.ac.kr/<br>UNIST\n",
    "        </td>\n",
    "    </tr>\n",
    "</table>\n",
    "\n",
    "Table of Contents\n",
    "<div id=\"toc\"></div>"
   ]
  },
  {
   "cell_type": "markdown",
   "metadata": {
    "collapsed": true
   },
   "source": [
    "# 0. Installation\n",
    "<br>\n",
    "__ANACONDA Install Confirmation__\n",
    "<br>\n",
    "\n",
    "Before getting started with serial communication with Python, you must make sure pip is installed. However, pip will be automatically installed if ANACONDA is installed. Thus, you will have to do this step _only if you have not done it last time_. Below is the link for the instructions given last time.\n",
    "\n",
    "\n",
    "http://nbviewer.jupyter.org/github/i-systems/IoT/blob/master/Mechatronics%20Class/HW/Python%20Installation%20Instructions.ipynb\n",
    "\n",
    "<br>\n",
    "\n",
    "__pip pyserial Installation__\n",
    "\n",
    "\n",
    "<img src = \"./image_files/command screen.png\" width = 350>\n",
    "\n",
    "Open the cmd window (press the windows key + r and type 'cmd'), and type in the following:\n",
    "<br>\n",
    "```c\n",
    "python -m pip install pyserial\n",
    "```\n",
    "\n",
    "<img src = \"./image_files/cmd screen V2.png\" width = 550>\n",
    "\n",
    "\n",
    "The download process will begin soon, and the pyserial module will be successively installed.\n",
    "\n",
    "When you are finished installing pyserial, install bs4 using the same method. Type the following into the command window\n",
    "\n",
    "```c\n",
    "python -m pip install bs4\n",
    "```\n",
    "\n"
   ]
  },
  {
   "cell_type": "markdown",
   "metadata": {},
   "source": [
    "# 1. LED with python\n"
   ]
  },
  {
   "cell_type": "markdown",
   "metadata": {},
   "source": [
    "<br>\n",
    "Starting from this section, we will be using Python along with Arduino. As mentioned in previous classes, the codes being uploaded to the Arduino may have some limitations regarding the functionality. Starting from simple tasks such as byte sending through serial communication, we will be able to plot real time graphs based on the streamed data from Arduino.\n",
    "\n",
    "<br>\n",
    "$$\n",
    "\\large \\text{Python in PC} \\quad \\overset{\\text{Serial}}{\\longleftrightarrow} \\quad \\text{Arduino} \\quad \\overset{\\text{Digital Output}}{\\longleftrightarrow} \\quad \\text{LED}$$\n",
    "\n",
    "<br>\n",
    "\n",
    "<img src = \"./image_files/Python_wArduino_LED_fritz.png\" width = 350>"
   ]
  },
  {
   "cell_type": "markdown",
   "metadata": {},
   "source": [
    "<font size='4'><b>Lab 1: LED ON/OFF - Transmit (numeric) data from Python</b></font>\n",
    "\n",
    "__Arduino code__\n",
    "\n",
    "```c\n",
    "int ON = 0;\n",
    "const int pin = 9;\n",
    "\n",
    "void setup() {\n",
    "  pinMode(pin, OUTPUT);\n",
    "  Serial.begin(9600);\n",
    "}\n",
    "\n",
    "void loop() {    \n",
    "  if (Serial.available() > 0) {\n",
    "    ON = Serial.read();\n",
    "    \n",
    "    if (ON == 1)\n",
    "      digitalWrite(pin, HIGH);\n",
    "    else if (ON == 0)\n",
    "      digitalWrite(pin, LOW);\n",
    "\n",
    "    Serial.println(ON);\n",
    "  }\n",
    "}\n",
    "```"
   ]
  },
  {
   "cell_type": "markdown",
   "metadata": {},
   "source": [
    "__Python code__\n",
    "\n",
    "Before running this section, please make sure you are using the correct port. The sample code will be using 'COM4'."
   ]
  },
  {
   "cell_type": "code",
   "execution_count": null,
   "metadata": {
    "collapsed": true
   },
   "outputs": [],
   "source": [
    "import serial\n",
    "import time\n",
    "\n",
    "ser = serial.Serial('COM4', 9600, timeout=1)"
   ]
  },
  {
   "cell_type": "code",
   "execution_count": null,
   "metadata": {
    "collapsed": true
   },
   "outputs": [],
   "source": [
    "ser.write(bytes([1]))"
   ]
  },
  {
   "cell_type": "code",
   "execution_count": null,
   "metadata": {
    "collapsed": true
   },
   "outputs": [],
   "source": [
    "ser.write(bytes([0]))"
   ]
  },
  {
   "cell_type": "markdown",
   "metadata": {},
   "source": [
    "You have to close ser to disconnect. Otherwise other devices cannot use this serial communication. "
   ]
  },
  {
   "cell_type": "code",
   "execution_count": null,
   "metadata": {
    "collapsed": true
   },
   "outputs": [],
   "source": [
    "ser.close()"
   ]
  },
  {
   "cell_type": "markdown",
   "metadata": {},
   "source": [
    "Now we are ready to combine all into python with serial communication to Arduino to control LEDs."
   ]
  },
  {
   "cell_type": "code",
   "execution_count": null,
   "metadata": {
    "collapsed": true
   },
   "outputs": [],
   "source": [
    "ser = serial.Serial('COM4', 9600, timeout=1)\n",
    "\n",
    "for i in range(10):\n",
    "    ser.write(bytes([1]))\n",
    "    time.sleep(0.5)\n",
    "    ser.write(bytes([0]))\n",
    "    time.sleep(0.5)\n",
    "\n",
    "ser.close()    "
   ]
  },
  {
   "cell_type": "markdown",
   "metadata": {},
   "source": [
    "<font size='4'><b>Lab 2: LED ON/OFF - Transmit (string) data from Python</b></font>\n",
    "\n",
    "__Arduino code__\n",
    "\n",
    "```c\n",
    "String LEDcmd = \"\";\n",
    "const int pin = 9;\n",
    "\n",
    "void setup() {\n",
    "  pinMode(pin, OUTPUT);\n",
    "  Serial.begin(9600);\n",
    "}\n",
    "\n",
    "void loop() {\n",
    "  if (Serial.available() > 0) {\n",
    "    LEDcmd = Serial.readStringUntil('\\n');\n",
    "\n",
    "    if (LEDcmd == \"ON\")\n",
    "      digitalWrite(pin, HIGH);\n",
    "    else if (LEDcmd == \"OFF\")\n",
    "      digitalWrite(pin, LOW);\n",
    "  }\n",
    "}\n",
    "```"
   ]
  },
  {
   "cell_type": "markdown",
   "metadata": {},
   "source": [
    "__Python code__"
   ]
  },
  {
   "cell_type": "code",
   "execution_count": null,
   "metadata": {
    "collapsed": true
   },
   "outputs": [],
   "source": [
    "str('ON').encode('UTF-8')"
   ]
  },
  {
   "cell_type": "code",
   "execution_count": null,
   "metadata": {
    "collapsed": true
   },
   "outputs": [],
   "source": [
    "ser = serial.Serial('COM4', 9600, timeout=1)"
   ]
  },
  {
   "cell_type": "code",
   "execution_count": null,
   "metadata": {
    "collapsed": true
   },
   "outputs": [],
   "source": [
    "ser.write(str('ON').encode('UTF-8'))"
   ]
  },
  {
   "cell_type": "code",
   "execution_count": null,
   "metadata": {
    "collapsed": true
   },
   "outputs": [],
   "source": [
    "ser.write(str('OFF').encode('UTF-8'))"
   ]
  },
  {
   "cell_type": "code",
   "execution_count": null,
   "metadata": {
    "collapsed": true
   },
   "outputs": [],
   "source": [
    "ser.close()"
   ]
  },
  {
   "cell_type": "code",
   "execution_count": null,
   "metadata": {
    "collapsed": true
   },
   "outputs": [],
   "source": [
    "ser = serial.Serial('COM14', 9600, timeout=1)\n",
    "\n",
    "for i in range(10):\n",
    "    ser.write(str('ON').encode('UTF-8'))\n",
    "    time.sleep(0.5)\n",
    "    ser.write(str('OFF').encode('UTF-8'))\n",
    "    time.sleep(0.5)\n",
    "\n",
    "ser.close()"
   ]
  },
  {
   "cell_type": "markdown",
   "metadata": {},
   "source": [
    "<font size='4'><b>Lab 3: LED Brightness</b></font>\n",
    "\n",
    "__Arduino code__\n",
    "\n",
    "```c\n",
    "int brightness = 0;\n",
    "const int pin = 9;\n",
    "\n",
    "void setup() {\n",
    "  pinMode(pin, OUTPUT);\n",
    "  Serial.begin(9600);  \n",
    "}\n",
    "\n",
    "void loop() {\n",
    "  if (Serial.available() > 0) {\n",
    "    brightness = Serial.read();\n",
    "    analogWrite(pin, brightness);\n",
    "  }\n",
    "}\n",
    "```\n",
    "<br>\n",
    "__Python code__"
   ]
  },
  {
   "cell_type": "code",
   "execution_count": null,
   "metadata": {
    "collapsed": true
   },
   "outputs": [],
   "source": [
    "ser = serial.Serial('COM18', 9600, timeout=1)\n",
    "\n",
    "for i in range(255):\n",
    "    ser.write(bytes([i]))\n",
    "    time.sleep(0.1)\n",
    "\n",
    "for i in range(255):\n",
    "    ser.write(bytes([255-i])) \n",
    "    time.sleep(0.1)    \n",
    "    \n",
    "ser.close() "
   ]
  },
  {
   "cell_type": "markdown",
   "metadata": {},
   "source": [
    "<font size='4'><b>Lab 4: Current Time on LCD Display</b></font>\n",
    "\n",
    "<img src = \"./image_files/lcd_new_scheme.png\" width = 500>\n",
    "\n",
    "__Arduino code__\n",
    "\n",
    "```c\n",
    "#include <LiquidCrystal.h>\n",
    "\n",
    "LiquidCrystal lcd(12, 11, 5, 4, 3, 2);\n",
    "String LCDRead = \"\";\n",
    "\n",
    "void setup() {\n",
    "  // set up the LCD's number of columns and rows:\n",
    "  lcd.begin(16, 2);\n",
    "  lcd.setCursor(0,0);\n",
    "  // Print a message to the LCD.\n",
    "  lcd.print(\"The current time\");\n",
    "  Serial.begin(9600);\n",
    "}\n",
    "\n",
    "void loop() {\n",
    "  if (Serial.available()) {\n",
    "\n",
    "    LCDRead = Serial.readStringUntil('\\n');\n",
    "\n",
    "    lcd.setCursor(0,1);\n",
    "    lcd.print(LCDRead);    \n",
    "  }\n",
    "}\n",
    "```"
   ]
  },
  {
   "cell_type": "markdown",
   "metadata": {},
   "source": [
    "__Python code__\n",
    "\n",
    "- Displaying current time once"
   ]
  },
  {
   "cell_type": "code",
   "execution_count": null,
   "metadata": {
    "collapsed": true
   },
   "outputs": [],
   "source": [
    "import serial\n",
    "import time\n",
    "from datetime import datetime\n",
    "\n",
    "ser = serial.Serial('COM18', 9600, timeout=1)"
   ]
  },
  {
   "cell_type": "code",
   "execution_count": null,
   "metadata": {
    "collapsed": true
   },
   "outputs": [],
   "source": [
    "print(datetime.now().strftime('%H:%M:%S'))\n",
    "ser.write((datetime.now().strftime('%H:%M:%S') + '\\n').encode('UTF-8'))"
   ]
  },
  {
   "cell_type": "code",
   "execution_count": null,
   "metadata": {
    "collapsed": true
   },
   "outputs": [],
   "source": [
    "ser.close()"
   ]
  },
  {
   "cell_type": "markdown",
   "metadata": {},
   "source": [
    "- Displaying the time for 15 seconds"
   ]
  },
  {
   "cell_type": "code",
   "execution_count": null,
   "metadata": {
    "collapsed": true
   },
   "outputs": [],
   "source": [
    "import serial\n",
    "import time\n",
    "from datetime import datetime\n",
    "\n",
    "ser = serial.Serial('COM18', 9600, timeout=1)\n",
    "\n",
    "for i in range(15):\n",
    "    print(datetime.now().strftime('%H:%M:%S').encode('UTF-8'))\n",
    "    ser.write((datetime.now().strftime('%H:%M:%S') + '\\n').encode('UTF-8'))\n",
    "    time.sleep(1)\n",
    "    \n",
    "ser.close()"
   ]
  },
  {
   "cell_type": "markdown",
   "metadata": {},
   "source": [
    "<font size='4'><b>Lab 5: Current temperature on LCD Display from the internet</b></font>\n",
    "\n",
    "__Arduino code__\n",
    "\n",
    "```c\n",
    "#include <LiquidCrystal.h>\n",
    "\n",
    "LiquidCrystal lcd(12, 11, 5, 4, 3, 2);\n",
    "String LEDRead = \"\";\n",
    "\n",
    "void setup() {  \n",
    "  lcd.begin(16,2);  \n",
    "  Serial.begin(9600);\n",
    "}\n",
    "\n",
    "void loop() {\n",
    "  if (Serial.available()) {\n",
    "\n",
    "    LEDRead = Serial.readStringUntil('\\n');\n",
    "    lcd.clear();\n",
    "\n",
    "    lcd.setCursor(0,0);\n",
    "    lcd.print(\"Temperature in\");\n",
    "    lcd.setCursor(0,1);\n",
    "    lcd.print(\"Ulsan: \");\n",
    "    lcd.setCursor(7,1);\n",
    "    lcd.print(LEDRead);\n",
    "    lcd.setCursor(9,1);\n",
    "    lcd.print(\"Degrees\");\n",
    "  }\n",
    "}\n",
    "```\n",
    "\n",
    "<br>\n",
    "__Python code__"
   ]
  },
  {
   "cell_type": "code",
   "execution_count": null,
   "metadata": {
    "collapsed": true
   },
   "outputs": [],
   "source": [
    "import serial\n",
    "import time\n",
    "\n",
    "ser = serial.Serial('COM14', 9600, timeout=1)"
   ]
  },
  {
   "cell_type": "code",
   "execution_count": null,
   "metadata": {
    "collapsed": false
   },
   "outputs": [],
   "source": [
    "from bs4 import BeautifulSoup\n",
    "from urllib.request import Request, urlopen\n",
    "\n",
    "url = 'https://www.google.co.kr/search?q=ulsan+temperature'\n",
    "\n",
    "req = Request(url, headers={'User-Agent': 'Mozilla/5.0'})\n",
    "html = urlopen(req).read()\n",
    "\n",
    "soup = BeautifulSoup(html, 'html.parser')\n",
    "result = soup.find_all('span', 'wob_t')\n",
    "\n",
    "for i in range(len(result)):\n",
    "    print(result[i].text)\n",
    "    \n",
    "ser.write(str(result[0].text[:-2]).encode('utf-8'))"
   ]
  },
  {
   "cell_type": "markdown",
   "metadata": {},
   "source": [
    "# 2. Servo Motor with python\n",
    "\n",
    "<br>\n",
    "$$\n",
    "\\large \\text{Python in PC} \\quad \\overset{\\text{serial}}{\\longleftrightarrow} \\quad \\text{arduino} \\quad \\overset{\\text{PWM}}{\\longleftrightarrow} \\quad \\text{servo}$$\n",
    "\n",
    "<br>\n",
    "<img src = \"./image_files/servo V2.jpg\" width = 400>\n",
    "\n",
    "__Arduino code__"
   ]
  },
  {
   "cell_type": "markdown",
   "metadata": {},
   "source": [
    "```c\n",
    "#include <Servo.h>\n",
    "\n",
    "Servo myservo;\n",
    "const int pint = 9;\n",
    "int pos = 0;\n",
    "\n",
    "void setup() {\n",
    "  myservo.attach(pin);\n",
    "  myservo.write(0);\n",
    "  Serial.begin(9600);\n",
    "}\n",
    "\n",
    "void loop() {\n",
    "  if (Serial.available() > 0) {\n",
    "    pos = Serial.read();\n",
    "    myservo.write(pos);\n",
    "    delay(50);\n",
    "  }\n",
    "}\n",
    "```"
   ]
  },
  {
   "cell_type": "markdown",
   "metadata": {},
   "source": [
    "__Python code__"
   ]
  },
  {
   "cell_type": "code",
   "execution_count": null,
   "metadata": {
    "collapsed": true
   },
   "outputs": [],
   "source": [
    "ser = serial.Serial('COM18', 9600, timeout=1)"
   ]
  },
  {
   "cell_type": "code",
   "execution_count": null,
   "metadata": {
    "collapsed": true
   },
   "outputs": [],
   "source": [
    "ser.write(bytes([90]))"
   ]
  },
  {
   "cell_type": "code",
   "execution_count": null,
   "metadata": {
    "collapsed": true
   },
   "outputs": [],
   "source": [
    "ser.write(bytes([180]))"
   ]
  },
  {
   "cell_type": "code",
   "execution_count": null,
   "metadata": {
    "collapsed": true
   },
   "outputs": [],
   "source": [
    "ser.close()"
   ]
  },
  {
   "cell_type": "code",
   "execution_count": null,
   "metadata": {
    "collapsed": true
   },
   "outputs": [],
   "source": [
    "ser = serial.Serial('COM18', 9600, timeout=1)\n",
    "\n",
    "for angle in range(0,180):\n",
    "    ser.write(bytes([angle]))\n",
    "    time.sleep(0.1)\n",
    "    \n",
    "for angle in range(180,0,-1):\n",
    "    ser.write(bytes([angle]))\n",
    "    time.sleep(0.1)\n",
    "    \n",
    "ser.close()"
   ]
  },
  {
   "cell_type": "code",
   "execution_count": null,
   "metadata": {
    "collapsed": true
   },
   "outputs": [],
   "source": [
    "import serial\n",
    "import time\n",
    "\n",
    "def move(angle):\n",
    "    if (0 <= angle <= 180):\n",
    "        ser.write(bytes([angle]))\n",
    "    else:\n",
    "        print(\"Servo angle must be an integer between 30 and 180.\\n\")\n",
    "\n",
    "# Start the serial port to communicate with arduino\n",
    "ser = serial.Serial('COM18', 9600, timeout=1)\n",
    "\n",
    "print(\"The initial servo angle is 30, type 'end' if you want to stop\")\n",
    "\n",
    "while 1:\n",
    "    angle = input(\"Enter your angle: \")\n",
    "    if angle == \"end\":\n",
    "        print(\"Finished\")\n",
    "        ser.close()\n",
    "        break\n",
    "    else:\n",
    "        move(int(angle))\n",
    "        time.sleep(0.01)\n",
    "        print(\"The current servo angle is \" + angle)\n"
   ]
  },
  {
   "cell_type": "markdown",
   "metadata": {},
   "source": [
    "# 3. Data Streaming with Python\n",
    "\n",
    "## 3.1 MPU6050 and layout\n",
    "\n",
    "Reference: http://playground.arduino.cc/Main/MPU-6050\n",
    "\n",
    "The InvenSense MPU-6050 sensor contains a MEMS accelerometer and a MEMS gyro in a single chip. It is very accurate, as it contains 16-bits analog to digital conversion hardware for each channel. Therefor it captures the x, y, and z channel at the same time. The sensor uses the I2C-bus to interface with the Arduino.\n",
    "\n",
    "<table style=\"border-style: hidden; border-collapse: collapse;\" width = \"90%\"> \n",
    "    <tr style=\"border-style: hidden; border-collapse: collapse;\">\n",
    "        <td width = 25% style=\"border-style: hidden; border-collapse: collapse;\">\n",
    "<img src = \"./image_files/mpu6050.jpg\" width = 150>\n",
    "        </td>\n",
    "        <td width = 65%>\n",
    "<img src = \"./image_files/circuit.png\" width = 500>\n",
    "        </td>\n",
    "    </tr>\n",
    "</table>\n",
    "\n",
    "\n",
    "\n"
   ]
  },
  {
   "cell_type": "markdown",
   "metadata": {},
   "source": [
    "## 3.2. Plotting Saved Data in buffer from Arduino\n",
    "\n",
    "Before plotting the streaming data from the MPU6050, we will try plotting data after saving it in a buffer. The example code below saves 50 data sets before actually plotting it.\n",
    "\n",
    "<br>\n",
    "__Arduino Code__\n",
    "```c\n",
    "#include <Wire.h>\n",
    "\n",
    "const int MPU = 0x68;   //Default address of I2C for MPU 6050\n",
    "int16_t AcX, AcY, AcZ;\n",
    "\n",
    "void setup() {\n",
    "  Wire.begin();                   // Wire library initialization\n",
    "  Wire.beginTransmission(MPU);    // Begin transmission to MPU\n",
    "  Wire.write(0x6B);               // PWR_MGMT_1 register\n",
    "  Wire.write(0);                  // MPU-6050 to start mode\n",
    "  Wire.endTransmission(true);\n",
    "  Serial.begin(9600);\n",
    "}\n",
    "\n",
    "void loop() {\n",
    "  Wire.beginTransmission(MPU);      // Start transfer\n",
    "  Wire.write(0x3B);                 // register 0x3B (ACCEL_XOUT_H), records data in queue\n",
    "  Wire.endTransmission(false);      // Maintain connection\n",
    "  Wire.requestFrom(MPU, 14, true);  // Request data to MPU\n",
    "  //Reads byte by byte\n",
    "  AcX = Wire.read() << 8 | Wire.read(); // 0x3B (ACCEL_XOUT_H) & 0x3C (ACCEL_XOUT_L)\n",
    "  AcY = Wire.read() << 8 | Wire.read(); // 0x3D (ACCEL_YOUT_H) & 0x3E (ACCEL_YOUT_L)\n",
    "  AcZ = Wire.read() << 8 | Wire.read(); // 0x3F (ACCEL_ZOUT_H) & 0x40 (ACCEL_ZOUT_L)\n",
    "\n",
    "  //Prints values on Serial\n",
    "  Serial.print(AcX);\n",
    "  Serial.print(\",\"); \n",
    "  Serial.print(AcY);\n",
    "  Serial.print(\",\"); \n",
    "  Serial.println(AcZ);\n",
    "  delay(20);\n",
    "}\n",
    "```\n",
    "\n",
    "<br>\n",
    "__Python Code__\n",
    "\n",
    "`> python -m pip install drawnow`"
   ]
  },
  {
   "cell_type": "code",
   "execution_count": 3,
   "metadata": {
    "collapsed": false
   },
   "outputs": [],
   "source": [
    "import serial          \n",
    "import numpy as np     \n",
    "import matplotlib.pyplot as plt \n",
    "%matplotlib qt \n",
    "from drawnow import *\n",
    "\n",
    "ser = serial.Serial('COM5',9600)     \n",
    "\n",
    "# Define Variables\n",
    "Accx = []\n",
    "Accy = []\n",
    "Accz = []\n",
    "\n",
    "plt.ion()   # Tell matplotlib you want interactive mode to plot live data"
   ]
  },
  {
   "cell_type": "code",
   "execution_count": 4,
   "metadata": {
    "collapsed": true
   },
   "outputs": [],
   "source": [
    "def makeFig():      # Create a function that makes our desired plot\n",
    "    # plt.ylim(80,90)\n",
    "    plt.figure(1)\n",
    "    plt.subplot(311)                    # Set y min and max values\n",
    "    plt.title('Saved data')             # Plot the title\n",
    "    plt.grid(True)                      # Turn the grid on\n",
    "    plt.ylabel('Acceleration')          # Set ylabels\n",
    "    plt.plot(Accx, 'bo-', label='X')    # plot the temperature\n",
    "    plt.legend(loc='upper left')        # plot the legend\n",
    "    \n",
    "    plt.subplot(312)                    # Set y min and max values\n",
    "    plt.grid(True)                      # Turn the grid on\n",
    "    plt.ylabel('Acceleration')          # Set ylabels\n",
    "    plt.plot(Accy, 'ro-', label='Y')    # plot the temperature\n",
    "    plt.legend(loc='upper left')          \n",
    "    \n",
    "    plt.subplot(313)                    # Set y min and max values\n",
    "    plt.grid(True)                      # Turn the grid on\n",
    "    plt.ylabel('Acceleration')          # Set ylabels\n",
    "    plt.plot(Accz, 'go-', label='Z')    # plot the temperature\n",
    "    plt.legend(loc='upper left')          \n",
    "\n",
    "    plt.show()"
   ]
  },
  {
   "cell_type": "code",
   "execution_count": 5,
   "metadata": {
    "collapsed": true
   },
   "outputs": [],
   "source": [
    "for i in range (51):               # Wait until the buffer is filled up to 50 values\n",
    "    while (ser.inWaiting() == 0):   \n",
    "        pass                        \n",
    "        \n",
    "    arduinoString = ser.readline().decode(\"utf-8\") #.strip()\n",
    "    \n",
    "    dataArray = (arduinoString.split(','))      # Since the values are being sent consecutively, \n",
    "                                                # the values must be split into x,y,and z\n",
    "    # Data conversion from string to float\n",
    "    temp1 = float(dataArray[0])             \n",
    "    temp2 = float(dataArray[1]) \n",
    "    temp3 = float(dataArray[2])\n",
    "    \n",
    "    # Convert second element to floating number and put in P\n",
    "    Accx.append(temp1)                      \n",
    "    Accy.append(temp2)                      \n",
    "    Accz.append(temp3)\n",
    "                      \n",
    "    plt.pause(.001)  # Pause Briefly. Important to keep drawnow from crashing    "
   ]
  },
  {
   "cell_type": "code",
   "execution_count": null,
   "metadata": {
    "collapsed": true
   },
   "outputs": [],
   "source": [
    "drawnow(makeFig)        # Call drawnow to draw the graph with the data from the buffer"
   ]
  },
  {
   "cell_type": "code",
   "execution_count": 7,
   "metadata": {
    "collapsed": false
   },
   "outputs": [],
   "source": [
    "ser.close()"
   ]
  },
  {
   "cell_type": "markdown",
   "metadata": {},
   "source": [
    "<img src = \"./image_files/live_2.png\" style=\"border:1px solid black\" width = 600>"
   ]
  },
  {
   "cell_type": "markdown",
   "metadata": {},
   "source": [
    "## 3.3. Plotting Steaming Data from Arduino\n",
    "\n",
    "__Arduino code__\n",
    "\n",
    "```c\n",
    "#include <Wire.h>\n",
    "\n",
    "const int MPU = 0x68;   //Default address of I2C for MPU 6050\n",
    "int16_t AcX, AcY, AcZ;\n",
    "\n",
    "void setup() {\n",
    "  Wire.begin();                   // Wire library initialization\n",
    "  Wire.beginTransmission(MPU);    // Begin transmission to MPU\n",
    "  Wire.write(0x6B);               // PWR_MGMT_1 register\n",
    "  Wire.write(0);                  // MPU-6050 to start mode\n",
    "  Wire.endTransmission(true);\n",
    "  Serial.begin(9600);\n",
    "}\n",
    "\n",
    "void loop() {\n",
    "  Wire.beginTransmission(MPU);      // Start transfer\n",
    "  Wire.write(0x3B);                 // register 0x3B (ACCEL_XOUT_H), records data in queue\n",
    "  Wire.endTransmission(false);      // Maintain connection\n",
    "  Wire.requestFrom(MPU, 14, true);  // Request data to MPU\n",
    "  //Reads byte by byte\n",
    "  AcX = Wire.read() << 8 | Wire.read(); // 0x3B (ACCEL_XOUT_H) & 0x3C (ACCEL_XOUT_L)\n",
    "  AcY = Wire.read() << 8 | Wire.read(); // 0x3D (ACCEL_YOUT_H) & 0x3E (ACCEL_YOUT_L)\n",
    "  AcZ = Wire.read() << 8 | Wire.read(); // 0x3F (ACCEL_ZOUT_H) & 0x40 (ACCEL_ZOUT_L)\n",
    "\n",
    "  //Prints values on Serial\n",
    "  Serial.print(AcX);\n",
    "  Serial.print(\",\"); \n",
    "  Serial.print(AcY);\n",
    "  Serial.print(\",\"); \n",
    "  Serial.println(AcZ);\n",
    "  delay(20);\n",
    "}\n",
    "```"
   ]
  },
  {
   "cell_type": "markdown",
   "metadata": {},
   "source": [
    "__Python code__"
   ]
  },
  {
   "cell_type": "code",
   "execution_count": 1,
   "metadata": {
    "collapsed": false
   },
   "outputs": [],
   "source": [
    "# Plot 3 signals\n",
    "\n",
    "import serial\n",
    "import numpy as np\n",
    "from matplotlib import pyplot as plt\n",
    "from matplotlib import animation\n",
    "\n",
    "ser = serial.Serial('COM5', 9600)\n",
    "\n",
    "len = 200\n",
    "fig = plt.figure(figsize=(12, 6))\n",
    "ax = plt.axes(xlim=(0,len), ylim=(-2, 2))\n",
    "\n",
    "plt.title('Real-time sensor data')\n",
    "plt.xlabel('Data points')\n",
    "plt.ylabel('Acceleration [G]')\n",
    "ax.grid(True)\n",
    "\n",
    "graphX, = ax.plot([], [], 'b', label = 'X')\n",
    "ax.legend(loc='upper right')\n",
    "graphY, = ax.plot([], [], 'r', label = 'Y')\n",
    "ax.legend(loc='upper right')\n",
    "graphZ, = ax.plot([], [], 'g', label = 'Z')\n",
    "ax.legend(loc='upper right')\n",
    "\n",
    "time = list(range(0, len + 1))\n",
    "accX = []\n",
    "accY = []\n",
    "accZ = []\n",
    "\n",
    "for i in range(0, len + 1):\n",
    "    accX.append(0)\n",
    "    accY.append(0)\n",
    "    accZ.append(0)\n",
    "\n",
    "def init():\n",
    "    graphX.set_data([], [])\n",
    "    graphY.set_data([], [])\n",
    "    graphZ.set_data([], [])\n",
    "    return graphX, graphY, graphZ\n",
    "\n",
    "def animate(i):\n",
    "    global time, accX, accY, accZ\n",
    "\n",
    "    while (ser.inWaiting() == 0):\n",
    "        pass\n",
    "\n",
    "    arduinoString = ser.readline().decode(\"utf-8\")\n",
    "    dataArray = (arduinoString.split(','))\n",
    "\n",
    "    accX.append(float(dataArray[0])/(32767/2))\n",
    "    accX.pop(0)\n",
    "    accY.append(float(dataArray[1])/(32767/2))\n",
    "    accY.pop(0)\n",
    "    accZ.append(float(dataArray[2])/(32767/2))\n",
    "    accZ.pop(0)\n",
    "\n",
    "    graphX.set_data(time, accX)\n",
    "    graphY.set_data(time, accY)\n",
    "    graphZ.set_data(time, accZ)\n",
    "\n",
    "    return graphX, graphY, graphZ\n",
    "\n",
    "delay = 20\n",
    "anim = animation.FuncAnimation(fig, animate, init_func=init,\n",
    "                               interval=delay, blit=True)\n",
    "\n",
    "plt.show()     "
   ]
  },
  {
   "cell_type": "code",
   "execution_count": 2,
   "metadata": {
    "collapsed": false
   },
   "outputs": [],
   "source": [
    "ser.close()"
   ]
  },
  {
   "cell_type": "markdown",
   "metadata": {},
   "source": [
    "<img src = \"./image_files/MPU_plot.png\" style=\"border:1px solid black\" width = 600>"
   ]
  },
  {
   "cell_type": "code",
   "execution_count": null,
   "metadata": {
    "collapsed": true
   },
   "outputs": [],
   "source": [
    "# Subplot\n",
    "\n",
    "import serial\n",
    "import numpy as np\n",
    "from matplotlib import pyplot as plt\n",
    "from matplotlib import animation\n",
    "\n",
    "ser = serial.Serial('COM5', 9600)\n",
    "\n",
    "len = 200\n",
    "fig = plt.figure(figsize=(12, 9))\n",
    "\n",
    "ax1 = fig.add_subplot(3, 1, 1)\n",
    "ax2 = fig.add_subplot(3, 1, 2)\n",
    "ax3 = fig.add_subplot(3, 1, 3)\n",
    "\n",
    "graphX, = ax1.plot([], [], 'b', label = 'X')\n",
    "graphY, = ax2.plot([], [], 'r', label = 'Y')\n",
    "graphZ, = ax3.plot([], [], 'g', label = 'Z')\n",
    "axes = [ax1, ax2, ax3]\n",
    "\n",
    "for ax in axes:\n",
    "    ax.set_xlim(0, len)\n",
    "    ax.set_ylim(-2, 2)\n",
    "    ax.set_ylabel('Acceleration [G]')\n",
    "    ax.legend(loc='upper right')\n",
    "    ax.grid(True)\n",
    "\n",
    "ax1.set_title('Real-time sensor data')\n",
    "ax3.set_xlabel('Data points')\n",
    "    \n",
    "time = list(range(0, len + 1))\n",
    "accX = []\n",
    "accY = []\n",
    "accZ = []\n",
    "\n",
    "for i in range(0, len + 1):\n",
    "    accX.append(0)\n",
    "    accY.append(0)\n",
    "    accZ.append(0)\n",
    "\n",
    "def init():\n",
    "    graphX.set_data([], [])\n",
    "    graphY.set_data([], [])\n",
    "    graphZ.set_data([], [])\n",
    "    return graphX, graphY, graphZ\n",
    "\n",
    "def animate(i):\n",
    "    global time, accX, accY, accZ\n",
    "\n",
    "    while (ser.inWaiting() == 0):\n",
    "        pass\n",
    "\n",
    "    arduinoString = ser.readline().decode(\"utf-8\")\n",
    "    dataArray = (arduinoString.split(','))\n",
    "\n",
    "    accX.append(float(dataArray[0])/(32767/2))\n",
    "    accX.pop(0)\n",
    "    accY.append(float(dataArray[1])/(32767/2))\n",
    "    accY.pop(0)\n",
    "    accZ.append(float(dataArray[2])/(32767/2))\n",
    "    accZ.pop(0)\n",
    "\n",
    "    graphX.set_data(time, accX)\n",
    "    graphY.set_data(time, accY)\n",
    "    graphZ.set_data(time, accZ)\n",
    "\n",
    "    return graphX, graphY, graphZ\n",
    "\n",
    "delay = 20\n",
    "anim = animation.FuncAnimation(fig, animate, init_func=init,\n",
    "                               interval=delay, blit=True)\n",
    "\n",
    "plt.show()     "
   ]
  },
  {
   "cell_type": "code",
   "execution_count": null,
   "metadata": {
    "collapsed": true
   },
   "outputs": [],
   "source": [
    "ser.close()"
   ]
  },
  {
   "cell_type": "markdown",
   "metadata": {},
   "source": [
    "<img src = \"./image_files/MPU_subplot.png\" style=\"border:1px solid black\" width = 600>"
   ]
  },
  {
   "cell_type": "markdown",
   "metadata": {
    "collapsed": true
   },
   "source": [
    "# 4. Summary"
   ]
  },
  {
   "cell_type": "code",
   "execution_count": 25,
   "metadata": {
    "collapsed": false
   },
   "outputs": [
    {
     "data": {
      "text/html": [
       "<iframe src=\"https://www.youtube.com/embed/jemrZxfKVIY\" \n",
       "width=\"560\" height=\"315\" frameborder=\"0\" allowfullscreen></iframe>"
      ],
      "text/plain": [
       "<IPython.core.display.HTML object>"
      ]
     },
     "metadata": {},
     "output_type": "display_data"
    }
   ],
   "source": [
    "%%html\n",
    "<iframe src=\"https://www.youtube.com/embed/jemrZxfKVIY\" \n",
    "width=\"560\" height=\"315\" frameborder=\"0\" allowfullscreen></iframe>"
   ]
  },
  {
   "cell_type": "code",
   "execution_count": 26,
   "metadata": {
    "collapsed": false
   },
   "outputs": [
    {
     "data": {
      "application/javascript": [
       "$.getScript('https://kmahelona.github.io/ipython_notebook_goodies/ipython_notebook_toc.js')"
      ],
      "text/plain": [
       "<IPython.core.display.Javascript object>"
      ]
     },
     "metadata": {},
     "output_type": "display_data"
    }
   ],
   "source": [
    "%%javascript\n",
    "$.getScript('https://kmahelona.github.io/ipython_notebook_goodies/ipython_notebook_toc.js')"
   ]
  }
 ],
 "metadata": {
  "anaconda-cloud": {},
  "kernelspec": {
   "display_name": "Python 3",
   "language": "python",
   "name": "python3"
  },
  "language_info": {
   "codemirror_mode": {
    "name": "ipython",
    "version": 3
   },
   "file_extension": ".py",
   "mimetype": "text/x-python",
   "name": "python",
   "nbconvert_exporter": "python",
   "pygments_lexer": "ipython3",
   "version": "3.5.2"
  }
 },
 "nbformat": 4,
 "nbformat_minor": 0
}

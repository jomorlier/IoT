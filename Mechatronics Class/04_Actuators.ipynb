{
 "cells": [
  {
   "cell_type": "markdown",
   "metadata": {
    "collapsed": true
   },
   "source": [
    "<br>\n",
    "<font size='6'><b>Actuators</b></font><br><br>\n",
    "\n",
    "<table style=\"border-style: hidden; border-collapse: collapse;\" width = \"80%\"> \n",
    "    <tr style=\"border-style: hidden; border-collapse: collapse;\">\n",
    "        <td width = 60% style=\"border-style: hidden; border-collapse: collapse;\">\n",
    "\n",
    "        </td>\n",
    "        <td width = 20%>\n",
    "        by Seungchul Lee<br>iSystems Design Lab<br>http://isystems.unist.ac.kr/<br>UNIST\n",
    "        </td>\n",
    "    </tr>\n",
    "</table>\n",
    "\n",
    "Table of Contents\n",
    "<div id=\"toc\"></div>"
   ]
  },
  {
   "cell_type": "markdown",
   "metadata": {},
   "source": [
    "# 1. Actuators\n",
    "\n",
    "\n",
    "- Devices that cause something to happen in the physical world\n",
    "\n",
    "\n",
    "- Outputs of the IoT device\n",
    "    - Visual: LED, LCD, monitor\n",
    "    - Audio: buzzer, speaker\n",
    "    - Motion: motors, valve, pump    \n",
    "\n",
    "\n",
    "- Visual Output\n",
    " - many LEDs\n",
    " - RGB (Red Green Blue) LED<br>\n",
    "    https://learn.adafruit.com/adafruit-arduino-lesson-3-rgb-leds?view=all\n",
    " - 7 Segments\n",
    " - two digit 7 segments (dual 7 segments)\n",
    " - LCD   \n",
    "    https://learn.adafruit.com/adafruit-arduino-lesson-11-lcd-displays-1?view=all\n",
    "\n",
    "\n",
    "\n",
    "- Physical Output\n",
    "\n",
    "    - DC motor\n",
    "\n",
    "    - Servo motor\n",
    "\n",
    "    - Stepper motor"
   ]
  },
  {
   "cell_type": "markdown",
   "metadata": {},
   "source": [
    "# 2. Visual Outputs\n",
    "\n",
    "## 2.1. Segments\n",
    "\n",
    "- A 7 Segment LED Display is a electronic device that contains an array of 8 individual LEDs.\n",
    "- The 7 Segment LED Display we will be using for the lab is a Common Anode type.\n",
    "    - Unlike the LEDs we have been using, the LED will be turned on if the value of the pin is LOW.\n",
    "    - Please refer to the video below for more information.\n",
    "\n",
    "<table style=\"border-style: hidden; border-collapse: collapse;\" width = \"95%\"> \n",
    "    <tr style=\"border-style: hidden; border-collapse: collapse;\">\n",
    "        <td width = 15% style=\"border-style: hidden; border-collapse: collapse;\">\n",
    "<img src = \"./image_files/7segmentled.jpg\" style=\"border:1px solid black\", width =120>\n",
    "        </td>\n",
    "        <td width = 15% style=\"border-style: hidden; border-collapse: collapse;\">\n",
    "<img src = \"./image_files/7seg_schem.jpg\" width = 180>\n",
    "        </td>\n",
    "        <td width = 40% style=\"border-style: hidden; border-collapse: collapse;\">\n",
    "<img src = \"./image_files/8leds_common_anode.gif\" width = 400>\n",
    "        </td>\n",
    "        <td width = 25% style=\"border-style: hidden; border-collapse: collapse;\">\n",
    "<img src = \"./image_files/sevenseg_pin.png\" style=\"border:1px solid black\", width =150>\n",
    "        </td>\n",
    "    </tr>\n",
    "</table>"
   ]
  },
  {
   "cell_type": "code",
   "execution_count": 1,
   "metadata": {
    "collapsed": false
   },
   "outputs": [
    {
     "data": {
      "text/html": [
       "<iframe src=\"https://www.youtube.com/embed/Irgz_qy27qc\" \n",
       "width=\"560\" height=\"315\" frameborder=\"0\" allowfullscreen></iframe>"
      ],
      "text/plain": [
       "<IPython.core.display.HTML object>"
      ]
     },
     "metadata": {},
     "output_type": "display_data"
    }
   ],
   "source": [
    "%%html\n",
    "<iframe src=\"https://www.youtube.com/embed/Irgz_qy27qc\" \n",
    "width=\"560\" height=\"315\" frameborder=\"0\" allowfullscreen></iframe>"
   ]
  },
  {
   "cell_type": "markdown",
   "metadata": {},
   "source": [
    "<font size='4'><b>Lab 1: 7 Segment</b></font>\n",
    "\n",
    "- Turn all leds in 7 segment\n",
    "\n",
    "- With 390 ohm resistor\n",
    "\n",
    "- When a pin is LOW, the corresponding LED is on.\n",
    "\n",
    "<table style=\"border-style: hidden; border-collapse: collapse;\" width = \"96%\"> \n",
    "    <tr style=\"border-style: hidden; border-collapse: collapse;\">\n",
    "        <td width = 20% style=\"border-style: hidden; border-collapse: collapse;\">\n",
    "<img src = \"./image_files/sevenseg_pin.png\" style=\"border:1px solid black\", width =150>\n",
    "        </td>\n",
    "        <td width = 76%>\n",
    "<img src = \"./image_files/Actuators_7Segment_fritz_newversion.jpg\" width = 600>\n",
    "        </td>\n",
    "    </tr>\n",
    "</table>\n",
    "\n",
    "```c\n",
    "const int a = 2;\n",
    "const int b = 3;\n",
    "const int c = 4;\n",
    "const int d = 5;\n",
    "const int e = 6;\n",
    "const int f = 7;\n",
    "const int g = 8;\n",
    "const int dp = 9;\n",
    "\n",
    "void setup()\n",
    "{\n",
    "  pinMode(a, OUTPUT);\n",
    "  pinMode(b, OUTPUT);\n",
    "  pinMode(c, OUTPUT);\n",
    "  pinMode(d, OUTPUT);\n",
    "  pinMode(e, OUTPUT);\n",
    "  pinMode(f, OUTPUT);\n",
    "  pinMode(g, OUTPUT);\n",
    "  pinMode(dp, OUTPUT);\n",
    "}\n",
    "void loop()\n",
    "{  \n",
    "  digitalWrite(a, LOW);\n",
    "  digitalWrite(b, LOW);\n",
    "  digitalWrite(c, LOW);\n",
    "  digitalWrite(d, LOW);\n",
    "  digitalWrite(e, LOW);\n",
    "  digitalWrite(f, LOW);\n",
    "  digitalWrite(g, LOW);\n",
    "  digitalWrite(dp, LOW);\n",
    "  delay(1000);\n",
    "}  \n",
    "``` "
   ]
  },
  {
   "cell_type": "markdown",
   "metadata": {},
   "source": [
    "<font size='4'><b>Lab 2: 7 Segment LED Counter from 0 to 9</b></font>\n",
    "\n",
    "- With 390 ohm resistor\n",
    "\n",
    "<img src = \"./image_files/Actuators_7Segment_fritz_newversion.jpg\" width = 600> "
   ]
  },
  {
   "cell_type": "code",
   "execution_count": 2,
   "metadata": {
    "collapsed": false
   },
   "outputs": [
    {
     "data": {
      "text/html": [
       "<iframe src=\"https://www.youtube.com/embed/f_W370eWKxE\" \n",
       "width=\"560\" height=\"315\" frameborder=\"0\" allowfullscreen></iframe>"
      ],
      "text/plain": [
       "<IPython.core.display.HTML object>"
      ]
     },
     "metadata": {},
     "output_type": "display_data"
    }
   ],
   "source": [
    "%%html\n",
    "<iframe src=\"https://www.youtube.com/embed/f_W370eWKxE\" \n",
    "width=\"560\" height=\"315\" frameborder=\"0\" allowfullscreen></iframe>"
   ]
  },
  {
   "cell_type": "markdown",
   "metadata": {},
   "source": [
    "__Naive code__\n",
    "```c\n",
    "\n",
    "const int a = 2;\n",
    "const int b = 3;\n",
    "const int c = 4;\n",
    "const int d = 5;\n",
    "const int e = 6;\n",
    "const int f = 7;\n",
    "const int g = 8;\n",
    "\n",
    "void setup()\n",
    "{\n",
    "  pinMode(a, OUTPUT);\n",
    "  pinMode(b, OUTPUT);\n",
    "  pinMode(c, OUTPUT);\n",
    "  pinMode(d, OUTPUT);\n",
    "  pinMode(e, OUTPUT);\n",
    "  pinMode(f, OUTPUT);\n",
    "  pinMode(g, OUTPUT);\n",
    "}\n",
    "void loop()\n",
    "{\n",
    "  //Display 0\n",
    "  digitalWrite(a, LOW);\n",
    "  digitalWrite(b, LOW);\n",
    "  digitalWrite(c, LOW);\n",
    "  digitalWrite(d, LOW);\n",
    "  digitalWrite(e, LOW);\n",
    "  digitalWrite(f, LOW);\n",
    "  digitalWrite(g, HIGH);\n",
    "  delay(1000);\n",
    "\n",
    "  //Display 1\n",
    "  digitalWrite(a, HIGH);\n",
    "  digitalWrite(b, LOW);\n",
    "  digitalWrite(c, LOW);\n",
    "  digitalWrite(d, HIGH);\n",
    "  digitalWrite(e, HIGH);\n",
    "  digitalWrite(f, HIGH);\n",
    "  digitalWrite(g, HIGH);\n",
    "  delay(1000);\n",
    "\n",
    "  //Display 2\n",
    "  digitalWrite(a, LOW);\n",
    "  digitalWrite(b, LOW);\n",
    "  digitalWrite(c, HIGH);\n",
    "  digitalWrite(d, LOW);\n",
    "  digitalWrite(e, LOW);\n",
    "  digitalWrite(f, HIGH);\n",
    "  digitalWrite(g, LOW);\n",
    "  delay(1000);\n",
    "\n",
    "  //Display 3\n",
    "  digitalWrite(a, LOW);\n",
    "  digitalWrite(b, LOW);\n",
    "  digitalWrite(c, LOW);\n",
    "  digitalWrite(d, LOW);\n",
    "  digitalWrite(e, HIGH);\n",
    "  digitalWrite(f, HIGH);\n",
    "  digitalWrite(g, LOW);\n",
    "  delay(1000);\n",
    "\n",
    "  //Display 4\n",
    "  digitalWrite(a, HIGH);\n",
    "  digitalWrite(b, LOW);\n",
    "  digitalWrite(c, LOW);\n",
    "  digitalWrite(d, HIGH);\n",
    "  digitalWrite(e, HIGH);\n",
    "  digitalWrite(f, LOW);\n",
    "  digitalWrite(g, LOW);\n",
    "  delay(1000);\n",
    "\n",
    "  //Display 5\n",
    "  digitalWrite(a, LOW);\n",
    "  digitalWrite(b, HIGH);\n",
    "  digitalWrite(c, LOW);\n",
    "  digitalWrite(d, LOW);\n",
    "  digitalWrite(e, HIGH);\n",
    "  digitalWrite(f, LOW);\n",
    "  digitalWrite(g, LOW);\n",
    "  delay(1000);\n",
    "\n",
    "  //Display 6\n",
    "  digitalWrite(a, LOW);\n",
    "  digitalWrite(b, HIGH);\n",
    "  digitalWrite(c, LOW);\n",
    "  digitalWrite(d, LOW);\n",
    "  digitalWrite(e, LOW);\n",
    "  digitalWrite(f, LOW);\n",
    "  digitalWrite(g, LOW);\n",
    "  delay(1000);\n",
    "\n",
    "  //Display 7\n",
    "  digitalWrite(a, LOW);\n",
    "  digitalWrite(b, LOW);\n",
    "  digitalWrite(c, LOW);\n",
    "  digitalWrite(d, HIGH);\n",
    "  digitalWrite(e, HIGH);\n",
    "  digitalWrite(f, HIGH);\n",
    "  digitalWrite(g, HIGH);\n",
    "  delay(1000);\n",
    "\n",
    "  //Display 8\n",
    "  digitalWrite(a, LOW);\n",
    "  digitalWrite(b, LOW);\n",
    "  digitalWrite(c, LOW);\n",
    "  digitalWrite(d, LOW);\n",
    "  digitalWrite(e, LOW);\n",
    "  digitalWrite(f, LOW);\n",
    "  digitalWrite(g, LOW);\n",
    "  delay(1000);\n",
    "\n",
    "  //Display 9\n",
    "  digitalWrite(a, LOW);\n",
    "  digitalWrite(b, LOW);\n",
    "  digitalWrite(c, LOW);\n",
    "  digitalWrite(d, LOW);\n",
    "  digitalWrite(e, HIGH);\n",
    "  digitalWrite(f, LOW);\n",
    "  digitalWrite(g, LOW);\n",
    "  delay(1000);\n",
    "}\n",
    "```"
   ]
  },
  {
   "cell_type": "markdown",
   "metadata": {},
   "source": [
    "__Using 2D array__\n",
    "\n",
    "<img src = \"./image_files/7seg_4.png\" width = 300>\n",
    "\n",
    "```c\n",
    "byte digits[10][7] = {\n",
    "  {0, 0, 0, 0, 0, 0, 1}, // 0\n",
    "  {1, 0, 0, 1, 1, 1, 1}, // 1\n",
    "  {0, 0, 1, 0, 0, 1, 0}, // 2\n",
    "  {0, 0, 0, 0, 1, 1, 0}, // 3\n",
    "  {1, 0, 0, 1, 1, 0, 0}, // 4\n",
    "  {0, 1, 0, 0, 1, 0, 0}, // 5\n",
    "  {0, 1, 0, 0, 0, 0, 0}, // 6\n",
    "  {0, 0, 0, 1, 1, 1, 1}, // 7\n",
    "  {0, 0, 0, 0, 0, 0, 0}, // 8\n",
    "  {0, 0, 0, 1, 1, 0, 0}  // 9\n",
    "};\n",
    "\n",
    "void displayDigit(int num) {\n",
    "  int pin = 2;\n",
    "  for (int i = 0; i < 7; i++) {\n",
    "    digitalWrite(pin + i, digits[num][i]);\n",
    "  }\n",
    "}\n",
    "\n",
    "void setup() {\n",
    "  for (int i = 2; i < 10; i++) {\n",
    "    pinMode(i, OUTPUT);\n",
    "  }\n",
    "  digitalWrite(9, HIGH);\n",
    "}\n",
    "\n",
    "void loop() {\n",
    "  for (int i = 0; i < 10; i++) {\n",
    "    delay(1000);\n",
    "    displayDigit(i);\n",
    "  }\n",
    "}\n",
    "```"
   ]
  },
  {
   "cell_type": "markdown",
   "metadata": {},
   "source": [
    "<font size='4'><b>Lab 3: 7 Segment LED Counter with Buttons</b></font>\n",
    "\n",
    "- Controlling the display with 2 push buttons to count up and down\n",
    "- 390 ohm and 2 $\\times$10k ohm \n",
    "\n",
    "<img src = \"./image_files/7seg_btn.png\" style=\"border:1px solid black\" width = 800>"
   ]
  },
  {
   "cell_type": "code",
   "execution_count": 3,
   "metadata": {
    "collapsed": false
   },
   "outputs": [
    {
     "data": {
      "text/html": [
       "<iframe src=\"https://www.youtube.com/embed/0VLL_Gqmwuw\" \n",
       "width=\"560\" height=\"315\" frameborder=\"0\" allowfullscreen></iframe>"
      ],
      "text/plain": [
       "<IPython.core.display.HTML object>"
      ]
     },
     "metadata": {},
     "output_type": "display_data"
    }
   ],
   "source": [
    "%%html\n",
    "<iframe src=\"https://www.youtube.com/embed/0VLL_Gqmwuw\" \n",
    "width=\"560\" height=\"315\" frameborder=\"0\" allowfullscreen></iframe>"
   ]
  },
  {
   "cell_type": "markdown",
   "metadata": {},
   "source": [
    "```c\n",
    "#define PLUS 11\n",
    "#define MINUS 12\n",
    "\n",
    "int digit = 0;\n",
    "\n",
    "byte digits[10][7] = {\n",
    "  {0, 0, 0, 0, 0, 0, 1}, // 0\n",
    "  {1, 0, 0, 1, 1, 1, 1}, // 1\n",
    "  {0, 0, 1, 0, 0, 1, 0}, // 2\n",
    "  {0, 0, 0, 0, 1, 1, 0}, // 3\n",
    "  {1, 0, 0, 1, 1, 0, 0}, // 4\n",
    "  {0, 1, 0, 0, 1, 0, 0}, // 5\n",
    "  {0, 1, 0, 0, 0, 0, 0}, // 6\n",
    "  {0, 0, 0, 1, 1, 1, 1}, // 7\n",
    "  {0, 0, 0, 0, 0, 0, 0}, // 8\n",
    "  {0, 0, 0, 1, 1, 0, 0} // 9\n",
    "};\n",
    "\n",
    "void displayDigit(int num) {\n",
    "  int pin = 2;\n",
    "  for (int i = 0; i < 7; i++) {\n",
    "    digitalWrite(pin + i, digits[num][i]);\n",
    "  }\n",
    "}\n",
    "\n",
    "void setup() {\n",
    "  pinMode(PLUS, INPUT);\n",
    "  pinMode(MINUS, INPUT);\n",
    "\n",
    "  for (int i = 2; i < 10; i++) {\n",
    "    pinMode(i, OUTPUT);\n",
    "  }\n",
    "  digitalWrite(9, HIGH);\n",
    "}\n",
    "\n",
    "void loop() {\n",
    "  if (digitalRead(PLUS) == HIGH) {\n",
    "    ++digit;\n",
    "    if (digit > 9) {\n",
    "      digit = 0;\n",
    "    }\n",
    "  }\n",
    "\n",
    "  if (digitalRead(MINUS) == HIGH) {\n",
    "    --digit;\n",
    "    if (digit < 0) {\n",
    "      digit = 9;\n",
    "    }\n",
    "  }\n",
    "  displayDigit(digit);\n",
    "  delay(100);\n",
    "}\n",
    "```"
   ]
  },
  {
   "cell_type": "markdown",
   "metadata": {},
   "source": [
    "## 2.2. LCD Display\n",
    "\n",
    "- Liquid crystal displays (LCDs) are commonly used to display data in devices such as calculators, microwave ovens, and many other electronic devices.\n",
    "\n",
    "\n",
    "<table style=\"border-style: hidden; border-collapse: collapse;\" width = \"90%\"> \n",
    "    <tr style=\"border-style: hidden; border-collapse: collapse;\">\n",
    "        <td width = 30% style=\"border-style: hidden; border-collapse: collapse;\">\n",
    "<img src = \"./image_files/lcd1.jpg\" width = 250>\n",
    "        </td>\n",
    "        <td width = 60%>\n",
    "<img src = \"./image_files/lcd_pin.png\" width = 500>\n",
    "        </td>\n",
    "    </tr>\n",
    "</table>\n",
    "\n",
    "- The `LiquidCrystal library` allows you to control LCD displays.\n",
    "\n",
    "\n",
    "- Syntax\n",
    "    - LiquidCrystal(rs, enable, d4, d5, d6, d7)\n",
    "    - LiquidCrystal(rs, rw, enable, d4, d5, d6, d7)\n",
    "    - LiquidCrystal(rs, enable, d0, d1, d2, d3, d4, d5, d6, d7)\n",
    "    - LiquidCrystal(rs, rw, enable, d0, d1, d2, d3, d4, d5, d6, d7)\n",
    "\n",
    "\n",
    "- Parameters\n",
    "    - rs: the number of the Arduino pin that is connected to the RS pin on the LCD\n",
    "\n",
    "    - rw: the number of the Arduino pin that is connected to the RW pin on the LCD (optional)\n",
    "\n",
    "    - enable: the number of the Arduino pin that is connected to the enable pin on the LCD\n",
    "\n",
    "    - d0, d1, d2, d3, d4, d5, d6, d7: the numbers of the Arduino pins that are connected to the corresponding data pins on the LCD. d0, d1, d2, and d3 are optional; if omitted, the LCD will be controlled using only the four data lines (d4, d5, d6, d7). \n",
    "\n",
    "\n",
    "- A potentiometer will be used to control the contrast of the LCD\n",
    "    - Note that a 1 k ohm potentiometer may be used instead of a 10k ohm (The change rate of the contrast will be faster)\n",
    "\n",
    "<img src = \"./image_files/LCD_Base_bb_Fritz.png\" width = 500>\n",
    "\n",
    "<img src = \"./image_files/LCD_Base_bb_Schem.png\" width = 500>"
   ]
  },
  {
   "cell_type": "code",
   "execution_count": 4,
   "metadata": {
    "collapsed": false
   },
   "outputs": [
    {
     "data": {
      "text/html": [
       "<iframe src=\"https://www.youtube.com/embed/85LvW1QDLLw\"\n",
       "width=\"560\" height=\"315\" frameborder=\"0\" allowfullscreen></iframe>"
      ],
      "text/plain": [
       "<IPython.core.display.HTML object>"
      ]
     },
     "metadata": {},
     "output_type": "display_data"
    }
   ],
   "source": [
    "%%html\n",
    "<iframe src=\"https://www.youtube.com/embed/85LvW1QDLLw\"\n",
    "width=\"560\" height=\"315\" frameborder=\"0\" allowfullscreen></iframe>"
   ]
  },
  {
   "cell_type": "markdown",
   "metadata": {},
   "source": [
    "<font size='4'><b>Lab 4: Simple and Static LCD Display</b></font>\n",
    "\n",
    "<img src = \"./image_files/lcd_display.png\" style=\"border:1px solid black\" width =300>"
   ]
  },
  {
   "cell_type": "code",
   "execution_count": 1,
   "metadata": {
    "collapsed": false
   },
   "outputs": [
    {
     "data": {
      "text/html": [
       "<iframe src=\"https://www.youtube.com/embed/OqLmj_BVOVw\" \n",
       "width=\"560\" height=\"315\" frameborder=\"0\" allowfullscreen></iframe>"
      ],
      "text/plain": [
       "<IPython.core.display.HTML object>"
      ]
     },
     "metadata": {},
     "output_type": "display_data"
    }
   ],
   "source": [
    "%%html\n",
    "<iframe src=\"https://www.youtube.com/embed/OqLmj_BVOVw\" \n",
    "width=\"560\" height=\"315\" frameborder=\"0\" allowfullscreen></iframe>"
   ]
  },
  {
   "cell_type": "markdown",
   "metadata": {},
   "source": [
    "```c\n",
    "#include <LiquidCrystal.h>\n",
    "\n",
    "// initialize the library by providing the nuber of pins to it\n",
    "LiquidCrystal lcd(12, 11, 5, 4, 3, 2);\n",
    "\n",
    "void setup() {\n",
    "  lcd.begin(16, 2);\n",
    "\n",
    "  // set cursor position to start of first line on the LCD\n",
    "  lcd.setCursor(0, 0);\n",
    "  //text to print\n",
    "  lcd.print(\"   16x2 LCD\");\n",
    "  // set cusor position to start of next line\n",
    "  lcd.setCursor(0, 1);\n",
    "  lcd.print(\"   DISPLAY\");\n",
    "}\n",
    "\n",
    "void loop() {\n",
    "\n",
    "}\n",
    "```"
   ]
  },
  {
   "cell_type": "markdown",
   "metadata": {},
   "source": [
    "<font size='4'><b>Lab 5: LCD Counter</b></font>\n",
    "\n",
    "<img src = \"./image_files/lcd_timer_1.png\" style=\"border:1px solid black\" width =300>"
   ]
  },
  {
   "cell_type": "code",
   "execution_count": 2,
   "metadata": {
    "collapsed": false
   },
   "outputs": [
    {
     "data": {
      "text/html": [
       "<iframe src=\"https://www.youtube.com/embed/24v2BrXJApw\" \n",
       "width=\"560\" height=\"315\" frameborder=\"0\" allowfullscreen></iframe>"
      ],
      "text/plain": [
       "<IPython.core.display.HTML object>"
      ]
     },
     "metadata": {},
     "output_type": "display_data"
    }
   ],
   "source": [
    "%%html\n",
    "<iframe src=\"https://www.youtube.com/embed/24v2BrXJApw\" \n",
    "width=\"560\" height=\"315\" frameborder=\"0\" allowfullscreen></iframe>"
   ]
  },
  {
   "cell_type": "markdown",
   "metadata": {},
   "source": [
    "```c\n",
    "#include <LiquidCrystal.h>\n",
    "\n",
    "int cnt = 0;\n",
    "\n",
    "// initialize the library by providing the nuber of pins to it\n",
    "LiquidCrystal lcd(12, 11, 5, 4, 3, 2);\n",
    "\n",
    "void setup() {\n",
    "  lcd.begin(16, 2);\n",
    "\n",
    "  // set cursor position to start of first line on the LCD\n",
    "  lcd.setCursor(0, 0);\n",
    "  //text to print\n",
    "  lcd.print(\"    COUNTER\");\n",
    "  delay(100);\n",
    "\n",
    "  lcd.setCursor(0, 1);\n",
    "  lcd.print(\"       \");\n",
    "  lcd.print(cnt);\n",
    "}\n",
    "\n",
    "void loop() {\n",
    "  cnt = cnt + 1;\n",
    "  delay(1000);\n",
    "  lcd.setCursor(0, 1);\n",
    "  lcd.print(\"       \");\n",
    "  lcd.print(cnt);\n",
    "}\n",
    "```"
   ]
  },
  {
   "cell_type": "markdown",
   "metadata": {},
   "source": [
    "__Note__\n",
    "\n",
    "- Only basic methods of the _LiquidCrystal_ class are illustrated in this lecture. \n",
    "- For more information, see Arduino [LiquidCrystal Library](https://www.arduino.cc/en/Reference/LiquidCrystal)\n",
    "\n",
    "Check the below simple game using LCD"
   ]
  },
  {
   "cell_type": "code",
   "execution_count": 4,
   "metadata": {
    "collapsed": false
   },
   "outputs": [
    {
     "data": {
      "text/html": [
       "<iframe src=\"https://www.youtube.com/embed/oX6Z890Zd2A?start=9\" \n",
       "width=\"560\" height=\"315\" frameborder=\"0\" allowfullscreen></iframe>"
      ],
      "text/plain": [
       "<IPython.core.display.HTML object>"
      ]
     },
     "metadata": {},
     "output_type": "display_data"
    }
   ],
   "source": [
    "%%html\n",
    "<iframe src=\"https://www.youtube.com/embed/oX6Z890Zd2A?start=9\" \n",
    "width=\"560\" height=\"315\" frameborder=\"0\" allowfullscreen></iframe>"
   ]
  },
  {
   "cell_type": "markdown",
   "metadata": {},
   "source": [
    "# 3. Physical Outputs"
   ]
  },
  {
   "cell_type": "code",
   "execution_count": 3,
   "metadata": {
    "collapsed": false
   },
   "outputs": [
    {
     "data": {
      "text/html": [
       "<iframe src=\"https://player.vimeo.com/video/84274150\" \n",
       "width=\"560\" height=\"315\" frameborder=\"0\" allowfullscreen></iframe>"
      ],
      "text/plain": [
       "<IPython.core.display.HTML object>"
      ]
     },
     "metadata": {},
     "output_type": "display_data"
    }
   ],
   "source": [
    "%%html\n",
    "<iframe src=\"https://player.vimeo.com/video/84274150\" \n",
    "width=\"560\" height=\"315\" frameborder=\"0\" allowfullscreen></iframe>"
   ]
  },
  {
   "cell_type": "markdown",
   "metadata": {},
   "source": [
    "## 3.1. DC Motor\n",
    "\n",
    "Two terminals\n",
    "- when you apply direct current to one terminal and ground the other, the motor spins in one direction. \n",
    "\n",
    "- When you apply current to the other terminal and ground the first terminal, the motor spins in the opposite direction. \n",
    "\n",
    "Control DC motor\n",
    "- By switching the polarity of the terminals, you can reverse the <font color='red'>direction</font> of the motor. \n",
    "\n",
    "- By varying the current supplied to the motor (analog $\\rightarrow$ PWM), you vary the <font color='red'>speed</font> of the motor."
   ]
  },
  {
   "cell_type": "code",
   "execution_count": 4,
   "metadata": {
    "collapsed": false
   },
   "outputs": [
    {
     "data": {
      "text/html": [
       "<iframe src=\"https://www.youtube.com/embed/j6D9-GKhAyc\" \n",
       "width=\"560\" height=\"315\" frameborder=\"0\" allowfullscreen></iframe>"
      ],
      "text/plain": [
       "<IPython.core.display.HTML object>"
      ]
     },
     "metadata": {},
     "output_type": "display_data"
    }
   ],
   "source": [
    "%%html\n",
    "<iframe src=\"https://www.youtube.com/embed/j6D9-GKhAyc\" \n",
    "width=\"560\" height=\"315\" frameborder=\"0\" allowfullscreen></iframe>"
   ]
  },
  {
   "cell_type": "markdown",
   "metadata": {},
   "source": [
    "### 3.1.1. Transistor\n",
    "\n",
    "The small DC motor, is likely to use more power than an Arduino digital output can handle directly. If we tried to connect the motor straight to an Arduino pin, there is a good chance that it could damage the Arduino. Due to the fact that drawing too much current from the Arduino may damage the circuit, transistors are often used to modulate the current flow.\n",
    "\n",
    "A small transistor can be used as a switch that uses just a little current from the Arduino digital output to control the much bigger current of the motor. \n",
    "\n",
    "The transistor that we will be using for the lab may have a slightly different layout from some references, so please be sure to make sure that you have checked the layout of the transistor. Right below is the pin layout of the transistor.\n",
    " \n",
    "<table style=\"border-style: hidden; border-collapse: collapse;\" width = \"90%\"> \n",
    "    <tr style=\"border-style: hidden; border-collapse: collapse;\">\n",
    "        <td width = 30% style=\"border-style: hidden; border-collapse: collapse;\">\n",
    "            <img src=\"./image_files/tip120_solo.png\" width = 200>            \n",
    "        </td>\n",
    "        <td width = 30% style=\"border-style: hidden; border-collapse: collapse;\">\n",
    "            <img src=\"./image_files/tip120_V2.png\" width = 220>\n",
    "        </td>\n",
    "        <td width = 30% style=\"border-style: hidden; border-collapse: collapse;\">\n",
    "            <img src=\"./image_files/transistors3.png\" width = 150>\n",
    "        </td>    \n",
    "</table>\n",
    "\n",
    "<br>\n",
    "<img src=\"./image_files/learn_arduino_transistor.png\" width = 400>\n",
    "\n",
    "The transistor has three leads. Most of the electricity flows from the Collector to the Emitter, but this will only happen if a small amount is flowing into the Base connection. This small current is supplied by the Arduino digital output.\n",
    "\n",
    "__Water Analogy__\n",
    "\n",
    "1) On (when $V_B$ is high)\n",
    "<img src=\"./image_files/water-on.png\" width = 300>\n",
    "\n",
    "2) Off (when $V_B$ is low)\n",
    "<img src=\"./image_files/water-off.png\" width = 300>\n",
    "\n",
    "3) Linear flow control (when $V_B$ is PWM)\n",
    "<img src=\"./image_files/water-control.png\" width = 300>\n",
    "\n",
    "\n",
    "The diagram below is called a schematic diagram. Like a breadboard layout, it is a way of showing how the parts of an electronic project are connected together.\n",
    "\n",
    "<img src=\"./image_files/learn_schematic_transistor.jpg\" width = 400>\n",
    "\n",
    "The pin D3 of the Arduino is connected to the resistor. Just like when using an LED, this limits the current flowing into the transistor through the base.\n",
    "\n",
    "__Diode__\n",
    "\n",
    "There is a diode connected across the connections of the motor. Diodes only allow electricity to flow in one direction (the direction of their arrow).\n",
    "\n",
    "When you turn the power off to a motor, you get a negative spike of voltage, that can damage your Arduino or the transistor. The diode protects against this, by shorting out any such reverse current from the motor.\n",
    "\n",
    "<img src=\"./image_files/diode.jpg\" width = 300>"
   ]
  },
  {
   "cell_type": "markdown",
   "metadata": {},
   "source": [
    "<font size='4'><b>Lab 6: How to Spin a DC Motor with the Arduino</b></font>\n",
    "\n",
    "- http://www.dummies.com/how-to/content/how-to-spin-a-dc-motor-with-the-arduino.html\n",
    "\n",
    "<img src=\"./image_files/tip120_solo.png\" width = 200>\n",
    "\n",
    "The pin D3 of the Arduino is connected to the resistor. Just like when using an LED, this limits the current flowing into the transistor through the base.\n",
    "\n",
    "<table style=\"border-style: hidden; border-collapse: collapse;\" width = \"90%\"> \n",
    "    <tr style=\"border-style: hidden; border-collapse: collapse;\">\n",
    "        <td width = 40% style=\"border-style: hidden; border-collapse: collapse;\">\n",
    "<img src=\"./image_files/Actuators_DC_Transistor.png\" width = 300>\n",
    "        </td>\n",
    "        <td width = 40%>        \n",
    "<img src=\"./image_files/learn_schematic_transistor.jpg\" width = 400>\n",
    "        </td>\n",
    "    </tr>\n",
    "</table>"
   ]
  },
  {
   "cell_type": "code",
   "execution_count": 5,
   "metadata": {
    "collapsed": false
   },
   "outputs": [
    {
     "data": {
      "text/html": [
       "<iframe src=\"https://www.youtube.com/embed/4EpZKJsYl1o\" \n",
       "width=\"560\" height=\"315\" frameborder=\"0\" allowfullscreen></iframe>"
      ],
      "text/plain": [
       "<IPython.core.display.HTML object>"
      ]
     },
     "metadata": {},
     "output_type": "display_data"
    }
   ],
   "source": [
    "%%html\n",
    "<iframe src=\"https://www.youtube.com/embed/4EpZKJsYl1o\" \n",
    "width=\"560\" height=\"315\" frameborder=\"0\" allowfullscreen></iframe>"
   ]
  },
  {
   "cell_type": "markdown",
   "metadata": {},
   "source": [
    "```c\n",
    "int motorPin = 3;\n",
    "\n",
    "void setup() {\n",
    "  pinMode(motorPin, OUTPUT);\n",
    "}\n",
    "\n",
    "void loop() {\n",
    "  digitalWrite(motorPin, HIGH);\n",
    "  delay(1000);\n",
    "  digitalWrite(motorPin, LOW);\n",
    "  delay(1000);\n",
    "}\n",
    "```"
   ]
  },
  {
   "cell_type": "markdown",
   "metadata": {},
   "source": [
    "### 3.1.2. Speed\n",
    "\n",
    "- speed is proportional to the supplied voltage. \n",
    "- The most effective way to adjust the speed is by using pulse width modulation (PWM). \n",
    "- You pulse the motor on and off at varying rates, to simulate an analog voltage.\n",
    "\n",
    "<br>\n",
    "<img src=\"./image_files/water-control.png\" width = 300>"
   ]
  },
  {
   "cell_type": "code",
   "execution_count": 10,
   "metadata": {
    "collapsed": false,
    "scrolled": true
   },
   "outputs": [
    {
     "data": {
      "text/html": [
       "<iframe src=\"https://player.vimeo.com/video/93555504\" \n",
       "width=\"560\" height=\"315\" frameborder=\"0\" allowfullscreen></iframe>"
      ],
      "text/plain": [
       "<IPython.core.display.HTML object>"
      ]
     },
     "metadata": {},
     "output_type": "display_data"
    }
   ],
   "source": [
    "%%html\n",
    "<iframe src=\"https://player.vimeo.com/video/93555504\" \n",
    "width=\"560\" height=\"315\" frameborder=\"0\" allowfullscreen></iframe>"
   ]
  },
  {
   "cell_type": "markdown",
   "metadata": {},
   "source": [
    "<font size='4'><b>Lab 7: DC Motor Speed Control</b></font>"
   ]
  },
  {
   "cell_type": "markdown",
   "metadata": {},
   "source": [
    "<table style=\"border-style: hidden; border-collapse: collapse;\" width = \"90%\"> \n",
    "    <tr style=\"border-style: hidden; border-collapse: collapse;\">\n",
    "        <td width = 40% style=\"border-style: hidden; border-collapse: collapse;\">\n",
    "<img src=\"./image_files/Actuators_DC_Transistor.png\" width = 300>\n",
    "        </td>\n",
    "        <td width = 50%>\n",
    "<img src=\"./image_files/learn_schematic_transistor.jpg\" width = 400>\n",
    "        </td>\n",
    "    </tr>\n",
    "</table>\n",
    "\n",
    "```c\n",
    "const int transistorPin = 3;            // connected to the base of the transistor\n",
    "int speed = 100;\n",
    "\n",
    "void setup() {\n",
    "  pinMode(transistorPin, OUTPUT);       // set  the transistor pin as output:\n",
    "}\n",
    "\n",
    "void loop() {  \n",
    "  analogWrite(transistorPin, speed);    // use that to control the transistor:\n",
    "}\n",
    "```"
   ]
  },
  {
   "cell_type": "markdown",
   "metadata": {},
   "source": [
    "### 3.1.3.Direction\n",
    "\n",
    "- The rotational direction of a DC motor can be reversed by switching the polarity of the applied DC voltage\n",
    "\n",
    "- However, this is not practical in an electronic control system.\n",
    "\n",
    "- You can use switching arrangement known as an H-bridge, consisting of four switches with the motor in the center. \n",
    "- When switches 1 and 4 are closed and 2 and 3 are open, voltage flows from the supply to 1 to the motor to 4 to ground. \n",
    "- When 2 and 3 are closed and 1 and 4 are open, polarity is reversed, and voltage flows from the supply to 3 to the motor to 2 to ground.\n",
    "\n",
    "- An H-bridge can be built from transistors (L298), so that a microcontroller can switch the motor\n",
    "\n",
    "<table style=\"border-style: hidden; border-collapse: collapse;\" width = \"80%\"> \n",
    "    <tr style=\"border-style: hidden; border-collapse: collapse;\">\n",
    "        <td width = 40% style=\"border-style: hidden; border-collapse: collapse;\">\n",
    "<img src=\"./image_files/h-bridge.png\" width = 150>\n",
    "        </td>\n",
    "        <td width = 40%>\n",
    "<img src=\"./image_files/h-bridge_schem_schem.png\" width = 250>\n",
    "        </td>\n",
    "    </tr>\n",
    "</table>\n",
    "\n",
    "<br>\n",
    "<img src=\"./image_files/h_bridge_3parts.png\" width = 500>\n",
    "\n",
    "Below is a diagram of the H-bridge and which pins do what in our example. Included with the diagram is a truth table indicating how the motor will function according to the state of the logic pins (which are set by our Arduino).\n",
    "\n",
    "The L293NE/SN754410 is a very basic H-bridge. It has two bridges, one on the left side of the chip and one on the right, and can control 2 motors.\n",
    "\n",
    "<img src=\"./image_files/hbridge_labpinout.jpg\" width = 700>"
   ]
  },
  {
   "cell_type": "code",
   "execution_count": 6,
   "metadata": {
    "collapsed": false
   },
   "outputs": [
    {
     "data": {
      "text/html": [
       "<iframe src=\"https://player.vimeo.com/video/100357623?portrait=0\" \n",
       "width=\"560\" height=\"315\" frameborder=\"0\" allowfullscreen></iframe>"
      ],
      "text/plain": [
       "<IPython.core.display.HTML object>"
      ]
     },
     "metadata": {},
     "output_type": "display_data"
    }
   ],
   "source": [
    "%%html\n",
    "<iframe src=\"https://player.vimeo.com/video/100357623?portrait=0\" \n",
    "width=\"560\" height=\"315\" frameborder=\"0\" allowfullscreen></iframe>"
   ]
  },
  {
   "cell_type": "markdown",
   "metadata": {},
   "source": [
    "<font size='4'><b>Lab 8: DC Motor Direction Control Using an H-Bridge</b></font>\n",
    "\n",
    "- https://itp.nyu.edu/physcomp/labs/motors-and-transistors/dc-motor-control-using-an-h-bridge/\n",
    "\n",
    "- Most motors require a higher voltage and higher current draw than this, so you will need an __external power supply__. Other examples in this lecture use the Arduino's 5V output for simplicity although this is not recommended.\n",
    "\n",
    "<br>\n",
    "<table style=\"border-style: hidden; border-collapse: collapse;\" width = \"90%\"> \n",
    "    <tr style=\"border-style: hidden; border-collapse: collapse;\">\n",
    "        <td width = 40% style=\"border-style: hidden; border-collapse: collapse;\">\n",
    "<img src=\"./image_files/Actuators_DC_HBridge.png\" width = 450>\n",
    "        </td>\n",
    "        <td width = 40%>\n",
    "<img src=\"./image_files/LabDCMotorH-Bridge9V_schem.png\" width = 400>\n",
    "        </td>\n",
    "    </tr>\n",
    "</table>"
   ]
  },
  {
   "cell_type": "code",
   "execution_count": 12,
   "metadata": {
    "collapsed": false
   },
   "outputs": [
    {
     "data": {
      "text/html": [
       "<iframe src=\"https://www.youtube.com/embed/uzIj4oR1ws0\" \n",
       "width=\"560\" height=\"315\" frameborder=\"0\" allowfullscreen></iframe>"
      ],
      "text/plain": [
       "<IPython.core.display.HTML object>"
      ]
     },
     "metadata": {},
     "output_type": "display_data"
    }
   ],
   "source": [
    "%%html\n",
    "<iframe src=\"https://www.youtube.com/embed/uzIj4oR1ws0\" \n",
    "width=\"560\" height=\"315\" frameborder=\"0\" allowfullscreen></iframe>"
   ]
  },
  {
   "cell_type": "markdown",
   "metadata": {},
   "source": [
    "```c\n",
    "const int switchPin = 2;    // switch input\n",
    "const int motor1Pin = 3;    // H-bridge leg 1 (pin 2, 1A)\n",
    "const int motor2Pin = 4;    // H-bridge leg 2 (pin 7, 2A)\n",
    "const int enablePin = 9;    // H-bridge enable pin\n",
    "\n",
    "void setup() {\n",
    "  // set the switch as an input:\n",
    "  pinMode(switchPin, INPUT);\n",
    "\n",
    "  // set all the other pins you're using as outputs:\n",
    "  pinMode(motor1Pin, OUTPUT);\n",
    "  pinMode(motor2Pin, OUTPUT);\n",
    "  pinMode(enablePin, OUTPUT);  \n",
    "\n",
    "  // set enablePin high so that motor can turn on:\n",
    "  digitalWrite(enablePin, HIGH);\n",
    "}\n",
    "\n",
    "void loop() {\n",
    "  // if the switch is high, motor will turn on one direction:\n",
    "  if (digitalRead(switchPin) == HIGH) {\n",
    "    digitalWrite(motor1Pin, LOW);   // set leg 1 of the H-bridge low\n",
    "    digitalWrite(motor2Pin, HIGH);  // set leg 2 of the H-bridge high\n",
    "  }\n",
    "  // if the switch is low, motor will turn in the other direction:\n",
    "  else {\n",
    "    digitalWrite(motor1Pin, HIGH);  // set leg 1 of the H-bridge high\n",
    "    digitalWrite(motor2Pin, LOW);   // set leg 2 of the H-bridge low\n",
    "  }\n",
    "}\n",
    "```"
   ]
  },
  {
   "cell_type": "markdown",
   "metadata": {},
   "source": [
    "## 3.2. Servo Motor\n",
    "\n",
    "The position of the servo motor is set by the length of a pulse. The servo expects to receive a pulse roughly every 20 milliseconds (50 Hz). If that pulse is high for 1 millisecond, then the servo angle will be zero, if it is 1.5 milliseconds, then it will be at its centre position and if it is 2 milliseconds it will be at 180 degrees.\n",
    "\n",
    "<img src=\"./image_files/learn_arduino_servos.png\" width = 500>\n",
    "\n",
    "- A servo is different from regular motors in that it has a position sensor, which allows to postion it precisely to a certain angle.\n",
    "\n",
    "- The 'position sensor' is often a potentiometer mechanically connected to the actuator shaft.\n",
    "\n",
    "- The resistance value of the potentiometer is compared with the desired position by a motor controller. The controller moves the moter until the position is matched.\n"
   ]
  },
  {
   "cell_type": "code",
   "execution_count": 7,
   "metadata": {
    "collapsed": false
   },
   "outputs": [
    {
     "data": {
      "text/html": [
       "<iframe src=\"https://player.vimeo.com/video/93608912\" \n",
       "width=\"560\" height=\"315\" frameborder=\"0\" allowfullscreen></iframe>"
      ],
      "text/plain": [
       "<IPython.core.display.HTML object>"
      ]
     },
     "metadata": {},
     "output_type": "display_data"
    }
   ],
   "source": [
    "%%html\n",
    "<iframe src=\"https://player.vimeo.com/video/93608912\" \n",
    "width=\"560\" height=\"315\" frameborder=\"0\" allowfullscreen></iframe>"
   ]
  },
  {
   "cell_type": "code",
   "execution_count": 15,
   "metadata": {
    "collapsed": false
   },
   "outputs": [
    {
     "data": {
      "text/html": [
       "<iframe src=\"https://www.youtube.com/embed/qatqVNh9uj4\" \n",
       "width=\"560\" height=\"315\" frameborder=\"0\" allowfullscreen></iframe>"
      ],
      "text/plain": [
       "<IPython.core.display.HTML object>"
      ]
     },
     "metadata": {},
     "output_type": "display_data"
    }
   ],
   "source": [
    "%%html\n",
    "<iframe src=\"https://www.youtube.com/embed/qatqVNh9uj4\" \n",
    "width=\"560\" height=\"315\" frameborder=\"0\" allowfullscreen></iframe>"
   ]
  },
  {
   "cell_type": "markdown",
   "metadata": {},
   "source": [
    "<font size='4'><b>Lab 9: Controlling the Position of a Servo</b></font>\n",
    "\n",
    "You want to control the position of a servo using an angle. Use the Servo library distributed with Arduino.\n",
    "\n",
    "<br>\n",
    "<table style=\"border-style: hidden; border-collapse: collapse;\" width = \"96%\"> \n",
    "    <tr style=\"border-style: hidden; border-collapse: collapse;\">\n",
    "        <td width = 48% style=\"border-style: hidden; border-collapse: collapse;\">\n",
    "<img src = \"./image_files/servo_sweep.png\" width = 500>\n",
    "        </td>\n",
    "        <td width = 48%>\n",
    "<img src = \"./image_files/arduino_servo.png\" width = 400>\n",
    "        </td>\n",
    "    </tr>\n",
    "</table>"
   ]
  },
  {
   "cell_type": "code",
   "execution_count": 1,
   "metadata": {
    "collapsed": false
   },
   "outputs": [
    {
     "data": {
      "text/html": [
       "<iframe src=\"https://www.youtube.com/embed/r59k-1LGjH8\" \n",
       "width=\"560\" height=\"315\" frameborder=\"0\" allowfullscreen></iframe>"
      ],
      "text/plain": [
       "<IPython.core.display.HTML object>"
      ]
     },
     "metadata": {},
     "output_type": "display_data"
    }
   ],
   "source": [
    "%%html\n",
    "<iframe src=\"https://www.youtube.com/embed/r59k-1LGjH8\" \n",
    "width=\"560\" height=\"315\" frameborder=\"0\" allowfullscreen></iframe>"
   ]
  },
  {
   "cell_type": "markdown",
   "metadata": {},
   "source": [
    "```c\n",
    "#include <Servo.h>\n",
    "\n",
    "Servo myservo;        // create servo object to control a servo\n",
    "int angle = 0;        // variable to store the servo position\n",
    "\n",
    "void setup()\n",
    "{\n",
    "  myservo.attach(9);  // attaches the servo on pin 10 to the servo object\n",
    "}\n",
    "\n",
    "void loop()\n",
    "{\n",
    "  for (angle = 0; angle < 180; angle += 1) // goes from 0 degrees to 180 degrees\n",
    "  { // in steps of 1 degree\n",
    "    myservo.write(angle); // tell servo to go to position in variable 'angle'\n",
    "    delay(20);            // waits 20ms between servo commands\n",
    "  }\n",
    "  for (angle = 180; angle >= 1; angle -= 1) // goes from 180 degrees to 0 degrees\n",
    "  {\n",
    "    myservo.write(angle);   // tell servo to go to position in variable 'angle'\n",
    "    delay(20);            // waits 20ms between servo commands\n",
    "  }\n",
    "}\n",
    "\n",
    "```"
   ]
  },
  {
   "cell_type": "markdown",
   "metadata": {},
   "source": [
    "<font size='4'><b>Lab 10: Controlling a Servo with a Potentiometer or Sensor</b></font>\n",
    "\n",
    "You want to control one or two servos with a potentiometer.\n",
    "\n",
    "<br>\n",
    "<table style=\"border-style: hidden; border-collapse: collapse;\" width = \"96%\"> \n",
    "    <tr style=\"border-style: hidden; border-collapse: collapse;\">\n",
    "        <td width = 48% style=\"border-style: hidden; border-collapse: collapse;\">\n",
    "<img src = \"./image_files/servo_pot.png\" width = 400>\n",
    "        </td>\n",
    "        <td width = 48%>\n",
    "<img src = \"./image_files/potentiometer.png\" width = 500>\n",
    "        </td>\n",
    "    </tr>\n",
    "</table>\n"
   ]
  },
  {
   "cell_type": "code",
   "execution_count": 17,
   "metadata": {
    "collapsed": false
   },
   "outputs": [
    {
     "data": {
      "text/html": [
       "<iframe src=\"https://www.youtube.com/embed/wybU2--v7ME\" \n",
       "width=\"560\" height=\"315\" frameborder=\"0\" allowfullscreen></iframe>"
      ],
      "text/plain": [
       "<IPython.core.display.HTML object>"
      ]
     },
     "metadata": {},
     "output_type": "display_data"
    }
   ],
   "source": [
    "%%html\n",
    "<iframe src=\"https://www.youtube.com/embed/wybU2--v7ME\" \n",
    "width=\"560\" height=\"315\" frameborder=\"0\" allowfullscreen></iframe>"
   ]
  },
  {
   "cell_type": "markdown",
   "metadata": {},
   "source": [
    "```c\n",
    "#include <Servo.h>\n",
    "\n",
    "Servo myservo;    // create servo object to control a servo\n",
    "int potpin = 0;   // analog pin used to connect the potentiometer\n",
    "int val;          // variable to read the value from the analog pin\n",
    "\n",
    "void setup() {\n",
    "  myservo.attach(9);  // attaches the servo on pin 9 to the servo object\n",
    "}\n",
    "\n",
    "void loop() {\n",
    "  val = analogRead(potpin);         // reads the value of the potentiometer\n",
    "  val = map(val, 0, 1023, 0, 179);  // scale it to use it with the servo\n",
    "  myservo.write(val);               // sets position to the scaled value\n",
    "  delay(15);                        // waits for the servo to get there\n",
    "}\n",
    "```"
   ]
  },
  {
   "cell_type": "markdown",
   "metadata": {},
   "source": [
    "<font size='4'><b>Demo: Robotic Hand with Flexible Sensor</b></font>"
   ]
  },
  {
   "cell_type": "code",
   "execution_count": 18,
   "metadata": {
    "collapsed": false
   },
   "outputs": [
    {
     "data": {
      "text/html": [
       "<iframe src=\"https://www.youtube.com/embed/qMtHEOxHDGo\" \n",
       "width=\"560\" height=\"315\" frameborder=\"0\" allowfullscreen></iframe>"
      ],
      "text/plain": [
       "<IPython.core.display.HTML object>"
      ]
     },
     "metadata": {},
     "output_type": "display_data"
    }
   ],
   "source": [
    "%%html\n",
    "<iframe src=\"https://www.youtube.com/embed/qMtHEOxHDGo\" \n",
    "width=\"560\" height=\"315\" frameborder=\"0\" allowfullscreen></iframe>"
   ]
  },
  {
   "cell_type": "markdown",
   "metadata": {},
   "source": [
    "__Online Tutorial: Servo motor and transisitors by Jeremy Blum__"
   ]
  },
  {
   "cell_type": "code",
   "execution_count": 19,
   "metadata": {
    "collapsed": false,
    "scrolled": true
   },
   "outputs": [
    {
     "data": {
      "text/html": [
       "<iframe src=\"https://www.youtube.com/embed/5bHPKU4ybHY\" \n",
       "width=\"560\" height=\"315\" frameborder=\"0\" allowfullscreen></iframe>"
      ],
      "text/plain": [
       "<IPython.core.display.HTML object>"
      ]
     },
     "metadata": {},
     "output_type": "display_data"
    }
   ],
   "source": [
    "%%html\n",
    "<iframe src=\"https://www.youtube.com/embed/5bHPKU4ybHY\" \n",
    "width=\"560\" height=\"315\" frameborder=\"0\" allowfullscreen></iframe>"
   ]
  },
  {
   "cell_type": "markdown",
   "metadata": {},
   "source": [
    "## 3.3 Stepper Motor (Optional)"
   ]
  },
  {
   "cell_type": "code",
   "execution_count": 20,
   "metadata": {
    "collapsed": false
   },
   "outputs": [
    {
     "data": {
      "text/html": [
       "<iframe src=\"https://www.youtube.com/embed/PEwpAoLKzVc\"\n",
       "width=\"560\" height=\"315\" frameborder=\"0\" allowfullscreen></iframe>"
      ],
      "text/plain": [
       "<IPython.core.display.HTML object>"
      ]
     },
     "metadata": {},
     "output_type": "display_data"
    }
   ],
   "source": [
    "%%html\n",
    "<iframe src=\"https://www.youtube.com/embed/PEwpAoLKzVc\"\n",
    "width=\"560\" height=\"315\" frameborder=\"0\" allowfullscreen></iframe>"
   ]
  },
  {
   "cell_type": "code",
   "execution_count": 21,
   "metadata": {
    "collapsed": false
   },
   "outputs": [
    {
     "data": {
      "text/html": [
       "<iframe src=\"https://www.youtube.com/embed/bkqoKWP4Oy4\"\n",
       "width=\"560\" height=\"315\" frameborder=\"0\" allowfullscreen></iframe>"
      ],
      "text/plain": [
       "<IPython.core.display.HTML object>"
      ]
     },
     "metadata": {},
     "output_type": "display_data"
    }
   ],
   "source": [
    "%%html\n",
    "<iframe src=\"https://www.youtube.com/embed/bkqoKWP4Oy4\"\n",
    "width=\"560\" height=\"315\" frameborder=\"0\" allowfullscreen></iframe>"
   ]
  },
  {
   "cell_type": "markdown",
   "metadata": {},
   "source": [
    "## 3.4. Summary"
   ]
  },
  {
   "cell_type": "code",
   "execution_count": 22,
   "metadata": {
    "collapsed": false
   },
   "outputs": [
    {
     "data": {
      "text/html": [
       "<iframe src=\"https://www.youtube.com/embed/3A-pcONMSWI\" \n",
       "width=\"560\" height=\"315\" frameborder=\"0\" allowfullscreen></iframe>"
      ],
      "text/plain": [
       "<IPython.core.display.HTML object>"
      ]
     },
     "metadata": {},
     "output_type": "display_data"
    }
   ],
   "source": [
    "%%html\n",
    "<iframe src=\"https://www.youtube.com/embed/3A-pcONMSWI\" \n",
    "width=\"560\" height=\"315\" frameborder=\"0\" allowfullscreen></iframe>"
   ]
  },
  {
   "cell_type": "code",
   "execution_count": 23,
   "metadata": {
    "collapsed": false
   },
   "outputs": [
    {
     "data": {
      "application/javascript": [
       "$.getScript('https://kmahelona.github.io/ipython_notebook_goodies/ipython_notebook_toc.js')"
      ],
      "text/plain": [
       "<IPython.core.display.Javascript object>"
      ]
     },
     "metadata": {},
     "output_type": "display_data"
    }
   ],
   "source": [
    "%%javascript\n",
    "$.getScript('https://kmahelona.github.io/ipython_notebook_goodies/ipython_notebook_toc.js')"
   ]
  }
 ],
 "metadata": {
  "anaconda-cloud": {},
  "kernelspec": {
   "display_name": "Python 3",
   "language": "python",
   "name": "python3"
  },
  "language_info": {
   "codemirror_mode": {
    "name": "ipython",
    "version": 3
   },
   "file_extension": ".py",
   "mimetype": "text/x-python",
   "name": "python",
   "nbconvert_exporter": "python",
   "pygments_lexer": "ipython3",
   "version": "3.5.2"
  }
 },
 "nbformat": 4,
 "nbformat_minor": 0
}

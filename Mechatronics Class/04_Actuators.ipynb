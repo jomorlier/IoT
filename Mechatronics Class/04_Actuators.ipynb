{
 "cells": [
  {
   "cell_type": "markdown",
   "metadata": {
    "collapsed": true
   },
   "source": [
    "<br>\n",
    "<font size='6'><b>Actuators</b></font><br><br>\n",
    "\n",
    "<table style=\"border-style: hidden; border-collapse: collapse;\" width = \"80%\"> \n",
    "    <tr style=\"border-style: hidden; border-collapse: collapse;\">\n",
    "        <td width = 60% style=\"border-style: hidden; border-collapse: collapse;\">\n",
    "\n",
    "        </td>\n",
    "        <td width = 20%>\n",
    "        by Seungchul Lee<br>iSystems Design Lab<br>http://isystems.unist.ac.kr/<br>UNIST\n",
    "        </td>\n",
    "    </tr>\n",
    "</table>\n",
    "\n",
    "Table of Contents\n",
    "<div id=\"toc\"></div>"
   ]
  },
  {
   "cell_type": "markdown",
   "metadata": {},
   "source": [
    "# 1. Actuators\n",
    "\n",
    "\n",
    "- Devices that cause something to happen in the physical world\n",
    "\n",
    "\n",
    "- Outputs of the IoT device\n",
    "    - Visual: LED, LCD, monitor\n",
    "    - Audio: buzzer, speaker\n",
    "    - Motion: motors, valve, pump    \n",
    "\n",
    "\n",
    "- Visual Output\n",
    " - many LEDs\n",
    " - RGB (Red Green Blue) LED<br>\n",
    "    https://learn.adafruit.com/adafruit-arduino-lesson-3-rgb-leds?view=all\n",
    " - 7 Segments\n",
    " - two digit 7 segments (dual 7 segments)\n",
    " - LCD   \n",
    "    https://learn.adafruit.com/adafruit-arduino-lesson-11-lcd-displays-1?view=all\n",
    "\n",
    "\n",
    "\n",
    "- Physical Output\n",
    "\n",
    "    - DC motor\n",
    "\n",
    "    - Servo motor\n",
    "\n",
    "    - Stepper motor"
   ]
  },
  {
   "cell_type": "markdown",
   "metadata": {},
   "source": [
    "# 2. Visual Outputs\n",
    "\n",
    "## 2.1. Segments\n",
    "\n",
    "- A 7 Segment LED Display is a electronic device that contains an array of 8 individual LEDs.\n",
    "\n",
    "<table style=\"border-style: hidden; border-collapse: collapse;\" width = \"90%\"> \n",
    "    <tr style=\"border-style: hidden; border-collapse: collapse;\">\n",
    "        <td width = 20% style=\"border-style: hidden; border-collapse: collapse;\">\n",
    "<img src = \"./image_files/7segmentled.jpg\" style=\"border:1px solid black\", width =120>\n",
    "        </td>\n",
    "        <td width = 25% style=\"border-style: hidden; border-collapse: collapse;\">\n",
    "<img src = \"./image_files/7seg_schem.jpg\" style=\"border:1px solid black\", width =180>\n",
    "        </td>\n",
    "        <td width = 25% style=\"border-style: hidden; border-collapse: collapse;\">\n",
    "<img src = \"./image_files/7seg_diode.jpg\" style=\"border:1px solid black\", width =180>\n",
    "        </td>\n",
    "        <td width = 25% style=\"border-style: hidden; border-collapse: collapse;\">\n",
    "<img src = \"./image_files/Note4_7_segment_display_pin_outs.png\" style=\"border:1px solid black\", width =180>\n",
    "        </td>\n",
    "    </tr>\n",
    "</table>"
   ]
  },
  {
   "cell_type": "code",
   "execution_count": 1,
   "metadata": {
    "collapsed": false
   },
   "outputs": [
    {
     "data": {
      "text/html": [
       "<iframe src=\"https://www.youtube.com/embed/Irgz_qy27qc\" \n",
       "width=\"560\" height=\"315\" frameborder=\"0\" allowfullscreen></iframe>"
      ],
      "text/plain": [
       "<IPython.core.display.HTML object>"
      ]
     },
     "metadata": {},
     "output_type": "display_data"
    }
   ],
   "source": [
    "%%html\n",
    "<iframe src=\"https://www.youtube.com/embed/Irgz_qy27qc\" \n",
    "width=\"560\" height=\"315\" frameborder=\"0\" allowfullscreen></iframe>"
   ]
  },
  {
   "cell_type": "markdown",
   "metadata": {},
   "source": [
    "<font size='4'><b>Lab: 1 Digit 7 Segment LED Counter from 0 to 9</b></font>\n",
    "\n",
    "- With 390 ohm resistor\n",
    "\n",
    "<img src = \"./image_files/arduino_7seg.png\" style=\"border:1px solid black\", width = 500>"
   ]
  },
  {
   "cell_type": "code",
   "execution_count": 2,
   "metadata": {
    "collapsed": false
   },
   "outputs": [
    {
     "data": {
      "text/html": [
       "<iframe src=\"https://www.youtube.com/embed/f_W370eWKxE\" \n",
       "width=\"560\" height=\"315\" frameborder=\"0\" allowfullscreen></iframe>"
      ],
      "text/plain": [
       "<IPython.core.display.HTML object>"
      ]
     },
     "metadata": {},
     "output_type": "display_data"
    }
   ],
   "source": [
    "%%html\n",
    "<iframe src=\"https://www.youtube.com/embed/f_W370eWKxE\" \n",
    "width=\"560\" height=\"315\" frameborder=\"0\" allowfullscreen></iframe>"
   ]
  },
  {
   "cell_type": "markdown",
   "metadata": {},
   "source": [
    "__Naive code__\n",
    "```c\n",
    "\n",
    "const int a = 2;\n",
    "const int b = 3;\n",
    "const int c = 4;\n",
    "const int d = 5;\n",
    "const int e = 6;\n",
    "const int f = 7;\n",
    "const int g = 8;\n",
    "\n",
    "void setup()\n",
    "{\n",
    "  pinMode(a, OUTPUT);\n",
    "  pinMode(b, OUTPUT);\n",
    "  pinMode(c, OUTPUT);\n",
    "  pinMode(d, OUTPUT);\n",
    "  pinMode(e, OUTPUT);\n",
    "  pinMode(f, OUTPUT);\n",
    "  pinMode(g, OUTPUT);\n",
    "}\n",
    "void loop()\n",
    "{\n",
    "  //Display 0\n",
    "  digitalWrite(a, LOW);\n",
    "  digitalWrite(b, LOW);\n",
    "  digitalWrite(c, LOW);\n",
    "  digitalWrite(d, LOW);\n",
    "  digitalWrite(e, LOW);\n",
    "  digitalWrite(f, LOW);\n",
    "  digitalWrite(g, HIGH);\n",
    "  delay(1000);\n",
    "\n",
    "  //Display 1\n",
    "  digitalWrite(a, HIGH);\n",
    "  digitalWrite(b, LOW);\n",
    "  digitalWrite(c, LOW);\n",
    "  digitalWrite(d, HIGH);\n",
    "  digitalWrite(e, HIGH);\n",
    "  digitalWrite(f, HIGH);\n",
    "  digitalWrite(g, HIGH);\n",
    "  delay(1000);\n",
    "\n",
    "  //Display 2\n",
    "  digitalWrite(a, LOW);\n",
    "  digitalWrite(b, LOW);\n",
    "  digitalWrite(c, HIGH);\n",
    "  digitalWrite(d, LOW);\n",
    "  digitalWrite(e, LOW);\n",
    "  digitalWrite(f, HIGH);\n",
    "  digitalWrite(g, LOW);\n",
    "  delay(1000);\n",
    "\n",
    "  //Display 3\n",
    "  digitalWrite(a, LOW);\n",
    "  digitalWrite(b, LOW);\n",
    "  digitalWrite(c, LOW);\n",
    "  digitalWrite(d, LOW);\n",
    "  digitalWrite(e, HIGH);\n",
    "  digitalWrite(f, HIGH);\n",
    "  digitalWrite(g, LOW);\n",
    "  delay(1000);\n",
    "\n",
    "  //Display 4\n",
    "  digitalWrite(a, HIGH);\n",
    "  digitalWrite(b, LOW);\n",
    "  digitalWrite(c, LOW);\n",
    "  digitalWrite(d, HIGH);\n",
    "  digitalWrite(e, HIGH);\n",
    "  digitalWrite(f, LOW);\n",
    "  digitalWrite(g, LOW);\n",
    "  delay(1000);\n",
    "\n",
    "  //Display 5\n",
    "  digitalWrite(a, LOW);\n",
    "  digitalWrite(b, HIGH);\n",
    "  digitalWrite(c, LOW);\n",
    "  digitalWrite(d, LOW);\n",
    "  digitalWrite(e, HIGH);\n",
    "  digitalWrite(f, LOW);\n",
    "  digitalWrite(g, LOW);\n",
    "  delay(1000);\n",
    "\n",
    "  //Display 6\n",
    "  digitalWrite(a, LOW);\n",
    "  digitalWrite(b, HIGH);\n",
    "  digitalWrite(c, LOW);\n",
    "  digitalWrite(d, LOW);\n",
    "  digitalWrite(e, LOW);\n",
    "  digitalWrite(f, LOW);\n",
    "  digitalWrite(g, LOW);\n",
    "  delay(1000);\n",
    "\n",
    "  //Display 7\n",
    "  digitalWrite(a, LOW);\n",
    "  digitalWrite(b, LOW);\n",
    "  digitalWrite(c, LOW);\n",
    "  digitalWrite(d, HIGH);\n",
    "  digitalWrite(e, HIGH);\n",
    "  digitalWrite(f, HIGH);\n",
    "  digitalWrite(g, HIGH);\n",
    "  delay(1000);\n",
    "\n",
    "  //Display 8\n",
    "  digitalWrite(a, LOW);\n",
    "  digitalWrite(b, LOW);\n",
    "  digitalWrite(c, LOW);\n",
    "  digitalWrite(d, LOW);\n",
    "  digitalWrite(e, LOW);\n",
    "  digitalWrite(f, LOW);\n",
    "  digitalWrite(g, LOW);\n",
    "  delay(1000);\n",
    "\n",
    "  //Display 9\n",
    "  digitalWrite(a, LOW);\n",
    "  digitalWrite(b, LOW);\n",
    "  digitalWrite(c, LOW);\n",
    "  digitalWrite(d, LOW);\n",
    "  digitalWrite(e, HIGH);\n",
    "  digitalWrite(f, LOW);\n",
    "  digitalWrite(g, LOW);\n",
    "  delay(1000);\n",
    "}\n",
    "```"
   ]
  },
  {
   "cell_type": "markdown",
   "metadata": {},
   "source": [
    "__Using 2D array__\n",
    "\n",
    "<img src = \"./image_files/7seg_4.png\" width =200>\n",
    "\n",
    "```c\n",
    "byte digits[10][7] = {\n",
    "  {0, 0, 0, 0, 0, 0, 1}, // 0\n",
    "  {1, 0, 0, 1, 1, 1, 1}, // 1\n",
    "  {0, 0, 1, 0, 0, 1, 0}, // 2\n",
    "  {0, 0, 0, 0, 1, 1, 0}, // 3\n",
    "  {1, 0, 0, 1, 1, 0, 0}, // 4\n",
    "  {0, 1, 0, 0, 1, 0, 0}, // 5\n",
    "  {0, 1, 0, 0, 0, 0, 0}, // 6\n",
    "  {0, 0, 0, 1, 1, 1, 1}, // 7\n",
    "  {0, 0, 0, 0, 0, 0, 0}, // 8\n",
    "  {0, 0, 0, 1, 1, 0, 0}  // 9\n",
    "};\n",
    "\n",
    "void setup() {\n",
    "  for (int i = 2; i < 10; i++) {\n",
    "    pinMode(i, OUTPUT);\n",
    "  }\n",
    "  digitalWrite(9, HIGH);\n",
    "}\n",
    "\n",
    "void loop() {\n",
    "  for (int i = 0; i < 10; i++) {\n",
    "    delay(1000);\n",
    "    displayDigit(i);\n",
    "  }\n",
    "}\n",
    "\n",
    "void displayDigit(int num) {\n",
    "  int pin = 2;\n",
    "  for (int i = 0; i < 7; i++) {\n",
    "    digitalWrite(pin + i, digits[num][i]);\n",
    "  }\n",
    "}\n",
    "```"
   ]
  },
  {
   "cell_type": "markdown",
   "metadata": {},
   "source": [
    "<font size='4'><b>Lab 2: 7 Segment LED Counter with Buttons</b></font>\n",
    "\n",
    "- Controlling the display with 2 push buttons to count up and down\n",
    "- 390 ohm and 2 $\\times$10k ohm \n",
    "\n",
    "<img src = \"./image_files/7seg_btn.png\" style=\"border:1px solid black\" width = 700>"
   ]
  },
  {
   "cell_type": "code",
   "execution_count": 3,
   "metadata": {
    "collapsed": false
   },
   "outputs": [
    {
     "data": {
      "text/html": [
       "<iframe src=\"https://www.youtube.com/embed/0VLL_Gqmwuw\" \n",
       "width=\"560\" height=\"315\" frameborder=\"0\" allowfullscreen></iframe>"
      ],
      "text/plain": [
       "<IPython.core.display.HTML object>"
      ]
     },
     "metadata": {},
     "output_type": "display_data"
    }
   ],
   "source": [
    "%%html\n",
    "<iframe src=\"https://www.youtube.com/embed/0VLL_Gqmwuw\" \n",
    "width=\"560\" height=\"315\" frameborder=\"0\" allowfullscreen></iframe>"
   ]
  },
  {
   "cell_type": "markdown",
   "metadata": {},
   "source": [
    "```c\n",
    "#define PLUS 11\n",
    "#define MINUS 12\n",
    "\n",
    "int digit = 0;\n",
    "\n",
    "byte digits[10][7] = {\n",
    "  {0, 0, 0, 0, 0, 0, 1}, // 0\n",
    "  {1, 0, 0, 1, 1, 1, 1}, // 1\n",
    "  {0, 0, 1, 0, 0, 1, 0}, // 2\n",
    "  {0, 0, 0, 0, 1, 1, 0}, // 3\n",
    "  {1, 0, 0, 1, 1, 0, 0}, // 4\n",
    "  {0, 1, 0, 0, 1, 0, 0}, // 5\n",
    "  {0, 1, 0, 0, 0, 0, 0}, // 6\n",
    "  {0, 0, 0, 1, 1, 1, 1}, // 7\n",
    "  {0, 0, 0, 0, 0, 0, 0}, // 8\n",
    "  {0, 0, 0, 1, 1, 0, 0} // 9\n",
    "};\n",
    "\n",
    "void setup() {\n",
    "  pinMode(PLUS, INPUT);\n",
    "  pinMode(MINUS, INPUT);\n",
    "\n",
    "  for (int i = 2; i < 10; i++) {\n",
    "    pinMode(i, OUTPUT);\n",
    "  }\n",
    "  digitalWrite(9, HIGH);\n",
    "}\n",
    "\n",
    "void loop() {\n",
    "  if (digitalRead(PLUS) == HIGH) {\n",
    "    ++digit;\n",
    "    if (digit > 9) {\n",
    "      digit = 0;\n",
    "    }\n",
    "  }\n",
    "\n",
    "  if (digitalRead(MINUS) == HIGH) {\n",
    "    --digit;\n",
    "    if (digit < 0) {\n",
    "      digit = 9;\n",
    "    }\n",
    "  }\n",
    "  displayDigit(digit);\n",
    "  delay(100);\n",
    "}\n",
    "\n",
    "void displayDigit(int num) {\n",
    "  int pin = 2;\n",
    "  for (int i = 0; i < 7; i++) {\n",
    "    digitalWrite(pin + i, digits[num][i]);\n",
    "  }\n",
    "}\n",
    "```"
   ]
  },
  {
   "cell_type": "markdown",
   "metadata": {},
   "source": [
    "## 2.2. LCD Display\n",
    "\n",
    "- Liquid crystal displays (LCDs) are commonly used to display data in devices such as calculators, microwave ovens, and many other electronic devices.\n",
    "\n",
    "\n",
    "<table style=\"border-style: hidden; border-collapse: collapse;\" width = \"90%\"> \n",
    "    <tr style=\"border-style: hidden; border-collapse: collapse;\">\n",
    "        <td width = 30% style=\"border-style: hidden; border-collapse: collapse;\">\n",
    "<img src = \"./image_files/lcd1.jpg\" width =250>\n",
    "        </td>\n",
    "        <td width = 60%>\n",
    "<img src = \"./image_files/lcd_pin.png\" width =450>\n",
    "        </td>\n",
    "    </tr>\n",
    "</table>\n",
    "\n",
    "- The `LiquidCrystal library` allows you to control LCD displays.\n",
    "\n",
    "\n",
    "- Syntax\n",
    "    - LiquidCrystal(rs, enable, d4, d5, d6, d7)\n",
    "    - LiquidCrystal(rs, rw, enable, d4, d5, d6, d7)\n",
    "    - LiquidCrystal(rs, enable, d0, d1, d2, d3, d4, d5, d6, d7)\n",
    "    - LiquidCrystal(rs, rw, enable, d0, d1, d2, d3, d4, d5, d6, d7)\n",
    "\n",
    "\n",
    "- Parameters\n",
    "    - rs: the number of the Arduino pin that is connected to the RS pin on the LCD\n",
    "\n",
    "    - rw: the number of the Arduino pin that is connected to the RW pin on the LCD (optional)\n",
    "\n",
    "    - enable: the number of the Arduino pin that is connected to the enable pin on the LCD\n",
    "\n",
    "    - d0, d1, d2, d3, d4, d5, d6, d7: the numbers of the Arduino pins that are connected to the corresponding data pins on the LCD. d0, d1, d2, and d3 are optional; if omitted, the LCD will be controlled using only the four data lines (d4, d5, d6, d7). \n",
    "\n",
    "\n",
    "- Note that a 1 k ohm potentiometer may be used instead of a 10k ohm (The change rate of the contrast will be faster)\n",
    "\n",
    "<table style=\"border-style: hidden; border-collapse: collapse;\" width = \"90%\"> \n",
    "    <tr style=\"border-style: hidden; border-collapse: collapse;\">\n",
    "        <td width = 45% style=\"border-style: hidden; border-collapse: collapse;\">\n",
    "<img src = \"./image_files/LCD_Base_bb_Fritz.png\" width =400>\n",
    "        </td>\n",
    "        <td width = 45%>\n",
    "<img src = \"./image_files/LCD_Base_bb_Schem.png\" width =300>\n",
    "        </td>\n",
    "    </tr>\n",
    "</table>"
   ]
  },
  {
   "cell_type": "code",
   "execution_count": 4,
   "metadata": {
    "collapsed": false
   },
   "outputs": [
    {
     "data": {
      "text/html": [
       "<iframe src=\"https://www.youtube.com/embed/85LvW1QDLLw\"\n",
       "width=\"560\" height=\"315\" frameborder=\"0\" allowfullscreen></iframe>"
      ],
      "text/plain": [
       "<IPython.core.display.HTML object>"
      ]
     },
     "metadata": {},
     "output_type": "display_data"
    }
   ],
   "source": [
    "%%html\n",
    "<iframe src=\"https://www.youtube.com/embed/85LvW1QDLLw\"\n",
    "width=\"560\" height=\"315\" frameborder=\"0\" allowfullscreen></iframe>"
   ]
  },
  {
   "cell_type": "markdown",
   "metadata": {},
   "source": [
    "<font size='4'><b>Lab 3: Simple and Static LCD Display</b></font>\n",
    "\n",
    "<img src = \"./image_files/lcd_display.png\" style=\"border:1px solid black\" width =300>"
   ]
  },
  {
   "cell_type": "code",
   "execution_count": 5,
   "metadata": {
    "collapsed": false
   },
   "outputs": [
    {
     "data": {
      "text/html": [
       "<iframe src=\"https://www.youtube.com/embed/OqLmj_BVOVw\" \n",
       "width=\"560\" height=\"315\" frameborder=\"0\" allowfullscreen></iframe>"
      ],
      "text/plain": [
       "<IPython.core.display.HTML object>"
      ]
     },
     "metadata": {},
     "output_type": "display_data"
    }
   ],
   "source": [
    "%%html\n",
    "<iframe src=\"https://www.youtube.com/embed/OqLmj_BVOVw\" \n",
    "width=\"560\" height=\"315\" frameborder=\"0\" allowfullscreen></iframe>"
   ]
  },
  {
   "cell_type": "markdown",
   "metadata": {},
   "source": [
    "```c\n",
    "#include <LiquidCrystal.h>\n",
    "\n",
    "\n",
    "// initialize the library by providing the nuber of pins to it\n",
    "LiquidCrystal lcd(12, 11, 5, 4, 3, 2);\n",
    "\n",
    "void setup() {\n",
    "  lcd.begin(16, 2);\n",
    "\n",
    "  // set cursor position to start of first line on the LCD\n",
    "  lcd.setCursor(0, 0);\n",
    "  //text to print\n",
    "  lcd.print(\"   16x2 LCD\");\n",
    "  // set cusor position to start of next line\n",
    "  lcd.setCursor(0, 1);\n",
    "  lcd.print(\"   DISPLAY\");\n",
    "}\n",
    "void loop() {\n",
    "\n",
    "}\n",
    "```"
   ]
  },
  {
   "cell_type": "markdown",
   "metadata": {},
   "source": [
    "<font size='4'><b>Lab 4: LCD Counter</b></font>\n",
    "\n",
    "<img src = \"./image_files/lcd_timer_1.png\" style=\"border:1px solid black\" width =300>"
   ]
  },
  {
   "cell_type": "code",
   "execution_count": 6,
   "metadata": {
    "collapsed": false
   },
   "outputs": [
    {
     "data": {
      "text/html": [
       "<iframe src=\"https://www.youtube.com/embed/24v2BrXJApw\" \n",
       "width=\"560\" height=\"315\" frameborder=\"0\" allowfullscreen></iframe>"
      ],
      "text/plain": [
       "<IPython.core.display.HTML object>"
      ]
     },
     "metadata": {},
     "output_type": "display_data"
    }
   ],
   "source": [
    "%%html\n",
    "<iframe src=\"https://www.youtube.com/embed/24v2BrXJApw\" \n",
    "width=\"560\" height=\"315\" frameborder=\"0\" allowfullscreen></iframe>"
   ]
  },
  {
   "cell_type": "markdown",
   "metadata": {},
   "source": [
    "```c\n",
    "#include <LiquidCrystal.h>\n",
    "\n",
    "// initialize the library by providing the nuber of pins to it\n",
    "LiquidCrystal lcd(12, 11, 5, 4, 3, 2);\n",
    "\n",
    "void setup() {\n",
    "  lcd.begin(16, 2);\n",
    "\n",
    "  // set cursor position to start of first line on the LCD\n",
    "  lcd.setCursor(0, 0);\n",
    "  //text to print\n",
    "  lcd.print(\"    COUNTER\");\n",
    "  delay(100);\n",
    "\n",
    "  int cnt = 0;\n",
    "  lcd.setCursor(0, 1);\n",
    "  lcd.print(\"       \");\n",
    "  lcd.print(cnt);\n",
    "  while (cnt <= 100) {\n",
    "    cnt = cnt + 1;\n",
    "    delay(1000);\n",
    "    lcd.setCursor(0, 1);\n",
    "    lcd.print(\"       \");\n",
    "    lcd.print(cnt);\n",
    "  }\n",
    "}\n",
    "\n",
    "void loop() {\n",
    "  lcd.clear();\n",
    "}\n",
    "```"
   ]
  },
  {
   "cell_type": "markdown",
   "metadata": {},
   "source": [
    "# 3. Physical Outputs"
   ]
  },
  {
   "cell_type": "code",
   "execution_count": 24,
   "metadata": {
    "collapsed": false
   },
   "outputs": [
    {
     "data": {
      "text/html": [
       "<iframe src=\"https://player.vimeo.com/video/84274150\" \n",
       "width=\"560\" height=\"315\" frameborder=\"0\" allowfullscreen></iframe>"
      ],
      "text/plain": [
       "<IPython.core.display.HTML object>"
      ]
     },
     "metadata": {},
     "output_type": "display_data"
    }
   ],
   "source": [
    "%%html\n",
    "<iframe src=\"https://player.vimeo.com/video/84274150\" \n",
    "width=\"560\" height=\"315\" frameborder=\"0\" allowfullscreen></iframe>"
   ]
  },
  {
   "cell_type": "code",
   "execution_count": 8,
   "metadata": {
    "collapsed": false
   },
   "outputs": [
    {
     "data": {
      "text/html": [
       "<iframe src=\"https://www.youtube.com/embed/j6D9-GKhAyc\" \n",
       "width=\"560\" height=\"315\" frameborder=\"0\" allowfullscreen></iframe>"
      ],
      "text/plain": [
       "<IPython.core.display.HTML object>"
      ]
     },
     "metadata": {},
     "output_type": "display_data"
    }
   ],
   "source": [
    "%%html\n",
    "<iframe src=\"https://www.youtube.com/embed/j6D9-GKhAyc\" \n",
    "width=\"560\" height=\"315\" frameborder=\"0\" allowfullscreen></iframe>"
   ]
  },
  {
   "cell_type": "markdown",
   "metadata": {},
   "source": [
    "## 3.1. DC Motor\n",
    "\n",
    "Two terminals\n",
    "- when you apply direct current to one terminal and ground the other, the motor spins in one direction. \n",
    "\n",
    "- When you apply current to the other terminal and ground the first terminal, the motor spins in the opposite direction. \n",
    "\n",
    "Control DC motor\n",
    "- By switching the polarity of the terminals, you can reverse the <font color='red'>direction</font> of the motor. \n",
    "\n",
    "- By varying the current supplied to the motor (analog $\\rightarrow$ PWM), you vary the <font color='red'>speed</font> of the motor.\n",
    "\n",
    "Direction\n",
    "\n",
    "- The rotational direction of a DC motor can be reversed by switching the polarity of the applied DC voltage\n",
    "\n",
    "- However, this is not practical in an electronic control system.\n",
    "\n",
    "- You can use switching arrangement known as an H-bridge, consisting of four switches with the motor in the center. \n",
    "- When switches 1 and 4 are closed and 2 and 3 are open, voltage flows from the supply to 1 to the motor to 4 to ground. \n",
    "- When 2 and 3 are closed and 1 and 4 are open, polarity is reversed, and voltage flows from the supply to 3 to the motor to 2 to ground.\n",
    "\n",
    "- An H-bridge can be built from transistors (L298), so that a microcontroller can switch the motor\n",
    "\n",
    "<table style=\"border-style: hidden; border-collapse: collapse;\" width = \"80%\"> \n",
    "    <tr style=\"border-style: hidden; border-collapse: collapse;\">\n",
    "        <td width = 40% style=\"border-style: hidden; border-collapse: collapse;\">\n",
    "<img src=\"./image_files/h-bridge.png\" width = 150>\n",
    "        </td>\n",
    "        <td width = 40%>\n",
    "<img src=\"./image_files/h-bridge_schem_schem.png\" width = 250>\n",
    "        </td>\n",
    "    </tr>\n",
    "</table>\n",
    "\n",
    "<br>\n",
    "<img src=\"./image_files/h_bridge.png\" width = 500>"
   ]
  },
  {
   "cell_type": "code",
   "execution_count": 9,
   "metadata": {
    "collapsed": false
   },
   "outputs": [
    {
     "data": {
      "text/html": [
       "<iframe src=\"https://player.vimeo.com/video/100357623?portrait=0\" \n",
       "width=\"560\" height=\"315\" frameborder=\"0\" allowfullscreen></iframe>"
      ],
      "text/plain": [
       "<IPython.core.display.HTML object>"
      ]
     },
     "metadata": {},
     "output_type": "display_data"
    }
   ],
   "source": [
    "%%html\n",
    "<iframe src=\"https://player.vimeo.com/video/100357623?portrait=0\" \n",
    "width=\"560\" height=\"315\" frameborder=\"0\" allowfullscreen></iframe>"
   ]
  },
  {
   "cell_type": "markdown",
   "metadata": {},
   "source": [
    "Speed\n",
    "\n",
    "- speed is proportional to the supplied voltage. \n",
    "- The most effective way to adjust the speed is by using pulse width modulation (PWM). \n",
    "- You pulse the motor on and off at varying rates, to simulate an analog voltage."
   ]
  },
  {
   "cell_type": "code",
   "execution_count": 10,
   "metadata": {
    "collapsed": false,
    "scrolled": true
   },
   "outputs": [
    {
     "data": {
      "text/html": [
       "<iframe src=\"https://player.vimeo.com/video/93555504\" \n",
       "width=\"560\" height=\"315\" frameborder=\"0\" allowfullscreen></iframe>"
      ],
      "text/plain": [
       "<IPython.core.display.HTML object>"
      ]
     },
     "metadata": {},
     "output_type": "display_data"
    }
   ],
   "source": [
    "%%html\n",
    "<iframe src=\"https://player.vimeo.com/video/93555504\" \n",
    "width=\"560\" height=\"315\" frameborder=\"0\" allowfullscreen></iframe>"
   ]
  },
  {
   "cell_type": "markdown",
   "metadata": {},
   "source": [
    "<font size='4'><b>Lab 5: How to Spin a DC Motor with the Arduino</b></font>\n",
    "\n",
    "- http://www.dummies.com/how-to/content/how-to-spin-a-dc-motor-with-the-arduino.html\n",
    "\n",
    "- The _transistor_ is an electrically operated switch that can be activated by your Arduino’s digital pins. For the example below, note that a NPN transistor will be used.\n",
    "\n",
    "- To be safe, you place a _diode_ across the motor. If current is generated in the opposite direction, it is now be blocked from flowing into the Arduino.\n",
    "\n",
    "<img src=\"./image_files/transistors.jpg\" width = 400>\n",
    "\n",
    "\n",
    "\n",
    "<table style=\"border-style: hidden; border-collapse: collapse;\" width = \"90%\"> \n",
    "    <tr style=\"border-style: hidden; border-collapse: collapse;\">\n",
    "        <td width = 40% style=\"border-style: hidden; border-collapse: collapse;\">\n",
    "<img src=\"./image_files/dcmotor_tran.jpg\" width = 250>\n",
    "        </td>\n",
    "        <td width = 40%>\n",
    "<img src=\"./image_files/dcmotor_tran_schem.jpg\" width = 300>\n",
    "        </td>\n",
    "    </tr>\n",
    "</table>"
   ]
  },
  {
   "cell_type": "code",
   "execution_count": 11,
   "metadata": {
    "collapsed": false
   },
   "outputs": [
    {
     "data": {
      "text/html": [
       "<iframe src=\"https://www.youtube.com/embed/4EpZKJsYl1o\" \n",
       "width=\"560\" height=\"315\" frameborder=\"0\" allowfullscreen></iframe>"
      ],
      "text/plain": [
       "<IPython.core.display.HTML object>"
      ]
     },
     "metadata": {},
     "output_type": "display_data"
    }
   ],
   "source": [
    "%%html\n",
    "<iframe src=\"https://www.youtube.com/embed/4EpZKJsYl1o\" \n",
    "width=\"560\" height=\"315\" frameborder=\"0\" allowfullscreen></iframe>"
   ]
  },
  {
   "cell_type": "markdown",
   "metadata": {},
   "source": [
    "```c\n",
    "int motorPin = 9;\n",
    "\n",
    "void setup() {\n",
    "  pinMode(motorPin, OUTPUT);\n",
    "}\n",
    "\n",
    "void loop() {\n",
    "  digitalWrite(motorPin, HIGH);\n",
    "  delay(1000);\n",
    "  digitalWrite(motorPin, LOW);\n",
    "  delay(1000);\n",
    "}\n",
    "```"
   ]
  },
  {
   "cell_type": "markdown",
   "metadata": {},
   "source": [
    "<font size='4'><b>Lab 6: DC Motor Direction Control Using an H-Bridge</b></font>\n",
    "\n",
    "- https://itp.nyu.edu/physcomp/labs/motors-and-transistors/dc-motor-control-using-an-h-bridge/\n",
    "\n",
    "<br>\n",
    "<table style=\"border-style: hidden; border-collapse: collapse;\" width = \"90%\"> \n",
    "    <tr style=\"border-style: hidden; border-collapse: collapse;\">\n",
    "        <td width = 40% style=\"border-style: hidden; border-collapse: collapse;\">\n",
    "<img src=\"./image_files/LabDCMotorH-Bridge9V_bb.png\" width = 400>\n",
    "        </td>\n",
    "        <td width = 40%>\n",
    "<img src=\"./image_files/LabDCMotorH-Bridge9V_schem.png\" width = 400>\n",
    "        </td>\n",
    "    </tr>\n",
    "</table>"
   ]
  },
  {
   "cell_type": "code",
   "execution_count": 12,
   "metadata": {
    "collapsed": false
   },
   "outputs": [
    {
     "data": {
      "text/html": [
       "<iframe src=\"https://www.youtube.com/embed/uzIj4oR1ws0\" \n",
       "width=\"560\" height=\"315\" frameborder=\"0\" allowfullscreen></iframe>"
      ],
      "text/plain": [
       "<IPython.core.display.HTML object>"
      ]
     },
     "metadata": {},
     "output_type": "display_data"
    }
   ],
   "source": [
    "%%html\n",
    "<iframe src=\"https://www.youtube.com/embed/uzIj4oR1ws0\" \n",
    "width=\"560\" height=\"315\" frameborder=\"0\" allowfullscreen></iframe>"
   ]
  },
  {
   "cell_type": "markdown",
   "metadata": {},
   "source": [
    "```c\n",
    "const int switchPin = 2;    // switch input\n",
    "const int motor1Pin = 3;    // H-bridge leg 1 (pin 2, 1A)\n",
    "const int motor2Pin = 4;    // H-bridge leg 2 (pin 7, 2A)\n",
    "const int enablePin = 9;    // H-bridge enable pin\n",
    "\n",
    "void setup() {\n",
    "  // set the switch as an input:\n",
    "  pinMode(switchPin, INPUT);\n",
    "\n",
    "  // set all the other pins you're using as outputs:\n",
    "  pinMode(motor1Pin, OUTPUT);\n",
    "  pinMode(motor2Pin, OUTPUT);\n",
    "  pinMode(enablePin, OUTPUT);\n",
    "  pinMode(ledPin, OUTPUT);\n",
    "\n",
    "  // set enablePin high so that motor can turn on:\n",
    "  digitalWrite(enablePin, HIGH);\n",
    "}\n",
    "\n",
    "void loop() {\n",
    "  // if the switch is high, motor will turn on one direction:\n",
    "  if (digitalRead(switchPin) == HIGH) {\n",
    "    digitalWrite(motor1Pin, LOW);   // set leg 1 of the H-bridge low\n",
    "    digitalWrite(motor2Pin, HIGH);  // set leg 2 of the H-bridge high\n",
    "  }\n",
    "  // if the switch is low, motor will turn in the other direction:\n",
    "  else {\n",
    "    digitalWrite(motor1Pin, HIGH);  // set leg 1 of the H-bridge high\n",
    "    digitalWrite(motor2Pin, LOW);   // set leg 2 of the H-bridge low\n",
    "  }\n",
    "}\n",
    "```"
   ]
  },
  {
   "cell_type": "markdown",
   "metadata": {},
   "source": [
    "<font size='4'><b>Lab 7: DC Motor Speed Control</b></font>\n",
    "\n",
    "- Use a potentiometer\n",
    "\n",
    "- https://itp.nyu.edu/physcomp/labs/motors-and-transistors/using-a-transistor-to-control-high-current-loads-with-an-arduino/\n",
    "\n",
    "<table style=\"border-style: hidden; border-collapse: collapse;\" width = \"90%\"> \n",
    "    <tr style=\"border-style: hidden; border-collapse: collapse;\">\n",
    "        <td width = 40% style=\"border-style: hidden; border-collapse: collapse;\">\n",
    "<img src=\"./image_files/LabHighCurrentArduinoMotor_bb.png\" width = 400>\n",
    "        </td>\n",
    "        <td width = 40%>\n",
    "<img src=\"./image_files/LabHighCurrentArduinoMotor_schem.png\" width = 400>\n",
    "        </td>\n",
    "    </tr>\n",
    "</table>"
   ]
  },
  {
   "cell_type": "code",
   "execution_count": 13,
   "metadata": {
    "collapsed": false
   },
   "outputs": [
    {
     "data": {
      "text/html": [
       "<iframe src=\"https://www.youtube.com/embed/Yo7RBhBqW8E\"\n",
       "width=\"560\" height=\"315\" frameborder=\"0\" allowfullscreen></iframe>"
      ],
      "text/plain": [
       "<IPython.core.display.HTML object>"
      ]
     },
     "metadata": {},
     "output_type": "display_data"
    }
   ],
   "source": [
    "%%html\n",
    "<iframe src=\"https://www.youtube.com/embed/Yo7RBhBqW8E\"\n",
    "width=\"560\" height=\"315\" frameborder=\"0\" allowfullscreen></iframe>"
   ]
  },
  {
   "cell_type": "markdown",
   "metadata": {},
   "source": [
    "```c\n",
    "const int transistorPin = 9;            // connected to the base of the transistor\n",
    "\n",
    "void setup() {\n",
    "  pinMode(transistorPin, OUTPUT);       // set  the transistor pin as output:\n",
    "}\n",
    "\n",
    "void loop() {\n",
    "  int sensorValue = analogRead(A0);                       // read the potentiometer:\n",
    "  int outputValue = map(sensorValue, 0, 1023, 0, 255);    // map the sensor value to a range from 0 - 255:\n",
    "  analogWrite(transistorPin, outputValue);                // use that to control the transistor:\n",
    "}\n",
    "```"
   ]
  },
  {
   "cell_type": "markdown",
   "metadata": {},
   "source": [
    "<font size='4'><b>Lab 8: Use a serial communication</b></font>\n",
    "\n",
    "- https://learn.adafruit.com/adafruit-arduino-lesson-13-dc-motors?view=all\n",
    "\n",
    "\n",
    "<table style=\"border-style: hidden; border-collapse: collapse;\" width = \"90%\"> \n",
    "    <tr style=\"border-style: hidden; border-collapse: collapse;\">\n",
    "        <td width = 40% style=\"border-style: hidden; border-collapse: collapse;\">\n",
    "<img src=\"./image_files/learn_arduino_breadboard.jpg\" width = 300>\n",
    "        </td>\n",
    "        <td width = 40%>\n",
    "<img src=\"./image_files/learn_arduino_schematic.jpg\" width = 300>\n",
    "        </td>\n",
    "    </tr>\n",
    "</table>\n",
    "\n",
    "```c\n",
    "int motorPin = 3;\n",
    "\n",
    "void setup() {\n",
    "  pinMode(motorPin, OUTPUT);\n",
    "  Serial.begin(9600);\n",
    "  while (!Serial);\n",
    "  Serial.println(\"Speed 0 to 255\");\n",
    "}\n",
    "\n",
    "void loop() {\n",
    "  if (Serial.available()) {\n",
    "    int speed = Serial.parseInt();\n",
    "    if (speed >= 0 && speed <= 255) {\n",
    "      analogWrite(motorPin, speed);\n",
    "    }\n",
    "  }\n",
    "}\n",
    "```"
   ]
  },
  {
   "cell_type": "markdown",
   "metadata": {},
   "source": [
    "## 3.2. Servo Motor\n",
    "\n",
    "The position of the servo motor is set by the length of a pulse. The servo expects to receive a pulse roughly every 20 milliseconds (50 Hz). If that pulse is high for 1 millisecond, then the servo angle will be zero, if it is 1.5 milliseconds, then it will be at its centre position and if it is 2 milliseconds it will be at 180 degrees.\n",
    "\n",
    "<img src=\"./image_files/learn_arduino_servos.png\" width = 500>\n",
    "\n",
    "- A servo is different from regular motors in that it has a position sensor, which allows to postion it precisely to a certain angle.\n",
    "\n",
    "- The 'position sensor' is often a potentiometer mechanically connected to the actuator shaft.\n",
    "\n",
    "- The resistance value of the potentiometer is compared with the desired position by a motor controller. The controller moves the moter until the position is matched.\n"
   ]
  },
  {
   "cell_type": "code",
   "execution_count": 14,
   "metadata": {
    "collapsed": false
   },
   "outputs": [
    {
     "data": {
      "text/html": [
       "<iframe src=\"https://player.vimeo.com/video/93608912\" \n",
       "width=\"560\" height=\"315\" frameborder=\"0\" allowfullscreen></iframe>"
      ],
      "text/plain": [
       "<IPython.core.display.HTML object>"
      ]
     },
     "metadata": {},
     "output_type": "display_data"
    }
   ],
   "source": [
    "%%html\n",
    "<iframe src=\"https://player.vimeo.com/video/93608912\" \n",
    "width=\"560\" height=\"315\" frameborder=\"0\" allowfullscreen></iframe>"
   ]
  },
  {
   "cell_type": "code",
   "execution_count": 15,
   "metadata": {
    "collapsed": false
   },
   "outputs": [
    {
     "data": {
      "text/html": [
       "<iframe src=\"https://www.youtube.com/embed/qatqVNh9uj4\" \n",
       "width=\"560\" height=\"315\" frameborder=\"0\" allowfullscreen></iframe>"
      ],
      "text/plain": [
       "<IPython.core.display.HTML object>"
      ]
     },
     "metadata": {},
     "output_type": "display_data"
    }
   ],
   "source": [
    "%%html\n",
    "<iframe src=\"https://www.youtube.com/embed/qatqVNh9uj4\" \n",
    "width=\"560\" height=\"315\" frameborder=\"0\" allowfullscreen></iframe>"
   ]
  },
  {
   "cell_type": "markdown",
   "metadata": {},
   "source": [
    "<font size='4'><b>Lab 9: Controlling the Position of a Servo</b></font>\n",
    "\n",
    "You want to control the position of a servo using an angle. Use the Servo library distributed with Arduino.\n",
    "\n",
    "<table style=\"border:1px solid black\" width = \"90%\"> \n",
    "    <tr style=\"border:1px solid black\">\n",
    "        <td width = 45% style=\"border:1px solid black\">\n",
    "<img src = \"./image_files/servo_sweep.png\" width = 500>\n",
    "        </td>\n",
    "        <td width = 45%>\n",
    "<img src = \"./image_files/arduino_servo.png\" width = 400>\n",
    "        </td>\n",
    "    </tr>\n",
    "</table>"
   ]
  },
  {
   "cell_type": "code",
   "execution_count": 16,
   "metadata": {
    "collapsed": false
   },
   "outputs": [
    {
     "data": {
      "text/html": [
       "<iframe src=\"https://www.youtube.com/embed/r59k-1LGjH8\" \n",
       "width=\"560\" height=\"315\" frameborder=\"0\" allowfullscreen></iframe>"
      ],
      "text/plain": [
       "<IPython.core.display.HTML object>"
      ]
     },
     "metadata": {},
     "output_type": "display_data"
    }
   ],
   "source": [
    "%%html\n",
    "<iframe src=\"https://www.youtube.com/embed/r59k-1LGjH8\" \n",
    "width=\"560\" height=\"315\" frameborder=\"0\" allowfullscreen></iframe>"
   ]
  },
  {
   "cell_type": "markdown",
   "metadata": {},
   "source": [
    "```c\n",
    "#include <Servo.h>\n",
    "\n",
    "Servo myservo;        // create servo object to control a servo\n",
    "int angle = 0;        // variable to store the servo position\n",
    "\n",
    "void setup()\n",
    "{\n",
    "  myservo.attach(9);  // attaches the servo on pin 10 to the servo object\n",
    "}\n",
    "\n",
    "void loop()\n",
    "{\n",
    "  for (angle = 0; angle < 180; angle += 1) // goes from 0 degrees to 180 degrees\n",
    "  { // in steps of 1 degree\n",
    "    myservo.write(angle); // tell servo to go to position in variable 'angle'\n",
    "    delay(20);            // waits 20ms between servo commands\n",
    "  }\n",
    "  for (angle = 180; angle >= 1; angle -= 1) // goes from 180 degrees to 0 degrees\n",
    "  {\n",
    "    myservo.write(angle);   // tell servo to go to position in variable 'angle'\n",
    "    delay(20);            // waits 20ms between servo commands\n",
    "  }\n",
    "}\n",
    "\n",
    "```"
   ]
  },
  {
   "cell_type": "markdown",
   "metadata": {},
   "source": [
    "<font size='4'><b>Lab 10: Controlling a Servo with a Potentiometer or Sensor</b></font>\n",
    "\n",
    "You want to control one or two servos with a potentiometer.\n",
    "\n",
    "<table style=\"border:1px solid black\" width = \"90%\"> \n",
    "    <tr style=\"border:1px solid black\">\n",
    "        <td width = 45% style=\"border:1px solid black\">\n",
    "<img src = \"./image_files/servo_pot.png\" width = 400>\n",
    "        </td>\n",
    "        <td width = 45%>\n",
    "<img src = \"./image_files/potentiometer.png\" width = 500>\n",
    "        </td>\n",
    "    </tr>\n",
    "</table>"
   ]
  },
  {
   "cell_type": "code",
   "execution_count": 17,
   "metadata": {
    "collapsed": false
   },
   "outputs": [
    {
     "data": {
      "text/html": [
       "<iframe src=\"https://www.youtube.com/embed/wybU2--v7ME\" \n",
       "width=\"560\" height=\"315\" frameborder=\"0\" allowfullscreen></iframe>"
      ],
      "text/plain": [
       "<IPython.core.display.HTML object>"
      ]
     },
     "metadata": {},
     "output_type": "display_data"
    }
   ],
   "source": [
    "%%html\n",
    "<iframe src=\"https://www.youtube.com/embed/wybU2--v7ME\" \n",
    "width=\"560\" height=\"315\" frameborder=\"0\" allowfullscreen></iframe>"
   ]
  },
  {
   "cell_type": "markdown",
   "metadata": {},
   "source": [
    "```c\n",
    "#include <Servo.h>\n",
    "\n",
    "Servo myservo;    // create servo object to control a servo\n",
    "int potpin = 0;   // analog pin used to connect the potentiometer\n",
    "int val;          // variable to read the value from the analog pin\n",
    "\n",
    "void setup() {\n",
    "  myservo.attach(9);  // attaches the servo on pin 9 to the servo object\n",
    "}\n",
    "\n",
    "void loop() {\n",
    "  val = analogRead(potpin);         // reads the value of the potentiometer\n",
    "  val = map(val, 0, 1023, 0, 179);  // scale it to use it with the servo\n",
    "  myservo.write(val);               // sets position to the scaled value\n",
    "  delay(15);                        // waits for the servo to get there\n",
    "}\n",
    "```"
   ]
  },
  {
   "cell_type": "markdown",
   "metadata": {},
   "source": [
    "<font size='4'><b>Demo: Robotic Hand with Flexible Sensor</b></font>"
   ]
  },
  {
   "cell_type": "code",
   "execution_count": 18,
   "metadata": {
    "collapsed": false
   },
   "outputs": [
    {
     "data": {
      "text/html": [
       "<iframe src=\"https://www.youtube.com/embed/qMtHEOxHDGo\" \n",
       "width=\"560\" height=\"315\" frameborder=\"0\" allowfullscreen></iframe>"
      ],
      "text/plain": [
       "<IPython.core.display.HTML object>"
      ]
     },
     "metadata": {},
     "output_type": "display_data"
    }
   ],
   "source": [
    "%%html\n",
    "<iframe src=\"https://www.youtube.com/embed/qMtHEOxHDGo\" \n",
    "width=\"560\" height=\"315\" frameborder=\"0\" allowfullscreen></iframe>"
   ]
  },
  {
   "cell_type": "markdown",
   "metadata": {},
   "source": [
    "<font size='4'><b>Lab 11: Controlling Servos from the Serial Port</b></font>\n",
    "\n",
    "You want to provide commands to control servos from the serial port. Perhaps you want to control servos from a program running on your computer.\n",
    "\n",
    "The commands are of the following form:\n",
    "- 180a writes 180 to servo a\n",
    "- 90b writes 90 to servo b\n",
    "- 0c writes 0 to servo c\n",
    "- 17d writes 17 to servo d\n",
    "\n",
    "\n",
    "```c\n",
    "#include <Servo.h>  // the servo library\n",
    "#define SERVOS 4    // the number of servos\n",
    "\n",
    "int servoPins[SERVOS] = {7, 8, 9, 10}; // servos on pins 7 through 10\n",
    "Servo myservo[SERVOS];\n",
    "\n",
    "void setup() {\n",
    "  Serial.begin(9600);\n",
    "  for (int i = 0; i < SERVOS; i++)\n",
    "    myservo[i].attach(servoPins[i]);\n",
    "}\n",
    "\n",
    "void loop() {\n",
    "  serviceSerial();\n",
    "}\n",
    "\n",
    "// serviceSerial checks the serial port and updates position with received data\n",
    "// it expects servo data in the form:\n",
    "// \"180a\" writes 180 to servo a\n",
    "// \"90b writes 90 to servo b\n",
    "\n",
    "void serviceSerial() {\n",
    "  static int pos = 0;\n",
    "  if (Serial.available() > 0) {\n",
    "    char ch = Serial.read();\n",
    "    if (ch >= '0' && ch <= '9')               // is ch a number?\n",
    "      pos = pos * 10 + ch - '0';              // yes, accumulate the value\n",
    "    else if (ch >= 'a' && ch <= 'a' + SERVOS) // is ch a letter for our servos?\n",
    "      myservo[ch - 'a'].write(pos);           // yes, save position in position array\n",
    "  }\n",
    "}\n",
    "```"
   ]
  },
  {
   "cell_type": "markdown",
   "metadata": {},
   "source": [
    "__Online Tutorial: Servo motor and transisitors by Jeremy Blum__"
   ]
  },
  {
   "cell_type": "code",
   "execution_count": 19,
   "metadata": {
    "collapsed": false,
    "scrolled": true
   },
   "outputs": [
    {
     "data": {
      "text/html": [
       "<iframe src=\"https://www.youtube.com/embed/5bHPKU4ybHY\" \n",
       "width=\"560\" height=\"315\" frameborder=\"0\" allowfullscreen></iframe>"
      ],
      "text/plain": [
       "<IPython.core.display.HTML object>"
      ]
     },
     "metadata": {},
     "output_type": "display_data"
    }
   ],
   "source": [
    "%%html\n",
    "<iframe src=\"https://www.youtube.com/embed/5bHPKU4ybHY\" \n",
    "width=\"560\" height=\"315\" frameborder=\"0\" allowfullscreen></iframe>"
   ]
  },
  {
   "cell_type": "markdown",
   "metadata": {},
   "source": [
    "## 3.3 Stepper Motor (Optional)"
   ]
  },
  {
   "cell_type": "code",
   "execution_count": 20,
   "metadata": {
    "collapsed": false
   },
   "outputs": [
    {
     "data": {
      "text/html": [
       "<iframe src=\"https://www.youtube.com/embed/PEwpAoLKzVc\"\n",
       "width=\"560\" height=\"315\" frameborder=\"0\" allowfullscreen></iframe>"
      ],
      "text/plain": [
       "<IPython.core.display.HTML object>"
      ]
     },
     "metadata": {},
     "output_type": "display_data"
    }
   ],
   "source": [
    "%%html\n",
    "<iframe src=\"https://www.youtube.com/embed/PEwpAoLKzVc\"\n",
    "width=\"560\" height=\"315\" frameborder=\"0\" allowfullscreen></iframe>"
   ]
  },
  {
   "cell_type": "code",
   "execution_count": 21,
   "metadata": {
    "collapsed": false
   },
   "outputs": [
    {
     "data": {
      "text/html": [
       "<iframe src=\"https://www.youtube.com/embed/bkqoKWP4Oy4\"\n",
       "width=\"560\" height=\"315\" frameborder=\"0\" allowfullscreen></iframe>"
      ],
      "text/plain": [
       "<IPython.core.display.HTML object>"
      ]
     },
     "metadata": {},
     "output_type": "display_data"
    }
   ],
   "source": [
    "%%html\n",
    "<iframe src=\"https://www.youtube.com/embed/bkqoKWP4Oy4\"\n",
    "width=\"560\" height=\"315\" frameborder=\"0\" allowfullscreen></iframe>"
   ]
  },
  {
   "cell_type": "markdown",
   "metadata": {},
   "source": [
    "## 3.4. Summary"
   ]
  },
  {
   "cell_type": "code",
   "execution_count": 22,
   "metadata": {
    "collapsed": false
   },
   "outputs": [
    {
     "data": {
      "text/html": [
       "<iframe src=\"https://www.youtube.com/embed/3A-pcONMSWI\" \n",
       "width=\"560\" height=\"315\" frameborder=\"0\" allowfullscreen></iframe>"
      ],
      "text/plain": [
       "<IPython.core.display.HTML object>"
      ]
     },
     "metadata": {},
     "output_type": "display_data"
    }
   ],
   "source": [
    "%%html\n",
    "<iframe src=\"https://www.youtube.com/embed/3A-pcONMSWI\" \n",
    "width=\"560\" height=\"315\" frameborder=\"0\" allowfullscreen></iframe>"
   ]
  },
  {
   "cell_type": "code",
   "execution_count": 23,
   "metadata": {
    "collapsed": false
   },
   "outputs": [
    {
     "data": {
      "application/javascript": [
       "$.getScript('https://kmahelona.github.io/ipython_notebook_goodies/ipython_notebook_toc.js')"
      ],
      "text/plain": [
       "<IPython.core.display.Javascript object>"
      ]
     },
     "metadata": {},
     "output_type": "display_data"
    }
   ],
   "source": [
    "%%javascript\n",
    "$.getScript('https://kmahelona.github.io/ipython_notebook_goodies/ipython_notebook_toc.js')"
   ]
  }
 ],
 "metadata": {
  "anaconda-cloud": {},
  "kernelspec": {
   "display_name": "Python 3",
   "language": "python",
   "name": "python3"
  },
  "language_info": {
   "codemirror_mode": {
    "name": "ipython",
    "version": 3
   },
   "file_extension": ".py",
   "mimetype": "text/x-python",
   "name": "python",
   "nbconvert_exporter": "python",
   "pygments_lexer": "ipython3",
   "version": "3.3.5"
  }
 },
 "nbformat": 4,
 "nbformat_minor": 0
}

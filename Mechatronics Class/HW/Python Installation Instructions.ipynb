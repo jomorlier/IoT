{
 "cells": [
  {
   "cell_type": "markdown",
   "metadata": {},
   "source": [
    "<br>\n",
    "<font size='6'><b>Python Installaltion Instructions</b></font><br><br>\n",
    "\n",
    "<table style=\"border-style: hidden; border-collapse: collapse;\" width = \"80%\"> \n",
    "    <tr style=\"border-style: hidden; border-collapse: collapse;\">\n",
    "        <td width = 60% style=\"border-style: hidden; border-collapse: collapse;\">\n",
    "\n",
    "        </td>\n",
    "        <td width = 20%>\n",
    "        by Haedong Jeong<br>iSystems Design Lab<br>http://isystems.unist.ac.kr/<br>UNIST\n",
    "        </td>\n",
    "    </tr>\n",
    "</table>\n",
    "\n",
    "Table of Contents\n",
    "<div id=\"toc\"></div>"
   ]
  },
  {
   "cell_type": "markdown",
   "metadata": {},
   "source": [
    "# 1. Install ANACONDA \n",
    "\n",
    "- https://www.continuum.io/downloads\n",
    "\n",
    "- Please check if your system is running on a 32-bit or a 64-bit OS.\n",
    "\n",
    "<img src = \"./image_files/operating_bits.png\" style=\"border:1px solid white\", width = 500>"
   ]
  },
  {
   "cell_type": "markdown",
   "metadata": {},
   "source": [
    "You have to download Python 3.5 version (or latest). Depending on the OS version you are running, please select the corresponding version.\n",
    "\n",
    "<img src = \"./image_files/anaconda.png\" style=\"border:1px solid black\", width = 500>"
   ]
  },
  {
   "cell_type": "markdown",
   "metadata": {},
   "source": [
    "# 2. IPython Notebook\n",
    "\n",
    "In this class, we will use [IPython](http://ipython.org/) notebook for the programming An IPython notebook lets you write and execute Python code in your web browser. \n",
    "\n",
    "- Go to the folder that you want to work on in the windows file explorer\n",
    "\n",
    "<img src = \"./image_files/folder.png\" style=\"border:1px solid black\" width = 700>\n",
    "\n",
    "- Type 'jupyter notebook' in the URL of the windows file explorer\n",
    "\n",
    "<img src = \"./image_files/jupyter_notebook.png\" style=\"border:1px solid black\" width = 700>\n",
    "\n",
    "- Once IPython is running, point your web browser at http://localhost:8888 to start using IPython notebooks. If everything worked correctly, you should see a screen like this, showing all available IPython notebooks in the current directory:\n",
    "\n",
    "<img src = \"./image_files/web_browser.png\" style=\"border:1px solid black\" width = 700>"
   ]
  },
  {
   "cell_type": "markdown",
   "metadata": {},
   "source": [
    "# 3. Install Pycharm Community version\n",
    "\n",
    "- https://www.jetbrains.com/pycharm/download/#section=windows\n",
    "\n",
    "- Please download the Community version. The Community version will be used for in-class demonstrations and labs.\n",
    "\n",
    "<img src = \"./image_files/pycharm.png\" style=\"border:1px solid black\" width = 500>"
   ]
  },
  {
   "cell_type": "markdown",
   "metadata": {},
   "source": [
    "## 3.1. Install Pycharm\n",
    "\n",
    "<table>\n",
    "<tr>\n",
    "<td>\n",
    "<img src = \"./image_files/py1.png\" style=\"border:1px solid white\", width = 400>\n",
    "</td>\n",
    "<td>\n",
    "<img src = \"./image_files/py2.png\" style=\"border:1px solid white\", width = 400>\n",
    "</td>\n",
    "</tr>\n",
    "</table>"
   ]
  },
  {
   "cell_type": "markdown",
   "metadata": {},
   "source": [
    "- If you are running a 32-bit OS, check on the box indicated '32-bit launcher'. However, if you are running a 64-bit OS, do not click on the check box. \n",
    "\n",
    "- For both cases, please click on the check box indicated '.py'. "
   ]
  },
  {
   "cell_type": "markdown",
   "metadata": {},
   "source": [
    "<img src = \"./image_files/py3.png\" style=\"border:1px solid white\", width = 400>"
   ]
  },
  {
   "cell_type": "markdown",
   "metadata": {},
   "source": [
    "<table>\n",
    "<tr>\n",
    "<td>\n",
    "<img src = \"./image_files/py4.png\" style=\"border:1px solid white\", width = 400>\n",
    "</td>\n",
    "<td>\n",
    "<img src = \"./image_files/py5.png\" style=\"border:1px solid white\", width = 400>\n",
    "</td>\n",
    "</tr>\n",
    "</table>"
   ]
  },
  {
   "cell_type": "markdown",
   "metadata": {},
   "source": [
    "- Accept the privacy policy and choose the keymap scheme, IDE theme, and font.\n",
    "\n",
    "\n",
    "\n",
    "<table>\n",
    "<tr>\n",
    "<td>\n",
    "<img src = \"./image_files/py6.png\" style=\"border:1px solid white\", width = 400>\n",
    "</td>\n",
    "<td>\n",
    "<img src = \"./image_files/py7.png\" style=\"border:1px solid white\", width = 400>\n",
    "</td>\n",
    "</tr>\n",
    "</table>"
   ]
  },
  {
   "cell_type": "markdown",
   "metadata": {},
   "source": [
    "## 3.2. How to use Pycharm\n",
    "\n",
    "Create New Project.\n",
    "\n",
    "<img src = \"./image_files/py8.png\" style=\"border:1px solid white\" width = 450>\n",
    "\n",
    "Set your path and name for your project.\n",
    "\n",
    "<img src = \"./image_files/py9.png\" style=\"border:1px solid white\" width = 450>\n",
    "\n",
    "Right click on the the project folder. The project name is set as \"untitled\" for the example below.\n",
    "\n",
    "<table style=\"border-style: hidden; border-collapse: collapse;\" width = \"90%\"> \n",
    "  <tr style=\"border-style: hidden; border-collapse: collapse;\">\n",
    "        <td width = 50% style=\"border-style: hidden; border-collapse: collapse;\">\n",
    "            <img src = \"./image_files/py10.png\" style=\"border:1x solid black\" width = 400>\n",
    "        </td>\n",
    "        <td>\n",
    "            <img src = \"./image_files/py11.png\" style=\"border:1 solid black\" width = 335>\n",
    "        </td>\n",
    "  </tr>\n",
    "</table>\n",
    "\n",
    "Select New $\\rightarrow$ Python file and define your python script name.\n",
    "\n",
    "<table style=\"border-style: hidden; border-collapse: collapse;\" width = \"90%\">\n",
    "    <tr style=\"border-style: hidden; border-collapse: collapse;\">\n",
    "        <td style=\"border-style: hidden; border-collapse: collapse;\">\n",
    "            <img src = \"./image_files/py12.png\" style=\"border:1px solid black\", width = 600>\n",
    "        </td>\n",
    "        <td>\n",
    "            <img src = \"./image_files/py13.png\" style=\"border:1px solid black\", width = 530>\n",
    "        </td>\n",
    "    </tr>\n",
    "</table>"
   ]
  },
  {
   "cell_type": "markdown",
   "metadata": {},
   "source": [
    "## 3.3. Hello World\n",
    "\n",
    "Type the sample code below and run.\n",
    "\n",
    "```python\n",
    "print(\"Hello\")\n",
    "```\n",
    "\n",
    "<table style=\"border-style: hidden; border-collapse: collapse;\" width = \"90%\">\n",
    "    <tr style=\"border-style: hidden; border-collapse: collapse;\">\n",
    "        <td style=\"border-style: hidden; border-collapse: collapse;\">\n",
    "            <img src = \"./image_files/py14.png\" style=\"border:1px solid black\", width = 600>\n",
    "        </td>\n",
    "        <td>\n",
    "            <img src = \"./image_files/py15.png\" style=\"border:1px solid black\", width = 551>\n",
    "        </td>\n",
    "    </tr>\n",
    "</table>\n",
    "\n",
    "If your python code is running properly, you should see \"Hello\" in your console terminal.\n",
    "\n",
    "<img src = \"./image_files/py16.png\" style=\"border:1px solid black\", width = 700>"
   ]
  },
  {
   "cell_type": "code",
   "execution_count": 1,
   "metadata": {
    "collapsed": false
   },
   "outputs": [
    {
     "data": {
      "application/javascript": [
       "$.getScript('https://kmahelona.github.io/ipython_notebook_goodies/ipython_notebook_toc.js')"
      ],
      "text/plain": [
       "<IPython.core.display.Javascript object>"
      ]
     },
     "metadata": {},
     "output_type": "display_data"
    }
   ],
   "source": [
    "%%javascript\n",
    "$.getScript('https://kmahelona.github.io/ipython_notebook_goodies/ipython_notebook_toc.js')"
   ]
  }
 ],
 "metadata": {
  "anaconda-cloud": {},
  "kernelspec": {
   "display_name": "Python 3",
   "language": "python",
   "name": "python3"
  },
  "language_info": {
   "codemirror_mode": {
    "name": "ipython",
    "version": 3
   },
   "file_extension": ".py",
   "mimetype": "text/x-python",
   "name": "python",
   "nbconvert_exporter": "python",
   "pygments_lexer": "ipython3",
   "version": "3.5.2"
  }
 },
 "nbformat": 4,
 "nbformat_minor": 0
}

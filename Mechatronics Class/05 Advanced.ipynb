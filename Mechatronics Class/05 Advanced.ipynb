{
 "cells": [
  {
   "cell_type": "markdown",
   "metadata": {
    "collapsed": true
   },
   "source": [
    "<font size='6'><b>Advanced Arduino</b></font><br><br>\n",
    "\n",
    "<table style=\"border-style: hidden; border-collapse: collapse;\" width = \"80%\"> \n",
    "    <tr style=\"border-style: hidden; border-collapse: collapse;\">\n",
    "        <td width = 60% style=\"border-style: hidden; border-collapse: collapse;\">\n",
    "\n",
    "        </td>\n",
    "        <td width = 20%>\n",
    "        by Seungchul Lee<br>iSystems Design Lab<br>UNIST<br>http://isystems.unist.ac.kr/\n",
    "        </td>\n",
    "    </tr>\n",
    "</table>\n",
    "\n",
    "Table of Contents\n",
    "<div id=\"toc\"></div>"
   ]
  },
  {
   "cell_type": "markdown",
   "metadata": {},
   "source": [
    "# 1. Visual Output (revisited)\n",
    "\n"
   ]
  },
  {
   "cell_type": "markdown",
   "metadata": {
    "collapsed": true
   },
   "source": [
    "## 1.1. Dual 7 Segment\n",
    "\n",
    "Lab: 2 Digit 7 segment Counter from 0 to 99\n",
    "\n",
    "dual 7 segments (개념이 아주 중요하다.)\n",
    "\n",
    "https://github.com/mpthegoat/Arduino-digital-7-segment-counter-0-99\n",
    "\n",
    "http://www.electroschematics.com/9636/arduino-segment-display-counter/\n",
    "\n",
    "http://blog.rastating.com/using-a-7-segment-led-display-w-arduino-uno/\n",
    "\n",
    "\n",
    "led lib (pointer)\n",
    "\n",
    "http://arduvino.com/arduino-project-03-reading-temperature-using-the-lm35-sensor-and-displaying-it-on-a-7-segment-led-display-5261bs/"
   ]
  },
  {
   "cell_type": "markdown",
   "metadata": {},
   "source": [
    "<table style=\"border-style: hidden; border-collapse: collapse;\" width = \"90%\"> \n",
    "    <tr style=\"border-style: hidden; border-collapse: collapse;\">\n",
    "        <td width = 30% style=\"border-style: hidden; border-collapse: collapse;\">\n",
    "<img src = \"./image_files/2_7seg.jpg\" width = 250>\n",
    "        </td>\n",
    "        <td width = 30% style=\"border-style: hidden; border-collapse: collapse;\">\n",
    "<img src = \"./image_files/two_7segs.jpg\" width = 250>\n",
    "        </td>\n",
    "        <td width = 30%>\n",
    "<img src = \"./image_files/twodigit_7seg.jpg\" width = 400>\n",
    "        </td>\n",
    "    </tr>\n",
    "</table>\n",
    "\n",
    "- In multiplexed LED applications the LED segments of all the digits are tied together and the common pins of each digit are turned ON separately by the microcontroller. \n",
    "\n",
    "- When each digit is displayed only for several milliseconds, the eye cannot tell that the digits are not ON all the time. This way we can multiplex any number of 7-segment displays together. \n",
    "\n",
    "- For example, to display the number 53, we have to send 5 to the first digit and enable its common pin. After a few milliseconds, number 3 is sent to the second digit and the common point of the second digit is enabled. When this process is repeated continuously, it appears to the user that both displays are ON continuously.\n",
    "\n",
    "> 1) Send the segment bit pattern for digit 1 to segments $a$ to $g$\n",
    "\n",
    "> 2) Enable digit 1\n",
    "\n",
    "> 3) Wait for a few milliseconds\n",
    "\n",
    "> 4) Disable digit 1 \n",
    "\n",
    "> 5) Send the segment bit pattern for digit 2 to segments $a$ to $g$\n",
    "\n",
    "> 6) Enable digit 2\n",
    "\n",
    "> 7) Wait for a few milliseconds\n",
    "\n",
    "> 8) Disable digit 2\n",
    "\n",
    "> 9) Repeat\n",
    "\n",
    "\n",
    "<img src = \"./image_files/two_7seg_circuit.png\" width = 350>"
   ]
  },
  {
   "cell_type": "markdown",
   "metadata": {},
   "source": [
    ">need to add code"
   ]
  },
  {
   "cell_type": "code",
   "execution_count": 1,
   "metadata": {
    "collapsed": false
   },
   "outputs": [
    {
     "data": {
      "text/html": [
       "<iframe src=\"https://www.youtube.com/embed/1lA4UUCGUu0\" \n",
       "width=\"560\" height=\"315\" frameborder=\"0\" allowfullscreen></iframe>"
      ],
      "text/plain": [
       "<IPython.core.display.HTML object>"
      ]
     },
     "metadata": {},
     "output_type": "display_data"
    }
   ],
   "source": [
    "%%html\n",
    "<iframe src=\"https://www.youtube.com/embed/1lA4UUCGUu0\" \n",
    "width=\"560\" height=\"315\" frameborder=\"0\" allowfullscreen></iframe>"
   ]
  },
  {
   "cell_type": "code",
   "execution_count": 2,
   "metadata": {
    "collapsed": false
   },
   "outputs": [
    {
     "data": {
      "text/html": [
       "<iframe src=\"https://www.youtube.com/embed/28PIhcRzs64\" \n",
       "width=\"560\" height=\"315\" frameborder=\"0\" allowfullscreen></iframe>"
      ],
      "text/plain": [
       "<IPython.core.display.HTML object>"
      ]
     },
     "metadata": {},
     "output_type": "display_data"
    }
   ],
   "source": [
    "%%html\n",
    "<iframe src=\"https://www.youtube.com/embed/28PIhcRzs64\" \n",
    "width=\"560\" height=\"315\" frameborder=\"0\" allowfullscreen></iframe>"
   ]
  },
  {
   "cell_type": "markdown",
   "metadata": {},
   "source": [
    "__Use LEDDisplay.h library__\n",
    "```c\n",
    "#include <LEDDisplay.h>\n",
    "\n",
    "LEDDisplay *led;\n",
    "\n",
    "void setup() {\n",
    "  int digitFlagPins[] = {10, 11};\n",
    "  int segmentPins[] = {2, 3, 4, 5 , 6 , 7 , 8, 9};\n",
    "  int decimalPointPin = 9;\n",
    "  led = new LEDDisplay(2, digitFlagPins, segmentPins, decimalPointPin);\n",
    "}\n",
    "\n",
    "void loop() {\n",
    "  led -> displayNumber(2, 1);\n",
    "  led -> displayNumber(4, 0);\n",
    "}\n",
    "\n",
    "```\n",
    "\n",
    "To see this in a slightly more dynamic example, we can adapt the example to make the LED display act as a counter (obviously only up to the number 99). \n",
    "\n",
    "```c\n",
    "#include <LEDDisplay.h>\n",
    "\n",
    "LEDDisplay *led;\n",
    "int millisecondsPerCount;\n",
    "int counter;\n",
    "unsigned long lastUpdate;\n",
    "\n",
    "void setup()  {\n",
    "  millisecondsPerCount = 1000;\n",
    "  int digitFlagPins[] = {10, 11};\n",
    "  int segmentPins[] = {2, 3, 4, 5 , 6 , 7 , 8, 9};\n",
    "  int decimalPointPin = 9;\n",
    "  led = new LEDDisplay(2, digitFlagPins, segmentPins, decimalPointPin);\n",
    "}\n",
    "\n",
    "void loop()  {\n",
    "  unsigned long now = millis();\n",
    "  if (now - lastUpdate > millisecondsPerCount) {\n",
    "    lastUpdate = now;\n",
    "    counter++;\n",
    "    if (counter == 100) {\n",
    "      counter = 0;\n",
    "    }\n",
    "  }\n",
    "\n",
    "  int number = counter;\n",
    "  for (int i = 0; i < 2; i++) {\n",
    "    led -> displayNumber(number % 10, i);\n",
    "    delay(2);\n",
    "    number = number / 10;\n",
    "  }\n",
    "}\n",
    "```"
   ]
  },
  {
   "cell_type": "markdown",
   "metadata": {
    "collapsed": true
   },
   "source": [
    "# 2. Interrupt (Revisited)\n",
    "\n",
    "## 2.1. External Interrupt\n",
    "\n",
    "https://www.sparkfun.com/tutorials/326\n",
    "\n",
    "\n",
    "Interrupt handling\n",
    "\n",
    "- Processor interrupts (preempts) the current flow of control\n",
    "\n",
    "- Time spent in interrupt handlers should be kept as short as possible\n",
    "\n",
    "- Microcontroller offers interrupts for various conditions\n",
    "    - Not all are useful all the time: enable required interrupts\n",
    "    - Some critical may require atomic execution (no interruptions guaranteed)\n",
    "    - Disable / re-enable interrupts around critical section\n",
    "\n",
    "Interrupts vs. Polling\n",
    "- Polling:\n",
    "    - Continuously poll IOs for change of value\n",
    "    - Polling is like picking up your phone every few seconds to see if you have a call...\n",
    "    - Cons:\n",
    "        - Most polls are unneeded – value did not change\n",
    "        - High CPU usage\n",
    "        - Reaction time depends on #IOs\n",
    "\n",
    "- Interrupt\n",
    "    - Normal execution is interrupted when event occurs\n",
    "    - Interrupts are like waiting for the phone to ring\n",
    "    - Pro:\n",
    "        - Processor resources are only used when necessary\n",
    "    - Cons:\n",
    "        - Program execution is interrupted in a non-deterministic manner\n",
    "\n",
    "\n",
    "<img src = \"./image_files/interrupt_flow_02.png\" style=\"border:1px solid black\", width =500>\n",
    "\n",
    "Interrupt Service Routine (ISR)\n",
    "- Event handler for interrupt\n",
    "- Special, user-defined function for handling the interrupt\n"
   ]
  },
  {
   "cell_type": "code",
   "execution_count": 3,
   "metadata": {
    "collapsed": false
   },
   "outputs": [
    {
     "data": {
      "text/html": [
       "<iframe src=\"https://www.youtube.com/embed/yOMFFeCsmv8\" \n",
       "width=\"560\" height=\"315\" frameborder=\"0\" allowfullscreen></iframe>"
      ],
      "text/plain": [
       "<IPython.core.display.HTML object>"
      ]
     },
     "metadata": {},
     "output_type": "display_data"
    }
   ],
   "source": [
    "%%html\n",
    "<iframe src=\"https://www.youtube.com/embed/yOMFFeCsmv8\" \n",
    "width=\"560\" height=\"315\" frameborder=\"0\" allowfullscreen></iframe>"
   ]
  },
  {
   "cell_type": "markdown",
   "metadata": {},
   "source": [
    "```c\n",
    "int pin = 13;           // LED on board\n",
    "int interrupt0pin = 2;  // pin attached to int0 if you're using Uno\n",
    "int buttonState;\n",
    "\n",
    "void setup() {\n",
    "  pinMode(pin, OUTPUT);\n",
    "  pinMode(interrupt0pin, INPUT);\n",
    "\n",
    "  // calls buttonUpdate() when button input changes (you can also use high-to-low or low-to-high)\n",
    "  attachInterrupt(0, buttonUpdate, CHANGE);\n",
    "}\n",
    "\n",
    "void loop() {\n",
    "  if (buttonState)\n",
    "    digitalWrite(pin, HIGH);\n",
    "  else\n",
    "    digitalWrite(pin, LOW);\n",
    "}\n",
    "\n",
    "void buttonUpdate() {\n",
    "  buttonState = digitalRead(interrupt0pin);\n",
    "  delay(50);            // 50ms works for most switches - adjustable\n",
    "}\n",
    "```"
   ]
  },
  {
   "cell_type": "markdown",
   "metadata": {},
   "source": [
    "<font size='4'><b>Lab: Interrupt-based debouncing</b></font>\n",
    "\n",
    "```c\n",
    "int pin = 13;           // LED on board\n",
    "int interrupt0pin = 2;  // pin attached to int0 if you're using Uno\n",
    "int buttonState;\n",
    "\n",
    "void setup() {\n",
    "  pinMode(pin, OUTPUT);\n",
    "  pinMode(interrupt0pin, INPUT);\n",
    "\n",
    "  // calls buttonUpdate() when button input changes (you can also use high-to-low or low-to-high)\n",
    "  attachInterrupt(0, buttonUpdate, CHANGE);\n",
    "}\n",
    "\n",
    "void loop() {\n",
    "  if (buttonState)\n",
    "    digitalWrite(pin, HIGH);\n",
    "  else\n",
    "    digitalWrite(pin, LOW);\n",
    "}\n",
    "\n",
    "void buttonUpdate() {\n",
    "  buttonState = digitalRead(interrupt0pin);\n",
    "  delay(50);            // 50ms works for most switches - adjustable\n",
    "}\n",
    "```"
   ]
  },
  {
   "cell_type": "markdown",
   "metadata": {},
   "source": [
    "motion detection sensor + interrupt\n",
    "\n",
    "https://www.sparkfun.com/tutorials/326\n",
    "\n",
    "http://www.bristolwatch.com/arduino/arduino_irq.htm\n",
    "    "
   ]
  },
  {
   "cell_type": "markdown",
   "metadata": {
    "collapsed": true
   },
   "source": [
    "- You want to perform some action when a digital pin changes value and you don’t want to have to constantly check the pin state.\n",
    "\n",
    "This sketch monitors pulses on pin 2 and stores the duration in an array. When the array has been filled (64 pulses have been received), the duration of each pulse is displayed on the Serial Monitor:\n",
    "\n",
    "```c\n",
    "/*\n",
    "Interrupts sketch\n",
    "see Recipe 10.1 for connection diagram from Arduino Cookbook\n",
    "*/\n",
    "\n",
    "const int irReceiverPin = 2; //pin the receiver is connected to\n",
    "const int numberOfEntries = 64;\n",
    "volatile unsigned long microseconds;\n",
    "volatile byte index = 0;\n",
    "volatile unsigned long results[numberOfEntries];\n",
    "\n",
    "void setup() {\n",
    "  pinMode(irReceiverPin, INPUT);\n",
    "  Serial.begin(9600);\n",
    "  attachInterrupt(0, analyze, CHANGE); // encoder pin on interrupt 0 (pin 2);\n",
    "  results[0] = 0;\n",
    "}\n",
    "void loop() {\n",
    "  if (index >= numberOfEntries) {\n",
    "    Serial.println(\"Durations in Microseconds are:\") ;\n",
    "    for ( byte i = 0; i < numberOfEntries; i++) {\n",
    "      Serial.println(results[i]);\n",
    "    }\n",
    "    while (1);\n",
    "  }\n",
    "  delay(1000);\n",
    "}\n",
    "void analyze() {\n",
    "  if (index < numberOfEntries ) {\n",
    "    if (index > 0) {\n",
    "      results[index] = micros() - microseconds;\n",
    "    }\n",
    "    index = index + 1;\n",
    "  }\n",
    "  microseconds = micros();\n",
    "}\n",
    "```"
   ]
  },
  {
   "cell_type": "markdown",
   "metadata": {
    "collapsed": true
   },
   "source": [
    "## 2.2. timer interrupt\n",
    "\n",
    "```c\n",
    "#include \"TimerOne.h\"\n",
    "\n",
    "void setup() {\n",
    "  pinMode(13, OUTPUT);\n",
    "  Timer1.initialize(500000);         // initialize timer1, and set a 500000 microseconds (or 1/2 second period)\n",
    "  Timer1.attachInterrupt(timerIsr);  // attaches timerIsr() as a timer service routine\n",
    "}\n",
    "\n",
    "void timerIsr() {\n",
    "  // Toggle LED\n",
    "  digitalWrite(13, digitalRead(13) ^ 1);\n",
    "}\n",
    "\n",
    "void loop() {\n",
    "  // your program here...\n",
    "}\n",
    "```"
   ]
  },
  {
   "cell_type": "code",
   "execution_count": 8,
   "metadata": {
    "collapsed": false
   },
   "outputs": [
    {
     "data": {
      "text/html": [
       "<iframe src=\"https://www.youtube.com/embed/m5_pFID-f-M\" \n",
       "width=\"560\" height=\"315\" frameborder=\"0\" allowfullscreen></iframe>"
      ],
      "text/plain": [
       "<IPython.core.display.HTML object>"
      ]
     },
     "metadata": {},
     "output_type": "display_data"
    }
   ],
   "source": [
    "%%html\n",
    "<iframe src=\"https://www.youtube.com/embed/m5_pFID-f-M\" \n",
    "width=\"560\" height=\"315\" frameborder=\"0\" allowfullscreen></iframe>"
   ]
  },
  {
   "cell_type": "markdown",
   "metadata": {},
   "source": [
    "<font size='4'><b>Lab: LCD Timer</b></font>\n",
    "\n",
    "```c\n",
    "// include the library code:\n",
    "#include <LiquidCrystal.h>\n",
    "\n",
    "// initialize the library with the numbers of the interface pins\n",
    "LiquidCrystal lcd(12, 11, 5, 4, 3, 2);\n",
    "\n",
    "void setup() {\n",
    "  // set up the LCD's number of columns and rows:\n",
    "  lcd.begin(16, 2);\n",
    "  // Print a message to the LCD.\n",
    "  lcd.print(\"hello, world!\");\n",
    "}\n",
    "\n",
    "void loop() {\n",
    "  // set the cursor to column 0, line 1\n",
    "  // (note: line 1 is the second row, since counting begins with 0):\n",
    "  lcd.setCursor(0, 1);\n",
    "  // print the number of seconds since reset:\n",
    "  lcd.print(millis() / 1000);\n",
    "}\n",
    "```"
   ]
  },
  {
   "cell_type": "markdown",
   "metadata": {
    "collapsed": true
   },
   "source": [
    "<font size='4'><b>Lab: Dual 7 segments with time</b></font>\n",
    "\n",
    "+ timer interrupt 에 대한 이해가 필요\n",
    "\n",
    "https://www.youtube.com/watch?v=Y4qC8INSotM"
   ]
  },
  {
   "cell_type": "markdown",
   "metadata": {
    "collapsed": true
   },
   "source": [
    "# 3. SPI\n",
    "\n",
    "https://learn.sparkfun.com/tutorials/serial-peripheral-interface-spi?_ga=1.137392624.1133730960.1469244666"
   ]
  },
  {
   "cell_type": "markdown",
   "metadata": {},
   "source": [
    "# 4. I2C"
   ]
  },
  {
   "cell_type": "code",
   "execution_count": 2,
   "metadata": {
    "collapsed": false
   },
   "outputs": [
    {
     "data": {
      "application/javascript": [
       "$.getScript('https://kmahelona.github.io/ipython_notebook_goodies/ipython_notebook_toc.js')"
      ],
      "text/plain": [
       "<IPython.core.display.Javascript object>"
      ]
     },
     "metadata": {},
     "output_type": "display_data"
    }
   ],
   "source": [
    "%%javascript\n",
    "$.getScript('https://kmahelona.github.io/ipython_notebook_goodies/ipython_notebook_toc.js')"
   ]
  }
 ],
 "metadata": {
  "anaconda-cloud": {},
  "kernelspec": {
   "display_name": "Python [Root]",
   "language": "python",
   "name": "Python [Root]"
  },
  "language_info": {
   "codemirror_mode": {
    "name": "ipython",
    "version": 3
   },
   "file_extension": ".py",
   "mimetype": "text/x-python",
   "name": "python",
   "nbconvert_exporter": "python",
   "pygments_lexer": "ipython3",
   "version": "3.5.2"
  }
 },
 "nbformat": 4,
 "nbformat_minor": 0
}

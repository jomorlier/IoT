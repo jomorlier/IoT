{
 "cells": [
  {
   "cell_type": "markdown",
   "metadata": {
    "collapsed": true
   },
   "source": [
    "<br>\n",
    "<font size='6'><b>Digital Control</b></font><br><br>\n",
    "\n",
    "<table style=\"border-style: hidden; border-collapse: collapse;\" width = \"80%\"> \n",
    "    <tr style=\"border-style: hidden; border-collapse: collapse;\">\n",
    "        <td width = 50% style=\"border-style: hidden; border-collapse: collapse;\">\n",
    "\n",
    "        </td>\n",
    "        <td width = 30%>\n",
    "        by Seungchul Lee<br>iSystems Design lab<br>http://isystems.unist.ac.kr/<br>UNIST\n",
    "        </td>\n",
    "    </tr>\n",
    "</table>\n",
    "\n",
    "Table of Contents\n",
    "<div id=\"toc\"></div>"
   ]
  },
  {
   "cell_type": "markdown",
   "metadata": {
    "collapsed": true
   },
   "source": [
    "# 1. Control Systems\n",
    "\n",
    ">_Goal: to understand the concept of control_\n",
    "\n",
    "- Microcomputers are widely employed in control systems:\n",
    "    - automotive ABS, ignition and fuel systems\n",
    "    - household appliances\n",
    "    - smart weapons\n",
    "    - industrial robots\n",
    "\n",
    "- Human-in-the-loop\n",
    "    - many examples in our life\n",
    "\n",
    "<br>\n",
    "<font size='3'><b>Strategy</b></font>\n",
    "\n",
    "- plant is a system that is intended to be controlled\n",
    "\n",
    "- collect information concerning the plant - data acquisition system (DAQ)\n",
    "\n",
    "- compare with desired performance\n",
    "\n",
    "- generate outputs to bring plant closer to desired performance\n",
    "\n",
    "<br>\n",
    "<font size='3'><b>Performance metrics</b></font>\n",
    "\n",
    "- steady-state controller error\n",
    "    - an average value of the difference between desired and actual performance\n",
    "\n",
    "- transient response\n",
    "    - how quickly the system responds to change\n",
    "\n",
    "- stability\n",
    "    - system output changes smoothly without too much oscillation or unlimited excursions\n",
    "\n",
    "<br>\n",
    "<font size='3'><b>Open-loop control</b></font>\n",
    "\n",
    "- state estimator eliminated\n",
    "    - not well suited for a complex plant\n",
    "\n",
    "- assumes disturbing forces have little effect on the plant\n",
    "\n",
    "- less expensive than closed-loop control\n",
    "    - example: electric toaster\n",
    "\n",
    "<br>\n",
    "<font size='3'><b>Closed-loop control</b></font>\n",
    "\n",
    "- feedback loop implementation\n",
    "    - suitable for a complex plant\n",
    "\n",
    "- sensors and state estimator produce representaiton/estimation of state variables\n",
    "\n",
    "- these values are compared to desired values\n",
    "\n",
    "- control software generates control commands based upon the differences between estimated and desired values\n"
   ]
  },
  {
   "cell_type": "code",
   "execution_count": 13,
   "metadata": {
    "collapsed": false
   },
   "outputs": [
    {
     "data": {
      "text/html": [
       "<iframe src=\"https://www.youtube.com/embed/UVAn6sGnQ38?start=0&end=400\"\n",
       "width=\"420\" height=\"315\" frameborder=\"0\" allowfullscreen></iframe>"
      ],
      "text/plain": [
       "<IPython.core.display.HTML object>"
      ]
     },
     "metadata": {},
     "output_type": "display_data"
    }
   ],
   "source": [
    "%%html\n",
    "<iframe src=\"https://www.youtube.com/embed/UVAn6sGnQ38?start=0&end=400\"\n",
    "width=\"420\" height=\"315\" frameborder=\"0\" allowfullscreen></iframe>"
   ]
  },
  {
   "cell_type": "markdown",
   "metadata": {},
   "source": [
    "# 2. PID Control\n",
    "\n",
    "## 2.1. What is PID control ?\n",
    "\n",
    "> _Goal: To understand the PID control (the most common and popular control method)_\n",
    "\n",
    "<img src='./image_files/Pid-feedback-nct-int-correct.png' width = 500>\n",
    "\n",
    "PID lectures from 'Control of Mobile Robots' by Prof. Magnus Egerstedt (Georgia Tech)\n",
    "- Must watch the below 3 video lectures to understand the concepts of PID control"
   ]
  },
  {
   "cell_type": "code",
   "execution_count": 14,
   "metadata": {
    "collapsed": false
   },
   "outputs": [
    {
     "data": {
      "text/html": [
       "<iframe src=\"https://www.youtube.com/embed/DJuo9kLdr4M?list=PLp8ijpvp8iCvFDYdcXqqYU5Ibl_aOqwjr\" \n",
       "width=\"560\" height=\"315\" frameborder=\"0\" allowfullscreen></iframe>"
      ],
      "text/plain": [
       "<IPython.core.display.HTML object>"
      ]
     },
     "metadata": {},
     "output_type": "display_data"
    }
   ],
   "source": [
    "%%html\n",
    "<iframe src=\"https://www.youtube.com/embed/DJuo9kLdr4M?list=PLp8ijpvp8iCvFDYdcXqqYU5Ibl_aOqwjr\" \n",
    "width=\"560\" height=\"315\" frameborder=\"0\" allowfullscreen></iframe>"
   ]
  },
  {
   "cell_type": "code",
   "execution_count": 15,
   "metadata": {
    "collapsed": false
   },
   "outputs": [
    {
     "data": {
      "text/html": [
       "<iframe src=\"https://www.youtube.com/embed/cQhqx65kLfM?list=PLp8ijpvp8iCvFDYdcXqqYU5Ibl_aOqwjr\" \n",
       "width=\"560\" height=\"315\" frameborder=\"0\" allowfullscreen></iframe>"
      ],
      "text/plain": [
       "<IPython.core.display.HTML object>"
      ]
     },
     "metadata": {},
     "output_type": "display_data"
    }
   ],
   "source": [
    "%%html\n",
    "<iframe src=\"https://www.youtube.com/embed/cQhqx65kLfM?list=PLp8ijpvp8iCvFDYdcXqqYU5Ibl_aOqwjr\" \n",
    "width=\"560\" height=\"315\" frameborder=\"0\" allowfullscreen></iframe>"
   ]
  },
  {
   "cell_type": "code",
   "execution_count": 16,
   "metadata": {
    "collapsed": false
   },
   "outputs": [
    {
     "data": {
      "text/html": [
       "<iframe src=\"https://www.youtube.com/embed/Mk1ygHj4zxw?list=PLp8ijpvp8iCvFDYdcXqqYU5Ibl_aOqwjr\" \n",
       "width=\"560\" height=\"315\" frameborder=\"0\" allowfullscreen></iframe>"
      ],
      "text/plain": [
       "<IPython.core.display.HTML object>"
      ]
     },
     "metadata": {},
     "output_type": "display_data"
    }
   ],
   "source": [
    "%%html\n",
    "<iframe src=\"https://www.youtube.com/embed/Mk1ygHj4zxw?list=PLp8ijpvp8iCvFDYdcXqqYU5Ibl_aOqwjr\" \n",
    "width=\"560\" height=\"315\" frameborder=\"0\" allowfullscreen></iframe>"
   ]
  },
  {
   "cell_type": "markdown",
   "metadata": {},
   "source": [
    "## 2.2. Digital PID Control\n",
    "\n",
    "> _Goal: from continuous to digial control_\n",
    "\n",
    "$$\n",
    "\\begin{align*}\n",
    "E &= X^{*} - X\\\\ \\\\\n",
    "U &= U_p + U_i + U_d\n",
    "\\end{align*}\n",
    "$$\n",
    "\n",
    "<br>\n",
    "$$\n",
    "\\begin{align*}\n",
    "\\text{Proportional} \\qquad & U_p = K_p E \\\\ \\\\\n",
    "\\text{Integral} \\qquad & U_i = U_i + K_i \\, E \\, \\Delta t \\\\ \\\\\n",
    "\\text{Derivative} \\qquad & U_d = K_d \\, \\frac{E[n] - E[n-1]}{\\Delta t}\n",
    "\\end{align*}\n",
    "$$\n",
    "\n",
    "- Rule of thumb\n",
    "    - Run 10 times faster than a plant time constant\n",
    "    - Run slower or equal to sensor sampling rate\n",
    "    - if sensor signals are too noisy, do not use a derivative term in a feedback control\n",
    "    - if there is a delay in a closed-loop, the system tends to be unstable\n",
    "    - lifesaver: $\\min \\leq U \\leq \\max$"
   ]
  },
  {
   "cell_type": "markdown",
   "metadata": {},
   "source": [
    "PID lectures from  'Design of Embedded Systems' by Prof. Jonathan W. Valvano (UT, Austin)\n",
    "- Brief introduction to PID control and _digital_ control"
   ]
  },
  {
   "cell_type": "code",
   "execution_count": 1,
   "metadata": {
    "collapsed": false
   },
   "outputs": [
    {
     "data": {
      "text/html": [
       "<iframe src=\"https://www.youtube.com/embed/UVAn6sGnQ38?start=400\"\n",
       "width=\"420\" height=\"315\" frameborder=\"0\" allowfullscreen></iframe>"
      ],
      "text/plain": [
       "<IPython.core.display.HTML object>"
      ]
     },
     "metadata": {},
     "output_type": "display_data"
    }
   ],
   "source": [
    "%%html\n",
    "<iframe src=\"https://www.youtube.com/embed/UVAn6sGnQ38?start=400\"\n",
    "width=\"420\" height=\"315\" frameborder=\"0\" allowfullscreen></iframe>"
   ]
  },
  {
   "cell_type": "markdown",
   "metadata": {},
   "source": [
    "# 3. Implementation of PID Control \n",
    "\n",
    "> _Goal: PID implementation with Arduino_\n",
    "\n",
    "- Position-stabilizing a propeller-levitated arm\n",
    "- Example from 'Introduction to Control System Design - A First Look' by Prof. Jacob White (MIT)\n",
    "\n",
    "<img src='./image_files/pid_isystems.jpg' width = 500>"
   ]
  },
  {
   "cell_type": "markdown",
   "metadata": {},
   "source": [
    "## 3.1. Overview"
   ]
  },
  {
   "cell_type": "code",
   "execution_count": 11,
   "metadata": {
    "collapsed": false
   },
   "outputs": [
    {
     "data": {
      "text/html": [
       "<iframe src=\"https://www.youtube.com/embed/N8UX_TDMn-Y?list=PLBD_gON7g_m3th-gxjQRma1z-1Cc8M7t4\" \n",
       "width=\"560\" height=\"315\" frameborder=\"0\" allowfullscreen></iframe>"
      ],
      "text/plain": [
       "<IPython.core.display.HTML object>"
      ]
     },
     "metadata": {},
     "output_type": "display_data"
    }
   ],
   "source": [
    "%%html\n",
    "<iframe src=\"https://www.youtube.com/embed/N8UX_TDMn-Y?list=PLBD_gON7g_m3th-gxjQRma1z-1Cc8M7t4\" \n",
    "width=\"560\" height=\"315\" frameborder=\"0\" allowfullscreen></iframe>"
   ]
  },
  {
   "cell_type": "markdown",
   "metadata": {},
   "source": [
    "__PID DC motor control examples__"
   ]
  },
  {
   "cell_type": "code",
   "execution_count": 9,
   "metadata": {
    "collapsed": false
   },
   "outputs": [
    {
     "data": {
      "text/html": [
       "<iframe src=\"https://www.youtube.com/embed/5yaVvEfKF84\" \n",
       "width=\"560\" height=\"315\" frameborder=\"0\" allowfullscreen></iframe>"
      ],
      "text/plain": [
       "<IPython.core.display.HTML object>"
      ]
     },
     "metadata": {},
     "output_type": "display_data"
    }
   ],
   "source": [
    "%%html\n",
    "<iframe src=\"https://www.youtube.com/embed/5yaVvEfKF84\" \n",
    "width=\"560\" height=\"315\" frameborder=\"0\" allowfullscreen></iframe>"
   ]
  },
  {
   "cell_type": "markdown",
   "metadata": {},
   "source": [
    "<img src='./image_files/images_w07.png' width = 600>\n"
   ]
  },
  {
   "cell_type": "markdown",
   "metadata": {},
   "source": [
    "## 3.2. Electronic components and circuit\n",
    "\n",
    "<img src='./image_files/labeledschematic.png' width = 500>\n",
    "\n",
    "include fritzing image"
   ]
  },
  {
   "cell_type": "markdown",
   "metadata": {},
   "source": [
    "## 3.3. Arduino PID codes\n",
    "\n",
    "$$\n",
    "\\begin{align*}\n",
    "E &= X^{*} - X\\\\ \\\\\n",
    "U &= U_p + U_i + U_d\n",
    "\\end{align*}\n",
    "$$\n",
    "\n",
    "<br>\n",
    "$$\n",
    "\\begin{align*}\n",
    "\\text{Proportional} \\qquad & U_p = K_p E \\\\ \\\\\n",
    "\\text{Integral} \\qquad & U_i = U_i + K_i \\, E \\, \\Delta t \\\\ \\\\\n",
    "\\text{Derivative} \\qquad & U_d = K_d \\, \\frac{E[n] - E[n-1]}{\\Delta t}\n",
    "\\end{align*}\n",
    "$$\n",
    "\n",
    "http://robotsforroboticists.com/pid-control/\n",
    "\n",
    "http://brettbeauregard.com/blog/2011/04/improving-the-beginners-pid-introduction/\n",
    "\n",
    "https://nicisdigital.wordpress.com/2011/06/27/proportional-integral-derivative-pid-controller/\n",
    "\n",
    "http://www.maelabs.ucsd.edu/mae156alib/control/PID-Control-Ardunio.pdf\n",
    "\n",
    "See Arduino library code"
   ]
  },
  {
   "cell_type": "code",
   "execution_count": 10,
   "metadata": {
    "collapsed": false
   },
   "outputs": [
    {
     "data": {
      "text/html": [
       "<iframe src=\"https://www.youtube.com/embed/B5OVCONRZP0\" \n",
       "width=\"560\" height=\"315\" frameborder=\"0\" allowfullscreen></iframe>"
      ],
      "text/plain": [
       "<IPython.core.display.HTML object>"
      ]
     },
     "metadata": {},
     "output_type": "display_data"
    }
   ],
   "source": [
    "%%html\n",
    "<iframe src=\"https://www.youtube.com/embed/B5OVCONRZP0\" \n",
    "width=\"560\" height=\"315\" frameborder=\"0\" allowfullscreen></iframe>"
   ]
  },
  {
   "cell_type": "markdown",
   "metadata": {},
   "source": [
    "Arduino 1\n",
    "\n",
    "- Fixed kP, kI, kD values\n",
    "\n",
    "\n",
    "```c\n",
    "const int pin_motorPwm = 3;\n",
    "const int pin_analogRead = A0;\n",
    "const unsigned char dt = 2; // (ms)\n",
    "\n",
    "double target = 510.0;\n",
    "double kP = 0.45;\n",
    "double kI = 0.0009;\n",
    "double kD = 115.0;\n",
    "\n",
    "double P, I, D = 0;\n",
    "double actual = 0.;\n",
    "double error = 0.;\n",
    "double error_last = 0.;\n",
    "int drive = 0;\n",
    "\n",
    "unsigned long lPrevMillis = 0;\n",
    "unsigned long lCurrMillis = 0;\n",
    "\n",
    "void setup() {\n",
    "  pinMode(pin_analogRead, INPUT);\n",
    "  pinMode(pin_motorPwm, OUTPUT);\n",
    "}\n",
    "\n",
    "void loop() {\n",
    "  ///////////////////////////////////////////////////////////\n",
    "  //                  PID Control\n",
    "  ///////////////////////////////////////////////////////////\n",
    "  lCurrMillis = millis();\n",
    "\n",
    "  if (lCurrMillis - lPrevMillis >= dt)\n",
    "  {\n",
    "    lPrevMillis = lCurrMillis;\n",
    "    actual = analogRead(pin_analogRead);\n",
    "\n",
    "    error = target - actual;\n",
    "\n",
    "    P = kP * error;\n",
    "    I += kI * error * (double)dt;\n",
    "    D = kD * (error - error_last) / (double)dt;\n",
    "\n",
    "    drive = (int)(P + I + D) + 30;\n",
    "\n",
    "    if (drive < 0)\n",
    "      drive = 0;\n",
    "    else if (drive > 255)\n",
    "      drive = 255;\n",
    "\n",
    "    analogWrite(pin_motorPwm, drive);\n",
    "\n",
    "    error_last = error;\n",
    "  }\n",
    "  //---------------------------------------------------------\n",
    "}\n",
    "\n",
    "```\n",
    "\n",
    "<br>\n",
    "<br>\n",
    "\n",
    "Arduino 2\n",
    "- Changeable kP, kI, kD values through serial communication\n",
    "- PID 값을 serial monitor 에서 계수 변화시키는 코드\n",
    "\n",
    "```c\n",
    "```"
   ]
  },
  {
   "cell_type": "markdown",
   "metadata": {},
   "source": [
    "## 3.4. Arduino PID and Python\n",
    "\n",
    "Arduino 3\n",
    "- 민섭이가 한 GUI"
   ]
  },
  {
   "cell_type": "markdown",
   "metadata": {},
   "source": [
    "Arduino code\n",
    "\n",
    "- 범수가 민섭이와 이야기 해서 우리 수업에 맞게 수정하도록."
   ]
  },
  {
   "cell_type": "markdown",
   "metadata": {},
   "source": [
    "```c\n",
    "int pin_motorPwm = 9;\n",
    "int pin_analogRead = A0;\n",
    "\n",
    "float fTarget = 0.f;\n",
    "long lTarget = 0;\n",
    "float kP = 1.5;\n",
    "float kI = 0.01;\n",
    "float kD = 33;\n",
    "float fError = 0.f;\n",
    "float fActual = 0.f;\n",
    "float fIntegral = 0.f;\n",
    "float fLast = 0.f;\n",
    "float fIntThresh = 100.f;\n",
    "\n",
    "char cInput = '\\0';\n",
    "\n",
    "int nSerOutCount = 0;\n",
    "char nSettingOutCount = 0;\n",
    "\n",
    "unsigned long lPrevMillis = 0;\n",
    "unsigned long lCurrMillis = 0;\n",
    "\n",
    "int SerialReadInt(long* lpValue);\n",
    "\n",
    "\n",
    "void setup() {\n",
    "  Serial.begin(9600);\n",
    "  pinMode(pin_analogRead, INPUT);\n",
    "  pinMode(pin_motorPwm, OUTPUT);\n",
    "}\n",
    "\n",
    "\n",
    "void loop() {\n",
    "  ///////////////////////////////////////////////////////////\n",
    "  //                  PID Control\n",
    "  ///////////////////////////////////////////////////////////\n",
    "  lCurrMillis = millis();\n",
    "  if (lCurrMillis - lPrevMillis >= 10)\n",
    "  {\n",
    "    lPrevMillis = lCurrMillis;\n",
    "\n",
    "    fActual = analogRead(pin_analogRead);\n",
    "    fError = fTarget - fActual;\n",
    "\n",
    "    if (abs(fError) < fIntThresh)\n",
    "      fIntegral = fIntegral + fError;\n",
    "    else\n",
    "      fIntegral = 0.f;\n",
    "\n",
    "    float P = fError * kP;\n",
    "    float I = fIntegral * kI;\n",
    "    float D = (fLast - fActual) * kD;\n",
    "    int nDrive = (int)(P + I + D);\n",
    "\n",
    "    if (nDrive < 0)\n",
    "      nDrive = 0;\n",
    "    else if (nDrive > 255)\n",
    "      nDrive = 255;\n",
    "\n",
    "    if (fTarget > 300) analogWrite(pin_motorPwm, nDrive);\n",
    "    else analogWrite(pin_motorPwm, 0);\n",
    "\n",
    "    fLast = fActual;\n",
    "\n",
    "    nSerOutCount++;\n",
    "  }\n",
    "  //---------------------------------------------------------\n",
    "\n",
    "  ////////////////////////////////////////////////////////////\n",
    "  //            Serial Communication Output\n",
    "  ////////////////////////////////////////////////////////////\n",
    "  if (nSerOutCount >= 5)\n",
    "  {\n",
    "    Serial.print(\"KR\");\n",
    "    Serial.print(fActual); // Current position\n",
    "    Serial.print(',');\n",
    "    Serial.println(fTarget); // Target position\n",
    "\n",
    "    if (nSettingOutCount == 0)\n",
    "    {\n",
    "      Serial.print(\"KP\"); // kp\n",
    "      Serial.println(kP, 3);\n",
    "    }\n",
    "    else if (nSettingOutCount == 1)\n",
    "    {\n",
    "      Serial.print(\"KI\"); // ki\n",
    "      Serial.println(kI, 3);\n",
    "    }\n",
    "    else if (nSettingOutCount == 2)\n",
    "    {\n",
    "      Serial.print(\"KD\"); // kd\n",
    "      Serial.println(kD, 3);\n",
    "      nSettingOutCount = -1;\n",
    "    }\n",
    "    nSettingOutCount++;\n",
    "    nSerOutCount = 0;\n",
    "  }\n",
    "  //----------------------------------------------------------\n",
    "\n",
    "  //////////////////////////////////////////////////////////////\n",
    "  //             Serial Communication Input\n",
    "  //////////////////////////////////////////////////////////////\n",
    "  if (Serial.available() > 0)\n",
    "  {\n",
    "    char cTemp = Serial.peek();\n",
    "    if (cTemp >= 'A' && cTemp <= 'X')\n",
    "    {\n",
    "      cInput = cTemp;\n",
    "      Serial.read();\n",
    "    }\n",
    "\n",
    "    if (SerialReadInt(&lTarget) == 1)\n",
    "    {\n",
    "      if (cInput == 'P') // kp value\n",
    "      {\n",
    "        kP = (float)lTarget * 0.001;\n",
    "        cInput = '\\0';\n",
    "      }\n",
    "      else if (cInput == 'I') // ki value\n",
    "      {\n",
    "        kI = (float)lTarget * 0.001;\n",
    "        cInput = '\\0';\n",
    "      }\n",
    "      else if (cInput == 'D') // kd value\n",
    "      {\n",
    "        kD = (float)lTarget * 0.001;\n",
    "        cInput = '\\0';\n",
    "      }\n",
    "      else // target position value\n",
    "      {\n",
    "        fTarget = (float)lTarget;\n",
    "      }\n",
    "    }\n",
    "  }\n",
    "  //-------------------------------------------------------------\n",
    "} // End of the loop() function\n",
    "\n",
    "\n",
    "int SerialReadInt(long* lpValue)\n",
    "{\n",
    "  // static 변수 선언\n",
    "  static long lBuff = 0; // 숫자를 저장할 버퍼\n",
    "  static bool bIsNegative = false; // 음수 여부 저장\n",
    "  static unsigned char cPrecision = 0; // 저장되고 있는 숫자의 자릿수\n",
    "\n",
    "  if (Serial.available() > 0) // 읽을 수 있는 데이터가 있는지 확인\n",
    "  {\n",
    "    char c = Serial.read(); // 한 바이트 값을 읽어온다.\n",
    "\n",
    "    if ( c == '-' && cPrecision == 0) // 첫번째 데이터가 '-'인지 확인\n",
    "    {\n",
    "      bIsNegative = true;\n",
    "    }\n",
    "    else if ( c >= '0' && c <= '9') // c값이 숫자인지 확인\n",
    "    {\n",
    "      // 기존의 저장된 숫자를 한자리 올리고 첫째 자리에 읽어온 숫자를 더한다.\n",
    "      lBuff = lBuff * 10 + c - '0';\n",
    "      cPrecision++;\n",
    "    }\n",
    "    else // '-'나 숫자가 아닌 값이 들어오면...\n",
    "    {\n",
    "      if (cPrecision) // 읽어온 숫자의 자릿수가 0보다 크면...\n",
    "      {\n",
    "        if (bIsNegative) // 음수 변환\n",
    "          lBuff = -lBuff;\n",
    "        *lpValue = lBuff; // 변환된 정수값 출력\n",
    "        // 변수 초기화\n",
    "        lBuff = 0;\n",
    "        bIsNegative = false;\n",
    "        cPrecision = 0;\n",
    "        return 1; // 정수값이 출력되었는지에 대한 플래그 출력\n",
    "      }\n",
    "      else\n",
    "      {\n",
    "        lBuff = 0;\n",
    "        bIsNegative = false;\n",
    "        cPrecision = 0;\n",
    "        return -1;\n",
    "      }\n",
    "    }\n",
    "  }\n",
    "  return 0;\n",
    "}\n",
    "```"
   ]
  },
  {
   "cell_type": "markdown",
   "metadata": {},
   "source": [
    "Python code\n",
    "\n",
    "- Include GUI snapshot"
   ]
  },
  {
   "cell_type": "code",
   "execution_count": 12,
   "metadata": {
    "collapsed": false
   },
   "outputs": [
    {
     "data": {
      "application/javascript": [
       "$.getScript('https://kmahelona.github.io/ipython_notebook_goodies/ipython_notebook_toc.js')"
      ],
      "text/plain": [
       "<IPython.core.display.Javascript object>"
      ]
     },
     "metadata": {},
     "output_type": "display_data"
    }
   ],
   "source": [
    "%%javascript\n",
    "$.getScript('https://kmahelona.github.io/ipython_notebook_goodies/ipython_notebook_toc.js')"
   ]
  }
 ],
 "metadata": {
  "anaconda-cloud": {},
  "kernelspec": {
   "display_name": "Python [Root]",
   "language": "python",
   "name": "Python [Root]"
  },
  "language_info": {
   "codemirror_mode": {
    "name": "ipython",
    "version": 3
   },
   "file_extension": ".py",
   "mimetype": "text/x-python",
   "name": "python",
   "nbconvert_exporter": "python",
   "pygments_lexer": "ipython3",
   "version": "3.5.2"
  }
 },
 "nbformat": 4,
 "nbformat_minor": 0
}

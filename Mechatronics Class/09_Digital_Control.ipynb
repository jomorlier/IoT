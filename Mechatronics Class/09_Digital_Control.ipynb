{
 "cells": [
  {
   "cell_type": "markdown",
   "metadata": {
    "collapsed": true
   },
   "source": [
    "<br>\n",
    "<font size='6'><b>Digital Control</b></font><br><br>\n",
    "\n",
    "<table style=\"border-style: hidden; border-collapse: collapse;\" width = \"80%\"> \n",
    "    <tr style=\"border-style: hidden; border-collapse: collapse;\">\n",
    "        <td width = 50% style=\"border-style: hidden; border-collapse: collapse;\">\n",
    "\n",
    "        </td>\n",
    "        <td width = 30%>\n",
    "        by Seungchul Lee<br>iSystems Design lab<br>http://isystems.unist.ac.kr/<br>UNIST\n",
    "        </td>\n",
    "    </tr>\n",
    "</table>\n",
    "\n",
    "Table of Contents\n",
    "<div id=\"toc\"></div>"
   ]
  },
  {
   "cell_type": "markdown",
   "metadata": {
    "collapsed": true
   },
   "source": [
    "# 1. Control Systems\n",
    "\n",
    "_Goal: to understand the concept of control_\n",
    "\n",
    "- Microcomputers are widely employed in control systems:\n",
    "    - automotive ABS, ignition and fuel systems\n",
    "    - household appliances\n",
    "    - smart weapons\n",
    "    - industrial robots\n",
    "\n",
    "- Human-in-the-loop\n",
    "    - many examples in our life\n",
    "\n",
    "<br>\n",
    "<font size='3'><b>Strategy</b></font>\n",
    "\n",
    "- plant is a system that is intended to be controlled\n",
    "\n",
    "- collect information concerning the plant - data acquisition system (DAQ)\n",
    "\n",
    "- compare with desired performance\n",
    "\n",
    "- generate outputs to bring plant closer to desired performance\n",
    "\n",
    "<br>\n",
    "<font size='3'><b>Performance metrics</b></font>\n",
    "\n",
    "- steady-state controller error\n",
    "    - an average value of the difference between desired and actual performance\n",
    "\n",
    "- transient response\n",
    "    - how quickly the system responds to change\n",
    "\n",
    "- stability\n",
    "    - system output changes smoothly without too much oscillation or unlimited excursions\n",
    "\n",
    "<br>\n",
    "<font size='3'><b>Open-loop control</b></font>\n",
    "\n",
    "- state estimator eliminated\n",
    "    - not well suited for a complex plant\n",
    "\n",
    "- assumes disturbing forces have little effect on the plant\n",
    "\n",
    "- less expensive than closed-loop control\n",
    "    - example: electric toaster\n",
    "\n",
    "<br>\n",
    "<font size='3'><b>Closed-loop control</b></font>\n",
    "\n",
    "- feedback loop implementation\n",
    "    - suitable for a complex plant\n",
    "\n",
    "- sensors and state estimator produce representaiton/estimation of state variables\n",
    "\n",
    "- these values are compared to desired values\n",
    "\n",
    "- control software generates control commands based upon the differences between estimated and desired values\n"
   ]
  },
  {
   "cell_type": "code",
   "execution_count": 4,
   "metadata": {
    "collapsed": false
   },
   "outputs": [
    {
     "data": {
      "text/html": [
       "<iframe src=\"https://www.youtube.com/embed/UVAn6sGnQ38?start=0&end=400\"\n",
       "width=\"420\" height=\"315\" frameborder=\"0\" allowfullscreen></iframe>"
      ],
      "text/plain": [
       "<IPython.core.display.HTML object>"
      ]
     },
     "metadata": {},
     "output_type": "display_data"
    }
   ],
   "source": [
    "%%html\n",
    "<iframe src=\"https://www.youtube.com/embed/UVAn6sGnQ38?start=0&end=400\"\n",
    "width=\"420\" height=\"315\" frameborder=\"0\" allowfullscreen></iframe>"
   ]
  },
  {
   "cell_type": "markdown",
   "metadata": {},
   "source": [
    "# 2. PID Control\n",
    "\n",
    "## 2.1. What is PID control ?\n",
    "\n",
    "_Goal: To understand the PID control (the most common and popular control method)_\n",
    "\n",
    "<br>\n",
    "$$\n",
    "\\begin{align*}\n",
    "e &= x^* - x\\\\\n",
    "u &= K_p e + K_i \\int e \\,dt + K_d \\frac{de}{dt}\n",
    "\\end{align*}\n",
    "$$\n",
    "\n",
    "<br>\n",
    "<img src='./image_files/Pid-feedback-nct-int-correct.png' width = 500>\n",
    "\n",
    "PID lectures from 'Control of Mobile Robots' by Prof. Magnus Egerstedt (Georgia Tech)\n",
    "- Must watch the below 3 video lectures to understand the basic concept of PID control"
   ]
  },
  {
   "cell_type": "code",
   "execution_count": 5,
   "metadata": {
    "collapsed": false
   },
   "outputs": [
    {
     "data": {
      "text/html": [
       "<iframe src=\"https://www.youtube.com/embed/DJuo9kLdr4M?list=PLp8ijpvp8iCvFDYdcXqqYU5Ibl_aOqwjr\" \n",
       "width=\"560\" height=\"315\" frameborder=\"0\" allowfullscreen></iframe>"
      ],
      "text/plain": [
       "<IPython.core.display.HTML object>"
      ]
     },
     "metadata": {},
     "output_type": "display_data"
    }
   ],
   "source": [
    "%%html\n",
    "<iframe src=\"https://www.youtube.com/embed/DJuo9kLdr4M?list=PLp8ijpvp8iCvFDYdcXqqYU5Ibl_aOqwjr\" \n",
    "width=\"560\" height=\"315\" frameborder=\"0\" allowfullscreen></iframe>"
   ]
  },
  {
   "cell_type": "code",
   "execution_count": 6,
   "metadata": {
    "collapsed": false
   },
   "outputs": [
    {
     "data": {
      "text/html": [
       "<iframe src=\"https://www.youtube.com/embed/cQhqx65kLfM?list=PLp8ijpvp8iCvFDYdcXqqYU5Ibl_aOqwjr\" \n",
       "width=\"560\" height=\"315\" frameborder=\"0\" allowfullscreen></iframe>"
      ],
      "text/plain": [
       "<IPython.core.display.HTML object>"
      ]
     },
     "metadata": {},
     "output_type": "display_data"
    }
   ],
   "source": [
    "%%html\n",
    "<iframe src=\"https://www.youtube.com/embed/cQhqx65kLfM?list=PLp8ijpvp8iCvFDYdcXqqYU5Ibl_aOqwjr\" \n",
    "width=\"560\" height=\"315\" frameborder=\"0\" allowfullscreen></iframe>"
   ]
  },
  {
   "cell_type": "code",
   "execution_count": 7,
   "metadata": {
    "collapsed": false
   },
   "outputs": [
    {
     "data": {
      "text/html": [
       "<iframe src=\"https://www.youtube.com/embed/Mk1ygHj4zxw?list=PLp8ijpvp8iCvFDYdcXqqYU5Ibl_aOqwjr\" \n",
       "width=\"560\" height=\"315\" frameborder=\"0\" allowfullscreen></iframe>"
      ],
      "text/plain": [
       "<IPython.core.display.HTML object>"
      ]
     },
     "metadata": {},
     "output_type": "display_data"
    }
   ],
   "source": [
    "%%html\n",
    "<iframe src=\"https://www.youtube.com/embed/Mk1ygHj4zxw?list=PLp8ijpvp8iCvFDYdcXqqYU5Ibl_aOqwjr\" \n",
    "width=\"560\" height=\"315\" frameborder=\"0\" allowfullscreen></iframe>"
   ]
  },
  {
   "cell_type": "markdown",
   "metadata": {},
   "source": [
    "## 2.2. Digital PID Control\n",
    "\n",
    "_Goal: from continuous to digital control_\n",
    "\n",
    "<br>\n",
    "<table style=\"border-style: hidden; border-collapse: collapse;\" width = \"70%\"> \n",
    "    <tr style=\"border-style: hidden; border-collapse: collapse;\">\n",
    "        <td width = 40% style=\"border-style: hidden; border-collapse: collapse;\">\n",
    "$$\n",
    "\\begin{align*}\n",
    "e &= x^* - x\\\\ \\\\\n",
    "u &= u_p + u_i + u_d\\\\ \\\\\n",
    "\\text{Proportional} \\qquad  u_p &= K_p e \\\\ \\\\\n",
    "\\text{Integral} \\qquad u_i &= K_i \\int e \\,dt \\\\ \\\\\n",
    "\\text{Derivative} \\qquad u_d &= K_d \\frac{de}{dt}\n",
    "\\end{align*}\n",
    "$$\n",
    "        </td>\n",
    "        <td width = 40%>\n",
    "$$\n",
    "\\begin{align*}\n",
    "E &= X^{*} - X\\\\ \\\\\n",
    "U &= U_p + U_i + U_d \\\\ \\\\\n",
    "U_p &= K_p E \\\\ \\\\\n",
    "U_i &= U_i + K_i \\, E \\, \\Delta t \\\\ \\\\\n",
    "U_d &= K_d \\, \\frac{E[n] - E[n-1]}{\\Delta t}\n",
    "\\end{align*}\n",
    "$$\n",
    "        </td>\n",
    "    </tr>\n",
    "</table>\n",
    "<br>\n",
    "\n",
    "- Rule of thumb\n",
    "    - Run 10 times faster than a plant time constant\n",
    "    - Run slower or equal to sensor sampling rate\n",
    "    - if sensor signals are too noisy, do not use a derivative term in a feedback control\n",
    "    - if there is a delay in a closed-loop, the system tends to be unstable\n",
    "    - lifesaver: $\\min \\leq U \\leq \\max$"
   ]
  },
  {
   "cell_type": "markdown",
   "metadata": {},
   "source": [
    "PID lectures from  'Design of Embedded Systems' by Prof. Jonathan W. Valvano (UT, Austin)\n",
    "- Brief introduction to PID control and _digital_ control"
   ]
  },
  {
   "cell_type": "code",
   "execution_count": 8,
   "metadata": {
    "collapsed": false
   },
   "outputs": [
    {
     "data": {
      "text/html": [
       "<iframe src=\"https://www.youtube.com/embed/UVAn6sGnQ38?start=400\"\n",
       "width=\"420\" height=\"315\" frameborder=\"0\" allowfullscreen></iframe>"
      ],
      "text/plain": [
       "<IPython.core.display.HTML object>"
      ]
     },
     "metadata": {},
     "output_type": "display_data"
    }
   ],
   "source": [
    "%%html\n",
    "<iframe src=\"https://www.youtube.com/embed/UVAn6sGnQ38?start=400\"\n",
    "width=\"420\" height=\"315\" frameborder=\"0\" allowfullscreen></iframe>"
   ]
  },
  {
   "cell_type": "markdown",
   "metadata": {},
   "source": [
    "# 3. Implementation of PID Control \n",
    "\n",
    "_Goal: PID implementation with Arduino_\n",
    "\n",
    "- Position-stabilizing a propeller-levitated arm\n",
    "- Example from 'Introduction to Control System Design - A First Look' by Prof. Jacob White (MIT)\n",
    "\n",
    "<img src='./image_files/pid_isystems.jpg' width = 500>"
   ]
  },
  {
   "cell_type": "markdown",
   "metadata": {},
   "source": [
    "## 3.1. Overview"
   ]
  },
  {
   "cell_type": "markdown",
   "metadata": {},
   "source": [
    "__PID DC motor control examples__"
   ]
  },
  {
   "cell_type": "code",
   "execution_count": 2,
   "metadata": {
    "collapsed": false
   },
   "outputs": [
    {
     "data": {
      "text/html": [
       "<iframe src=\"https://www.youtube.com/embed/N8UX_TDMn-Y?list=PLBD_gON7g_m3th-gxjQRma1z-1Cc8M7t4\" \n",
       "width=\"560\" height=\"315\" frameborder=\"0\" allowfullscreen></iframe>"
      ],
      "text/plain": [
       "<IPython.core.display.HTML object>"
      ]
     },
     "metadata": {},
     "output_type": "display_data"
    }
   ],
   "source": [
    "%%html\n",
    "<iframe src=\"https://www.youtube.com/embed/N8UX_TDMn-Y?list=PLBD_gON7g_m3th-gxjQRma1z-1Cc8M7t4\" \n",
    "width=\"560\" height=\"315\" frameborder=\"0\" allowfullscreen></iframe>"
   ]
  },
  {
   "cell_type": "code",
   "execution_count": 3,
   "metadata": {
    "collapsed": false
   },
   "outputs": [
    {
     "data": {
      "text/html": [
       "<iframe src=\"https://www.youtube.com/embed/5yaVvEfKF84\" \n",
       "width=\"560\" height=\"315\" frameborder=\"0\" allowfullscreen></iframe>"
      ],
      "text/plain": [
       "<IPython.core.display.HTML object>"
      ]
     },
     "metadata": {},
     "output_type": "display_data"
    }
   ],
   "source": [
    "%%html\n",
    "<iframe src=\"https://www.youtube.com/embed/5yaVvEfKF84\" \n",
    "width=\"560\" height=\"315\" frameborder=\"0\" allowfullscreen></iframe>"
   ]
  },
  {
   "cell_type": "markdown",
   "metadata": {},
   "source": [
    "__Equations of Motion__\n",
    "\n",
    "<img src='./image_files/images_w07.png' width = 600>"
   ]
  },
  {
   "cell_type": "markdown",
   "metadata": {},
   "source": [
    "## 3.2. Electronic components and circuit\n",
    "\n",
    "<img src='./image_files/motor_ctrl.jpg' width = 500>\n",
    "\n",
    "<img src='./image_files/PID_fritz_layout.png' width = 500>\n"
   ]
  },
  {
   "cell_type": "markdown",
   "metadata": {},
   "source": [
    "## 3.3. Arduino PID codes\n",
    "\n",
    "$$\n",
    "\\begin{align*}\n",
    "E &= X^{*} - X\\\\ \\\\\n",
    "U &= U_p + U_i + U_d\n",
    "\\end{align*}\n",
    "$$\n",
    "\n",
    "<br>\n",
    "$$\n",
    "\\begin{align*}\n",
    "\\text{Proportional} \\qquad & U_p = K_p E \\\\ \\\\\n",
    "\\text{Integral} \\qquad & U_i = U_i + K_i \\, E \\, \\Delta t \\\\ \\\\\n",
    "\\text{Derivative} \\qquad & U_d = K_d \\, \\frac{E[n] - E[n-1]}{\\Delta t}\n",
    "\\end{align*}\n",
    "$$"
   ]
  },
  {
   "cell_type": "code",
   "execution_count": 1,
   "metadata": {
    "collapsed": false
   },
   "outputs": [
    {
     "data": {
      "text/html": [
       "<iframe src=\"https://www.youtube.com/embed/B5OVCONRZP0?start=387\" \n",
       "width=\"560\" height=\"315\" frameborder=\"0\" allowfullscreen></iframe>"
      ],
      "text/plain": [
       "<IPython.core.display.HTML object>"
      ]
     },
     "metadata": {},
     "output_type": "display_data"
    }
   ],
   "source": [
    "%%html\n",
    "<iframe src=\"https://www.youtube.com/embed/B5OVCONRZP0?start=387\" \n",
    "width=\"560\" height=\"315\" frameborder=\"0\" allowfullscreen></iframe>"
   ]
  },
  {
   "cell_type": "markdown",
   "metadata": {},
   "source": [
    "__Arduino 1__\n",
    "\n",
    "- Fixed kP, kI, kD values\n",
    "\n",
    "\n",
    "```c\n",
    "const int pin_motorPwm = 3;\n",
    "const int pin_analogRead = A0;\n",
    "\n",
    "float dt = 0.01; // (sec)\n",
    "float targetAngle = 180; // (degree)\n",
    "float target = 0;\n",
    "\n",
    "float kP = 0.45;\n",
    "float kI = 0.9;\n",
    "float kD = 0.115;\n",
    "\n",
    "float P, I, D = 0;\n",
    "float actual = 0.;\n",
    "float error = 0.;\n",
    "float error_last = 0.;\n",
    "\n",
    "int u = 0;\n",
    "\n",
    "unsigned long lPrevMillis = 0;\n",
    "unsigned long lCurrMillis = 0;\n",
    "\n",
    "void setup() {\n",
    "  pinMode(pin_analogRead, INPUT);\n",
    "  pinMode(pin_motorPwm, OUTPUT);\n",
    "  target = targetAngle * 943 / 360 + 39;\n",
    "}\n",
    "\n",
    "void loop() {\n",
    "\n",
    "  ///////////////////////////////////////////////////////////\n",
    "  //                  PID Control\n",
    "  ///////////////////////////////////////////////////////////\n",
    "\n",
    "  lCurrMillis = millis();\n",
    "\n",
    "  if (lCurrMillis - lPrevMillis >= dt * 1000) {\n",
    "    lPrevMillis = lCurrMillis;\n",
    "\n",
    "    actual = analogRead(pin_analogRead);\n",
    "\n",
    "    error = target - actual;\n",
    "\n",
    "    P = kP * error;\n",
    "    I += kI * error * dt;\n",
    "    D = kD * (error - error_last) / dt;\n",
    "\n",
    "    u = (int)(P + I + D);\n",
    "\n",
    "    if (u < 0)\n",
    "      u = 0;\n",
    "    else if (u > 255)\n",
    "      u = 255;\n",
    "\n",
    "    analogWrite(pin_motorPwm, u);\n",
    "    error_last = error;\n",
    "  }\n",
    "}\n",
    "\n",
    "```\n",
    "\n",
    "<br>\n",
    "<br>\n",
    "\n",
    "__Arduino 2__\n",
    "- Changeable kP, kI, kD values through serial communication\n",
    "- Input kP, kI, kD values through serial window\n",
    "- Note that the values have to be in order (kP, kI, kD) and must be separated by commas and a space. (ex - 0.45, 0.90, 0.12)\n",
    "\n",
    "```c\n",
    "const int pin_motorPwm = 3;\n",
    "const int pin_analogRead = A0;\n",
    "\n",
    "float dt = 0.01; // (sec)\n",
    "float targetAngle = 180; // (degree)\n",
    "float target = 0;\n",
    "\n",
    "float kP = 0.45;\n",
    "float kI = 0.90;\n",
    "float kD = 0.12;\n",
    "\n",
    "float P, I, D = 0;\n",
    "float actual = 0.;\n",
    "float error = 0.;\n",
    "float error_last = 0.;\n",
    "\n",
    "int u = 0;\n",
    "\n",
    "unsigned long lPrevMillis = 0;\n",
    "unsigned long lCurrMillis = 0;\n",
    "\n",
    "void setup() {\n",
    "  pinMode(pin_analogRead, INPUT);\n",
    "  pinMode(pin_motorPwm, OUTPUT);\n",
    "  target = targetAngle * 943 / 360 + 39;\n",
    "  Serial.begin(9600);\n",
    "}\n",
    "\n",
    "void loop() {\n",
    "\n",
    "  ///////////////////////////////////////////////////////////\n",
    "  //             kP, kI, kD Values Input\n",
    "  ///////////////////////////////////////////////////////////\n",
    "\n",
    "  if (Serial.available()) {\n",
    "    String first  = Serial.readStringUntil(',');\n",
    "    Serial.read(); //next character is comma, so skip it using this\n",
    "    String second = Serial.readStringUntil(',');\n",
    "    Serial.read();\n",
    "    String third  = Serial.readStringUntil('\\0');\n",
    "    kP = first.toFloat();\n",
    "    kI = second.toFloat();\n",
    "    kD = third.toFloat();\n",
    "    Serial.println(kP);\n",
    "    Serial.println(kI);\n",
    "    Serial.println(kD);\n",
    "  }\n",
    "\n",
    "\n",
    "  ///////////////////////////////////////////////////////////\n",
    "  //                  PID Control\n",
    "  ///////////////////////////////////////////////////////////\n",
    "\n",
    "  lCurrMillis = millis();\n",
    "\n",
    "  if (lCurrMillis - lPrevMillis >= dt * 1000) {\n",
    "    lPrevMillis = lCurrMillis;\n",
    "\n",
    "    actual = analogRead(pin_analogRead);\n",
    "\n",
    "    error = target - actual;\n",
    "\n",
    "    P = kP * error;\n",
    "    I += kI * error * dt;\n",
    "    D = kD * (error - error_last) / dt;\n",
    "\n",
    "    u = (int)(P + I + D);\n",
    "\n",
    "    if (u < 0)\n",
    "      u = 0;\n",
    "    else if (u > 255)\n",
    "      u = 255;\n",
    "\n",
    "    analogWrite(pin_motorPwm, u);\n",
    "    error_last = error;\n",
    "  }\n",
    "}\n",
    "```\n",
    "\n",
    "```c\n",
    "```"
   ]
  },
  {
   "cell_type": "markdown",
   "metadata": {},
   "source": [
    "## 3.4. Arduino PID and Python\n",
    "\n",
    "_Goal: PID control with Python and Arduino_\n",
    "<br>\n",
    "\n",
    "__Arduino 3__\n",
    "- The slide bars can be adjusted to find better kP, kI, and kD values\n",
    "- The target and encoder values are plotted on the first graph, and the error values for P,I, and D are plotted subsequently\n",
    "\n",
    "<img src='./image_files/PID_gui.png' width = 700>\n",
    "<br>\n",
    "\n",
    "__Arduino code__"
   ]
  },
  {
   "cell_type": "markdown",
   "metadata": {},
   "source": [
    "```c\n",
    "const int motorPin = 3;   // assign PWM pin to actuating motor\n",
    "const int analoPin = A0;  // assign analog pin to read angle\n",
    "\n",
    "unsigned long prevTime = 0; // previous time\n",
    "\n",
    "int errorL = 0; // last error\n",
    "\n",
    "bool PID = false; // turn on PID control when this variable is true\n",
    "\n",
    "float kP = 0.45; // proportional gain\n",
    "float kI = 0.90; // integral gain\n",
    "float kD = 0.12; // derivative gain\n",
    "\n",
    "float P = 0.0; // current error from P controller\n",
    "float I = 0.0; // current error from I controller\n",
    "float D = 0.0; // current error from D controller\n",
    "\n",
    "int getInput(float P, float I, float D);\n",
    "bool isItEveryTenMillis(unsigned long currTime, float dt);\n",
    "void updateErrorData(int angleD, int angleC, float dt);\n",
    "void actuateMotor(int input);\n",
    "void sendDataToPython(int angleC, float P, float I, float D);\n",
    "void getDataFromPython();\n",
    "int getCurrentAngle();\n",
    "\n",
    "void setup() {\n",
    "  Serial.begin(9600);\n",
    "  Serial.setTimeout(10); // set time out to use readString function faster\n",
    "\n",
    "  pinMode(motorPin, OUTPUT);\n",
    "  pinMode(analoPin, INPUT);\n",
    "}\n",
    "\n",
    "void loop() {\n",
    "  float dt = 0.01; // time step [s]\n",
    "\n",
    "  int angleD = 180.0 * 943.0 / 360.0 + 39.0; // angle * 943 / 360 + 39 makes angle be same scale of read \n",
    "                                             //  voltage from analog pin\n",
    "\n",
    "  if (isItEveryTenMillis(millis(), dt)) { // run following commands on every 10ms\n",
    "    int angleC, input;\n",
    "\n",
    "    angleC = getCurrentAngle(); // get current voltage read from analog pin\n",
    "    updateErrorData(angleD, angleC, dt); // update current, last errors and P, I, D errors\n",
    "    input = getInput(P, I, D); // set input based on PID control theory\n",
    "    actuateMotor(input); // actuate the motor according to calculated input\n",
    "\n",
    "    sendDataToPython(angleC, P, I, D); // send current angle and P, I, D errors to python through serial communication\n",
    "    getDataFromPython(); // get the data which determines to turn on or off PID control, and kP, kI, kD from python\n",
    "  }\n",
    "}\n",
    "\n",
    "int getInput(float P, float I, float D) { // return sum of P, I, D errors\n",
    "  int input = (int)(P + I + D);\n",
    "\n",
    "  if (input > 255)\n",
    "    input = 255;\n",
    "  else if (input < 0)\n",
    "    input = 0;\n",
    "\n",
    "  return input;\n",
    "}\n",
    "\n",
    "bool isItEveryTenMillis(unsigned long currTime, float dt) { // check the loop if it is excuted more than 10ms ago\n",
    "  if (currTime - prevTime > dt * 1000) {\n",
    "    prevTime = currTime;\n",
    "    return true;\n",
    "  }\n",
    "  return false;\n",
    "}\n",
    "\n",
    "void updateErrorData(int angleD, int angleC, float dt) {\n",
    "  int errorC = angleD - angleC; // error is defined as 'desired angle - current angle'\n",
    "\n",
    "  if (PID) { // when PID control is running\n",
    "    P = kP * errorC; // proportional error\n",
    "    I += kI * errorC * dt; // integral error\n",
    "    D = kD * (errorC - errorL) / dt; // derivative error\n",
    "    errorL = errorC; // current error is going to be old error\n",
    "  }\n",
    "  else { // when PID control isn't running\n",
    "    P = 0;\n",
    "    I = 0;\n",
    "    D = 0;\n",
    "  }\n",
    "}\n",
    "\n",
    "void actuateMotor(int input) {\n",
    "  analogWrite(motorPin, input); // input values for motor\n",
    "}\n",
    "\n",
    "void sendDataToPython(int angleC, float P, float I, float D) { // send data\n",
    "  Serial.print(angleC);\n",
    "  Serial.print(\",\");\n",
    "  Serial.print(P);\n",
    "  Serial.print(\",\");\n",
    "  Serial.print(I);\n",
    "  Serial.print(\",\");\n",
    "  Serial.println(D);\n",
    "}\n",
    "\n",
    "void getDataFromPython() {\n",
    "  if (Serial.available()) { \n",
    "    String sPID = \"\", sKP = \"\", sKI = \"\", sKD = \"\";\n",
    "    String data = Serial.readStringUntil('\\n'); // get data with 10 digits\n",
    "\n",
    "    sPID += data[0]; // index 0 for PID on, off\n",
    "    sKP += data[1]; // index 1 ~ 3 for kP\n",
    "    sKP += data[2];\n",
    "    sKP += data[3];\n",
    "    sKI += data[4]; // index 4 ~ 6 for kI\n",
    "    sKI += data[5];\n",
    "    sKI += data[6];\n",
    "    sKD += data[7]; // index 7 ~ 9 for kD\n",
    "    sKD += data[8];\n",
    "    sKD += data[9];\n",
    "\n",
    "    PID = sPID.toInt();\n",
    "    kP = float(sKP.toInt()) / 100.0;\n",
    "    kI = float(sKI.toInt()) / 100.0;\n",
    "    kD = float(sKD.toInt()) / 100.0;\n",
    "  }\n",
    "}\n",
    "\n",
    "int getCurrentAngle() {\n",
    "  int angleC = analogRead(analoPin); // Read current voltage\n",
    "\n",
    "  return angleC;\n",
    "}\n",
    "\n",
    "```"
   ]
  },
  {
   "cell_type": "markdown",
   "metadata": {},
   "source": [
    "__Python code__\n",
    "\n",
    "```python\n",
    "\n",
    "import serial\n",
    "import numpy as np\n",
    "from matplotlib import pyplot as plt\n",
    "from matplotlib import animation\n",
    "from matplotlib.widgets import Slider, Button, CheckButtons\n",
    "\n",
    "#################################################################\n",
    "############################# setup #############################\n",
    "#################################################################\n",
    "\n",
    "ser = serial.Serial('COM14', 9600)\n",
    "\n",
    "leng = 200\n",
    "fig = plt.figure(figsize=(12, 8))\n",
    "ax1 = fig.add_subplot(4, 1, 1)\n",
    "ax2 = fig.add_subplot(4, 1, 2)\n",
    "ax3 = fig.add_subplot(4, 1, 3)\n",
    "ax4 = fig.add_subplot(4, 1, 4)\n",
    "plt.subplots_adjust(bottom=0.225)\n",
    "\n",
    "ax1.set_title('Real-time System Response with PID')\n",
    "ax1.set_ylabel('Angle [Degree]')\n",
    "ax1.set_xlim(0, leng)\n",
    "ax1.set_ylim(90, 270)\n",
    "ax1.grid(True)\n",
    "\n",
    "angleR, = ax1.plot([], [], 'b',  label = 'angleR')\n",
    "angleD, = ax1.plot([], [], 'k--', label = 'angleD')\n",
    "\n",
    "errorP, = ax2.plot([], [], 'r',  label = 'P')\n",
    "errorI, = ax3.plot([], [], 'g',  label = 'I')\n",
    "errorD, = ax4.plot([], [], 'b',  label = 'D')\n",
    "\n",
    "axes = [ax2, ax3, ax4]\n",
    "axel = ['P', 'I', 'D']\n",
    "\n",
    "for i in range(3):\n",
    "    axes[i].set_ylabel(axel[i])\n",
    "    axes[i].set_xlim(0, leng)\n",
    "    axes[i].set_ylim(-2, 2)\n",
    "    axes[i].grid(True)\n",
    "    axes[i].legend(loc='upper left')\n",
    "\n",
    "\n",
    "ax1.legend(loc='upper left')\n",
    "\n",
    "\n",
    "time = list(range(0, leng + 1))\n",
    "angle = []\n",
    "dataP = []\n",
    "dataI = []\n",
    "dataD = []\n",
    "\n",
    "for i in range(0, leng + 1):\n",
    "    angle.append(180)\n",
    "    dataP.append(0)\n",
    "    dataI.append(0)\n",
    "    dataD.append(0)\n",
    "\n",
    "#################################################################\n",
    "####################### Adjust kP, kI, kD #######################\n",
    "#################################################################\n",
    "\n",
    "kP = 0.45\n",
    "kI = 0.90\n",
    "kD = 0.10\n",
    "\n",
    "axcolor = 'lightgoldenrodyellow'\n",
    "axP = plt.axes([0.125, 0.15, 0.62, 0.025], axisbg=axcolor)\n",
    "axI = plt.axes([0.125, 0.10, 0.62, 0.025], axisbg=axcolor)\n",
    "axD = plt.axes([0.125, 0.05, 0.62, 0.025], axisbg=axcolor)\n",
    "\n",
    "sP = Slider(axP, 'kP', 0.09, 0.90, valinit=kP)\n",
    "sI = Slider(axI, 'kI', 0.18, 1.80, valinit=kI)\n",
    "sD = Slider(axD, 'kD', 0.02, 0.20, valinit=kD)\n",
    "\n",
    "def update(val):\n",
    "    global kP, kI, kD\n",
    "    kP = sP.val\n",
    "    kI = sI.val\n",
    "    kD = sD.val\n",
    "\n",
    "sP.on_changed(update)\n",
    "sI.on_changed(update)\n",
    "sD.on_changed(update)\n",
    "\n",
    "#################################################################\n",
    "################# Visualize P, I, D + PID Off ###################\n",
    "#################################################################\n",
    "\n",
    "PID = False\n",
    "\n",
    "axcheck = plt.axes([0.80, 0.04, 0.1, 0.15])\n",
    "check = CheckButtons(axcheck, ('Show P', 'Show I', 'Show D', 'PID On'),\n",
    "                     (True, True, True, False))\n",
    "\n",
    "def checkFunc(label):\n",
    "    global PID\n",
    "    if label == 'Show P':\n",
    "        errorP.set_visible(not errorP.get_visible())\n",
    "    elif label == 'Show I':\n",
    "        errorI.set_visible(not errorI.get_visible())\n",
    "    elif label == 'Show D':\n",
    "        errorD.set_visible(not errorD.get_visible())\n",
    "    elif label == 'PID On':\n",
    "        PID = not PID\n",
    "    plt.draw()\n",
    "check.on_clicked(checkFunc)\n",
    "\n",
    "#################################################################\n",
    "######################## Animation Loop #########################\n",
    "#################################################################\n",
    "\n",
    "def init():\n",
    "    angleR.set_data([], [])\n",
    "    angleD.set_data([0, 201], [180, 180])\n",
    "    errorP.set_data([], [])\n",
    "    errorI.set_data([], [])\n",
    "    errorD.set_data([], [])\n",
    "    return angleR, angleD, errorP, errorI, errorD,\n",
    "\n",
    "def animate(i):\n",
    "    global time, angle, dataP, dataI, dataD, PID, kP, kI, kD\n",
    "\n",
    "    while (ser.inWaiting() == 0):\n",
    "        pass\n",
    "    \n",
    "    try:\n",
    "        arduinoString = ser.readline().decode(\"utf-8\")\n",
    "        dataArray = (arduinoString.split(','))\n",
    "\n",
    "        angle.append((float(dataArray[0]) - 39) * 360 / 943)\n",
    "        angle.pop(0)\n",
    "        dataP.append(float(dataArray[1]) / 100)\n",
    "        dataP.pop(0)\n",
    "        dataI.append(float(dataArray[2]) / 100)\n",
    "        dataI.pop(0)\n",
    "        dataD.append(float(dataArray[3]) / 100)\n",
    "        dataD.pop(0)\n",
    "\n",
    "        message = str(int(PID))\n",
    "\n",
    "        ks = [kP, kI, kD]\n",
    "        for k in ks:\n",
    "            k100 = int(k * 100)\n",
    "            message += str(k100       // 100)\n",
    "            message += str(k100 % 100 // 10 )\n",
    "            message += str(k100 % 10        )\n",
    "        message += '\\n'\n",
    "        ser.write(message.encode('ascii'))\n",
    "\n",
    "        angleR.set_data(time, angle)\n",
    "        errorP.set_data(time, dataP)\n",
    "        errorI.set_data(time, dataI)\n",
    "        errorD.set_data(time, dataD)\n",
    "    except:\n",
    "        pass\n",
    "    \n",
    "    return angleR, angleD, errorP, errorI, errorD,\n",
    "\n",
    "delay = 10\n",
    "anim = animation.FuncAnimation(fig, animate, init_func=init,\n",
    "                               interval=delay, blit=True)\n",
    "\n",
    "plt.show()\n",
    "```"
   ]
  },
  {
   "cell_type": "code",
   "execution_count": 12,
   "metadata": {
    "collapsed": false
   },
   "outputs": [
    {
     "data": {
      "application/javascript": [
       "$.getScript('https://kmahelona.github.io/ipython_notebook_goodies/ipython_notebook_toc.js')"
      ],
      "text/plain": [
       "<IPython.core.display.Javascript object>"
      ]
     },
     "metadata": {},
     "output_type": "display_data"
    }
   ],
   "source": [
    "%%javascript\n",
    "$.getScript('https://kmahelona.github.io/ipython_notebook_goodies/ipython_notebook_toc.js')"
   ]
  }
 ],
 "metadata": {
  "anaconda-cloud": {},
  "kernelspec": {
   "display_name": "Python 3",
   "language": "python",
   "name": "python3"
  },
  "language_info": {
   "codemirror_mode": {
    "name": "ipython",
    "version": 3
   },
   "file_extension": ".py",
   "mimetype": "text/x-python",
   "name": "python",
   "nbconvert_exporter": "python",
   "pygments_lexer": "ipython3",
   "version": "3.5.2"
  }
 },
 "nbformat": 4,
 "nbformat_minor": 0
}

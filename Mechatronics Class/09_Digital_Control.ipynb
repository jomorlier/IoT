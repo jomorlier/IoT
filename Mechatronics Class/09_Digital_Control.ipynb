{
 "cells": [
  {
   "cell_type": "markdown",
   "metadata": {
    "collapsed": true
   },
   "source": [
    "<font size='6'><b>Digital Control</b></font><br><br>\n",
    "\n",
    "<table style=\"border-style: hidden; border-collapse: collapse;\" width = \"80%\"> \n",
    "    <tr style=\"border-style: hidden; border-collapse: collapse;\">\n",
    "        <td width = 50% style=\"border-style: hidden; border-collapse: collapse;\">\n",
    "\n",
    "        </td>\n",
    "        <td width = 30%>\n",
    "        by Seungchul Lee<br>iSystems Design lab<br>http://isystems.unist.ac.kr/<br>UNIST\n",
    "        </td>\n",
    "    </tr>\n",
    "</table>\n",
    "\n",
    "Table of Contents\n",
    "<div id=\"toc\"></div>"
   ]
  },
  {
   "cell_type": "markdown",
   "metadata": {
    "collapsed": true
   },
   "source": [
    "# Control Systems\n",
    "\n",
    "Microcomputers are widely employed in control systems:\n",
    "\n",
    "- automotive ABS, ignition and fuel systems\n",
    "\n",
    "- household appliances\n",
    "\n",
    "- smart weapons\n",
    "\n",
    "- industrial robots\n",
    "\n",
    "Human-in-the-loop\n",
    "\n",
    "## Strategy\n",
    "\n",
    "- plant is a system that is intended to be controlled\n",
    "\n",
    "- collect information concerning the plant - data acquisition system (DAQ)\n",
    "\n",
    "- compare with desired performance\n",
    "\n",
    "- generate outputs to bring plant closer to desired performance\n",
    "\n",
    "## Performance metrics\n",
    "\n",
    "- steady-state controller error\n",
    "    - an average value of the difference between desired and actual performance\n",
    "\n",
    "- transient response\n",
    "    - how quickly the system responds to change\n",
    "\n",
    "- stability\n",
    "    - system output changes smoothly without too much oscillation or unlimited excursions\n",
    "\n",
    "## Open-loop control\n",
    "\n",
    "- state estimator eliminated\n",
    "    - not well suited for a complex plant\n",
    "\n",
    "- assumes disturbing forces have little effect on the plant\n",
    "\n",
    "- less expensive than closed-loop control\n",
    "    - example: electric toaster\n",
    "\n",
    "## Closed-loop control\n",
    "\n",
    "- feedback loop implementation\n",
    "    - suitable for a complex plant\n",
    "\n",
    "- sensors and state estimator produce representaiton/estimation of state variables\n",
    "\n",
    "- these values are compared to desired values\n",
    "\n",
    "- control software generates control commands based upon the differences between estimated and desired values\n"
   ]
  },
  {
   "cell_type": "markdown",
   "metadata": {},
   "source": [
    "# PID Control\n",
    "\n",
    "$$\n",
    "\\begin{align*}\n",
    "E &= X^{*} - X\\\\ \\\\\n",
    "U &= U_p + U_i + U_d\n",
    "\\end{align*}\n",
    "$$\n",
    "\n",
    "<br>\n",
    "$$\n",
    "\\begin{align*}\n",
    "\\text{Proportional} \\qquad & U_p = K_p E \\\\ \\\\\n",
    "\\text{Integral} \\qquad & U_i = U_i + K_i \\, E \\, \\Delta t \\\\ \\\\\n",
    "\\text{Derivative} \\qquad & U_d = K_d \\, \\frac{E[n] - E[n-1]}{\\Delta t}\n",
    "\\end{align*}\n",
    "$$\n",
    "\n",
    "- Rule of thumb\n",
    "    - Run 10 times faster than a plant time constant\n",
    "    - Run slower or equal to sensor sampling rate\n",
    "    - if sensor signals are too noisy, do not use a derivative term in a feedback control\n",
    "    - if there is a delay in a closed-loop, the system tends to be unstable\n",
    "    - lifesaver: $\\min \\leq U \\leq \\max$"
   ]
  },
  {
   "cell_type": "code",
   "execution_count": 1,
   "metadata": {
    "collapsed": false
   },
   "outputs": [
    {
     "data": {
      "text/html": [
       "<iframe src=\"https://www.youtube.com/embed/UVAn6sGnQ38\" \n",
       "width=\"420\" height=\"315\" frameborder=\"0\" allowfullscreen></iframe>"
      ],
      "text/plain": [
       "<IPython.core.display.HTML object>"
      ]
     },
     "metadata": {},
     "output_type": "display_data"
    }
   ],
   "source": [
    "%%html\n",
    "<iframe src=\"https://www.youtube.com/embed/UVAn6sGnQ38\" \n",
    "width=\"420\" height=\"315\" frameborder=\"0\" allowfullscreen></iframe>"
   ]
  },
  {
   "cell_type": "code",
   "execution_count": 2,
   "metadata": {
    "collapsed": false
   },
   "outputs": [
    {
     "data": {
      "text/html": [
       "<iframe src=\"https://www.youtube.com/embed/B5OVCONRZP0\"\n",
       "width=\"420\" height=\"315\" frameborder=\"0\" allowfullscreen></iframe>"
      ],
      "text/plain": [
       "<IPython.core.display.HTML object>"
      ]
     },
     "metadata": {},
     "output_type": "display_data"
    }
   ],
   "source": [
    "%%html\n",
    "<iframe src=\"https://www.youtube.com/embed/B5OVCONRZP0\"\n",
    "width=\"420\" height=\"315\" frameborder=\"0\" allowfullscreen></iframe>"
   ]
  },
  {
   "cell_type": "markdown",
   "metadata": {},
   "source": [
    "Mobile robot\n",
    "\n",
    "MIT control - single rotor"
   ]
  },
  {
   "cell_type": "code",
   "execution_count": 1,
   "metadata": {
    "collapsed": false
   },
   "outputs": [
    {
     "data": {
      "application/javascript": [
       "$.getScript('https://kmahelona.github.io/ipython_notebook_goodies/ipython_notebook_toc.js')"
      ],
      "text/plain": [
       "<IPython.core.display.Javascript object>"
      ]
     },
     "metadata": {},
     "output_type": "display_data"
    }
   ],
   "source": [
    "%%javascript\n",
    "$.getScript('https://kmahelona.github.io/ipython_notebook_goodies/ipython_notebook_toc.js')"
   ]
  }
 ],
 "metadata": {
  "kernelspec": {
   "display_name": "Python 2",
   "language": "python",
   "name": "python2"
  },
  "language_info": {
   "codemirror_mode": {
    "name": "ipython",
    "version": 2
   },
   "file_extension": ".py",
   "mimetype": "text/x-python",
   "name": "python",
   "nbconvert_exporter": "python",
   "pygments_lexer": "ipython2",
   "version": "2.7.10"
  }
 },
 "nbformat": 4,
 "nbformat_minor": 0
}

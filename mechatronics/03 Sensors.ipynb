{
 "cells": [
  {
   "cell_type": "markdown",
   "metadata": {
    "collapsed": true
   },
   "source": [
    "<font size='6'><b>Sensors</b></font><br><br>\n",
    "\n",
    "<table style=\"border-style: hidden; border-collapse: collapse;\" width = \"80%\"> \n",
    "    <tr style=\"border-style: hidden; border-collapse: collapse;\">\n",
    "        <td width = 60% style=\"border-style: hidden; border-collapse: collapse;\">\n",
    "\n",
    "        </td>\n",
    "        <td width = 20%>\n",
    "        by Seungchul Lee<br>iSystems Design Lab<br>UNIST<br>http://isystems.unist.ac.kr/\n",
    "        </td>\n",
    "    </tr>\n",
    "</table>\n",
    "\n",
    "Table of Contents\n",
    "<div id=\"toc\"></div>"
   ]
  },
  {
   "cell_type": "markdown",
   "metadata": {},
   "source": [
    "# 1. Sensors\n",
    "\n",
    "- Allow the microcontroller to receive information about the environment\n",
    "    - How bright is it?\n",
    "    - How loud is it?\n",
    "    - How humid isit?\n",
    "    - Is the button being pressed?\n",
    "\n",
    "- Perform operations based on the state of the environment\n",
    "\n",
    "- Trun on a light if it's dark out\n",
    "    - Voice-controlled operation\n",
    "\n",
    "**Sensing the Environment**\n",
    "\n",
    "- Microcontrollers sense voltage\n",
    "    - `digitalRead(pin)` returns state of a digital pin\n",
    "    - `ananlogRead(pin)` returns the analog voltage on a pin\n",
    "- Sensor logic must convert an environmental effect into voltage  \n",
    "\n",
    "\n",
    "## 2.1. Reading a Pushbutton\n",
    "\n",
    "- Make a pin high when the button is pressed, and low when it is not pressed\n",
    "<br>\n",
    "<img src = \"./image_files/reading.png\" style=\"border:1px solid black\", width =500>\n",
    "<br>"
   ]
  },
  {
   "cell_type": "markdown",
   "metadata": {},
   "source": [
    "<font size='4'><b>Lab: Detecting Motion (Integrating Passive Infrared Detectors)</b></font>\n",
    "\n",
    "<table style=\"border-style: hidden; border-collapse: collapse;\" width = \"96%\"> \n",
    "    <tr style=\"border-style: hidden; border-collapse: collapse;\">\n",
    "        <td width = 30% style=\"border-style: hidden; border-collapse: collapse;\">\n",
    "- Some sensors control voltage directly<br>\n",
    "- Signal is pulled low when motion is detected<br>\n",
    "- Open-collector: signal floats without motion   \n",
    "        </td>\n",
    "        <td width = 30% style=\"border-style: hidden; border-collapse: collapse;\">\n",
    "<img src = \"./image_files/pirsensor.jpg\" width = 300>\n",
    "        </td>        \n",
    "        <td width = 30% style=\"border-style: hidden; border-collapse: collapse;\">\n",
    "<img src = \"./image_files/proximity_pirardbb.gif\" width = 400>\n",
    "        </td>        \n",
    "    </tr>\n",
    "</table>\n",
    "\n",
    "```c\n",
    "/*\n",
    "PIR sketch\n",
    "a Passive Infrared motion sensor connected to pin 2\n",
    "lights the LED on pin 13\n",
    "*/\n",
    "\n",
    "const int ledPin = 13;              // choose the pin for the LED\n",
    "const int inputPin = 2;             // choose the input pin (for the PIR sensor)\n",
    "\n",
    "void setup() {\n",
    "  pinMode(ledPin, OUTPUT);          // declare LED as output\n",
    "  pinMode(inputPin, INPUT);         // declare pushbutton as input\n",
    "}\n",
    "\n",
    "void loop() {\n",
    "  int val = digitalRead(inputPin);  // read input value\n",
    "  if (val == HIGH)                  // check if the input is HIGH\n",
    "  {\n",
    "    digitalWrite(ledPin, HIGH);     // turn LED on if motion detected\n",
    "    delay(500);\n",
    "    digitalWrite(ledPin, LOW);      // turn LED off\n",
    "  }\n",
    "}\n",
    "```"
   ]
  },
  {
   "cell_type": "markdown",
   "metadata": {},
   "source": [
    "## 2.2. Resistive Sensors\n",
    "\n",
    "<table style=\"border-style: hidden; border-collapse: collapse;\" width = \"96%\"> \n",
    "    <tr style=\"border-style: hidden; border-collapse: collapse;\">\n",
    "        <td width = 48% style=\"border-style: hidden; border-collapse: collapse;\">\n",
    "- Many sensors change resistance<br>\n",
    "    $\\quad$- Photoresistor, thermistor, flex resistor, etc.<br>\n",
    "- Connect sensor in a voltage divider             \n",
    "        </td>\n",
    "        <td width = 48%>\n",
    "<img src = \"./image_files/resistivesensors.png\" style=\"border:1px solid black\", width =500>\n",
    "        </td>\n",
    "    </tr>\n",
    "</table>"
   ]
  },
  {
   "cell_type": "markdown",
   "metadata": {},
   "source": [
    "<font size='4'><b>Lab: Photoresistor Light Dependent Resistor (LDR)</b></font>\n",
    "\n",
    "- sense light levels, measure those levels with the Arduino and print the measurements to the Serial port\n",
    "\n",
    "- LDR is a variable resistor (varying with Light). So we need to convert the varying resistance to a voltage that the Arduino can measure.\n",
    "\n",
    "- We do that by using the LDR and a Resistor in a Potential Divider circuit.\n",
    "\n",
    "<table style=\"border-style: hidden; border-collapse: collapse;\" width = \"96%\"> \n",
    "    <tr style=\"border-style: hidden; border-collapse: collapse;\">\n",
    "        <td width = 48% style=\"border-style: hidden; border-collapse: collapse;\">\n",
    "- As brightness increases, resistance decreases<br>\n",
    "- Resistance = 10K Ohms, voltage = 2.5 Volts<br>\n",
    "- Resistance = 5K Ohms, voltage = 3.3 Volts             \n",
    "        </td>\n",
    "        <td width = 48%>\n",
    "<img src = \"./image_files/photoresistor.png\" style=\"border:1px solid black\", width =200>\n",
    "        </td>\n",
    "    </tr>\n",
    "</table>\n",
    "\n",
    "<table style=\"border-style: hidden; border-collapse: collapse;\" width = \"80%\"> \n",
    "    <tr style=\"border-style: hidden; border-collapse: collapse;\">\n",
    "        <td width = 40% style=\"border-style: hidden; border-collapse: collapse;\">\n",
    "<img src = \"./image_files/ldr_schem.jpg\" width = 250>          \n",
    "        </td>\n",
    "        <td width = 40%>\n",
    "<img src = \"./image_files/ldr_fritz.jpg\" width = 250>\n",
    "        </td>\n",
    "    </tr>\n",
    "</table>\n",
    "\n",
    "```c\n",
    "int lightPin = A0;       // define a pin for Photo resistor\n",
    "\n",
    "void setup() {\n",
    "  Serial.begin(9600);   // Begin serial communcation\n",
    "}\n",
    "\n",
    "void loop() {\n",
    "  Serial.println(analogRead(lightPin)); // Write the value of the photoresistor to the serial monitor.\n",
    "  delay(10);                            // short delay for faster response to light.\n",
    "}\n",
    "```"
   ]
  },
  {
   "cell_type": "code",
   "execution_count": 2,
   "metadata": {
    "collapsed": false
   },
   "outputs": [
    {
     "data": {
      "text/html": [
       "<iframe src=\"./video_files/Note2/Note2_Lab_01.mp4\" \n",
       "width=\"640\" height=\"360\" frameborder=\"0\" allowfullscreen></iframe>"
      ],
      "text/plain": [
       "<IPython.core.display.HTML object>"
      ]
     },
     "metadata": {},
     "output_type": "display_data"
    }
   ],
   "source": [
    "%%html\n",
    "<iframe src=\"./video_files/Note2/Note2_Lab_01.mp4\" \n",
    "width=\"640\" height=\"360\" frameborder=\"0\" allowfullscreen></iframe>"
   ]
  },
  {
   "cell_type": "markdown",
   "metadata": {},
   "source": [
    "## 2.3. Lab: Measuring Distance\n",
    "\n",
    "You want to measure the distance to something, such as a wall or someone walking toward the Arduino.\n",
    "\n",
    "<img src = \"./image_files/Ultrasonic Sensor.png\" style=\"border:1px solid black\", width = 400>\n",
    "\n",
    "```c\n",
    "\n",
    "\n",
    "#define sensorTrigPin    4\n",
    "#define sensorEchoPin    2\n",
    "\n",
    "long distance;\n",
    "long time;\n",
    "\n",
    "void setup()\n",
    "{\n",
    "    Serial.begin(9600);\n",
    "    pinMode(sensorTrigPin, OUTPUT);\n",
    "    pinMode(sensorEchoPin, INPUT);\n",
    "}\n",
    "\n",
    "void loop(){\n",
    "    digitalWrite(4, HIGH);   //was (2, LOW)\n",
    "    delayMicroseconds(10);   //was (5)\n",
    "    digitalWrite(4, LOW);    //was (2, HIGH)\n",
    "    //REMOVED EXTRA DELAY\n",
    "\n",
    "    time = pulseIn(2, HIGH);  //was (4,HIGH);\n",
    "    int pulseWidth = 0;\n",
    "\n",
    "    digitalWrite(sensorTrigPin, HIGH);\n",
    "    delayMicroseconds(10);\n",
    "    digitalWrite(sensorTrigPin, LOW);\n",
    "\n",
    "    pulseWidth = pulseIn(sensorEchoPin, HIGH);\n",
    "\n",
    "    distance = int(0.017*time); \n",
    "\n",
    "    Serial.print(\"Distance: \");\n",
    "    Serial.print(distance);\n",
    "    Serial.println(\" cm\");\n",
    "    delay(1000);\n",
    "}\n",
    "\n",
    "\n",
    "\n",
    "```"
   ]
  },
  {
   "cell_type": "markdown",
   "metadata": {
    "collapsed": true
   },
   "source": [
    "## 2.4. Lab: Measuring Temperature (calibration ?)\n",
    "\n",
    "- Thermistors are simple, inexpensive, and accurate components that make it easy to get temperature readings\n",
    "\n",
    "<img src = \"./image_files/thermistor_fritz.png\" style=\"border:1px solid black\", width = 500>\n",
    "\n",
    "\n",
    "http://www.circuitbasics.com/arduino-thermistor-temperature-sensor-tutorial/\n",
    "\n",
    "```c\n",
    "#include <math.h>\n",
    "\n",
    "double ThermistorF(int RawADC) {\n",
    "  double Temp;\n",
    "  Temp = log(10000.0 * ((1024.0 / RawADC - 1)));\n",
    "  Temp = 1 / (0.001129148 + (0.000234125 + (0.0000000876741 * Temp * Temp )) * Temp );\n",
    "  Temp = Temp - 273.15;\n",
    "  Temp = (Temp * 9.0) / 5.0 + 32.0;\n",
    "  return Temp;\n",
    "}\n",
    "\n",
    "double ThermistorC(int RawADC) {\n",
    "  double Temp;\n",
    "  Temp = log(10000.0 * ((1024.0 / RawADC - 1)));\n",
    "  Temp = 1 / (0.001129148 + (0.000234125 + (0.0000000876741 * Temp * Temp )) * Temp );\n",
    "  Temp = Temp - 273.15;\n",
    "  return Temp;\n",
    "}\n",
    "\n",
    "void setup() {\n",
    "  Serial.begin(9600);\n",
    "}\n",
    "\n",
    "void loop() {\n",
    "  int valF, valC;\n",
    "  double tempF, tempC;\n",
    "  val = analogRead(0);\n",
    "  tempF = ThermistorF(val);  \n",
    "  tempC = ThermistorC(val);\n",
    "\n",
    "  Serial.print(\"Temperature = \");\n",
    "  Serial.print(tempF);\n",
    "  Serial.print(\" F; \");\n",
    "  Serial.print(tempC);\n",
    "  Serial.println(\" C\");\n",
    "  delay(1000);\n",
    "}\n",
    "```\n",
    "\n"
   ]
  },
  {
   "cell_type": "markdown",
   "metadata": {
    "collapsed": true
   },
   "source": [
    "Use TMP36 Temp Sensor\n",
    "\n",
    "- https://learn.adafruit.com/tmp36-temperature-sensor/using-a-temp-sensor\n",
    "\n",
    "<img src = \"./image_files/tmp36fritz.gif\" style=\"border:1px solid black\", width = 400>\n",
    "\n",
    "```c\n",
    "//TMP36 Pin Variables\n",
    "int sensorPin = 0; //the analog pin the TMP36's Vout (sense) pin is connected to\n",
    "//the resolution is 10 mV / degree centigrade with a\n",
    "//500 mV offset to allow for negative temperatures\n",
    "\n",
    "/*\n",
    " * setup() - this function runs once when you turn your Arduino on\n",
    " * We initialize the serial connection with the computer\n",
    " */\n",
    "void setup() {\n",
    "  Serial.begin(9600);  //Start the serial connection with the computer\n",
    "  //to view the result open the serial monitor\n",
    "}\n",
    "\n",
    "void loop() {                    // run over and over again\n",
    "  //getting the voltage reading from the temperature sensor\n",
    "  int reading = analogRead(sensorPin);\n",
    "\n",
    "  // converting that reading to voltage, for 3.3v arduino use 3.3\n",
    "  float voltage = reading * 5.0;\n",
    "  voltage /= 1024.0;\n",
    "\n",
    "  // print out the voltage\n",
    "  Serial.print(voltage); \n",
    "  Serial.println(\" volts\");\n",
    "\n",
    "  // now print out the temperature\n",
    "  float temperatureC = (voltage - 0.5) * 100 ;  //converting from 10 mv per degree wit 500 mV offset\n",
    "  //to degrees ((voltage - 500mV) times 100)\n",
    "  Serial.print(temperatureC); \n",
    "  Serial.println(\" degrees C\");\n",
    "\n",
    "  // now convert to Fahrenheit\n",
    "  float temperatureF = (temperatureC * 9.0 / 5.0) + 32.0;\n",
    "  Serial.print(temperatureF); \n",
    "  Serial.println(\" degrees F\");\n",
    "\n",
    "  delay(1000);                                     //waiting a second\n",
    "}\n",
    "```"
   ]
  },
  {
   "cell_type": "markdown",
   "metadata": {},
   "source": [
    "## 2.5. Other Voltage - Controlling Sensors\n",
    "\n",
    "<table style=\"border-style: hidden; border-collapse: collapse;\" width = \"96%\"> \n",
    "    <tr style=\"border-style: hidden; border-collapse: collapse;\">\n",
    "        <td width = 48% style=\"border-style: hidden; border-collapse: collapse;\">\n",
    "- Accelerometer reports acceleration in 3 dimensions<br>\n",
    "- Gyroscope reports angular velocity in 2 dimensions             \n",
    "        </td>\n",
    "        <td width = 48%>\n",
    "<img src = \"./image_files/othersensor.png\" style=\"border:1px solid black\", width =400>\n",
    "        </td>\n",
    "    </tr>\n",
    "</table>"
   ]
  },
  {
   "cell_type": "markdown",
   "metadata": {
    "collapsed": true
   },
   "source": [
    "# 3. Debouncing\n",
    "\n",
    "## 3.1. Lab: Blinking LED using Button\n",
    "\n",
    "\n",
    "\n",
    "<img src = \"./image_files/d7.png\" style=\"border:1px solid black\", width =500>\n",
    "\n",
    "```c\n",
    "const int led    =   8;       //name pin 8 as led\n",
    "const int button =   9;       //name pin 9 as button\n",
    "\n",
    "void setup() {\n",
    "  pinMode(led, OUTPUT);       //set pin 8 as OUTPUT\n",
    "  pinMode(button, INPUT)  ;   //set pin 9 as INPUT\n",
    "}\n",
    "\n",
    "void loop() {\n",
    "  int reads = digitalRead(button);  //read the digital value on pin 9\n",
    "  digitalWrite(led, reads);         //set the digital output value of pin 8 to that value\n",
    "}\n",
    "```\n",
    "\n",
    "- Pushbuttons often generate spurious open/close transitions when pressed, due to mechanical and physical issues: \n",
    "\n",
    "- these transitions may be read as multiple presses in a very short time fooling the program. \n",
    "\n",
    "- checking twice in a short period of time to make sure the pushbutton is definitely pressed.\n",
    "\n",
    "<img src = \"./image_files/debounceswitchb.jpg\" style=\"border:1px solid black\", width =500>\n"
   ]
  },
  {
   "cell_type": "code",
   "execution_count": 1,
   "metadata": {
    "collapsed": false
   },
   "outputs": [
    {
     "data": {
      "text/html": [
       "<iframe src=\"./video_files/Note2/Note2_Lab_02.mp4\" \n",
       "width=\"640\" height=\"360\" frameborder=\"0\" allowfullscreen></iframe>"
      ],
      "text/plain": [
       "<IPython.core.display.HTML object>"
      ]
     },
     "metadata": {},
     "output_type": "display_data"
    }
   ],
   "source": [
    "%%html\n",
    "<iframe src=\"./video_files/Note2/Note2_Lab_02.mp4\" \n",
    "width=\"640\" height=\"360\" frameborder=\"0\" allowfullscreen></iframe>"
   ]
  },
  {
   "cell_type": "markdown",
   "metadata": {
    "collapsed": true
   },
   "source": [
    "## 3.2. Lab: Software Debounce\n",
    "\n",
    "https://www.arduino.cc/en/Tutorial/Debounce\n",
    "\n",
    "```c\n",
    "const int buttonPin = 2;    // the number of the pushbutton pin\n",
    "const int ledPin = 13;      // the number of the LED pin\n",
    "\n",
    "// Variables will change:\n",
    "int ledState = HIGH;         // the current state of the output pin\n",
    "int buttonState;             // the current reading from the input pin\n",
    "int lastButtonState = LOW;   // the previous reading from the input pin\n",
    "long lastDebounceTime = 0;  // the last time the output pin was toggled\n",
    "long debounceDelay = 50;    // the debounce time; increase if the output flickers\n",
    "\n",
    "void setup() {\n",
    "  pinMode(buttonPin, INPUT);\n",
    "  pinMode(ledPin, OUTPUT);\n",
    "\n",
    "  // set initial LED state\n",
    "  digitalWrite(ledPin, ledState);\n",
    "}\n",
    "\n",
    "void loop() {\n",
    "  // read the state of the switch into a local variable:\n",
    "  int reading = digitalRead(buttonPin);\n",
    "\n",
    "  // check to see if you just pressed the button\n",
    "  // (i.e. the input went from LOW to HIGH),  and you've waited\n",
    "  // long enough since the last press to ignore any noise:\n",
    "\n",
    "  // If the switch changed, due to noise or pressing:\n",
    "  if (reading != lastButtonState) {\n",
    "    // reset the debouncing timer\n",
    "    lastDebounceTime = millis();\n",
    "  }\n",
    "\n",
    "  if ((millis() - lastDebounceTime) > debounceDelay) {\n",
    "    // whatever the reading is at, it's been there for longer\n",
    "    // than the debounce delay, so take it as the actual current state:\n",
    "\n",
    "    // if the button state has changed:\n",
    "    if (reading != buttonState) {\n",
    "      buttonState = reading;\n",
    "\n",
    "      // only toggle the LED if the new button state is HIGH\n",
    "      if (buttonState == HIGH) {\n",
    "        ledState = !ledState;\n",
    "      }\n",
    "    }\n",
    "  }\n",
    "\n",
    "  // set the LED:\n",
    "  digitalWrite(ledPin, ledState);\n",
    "\n",
    "  // save the reading.  Next time through the loop,\n",
    "  // it'll be the lastButtonState:\n",
    "  lastButtonState = reading;\n",
    "}\n",
    "```"
   ]
  },
  {
   "cell_type": "code",
   "execution_count": 3,
   "metadata": {
    "collapsed": false
   },
   "outputs": [
    {
     "data": {
      "text/html": [
       "<iframe src=\"./video_files/Note2/Note2_Lab_03.mp4\" \n",
       "width=\"640\" height=\"360\" frameborder=\"0\" allowfullscreen></iframe>"
      ],
      "text/plain": [
       "<IPython.core.display.HTML object>"
      ]
     },
     "metadata": {},
     "output_type": "display_data"
    }
   ],
   "source": [
    "%%html\n",
    "<iframe src=\"./video_files/Note2/Note2_Lab_03.mp4\" \n",
    "width=\"640\" height=\"360\" frameborder=\"0\" allowfullscreen></iframe>"
   ]
  },
  {
   "cell_type": "markdown",
   "metadata": {
    "collapsed": true
   },
   "source": [
    "## 3.3. Hardware debouncing (optional)\n",
    "\n"
   ]
  },
  {
   "cell_type": "code",
   "execution_count": 1,
   "metadata": {
    "collapsed": false
   },
   "outputs": [
    {
     "data": {
      "application/javascript": [
       "$.getScript('https://kmahelona.github.io/ipython_notebook_goodies/ipython_notebook_toc.js')"
      ],
      "text/plain": [
       "<IPython.core.display.Javascript object>"
      ]
     },
     "metadata": {},
     "output_type": "display_data"
    }
   ],
   "source": [
    "%%javascript\n",
    "$.getScript('https://kmahelona.github.io/ipython_notebook_goodies/ipython_notebook_toc.js')"
   ]
  }
 ],
 "metadata": {
  "kernelspec": {
   "display_name": "Python 3",
   "language": "python",
   "name": "python3"
  },
  "language_info": {
   "codemirror_mode": {
    "name": "ipython",
    "version": 3
   },
   "file_extension": ".py",
   "mimetype": "text/x-python",
   "name": "python",
   "nbconvert_exporter": "python",
   "pygments_lexer": "ipython3",
   "version": "3.5.2"
  }
 },
 "nbformat": 4,
 "nbformat_minor": 0
}
